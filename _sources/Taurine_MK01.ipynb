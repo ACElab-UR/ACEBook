{
 "cells": [
  {
   "cell_type": "markdown",
   "id": "cea20812",
   "metadata": {},
   "source": [
    "# Taurine Side Learning Y-maze"
   ]
  },
  {
   "cell_type": "markdown",
   "id": "79e6dea0",
   "metadata": {},
   "source": [
    "## Load packages"
   ]
  },
  {
   "cell_type": "code",
   "execution_count": 8,
   "id": "c3f5f22d",
   "metadata": {
    "scrolled": false,
    "vscode": {
     "languageId": "r"
    }
   },
   "outputs": [
    {
     "name": "stderr",
     "output_type": "stream",
     "text": [
      "Loading required package: reshape2\n",
      "\n",
      "Loading required package: lme4\n",
      "\n",
      "Loading required package: Matrix\n",
      "\n",
      "Loading required package: emmeans\n",
      "\n",
      "Loading required package: DHARMa\n",
      "\n",
      "This is DHARMa 0.4.5. For overview type '?DHARMa'. For recent changes, type news(package = 'DHARMa')\n",
      "\n",
      "Loading required package: AICcmodavg\n",
      "\n",
      "\n",
      "Attaching package: ‘AICcmodavg’\n",
      "\n",
      "\n",
      "The following object is masked from ‘package:lme4’:\n",
      "\n",
      "    checkConv\n",
      "\n",
      "\n"
     ]
    }
   ],
   "source": [
    "require(reshape2) # For data handling\n",
    "require(lme4) # Linear mixed-effects models\n",
    "require(emmeans) # Post-hoc analysis on the model\n",
    "require(DHARMa) # Evaluate model fit\n",
    "require(AICcmodavg) # For model selection and averaging"
   ]
  },
  {
   "cell_type": "markdown",
   "id": "7e6f6c9d",
   "metadata": {},
   "source": [
    "## Clean-up"
   ]
  },
  {
   "cell_type": "code",
   "execution_count": 3,
   "id": "6610d1f2",
   "metadata": {
    "vscode": {
     "languageId": "r"
    }
   },
   "outputs": [],
   "source": [
    "rm(list = ls()) # Remove variables/objects\n",
    "graphics.off() # Close any open graphics"
   ]
  },
  {
   "cell_type": "markdown",
   "id": "41a962ab",
   "metadata": {},
   "source": [
    "## Load data"
   ]
  },
  {
   "cell_type": "code",
   "execution_count": 4,
   "id": "a1533b22",
   "metadata": {
    "vscode": {
     "languageId": "r"
    }
   },
   "outputs": [
    {
     "data": {
      "text/html": [
       "<table class=\"dataframe\">\n",
       "<caption>A data.frame: 1 × 28</caption>\n",
       "<thead>\n",
       "\t<tr><th></th><th scope=col>Collection_Date</th><th scope=col>Time_Collection</th><th scope=col>Experimentor</th><th scope=col>Temperature</th><th scope=col>Colony_Origin</th><th scope=col>Starvation_Period</th><th scope=col>Donor_Colony</th><th scope=col>Recipient_Colony</th><th scope=col>Ant_ID</th><th scope=col>Visit</th><th scope=col>⋯</th><th scope=col>Out_Duration</th><th scope=col>Bridge_Nest_Duration</th><th scope=col>Total_Duration_Minutes</th><th scope=col>Trophallaxis</th><th scope=col>Full</th><th scope=col>Experiment</th><th scope=col>Initial_Binary</th><th scope=col>Final_Binary</th><th scope=col>Switched_Binary</th><th scope=col>TSM_Bin</th></tr>\n",
       "\t<tr><th></th><th scope=col>&lt;chr&gt;</th><th scope=col>&lt;chr&gt;</th><th scope=col>&lt;chr&gt;</th><th scope=col>&lt;dbl&gt;</th><th scope=col>&lt;chr&gt;</th><th scope=col>&lt;chr&gt;</th><th scope=col>&lt;int&gt;</th><th scope=col>&lt;int&gt;</th><th scope=col>&lt;int&gt;</th><th scope=col>&lt;int&gt;</th><th scope=col>⋯</th><th scope=col>&lt;int&gt;</th><th scope=col>&lt;int&gt;</th><th scope=col>&lt;dbl&gt;</th><th scope=col>&lt;chr&gt;</th><th scope=col>&lt;chr&gt;</th><th scope=col>&lt;int&gt;</th><th scope=col>&lt;int&gt;</th><th scope=col>&lt;int&gt;</th><th scope=col>&lt;int&gt;</th><th scope=col>&lt;chr&gt;</th></tr>\n",
       "</thead>\n",
       "<tbody>\n",
       "\t<tr><th scope=row>1157</th><td>02.05.22</td><td>09:30</td><td>Henrique</td><td>24.3</td><td>26th January - Spain</td><td>4-days</td><td>35</td><td>36</td><td>1</td><td>2</td><td>⋯</td><td>11</td><td>743</td><td>15.4</td><td>NA</td><td>No</td><td>5</td><td>0</td><td>1</td><td>1</td><td>0-30</td></tr>\n",
       "</tbody>\n",
       "</table>\n"
      ],
      "text/latex": [
       "A data.frame: 1 × 28\n",
       "\\begin{tabular}{r|lllllllllllllllllllll}\n",
       "  & Collection\\_Date & Time\\_Collection & Experimentor & Temperature & Colony\\_Origin & Starvation\\_Period & Donor\\_Colony & Recipient\\_Colony & Ant\\_ID & Visit & ⋯ & Out\\_Duration & Bridge\\_Nest\\_Duration & Total\\_Duration\\_Minutes & Trophallaxis & Full & Experiment & Initial\\_Binary & Final\\_Binary & Switched\\_Binary & TSM\\_Bin\\\\\n",
       "  & <chr> & <chr> & <chr> & <dbl> & <chr> & <chr> & <int> & <int> & <int> & <int> & ⋯ & <int> & <int> & <dbl> & <chr> & <chr> & <int> & <int> & <int> & <int> & <chr>\\\\\n",
       "\\hline\n",
       "\t1157 & 02.05.22 & 09:30 & Henrique & 24.3 & 26th January - Spain & 4-days & 35 & 36 & 1 & 2 & ⋯ & 11 & 743 & 15.4 & NA & No & 5 & 0 & 1 & 1 & 0-30\\\\\n",
       "\\end{tabular}\n"
      ],
      "text/markdown": [
       "\n",
       "A data.frame: 1 × 28\n",
       "\n",
       "| <!--/--> | Collection_Date &lt;chr&gt; | Time_Collection &lt;chr&gt; | Experimentor &lt;chr&gt; | Temperature &lt;dbl&gt; | Colony_Origin &lt;chr&gt; | Starvation_Period &lt;chr&gt; | Donor_Colony &lt;int&gt; | Recipient_Colony &lt;int&gt; | Ant_ID &lt;int&gt; | Visit &lt;int&gt; | ⋯ ⋯ | Out_Duration &lt;int&gt; | Bridge_Nest_Duration &lt;int&gt; | Total_Duration_Minutes &lt;dbl&gt; | Trophallaxis &lt;chr&gt; | Full &lt;chr&gt; | Experiment &lt;int&gt; | Initial_Binary &lt;int&gt; | Final_Binary &lt;int&gt; | Switched_Binary &lt;int&gt; | TSM_Bin &lt;chr&gt; |\n",
       "|---|---|---|---|---|---|---|---|---|---|---|---|---|---|---|---|---|---|---|---|---|---|\n",
       "| 1157 | 02.05.22 | 09:30 | Henrique | 24.3 | 26th January - Spain | 4-days | 35 | 36 | 1 | 2 | ⋯ | 11 | 743 | 15.4 | NA | No | 5 | 0 | 1 | 1 | 0-30 |\n",
       "\n"
      ],
      "text/plain": [
       "     Collection_Date Time_Collection Experimentor Temperature\n",
       "1157 02.05.22        09:30           Henrique     24.3       \n",
       "     Colony_Origin        Starvation_Period Donor_Colony Recipient_Colony\n",
       "1157 26th January - Spain 4-days            35           36              \n",
       "     Ant_ID Visit ⋯ Out_Duration Bridge_Nest_Duration Total_Duration_Minutes\n",
       "1157 1      2     ⋯ 11           743                  15.4                  \n",
       "     Trophallaxis Full Experiment Initial_Binary Final_Binary Switched_Binary\n",
       "1157 NA           No   5          0              1            1              \n",
       "     TSM_Bin\n",
       "1157 0-30   "
      ]
     },
     "metadata": {},
     "output_type": "display_data"
    }
   ],
   "source": [
    "ELP = read.csv(\"./Data/All/ELP_all.csv\")\n",
    "ELP = subset(ELP, ELP$Experiment == \"5\") # Subset for Taurine experiment\n",
    "head(ELP, n = 1) # Check it was loaded correctly"
   ]
  },
  {
   "cell_type": "markdown",
   "id": "a5b0f172",
   "metadata": {},
   "source": [
    "## Ensure relevant variables are factors"
   ]
  },
  {
   "cell_type": "code",
   "execution_count": 5,
   "id": "e361d2b6",
   "metadata": {
    "vscode": {
     "languageId": "r"
    }
   },
   "outputs": [],
   "source": [
    "ELP$Collection_Date = as.factor(ELP$Collection_Date)\n",
    "ELP$Experimentor = as.factor(ELP$Experimentor)\n",
    "ELP$Starvation_Period = as.factor(ELP$Starvation_Period)\n",
    "ELP$Colony_ID = as.factor(paste0(ELP$Donor_Colony, \"_\", ELP$Recipient_Colony))\n",
    "ELP$Ant_ID = as.factor(ELP$Ant_ID)\n",
    "\n",
    "ELP$Visit = as.factor(ELP$Visit)\n",
    "ELP$Solution = as.factor(ELP$Solution)\n",
    "ELP$Solution = relevel(ELP$Solution, \"Control\")\n",
    "ELP$Reward_Side = as.factor(ELP$Reward_Side)\n",
    "ELP$TSM_Bin = as.factor(ELP$TSM_Bin)\n",
    "\n",
    "ELP$Initial_Binary = as.factor(ELP$Initial_Binary)\n",
    "ELP$Final_Binary = as.factor(ELP$Final_Binary)"
   ]
  },
  {
   "cell_type": "markdown",
   "id": "55165eb0",
   "metadata": {},
   "source": [
    "## Identify relevant random effects"
   ]
  },
  {
   "cell_type": "code",
   "execution_count": 6,
   "id": "3bc43cbf",
   "metadata": {
    "scrolled": false,
    "vscode": {
     "languageId": "r"
    }
   },
   "outputs": [
    {
     "data": {
      "text/html": [
       "<style>\n",
       ".list-inline {list-style: none; margin:0; padding: 0}\n",
       ".list-inline>li {display: inline-block}\n",
       ".list-inline>li:not(:last-child)::after {content: \"\\00b7\"; padding: 0 .5ex}\n",
       "</style>\n",
       "<ol class=list-inline><li>02.05.22</li><li>03.05.22</li><li>04.05.22</li><li>05.05.22</li><li>06.05.22</li><li>07.05.22</li><li>09.05.22</li><li>10.05.22</li><li>11.05.22</li><li>12.05.22</li></ol>\n",
       "\n",
       "<details>\n",
       "\t<summary style=display:list-item;cursor:pointer>\n",
       "\t\t<strong>Levels</strong>:\n",
       "\t</summary>\n",
       "\t<style>\n",
       "\t.list-inline {list-style: none; margin:0; padding: 0}\n",
       "\t.list-inline>li {display: inline-block}\n",
       "\t.list-inline>li:not(:last-child)::after {content: \"\\00b7\"; padding: 0 .5ex}\n",
       "\t</style>\n",
       "\t<ol class=list-inline><li>'02.05.22'</li><li>'03.05.22'</li><li>'04.05.22'</li><li>'05.05.22'</li><li>'06.05.22'</li><li>'07.05.22'</li><li>'09.05.22'</li><li>'10.05.22'</li><li>'11.05.22'</li><li>'12.05.22'</li></ol>\n",
       "</details>"
      ],
      "text/latex": [
       "\\begin{enumerate*}\n",
       "\\item 02.05.22\n",
       "\\item 03.05.22\n",
       "\\item 04.05.22\n",
       "\\item 05.05.22\n",
       "\\item 06.05.22\n",
       "\\item 07.05.22\n",
       "\\item 09.05.22\n",
       "\\item 10.05.22\n",
       "\\item 11.05.22\n",
       "\\item 12.05.22\n",
       "\\end{enumerate*}\n",
       "\n",
       "\\emph{Levels}: \\begin{enumerate*}\n",
       "\\item '02.05.22'\n",
       "\\item '03.05.22'\n",
       "\\item '04.05.22'\n",
       "\\item '05.05.22'\n",
       "\\item '06.05.22'\n",
       "\\item '07.05.22'\n",
       "\\item '09.05.22'\n",
       "\\item '10.05.22'\n",
       "\\item '11.05.22'\n",
       "\\item '12.05.22'\n",
       "\\end{enumerate*}\n"
      ],
      "text/markdown": [
       "1. 02.05.22\n",
       "2. 03.05.22\n",
       "3. 04.05.22\n",
       "4. 05.05.22\n",
       "5. 06.05.22\n",
       "6. 07.05.22\n",
       "7. 09.05.22\n",
       "8. 10.05.22\n",
       "9. 11.05.22\n",
       "10. 12.05.22\n",
       "\n",
       "\n",
       "\n",
       "**Levels**: 1. '02.05.22'\n",
       "2. '03.05.22'\n",
       "3. '04.05.22'\n",
       "4. '05.05.22'\n",
       "5. '06.05.22'\n",
       "6. '07.05.22'\n",
       "7. '09.05.22'\n",
       "8. '10.05.22'\n",
       "9. '11.05.22'\n",
       "10. '12.05.22'\n",
       "\n",
       "\n"
      ],
      "text/plain": [
       " [1] 02.05.22 03.05.22 04.05.22 05.05.22 06.05.22 07.05.22 09.05.22 10.05.22\n",
       " [9] 11.05.22 12.05.22\n",
       "10 Levels: 02.05.22 03.05.22 04.05.22 05.05.22 06.05.22 07.05.22 ... 12.05.22"
      ]
     },
     "metadata": {},
     "output_type": "display_data"
    },
    {
     "data": {
      "text/html": [
       "Henrique\n",
       "<details>\n",
       "\t<summary style=display:list-item;cursor:pointer>\n",
       "\t\t<strong>Levels</strong>:\n",
       "\t</summary>\n",
       "\t'Henrique'\n",
       "</details>"
      ],
      "text/latex": [
       "Henrique\n",
       "\\emph{Levels}: 'Henrique'"
      ],
      "text/markdown": [
       "Henrique\n",
       "**Levels**: 'Henrique'"
      ],
      "text/plain": [
       "[1] Henrique\n",
       "Levels: Henrique"
      ]
     },
     "metadata": {},
     "output_type": "display_data"
    },
    {
     "data": {
      "text/html": [
       "<style>\n",
       ".list-inline {list-style: none; margin:0; padding: 0}\n",
       ".list-inline>li {display: inline-block}\n",
       ".list-inline>li:not(:last-child)::after {content: \"\\00b7\"; padding: 0 .5ex}\n",
       "</style>\n",
       "<ol class=list-inline><li>4-days</li><li>5-days</li></ol>\n",
       "\n",
       "<details>\n",
       "\t<summary style=display:list-item;cursor:pointer>\n",
       "\t\t<strong>Levels</strong>:\n",
       "\t</summary>\n",
       "\t<style>\n",
       "\t.list-inline {list-style: none; margin:0; padding: 0}\n",
       "\t.list-inline>li {display: inline-block}\n",
       "\t.list-inline>li:not(:last-child)::after {content: \"\\00b7\"; padding: 0 .5ex}\n",
       "\t</style>\n",
       "\t<ol class=list-inline><li>'4-days'</li><li>'5-days'</li></ol>\n",
       "</details>"
      ],
      "text/latex": [
       "\\begin{enumerate*}\n",
       "\\item 4-days\n",
       "\\item 5-days\n",
       "\\end{enumerate*}\n",
       "\n",
       "\\emph{Levels}: \\begin{enumerate*}\n",
       "\\item '4-days'\n",
       "\\item '5-days'\n",
       "\\end{enumerate*}\n"
      ],
      "text/markdown": [
       "1. 4-days\n",
       "2. 5-days\n",
       "\n",
       "\n",
       "\n",
       "**Levels**: 1. '4-days'\n",
       "2. '5-days'\n",
       "\n",
       "\n"
      ],
      "text/plain": [
       "[1] 4-days 5-days\n",
       "Levels: 4-days 5-days"
      ]
     },
     "metadata": {},
     "output_type": "display_data"
    },
    {
     "data": {
      "text/html": [
       "<style>\n",
       ".list-inline {list-style: none; margin:0; padding: 0}\n",
       ".list-inline>li {display: inline-block}\n",
       ".list-inline>li:not(:last-child)::after {content: \"\\00b7\"; padding: 0 .5ex}\n",
       "</style>\n",
       "<ol class=list-inline><li>35_36</li><li>58_59</li><li>60_61</li></ol>\n",
       "\n",
       "<details>\n",
       "\t<summary style=display:list-item;cursor:pointer>\n",
       "\t\t<strong>Levels</strong>:\n",
       "\t</summary>\n",
       "\t<style>\n",
       "\t.list-inline {list-style: none; margin:0; padding: 0}\n",
       "\t.list-inline>li {display: inline-block}\n",
       "\t.list-inline>li:not(:last-child)::after {content: \"\\00b7\"; padding: 0 .5ex}\n",
       "\t</style>\n",
       "\t<ol class=list-inline><li>'35_36'</li><li>'58_59'</li><li>'60_61'</li></ol>\n",
       "</details>"
      ],
      "text/latex": [
       "\\begin{enumerate*}\n",
       "\\item 35\\_36\n",
       "\\item 58\\_59\n",
       "\\item 60\\_61\n",
       "\\end{enumerate*}\n",
       "\n",
       "\\emph{Levels}: \\begin{enumerate*}\n",
       "\\item '35\\_36'\n",
       "\\item '58\\_59'\n",
       "\\item '60\\_61'\n",
       "\\end{enumerate*}\n"
      ],
      "text/markdown": [
       "1. 35_36\n",
       "2. 58_59\n",
       "3. 60_61\n",
       "\n",
       "\n",
       "\n",
       "**Levels**: 1. '35_36'\n",
       "2. '58_59'\n",
       "3. '60_61'\n",
       "\n",
       "\n"
      ],
      "text/plain": [
       "[1] 35_36 58_59 60_61\n",
       "Levels: 35_36 58_59 60_61"
      ]
     },
     "metadata": {},
     "output_type": "display_data"
    },
    {
     "data": {
      "text/html": [
       "<style>\n",
       ".list-inline {list-style: none; margin:0; padding: 0}\n",
       ".list-inline>li {display: inline-block}\n",
       ".list-inline>li:not(:last-child)::after {content: \"\\00b7\"; padding: 0 .5ex}\n",
       "</style>\n",
       "<ol class=list-inline><li>1</li><li>2</li><li>3</li><li>4</li><li>5</li><li>6</li><li>7</li><li>8</li><li>9</li><li>10</li><li>11</li><li>12</li><li>13</li><li>14</li><li>15</li><li>16</li><li>17</li><li>18</li><li>19</li><li>20</li><li>21</li><li>22</li><li>23</li><li>24</li><li>25</li><li>26</li><li>27</li><li>28</li><li>29</li><li>30</li><li>31</li><li>32</li><li>33</li><li>34</li><li>35</li><li>36</li><li>37</li><li>38</li><li>39</li><li>40</li><li>41</li><li>42</li><li>43</li><li>44</li><li>45</li><li>46</li><li>47</li><li>48</li><li>49</li><li>50</li><li>51</li><li>52</li><li>53</li><li>54</li><li>55</li><li>56</li><li>57</li><li>58</li><li>59</li><li>60</li><li>61</li><li>62</li><li>63</li><li>64</li></ol>\n",
       "\n",
       "<details>\n",
       "\t<summary style=display:list-item;cursor:pointer>\n",
       "\t\t<strong>Levels</strong>:\n",
       "\t</summary>\n",
       "\t<style>\n",
       "\t.list-inline {list-style: none; margin:0; padding: 0}\n",
       "\t.list-inline>li {display: inline-block}\n",
       "\t.list-inline>li:not(:last-child)::after {content: \"\\00b7\"; padding: 0 .5ex}\n",
       "\t</style>\n",
       "\t<ol class=list-inline><li>'1'</li><li>'2'</li><li>'3'</li><li>'4'</li><li>'5'</li><li>'6'</li><li>'7'</li><li>'8'</li><li>'9'</li><li>'10'</li><li>'11'</li><li>'12'</li><li>'13'</li><li>'14'</li><li>'15'</li><li>'16'</li><li>'17'</li><li>'18'</li><li>'19'</li><li>'20'</li><li>'21'</li><li>'22'</li><li>'23'</li><li>'24'</li><li>'25'</li><li>'26'</li><li>'27'</li><li>'28'</li><li>'29'</li><li>'30'</li><li>'31'</li><li>'32'</li><li>'33'</li><li>'34'</li><li>'35'</li><li>'36'</li><li>'37'</li><li>'38'</li><li>'39'</li><li>'40'</li><li>'41'</li><li>'42'</li><li>'43'</li><li>'44'</li><li>'45'</li><li>'46'</li><li>'47'</li><li>'48'</li><li>'49'</li><li>'50'</li><li>'51'</li><li>'52'</li><li>'53'</li><li>'54'</li><li>'55'</li><li>'56'</li><li>'57'</li><li>'58'</li><li>'59'</li><li>'60'</li><li>'61'</li><li>'62'</li><li>'63'</li><li>'64'</li></ol>\n",
       "</details>"
      ],
      "text/latex": [
       "\\begin{enumerate*}\n",
       "\\item 1\n",
       "\\item 2\n",
       "\\item 3\n",
       "\\item 4\n",
       "\\item 5\n",
       "\\item 6\n",
       "\\item 7\n",
       "\\item 8\n",
       "\\item 9\n",
       "\\item 10\n",
       "\\item 11\n",
       "\\item 12\n",
       "\\item 13\n",
       "\\item 14\n",
       "\\item 15\n",
       "\\item 16\n",
       "\\item 17\n",
       "\\item 18\n",
       "\\item 19\n",
       "\\item 20\n",
       "\\item 21\n",
       "\\item 22\n",
       "\\item 23\n",
       "\\item 24\n",
       "\\item 25\n",
       "\\item 26\n",
       "\\item 27\n",
       "\\item 28\n",
       "\\item 29\n",
       "\\item 30\n",
       "\\item 31\n",
       "\\item 32\n",
       "\\item 33\n",
       "\\item 34\n",
       "\\item 35\n",
       "\\item 36\n",
       "\\item 37\n",
       "\\item 38\n",
       "\\item 39\n",
       "\\item 40\n",
       "\\item 41\n",
       "\\item 42\n",
       "\\item 43\n",
       "\\item 44\n",
       "\\item 45\n",
       "\\item 46\n",
       "\\item 47\n",
       "\\item 48\n",
       "\\item 49\n",
       "\\item 50\n",
       "\\item 51\n",
       "\\item 52\n",
       "\\item 53\n",
       "\\item 54\n",
       "\\item 55\n",
       "\\item 56\n",
       "\\item 57\n",
       "\\item 58\n",
       "\\item 59\n",
       "\\item 60\n",
       "\\item 61\n",
       "\\item 62\n",
       "\\item 63\n",
       "\\item 64\n",
       "\\end{enumerate*}\n",
       "\n",
       "\\emph{Levels}: \\begin{enumerate*}\n",
       "\\item '1'\n",
       "\\item '2'\n",
       "\\item '3'\n",
       "\\item '4'\n",
       "\\item '5'\n",
       "\\item '6'\n",
       "\\item '7'\n",
       "\\item '8'\n",
       "\\item '9'\n",
       "\\item '10'\n",
       "\\item '11'\n",
       "\\item '12'\n",
       "\\item '13'\n",
       "\\item '14'\n",
       "\\item '15'\n",
       "\\item '16'\n",
       "\\item '17'\n",
       "\\item '18'\n",
       "\\item '19'\n",
       "\\item '20'\n",
       "\\item '21'\n",
       "\\item '22'\n",
       "\\item '23'\n",
       "\\item '24'\n",
       "\\item '25'\n",
       "\\item '26'\n",
       "\\item '27'\n",
       "\\item '28'\n",
       "\\item '29'\n",
       "\\item '30'\n",
       "\\item '31'\n",
       "\\item '32'\n",
       "\\item '33'\n",
       "\\item '34'\n",
       "\\item '35'\n",
       "\\item '36'\n",
       "\\item '37'\n",
       "\\item '38'\n",
       "\\item '39'\n",
       "\\item '40'\n",
       "\\item '41'\n",
       "\\item '42'\n",
       "\\item '43'\n",
       "\\item '44'\n",
       "\\item '45'\n",
       "\\item '46'\n",
       "\\item '47'\n",
       "\\item '48'\n",
       "\\item '49'\n",
       "\\item '50'\n",
       "\\item '51'\n",
       "\\item '52'\n",
       "\\item '53'\n",
       "\\item '54'\n",
       "\\item '55'\n",
       "\\item '56'\n",
       "\\item '57'\n",
       "\\item '58'\n",
       "\\item '59'\n",
       "\\item '60'\n",
       "\\item '61'\n",
       "\\item '62'\n",
       "\\item '63'\n",
       "\\item '64'\n",
       "\\end{enumerate*}\n"
      ],
      "text/markdown": [
       "1. 1\n",
       "2. 2\n",
       "3. 3\n",
       "4. 4\n",
       "5. 5\n",
       "6. 6\n",
       "7. 7\n",
       "8. 8\n",
       "9. 9\n",
       "10. 10\n",
       "11. 11\n",
       "12. 12\n",
       "13. 13\n",
       "14. 14\n",
       "15. 15\n",
       "16. 16\n",
       "17. 17\n",
       "18. 18\n",
       "19. 19\n",
       "20. 20\n",
       "21. 21\n",
       "22. 22\n",
       "23. 23\n",
       "24. 24\n",
       "25. 25\n",
       "26. 26\n",
       "27. 27\n",
       "28. 28\n",
       "29. 29\n",
       "30. 30\n",
       "31. 31\n",
       "32. 32\n",
       "33. 33\n",
       "34. 34\n",
       "35. 35\n",
       "36. 36\n",
       "37. 37\n",
       "38. 38\n",
       "39. 39\n",
       "40. 40\n",
       "41. 41\n",
       "42. 42\n",
       "43. 43\n",
       "44. 44\n",
       "45. 45\n",
       "46. 46\n",
       "47. 47\n",
       "48. 48\n",
       "49. 49\n",
       "50. 50\n",
       "51. 51\n",
       "52. 52\n",
       "53. 53\n",
       "54. 54\n",
       "55. 55\n",
       "56. 56\n",
       "57. 57\n",
       "58. 58\n",
       "59. 59\n",
       "60. 60\n",
       "61. 61\n",
       "62. 62\n",
       "63. 63\n",
       "64. 64\n",
       "\n",
       "\n",
       "\n",
       "**Levels**: 1. '1'\n",
       "2. '2'\n",
       "3. '3'\n",
       "4. '4'\n",
       "5. '5'\n",
       "6. '6'\n",
       "7. '7'\n",
       "8. '8'\n",
       "9. '9'\n",
       "10. '10'\n",
       "11. '11'\n",
       "12. '12'\n",
       "13. '13'\n",
       "14. '14'\n",
       "15. '15'\n",
       "16. '16'\n",
       "17. '17'\n",
       "18. '18'\n",
       "19. '19'\n",
       "20. '20'\n",
       "21. '21'\n",
       "22. '22'\n",
       "23. '23'\n",
       "24. '24'\n",
       "25. '25'\n",
       "26. '26'\n",
       "27. '27'\n",
       "28. '28'\n",
       "29. '29'\n",
       "30. '30'\n",
       "31. '31'\n",
       "32. '32'\n",
       "33. '33'\n",
       "34. '34'\n",
       "35. '35'\n",
       "36. '36'\n",
       "37. '37'\n",
       "38. '38'\n",
       "39. '39'\n",
       "40. '40'\n",
       "41. '41'\n",
       "42. '42'\n",
       "43. '43'\n",
       "44. '44'\n",
       "45. '45'\n",
       "46. '46'\n",
       "47. '47'\n",
       "48. '48'\n",
       "49. '49'\n",
       "50. '50'\n",
       "51. '51'\n",
       "52. '52'\n",
       "53. '53'\n",
       "54. '54'\n",
       "55. '55'\n",
       "56. '56'\n",
       "57. '57'\n",
       "58. '58'\n",
       "59. '59'\n",
       "60. '60'\n",
       "61. '61'\n",
       "62. '62'\n",
       "63. '63'\n",
       "64. '64'\n",
       "\n",
       "\n"
      ],
      "text/plain": [
       " [1] 1  2  3  4  5  6  7  8  9  10 11 12 13 14 15 16 17 18 19 20 21 22 23 24 25\n",
       "[26] 26 27 28 29 30 31 32 33 34 35 36 37 38 39 40 41 42 43 44 45 46 47 48 49 50\n",
       "[51] 51 52 53 54 55 56 57 58 59 60 61 62 63 64\n",
       "64 Levels: 1 2 3 4 5 6 7 8 9 10 11 12 13 14 15 16 17 18 19 20 21 22 23 ... 64"
      ]
     },
     "metadata": {},
     "output_type": "display_data"
    }
   ],
   "source": [
    "unique(ELP$Collection_Date)\n",
    "unique(ELP$Experimentor)\n",
    "unique(ELP$Starvation_Period)\n",
    "unique(ELP$Colony_ID)\n",
    "unique(ELP$Ant_ID)"
   ]
  },
  {
   "cell_type": "markdown",
   "id": "e3044b71",
   "metadata": {},
   "source": [
    "## Do initial and final choices significantly differ?"
   ]
  },
  {
   "cell_type": "code",
   "execution_count": 9,
   "id": "f00505b5",
   "metadata": {
    "vscode": {
     "languageId": "r"
    }
   },
   "outputs": [
    {
     "name": "stderr",
     "output_type": "stream",
     "text": [
      "boundary (singular) fit: see help('isSingular')\n",
      "\n"
     ]
    },
    {
     "data": {
      "text/plain": [
       " contrast                      odds.ratio    SE  df null z.ratio p.value\n",
       " Initial_Binary / Final_Binary      0.683 0.148 Inf    1  -1.762  0.0781\n",
       "\n",
       "Tests are performed on the log odds ratio scale "
      ]
     },
     "metadata": {},
     "output_type": "display_data"
    }
   ],
   "source": [
    "ELP_choice_diff = melt(ELP, measure.vars = c(\"Initial_Binary\", \"Final_Binary\"))\n",
    "\n",
    "ELP_choice_diff$variable = as.factor(ELP_choice_diff$variable)\n",
    "ELP_choice_diff$value = as.factor(ELP_choice_diff$value)\n",
    "\n",
    "ELP_choice_diff_mod = glmer(value ~ variable + (1|Collection_Date) + (Starvation_Period|Colony_ID) + (1|Ant_ID), data = ELP_choice_diff, family = binomial, glmerControl(optimizer = \"bobyqa\", optCtrl = list(maxfun = 1000000000)))\n",
    "\n",
    "e = emmeans(ELP_choice_diff_mod, ~variable, type = \"response\")\n",
    "pairs(e)"
   ]
  },
  {
   "cell_type": "markdown",
   "id": "328cf9e7",
   "metadata": {},
   "source": [
    "p-value > 0.05 hence there is no statistical difference between initial and final decision therefore we will use final decision henceforth."
   ]
  },
  {
   "cell_type": "markdown",
   "id": "33f30dc0",
   "metadata": {},
   "source": [
    "## Define models\n",
    "\n",
    "### 1. Null model\n",
    "**Biological hypothesis:** Ants randomly choose a Y-maze arm."
   ]
  },
  {
   "cell_type": "code",
   "execution_count": 10,
   "id": "0ef959a3",
   "metadata": {
    "scrolled": true,
    "vscode": {
     "languageId": "r"
    }
   },
   "outputs": [
    {
     "name": "stderr",
     "output_type": "stream",
     "text": [
      "boundary (singular) fit: see help('isSingular')\n",
      "\n"
     ]
    }
   ],
   "source": [
    "null_mod = glmer(Final_Binary ~ 1 + (1|Collection_Date) + (Starvation_Period|Colony_ID) + (1|Ant_ID), data = ELP, family = \"binomial\", glmerControl(optimizer = \"bobyqa\", optCtrl = list(maxfun = 1000000000)))"
   ]
  },
  {
   "cell_type": "markdown",
   "id": "1b2602f5",
   "metadata": {},
   "source": [
    "### 2. Visit model\n",
    "**Biological hypothesis:** Ants learn to associate a Y-maze arm with a reward. Over consecutive visits more ants choose the correct arm."
   ]
  },
  {
   "cell_type": "code",
   "execution_count": 11,
   "id": "7f450e9d",
   "metadata": {
    "vscode": {
     "languageId": "r"
    }
   },
   "outputs": [
    {
     "name": "stderr",
     "output_type": "stream",
     "text": [
      "boundary (singular) fit: see help('isSingular')\n",
      "\n"
     ]
    }
   ],
   "source": [
    "visit_mod = glmer(Final_Binary ~ Visit + (1|Collection_Date) + (Starvation_Period|Colony_ID) + (1|Ant_ID), data = ELP, family = \"binomial\", glmerControl(optimizer = \"bobyqa\", optCtrl = list(maxfun = 1000000000)))"
   ]
  },
  {
   "cell_type": "markdown",
   "id": "b7ed456a",
   "metadata": {},
   "source": [
    "### 3. Solution model\n",
    "**Biological hypothesis:** The presence of a psychoactive chemical in the reward alters the ants ability to choose a Y-maze arm."
   ]
  },
  {
   "cell_type": "code",
   "execution_count": 12,
   "id": "e40efafe",
   "metadata": {
    "scrolled": true,
    "vscode": {
     "languageId": "r"
    }
   },
   "outputs": [
    {
     "name": "stderr",
     "output_type": "stream",
     "text": [
      "boundary (singular) fit: see help('isSingular')\n",
      "\n"
     ]
    }
   ],
   "source": [
    "solution_mod = glmer(Final_Binary ~ Solution + (1|Collection_Date) + (Starvation_Period|Colony_ID) + (1|Ant_ID), data = ELP, family = \"binomial\", glmerControl(optimizer = \"bobyqa\", optCtrl = list(maxfun = 1000000000)))"
   ]
  },
  {
   "cell_type": "markdown",
   "id": "ab0eba13",
   "metadata": {},
   "source": [
    "### 4. Side model\n",
    "**Biological hypothesis:** Ants have an intrinsic predisposition towards turning left or right. This is associated with brain lateralisation which has been shown in multiple organisms."
   ]
  },
  {
   "cell_type": "code",
   "execution_count": 13,
   "id": "607d48ee",
   "metadata": {
    "scrolled": true,
    "vscode": {
     "languageId": "r"
    }
   },
   "outputs": [
    {
     "name": "stderr",
     "output_type": "stream",
     "text": [
      "boundary (singular) fit: see help('isSingular')\n",
      "\n"
     ]
    }
   ],
   "source": [
    "side_mod = glmer(Final_Binary ~ Reward_Side + (1|Collection_Date) + (Starvation_Period|Colony_ID) + (1|Ant_ID), data = ELP, family = \"binomial\", glmerControl(optimizer = \"bobyqa\", optCtrl = list(maxfun = 1000000000)))"
   ]
  },
  {
   "cell_type": "markdown",
   "id": "761fabe0",
   "metadata": {},
   "source": [
    "### 5. Time since marking model\n",
    "**Biological hypothesis:** Ants that had a waiting period (>30 minutes) after learning the reward/side association have different recall strenght. This should be associated with long-term memory formation which should be stronger."
   ]
  },
  {
   "cell_type": "code",
   "execution_count": 14,
   "id": "2658b671",
   "metadata": {
    "vscode": {
     "languageId": "r"
    }
   },
   "outputs": [
    {
     "name": "stderr",
     "output_type": "stream",
     "text": [
      "boundary (singular) fit: see help('isSingular')\n",
      "\n"
     ]
    }
   ],
   "source": [
    "tsm_mod = glmer(Final_Binary ~ TSM_Bin + (1|Collection_Date) + (Starvation_Period|Colony_ID) + (1|Ant_ID), data = ELP, family = \"binomial\", glmerControl(optimizer = \"bobyqa\", optCtrl = list(maxfun = 1000000000)))"
   ]
  },
  {
   "cell_type": "markdown",
   "id": "892cb81b",
   "metadata": {},
   "source": [
    "### 6. Solution and Visit with Time since marking model\n",
    "**Biological hypothesis:** The effects of a psychoactive chemical might be time dependent."
   ]
  },
  {
   "cell_type": "code",
   "execution_count": 15,
   "id": "5cff5050",
   "metadata": {
    "vscode": {
     "languageId": "r"
    }
   },
   "outputs": [
    {
     "name": "stderr",
     "output_type": "stream",
     "text": [
      "boundary (singular) fit: see help('isSingular')\n",
      "\n"
     ]
    }
   ],
   "source": [
    "solution_time_mod = glmer(Final_Binary ~ Solution + TSM_Bin + Visit + Solution:TSM_Bin + (1|Collection_Date) + (Starvation_Period|Colony_ID) + (1|Ant_ID), data = ELP, family = \"binomial\", glmerControl(optimizer = \"bobyqa\", optCtrl = list(maxfun = 1000000000)))"
   ]
  },
  {
   "cell_type": "markdown",
   "id": "fcf2c7eb",
   "metadata": {},
   "source": [
    "### 7. Maximal model\n",
    "**Biological hypothesis:** All of the available variables contribute towards ant learning."
   ]
  },
  {
   "cell_type": "code",
   "execution_count": 16,
   "id": "fcc1c701",
   "metadata": {
    "scrolled": true,
    "vscode": {
     "languageId": "r"
    }
   },
   "outputs": [
    {
     "name": "stderr",
     "output_type": "stream",
     "text": [
      "boundary (singular) fit: see help('isSingular')\n",
      "\n"
     ]
    }
   ],
   "source": [
    "max_mod = glmer(Final_Binary ~ Solution + Visit + TSM_Bin + Reward_Side + Solution:TSM_Bin + (1|Collection_Date) + (Starvation_Period|Colony_ID) + (1|Ant_ID), data = ELP, family = \"binomial\", glmerControl(optimizer = \"bobyqa\", optCtrl = list(maxfun = 1000000000)))"
   ]
  },
  {
   "cell_type": "markdown",
   "id": "3d31eeee",
   "metadata": {},
   "source": [
    "## Model Selection"
   ]
  },
  {
   "cell_type": "code",
   "execution_count": 17,
   "id": "6768b6ea",
   "metadata": {
    "scrolled": false,
    "vscode": {
     "languageId": "r"
    }
   },
   "outputs": [
    {
     "data": {
      "text/html": [
       "<table class=\"dataframe\">\n",
       "<caption>A aictab: 7 × 8</caption>\n",
       "<thead>\n",
       "\t<tr><th></th><th scope=col>Modnames</th><th scope=col>K</th><th scope=col>AICc</th><th scope=col>Delta_AICc</th><th scope=col>ModelLik</th><th scope=col>AICcWt</th><th scope=col>LL</th><th scope=col>Cum.Wt</th></tr>\n",
       "\t<tr><th></th><th scope=col>&lt;chr&gt;</th><th scope=col>&lt;dbl&gt;</th><th scope=col>&lt;dbl&gt;</th><th scope=col>&lt;dbl&gt;</th><th scope=col>&lt;dbl&gt;</th><th scope=col>&lt;dbl&gt;</th><th scope=col>&lt;dbl&gt;</th><th scope=col>&lt;dbl&gt;</th></tr>\n",
       "</thead>\n",
       "<tbody>\n",
       "\t<tr><th scope=row>2</th><td>visit_mod        </td><td> 9</td><td>296.6216</td><td>0.000000</td><td>1.00000000</td><td>0.439616515</td><td>-138.9449</td><td>0.4396165</td></tr>\n",
       "\t<tr><th scope=row>1</th><td>null_mod         </td><td> 6</td><td>297.7538</td><td>1.132195</td><td>0.56773672</td><td>0.249586438</td><td>-142.7082</td><td>0.6892030</td></tr>\n",
       "\t<tr><th scope=row>4</th><td>side_mod         </td><td> 7</td><td>299.6181</td><td>2.996522</td><td>0.22351849</td><td>0.098262421</td><td>-142.5832</td><td>0.7874654</td></tr>\n",
       "\t<tr><th scope=row>5</th><td>tsm_mod          </td><td> 7</td><td>299.6339</td><td>3.012359</td><td>0.22175557</td><td>0.097487409</td><td>-142.5912</td><td>0.8849528</td></tr>\n",
       "\t<tr><th scope=row>3</th><td>solution_mod     </td><td> 7</td><td>299.8623</td><td>3.240713</td><td>0.19782812</td><td>0.086968507</td><td>-142.7053</td><td>0.9719213</td></tr>\n",
       "\t<tr><th scope=row>6</th><td>solution_time_mod</td><td>12</td><td>302.7651</td><td>6.143496</td><td>0.04634009</td><td>0.020371868</td><td>-138.7406</td><td>0.9922932</td></tr>\n",
       "\t<tr><th scope=row>7</th><td>max_mod          </td><td>13</td><td>304.7092</td><td>8.087589</td><td>0.01753083</td><td>0.007706842</td><td>-138.6025</td><td>1.0000000</td></tr>\n",
       "</tbody>\n",
       "</table>\n"
      ],
      "text/latex": [
       "A aictab: 7 × 8\n",
       "\\begin{tabular}{r|llllllll}\n",
       "  & Modnames & K & AICc & Delta\\_AICc & ModelLik & AICcWt & LL & Cum.Wt\\\\\n",
       "  & <chr> & <dbl> & <dbl> & <dbl> & <dbl> & <dbl> & <dbl> & <dbl>\\\\\n",
       "\\hline\n",
       "\t2 & visit\\_mod         &  9 & 296.6216 & 0.000000 & 1.00000000 & 0.439616515 & -138.9449 & 0.4396165\\\\\n",
       "\t1 & null\\_mod          &  6 & 297.7538 & 1.132195 & 0.56773672 & 0.249586438 & -142.7082 & 0.6892030\\\\\n",
       "\t4 & side\\_mod          &  7 & 299.6181 & 2.996522 & 0.22351849 & 0.098262421 & -142.5832 & 0.7874654\\\\\n",
       "\t5 & tsm\\_mod           &  7 & 299.6339 & 3.012359 & 0.22175557 & 0.097487409 & -142.5912 & 0.8849528\\\\\n",
       "\t3 & solution\\_mod      &  7 & 299.8623 & 3.240713 & 0.19782812 & 0.086968507 & -142.7053 & 0.9719213\\\\\n",
       "\t6 & solution\\_time\\_mod & 12 & 302.7651 & 6.143496 & 0.04634009 & 0.020371868 & -138.7406 & 0.9922932\\\\\n",
       "\t7 & max\\_mod           & 13 & 304.7092 & 8.087589 & 0.01753083 & 0.007706842 & -138.6025 & 1.0000000\\\\\n",
       "\\end{tabular}\n"
      ],
      "text/markdown": [
       "\n",
       "A aictab: 7 × 8\n",
       "\n",
       "| <!--/--> | Modnames &lt;chr&gt; | K &lt;dbl&gt; | AICc &lt;dbl&gt; | Delta_AICc &lt;dbl&gt; | ModelLik &lt;dbl&gt; | AICcWt &lt;dbl&gt; | LL &lt;dbl&gt; | Cum.Wt &lt;dbl&gt; |\n",
       "|---|---|---|---|---|---|---|---|---|\n",
       "| 2 | visit_mod         |  9 | 296.6216 | 0.000000 | 1.00000000 | 0.439616515 | -138.9449 | 0.4396165 |\n",
       "| 1 | null_mod          |  6 | 297.7538 | 1.132195 | 0.56773672 | 0.249586438 | -142.7082 | 0.6892030 |\n",
       "| 4 | side_mod          |  7 | 299.6181 | 2.996522 | 0.22351849 | 0.098262421 | -142.5832 | 0.7874654 |\n",
       "| 5 | tsm_mod           |  7 | 299.6339 | 3.012359 | 0.22175557 | 0.097487409 | -142.5912 | 0.8849528 |\n",
       "| 3 | solution_mod      |  7 | 299.8623 | 3.240713 | 0.19782812 | 0.086968507 | -142.7053 | 0.9719213 |\n",
       "| 6 | solution_time_mod | 12 | 302.7651 | 6.143496 | 0.04634009 | 0.020371868 | -138.7406 | 0.9922932 |\n",
       "| 7 | max_mod           | 13 | 304.7092 | 8.087589 | 0.01753083 | 0.007706842 | -138.6025 | 1.0000000 |\n",
       "\n"
      ],
      "text/plain": [
       "  Modnames          K  AICc     Delta_AICc ModelLik   AICcWt      LL       \n",
       "2 visit_mod          9 296.6216 0.000000   1.00000000 0.439616515 -138.9449\n",
       "1 null_mod           6 297.7538 1.132195   0.56773672 0.249586438 -142.7082\n",
       "4 side_mod           7 299.6181 2.996522   0.22351849 0.098262421 -142.5832\n",
       "5 tsm_mod            7 299.6339 3.012359   0.22175557 0.097487409 -142.5912\n",
       "3 solution_mod       7 299.8623 3.240713   0.19782812 0.086968507 -142.7053\n",
       "6 solution_time_mod 12 302.7651 6.143496   0.04634009 0.020371868 -138.7406\n",
       "7 max_mod           13 304.7092 8.087589   0.01753083 0.007706842 -138.6025\n",
       "  Cum.Wt   \n",
       "2 0.4396165\n",
       "1 0.6892030\n",
       "4 0.7874654\n",
       "5 0.8849528\n",
       "3 0.9719213\n",
       "6 0.9922932\n",
       "7 1.0000000"
      ]
     },
     "metadata": {},
     "output_type": "display_data"
    },
    {
     "data": {
      "text/html": [
       "<dl>\n",
       "\t<dt>$method</dt>\n",
       "\t\t<dd>'raw'</dd>\n",
       "\t<dt>$level</dt>\n",
       "\t\t<dd>0.95</dd>\n",
       "\t<dt>$table</dt>\n",
       "\t\t<dd><table class=\"dataframe\">\n",
       "<caption>A aictab: 5 × 8</caption>\n",
       "<thead>\n",
       "\t<tr><th></th><th scope=col>Modnames</th><th scope=col>K</th><th scope=col>AICc</th><th scope=col>Delta_AICc</th><th scope=col>ModelLik</th><th scope=col>AICcWt</th><th scope=col>LL</th><th scope=col>Cum.Wt</th></tr>\n",
       "\t<tr><th></th><th scope=col>&lt;chr&gt;</th><th scope=col>&lt;dbl&gt;</th><th scope=col>&lt;dbl&gt;</th><th scope=col>&lt;dbl&gt;</th><th scope=col>&lt;dbl&gt;</th><th scope=col>&lt;dbl&gt;</th><th scope=col>&lt;dbl&gt;</th><th scope=col>&lt;dbl&gt;</th></tr>\n",
       "</thead>\n",
       "<tbody>\n",
       "\t<tr><th scope=row>2</th><td>visit_mod   </td><td>9</td><td>296.6216</td><td>0.000000</td><td>1.0000000</td><td>0.43961651</td><td>-138.9449</td><td>0.4396165</td></tr>\n",
       "\t<tr><th scope=row>1</th><td>null_mod    </td><td>6</td><td>297.7538</td><td>1.132195</td><td>0.5677367</td><td>0.24958644</td><td>-142.7082</td><td>0.6892030</td></tr>\n",
       "\t<tr><th scope=row>4</th><td>side_mod    </td><td>7</td><td>299.6181</td><td>2.996522</td><td>0.2235185</td><td>0.09826242</td><td>-142.5832</td><td>0.7874654</td></tr>\n",
       "\t<tr><th scope=row>5</th><td>tsm_mod     </td><td>7</td><td>299.6339</td><td>3.012359</td><td>0.2217556</td><td>0.09748741</td><td>-142.5912</td><td>0.8849528</td></tr>\n",
       "\t<tr><th scope=row>3</th><td>solution_mod</td><td>7</td><td>299.8623</td><td>3.240713</td><td>0.1978281</td><td>0.08696851</td><td>-142.7053</td><td>0.9719213</td></tr>\n",
       "</tbody>\n",
       "</table>\n",
       "</dd>\n",
       "</dl>\n"
      ],
      "text/latex": [
       "\\begin{description}\n",
       "\\item[\\$method] 'raw'\n",
       "\\item[\\$level] 0.95\n",
       "\\item[\\$table] A aictab: 5 × 8\n",
       "\\begin{tabular}{r|llllllll}\n",
       "  & Modnames & K & AICc & Delta\\_AICc & ModelLik & AICcWt & LL & Cum.Wt\\\\\n",
       "  & <chr> & <dbl> & <dbl> & <dbl> & <dbl> & <dbl> & <dbl> & <dbl>\\\\\n",
       "\\hline\n",
       "\t2 & visit\\_mod    & 9 & 296.6216 & 0.000000 & 1.0000000 & 0.43961651 & -138.9449 & 0.4396165\\\\\n",
       "\t1 & null\\_mod     & 6 & 297.7538 & 1.132195 & 0.5677367 & 0.24958644 & -142.7082 & 0.6892030\\\\\n",
       "\t4 & side\\_mod     & 7 & 299.6181 & 2.996522 & 0.2235185 & 0.09826242 & -142.5832 & 0.7874654\\\\\n",
       "\t5 & tsm\\_mod      & 7 & 299.6339 & 3.012359 & 0.2217556 & 0.09748741 & -142.5912 & 0.8849528\\\\\n",
       "\t3 & solution\\_mod & 7 & 299.8623 & 3.240713 & 0.1978281 & 0.08696851 & -142.7053 & 0.9719213\\\\\n",
       "\\end{tabular}\n",
       "\n",
       "\\end{description}\n"
      ],
      "text/markdown": [
       "$method\n",
       ":   'raw'\n",
       "$level\n",
       ":   0.95\n",
       "$table\n",
       ":   \n",
       "A aictab: 5 × 8\n",
       "\n",
       "| <!--/--> | Modnames &lt;chr&gt; | K &lt;dbl&gt; | AICc &lt;dbl&gt; | Delta_AICc &lt;dbl&gt; | ModelLik &lt;dbl&gt; | AICcWt &lt;dbl&gt; | LL &lt;dbl&gt; | Cum.Wt &lt;dbl&gt; |\n",
       "|---|---|---|---|---|---|---|---|---|\n",
       "| 2 | visit_mod    | 9 | 296.6216 | 0.000000 | 1.0000000 | 0.43961651 | -138.9449 | 0.4396165 |\n",
       "| 1 | null_mod     | 6 | 297.7538 | 1.132195 | 0.5677367 | 0.24958644 | -142.7082 | 0.6892030 |\n",
       "| 4 | side_mod     | 7 | 299.6181 | 2.996522 | 0.2235185 | 0.09826242 | -142.5832 | 0.7874654 |\n",
       "| 5 | tsm_mod      | 7 | 299.6339 | 3.012359 | 0.2217556 | 0.09748741 | -142.5912 | 0.8849528 |\n",
       "| 3 | solution_mod | 7 | 299.8623 | 3.240713 | 0.1978281 | 0.08696851 | -142.7053 | 0.9719213 |\n",
       "\n",
       "\n",
       "\n",
       "\n"
      ],
      "text/plain": [
       "\n",
       "Confidence set for the best model\n",
       "\n",
       "Method:\t raw sum of model probabilities\n",
       "\n",
       "95% confidence set:\n",
       "             K   AICc Delta_AICc AICcWt\n",
       "visit_mod    9 296.62       0.00   0.44\n",
       "null_mod     6 297.75       1.13   0.25\n",
       "side_mod     7 299.62       3.00   0.10\n",
       "tsm_mod      7 299.63       3.01   0.10\n",
       "solution_mod 7 299.86       3.24   0.09\n",
       "\n",
       "Model probabilities sum to 0.97 \n"
      ]
     },
     "metadata": {},
     "output_type": "display_data"
    }
   ],
   "source": [
    "cand_models = list(\"null_mod\" = null_mod, \n",
    "                   \"visit_mod\" = visit_mod,\n",
    "                   \"solution_mod\" = solution_mod,\n",
    "                   \"side_mod\" = side_mod,\n",
    "                   \"tsm_mod\" = tsm_mod,\n",
    "                   \"solution_time_mod\" = solution_time_mod,\n",
    "                   \"max_mod\" = max_mod)\n",
    "\n",
    "aictab(cand_models)\n",
    "confset(cand.set = cand_models) # Remove models that explain the last 0.05 Cum.Wt"
   ]
  },
  {
   "cell_type": "markdown",
   "id": "8bbc4ed3",
   "metadata": {},
   "source": [
    "**The visit_mod explains 44% of the total variance explained by all of the models tested.**"
   ]
  },
  {
   "cell_type": "code",
   "execution_count": 18,
   "id": "de24bba9",
   "metadata": {
    "scrolled": true,
    "vscode": {
     "languageId": "r"
    }
   },
   "outputs": [
    {
     "data": {
      "text/html": [
       "<dl>\n",
       "\t<dt>$Model.high</dt>\n",
       "\t\t<dd>'visit_mod'</dd>\n",
       "\t<dt>$Model.low</dt>\n",
       "\t\t<dd>'null_mod'</dd>\n",
       "\t<dt>$Ev.ratio</dt>\n",
       "\t\t<dd>1.76137981489932</dd>\n",
       "</dl>\n"
      ],
      "text/latex": [
       "\\begin{description}\n",
       "\\item[\\$Model.high] 'visit\\_mod'\n",
       "\\item[\\$Model.low] 'null\\_mod'\n",
       "\\item[\\$Ev.ratio] 1.76137981489932\n",
       "\\end{description}\n"
      ],
      "text/markdown": [
       "$Model.high\n",
       ":   'visit_mod'\n",
       "$Model.low\n",
       ":   'null_mod'\n",
       "$Ev.ratio\n",
       ":   1.76137981489932\n",
       "\n",
       "\n"
      ],
      "text/plain": [
       "\n",
       "Evidence ratio between models 'visit_mod' and 'null_mod':\n",
       "1.76 \n"
      ]
     },
     "metadata": {},
     "output_type": "display_data"
    }
   ],
   "source": [
    "evidence(aic.table = aictab(cand_models))"
   ]
  },
  {
   "cell_type": "markdown",
   "id": "8f498389",
   "metadata": {},
   "source": [
    "The visit model is 2 times more parsimonious than the next \"best\" model (null_mod)."
   ]
  },
  {
   "cell_type": "code",
   "execution_count": 19,
   "id": "83fe2071",
   "metadata": {
    "scrolled": false,
    "vscode": {
     "languageId": "r"
    }
   },
   "outputs": [
    {
     "data": {
      "image/png": "[encoded data removed]",
      "text/plain": [
       "Plot with title “”"
      ]
     },
     "metadata": {
      "image/png": {
       "height": 420,
       "width": 420
      }
     },
     "output_type": "display_data"
    }
   ],
   "source": [
    "plot(ELP$Reward_Side, ELP$Final_Binary)"
   ]
  },
  {
   "cell_type": "code",
   "execution_count": 20,
   "id": "f5bc6fa7",
   "metadata": {
    "vscode": {
     "languageId": "r"
    }
   },
   "outputs": [
    {
     "data": {
      "image/png": "[encoded data removed]",
      "text/plain": [
       "Plot with title “”"
      ]
     },
     "metadata": {
      "image/png": {
       "height": 420,
       "width": 420
      }
     },
     "output_type": "display_data"
    }
   ],
   "source": [
    "plot(ELP$Visit, ELP$Final_Binary)"
   ]
  },
  {
   "cell_type": "markdown",
   "id": "bca19c16",
   "metadata": {},
   "source": [
    "## Initial Conclusions\n",
    "- Consecutive visits seems to increase the number of ants choosing the reward side.\n",
    "- There seems to be a very slight side bias towards the Left.\n",
    "\n",
    "## Brain lateralisation VS Visual Cues\n",
    "**This setup had the wall on the Left!**"
   ]
  },
  {
   "cell_type": "markdown",
   "id": "bc44157e",
   "metadata": {},
   "source": [
    "## Model averaging"
   ]
  },
  {
   "cell_type": "code",
   "execution_count": 21,
   "id": "9401138f",
   "metadata": {
    "vscode": {
     "languageId": "r"
    }
   },
   "outputs": [
    {
     "data": {
      "text/html": [
       "<dl>\n",
       "\t<dt>$method</dt>\n",
       "\t\t<dd>'raw'</dd>\n",
       "\t<dt>$level</dt>\n",
       "\t\t<dd>0.95</dd>\n",
       "\t<dt>$table</dt>\n",
       "\t\t<dd><table class=\"dataframe\">\n",
       "<caption>A aictab: 5 × 8</caption>\n",
       "<thead>\n",
       "\t<tr><th></th><th scope=col>Modnames</th><th scope=col>K</th><th scope=col>AICc</th><th scope=col>Delta_AICc</th><th scope=col>ModelLik</th><th scope=col>AICcWt</th><th scope=col>LL</th><th scope=col>Cum.Wt</th></tr>\n",
       "\t<tr><th></th><th scope=col>&lt;chr&gt;</th><th scope=col>&lt;dbl&gt;</th><th scope=col>&lt;dbl&gt;</th><th scope=col>&lt;dbl&gt;</th><th scope=col>&lt;dbl&gt;</th><th scope=col>&lt;dbl&gt;</th><th scope=col>&lt;dbl&gt;</th><th scope=col>&lt;dbl&gt;</th></tr>\n",
       "</thead>\n",
       "<tbody>\n",
       "\t<tr><th scope=row>2</th><td>visit_mod   </td><td>9</td><td>296.6216</td><td>0.000000</td><td>1.0000000</td><td>0.43961651</td><td>-138.9449</td><td>0.4396165</td></tr>\n",
       "\t<tr><th scope=row>1</th><td>null_mod    </td><td>6</td><td>297.7538</td><td>1.132195</td><td>0.5677367</td><td>0.24958644</td><td>-142.7082</td><td>0.6892030</td></tr>\n",
       "\t<tr><th scope=row>4</th><td>side_mod    </td><td>7</td><td>299.6181</td><td>2.996522</td><td>0.2235185</td><td>0.09826242</td><td>-142.5832</td><td>0.7874654</td></tr>\n",
       "\t<tr><th scope=row>5</th><td>tsm_mod     </td><td>7</td><td>299.6339</td><td>3.012359</td><td>0.2217556</td><td>0.09748741</td><td>-142.5912</td><td>0.8849528</td></tr>\n",
       "\t<tr><th scope=row>3</th><td>solution_mod</td><td>7</td><td>299.8623</td><td>3.240713</td><td>0.1978281</td><td>0.08696851</td><td>-142.7053</td><td>0.9719213</td></tr>\n",
       "</tbody>\n",
       "</table>\n",
       "</dd>\n",
       "</dl>\n"
      ],
      "text/latex": [
       "\\begin{description}\n",
       "\\item[\\$method] 'raw'\n",
       "\\item[\\$level] 0.95\n",
       "\\item[\\$table] A aictab: 5 × 8\n",
       "\\begin{tabular}{r|llllllll}\n",
       "  & Modnames & K & AICc & Delta\\_AICc & ModelLik & AICcWt & LL & Cum.Wt\\\\\n",
       "  & <chr> & <dbl> & <dbl> & <dbl> & <dbl> & <dbl> & <dbl> & <dbl>\\\\\n",
       "\\hline\n",
       "\t2 & visit\\_mod    & 9 & 296.6216 & 0.000000 & 1.0000000 & 0.43961651 & -138.9449 & 0.4396165\\\\\n",
       "\t1 & null\\_mod     & 6 & 297.7538 & 1.132195 & 0.5677367 & 0.24958644 & -142.7082 & 0.6892030\\\\\n",
       "\t4 & side\\_mod     & 7 & 299.6181 & 2.996522 & 0.2235185 & 0.09826242 & -142.5832 & 0.7874654\\\\\n",
       "\t5 & tsm\\_mod      & 7 & 299.6339 & 3.012359 & 0.2217556 & 0.09748741 & -142.5912 & 0.8849528\\\\\n",
       "\t3 & solution\\_mod & 7 & 299.8623 & 3.240713 & 0.1978281 & 0.08696851 & -142.7053 & 0.9719213\\\\\n",
       "\\end{tabular}\n",
       "\n",
       "\\end{description}\n"
      ],
      "text/markdown": [
       "$method\n",
       ":   'raw'\n",
       "$level\n",
       ":   0.95\n",
       "$table\n",
       ":   \n",
       "A aictab: 5 × 8\n",
       "\n",
       "| <!--/--> | Modnames &lt;chr&gt; | K &lt;dbl&gt; | AICc &lt;dbl&gt; | Delta_AICc &lt;dbl&gt; | ModelLik &lt;dbl&gt; | AICcWt &lt;dbl&gt; | LL &lt;dbl&gt; | Cum.Wt &lt;dbl&gt; |\n",
       "|---|---|---|---|---|---|---|---|---|\n",
       "| 2 | visit_mod    | 9 | 296.6216 | 0.000000 | 1.0000000 | 0.43961651 | -138.9449 | 0.4396165 |\n",
       "| 1 | null_mod     | 6 | 297.7538 | 1.132195 | 0.5677367 | 0.24958644 | -142.7082 | 0.6892030 |\n",
       "| 4 | side_mod     | 7 | 299.6181 | 2.996522 | 0.2235185 | 0.09826242 | -142.5832 | 0.7874654 |\n",
       "| 5 | tsm_mod      | 7 | 299.6339 | 3.012359 | 0.2217556 | 0.09748741 | -142.5912 | 0.8849528 |\n",
       "| 3 | solution_mod | 7 | 299.8623 | 3.240713 | 0.1978281 | 0.08696851 | -142.7053 | 0.9719213 |\n",
       "\n",
       "\n",
       "\n",
       "\n"
      ],
      "text/plain": [
       "\n",
       "Confidence set for the best model\n",
       "\n",
       "Method:\t raw sum of model probabilities\n",
       "\n",
       "95% confidence set:\n",
       "             K   AICc Delta_AICc AICcWt\n",
       "visit_mod    9 296.62       0.00   0.44\n",
       "null_mod     6 297.75       1.13   0.25\n",
       "side_mod     7 299.62       3.00   0.10\n",
       "tsm_mod      7 299.63       3.01   0.10\n",
       "solution_mod 7 299.86       3.24   0.09\n",
       "\n",
       "Model probabilities sum to 0.97 \n"
      ]
     },
     "metadata": {},
     "output_type": "display_data"
    }
   ],
   "source": [
    "confset(cand.set = cand_models) # Remove models that explain the last 0.05 Cum.Wt"
   ]
  },
  {
   "cell_type": "markdown",
   "id": "09b05465",
   "metadata": {},
   "source": [
    "There is no clearly better model!"
   ]
  },
  {
   "cell_type": "code",
   "execution_count": 23,
   "id": "7a07059d",
   "metadata": {
    "scrolled": true,
    "vscode": {
     "languageId": "r"
    }
   },
   "outputs": [
    {
     "data": {
      "text/html": [
       "<dl>\n",
       "\t<dt>$Parameter</dt>\n",
       "\t\t<dd>'(Intercept)'</dd>\n",
       "\t<dt>$Mod.avg.table</dt>\n",
       "\t\t<dd><table class=\"dataframe\">\n",
       "<caption>A aictab: 5 × 9</caption>\n",
       "<thead>\n",
       "\t<tr><th scope=col>Modnames</th><th scope=col>K</th><th scope=col>AICc</th><th scope=col>Delta_AICc</th><th scope=col>ModelLik</th><th scope=col>AICcWt</th><th scope=col>LL</th><th scope=col>Beta_est</th><th scope=col>SE</th></tr>\n",
       "\t<tr><th scope=col>&lt;chr&gt;</th><th scope=col>&lt;dbl&gt;</th><th scope=col>&lt;dbl&gt;</th><th scope=col>&lt;dbl&gt;</th><th scope=col>&lt;dbl&gt;</th><th scope=col>&lt;dbl&gt;</th><th scope=col>&lt;dbl&gt;</th><th scope=col>&lt;dbl&gt;</th><th scope=col>&lt;dbl&gt;</th></tr>\n",
       "</thead>\n",
       "<tbody>\n",
       "\t<tr><td>visit_mod   </td><td>9</td><td>296.6216</td><td>0.000000</td><td>1.0000000</td><td>0.45231699</td><td>-138.9449</td><td>0.4901548</td><td>0.3717122</td></tr>\n",
       "\t<tr><td>null_mod    </td><td>6</td><td>297.7538</td><td>1.132195</td><td>0.5677367</td><td>0.25679697</td><td>-142.7082</td><td>1.1078197</td><td>0.2862312</td></tr>\n",
       "\t<tr><td>side_mod    </td><td>7</td><td>299.6181</td><td>2.996522</td><td>0.2235185</td><td>0.10110121</td><td>-142.5832</td><td>1.1965340</td><td>0.3407288</td></tr>\n",
       "\t<tr><td>tsm_mod     </td><td>7</td><td>299.6339</td><td>3.012359</td><td>0.2217556</td><td>0.10030381</td><td>-142.5912</td><td>1.1859848</td><td>0.3301364</td></tr>\n",
       "\t<tr><td>solution_mod</td><td>7</td><td>299.8623</td><td>3.240713</td><td>0.1978281</td><td>0.08948102</td><td>-142.7053</td><td>1.0917235</td><td>0.3546333</td></tr>\n",
       "</tbody>\n",
       "</table>\n",
       "</dd>\n",
       "\t<dt>$Mod.avg.beta</dt>\n",
       "\t\t<dd>0.8438084420069</dd>\n",
       "\t<dt>$Uncond.SE</dt>\n",
       "\t\t<dd>0.470905396402143</dd>\n",
       "\t<dt>$Conf.level</dt>\n",
       "\t\t<dd>0.95</dd>\n",
       "\t<dt>$Lower.CL</dt>\n",
       "\t\t<dd>-0.0791491750668573</dd>\n",
       "\t<dt>$Upper.CL</dt>\n",
       "\t\t<dd>1.76676605908066</dd>\n",
       "</dl>\n"
      ],
      "text/latex": [
       "\\begin{description}\n",
       "\\item[\\$Parameter] '(Intercept)'\n",
       "\\item[\\$Mod.avg.table] A aictab: 5 × 9\n",
       "\\begin{tabular}{lllllllll}\n",
       " Modnames & K & AICc & Delta\\_AICc & ModelLik & AICcWt & LL & Beta\\_est & SE\\\\\n",
       " <chr> & <dbl> & <dbl> & <dbl> & <dbl> & <dbl> & <dbl> & <dbl> & <dbl>\\\\\n",
       "\\hline\n",
       "\t visit\\_mod    & 9 & 296.6216 & 0.000000 & 1.0000000 & 0.45231699 & -138.9449 & 0.4901548 & 0.3717122\\\\\n",
       "\t null\\_mod     & 6 & 297.7538 & 1.132195 & 0.5677367 & 0.25679697 & -142.7082 & 1.1078197 & 0.2862312\\\\\n",
       "\t side\\_mod     & 7 & 299.6181 & 2.996522 & 0.2235185 & 0.10110121 & -142.5832 & 1.1965340 & 0.3407288\\\\\n",
       "\t tsm\\_mod      & 7 & 299.6339 & 3.012359 & 0.2217556 & 0.10030381 & -142.5912 & 1.1859848 & 0.3301364\\\\\n",
       "\t solution\\_mod & 7 & 299.8623 & 3.240713 & 0.1978281 & 0.08948102 & -142.7053 & 1.0917235 & 0.3546333\\\\\n",
       "\\end{tabular}\n",
       "\n",
       "\\item[\\$Mod.avg.beta] 0.8438084420069\n",
       "\\item[\\$Uncond.SE] 0.470905396402143\n",
       "\\item[\\$Conf.level] 0.95\n",
       "\\item[\\$Lower.CL] -0.0791491750668573\n",
       "\\item[\\$Upper.CL] 1.76676605908066\n",
       "\\end{description}\n"
      ],
      "text/markdown": [
       "$Parameter\n",
       ":   '(Intercept)'\n",
       "$Mod.avg.table\n",
       ":   \n",
       "A aictab: 5 × 9\n",
       "\n",
       "| Modnames &lt;chr&gt; | K &lt;dbl&gt; | AICc &lt;dbl&gt; | Delta_AICc &lt;dbl&gt; | ModelLik &lt;dbl&gt; | AICcWt &lt;dbl&gt; | LL &lt;dbl&gt; | Beta_est &lt;dbl&gt; | SE &lt;dbl&gt; |\n",
       "|---|---|---|---|---|---|---|---|---|\n",
       "| visit_mod    | 9 | 296.6216 | 0.000000 | 1.0000000 | 0.45231699 | -138.9449 | 0.4901548 | 0.3717122 |\n",
       "| null_mod     | 6 | 297.7538 | 1.132195 | 0.5677367 | 0.25679697 | -142.7082 | 1.1078197 | 0.2862312 |\n",
       "| side_mod     | 7 | 299.6181 | 2.996522 | 0.2235185 | 0.10110121 | -142.5832 | 1.1965340 | 0.3407288 |\n",
       "| tsm_mod      | 7 | 299.6339 | 3.012359 | 0.2217556 | 0.10030381 | -142.5912 | 1.1859848 | 0.3301364 |\n",
       "| solution_mod | 7 | 299.8623 | 3.240713 | 0.1978281 | 0.08948102 | -142.7053 | 1.0917235 | 0.3546333 |\n",
       "\n",
       "\n",
       "$Mod.avg.beta\n",
       ":   0.8438084420069\n",
       "$Uncond.SE\n",
       ":   0.470905396402143\n",
       "$Conf.level\n",
       ":   0.95\n",
       "$Lower.CL\n",
       ":   -0.0791491750668573\n",
       "$Upper.CL\n",
       ":   1.76676605908066\n",
       "\n",
       "\n"
      ],
      "text/plain": [
       "\n",
       "Multimodel inference on \"(Intercept)\" based on AICc\n",
       "\n",
       "AICc table used to obtain model-averaged estimate with shrinkage:\n",
       "\n",
       "             K   AICc Delta_AICc AICcWt Estimate   SE\n",
       "visit_mod    9 296.62       0.00   0.45     0.49 0.37\n",
       "null_mod     6 297.75       1.13   0.26     1.11 0.29\n",
       "side_mod     7 299.62       3.00   0.10     1.20 0.34\n",
       "tsm_mod      7 299.63       3.01   0.10     1.19 0.33\n",
       "solution_mod 7 299.86       3.24   0.09     1.09 0.35\n",
       "\n",
       "Model-averaged estimate with shrinkage: 0.84 \n",
       "Unconditional SE: 0.47 \n",
       "95% Unconditional confidence interval: -0.08, 1.77\n"
      ]
     },
     "metadata": {},
     "output_type": "display_data"
    },
    {
     "data": {
      "text/html": [
       "<dl>\n",
       "\t<dt>$Parameter</dt>\n",
       "\t\t<dd>'SolutionTaurine'</dd>\n",
       "\t<dt>$Mod.avg.table</dt>\n",
       "\t\t<dd><table class=\"dataframe\">\n",
       "<caption>A aictab: 5 × 9</caption>\n",
       "<thead>\n",
       "\t<tr><th scope=col>Modnames</th><th scope=col>K</th><th scope=col>AICc</th><th scope=col>Delta_AICc</th><th scope=col>ModelLik</th><th scope=col>AICcWt</th><th scope=col>LL</th><th scope=col>Beta_est</th><th scope=col>SE</th></tr>\n",
       "\t<tr><th scope=col>&lt;chr&gt;</th><th scope=col>&lt;dbl&gt;</th><th scope=col>&lt;dbl&gt;</th><th scope=col>&lt;dbl&gt;</th><th scope=col>&lt;dbl&gt;</th><th scope=col>&lt;dbl&gt;</th><th scope=col>&lt;dbl&gt;</th><th scope=col>&lt;dbl&gt;</th><th scope=col>&lt;dbl&gt;</th></tr>\n",
       "</thead>\n",
       "<tbody>\n",
       "\t<tr><td>visit_mod   </td><td>9</td><td>296.6216</td><td>0.000000</td><td>1.0000000</td><td>0.45231699</td><td>-138.9449</td><td>0.00000000</td><td>0.0000000</td></tr>\n",
       "\t<tr><td>null_mod    </td><td>6</td><td>297.7538</td><td>1.132195</td><td>0.5677367</td><td>0.25679697</td><td>-142.7082</td><td>0.00000000</td><td>0.0000000</td></tr>\n",
       "\t<tr><td>side_mod    </td><td>7</td><td>299.6181</td><td>2.996522</td><td>0.2235185</td><td>0.10110121</td><td>-142.5832</td><td>0.00000000</td><td>0.0000000</td></tr>\n",
       "\t<tr><td>tsm_mod     </td><td>7</td><td>299.6339</td><td>3.012359</td><td>0.2217556</td><td>0.10030381</td><td>-142.5912</td><td>0.00000000</td><td>0.0000000</td></tr>\n",
       "\t<tr><td>solution_mod</td><td>7</td><td>299.8623</td><td>3.240713</td><td>0.1978281</td><td>0.08948102</td><td>-142.7053</td><td>0.02749437</td><td>0.3625193</td></tr>\n",
       "</tbody>\n",
       "</table>\n",
       "</dd>\n",
       "\t<dt>$Mod.avg.beta</dt>\n",
       "\t\t<dd>0.00246022380218827</dd>\n",
       "\t<dt>$Uncond.SE</dt>\n",
       "\t\t<dd>0.108725380211088</dd>\n",
       "\t<dt>$Conf.level</dt>\n",
       "\t\t<dd>0.95</dd>\n",
       "\t<dt>$Lower.CL</dt>\n",
       "\t\t<dd>-0.210637605616969</dd>\n",
       "\t<dt>$Upper.CL</dt>\n",
       "\t\t<dd>0.215558053221345</dd>\n",
       "</dl>\n"
      ],
      "text/latex": [
       "\\begin{description}\n",
       "\\item[\\$Parameter] 'SolutionTaurine'\n",
       "\\item[\\$Mod.avg.table] A aictab: 5 × 9\n",
       "\\begin{tabular}{lllllllll}\n",
       " Modnames & K & AICc & Delta\\_AICc & ModelLik & AICcWt & LL & Beta\\_est & SE\\\\\n",
       " <chr> & <dbl> & <dbl> & <dbl> & <dbl> & <dbl> & <dbl> & <dbl> & <dbl>\\\\\n",
       "\\hline\n",
       "\t visit\\_mod    & 9 & 296.6216 & 0.000000 & 1.0000000 & 0.45231699 & -138.9449 & 0.00000000 & 0.0000000\\\\\n",
       "\t null\\_mod     & 6 & 297.7538 & 1.132195 & 0.5677367 & 0.25679697 & -142.7082 & 0.00000000 & 0.0000000\\\\\n",
       "\t side\\_mod     & 7 & 299.6181 & 2.996522 & 0.2235185 & 0.10110121 & -142.5832 & 0.00000000 & 0.0000000\\\\\n",
       "\t tsm\\_mod      & 7 & 299.6339 & 3.012359 & 0.2217556 & 0.10030381 & -142.5912 & 0.00000000 & 0.0000000\\\\\n",
       "\t solution\\_mod & 7 & 299.8623 & 3.240713 & 0.1978281 & 0.08948102 & -142.7053 & 0.02749437 & 0.3625193\\\\\n",
       "\\end{tabular}\n",
       "\n",
       "\\item[\\$Mod.avg.beta] 0.00246022380218827\n",
       "\\item[\\$Uncond.SE] 0.108725380211088\n",
       "\\item[\\$Conf.level] 0.95\n",
       "\\item[\\$Lower.CL] -0.210637605616969\n",
       "\\item[\\$Upper.CL] 0.215558053221345\n",
       "\\end{description}\n"
      ],
      "text/markdown": [
       "$Parameter\n",
       ":   'SolutionTaurine'\n",
       "$Mod.avg.table\n",
       ":   \n",
       "A aictab: 5 × 9\n",
       "\n",
       "| Modnames &lt;chr&gt; | K &lt;dbl&gt; | AICc &lt;dbl&gt; | Delta_AICc &lt;dbl&gt; | ModelLik &lt;dbl&gt; | AICcWt &lt;dbl&gt; | LL &lt;dbl&gt; | Beta_est &lt;dbl&gt; | SE &lt;dbl&gt; |\n",
       "|---|---|---|---|---|---|---|---|---|\n",
       "| visit_mod    | 9 | 296.6216 | 0.000000 | 1.0000000 | 0.45231699 | -138.9449 | 0.00000000 | 0.0000000 |\n",
       "| null_mod     | 6 | 297.7538 | 1.132195 | 0.5677367 | 0.25679697 | -142.7082 | 0.00000000 | 0.0000000 |\n",
       "| side_mod     | 7 | 299.6181 | 2.996522 | 0.2235185 | 0.10110121 | -142.5832 | 0.00000000 | 0.0000000 |\n",
       "| tsm_mod      | 7 | 299.6339 | 3.012359 | 0.2217556 | 0.10030381 | -142.5912 | 0.00000000 | 0.0000000 |\n",
       "| solution_mod | 7 | 299.8623 | 3.240713 | 0.1978281 | 0.08948102 | -142.7053 | 0.02749437 | 0.3625193 |\n",
       "\n",
       "\n",
       "$Mod.avg.beta\n",
       ":   0.00246022380218827\n",
       "$Uncond.SE\n",
       ":   0.108725380211088\n",
       "$Conf.level\n",
       ":   0.95\n",
       "$Lower.CL\n",
       ":   -0.210637605616969\n",
       "$Upper.CL\n",
       ":   0.215558053221345\n",
       "\n",
       "\n"
      ],
      "text/plain": [
       "\n",
       "Multimodel inference on \"SolutionTaurine\" based on AICc\n",
       "\n",
       "AICc table used to obtain model-averaged estimate with shrinkage:\n",
       "\n",
       "             K   AICc Delta_AICc AICcWt Estimate   SE\n",
       "visit_mod    9 296.62       0.00   0.45     0.00 0.00\n",
       "null_mod     6 297.75       1.13   0.26     0.00 0.00\n",
       "side_mod     7 299.62       3.00   0.10     0.00 0.00\n",
       "tsm_mod      7 299.63       3.01   0.10     0.00 0.00\n",
       "solution_mod 7 299.86       3.24   0.09     0.03 0.36\n",
       "\n",
       "Model-averaged estimate with shrinkage: 0 \n",
       "Unconditional SE: 0.11 \n",
       "95% Unconditional confidence interval: -0.21, 0.22\n"
      ]
     },
     "metadata": {},
     "output_type": "display_data"
    },
    {
     "data": {
      "text/html": [
       "<dl>\n",
       "\t<dt>$Parameter</dt>\n",
       "\t\t<dd>'Visit3'</dd>\n",
       "\t<dt>$Mod.avg.table</dt>\n",
       "\t\t<dd><table class=\"dataframe\">\n",
       "<caption>A aictab: 5 × 9</caption>\n",
       "<thead>\n",
       "\t<tr><th scope=col>Modnames</th><th scope=col>K</th><th scope=col>AICc</th><th scope=col>Delta_AICc</th><th scope=col>ModelLik</th><th scope=col>AICcWt</th><th scope=col>LL</th><th scope=col>Beta_est</th><th scope=col>SE</th></tr>\n",
       "\t<tr><th scope=col>&lt;chr&gt;</th><th scope=col>&lt;dbl&gt;</th><th scope=col>&lt;dbl&gt;</th><th scope=col>&lt;dbl&gt;</th><th scope=col>&lt;dbl&gt;</th><th scope=col>&lt;dbl&gt;</th><th scope=col>&lt;dbl&gt;</th><th scope=col>&lt;dbl&gt;</th><th scope=col>&lt;dbl&gt;</th></tr>\n",
       "</thead>\n",
       "<tbody>\n",
       "\t<tr><td>visit_mod   </td><td>9</td><td>296.6216</td><td>0.000000</td><td>1.0000000</td><td>0.45231699</td><td>-138.9449</td><td>0.6892302</td><td>0.4222998</td></tr>\n",
       "\t<tr><td>null_mod    </td><td>6</td><td>297.7538</td><td>1.132195</td><td>0.5677367</td><td>0.25679697</td><td>-142.7082</td><td>0.0000000</td><td>0.0000000</td></tr>\n",
       "\t<tr><td>side_mod    </td><td>7</td><td>299.6181</td><td>2.996522</td><td>0.2235185</td><td>0.10110121</td><td>-142.5832</td><td>0.0000000</td><td>0.0000000</td></tr>\n",
       "\t<tr><td>tsm_mod     </td><td>7</td><td>299.6339</td><td>3.012359</td><td>0.2217556</td><td>0.10030381</td><td>-142.5912</td><td>0.0000000</td><td>0.0000000</td></tr>\n",
       "\t<tr><td>solution_mod</td><td>7</td><td>299.8623</td><td>3.240713</td><td>0.1978281</td><td>0.08948102</td><td>-142.7053</td><td>0.0000000</td><td>0.0000000</td></tr>\n",
       "</tbody>\n",
       "</table>\n",
       "</dd>\n",
       "\t<dt>$Mod.avg.beta</dt>\n",
       "\t\t<dd>0.311750534770147</dd>\n",
       "\t<dt>$Uncond.SE</dt>\n",
       "\t\t<dd>0.445358729923895</dd>\n",
       "\t<dt>$Conf.level</dt>\n",
       "\t\t<dd>0.95</dd>\n",
       "\t<dt>$Lower.CL</dt>\n",
       "\t\t<dd>-0.561136536081187</dd>\n",
       "\t<dt>$Upper.CL</dt>\n",
       "\t\t<dd>1.18463760562148</dd>\n",
       "</dl>\n"
      ],
      "text/latex": [
       "\\begin{description}\n",
       "\\item[\\$Parameter] 'Visit3'\n",
       "\\item[\\$Mod.avg.table] A aictab: 5 × 9\n",
       "\\begin{tabular}{lllllllll}\n",
       " Modnames & K & AICc & Delta\\_AICc & ModelLik & AICcWt & LL & Beta\\_est & SE\\\\\n",
       " <chr> & <dbl> & <dbl> & <dbl> & <dbl> & <dbl> & <dbl> & <dbl> & <dbl>\\\\\n",
       "\\hline\n",
       "\t visit\\_mod    & 9 & 296.6216 & 0.000000 & 1.0000000 & 0.45231699 & -138.9449 & 0.6892302 & 0.4222998\\\\\n",
       "\t null\\_mod     & 6 & 297.7538 & 1.132195 & 0.5677367 & 0.25679697 & -142.7082 & 0.0000000 & 0.0000000\\\\\n",
       "\t side\\_mod     & 7 & 299.6181 & 2.996522 & 0.2235185 & 0.10110121 & -142.5832 & 0.0000000 & 0.0000000\\\\\n",
       "\t tsm\\_mod      & 7 & 299.6339 & 3.012359 & 0.2217556 & 0.10030381 & -142.5912 & 0.0000000 & 0.0000000\\\\\n",
       "\t solution\\_mod & 7 & 299.8623 & 3.240713 & 0.1978281 & 0.08948102 & -142.7053 & 0.0000000 & 0.0000000\\\\\n",
       "\\end{tabular}\n",
       "\n",
       "\\item[\\$Mod.avg.beta] 0.311750534770147\n",
       "\\item[\\$Uncond.SE] 0.445358729923895\n",
       "\\item[\\$Conf.level] 0.95\n",
       "\\item[\\$Lower.CL] -0.561136536081187\n",
       "\\item[\\$Upper.CL] 1.18463760562148\n",
       "\\end{description}\n"
      ],
      "text/markdown": [
       "$Parameter\n",
       ":   'Visit3'\n",
       "$Mod.avg.table\n",
       ":   \n",
       "A aictab: 5 × 9\n",
       "\n",
       "| Modnames &lt;chr&gt; | K &lt;dbl&gt; | AICc &lt;dbl&gt; | Delta_AICc &lt;dbl&gt; | ModelLik &lt;dbl&gt; | AICcWt &lt;dbl&gt; | LL &lt;dbl&gt; | Beta_est &lt;dbl&gt; | SE &lt;dbl&gt; |\n",
       "|---|---|---|---|---|---|---|---|---|\n",
       "| visit_mod    | 9 | 296.6216 | 0.000000 | 1.0000000 | 0.45231699 | -138.9449 | 0.6892302 | 0.4222998 |\n",
       "| null_mod     | 6 | 297.7538 | 1.132195 | 0.5677367 | 0.25679697 | -142.7082 | 0.0000000 | 0.0000000 |\n",
       "| side_mod     | 7 | 299.6181 | 2.996522 | 0.2235185 | 0.10110121 | -142.5832 | 0.0000000 | 0.0000000 |\n",
       "| tsm_mod      | 7 | 299.6339 | 3.012359 | 0.2217556 | 0.10030381 | -142.5912 | 0.0000000 | 0.0000000 |\n",
       "| solution_mod | 7 | 299.8623 | 3.240713 | 0.1978281 | 0.08948102 | -142.7053 | 0.0000000 | 0.0000000 |\n",
       "\n",
       "\n",
       "$Mod.avg.beta\n",
       ":   0.311750534770147\n",
       "$Uncond.SE\n",
       ":   0.445358729923895\n",
       "$Conf.level\n",
       ":   0.95\n",
       "$Lower.CL\n",
       ":   -0.561136536081187\n",
       "$Upper.CL\n",
       ":   1.18463760562148\n",
       "\n",
       "\n"
      ],
      "text/plain": [
       "\n",
       "Multimodel inference on \"Visit3\" based on AICc\n",
       "\n",
       "AICc table used to obtain model-averaged estimate with shrinkage:\n",
       "\n",
       "             K   AICc Delta_AICc AICcWt Estimate   SE\n",
       "visit_mod    9 296.62       0.00   0.45     0.69 0.42\n",
       "null_mod     6 297.75       1.13   0.26     0.00 0.00\n",
       "side_mod     7 299.62       3.00   0.10     0.00 0.00\n",
       "tsm_mod      7 299.63       3.01   0.10     0.00 0.00\n",
       "solution_mod 7 299.86       3.24   0.09     0.00 0.00\n",
       "\n",
       "Model-averaged estimate with shrinkage: 0.31 \n",
       "Unconditional SE: 0.45 \n",
       "95% Unconditional confidence interval: -0.56, 1.18\n"
      ]
     },
     "metadata": {},
     "output_type": "display_data"
    },
    {
     "data": {
      "text/html": [
       "<dl>\n",
       "\t<dt>$Parameter</dt>\n",
       "\t\t<dd>'Visit4'</dd>\n",
       "\t<dt>$Mod.avg.table</dt>\n",
       "\t\t<dd><table class=\"dataframe\">\n",
       "<caption>A aictab: 5 × 9</caption>\n",
       "<thead>\n",
       "\t<tr><th scope=col>Modnames</th><th scope=col>K</th><th scope=col>AICc</th><th scope=col>Delta_AICc</th><th scope=col>ModelLik</th><th scope=col>AICcWt</th><th scope=col>LL</th><th scope=col>Beta_est</th><th scope=col>SE</th></tr>\n",
       "\t<tr><th scope=col>&lt;chr&gt;</th><th scope=col>&lt;dbl&gt;</th><th scope=col>&lt;dbl&gt;</th><th scope=col>&lt;dbl&gt;</th><th scope=col>&lt;dbl&gt;</th><th scope=col>&lt;dbl&gt;</th><th scope=col>&lt;dbl&gt;</th><th scope=col>&lt;dbl&gt;</th><th scope=col>&lt;dbl&gt;</th></tr>\n",
       "</thead>\n",
       "<tbody>\n",
       "\t<tr><td>visit_mod   </td><td>9</td><td>296.6216</td><td>0.000000</td><td>1.0000000</td><td>0.45231699</td><td>-138.9449</td><td>1.106921</td><td>0.4486892</td></tr>\n",
       "\t<tr><td>null_mod    </td><td>6</td><td>297.7538</td><td>1.132195</td><td>0.5677367</td><td>0.25679697</td><td>-142.7082</td><td>0.000000</td><td>0.0000000</td></tr>\n",
       "\t<tr><td>side_mod    </td><td>7</td><td>299.6181</td><td>2.996522</td><td>0.2235185</td><td>0.10110121</td><td>-142.5832</td><td>0.000000</td><td>0.0000000</td></tr>\n",
       "\t<tr><td>tsm_mod     </td><td>7</td><td>299.6339</td><td>3.012359</td><td>0.2217556</td><td>0.10030381</td><td>-142.5912</td><td>0.000000</td><td>0.0000000</td></tr>\n",
       "\t<tr><td>solution_mod</td><td>7</td><td>299.8623</td><td>3.240713</td><td>0.1978281</td><td>0.08948102</td><td>-142.7053</td><td>0.000000</td><td>0.0000000</td></tr>\n",
       "</tbody>\n",
       "</table>\n",
       "</dd>\n",
       "\t<dt>$Mod.avg.beta</dt>\n",
       "\t\t<dd>0.500679168604639</dd>\n",
       "\t<dt>$Uncond.SE</dt>\n",
       "\t\t<dd>0.628167189701118</dd>\n",
       "\t<dt>$Conf.level</dt>\n",
       "\t\t<dd>0.95</dd>\n",
       "\t<dt>$Lower.CL</dt>\n",
       "\t\t<dd>-0.730505899479293</dd>\n",
       "\t<dt>$Upper.CL</dt>\n",
       "\t\t<dd>1.73186423668857</dd>\n",
       "</dl>\n"
      ],
      "text/latex": [
       "\\begin{description}\n",
       "\\item[\\$Parameter] 'Visit4'\n",
       "\\item[\\$Mod.avg.table] A aictab: 5 × 9\n",
       "\\begin{tabular}{lllllllll}\n",
       " Modnames & K & AICc & Delta\\_AICc & ModelLik & AICcWt & LL & Beta\\_est & SE\\\\\n",
       " <chr> & <dbl> & <dbl> & <dbl> & <dbl> & <dbl> & <dbl> & <dbl> & <dbl>\\\\\n",
       "\\hline\n",
       "\t visit\\_mod    & 9 & 296.6216 & 0.000000 & 1.0000000 & 0.45231699 & -138.9449 & 1.106921 & 0.4486892\\\\\n",
       "\t null\\_mod     & 6 & 297.7538 & 1.132195 & 0.5677367 & 0.25679697 & -142.7082 & 0.000000 & 0.0000000\\\\\n",
       "\t side\\_mod     & 7 & 299.6181 & 2.996522 & 0.2235185 & 0.10110121 & -142.5832 & 0.000000 & 0.0000000\\\\\n",
       "\t tsm\\_mod      & 7 & 299.6339 & 3.012359 & 0.2217556 & 0.10030381 & -142.5912 & 0.000000 & 0.0000000\\\\\n",
       "\t solution\\_mod & 7 & 299.8623 & 3.240713 & 0.1978281 & 0.08948102 & -142.7053 & 0.000000 & 0.0000000\\\\\n",
       "\\end{tabular}\n",
       "\n",
       "\\item[\\$Mod.avg.beta] 0.500679168604639\n",
       "\\item[\\$Uncond.SE] 0.628167189701118\n",
       "\\item[\\$Conf.level] 0.95\n",
       "\\item[\\$Lower.CL] -0.730505899479293\n",
       "\\item[\\$Upper.CL] 1.73186423668857\n",
       "\\end{description}\n"
      ],
      "text/markdown": [
       "$Parameter\n",
       ":   'Visit4'\n",
       "$Mod.avg.table\n",
       ":   \n",
       "A aictab: 5 × 9\n",
       "\n",
       "| Modnames &lt;chr&gt; | K &lt;dbl&gt; | AICc &lt;dbl&gt; | Delta_AICc &lt;dbl&gt; | ModelLik &lt;dbl&gt; | AICcWt &lt;dbl&gt; | LL &lt;dbl&gt; | Beta_est &lt;dbl&gt; | SE &lt;dbl&gt; |\n",
       "|---|---|---|---|---|---|---|---|---|\n",
       "| visit_mod    | 9 | 296.6216 | 0.000000 | 1.0000000 | 0.45231699 | -138.9449 | 1.106921 | 0.4486892 |\n",
       "| null_mod     | 6 | 297.7538 | 1.132195 | 0.5677367 | 0.25679697 | -142.7082 | 0.000000 | 0.0000000 |\n",
       "| side_mod     | 7 | 299.6181 | 2.996522 | 0.2235185 | 0.10110121 | -142.5832 | 0.000000 | 0.0000000 |\n",
       "| tsm_mod      | 7 | 299.6339 | 3.012359 | 0.2217556 | 0.10030381 | -142.5912 | 0.000000 | 0.0000000 |\n",
       "| solution_mod | 7 | 299.8623 | 3.240713 | 0.1978281 | 0.08948102 | -142.7053 | 0.000000 | 0.0000000 |\n",
       "\n",
       "\n",
       "$Mod.avg.beta\n",
       ":   0.500679168604639\n",
       "$Uncond.SE\n",
       ":   0.628167189701118\n",
       "$Conf.level\n",
       ":   0.95\n",
       "$Lower.CL\n",
       ":   -0.730505899479293\n",
       "$Upper.CL\n",
       ":   1.73186423668857\n",
       "\n",
       "\n"
      ],
      "text/plain": [
       "\n",
       "Multimodel inference on \"Visit4\" based on AICc\n",
       "\n",
       "AICc table used to obtain model-averaged estimate with shrinkage:\n",
       "\n",
       "             K   AICc Delta_AICc AICcWt Estimate   SE\n",
       "visit_mod    9 296.62       0.00   0.45     1.11 0.45\n",
       "null_mod     6 297.75       1.13   0.26     0.00 0.00\n",
       "side_mod     7 299.62       3.00   0.10     0.00 0.00\n",
       "tsm_mod      7 299.63       3.01   0.10     0.00 0.00\n",
       "solution_mod 7 299.86       3.24   0.09     0.00 0.00\n",
       "\n",
       "Model-averaged estimate with shrinkage: 0.5 \n",
       "Unconditional SE: 0.63 \n",
       "95% Unconditional confidence interval: -0.73, 1.73\n"
      ]
     },
     "metadata": {},
     "output_type": "display_data"
    },
    {
     "data": {
      "text/html": [
       "<dl>\n",
       "\t<dt>$Parameter</dt>\n",
       "\t\t<dd>'Visit5'</dd>\n",
       "\t<dt>$Mod.avg.table</dt>\n",
       "\t\t<dd><table class=\"dataframe\">\n",
       "<caption>A aictab: 5 × 9</caption>\n",
       "<thead>\n",
       "\t<tr><th scope=col>Modnames</th><th scope=col>K</th><th scope=col>AICc</th><th scope=col>Delta_AICc</th><th scope=col>ModelLik</th><th scope=col>AICcWt</th><th scope=col>LL</th><th scope=col>Beta_est</th><th scope=col>SE</th></tr>\n",
       "\t<tr><th scope=col>&lt;chr&gt;</th><th scope=col>&lt;dbl&gt;</th><th scope=col>&lt;dbl&gt;</th><th scope=col>&lt;dbl&gt;</th><th scope=col>&lt;dbl&gt;</th><th scope=col>&lt;dbl&gt;</th><th scope=col>&lt;dbl&gt;</th><th scope=col>&lt;dbl&gt;</th><th scope=col>&lt;dbl&gt;</th></tr>\n",
       "</thead>\n",
       "<tbody>\n",
       "\t<tr><td>visit_mod   </td><td>9</td><td>296.6216</td><td>0.000000</td><td>1.0000000</td><td>0.45231699</td><td>-138.9449</td><td>0.8886019</td><td>0.4336853</td></tr>\n",
       "\t<tr><td>null_mod    </td><td>6</td><td>297.7538</td><td>1.132195</td><td>0.5677367</td><td>0.25679697</td><td>-142.7082</td><td>0.0000000</td><td>0.0000000</td></tr>\n",
       "\t<tr><td>side_mod    </td><td>7</td><td>299.6181</td><td>2.996522</td><td>0.2235185</td><td>0.10110121</td><td>-142.5832</td><td>0.0000000</td><td>0.0000000</td></tr>\n",
       "\t<tr><td>tsm_mod     </td><td>7</td><td>299.6339</td><td>3.012359</td><td>0.2217556</td><td>0.10030381</td><td>-142.5912</td><td>0.0000000</td><td>0.0000000</td></tr>\n",
       "\t<tr><td>solution_mod</td><td>7</td><td>299.8623</td><td>3.240713</td><td>0.1978281</td><td>0.08948102</td><td>-142.7053</td><td>0.0000000</td><td>0.0000000</td></tr>\n",
       "</tbody>\n",
       "</table>\n",
       "</dd>\n",
       "\t<dt>$Mod.avg.beta</dt>\n",
       "\t\t<dd>0.401929753301319</dd>\n",
       "\t<dt>$Uncond.SE</dt>\n",
       "\t\t<dd>0.529793497184098</dd>\n",
       "\t<dt>$Conf.level</dt>\n",
       "\t\t<dd>0.95</dd>\n",
       "\t<dt>$Lower.CL</dt>\n",
       "\t\t<dd>-0.636446420423034</dd>\n",
       "\t<dt>$Upper.CL</dt>\n",
       "\t\t<dd>1.44030592702567</dd>\n",
       "</dl>\n"
      ],
      "text/latex": [
       "\\begin{description}\n",
       "\\item[\\$Parameter] 'Visit5'\n",
       "\\item[\\$Mod.avg.table] A aictab: 5 × 9\n",
       "\\begin{tabular}{lllllllll}\n",
       " Modnames & K & AICc & Delta\\_AICc & ModelLik & AICcWt & LL & Beta\\_est & SE\\\\\n",
       " <chr> & <dbl> & <dbl> & <dbl> & <dbl> & <dbl> & <dbl> & <dbl> & <dbl>\\\\\n",
       "\\hline\n",
       "\t visit\\_mod    & 9 & 296.6216 & 0.000000 & 1.0000000 & 0.45231699 & -138.9449 & 0.8886019 & 0.4336853\\\\\n",
       "\t null\\_mod     & 6 & 297.7538 & 1.132195 & 0.5677367 & 0.25679697 & -142.7082 & 0.0000000 & 0.0000000\\\\\n",
       "\t side\\_mod     & 7 & 299.6181 & 2.996522 & 0.2235185 & 0.10110121 & -142.5832 & 0.0000000 & 0.0000000\\\\\n",
       "\t tsm\\_mod      & 7 & 299.6339 & 3.012359 & 0.2217556 & 0.10030381 & -142.5912 & 0.0000000 & 0.0000000\\\\\n",
       "\t solution\\_mod & 7 & 299.8623 & 3.240713 & 0.1978281 & 0.08948102 & -142.7053 & 0.0000000 & 0.0000000\\\\\n",
       "\\end{tabular}\n",
       "\n",
       "\\item[\\$Mod.avg.beta] 0.401929753301319\n",
       "\\item[\\$Uncond.SE] 0.529793497184098\n",
       "\\item[\\$Conf.level] 0.95\n",
       "\\item[\\$Lower.CL] -0.636446420423034\n",
       "\\item[\\$Upper.CL] 1.44030592702567\n",
       "\\end{description}\n"
      ],
      "text/markdown": [
       "$Parameter\n",
       ":   'Visit5'\n",
       "$Mod.avg.table\n",
       ":   \n",
       "A aictab: 5 × 9\n",
       "\n",
       "| Modnames &lt;chr&gt; | K &lt;dbl&gt; | AICc &lt;dbl&gt; | Delta_AICc &lt;dbl&gt; | ModelLik &lt;dbl&gt; | AICcWt &lt;dbl&gt; | LL &lt;dbl&gt; | Beta_est &lt;dbl&gt; | SE &lt;dbl&gt; |\n",
       "|---|---|---|---|---|---|---|---|---|\n",
       "| visit_mod    | 9 | 296.6216 | 0.000000 | 1.0000000 | 0.45231699 | -138.9449 | 0.8886019 | 0.4336853 |\n",
       "| null_mod     | 6 | 297.7538 | 1.132195 | 0.5677367 | 0.25679697 | -142.7082 | 0.0000000 | 0.0000000 |\n",
       "| side_mod     | 7 | 299.6181 | 2.996522 | 0.2235185 | 0.10110121 | -142.5832 | 0.0000000 | 0.0000000 |\n",
       "| tsm_mod      | 7 | 299.6339 | 3.012359 | 0.2217556 | 0.10030381 | -142.5912 | 0.0000000 | 0.0000000 |\n",
       "| solution_mod | 7 | 299.8623 | 3.240713 | 0.1978281 | 0.08948102 | -142.7053 | 0.0000000 | 0.0000000 |\n",
       "\n",
       "\n",
       "$Mod.avg.beta\n",
       ":   0.401929753301319\n",
       "$Uncond.SE\n",
       ":   0.529793497184098\n",
       "$Conf.level\n",
       ":   0.95\n",
       "$Lower.CL\n",
       ":   -0.636446420423034\n",
       "$Upper.CL\n",
       ":   1.44030592702567\n",
       "\n",
       "\n"
      ],
      "text/plain": [
       "\n",
       "Multimodel inference on \"Visit5\" based on AICc\n",
       "\n",
       "AICc table used to obtain model-averaged estimate with shrinkage:\n",
       "\n",
       "             K   AICc Delta_AICc AICcWt Estimate   SE\n",
       "visit_mod    9 296.62       0.00   0.45     0.89 0.43\n",
       "null_mod     6 297.75       1.13   0.26     0.00 0.00\n",
       "side_mod     7 299.62       3.00   0.10     0.00 0.00\n",
       "tsm_mod      7 299.63       3.01   0.10     0.00 0.00\n",
       "solution_mod 7 299.86       3.24   0.09     0.00 0.00\n",
       "\n",
       "Model-averaged estimate with shrinkage: 0.4 \n",
       "Unconditional SE: 0.53 \n",
       "95% Unconditional confidence interval: -0.64, 1.44\n"
      ]
     },
     "metadata": {},
     "output_type": "display_data"
    },
    {
     "data": {
      "text/html": [
       "<dl>\n",
       "\t<dt>$Parameter</dt>\n",
       "\t\t<dd>'TSM_Bin31-60'</dd>\n",
       "\t<dt>$Mod.avg.table</dt>\n",
       "\t\t<dd><table class=\"dataframe\">\n",
       "<caption>A aictab: 5 × 9</caption>\n",
       "<thead>\n",
       "\t<tr><th scope=col>Modnames</th><th scope=col>K</th><th scope=col>AICc</th><th scope=col>Delta_AICc</th><th scope=col>ModelLik</th><th scope=col>AICcWt</th><th scope=col>LL</th><th scope=col>Beta_est</th><th scope=col>SE</th></tr>\n",
       "\t<tr><th scope=col>&lt;chr&gt;</th><th scope=col>&lt;dbl&gt;</th><th scope=col>&lt;dbl&gt;</th><th scope=col>&lt;dbl&gt;</th><th scope=col>&lt;dbl&gt;</th><th scope=col>&lt;dbl&gt;</th><th scope=col>&lt;dbl&gt;</th><th scope=col>&lt;dbl&gt;</th><th scope=col>&lt;dbl&gt;</th></tr>\n",
       "</thead>\n",
       "<tbody>\n",
       "\t<tr><td>visit_mod   </td><td>9</td><td>296.6216</td><td>0.000000</td><td>1.0000000</td><td>0.45231699</td><td>-138.9449</td><td> 0.0000000</td><td>0.0000000</td></tr>\n",
       "\t<tr><td>null_mod    </td><td>6</td><td>297.7538</td><td>1.132195</td><td>0.5677367</td><td>0.25679697</td><td>-142.7082</td><td> 0.0000000</td><td>0.0000000</td></tr>\n",
       "\t<tr><td>side_mod    </td><td>7</td><td>299.6181</td><td>2.996522</td><td>0.2235185</td><td>0.10110121</td><td>-142.5832</td><td> 0.0000000</td><td>0.0000000</td></tr>\n",
       "\t<tr><td>tsm_mod     </td><td>7</td><td>299.6339</td><td>3.012359</td><td>0.2217556</td><td>0.10030381</td><td>-142.5912</td><td>-0.1732214</td><td>0.3577901</td></tr>\n",
       "\t<tr><td>solution_mod</td><td>7</td><td>299.8623</td><td>3.240713</td><td>0.1978281</td><td>0.08948102</td><td>-142.7053</td><td> 0.0000000</td><td>0.0000000</td></tr>\n",
       "</tbody>\n",
       "</table>\n",
       "</dd>\n",
       "\t<dt>$Mod.avg.beta</dt>\n",
       "\t\t<dd>-0.0173747628229088</dd>\n",
       "\t<dt>$Uncond.SE</dt>\n",
       "\t\t<dd>0.124691874422896</dd>\n",
       "\t<dt>$Conf.level</dt>\n",
       "\t\t<dd>0.95</dd>\n",
       "\t<dt>$Lower.CL</dt>\n",
       "\t\t<dd>-0.261766345856576</dd>\n",
       "\t<dt>$Upper.CL</dt>\n",
       "\t\t<dd>0.227016820210759</dd>\n",
       "</dl>\n"
      ],
      "text/latex": [
       "\\begin{description}\n",
       "\\item[\\$Parameter] 'TSM\\_Bin31-60'\n",
       "\\item[\\$Mod.avg.table] A aictab: 5 × 9\n",
       "\\begin{tabular}{lllllllll}\n",
       " Modnames & K & AICc & Delta\\_AICc & ModelLik & AICcWt & LL & Beta\\_est & SE\\\\\n",
       " <chr> & <dbl> & <dbl> & <dbl> & <dbl> & <dbl> & <dbl> & <dbl> & <dbl>\\\\\n",
       "\\hline\n",
       "\t visit\\_mod    & 9 & 296.6216 & 0.000000 & 1.0000000 & 0.45231699 & -138.9449 &  0.0000000 & 0.0000000\\\\\n",
       "\t null\\_mod     & 6 & 297.7538 & 1.132195 & 0.5677367 & 0.25679697 & -142.7082 &  0.0000000 & 0.0000000\\\\\n",
       "\t side\\_mod     & 7 & 299.6181 & 2.996522 & 0.2235185 & 0.10110121 & -142.5832 &  0.0000000 & 0.0000000\\\\\n",
       "\t tsm\\_mod      & 7 & 299.6339 & 3.012359 & 0.2217556 & 0.10030381 & -142.5912 & -0.1732214 & 0.3577901\\\\\n",
       "\t solution\\_mod & 7 & 299.8623 & 3.240713 & 0.1978281 & 0.08948102 & -142.7053 &  0.0000000 & 0.0000000\\\\\n",
       "\\end{tabular}\n",
       "\n",
       "\\item[\\$Mod.avg.beta] -0.0173747628229088\n",
       "\\item[\\$Uncond.SE] 0.124691874422896\n",
       "\\item[\\$Conf.level] 0.95\n",
       "\\item[\\$Lower.CL] -0.261766345856576\n",
       "\\item[\\$Upper.CL] 0.227016820210759\n",
       "\\end{description}\n"
      ],
      "text/markdown": [
       "$Parameter\n",
       ":   'TSM_Bin31-60'\n",
       "$Mod.avg.table\n",
       ":   \n",
       "A aictab: 5 × 9\n",
       "\n",
       "| Modnames &lt;chr&gt; | K &lt;dbl&gt; | AICc &lt;dbl&gt; | Delta_AICc &lt;dbl&gt; | ModelLik &lt;dbl&gt; | AICcWt &lt;dbl&gt; | LL &lt;dbl&gt; | Beta_est &lt;dbl&gt; | SE &lt;dbl&gt; |\n",
       "|---|---|---|---|---|---|---|---|---|\n",
       "| visit_mod    | 9 | 296.6216 | 0.000000 | 1.0000000 | 0.45231699 | -138.9449 |  0.0000000 | 0.0000000 |\n",
       "| null_mod     | 6 | 297.7538 | 1.132195 | 0.5677367 | 0.25679697 | -142.7082 |  0.0000000 | 0.0000000 |\n",
       "| side_mod     | 7 | 299.6181 | 2.996522 | 0.2235185 | 0.10110121 | -142.5832 |  0.0000000 | 0.0000000 |\n",
       "| tsm_mod      | 7 | 299.6339 | 3.012359 | 0.2217556 | 0.10030381 | -142.5912 | -0.1732214 | 0.3577901 |\n",
       "| solution_mod | 7 | 299.8623 | 3.240713 | 0.1978281 | 0.08948102 | -142.7053 |  0.0000000 | 0.0000000 |\n",
       "\n",
       "\n",
       "$Mod.avg.beta\n",
       ":   -0.0173747628229088\n",
       "$Uncond.SE\n",
       ":   0.124691874422896\n",
       "$Conf.level\n",
       ":   0.95\n",
       "$Lower.CL\n",
       ":   -0.261766345856576\n",
       "$Upper.CL\n",
       ":   0.227016820210759\n",
       "\n",
       "\n"
      ],
      "text/plain": [
       "\n",
       "Multimodel inference on \"TSM_Bin31-60\" based on AICc\n",
       "\n",
       "AICc table used to obtain model-averaged estimate with shrinkage:\n",
       "\n",
       "             K   AICc Delta_AICc AICcWt Estimate   SE\n",
       "visit_mod    9 296.62       0.00   0.45     0.00 0.00\n",
       "null_mod     6 297.75       1.13   0.26     0.00 0.00\n",
       "side_mod     7 299.62       3.00   0.10     0.00 0.00\n",
       "tsm_mod      7 299.63       3.01   0.10    -0.17 0.36\n",
       "solution_mod 7 299.86       3.24   0.09     0.00 0.00\n",
       "\n",
       "Model-averaged estimate with shrinkage: -0.02 \n",
       "Unconditional SE: 0.12 \n",
       "95% Unconditional confidence interval: -0.26, 0.23\n"
      ]
     },
     "metadata": {},
     "output_type": "display_data"
    },
    {
     "data": {
      "text/html": [
       "<dl>\n",
       "\t<dt>$Parameter</dt>\n",
       "\t\t<dd>'Reward_SideR'</dd>\n",
       "\t<dt>$Mod.avg.table</dt>\n",
       "\t\t<dd><table class=\"dataframe\">\n",
       "<caption>A aictab: 5 × 9</caption>\n",
       "<thead>\n",
       "\t<tr><th scope=col>Modnames</th><th scope=col>K</th><th scope=col>AICc</th><th scope=col>Delta_AICc</th><th scope=col>ModelLik</th><th scope=col>AICcWt</th><th scope=col>LL</th><th scope=col>Beta_est</th><th scope=col>SE</th></tr>\n",
       "\t<tr><th scope=col>&lt;chr&gt;</th><th scope=col>&lt;dbl&gt;</th><th scope=col>&lt;dbl&gt;</th><th scope=col>&lt;dbl&gt;</th><th scope=col>&lt;dbl&gt;</th><th scope=col>&lt;dbl&gt;</th><th scope=col>&lt;dbl&gt;</th><th scope=col>&lt;dbl&gt;</th><th scope=col>&lt;dbl&gt;</th></tr>\n",
       "</thead>\n",
       "<tbody>\n",
       "\t<tr><td>visit_mod   </td><td>9</td><td>296.6216</td><td>0.000000</td><td>1.0000000</td><td>0.45231699</td><td>-138.9449</td><td> 0.0000000</td><td>0.000000</td></tr>\n",
       "\t<tr><td>null_mod    </td><td>6</td><td>297.7538</td><td>1.132195</td><td>0.5677367</td><td>0.25679697</td><td>-142.7082</td><td> 0.0000000</td><td>0.000000</td></tr>\n",
       "\t<tr><td>side_mod    </td><td>7</td><td>299.6181</td><td>2.996522</td><td>0.2235185</td><td>0.10110121</td><td>-142.5832</td><td>-0.1792188</td><td>0.357874</td></tr>\n",
       "\t<tr><td>tsm_mod     </td><td>7</td><td>299.6339</td><td>3.012359</td><td>0.2217556</td><td>0.10030381</td><td>-142.5912</td><td> 0.0000000</td><td>0.000000</td></tr>\n",
       "\t<tr><td>solution_mod</td><td>7</td><td>299.8623</td><td>3.240713</td><td>0.1978281</td><td>0.08948102</td><td>-142.7053</td><td> 0.0000000</td><td>0.000000</td></tr>\n",
       "</tbody>\n",
       "</table>\n",
       "</dd>\n",
       "\t<dt>$Mod.avg.beta</dt>\n",
       "\t\t<dd>-0.0181192332085977</dd>\n",
       "\t<dt>$Uncond.SE</dt>\n",
       "\t\t<dd>0.125965944360693</dd>\n",
       "\t<dt>$Conf.level</dt>\n",
       "\t\t<dd>0.95</dd>\n",
       "\t<dt>$Lower.CL</dt>\n",
       "\t\t<dd>-0.265007947434133</dd>\n",
       "\t<dt>$Upper.CL</dt>\n",
       "\t\t<dd>0.228769481016937</dd>\n",
       "</dl>\n"
      ],
      "text/latex": [
       "\\begin{description}\n",
       "\\item[\\$Parameter] 'Reward\\_SideR'\n",
       "\\item[\\$Mod.avg.table] A aictab: 5 × 9\n",
       "\\begin{tabular}{lllllllll}\n",
       " Modnames & K & AICc & Delta\\_AICc & ModelLik & AICcWt & LL & Beta\\_est & SE\\\\\n",
       " <chr> & <dbl> & <dbl> & <dbl> & <dbl> & <dbl> & <dbl> & <dbl> & <dbl>\\\\\n",
       "\\hline\n",
       "\t visit\\_mod    & 9 & 296.6216 & 0.000000 & 1.0000000 & 0.45231699 & -138.9449 &  0.0000000 & 0.000000\\\\\n",
       "\t null\\_mod     & 6 & 297.7538 & 1.132195 & 0.5677367 & 0.25679697 & -142.7082 &  0.0000000 & 0.000000\\\\\n",
       "\t side\\_mod     & 7 & 299.6181 & 2.996522 & 0.2235185 & 0.10110121 & -142.5832 & -0.1792188 & 0.357874\\\\\n",
       "\t tsm\\_mod      & 7 & 299.6339 & 3.012359 & 0.2217556 & 0.10030381 & -142.5912 &  0.0000000 & 0.000000\\\\\n",
       "\t solution\\_mod & 7 & 299.8623 & 3.240713 & 0.1978281 & 0.08948102 & -142.7053 &  0.0000000 & 0.000000\\\\\n",
       "\\end{tabular}\n",
       "\n",
       "\\item[\\$Mod.avg.beta] -0.0181192332085977\n",
       "\\item[\\$Uncond.SE] 0.125965944360693\n",
       "\\item[\\$Conf.level] 0.95\n",
       "\\item[\\$Lower.CL] -0.265007947434133\n",
       "\\item[\\$Upper.CL] 0.228769481016937\n",
       "\\end{description}\n"
      ],
      "text/markdown": [
       "$Parameter\n",
       ":   'Reward_SideR'\n",
       "$Mod.avg.table\n",
       ":   \n",
       "A aictab: 5 × 9\n",
       "\n",
       "| Modnames &lt;chr&gt; | K &lt;dbl&gt; | AICc &lt;dbl&gt; | Delta_AICc &lt;dbl&gt; | ModelLik &lt;dbl&gt; | AICcWt &lt;dbl&gt; | LL &lt;dbl&gt; | Beta_est &lt;dbl&gt; | SE &lt;dbl&gt; |\n",
       "|---|---|---|---|---|---|---|---|---|\n",
       "| visit_mod    | 9 | 296.6216 | 0.000000 | 1.0000000 | 0.45231699 | -138.9449 |  0.0000000 | 0.000000 |\n",
       "| null_mod     | 6 | 297.7538 | 1.132195 | 0.5677367 | 0.25679697 | -142.7082 |  0.0000000 | 0.000000 |\n",
       "| side_mod     | 7 | 299.6181 | 2.996522 | 0.2235185 | 0.10110121 | -142.5832 | -0.1792188 | 0.357874 |\n",
       "| tsm_mod      | 7 | 299.6339 | 3.012359 | 0.2217556 | 0.10030381 | -142.5912 |  0.0000000 | 0.000000 |\n",
       "| solution_mod | 7 | 299.8623 | 3.240713 | 0.1978281 | 0.08948102 | -142.7053 |  0.0000000 | 0.000000 |\n",
       "\n",
       "\n",
       "$Mod.avg.beta\n",
       ":   -0.0181192332085977\n",
       "$Uncond.SE\n",
       ":   0.125965944360693\n",
       "$Conf.level\n",
       ":   0.95\n",
       "$Lower.CL\n",
       ":   -0.265007947434133\n",
       "$Upper.CL\n",
       ":   0.228769481016937\n",
       "\n",
       "\n"
      ],
      "text/plain": [
       "\n",
       "Multimodel inference on \"Reward_SideR\" based on AICc\n",
       "\n",
       "AICc table used to obtain model-averaged estimate with shrinkage:\n",
       "\n",
       "             K   AICc Delta_AICc AICcWt Estimate   SE\n",
       "visit_mod    9 296.62       0.00   0.45     0.00 0.00\n",
       "null_mod     6 297.75       1.13   0.26     0.00 0.00\n",
       "side_mod     7 299.62       3.00   0.10    -0.18 0.36\n",
       "tsm_mod      7 299.63       3.01   0.10     0.00 0.00\n",
       "solution_mod 7 299.86       3.24   0.09     0.00 0.00\n",
       "\n",
       "Model-averaged estimate with shrinkage: -0.02 \n",
       "Unconditional SE: 0.13 \n",
       "95% Unconditional confidence interval: -0.27, 0.23\n"
      ]
     },
     "metadata": {},
     "output_type": "display_data"
    }
   ],
   "source": [
    "top_models = list(\"visit_mod\" = visit_mod, \n",
    "                   \"null_mod\" = null_mod,\n",
    "                   \"side_mod\" = side_mod,\n",
    "                   \"tsm_mod\" = tsm_mod,\n",
    "                   \"solution_mod\" = solution_mod)\n",
    "\n",
    "modavgShrink(top_models, parm = \"(Intercept)\")\n",
    "modavgShrink(top_models, parm = \"SolutionTaurine\")\n",
    "modavgShrink(top_models, parm = \"Visit3\")\n",
    "modavgShrink(top_models, parm = \"Visit4\")\n",
    "modavgShrink(top_models, parm = \"Visit5\")\n",
    "modavgShrink(top_models, parm = \"TSM_Bin31-60\")\n",
    "modavgShrink(top_models, parm = \"Reward_SideR\")"
   ]
  },
  {
   "cell_type": "markdown",
   "id": "d5e9703d",
   "metadata": {},
   "source": [
    "## Odds\n",
    "**If the odds is 1 there is no effect, therefore if the CI's cross 1 that is not a significant parameter**\n",
    "\n",
    "**Intercept** = 2.3 [0.9, 5.9] -> **Ants do not choose an arm of the Y-maze randomly at Visit 2! - almost significant**\n",
    "\n",
    "**Solution** = 1.0 [0.8, 1.2] -> There is no effect of Solution!\n",
    "\n",
    "**Visit 3** = 1.4 [0.6, 3.3] -> There is no effect of Visit 3!\n",
    "\n",
    "**Visit 4** = 1.6 [0.5, 5.7] -> There is no effect of Visit 4!\n",
    "\n",
    "**Visit 5** = 1.5 [0.5, 4.2] -> There is no effect of Visit 5!\n",
    "\n",
    "**Side** = 1.0 [0.8, 1.3] -> There is no effect of Side!\n",
    "\n",
    "**TSM** = 1.0 [0.8, 1.3] -> There is no effect of Time Since Marking!"
   ]
  },
  {
   "cell_type": "markdown",
   "id": "21713eb6",
   "metadata": {},
   "source": [
    "## Conclusions\n",
    "- Ants do not choose a random side of the Y-maze from Visit 2 showing a slight increase in the odds of choosing the reward side as the number of consecutive visits increases suggesting the ants are able to associate the reward with a side.\n",
    "- There is no effect of Time Since Marking on final choice.\n",
    "- There is no efect of taurine on final choice.\n",
    "- There is no statistically significant side bias although there is a trend towards Left.\n",
    "- There is no interaction effect of Solution with Time Since Marking."
   ]
  }
 ],
 "metadata": {
  "kernelspec": {
   "display_name": "R",
   "language": "R",
   "name": "ir"
  },
  "language_info": {
   "codemirror_mode": "r",
   "file_extension": ".r",
   "mimetype": "text/x-r-source",
   "name": "R",
   "pygments_lexer": "r",
   "version": "4.2.1"
  }
 },
 "nbformat": 4,
 "nbformat_minor": 5
}
