{
 "cells": [
  {
   "cell_type": "markdown",
   "id": "cea20812",
   "metadata": {},
   "source": [
    "# Caffeine Side Learning Y-maze"
   ]
  },
  {
   "cell_type": "markdown",
   "id": "79e6dea0",
   "metadata": {},
   "source": [
    "## Load packages"
   ]
  },
  {
   "cell_type": "code",
   "execution_count": 1,
   "id": "c3f5f22d",
   "metadata": {
    "scrolled": false,
    "vscode": {
     "languageId": "r"
    }
   },
   "outputs": [
    {
     "name": "stderr",
     "output_type": "stream",
     "text": [
      "Loading required package: reshape2\n",
      "\n",
      "Loading required package: lme4\n",
      "\n",
      "Loading required package: Matrix\n",
      "\n",
      "Loading required package: emmeans\n",
      "\n",
      "Loading required package: DHARMa\n",
      "\n",
      "This is DHARMa 0.4.5. For overview type '?DHARMa'. For recent changes, type news(package = 'DHARMa')\n",
      "\n",
      "Loading required package: AICcmodavg\n",
      "\n",
      "\n",
      "Attaching package: ‘AICcmodavg’\n",
      "\n",
      "\n",
      "The following object is masked from ‘package:lme4’:\n",
      "\n",
      "    checkConv\n",
      "\n",
      "\n"
     ]
    }
   ],
   "source": [
    "require(reshape2) # For data handling\n",
    "require(lme4) # Linear mixed-effects models\n",
    "require(emmeans) # Post-hoc analysis on the model\n",
    "require(DHARMa) # Evaluate model fit\n",
    "require(AICcmodavg) # For model selection and averaging"
   ]
  },
  {
   "cell_type": "markdown",
   "id": "7e6f6c9d",
   "metadata": {},
   "source": [
    "## Clean-up"
   ]
  },
  {
   "cell_type": "code",
   "execution_count": 2,
   "id": "6610d1f2",
   "metadata": {
    "vscode": {
     "languageId": "r"
    }
   },
   "outputs": [],
   "source": [
    "rm(list = ls()) # Remove variables/objects\n",
    "graphics.off() # Close any open graphics"
   ]
  },
  {
   "cell_type": "markdown",
   "id": "41a962ab",
   "metadata": {},
   "source": [
    "## Load data"
   ]
  },
  {
   "cell_type": "code",
   "execution_count": 3,
   "id": "a1533b22",
   "metadata": {
    "vscode": {
     "languageId": "r"
    }
   },
   "outputs": [
    {
     "data": {
      "text/html": [
       "<table class=\"dataframe\">\n",
       "<caption>A data.frame: 1 × 28</caption>\n",
       "<thead>\n",
       "\t<tr><th></th><th scope=col>Collection_Date</th><th scope=col>Time_Collection</th><th scope=col>Experimentor</th><th scope=col>Temperature</th><th scope=col>Colony_Origin</th><th scope=col>Starvation_Period</th><th scope=col>Donor_Colony</th><th scope=col>Recipient_Colony</th><th scope=col>Ant_ID</th><th scope=col>Visit</th><th scope=col>⋯</th><th scope=col>Out_Duration</th><th scope=col>Bridge_Nest_Duration</th><th scope=col>Total_Duration_Minutes</th><th scope=col>Trophallaxis</th><th scope=col>Full</th><th scope=col>Experiment</th><th scope=col>Initial_Binary</th><th scope=col>Final_Binary</th><th scope=col>Switched_Binary</th><th scope=col>TSM_Bin</th></tr>\n",
       "\t<tr><th></th><th scope=col>&lt;chr&gt;</th><th scope=col>&lt;chr&gt;</th><th scope=col>&lt;chr&gt;</th><th scope=col>&lt;dbl&gt;</th><th scope=col>&lt;chr&gt;</th><th scope=col>&lt;chr&gt;</th><th scope=col>&lt;int&gt;</th><th scope=col>&lt;int&gt;</th><th scope=col>&lt;int&gt;</th><th scope=col>&lt;int&gt;</th><th scope=col>⋯</th><th scope=col>&lt;int&gt;</th><th scope=col>&lt;int&gt;</th><th scope=col>&lt;dbl&gt;</th><th scope=col>&lt;chr&gt;</th><th scope=col>&lt;chr&gt;</th><th scope=col>&lt;int&gt;</th><th scope=col>&lt;int&gt;</th><th scope=col>&lt;int&gt;</th><th scope=col>&lt;int&gt;</th><th scope=col>&lt;chr&gt;</th></tr>\n",
       "</thead>\n",
       "<tbody>\n",
       "\t<tr><th scope=row>1</th><td>18.03.22</td><td>09:45</td><td>Stefanie Kau</td><td>24.3</td><td>26th January - Spain</td><td>4-days</td><td>35</td><td>36</td><td>1</td><td>2</td><td>⋯</td><td>20</td><td>592</td><td>10.5</td><td>NA</td><td>No</td><td>1</td><td>0</td><td>0</td><td>0</td><td>0-30</td></tr>\n",
       "</tbody>\n",
       "</table>\n"
      ],
      "text/latex": [
       "A data.frame: 1 × 28\n",
       "\\begin{tabular}{r|lllllllllllllllllllll}\n",
       "  & Collection\\_Date & Time\\_Collection & Experimentor & Temperature & Colony\\_Origin & Starvation\\_Period & Donor\\_Colony & Recipient\\_Colony & Ant\\_ID & Visit & ⋯ & Out\\_Duration & Bridge\\_Nest\\_Duration & Total\\_Duration\\_Minutes & Trophallaxis & Full & Experiment & Initial\\_Binary & Final\\_Binary & Switched\\_Binary & TSM\\_Bin\\\\\n",
       "  & <chr> & <chr> & <chr> & <dbl> & <chr> & <chr> & <int> & <int> & <int> & <int> & ⋯ & <int> & <int> & <dbl> & <chr> & <chr> & <int> & <int> & <int> & <int> & <chr>\\\\\n",
       "\\hline\n",
       "\t1 & 18.03.22 & 09:45 & Stefanie Kau & 24.3 & 26th January - Spain & 4-days & 35 & 36 & 1 & 2 & ⋯ & 20 & 592 & 10.5 & NA & No & 1 & 0 & 0 & 0 & 0-30\\\\\n",
       "\\end{tabular}\n"
      ],
      "text/markdown": [
       "\n",
       "A data.frame: 1 × 28\n",
       "\n",
       "| <!--/--> | Collection_Date &lt;chr&gt; | Time_Collection &lt;chr&gt; | Experimentor &lt;chr&gt; | Temperature &lt;dbl&gt; | Colony_Origin &lt;chr&gt; | Starvation_Period &lt;chr&gt; | Donor_Colony &lt;int&gt; | Recipient_Colony &lt;int&gt; | Ant_ID &lt;int&gt; | Visit &lt;int&gt; | ⋯ ⋯ | Out_Duration &lt;int&gt; | Bridge_Nest_Duration &lt;int&gt; | Total_Duration_Minutes &lt;dbl&gt; | Trophallaxis &lt;chr&gt; | Full &lt;chr&gt; | Experiment &lt;int&gt; | Initial_Binary &lt;int&gt; | Final_Binary &lt;int&gt; | Switched_Binary &lt;int&gt; | TSM_Bin &lt;chr&gt; |\n",
       "|---|---|---|---|---|---|---|---|---|---|---|---|---|---|---|---|---|---|---|---|---|---|\n",
       "| 1 | 18.03.22 | 09:45 | Stefanie Kau | 24.3 | 26th January - Spain | 4-days | 35 | 36 | 1 | 2 | ⋯ | 20 | 592 | 10.5 | NA | No | 1 | 0 | 0 | 0 | 0-30 |\n",
       "\n"
      ],
      "text/plain": [
       "  Collection_Date Time_Collection Experimentor Temperature Colony_Origin       \n",
       "1 18.03.22        09:45           Stefanie Kau 24.3        26th January - Spain\n",
       "  Starvation_Period Donor_Colony Recipient_Colony Ant_ID Visit ⋯ Out_Duration\n",
       "1 4-days            35           36               1      2     ⋯ 20          \n",
       "  Bridge_Nest_Duration Total_Duration_Minutes Trophallaxis Full Experiment\n",
       "1 592                  10.5                   NA           No   1         \n",
       "  Initial_Binary Final_Binary Switched_Binary TSM_Bin\n",
       "1 0              0            0               0-30   "
      ]
     },
     "metadata": {},
     "output_type": "display_data"
    }
   ],
   "source": [
    "ELP = read.csv(\"./Data/All/ELP_all.csv\")\n",
    "ELP = subset(ELP, ELP$Experiment == \"1\") # Subset for Dopamine experiment\n",
    "head(ELP, n = 1) # Check it was loaded correctly"
   ]
  },
  {
   "cell_type": "markdown",
   "id": "a5b0f172",
   "metadata": {},
   "source": [
    "## Ensure relevant variables are factors"
   ]
  },
  {
   "cell_type": "code",
   "execution_count": 4,
   "id": "e361d2b6",
   "metadata": {
    "vscode": {
     "languageId": "r"
    }
   },
   "outputs": [],
   "source": [
    "ELP$Collection_Date = as.factor(ELP$Collection_Date)\n",
    "ELP$Experimentor = as.factor(ELP$Experimentor)\n",
    "ELP$Starvation_Period = as.factor(ELP$Starvation_Period)\n",
    "ELP$Colony_ID = as.factor(paste0(ELP$Donor_Colony, \"_\", ELP$Recipient_Colony))\n",
    "ELP$Ant_ID = as.factor(ELP$Ant_ID)\n",
    "\n",
    "ELP$Visit = as.factor(ELP$Visit)\n",
    "ELP$Solution = as.factor(ELP$Solution)\n",
    "ELP$Solution = relevel(ELP$Solution, \"Control\")\n",
    "ELP$Reward_Side = as.factor(ELP$Reward_Side)\n",
    "ELP$TSM_Bin = as.factor(ELP$TSM_Bin)\n",
    "\n",
    "ELP$Initial_Binary = as.factor(ELP$Initial_Binary)\n",
    "ELP$Final_Binary = as.factor(ELP$Final_Binary)"
   ]
  },
  {
   "cell_type": "markdown",
   "id": "55165eb0",
   "metadata": {},
   "source": [
    "## Identify relevant random effects"
   ]
  },
  {
   "cell_type": "code",
   "execution_count": 5,
   "id": "3bc43cbf",
   "metadata": {
    "scrolled": false,
    "vscode": {
     "languageId": "r"
    }
   },
   "outputs": [
    {
     "data": {
      "text/html": [
       "<style>\n",
       ".list-inline {list-style: none; margin:0; padding: 0}\n",
       ".list-inline>li {display: inline-block}\n",
       ".list-inline>li:not(:last-child)::after {content: \"\\00b7\"; padding: 0 .5ex}\n",
       "</style>\n",
       "<ol class=list-inline><li>18.03.22</li><li>21.03.22</li><li>22.03.22</li><li>23.03.22</li><li>24.03.22</li><li>25.03.22</li><li>28.03.22</li><li>29.03.22</li><li>30.03.22</li><li>31.03.22</li></ol>\n",
       "\n",
       "<details>\n",
       "\t<summary style=display:list-item;cursor:pointer>\n",
       "\t\t<strong>Levels</strong>:\n",
       "\t</summary>\n",
       "\t<style>\n",
       "\t.list-inline {list-style: none; margin:0; padding: 0}\n",
       "\t.list-inline>li {display: inline-block}\n",
       "\t.list-inline>li:not(:last-child)::after {content: \"\\00b7\"; padding: 0 .5ex}\n",
       "\t</style>\n",
       "\t<ol class=list-inline><li>'18.03.22'</li><li>'21.03.22'</li><li>'22.03.22'</li><li>'23.03.22'</li><li>'24.03.22'</li><li>'25.03.22'</li><li>'28.03.22'</li><li>'29.03.22'</li><li>'30.03.22'</li><li>'31.03.22'</li></ol>\n",
       "</details>"
      ],
      "text/latex": [
       "\\begin{enumerate*}\n",
       "\\item 18.03.22\n",
       "\\item 21.03.22\n",
       "\\item 22.03.22\n",
       "\\item 23.03.22\n",
       "\\item 24.03.22\n",
       "\\item 25.03.22\n",
       "\\item 28.03.22\n",
       "\\item 29.03.22\n",
       "\\item 30.03.22\n",
       "\\item 31.03.22\n",
       "\\end{enumerate*}\n",
       "\n",
       "\\emph{Levels}: \\begin{enumerate*}\n",
       "\\item '18.03.22'\n",
       "\\item '21.03.22'\n",
       "\\item '22.03.22'\n",
       "\\item '23.03.22'\n",
       "\\item '24.03.22'\n",
       "\\item '25.03.22'\n",
       "\\item '28.03.22'\n",
       "\\item '29.03.22'\n",
       "\\item '30.03.22'\n",
       "\\item '31.03.22'\n",
       "\\end{enumerate*}\n"
      ],
      "text/markdown": [
       "1. 18.03.22\n",
       "2. 21.03.22\n",
       "3. 22.03.22\n",
       "4. 23.03.22\n",
       "5. 24.03.22\n",
       "6. 25.03.22\n",
       "7. 28.03.22\n",
       "8. 29.03.22\n",
       "9. 30.03.22\n",
       "10. 31.03.22\n",
       "\n",
       "\n",
       "\n",
       "**Levels**: 1. '18.03.22'\n",
       "2. '21.03.22'\n",
       "3. '22.03.22'\n",
       "4. '23.03.22'\n",
       "5. '24.03.22'\n",
       "6. '25.03.22'\n",
       "7. '28.03.22'\n",
       "8. '29.03.22'\n",
       "9. '30.03.22'\n",
       "10. '31.03.22'\n",
       "\n",
       "\n"
      ],
      "text/plain": [
       " [1] 18.03.22 21.03.22 22.03.22 23.03.22 24.03.22 25.03.22 28.03.22 29.03.22\n",
       " [9] 30.03.22 31.03.22\n",
       "10 Levels: 18.03.22 21.03.22 22.03.22 23.03.22 24.03.22 25.03.22 ... 31.03.22"
      ]
     },
     "metadata": {},
     "output_type": "display_data"
    },
    {
     "data": {
      "text/html": [
       "<style>\n",
       ".list-inline {list-style: none; margin:0; padding: 0}\n",
       ".list-inline>li {display: inline-block}\n",
       ".list-inline>li:not(:last-child)::after {content: \"\\00b7\"; padding: 0 .5ex}\n",
       "</style>\n",
       "<ol class=list-inline><li>Stefanie Kau</li><li>Stefanie Kau + Henrique</li><li>Laura Neubauer</li></ol>\n",
       "\n",
       "<details>\n",
       "\t<summary style=display:list-item;cursor:pointer>\n",
       "\t\t<strong>Levels</strong>:\n",
       "\t</summary>\n",
       "\t<style>\n",
       "\t.list-inline {list-style: none; margin:0; padding: 0}\n",
       "\t.list-inline>li {display: inline-block}\n",
       "\t.list-inline>li:not(:last-child)::after {content: \"\\00b7\"; padding: 0 .5ex}\n",
       "\t</style>\n",
       "\t<ol class=list-inline><li>'Laura Neubauer'</li><li>'Stefanie Kau'</li><li>'Stefanie Kau + Henrique'</li></ol>\n",
       "</details>"
      ],
      "text/latex": [
       "\\begin{enumerate*}\n",
       "\\item Stefanie Kau\n",
       "\\item Stefanie Kau + Henrique\n",
       "\\item Laura Neubauer\n",
       "\\end{enumerate*}\n",
       "\n",
       "\\emph{Levels}: \\begin{enumerate*}\n",
       "\\item 'Laura Neubauer'\n",
       "\\item 'Stefanie Kau'\n",
       "\\item 'Stefanie Kau + Henrique'\n",
       "\\end{enumerate*}\n"
      ],
      "text/markdown": [
       "1. Stefanie Kau\n",
       "2. Stefanie Kau + Henrique\n",
       "3. Laura Neubauer\n",
       "\n",
       "\n",
       "\n",
       "**Levels**: 1. 'Laura Neubauer'\n",
       "2. 'Stefanie Kau'\n",
       "3. 'Stefanie Kau + Henrique'\n",
       "\n",
       "\n"
      ],
      "text/plain": [
       "[1] Stefanie Kau            Stefanie Kau + Henrique Laura Neubauer         \n",
       "Levels: Laura Neubauer Stefanie Kau Stefanie Kau + Henrique"
      ]
     },
     "metadata": {},
     "output_type": "display_data"
    },
    {
     "data": {
      "text/html": [
       "<style>\n",
       ".list-inline {list-style: none; margin:0; padding: 0}\n",
       ".list-inline>li {display: inline-block}\n",
       ".list-inline>li:not(:last-child)::after {content: \"\\00b7\"; padding: 0 .5ex}\n",
       "</style>\n",
       "<ol class=list-inline><li>4-days</li><li>5-days</li></ol>\n",
       "\n",
       "<details>\n",
       "\t<summary style=display:list-item;cursor:pointer>\n",
       "\t\t<strong>Levels</strong>:\n",
       "\t</summary>\n",
       "\t<style>\n",
       "\t.list-inline {list-style: none; margin:0; padding: 0}\n",
       "\t.list-inline>li {display: inline-block}\n",
       "\t.list-inline>li:not(:last-child)::after {content: \"\\00b7\"; padding: 0 .5ex}\n",
       "\t</style>\n",
       "\t<ol class=list-inline><li>'4-days'</li><li>'5-days'</li></ol>\n",
       "</details>"
      ],
      "text/latex": [
       "\\begin{enumerate*}\n",
       "\\item 4-days\n",
       "\\item 5-days\n",
       "\\end{enumerate*}\n",
       "\n",
       "\\emph{Levels}: \\begin{enumerate*}\n",
       "\\item '4-days'\n",
       "\\item '5-days'\n",
       "\\end{enumerate*}\n"
      ],
      "text/markdown": [
       "1. 4-days\n",
       "2. 5-days\n",
       "\n",
       "\n",
       "\n",
       "**Levels**: 1. '4-days'\n",
       "2. '5-days'\n",
       "\n",
       "\n"
      ],
      "text/plain": [
       "[1] 4-days 5-days\n",
       "Levels: 4-days 5-days"
      ]
     },
     "metadata": {},
     "output_type": "display_data"
    },
    {
     "data": {
      "text/html": [
       "<style>\n",
       ".list-inline {list-style: none; margin:0; padding: 0}\n",
       ".list-inline>li {display: inline-block}\n",
       ".list-inline>li:not(:last-child)::after {content: \"\\00b7\"; padding: 0 .5ex}\n",
       "</style>\n",
       "<ol class=list-inline><li>35_36</li><li>32_29</li><li>37_38</li><li>2_7</li><li>32_7</li><li>16_13</li><li>9_11</li></ol>\n",
       "\n",
       "<details>\n",
       "\t<summary style=display:list-item;cursor:pointer>\n",
       "\t\t<strong>Levels</strong>:\n",
       "\t</summary>\n",
       "\t<style>\n",
       "\t.list-inline {list-style: none; margin:0; padding: 0}\n",
       "\t.list-inline>li {display: inline-block}\n",
       "\t.list-inline>li:not(:last-child)::after {content: \"\\00b7\"; padding: 0 .5ex}\n",
       "\t</style>\n",
       "\t<ol class=list-inline><li>'16_13'</li><li>'2_7'</li><li>'32_29'</li><li>'32_7'</li><li>'35_36'</li><li>'37_38'</li><li>'9_11'</li></ol>\n",
       "</details>"
      ],
      "text/latex": [
       "\\begin{enumerate*}\n",
       "\\item 35\\_36\n",
       "\\item 32\\_29\n",
       "\\item 37\\_38\n",
       "\\item 2\\_7\n",
       "\\item 32\\_7\n",
       "\\item 16\\_13\n",
       "\\item 9\\_11\n",
       "\\end{enumerate*}\n",
       "\n",
       "\\emph{Levels}: \\begin{enumerate*}\n",
       "\\item '16\\_13'\n",
       "\\item '2\\_7'\n",
       "\\item '32\\_29'\n",
       "\\item '32\\_7'\n",
       "\\item '35\\_36'\n",
       "\\item '37\\_38'\n",
       "\\item '9\\_11'\n",
       "\\end{enumerate*}\n"
      ],
      "text/markdown": [
       "1. 35_36\n",
       "2. 32_29\n",
       "3. 37_38\n",
       "4. 2_7\n",
       "5. 32_7\n",
       "6. 16_13\n",
       "7. 9_11\n",
       "\n",
       "\n",
       "\n",
       "**Levels**: 1. '16_13'\n",
       "2. '2_7'\n",
       "3. '32_29'\n",
       "4. '32_7'\n",
       "5. '35_36'\n",
       "6. '37_38'\n",
       "7. '9_11'\n",
       "\n",
       "\n"
      ],
      "text/plain": [
       "[1] 35_36 32_29 37_38 2_7   32_7  16_13 9_11 \n",
       "Levels: 16_13 2_7 32_29 32_7 35_36 37_38 9_11"
      ]
     },
     "metadata": {},
     "output_type": "display_data"
    },
    {
     "data": {
      "text/html": [
       "<style>\n",
       ".list-inline {list-style: none; margin:0; padding: 0}\n",
       ".list-inline>li {display: inline-block}\n",
       ".list-inline>li:not(:last-child)::after {content: \"\\00b7\"; padding: 0 .5ex}\n",
       "</style>\n",
       "<ol class=list-inline><li>1</li><li>2</li><li>3</li><li>4</li><li>5</li><li>6</li><li>7</li><li>8</li><li>9</li><li>10</li><li>11</li><li>12</li><li>13</li><li>14</li><li>15</li><li>16</li><li>17</li><li>18</li><li>19</li><li>20</li><li>21</li><li>22</li><li>23</li><li>24</li><li>25</li><li>26</li><li>27</li><li>28</li><li>29</li><li>30</li><li>31</li><li>32</li><li>33</li><li>34</li><li>35</li><li>36</li><li>37</li><li>38</li><li>39</li><li>40</li><li>41</li><li>42</li><li>43</li><li>44</li><li>45</li><li>46</li><li>47</li><li>48</li><li>49</li><li>50</li><li>51</li><li>52</li><li>53</li><li>54</li><li>55</li><li>56</li><li>57</li><li>58</li><li>59</li><li>60</li><li>61</li><li>62</li><li>63</li><li>64</li><li>65</li><li>66</li><li>67</li><li>68</li><li>69</li><li>70</li><li>71</li><li>72</li><li>73</li><li>74</li><li>75</li><li>76</li><li>77</li><li>78</li><li>79</li><li>80</li><li>81</li><li>82</li><li>83</li><li>84</li><li>85</li><li>86</li><li>87</li><li>88</li><li>89</li><li>90</li><li>91</li><li>92</li><li>93</li><li>94</li><li>95</li><li>96</li><li>97</li></ol>\n",
       "\n",
       "<details>\n",
       "\t<summary style=display:list-item;cursor:pointer>\n",
       "\t\t<strong>Levels</strong>:\n",
       "\t</summary>\n",
       "\t<style>\n",
       "\t.list-inline {list-style: none; margin:0; padding: 0}\n",
       "\t.list-inline>li {display: inline-block}\n",
       "\t.list-inline>li:not(:last-child)::after {content: \"\\00b7\"; padding: 0 .5ex}\n",
       "\t</style>\n",
       "\t<ol class=list-inline><li>'1'</li><li>'2'</li><li>'3'</li><li>'4'</li><li>'5'</li><li>'6'</li><li>'7'</li><li>'8'</li><li>'9'</li><li>'10'</li><li>'11'</li><li>'12'</li><li>'13'</li><li>'14'</li><li>'15'</li><li>'16'</li><li>'17'</li><li>'18'</li><li>'19'</li><li>'20'</li><li>'21'</li><li>'22'</li><li>'23'</li><li>'24'</li><li>'25'</li><li>'26'</li><li>'27'</li><li>'28'</li><li>'29'</li><li>'30'</li><li>'31'</li><li>'32'</li><li>'33'</li><li>'34'</li><li>'35'</li><li>'36'</li><li>'37'</li><li>'38'</li><li>'39'</li><li>'40'</li><li>'41'</li><li>'42'</li><li>'43'</li><li>'44'</li><li>'45'</li><li>'46'</li><li>'47'</li><li>'48'</li><li>'49'</li><li>'50'</li><li>'51'</li><li>'52'</li><li>'53'</li><li>'54'</li><li>'55'</li><li>'56'</li><li>'57'</li><li>'58'</li><li>'59'</li><li>'60'</li><li>'61'</li><li>'62'</li><li>'63'</li><li>'64'</li><li>'65'</li><li>'66'</li><li>'67'</li><li>'68'</li><li>'69'</li><li>'70'</li><li>'71'</li><li>'72'</li><li>'73'</li><li>'74'</li><li>'75'</li><li>'76'</li><li>'77'</li><li>'78'</li><li>'79'</li><li>'80'</li><li>'81'</li><li>'82'</li><li>'83'</li><li>'84'</li><li>'85'</li><li>'86'</li><li>'87'</li><li>'88'</li><li>'89'</li><li>'90'</li><li>'91'</li><li>'92'</li><li>'93'</li><li>'94'</li><li>'95'</li><li>'96'</li><li>'97'</li></ol>\n",
       "</details>"
      ],
      "text/latex": [
       "\\begin{enumerate*}\n",
       "\\item 1\n",
       "\\item 2\n",
       "\\item 3\n",
       "\\item 4\n",
       "\\item 5\n",
       "\\item 6\n",
       "\\item 7\n",
       "\\item 8\n",
       "\\item 9\n",
       "\\item 10\n",
       "\\item 11\n",
       "\\item 12\n",
       "\\item 13\n",
       "\\item 14\n",
       "\\item 15\n",
       "\\item 16\n",
       "\\item 17\n",
       "\\item 18\n",
       "\\item 19\n",
       "\\item 20\n",
       "\\item 21\n",
       "\\item 22\n",
       "\\item 23\n",
       "\\item 24\n",
       "\\item 25\n",
       "\\item 26\n",
       "\\item 27\n",
       "\\item 28\n",
       "\\item 29\n",
       "\\item 30\n",
       "\\item 31\n",
       "\\item 32\n",
       "\\item 33\n",
       "\\item 34\n",
       "\\item 35\n",
       "\\item 36\n",
       "\\item 37\n",
       "\\item 38\n",
       "\\item 39\n",
       "\\item 40\n",
       "\\item 41\n",
       "\\item 42\n",
       "\\item 43\n",
       "\\item 44\n",
       "\\item 45\n",
       "\\item 46\n",
       "\\item 47\n",
       "\\item 48\n",
       "\\item 49\n",
       "\\item 50\n",
       "\\item 51\n",
       "\\item 52\n",
       "\\item 53\n",
       "\\item 54\n",
       "\\item 55\n",
       "\\item 56\n",
       "\\item 57\n",
       "\\item 58\n",
       "\\item 59\n",
       "\\item 60\n",
       "\\item 61\n",
       "\\item 62\n",
       "\\item 63\n",
       "\\item 64\n",
       "\\item 65\n",
       "\\item 66\n",
       "\\item 67\n",
       "\\item 68\n",
       "\\item 69\n",
       "\\item 70\n",
       "\\item 71\n",
       "\\item 72\n",
       "\\item 73\n",
       "\\item 74\n",
       "\\item 75\n",
       "\\item 76\n",
       "\\item 77\n",
       "\\item 78\n",
       "\\item 79\n",
       "\\item 80\n",
       "\\item 81\n",
       "\\item 82\n",
       "\\item 83\n",
       "\\item 84\n",
       "\\item 85\n",
       "\\item 86\n",
       "\\item 87\n",
       "\\item 88\n",
       "\\item 89\n",
       "\\item 90\n",
       "\\item 91\n",
       "\\item 92\n",
       "\\item 93\n",
       "\\item 94\n",
       "\\item 95\n",
       "\\item 96\n",
       "\\item 97\n",
       "\\end{enumerate*}\n",
       "\n",
       "\\emph{Levels}: \\begin{enumerate*}\n",
       "\\item '1'\n",
       "\\item '2'\n",
       "\\item '3'\n",
       "\\item '4'\n",
       "\\item '5'\n",
       "\\item '6'\n",
       "\\item '7'\n",
       "\\item '8'\n",
       "\\item '9'\n",
       "\\item '10'\n",
       "\\item '11'\n",
       "\\item '12'\n",
       "\\item '13'\n",
       "\\item '14'\n",
       "\\item '15'\n",
       "\\item '16'\n",
       "\\item '17'\n",
       "\\item '18'\n",
       "\\item '19'\n",
       "\\item '20'\n",
       "\\item '21'\n",
       "\\item '22'\n",
       "\\item '23'\n",
       "\\item '24'\n",
       "\\item '25'\n",
       "\\item '26'\n",
       "\\item '27'\n",
       "\\item '28'\n",
       "\\item '29'\n",
       "\\item '30'\n",
       "\\item '31'\n",
       "\\item '32'\n",
       "\\item '33'\n",
       "\\item '34'\n",
       "\\item '35'\n",
       "\\item '36'\n",
       "\\item '37'\n",
       "\\item '38'\n",
       "\\item '39'\n",
       "\\item '40'\n",
       "\\item '41'\n",
       "\\item '42'\n",
       "\\item '43'\n",
       "\\item '44'\n",
       "\\item '45'\n",
       "\\item '46'\n",
       "\\item '47'\n",
       "\\item '48'\n",
       "\\item '49'\n",
       "\\item '50'\n",
       "\\item '51'\n",
       "\\item '52'\n",
       "\\item '53'\n",
       "\\item '54'\n",
       "\\item '55'\n",
       "\\item '56'\n",
       "\\item '57'\n",
       "\\item '58'\n",
       "\\item '59'\n",
       "\\item '60'\n",
       "\\item '61'\n",
       "\\item '62'\n",
       "\\item '63'\n",
       "\\item '64'\n",
       "\\item '65'\n",
       "\\item '66'\n",
       "\\item '67'\n",
       "\\item '68'\n",
       "\\item '69'\n",
       "\\item '70'\n",
       "\\item '71'\n",
       "\\item '72'\n",
       "\\item '73'\n",
       "\\item '74'\n",
       "\\item '75'\n",
       "\\item '76'\n",
       "\\item '77'\n",
       "\\item '78'\n",
       "\\item '79'\n",
       "\\item '80'\n",
       "\\item '81'\n",
       "\\item '82'\n",
       "\\item '83'\n",
       "\\item '84'\n",
       "\\item '85'\n",
       "\\item '86'\n",
       "\\item '87'\n",
       "\\item '88'\n",
       "\\item '89'\n",
       "\\item '90'\n",
       "\\item '91'\n",
       "\\item '92'\n",
       "\\item '93'\n",
       "\\item '94'\n",
       "\\item '95'\n",
       "\\item '96'\n",
       "\\item '97'\n",
       "\\end{enumerate*}\n"
      ],
      "text/markdown": [
       "1. 1\n",
       "2. 2\n",
       "3. 3\n",
       "4. 4\n",
       "5. 5\n",
       "6. 6\n",
       "7. 7\n",
       "8. 8\n",
       "9. 9\n",
       "10. 10\n",
       "11. 11\n",
       "12. 12\n",
       "13. 13\n",
       "14. 14\n",
       "15. 15\n",
       "16. 16\n",
       "17. 17\n",
       "18. 18\n",
       "19. 19\n",
       "20. 20\n",
       "21. 21\n",
       "22. 22\n",
       "23. 23\n",
       "24. 24\n",
       "25. 25\n",
       "26. 26\n",
       "27. 27\n",
       "28. 28\n",
       "29. 29\n",
       "30. 30\n",
       "31. 31\n",
       "32. 32\n",
       "33. 33\n",
       "34. 34\n",
       "35. 35\n",
       "36. 36\n",
       "37. 37\n",
       "38. 38\n",
       "39. 39\n",
       "40. 40\n",
       "41. 41\n",
       "42. 42\n",
       "43. 43\n",
       "44. 44\n",
       "45. 45\n",
       "46. 46\n",
       "47. 47\n",
       "48. 48\n",
       "49. 49\n",
       "50. 50\n",
       "51. 51\n",
       "52. 52\n",
       "53. 53\n",
       "54. 54\n",
       "55. 55\n",
       "56. 56\n",
       "57. 57\n",
       "58. 58\n",
       "59. 59\n",
       "60. 60\n",
       "61. 61\n",
       "62. 62\n",
       "63. 63\n",
       "64. 64\n",
       "65. 65\n",
       "66. 66\n",
       "67. 67\n",
       "68. 68\n",
       "69. 69\n",
       "70. 70\n",
       "71. 71\n",
       "72. 72\n",
       "73. 73\n",
       "74. 74\n",
       "75. 75\n",
       "76. 76\n",
       "77. 77\n",
       "78. 78\n",
       "79. 79\n",
       "80. 80\n",
       "81. 81\n",
       "82. 82\n",
       "83. 83\n",
       "84. 84\n",
       "85. 85\n",
       "86. 86\n",
       "87. 87\n",
       "88. 88\n",
       "89. 89\n",
       "90. 90\n",
       "91. 91\n",
       "92. 92\n",
       "93. 93\n",
       "94. 94\n",
       "95. 95\n",
       "96. 96\n",
       "97. 97\n",
       "\n",
       "\n",
       "\n",
       "**Levels**: 1. '1'\n",
       "2. '2'\n",
       "3. '3'\n",
       "4. '4'\n",
       "5. '5'\n",
       "6. '6'\n",
       "7. '7'\n",
       "8. '8'\n",
       "9. '9'\n",
       "10. '10'\n",
       "11. '11'\n",
       "12. '12'\n",
       "13. '13'\n",
       "14. '14'\n",
       "15. '15'\n",
       "16. '16'\n",
       "17. '17'\n",
       "18. '18'\n",
       "19. '19'\n",
       "20. '20'\n",
       "21. '21'\n",
       "22. '22'\n",
       "23. '23'\n",
       "24. '24'\n",
       "25. '25'\n",
       "26. '26'\n",
       "27. '27'\n",
       "28. '28'\n",
       "29. '29'\n",
       "30. '30'\n",
       "31. '31'\n",
       "32. '32'\n",
       "33. '33'\n",
       "34. '34'\n",
       "35. '35'\n",
       "36. '36'\n",
       "37. '37'\n",
       "38. '38'\n",
       "39. '39'\n",
       "40. '40'\n",
       "41. '41'\n",
       "42. '42'\n",
       "43. '43'\n",
       "44. '44'\n",
       "45. '45'\n",
       "46. '46'\n",
       "47. '47'\n",
       "48. '48'\n",
       "49. '49'\n",
       "50. '50'\n",
       "51. '51'\n",
       "52. '52'\n",
       "53. '53'\n",
       "54. '54'\n",
       "55. '55'\n",
       "56. '56'\n",
       "57. '57'\n",
       "58. '58'\n",
       "59. '59'\n",
       "60. '60'\n",
       "61. '61'\n",
       "62. '62'\n",
       "63. '63'\n",
       "64. '64'\n",
       "65. '65'\n",
       "66. '66'\n",
       "67. '67'\n",
       "68. '68'\n",
       "69. '69'\n",
       "70. '70'\n",
       "71. '71'\n",
       "72. '72'\n",
       "73. '73'\n",
       "74. '74'\n",
       "75. '75'\n",
       "76. '76'\n",
       "77. '77'\n",
       "78. '78'\n",
       "79. '79'\n",
       "80. '80'\n",
       "81. '81'\n",
       "82. '82'\n",
       "83. '83'\n",
       "84. '84'\n",
       "85. '85'\n",
       "86. '86'\n",
       "87. '87'\n",
       "88. '88'\n",
       "89. '89'\n",
       "90. '90'\n",
       "91. '91'\n",
       "92. '92'\n",
       "93. '93'\n",
       "94. '94'\n",
       "95. '95'\n",
       "96. '96'\n",
       "97. '97'\n",
       "\n",
       "\n"
      ],
      "text/plain": [
       " [1] 1  2  3  4  5  6  7  8  9  10 11 12 13 14 15 16 17 18 19 20 21 22 23 24 25\n",
       "[26] 26 27 28 29 30 31 32 33 34 35 36 37 38 39 40 41 42 43 44 45 46 47 48 49 50\n",
       "[51] 51 52 53 54 55 56 57 58 59 60 61 62 63 64 65 66 67 68 69 70 71 72 73 74 75\n",
       "[76] 76 77 78 79 80 81 82 83 84 85 86 87 88 89 90 91 92 93 94 95 96 97\n",
       "97 Levels: 1 2 3 4 5 6 7 8 9 10 11 12 13 14 15 16 17 18 19 20 21 22 23 ... 97"
      ]
     },
     "metadata": {},
     "output_type": "display_data"
    }
   ],
   "source": [
    "unique(ELP$Collection_Date)\n",
    "unique(ELP$Experimentor)\n",
    "unique(ELP$Starvation_Period)\n",
    "unique(ELP$Colony_ID)\n",
    "unique(ELP$Ant_ID)"
   ]
  },
  {
   "cell_type": "markdown",
   "id": "e3044b71",
   "metadata": {},
   "source": [
    "## Do initial and final choices significantly differ?"
   ]
  },
  {
   "cell_type": "code",
   "execution_count": 6,
   "id": "f00505b5",
   "metadata": {
    "vscode": {
     "languageId": "r"
    }
   },
   "outputs": [
    {
     "name": "stderr",
     "output_type": "stream",
     "text": [
      "boundary (singular) fit: see help('isSingular')\n",
      "\n"
     ]
    },
    {
     "data": {
      "text/plain": [
       " contrast                      odds.ratio    SE  df null z.ratio p.value\n",
       " Initial_Binary / Final_Binary      0.875 0.149 Inf    1  -0.787  0.4313\n",
       "\n",
       "Tests are performed on the log odds ratio scale "
      ]
     },
     "metadata": {},
     "output_type": "display_data"
    }
   ],
   "source": [
    "ELP_choice_diff = melt(ELP, measure.vars = c(\"Initial_Binary\", \"Final_Binary\"))\n",
    "\n",
    "ELP_choice_diff$variable = as.factor(ELP_choice_diff$variable)\n",
    "ELP_choice_diff$value = as.factor(ELP_choice_diff$value)\n",
    "\n",
    "ELP_choice_diff_mod = glmer(value ~ variable + (1|Collection_Date) + (1|Experimentor) + (Starvation_Period|Colony_ID) + (1|Ant_ID), data = ELP_choice_diff, family = binomial, glmerControl(optimizer = \"bobyqa\", optCtrl = list(maxfun = 1000000000)))\n",
    "\n",
    "e = emmeans(ELP_choice_diff_mod, ~variable, type = \"response\")\n",
    "pairs(e)"
   ]
  },
  {
   "cell_type": "markdown",
   "id": "328cf9e7",
   "metadata": {},
   "source": [
    "p-value > 0.1 hence there is no statistical difference between initial and final decision therefore we will use final decision henceforth."
   ]
  },
  {
   "cell_type": "markdown",
   "id": "33f30dc0",
   "metadata": {},
   "source": [
    "## Define models\n",
    "\n",
    "### 1. Null model\n",
    "**Biological hypothesis:** Ants randomly choose a Y-maze arm."
   ]
  },
  {
   "cell_type": "code",
   "execution_count": 7,
   "id": "0ef959a3",
   "metadata": {
    "scrolled": false,
    "vscode": {
     "languageId": "r"
    }
   },
   "outputs": [
    {
     "name": "stderr",
     "output_type": "stream",
     "text": [
      "boundary (singular) fit: see help('isSingular')\n",
      "\n"
     ]
    }
   ],
   "source": [
    "null_mod = glmer(Final_Binary ~ 1 + (1|Collection_Date) + (1|Experimentor) + (Starvation_Period|Colony_ID) + (1|Ant_ID), data = ELP, family = \"binomial\", glmerControl(optimizer = \"bobyqa\", optCtrl = list(maxfun = 1000000000)))"
   ]
  },
  {
   "cell_type": "markdown",
   "id": "1b2602f5",
   "metadata": {},
   "source": [
    "### 2. Visit model\n",
    "**Biological hypothesis:** Ants learn to associate a Y-maze arm with a reward. Over consecutive visits more ants choose the correct arm."
   ]
  },
  {
   "cell_type": "code",
   "execution_count": 8,
   "id": "7f450e9d",
   "metadata": {
    "vscode": {
     "languageId": "r"
    }
   },
   "outputs": [
    {
     "name": "stderr",
     "output_type": "stream",
     "text": [
      "boundary (singular) fit: see help('isSingular')\n",
      "\n"
     ]
    }
   ],
   "source": [
    "visit_mod = glmer(Final_Binary ~ Visit + (1|Collection_Date) + (1|Experimentor) + (Starvation_Period|Colony_ID) + (1|Ant_ID), data = ELP, family = \"binomial\", glmerControl(optimizer = \"bobyqa\", optCtrl = list(maxfun = 1000000000)))"
   ]
  },
  {
   "cell_type": "markdown",
   "id": "b7ed456a",
   "metadata": {},
   "source": [
    "### 3. Solution model\n",
    "**Biological hypothesis:** The presence of a psychoactive chemical in the reward alters the ants ability to choose a Y-maze arm."
   ]
  },
  {
   "cell_type": "code",
   "execution_count": 9,
   "id": "e40efafe",
   "metadata": {
    "scrolled": true,
    "vscode": {
     "languageId": "r"
    }
   },
   "outputs": [
    {
     "name": "stderr",
     "output_type": "stream",
     "text": [
      "boundary (singular) fit: see help('isSingular')\n",
      "\n"
     ]
    }
   ],
   "source": [
    "solution_mod = glmer(Final_Binary ~ Solution + (1|Collection_Date) + (1|Experimentor) + (Starvation_Period|Colony_ID) + (1|Ant_ID), data = ELP, family = \"binomial\", glmerControl(optimizer = \"bobyqa\", optCtrl = list(maxfun = 1000000000)))"
   ]
  },
  {
   "cell_type": "markdown",
   "id": "ab0eba13",
   "metadata": {},
   "source": [
    "### 4. Side model\n",
    "**Biological hypothesis:** Ants have an intrinsic predisposition towards turning left or right. This is associated with brain lateralisation which has been shown in multiple organisms."
   ]
  },
  {
   "cell_type": "code",
   "execution_count": 10,
   "id": "607d48ee",
   "metadata": {
    "scrolled": true,
    "vscode": {
     "languageId": "r"
    }
   },
   "outputs": [
    {
     "name": "stderr",
     "output_type": "stream",
     "text": [
      "boundary (singular) fit: see help('isSingular')\n",
      "\n"
     ]
    }
   ],
   "source": [
    "side_mod = glmer(Final_Binary ~ Reward_Side + (1|Collection_Date) + (1|Experimentor) + (Starvation_Period|Colony_ID) + (1|Ant_ID), data = ELP, family = \"binomial\", glmerControl(optimizer = \"bobyqa\", optCtrl = list(maxfun = 1000000000)))"
   ]
  },
  {
   "cell_type": "markdown",
   "id": "761fabe0",
   "metadata": {},
   "source": [
    "### 5. Time since marking model\n",
    "**Biological hypothesis:** Ants that had a waiting period (>30 minutes) after learning the reward/side association have different recall strenght. This should be associated with long-term memory formation which should be stronger."
   ]
  },
  {
   "cell_type": "code",
   "execution_count": 11,
   "id": "2658b671",
   "metadata": {
    "vscode": {
     "languageId": "r"
    }
   },
   "outputs": [
    {
     "name": "stderr",
     "output_type": "stream",
     "text": [
      "boundary (singular) fit: see help('isSingular')\n",
      "\n"
     ]
    }
   ],
   "source": [
    "tsm_mod = glmer(Final_Binary ~ TSM_Bin + (1|Collection_Date) + (1|Experimentor) + (Starvation_Period|Colony_ID) + (1|Ant_ID), data = ELP, family = \"binomial\", glmerControl(optimizer = \"bobyqa\", optCtrl = list(maxfun = 1000000000)))"
   ]
  },
  {
   "cell_type": "markdown",
   "id": "892cb81b",
   "metadata": {},
   "source": [
    "### 6. Solution and Visit with Time since marking model\n",
    "**Biological hypothesis:** The effects of a psychoactive chemical might be time dependent."
   ]
  },
  {
   "cell_type": "code",
   "execution_count": 12,
   "id": "5cff5050",
   "metadata": {
    "vscode": {
     "languageId": "r"
    }
   },
   "outputs": [
    {
     "name": "stderr",
     "output_type": "stream",
     "text": [
      "boundary (singular) fit: see help('isSingular')\n",
      "\n"
     ]
    }
   ],
   "source": [
    "solution_time_mod = glmer(Final_Binary ~ Solution + TSM_Bin + Visit + Solution:TSM_Bin + (1|Collection_Date) + (1|Experimentor) + (Starvation_Period|Colony_ID) + (1|Ant_ID), data = ELP, family = \"binomial\", glmerControl(optimizer = \"bobyqa\", optCtrl = list(maxfun = 1000000000)))"
   ]
  },
  {
   "cell_type": "markdown",
   "id": "fcf2c7eb",
   "metadata": {},
   "source": [
    "### 7. Maximal model\n",
    "**Biological hypothesis:** All of the available variables contribute towards ant learning."
   ]
  },
  {
   "cell_type": "code",
   "execution_count": 13,
   "id": "fcc1c701",
   "metadata": {
    "scrolled": false,
    "vscode": {
     "languageId": "r"
    }
   },
   "outputs": [
    {
     "name": "stderr",
     "output_type": "stream",
     "text": [
      "boundary (singular) fit: see help('isSingular')\n",
      "\n"
     ]
    }
   ],
   "source": [
    "max_mod = glmer(Final_Binary ~ Solution + Visit + TSM_Bin + Reward_Side + Solution:TSM_Bin + (1|Collection_Date) + (1|Experimentor) + (Starvation_Period|Colony_ID) + (1|Ant_ID), data = ELP, family = \"binomial\", glmerControl(optimizer = \"bobyqa\", optCtrl = list(maxfun = 1000000000)))"
   ]
  },
  {
   "cell_type": "markdown",
   "id": "df9bb695",
   "metadata": {},
   "source": [
    "## Check if the most complex model (max_mod) is a good fit to the data"
   ]
  },
  {
   "cell_type": "code",
   "execution_count": 14,
   "id": "01fa9328",
   "metadata": {
    "vscode": {
     "languageId": "r"
    }
   },
   "outputs": [
    {
     "data": {
      "image/png": "[encoded data removed]",
      "text/plain": [
       "Plot with title “QQ plot residuals”"
      ]
     },
     "metadata": {
      "image/png": {
       "height": 420,
       "width": 420
      }
     },
     "output_type": "display_data"
    }
   ],
   "source": [
    "simres = simulateResiduals(max_mod)\n",
    "plot(simres, asFactor = T)"
   ]
  },
  {
   "cell_type": "markdown",
   "id": "3d31eeee",
   "metadata": {},
   "source": [
    "The maximum model seems to hold all assumptions and be a god fit to the data. Therefore, all simpler models should be equally good.\n",
    "## Model Selection"
   ]
  },
  {
   "cell_type": "code",
   "execution_count": 15,
   "id": "6768b6ea",
   "metadata": {
    "scrolled": false,
    "vscode": {
     "languageId": "r"
    }
   },
   "outputs": [
    {
     "data": {
      "text/html": [
       "<table class=\"dataframe\">\n",
       "<caption>A aictab: 7 × 8</caption>\n",
       "<thead>\n",
       "\t<tr><th></th><th scope=col>Modnames</th><th scope=col>K</th><th scope=col>AICc</th><th scope=col>Delta_AICc</th><th scope=col>ModelLik</th><th scope=col>AICcWt</th><th scope=col>LL</th><th scope=col>Cum.Wt</th></tr>\n",
       "\t<tr><th></th><th scope=col>&lt;chr&gt;</th><th scope=col>&lt;dbl&gt;</th><th scope=col>&lt;dbl&gt;</th><th scope=col>&lt;dbl&gt;</th><th scope=col>&lt;dbl&gt;</th><th scope=col>&lt;dbl&gt;</th><th scope=col>&lt;dbl&gt;</th><th scope=col>&lt;dbl&gt;</th></tr>\n",
       "</thead>\n",
       "<tbody>\n",
       "\t<tr><th scope=row>4</th><td>side_mod         </td><td> 8</td><td>501.8878</td><td> 0.000000</td><td>1.000000000</td><td>0.638225218</td><td>-242.7539</td><td>0.6382252</td></tr>\n",
       "\t<tr><th scope=row>1</th><td>null_mod         </td><td> 7</td><td>504.4206</td><td> 2.532764</td><td>0.281849579</td><td>0.179883509</td><td>-245.0629</td><td>0.8181087</td></tr>\n",
       "\t<tr><th scope=row>3</th><td>solution_mod     </td><td> 8</td><td>506.1806</td><td> 4.292781</td><td>0.116905385</td><td>0.074611965</td><td>-244.9003</td><td>0.8927207</td></tr>\n",
       "\t<tr><th scope=row>2</th><td>visit_mod        </td><td>10</td><td>506.9406</td><td> 5.052734</td><td>0.079948959</td><td>0.051025442</td><td>-243.1785</td><td>0.9437461</td></tr>\n",
       "\t<tr><th scope=row>5</th><td>tsm_mod          </td><td>11</td><td>507.0194</td><td> 5.131539</td><td>0.076860031</td><td>0.049054010</td><td>-242.1586</td><td>0.9928001</td></tr>\n",
       "\t<tr><th scope=row>7</th><td>max_mod          </td><td>20</td><td>511.2428</td><td> 9.354942</td><td>0.009302512</td><td>0.005937098</td><td>-234.4770</td><td>0.9987372</td></tr>\n",
       "\t<tr><th scope=row>6</th><td>solution_time_mod</td><td>19</td><td>514.3386</td><td>12.450787</td><td>0.001978545</td><td>0.001262757</td><td>-237.1367</td><td>1.0000000</td></tr>\n",
       "</tbody>\n",
       "</table>\n"
      ],
      "text/latex": [
       "A aictab: 7 × 8\n",
       "\\begin{tabular}{r|llllllll}\n",
       "  & Modnames & K & AICc & Delta\\_AICc & ModelLik & AICcWt & LL & Cum.Wt\\\\\n",
       "  & <chr> & <dbl> & <dbl> & <dbl> & <dbl> & <dbl> & <dbl> & <dbl>\\\\\n",
       "\\hline\n",
       "\t4 & side\\_mod          &  8 & 501.8878 &  0.000000 & 1.000000000 & 0.638225218 & -242.7539 & 0.6382252\\\\\n",
       "\t1 & null\\_mod          &  7 & 504.4206 &  2.532764 & 0.281849579 & 0.179883509 & -245.0629 & 0.8181087\\\\\n",
       "\t3 & solution\\_mod      &  8 & 506.1806 &  4.292781 & 0.116905385 & 0.074611965 & -244.9003 & 0.8927207\\\\\n",
       "\t2 & visit\\_mod         & 10 & 506.9406 &  5.052734 & 0.079948959 & 0.051025442 & -243.1785 & 0.9437461\\\\\n",
       "\t5 & tsm\\_mod           & 11 & 507.0194 &  5.131539 & 0.076860031 & 0.049054010 & -242.1586 & 0.9928001\\\\\n",
       "\t7 & max\\_mod           & 20 & 511.2428 &  9.354942 & 0.009302512 & 0.005937098 & -234.4770 & 0.9987372\\\\\n",
       "\t6 & solution\\_time\\_mod & 19 & 514.3386 & 12.450787 & 0.001978545 & 0.001262757 & -237.1367 & 1.0000000\\\\\n",
       "\\end{tabular}\n"
      ],
      "text/markdown": [
       "\n",
       "A aictab: 7 × 8\n",
       "\n",
       "| <!--/--> | Modnames &lt;chr&gt; | K &lt;dbl&gt; | AICc &lt;dbl&gt; | Delta_AICc &lt;dbl&gt; | ModelLik &lt;dbl&gt; | AICcWt &lt;dbl&gt; | LL &lt;dbl&gt; | Cum.Wt &lt;dbl&gt; |\n",
       "|---|---|---|---|---|---|---|---|---|\n",
       "| 4 | side_mod          |  8 | 501.8878 |  0.000000 | 1.000000000 | 0.638225218 | -242.7539 | 0.6382252 |\n",
       "| 1 | null_mod          |  7 | 504.4206 |  2.532764 | 0.281849579 | 0.179883509 | -245.0629 | 0.8181087 |\n",
       "| 3 | solution_mod      |  8 | 506.1806 |  4.292781 | 0.116905385 | 0.074611965 | -244.9003 | 0.8927207 |\n",
       "| 2 | visit_mod         | 10 | 506.9406 |  5.052734 | 0.079948959 | 0.051025442 | -243.1785 | 0.9437461 |\n",
       "| 5 | tsm_mod           | 11 | 507.0194 |  5.131539 | 0.076860031 | 0.049054010 | -242.1586 | 0.9928001 |\n",
       "| 7 | max_mod           | 20 | 511.2428 |  9.354942 | 0.009302512 | 0.005937098 | -234.4770 | 0.9987372 |\n",
       "| 6 | solution_time_mod | 19 | 514.3386 | 12.450787 | 0.001978545 | 0.001262757 | -237.1367 | 1.0000000 |\n",
       "\n"
      ],
      "text/plain": [
       "  Modnames          K  AICc     Delta_AICc ModelLik    AICcWt      LL       \n",
       "4 side_mod           8 501.8878  0.000000  1.000000000 0.638225218 -242.7539\n",
       "1 null_mod           7 504.4206  2.532764  0.281849579 0.179883509 -245.0629\n",
       "3 solution_mod       8 506.1806  4.292781  0.116905385 0.074611965 -244.9003\n",
       "2 visit_mod         10 506.9406  5.052734  0.079948959 0.051025442 -243.1785\n",
       "5 tsm_mod           11 507.0194  5.131539  0.076860031 0.049054010 -242.1586\n",
       "7 max_mod           20 511.2428  9.354942  0.009302512 0.005937098 -234.4770\n",
       "6 solution_time_mod 19 514.3386 12.450787  0.001978545 0.001262757 -237.1367\n",
       "  Cum.Wt   \n",
       "4 0.6382252\n",
       "1 0.8181087\n",
       "3 0.8927207\n",
       "2 0.9437461\n",
       "5 0.9928001\n",
       "7 0.9987372\n",
       "6 1.0000000"
      ]
     },
     "metadata": {},
     "output_type": "display_data"
    },
    {
     "data": {
      "text/html": [
       "<dl>\n",
       "\t<dt>$method</dt>\n",
       "\t\t<dd>'raw'</dd>\n",
       "\t<dt>$level</dt>\n",
       "\t\t<dd>0.95</dd>\n",
       "\t<dt>$table</dt>\n",
       "\t\t<dd><table class=\"dataframe\">\n",
       "<caption>A aictab: 5 × 8</caption>\n",
       "<thead>\n",
       "\t<tr><th></th><th scope=col>Modnames</th><th scope=col>K</th><th scope=col>AICc</th><th scope=col>Delta_AICc</th><th scope=col>ModelLik</th><th scope=col>AICcWt</th><th scope=col>LL</th><th scope=col>Cum.Wt</th></tr>\n",
       "\t<tr><th></th><th scope=col>&lt;chr&gt;</th><th scope=col>&lt;dbl&gt;</th><th scope=col>&lt;dbl&gt;</th><th scope=col>&lt;dbl&gt;</th><th scope=col>&lt;dbl&gt;</th><th scope=col>&lt;dbl&gt;</th><th scope=col>&lt;dbl&gt;</th><th scope=col>&lt;dbl&gt;</th></tr>\n",
       "</thead>\n",
       "<tbody>\n",
       "\t<tr><th scope=row>4</th><td>side_mod    </td><td> 8</td><td>501.8878</td><td>0.000000</td><td>1.00000000</td><td>0.63822522</td><td>-242.7539</td><td>0.6382252</td></tr>\n",
       "\t<tr><th scope=row>1</th><td>null_mod    </td><td> 7</td><td>504.4206</td><td>2.532764</td><td>0.28184958</td><td>0.17988351</td><td>-245.0629</td><td>0.8181087</td></tr>\n",
       "\t<tr><th scope=row>3</th><td>solution_mod</td><td> 8</td><td>506.1806</td><td>4.292781</td><td>0.11690539</td><td>0.07461197</td><td>-244.9003</td><td>0.8927207</td></tr>\n",
       "\t<tr><th scope=row>2</th><td>visit_mod   </td><td>10</td><td>506.9406</td><td>5.052734</td><td>0.07994896</td><td>0.05102544</td><td>-243.1785</td><td>0.9437461</td></tr>\n",
       "\t<tr><th scope=row>5</th><td>tsm_mod     </td><td>11</td><td>507.0194</td><td>5.131539</td><td>0.07686003</td><td>0.04905401</td><td>-242.1586</td><td>0.9928001</td></tr>\n",
       "</tbody>\n",
       "</table>\n",
       "</dd>\n",
       "</dl>\n"
      ],
      "text/latex": [
       "\\begin{description}\n",
       "\\item[\\$method] 'raw'\n",
       "\\item[\\$level] 0.95\n",
       "\\item[\\$table] A aictab: 5 × 8\n",
       "\\begin{tabular}{r|llllllll}\n",
       "  & Modnames & K & AICc & Delta\\_AICc & ModelLik & AICcWt & LL & Cum.Wt\\\\\n",
       "  & <chr> & <dbl> & <dbl> & <dbl> & <dbl> & <dbl> & <dbl> & <dbl>\\\\\n",
       "\\hline\n",
       "\t4 & side\\_mod     &  8 & 501.8878 & 0.000000 & 1.00000000 & 0.63822522 & -242.7539 & 0.6382252\\\\\n",
       "\t1 & null\\_mod     &  7 & 504.4206 & 2.532764 & 0.28184958 & 0.17988351 & -245.0629 & 0.8181087\\\\\n",
       "\t3 & solution\\_mod &  8 & 506.1806 & 4.292781 & 0.11690539 & 0.07461197 & -244.9003 & 0.8927207\\\\\n",
       "\t2 & visit\\_mod    & 10 & 506.9406 & 5.052734 & 0.07994896 & 0.05102544 & -243.1785 & 0.9437461\\\\\n",
       "\t5 & tsm\\_mod      & 11 & 507.0194 & 5.131539 & 0.07686003 & 0.04905401 & -242.1586 & 0.9928001\\\\\n",
       "\\end{tabular}\n",
       "\n",
       "\\end{description}\n"
      ],
      "text/markdown": [
       "$method\n",
       ":   'raw'\n",
       "$level\n",
       ":   0.95\n",
       "$table\n",
       ":   \n",
       "A aictab: 5 × 8\n",
       "\n",
       "| <!--/--> | Modnames &lt;chr&gt; | K &lt;dbl&gt; | AICc &lt;dbl&gt; | Delta_AICc &lt;dbl&gt; | ModelLik &lt;dbl&gt; | AICcWt &lt;dbl&gt; | LL &lt;dbl&gt; | Cum.Wt &lt;dbl&gt; |\n",
       "|---|---|---|---|---|---|---|---|---|\n",
       "| 4 | side_mod     |  8 | 501.8878 | 0.000000 | 1.00000000 | 0.63822522 | -242.7539 | 0.6382252 |\n",
       "| 1 | null_mod     |  7 | 504.4206 | 2.532764 | 0.28184958 | 0.17988351 | -245.0629 | 0.8181087 |\n",
       "| 3 | solution_mod |  8 | 506.1806 | 4.292781 | 0.11690539 | 0.07461197 | -244.9003 | 0.8927207 |\n",
       "| 2 | visit_mod    | 10 | 506.9406 | 5.052734 | 0.07994896 | 0.05102544 | -243.1785 | 0.9437461 |\n",
       "| 5 | tsm_mod      | 11 | 507.0194 | 5.131539 | 0.07686003 | 0.04905401 | -242.1586 | 0.9928001 |\n",
       "\n",
       "\n",
       "\n",
       "\n"
      ],
      "text/plain": [
       "\n",
       "Confidence set for the best model\n",
       "\n",
       "Method:\t raw sum of model probabilities\n",
       "\n",
       "95% confidence set:\n",
       "              K   AICc Delta_AICc AICcWt\n",
       "side_mod      8 501.89       0.00   0.64\n",
       "null_mod      7 504.42       2.53   0.18\n",
       "solution_mod  8 506.18       4.29   0.07\n",
       "visit_mod    10 506.94       5.05   0.05\n",
       "tsm_mod      11 507.02       5.13   0.05\n",
       "\n",
       "Model probabilities sum to 0.99 \n"
      ]
     },
     "metadata": {},
     "output_type": "display_data"
    }
   ],
   "source": [
    "cand_models = list(\"null_mod\" = null_mod, \n",
    "                   \"visit_mod\" = visit_mod,\n",
    "                   \"solution_mod\" = solution_mod,\n",
    "                   \"side_mod\" = side_mod,\n",
    "                   \"tsm_mod\" = tsm_mod,\n",
    "                   \"solution_time_mod\" = solution_time_mod,\n",
    "                   \"max_mod\" = max_mod)\n",
    "\n",
    "aictab(cand_models)\n",
    "confset(cand.set = cand_models) # Remove models that explain the last 0.05 Cum.Wt"
   ]
  },
  {
   "cell_type": "markdown",
   "id": "8bbc4ed3",
   "metadata": {},
   "source": [
    "**The side_mod explains 64% of the total variance explained by all of the models tested.**"
   ]
  },
  {
   "cell_type": "code",
   "execution_count": 16,
   "id": "de24bba9",
   "metadata": {
    "scrolled": false,
    "vscode": {
     "languageId": "r"
    }
   },
   "outputs": [
    {
     "data": {
      "text/html": [
       "<dl>\n",
       "\t<dt>$Model.high</dt>\n",
       "\t\t<dd>'side_mod'</dd>\n",
       "\t<dt>$Model.low</dt>\n",
       "\t\t<dd>'null_mod'</dd>\n",
       "\t<dt>$Ev.ratio</dt>\n",
       "\t\t<dd>3.54799181742019</dd>\n",
       "</dl>\n"
      ],
      "text/latex": [
       "\\begin{description}\n",
       "\\item[\\$Model.high] 'side\\_mod'\n",
       "\\item[\\$Model.low] 'null\\_mod'\n",
       "\\item[\\$Ev.ratio] 3.54799181742019\n",
       "\\end{description}\n"
      ],
      "text/markdown": [
       "$Model.high\n",
       ":   'side_mod'\n",
       "$Model.low\n",
       ":   'null_mod'\n",
       "$Ev.ratio\n",
       ":   3.54799181742019\n",
       "\n",
       "\n"
      ],
      "text/plain": [
       "\n",
       "Evidence ratio between models 'side_mod' and 'null_mod':\n",
       "3.55 \n"
      ]
     },
     "metadata": {},
     "output_type": "display_data"
    }
   ],
   "source": [
    "evidence(aic.table = aictab(cand_models))"
   ]
  },
  {
   "cell_type": "markdown",
   "id": "8f498389",
   "metadata": {},
   "source": [
    "The side model is 4 times more parsimonious than the next \"best\" model (null_mod)."
   ]
  },
  {
   "cell_type": "code",
   "execution_count": 17,
   "id": "83fe2071",
   "metadata": {
    "scrolled": false,
    "vscode": {
     "languageId": "r"
    }
   },
   "outputs": [
    {
     "data": {
      "image/png": "[encoded data removed]",
      "text/plain": [
       "Plot with title “”"
      ]
     },
     "metadata": {
      "image/png": {
       "height": 420,
       "width": 420
      }
     },
     "output_type": "display_data"
    }
   ],
   "source": [
    "plot(ELP$Reward_Side, ELP$Final_Binary)"
   ]
  },
  {
   "cell_type": "code",
   "execution_count": 18,
   "id": "f5bc6fa7",
   "metadata": {
    "vscode": {
     "languageId": "r"
    }
   },
   "outputs": [
    {
     "data": {
      "image/png": "[encoded data removed]",
      "text/plain": [
       "Plot with title “”"
      ]
     },
     "metadata": {
      "image/png": {
       "height": 420,
       "width": 420
      }
     },
     "output_type": "display_data"
    }
   ],
   "source": [
    "plot(ELP$Visit, ELP$Final_Binary)"
   ]
  },
  {
   "cell_type": "markdown",
   "id": "bca19c16",
   "metadata": {},
   "source": [
    "## Initial Conclusions\n",
    "- Visit seems to not have an effect on choice.\n",
    "- There seems to be a very slight side bias towards the Left.\n",
    "\n",
    "## Brain lateralisation VS Visual Cues\n",
    "**Stefanie setup had the wall on the Left!**\n",
    "**Laura setup had the wall on the Right!**"
   ]
  },
  {
   "cell_type": "markdown",
   "id": "bc44157e",
   "metadata": {},
   "source": [
    "## Model averaging"
   ]
  },
  {
   "cell_type": "code",
   "execution_count": 19,
   "id": "9401138f",
   "metadata": {
    "scrolled": false,
    "vscode": {
     "languageId": "r"
    }
   },
   "outputs": [
    {
     "data": {
      "text/html": [
       "<dl>\n",
       "\t<dt>$method</dt>\n",
       "\t\t<dd>'raw'</dd>\n",
       "\t<dt>$level</dt>\n",
       "\t\t<dd>0.95</dd>\n",
       "\t<dt>$table</dt>\n",
       "\t\t<dd><table class=\"dataframe\">\n",
       "<caption>A aictab: 5 × 8</caption>\n",
       "<thead>\n",
       "\t<tr><th></th><th scope=col>Modnames</th><th scope=col>K</th><th scope=col>AICc</th><th scope=col>Delta_AICc</th><th scope=col>ModelLik</th><th scope=col>AICcWt</th><th scope=col>LL</th><th scope=col>Cum.Wt</th></tr>\n",
       "\t<tr><th></th><th scope=col>&lt;chr&gt;</th><th scope=col>&lt;dbl&gt;</th><th scope=col>&lt;dbl&gt;</th><th scope=col>&lt;dbl&gt;</th><th scope=col>&lt;dbl&gt;</th><th scope=col>&lt;dbl&gt;</th><th scope=col>&lt;dbl&gt;</th><th scope=col>&lt;dbl&gt;</th></tr>\n",
       "</thead>\n",
       "<tbody>\n",
       "\t<tr><th scope=row>4</th><td>side_mod    </td><td> 8</td><td>501.8878</td><td>0.000000</td><td>1.00000000</td><td>0.63822522</td><td>-242.7539</td><td>0.6382252</td></tr>\n",
       "\t<tr><th scope=row>1</th><td>null_mod    </td><td> 7</td><td>504.4206</td><td>2.532764</td><td>0.28184958</td><td>0.17988351</td><td>-245.0629</td><td>0.8181087</td></tr>\n",
       "\t<tr><th scope=row>3</th><td>solution_mod</td><td> 8</td><td>506.1806</td><td>4.292781</td><td>0.11690539</td><td>0.07461197</td><td>-244.9003</td><td>0.8927207</td></tr>\n",
       "\t<tr><th scope=row>2</th><td>visit_mod   </td><td>10</td><td>506.9406</td><td>5.052734</td><td>0.07994896</td><td>0.05102544</td><td>-243.1785</td><td>0.9437461</td></tr>\n",
       "\t<tr><th scope=row>5</th><td>tsm_mod     </td><td>11</td><td>507.0194</td><td>5.131539</td><td>0.07686003</td><td>0.04905401</td><td>-242.1586</td><td>0.9928001</td></tr>\n",
       "</tbody>\n",
       "</table>\n",
       "</dd>\n",
       "</dl>\n"
      ],
      "text/latex": [
       "\\begin{description}\n",
       "\\item[\\$method] 'raw'\n",
       "\\item[\\$level] 0.95\n",
       "\\item[\\$table] A aictab: 5 × 8\n",
       "\\begin{tabular}{r|llllllll}\n",
       "  & Modnames & K & AICc & Delta\\_AICc & ModelLik & AICcWt & LL & Cum.Wt\\\\\n",
       "  & <chr> & <dbl> & <dbl> & <dbl> & <dbl> & <dbl> & <dbl> & <dbl>\\\\\n",
       "\\hline\n",
       "\t4 & side\\_mod     &  8 & 501.8878 & 0.000000 & 1.00000000 & 0.63822522 & -242.7539 & 0.6382252\\\\\n",
       "\t1 & null\\_mod     &  7 & 504.4206 & 2.532764 & 0.28184958 & 0.17988351 & -245.0629 & 0.8181087\\\\\n",
       "\t3 & solution\\_mod &  8 & 506.1806 & 4.292781 & 0.11690539 & 0.07461197 & -244.9003 & 0.8927207\\\\\n",
       "\t2 & visit\\_mod    & 10 & 506.9406 & 5.052734 & 0.07994896 & 0.05102544 & -243.1785 & 0.9437461\\\\\n",
       "\t5 & tsm\\_mod      & 11 & 507.0194 & 5.131539 & 0.07686003 & 0.04905401 & -242.1586 & 0.9928001\\\\\n",
       "\\end{tabular}\n",
       "\n",
       "\\end{description}\n"
      ],
      "text/markdown": [
       "$method\n",
       ":   'raw'\n",
       "$level\n",
       ":   0.95\n",
       "$table\n",
       ":   \n",
       "A aictab: 5 × 8\n",
       "\n",
       "| <!--/--> | Modnames &lt;chr&gt; | K &lt;dbl&gt; | AICc &lt;dbl&gt; | Delta_AICc &lt;dbl&gt; | ModelLik &lt;dbl&gt; | AICcWt &lt;dbl&gt; | LL &lt;dbl&gt; | Cum.Wt &lt;dbl&gt; |\n",
       "|---|---|---|---|---|---|---|---|---|\n",
       "| 4 | side_mod     |  8 | 501.8878 | 0.000000 | 1.00000000 | 0.63822522 | -242.7539 | 0.6382252 |\n",
       "| 1 | null_mod     |  7 | 504.4206 | 2.532764 | 0.28184958 | 0.17988351 | -245.0629 | 0.8181087 |\n",
       "| 3 | solution_mod |  8 | 506.1806 | 4.292781 | 0.11690539 | 0.07461197 | -244.9003 | 0.8927207 |\n",
       "| 2 | visit_mod    | 10 | 506.9406 | 5.052734 | 0.07994896 | 0.05102544 | -243.1785 | 0.9437461 |\n",
       "| 5 | tsm_mod      | 11 | 507.0194 | 5.131539 | 0.07686003 | 0.04905401 | -242.1586 | 0.9928001 |\n",
       "\n",
       "\n",
       "\n",
       "\n"
      ],
      "text/plain": [
       "\n",
       "Confidence set for the best model\n",
       "\n",
       "Method:\t raw sum of model probabilities\n",
       "\n",
       "95% confidence set:\n",
       "              K   AICc Delta_AICc AICcWt\n",
       "side_mod      8 501.89       0.00   0.64\n",
       "null_mod      7 504.42       2.53   0.18\n",
       "solution_mod  8 506.18       4.29   0.07\n",
       "visit_mod    10 506.94       5.05   0.05\n",
       "tsm_mod      11 507.02       5.13   0.05\n",
       "\n",
       "Model probabilities sum to 0.99 \n"
      ]
     },
     "metadata": {},
     "output_type": "display_data"
    }
   ],
   "source": [
    "confset(cand.set = cand_models) # Remove models that explain the last 0.05 Cum.Wt"
   ]
  },
  {
   "cell_type": "markdown",
   "id": "09b05465",
   "metadata": {},
   "source": [
    "There is no clearly better model!"
   ]
  },
  {
   "cell_type": "code",
   "execution_count": 20,
   "id": "7a07059d",
   "metadata": {
    "scrolled": true,
    "vscode": {
     "languageId": "r"
    }
   },
   "outputs": [
    {
     "data": {
      "text/html": [
       "<dl>\n",
       "\t<dt>$Parameter</dt>\n",
       "\t\t<dd>'(Intercept)'</dd>\n",
       "\t<dt>$Mod.avg.table</dt>\n",
       "\t\t<dd><table class=\"dataframe\">\n",
       "<caption>A aictab: 5 × 9</caption>\n",
       "<thead>\n",
       "\t<tr><th scope=col>Modnames</th><th scope=col>K</th><th scope=col>AICc</th><th scope=col>Delta_AICc</th><th scope=col>ModelLik</th><th scope=col>AICcWt</th><th scope=col>LL</th><th scope=col>Beta_est</th><th scope=col>SE</th></tr>\n",
       "\t<tr><th scope=col>&lt;chr&gt;</th><th scope=col>&lt;dbl&gt;</th><th scope=col>&lt;dbl&gt;</th><th scope=col>&lt;dbl&gt;</th><th scope=col>&lt;dbl&gt;</th><th scope=col>&lt;dbl&gt;</th><th scope=col>&lt;dbl&gt;</th><th scope=col>&lt;dbl&gt;</th><th scope=col>&lt;dbl&gt;</th></tr>\n",
       "</thead>\n",
       "<tbody>\n",
       "\t<tr><td>side_mod    </td><td> 8</td><td>501.8878</td><td>0.000000</td><td>1.00000000</td><td>0.64285367</td><td>-242.7539</td><td>1.0173266</td><td>0.2126609</td></tr>\n",
       "\t<tr><td>null_mod    </td><td> 7</td><td>504.4206</td><td>2.532764</td><td>0.28184958</td><td>0.18118804</td><td>-245.0629</td><td>0.7569021</td><td>0.1841682</td></tr>\n",
       "\t<tr><td>solution_mod</td><td> 8</td><td>506.1806</td><td>4.292781</td><td>0.11690539</td><td>0.07515306</td><td>-244.9003</td><td>0.6742887</td><td>0.2327368</td></tr>\n",
       "\t<tr><td>visit_mod   </td><td>10</td><td>506.9406</td><td>5.052734</td><td>0.07994896</td><td>0.05139548</td><td>-243.1785</td><td>0.9591086</td><td>0.2770274</td></tr>\n",
       "\t<tr><td>tsm_mod     </td><td>11</td><td>507.0194</td><td>5.131539</td><td>0.07686003</td><td>0.04940975</td><td>-242.1586</td><td>0.4650766</td><td>0.2335113</td></tr>\n",
       "</tbody>\n",
       "</table>\n",
       "</dd>\n",
       "\t<dt>$Mod.avg.beta</dt>\n",
       "\t\t<dd>0.914081769484114</dd>\n",
       "\t<dt>$Uncond.SE</dt>\n",
       "\t\t<dd>0.267662664725405</dd>\n",
       "\t<dt>$Conf.level</dt>\n",
       "\t\t<dd>0.95</dd>\n",
       "\t<dt>$Lower.CL</dt>\n",
       "\t\t<dd>0.3894725866163</dd>\n",
       "\t<dt>$Upper.CL</dt>\n",
       "\t\t<dd>1.43869095235193</dd>\n",
       "</dl>\n"
      ],
      "text/latex": [
       "\\begin{description}\n",
       "\\item[\\$Parameter] '(Intercept)'\n",
       "\\item[\\$Mod.avg.table] A aictab: 5 × 9\n",
       "\\begin{tabular}{lllllllll}\n",
       " Modnames & K & AICc & Delta\\_AICc & ModelLik & AICcWt & LL & Beta\\_est & SE\\\\\n",
       " <chr> & <dbl> & <dbl> & <dbl> & <dbl> & <dbl> & <dbl> & <dbl> & <dbl>\\\\\n",
       "\\hline\n",
       "\t side\\_mod     &  8 & 501.8878 & 0.000000 & 1.00000000 & 0.64285367 & -242.7539 & 1.0173266 & 0.2126609\\\\\n",
       "\t null\\_mod     &  7 & 504.4206 & 2.532764 & 0.28184958 & 0.18118804 & -245.0629 & 0.7569021 & 0.1841682\\\\\n",
       "\t solution\\_mod &  8 & 506.1806 & 4.292781 & 0.11690539 & 0.07515306 & -244.9003 & 0.6742887 & 0.2327368\\\\\n",
       "\t visit\\_mod    & 10 & 506.9406 & 5.052734 & 0.07994896 & 0.05139548 & -243.1785 & 0.9591086 & 0.2770274\\\\\n",
       "\t tsm\\_mod      & 11 & 507.0194 & 5.131539 & 0.07686003 & 0.04940975 & -242.1586 & 0.4650766 & 0.2335113\\\\\n",
       "\\end{tabular}\n",
       "\n",
       "\\item[\\$Mod.avg.beta] 0.914081769484114\n",
       "\\item[\\$Uncond.SE] 0.267662664725405\n",
       "\\item[\\$Conf.level] 0.95\n",
       "\\item[\\$Lower.CL] 0.3894725866163\n",
       "\\item[\\$Upper.CL] 1.43869095235193\n",
       "\\end{description}\n"
      ],
      "text/markdown": [
       "$Parameter\n",
       ":   '(Intercept)'\n",
       "$Mod.avg.table\n",
       ":   \n",
       "A aictab: 5 × 9\n",
       "\n",
       "| Modnames &lt;chr&gt; | K &lt;dbl&gt; | AICc &lt;dbl&gt; | Delta_AICc &lt;dbl&gt; | ModelLik &lt;dbl&gt; | AICcWt &lt;dbl&gt; | LL &lt;dbl&gt; | Beta_est &lt;dbl&gt; | SE &lt;dbl&gt; |\n",
       "|---|---|---|---|---|---|---|---|---|\n",
       "| side_mod     |  8 | 501.8878 | 0.000000 | 1.00000000 | 0.64285367 | -242.7539 | 1.0173266 | 0.2126609 |\n",
       "| null_mod     |  7 | 504.4206 | 2.532764 | 0.28184958 | 0.18118804 | -245.0629 | 0.7569021 | 0.1841682 |\n",
       "| solution_mod |  8 | 506.1806 | 4.292781 | 0.11690539 | 0.07515306 | -244.9003 | 0.6742887 | 0.2327368 |\n",
       "| visit_mod    | 10 | 506.9406 | 5.052734 | 0.07994896 | 0.05139548 | -243.1785 | 0.9591086 | 0.2770274 |\n",
       "| tsm_mod      | 11 | 507.0194 | 5.131539 | 0.07686003 | 0.04940975 | -242.1586 | 0.4650766 | 0.2335113 |\n",
       "\n",
       "\n",
       "$Mod.avg.beta\n",
       ":   0.914081769484114\n",
       "$Uncond.SE\n",
       ":   0.267662664725405\n",
       "$Conf.level\n",
       ":   0.95\n",
       "$Lower.CL\n",
       ":   0.3894725866163\n",
       "$Upper.CL\n",
       ":   1.43869095235193\n",
       "\n",
       "\n"
      ],
      "text/plain": [
       "\n",
       "Multimodel inference on \"(Intercept)\" based on AICc\n",
       "\n",
       "AICc table used to obtain model-averaged estimate with shrinkage:\n",
       "\n",
       "              K   AICc Delta_AICc AICcWt Estimate   SE\n",
       "side_mod      8 501.89       0.00   0.64     1.02 0.21\n",
       "null_mod      7 504.42       2.53   0.18     0.76 0.18\n",
       "solution_mod  8 506.18       4.29   0.08     0.67 0.23\n",
       "visit_mod    10 506.94       5.05   0.05     0.96 0.28\n",
       "tsm_mod      11 507.02       5.13   0.05     0.47 0.23\n",
       "\n",
       "Model-averaged estimate with shrinkage: 0.91 \n",
       "Unconditional SE: 0.27 \n",
       "95% Unconditional confidence interval: 0.39, 1.44\n"
      ]
     },
     "metadata": {},
     "output_type": "display_data"
    },
    {
     "data": {
      "text/html": [
       "<dl>\n",
       "\t<dt>$Parameter</dt>\n",
       "\t\t<dd>'SolutionCaffeine'</dd>\n",
       "\t<dt>$Mod.avg.table</dt>\n",
       "\t\t<dd><table class=\"dataframe\">\n",
       "<caption>A aictab: 5 × 9</caption>\n",
       "<thead>\n",
       "\t<tr><th scope=col>Modnames</th><th scope=col>K</th><th scope=col>AICc</th><th scope=col>Delta_AICc</th><th scope=col>ModelLik</th><th scope=col>AICcWt</th><th scope=col>LL</th><th scope=col>Beta_est</th><th scope=col>SE</th></tr>\n",
       "\t<tr><th scope=col>&lt;chr&gt;</th><th scope=col>&lt;dbl&gt;</th><th scope=col>&lt;dbl&gt;</th><th scope=col>&lt;dbl&gt;</th><th scope=col>&lt;dbl&gt;</th><th scope=col>&lt;dbl&gt;</th><th scope=col>&lt;dbl&gt;</th><th scope=col>&lt;dbl&gt;</th><th scope=col>&lt;dbl&gt;</th></tr>\n",
       "</thead>\n",
       "<tbody>\n",
       "\t<tr><td>side_mod    </td><td> 8</td><td>501.8878</td><td>0.000000</td><td>1.00000000</td><td>0.64285367</td><td>-242.7539</td><td>0.0000000</td><td>0.0000000</td></tr>\n",
       "\t<tr><td>null_mod    </td><td> 7</td><td>504.4206</td><td>2.532764</td><td>0.28184958</td><td>0.18118804</td><td>-245.0629</td><td>0.0000000</td><td>0.0000000</td></tr>\n",
       "\t<tr><td>solution_mod</td><td> 8</td><td>506.1806</td><td>4.292781</td><td>0.11690539</td><td>0.07515306</td><td>-244.9003</td><td>0.1574009</td><td>0.2757442</td></tr>\n",
       "\t<tr><td>visit_mod   </td><td>10</td><td>506.9406</td><td>5.052734</td><td>0.07994896</td><td>0.05139548</td><td>-243.1785</td><td>0.0000000</td><td>0.0000000</td></tr>\n",
       "\t<tr><td>tsm_mod     </td><td>11</td><td>507.0194</td><td>5.131539</td><td>0.07686003</td><td>0.04940975</td><td>-242.1586</td><td>0.0000000</td><td>0.0000000</td></tr>\n",
       "</tbody>\n",
       "</table>\n",
       "</dd>\n",
       "\t<dt>$Mod.avg.beta</dt>\n",
       "\t\t<dd>0.0118291579806755</dd>\n",
       "\t<dt>$Uncond.SE</dt>\n",
       "\t\t<dd>0.0862336597167906</dd>\n",
       "\t<dt>$Conf.level</dt>\n",
       "\t\t<dd>0.95</dd>\n",
       "\t<dt>$Lower.CL</dt>\n",
       "\t\t<dd>-0.157185709319317</dd>\n",
       "\t<dt>$Upper.CL</dt>\n",
       "\t\t<dd>0.180844025280668</dd>\n",
       "</dl>\n"
      ],
      "text/latex": [
       "\\begin{description}\n",
       "\\item[\\$Parameter] 'SolutionCaffeine'\n",
       "\\item[\\$Mod.avg.table] A aictab: 5 × 9\n",
       "\\begin{tabular}{lllllllll}\n",
       " Modnames & K & AICc & Delta\\_AICc & ModelLik & AICcWt & LL & Beta\\_est & SE\\\\\n",
       " <chr> & <dbl> & <dbl> & <dbl> & <dbl> & <dbl> & <dbl> & <dbl> & <dbl>\\\\\n",
       "\\hline\n",
       "\t side\\_mod     &  8 & 501.8878 & 0.000000 & 1.00000000 & 0.64285367 & -242.7539 & 0.0000000 & 0.0000000\\\\\n",
       "\t null\\_mod     &  7 & 504.4206 & 2.532764 & 0.28184958 & 0.18118804 & -245.0629 & 0.0000000 & 0.0000000\\\\\n",
       "\t solution\\_mod &  8 & 506.1806 & 4.292781 & 0.11690539 & 0.07515306 & -244.9003 & 0.1574009 & 0.2757442\\\\\n",
       "\t visit\\_mod    & 10 & 506.9406 & 5.052734 & 0.07994896 & 0.05139548 & -243.1785 & 0.0000000 & 0.0000000\\\\\n",
       "\t tsm\\_mod      & 11 & 507.0194 & 5.131539 & 0.07686003 & 0.04940975 & -242.1586 & 0.0000000 & 0.0000000\\\\\n",
       "\\end{tabular}\n",
       "\n",
       "\\item[\\$Mod.avg.beta] 0.0118291579806755\n",
       "\\item[\\$Uncond.SE] 0.0862336597167906\n",
       "\\item[\\$Conf.level] 0.95\n",
       "\\item[\\$Lower.CL] -0.157185709319317\n",
       "\\item[\\$Upper.CL] 0.180844025280668\n",
       "\\end{description}\n"
      ],
      "text/markdown": [
       "$Parameter\n",
       ":   'SolutionCaffeine'\n",
       "$Mod.avg.table\n",
       ":   \n",
       "A aictab: 5 × 9\n",
       "\n",
       "| Modnames &lt;chr&gt; | K &lt;dbl&gt; | AICc &lt;dbl&gt; | Delta_AICc &lt;dbl&gt; | ModelLik &lt;dbl&gt; | AICcWt &lt;dbl&gt; | LL &lt;dbl&gt; | Beta_est &lt;dbl&gt; | SE &lt;dbl&gt; |\n",
       "|---|---|---|---|---|---|---|---|---|\n",
       "| side_mod     |  8 | 501.8878 | 0.000000 | 1.00000000 | 0.64285367 | -242.7539 | 0.0000000 | 0.0000000 |\n",
       "| null_mod     |  7 | 504.4206 | 2.532764 | 0.28184958 | 0.18118804 | -245.0629 | 0.0000000 | 0.0000000 |\n",
       "| solution_mod |  8 | 506.1806 | 4.292781 | 0.11690539 | 0.07515306 | -244.9003 | 0.1574009 | 0.2757442 |\n",
       "| visit_mod    | 10 | 506.9406 | 5.052734 | 0.07994896 | 0.05139548 | -243.1785 | 0.0000000 | 0.0000000 |\n",
       "| tsm_mod      | 11 | 507.0194 | 5.131539 | 0.07686003 | 0.04940975 | -242.1586 | 0.0000000 | 0.0000000 |\n",
       "\n",
       "\n",
       "$Mod.avg.beta\n",
       ":   0.0118291579806755\n",
       "$Uncond.SE\n",
       ":   0.0862336597167906\n",
       "$Conf.level\n",
       ":   0.95\n",
       "$Lower.CL\n",
       ":   -0.157185709319317\n",
       "$Upper.CL\n",
       ":   0.180844025280668\n",
       "\n",
       "\n"
      ],
      "text/plain": [
       "\n",
       "Multimodel inference on \"SolutionCaffeine\" based on AICc\n",
       "\n",
       "AICc table used to obtain model-averaged estimate with shrinkage:\n",
       "\n",
       "              K   AICc Delta_AICc AICcWt Estimate   SE\n",
       "side_mod      8 501.89       0.00   0.64     0.00 0.00\n",
       "null_mod      7 504.42       2.53   0.18     0.00 0.00\n",
       "solution_mod  8 506.18       4.29   0.08     0.16 0.28\n",
       "visit_mod    10 506.94       5.05   0.05     0.00 0.00\n",
       "tsm_mod      11 507.02       5.13   0.05     0.00 0.00\n",
       "\n",
       "Model-averaged estimate with shrinkage: 0.01 \n",
       "Unconditional SE: 0.09 \n",
       "95% Unconditional confidence interval: -0.16, 0.18\n"
      ]
     },
     "metadata": {},
     "output_type": "display_data"
    },
    {
     "data": {
      "text/html": [
       "<dl>\n",
       "\t<dt>$Parameter</dt>\n",
       "\t\t<dd>'Visit3'</dd>\n",
       "\t<dt>$Mod.avg.table</dt>\n",
       "\t\t<dd><table class=\"dataframe\">\n",
       "<caption>A aictab: 5 × 9</caption>\n",
       "<thead>\n",
       "\t<tr><th scope=col>Modnames</th><th scope=col>K</th><th scope=col>AICc</th><th scope=col>Delta_AICc</th><th scope=col>ModelLik</th><th scope=col>AICcWt</th><th scope=col>LL</th><th scope=col>Beta_est</th><th scope=col>SE</th></tr>\n",
       "\t<tr><th scope=col>&lt;chr&gt;</th><th scope=col>&lt;dbl&gt;</th><th scope=col>&lt;dbl&gt;</th><th scope=col>&lt;dbl&gt;</th><th scope=col>&lt;dbl&gt;</th><th scope=col>&lt;dbl&gt;</th><th scope=col>&lt;dbl&gt;</th><th scope=col>&lt;dbl&gt;</th><th scope=col>&lt;dbl&gt;</th></tr>\n",
       "</thead>\n",
       "<tbody>\n",
       "\t<tr><td>side_mod    </td><td> 8</td><td>501.8878</td><td>0.000000</td><td>1.00000000</td><td>0.64285367</td><td>-242.7539</td><td> 0.0000000</td><td>0.0000000</td></tr>\n",
       "\t<tr><td>null_mod    </td><td> 7</td><td>504.4206</td><td>2.532764</td><td>0.28184958</td><td>0.18118804</td><td>-245.0629</td><td> 0.0000000</td><td>0.0000000</td></tr>\n",
       "\t<tr><td>solution_mod</td><td> 8</td><td>506.1806</td><td>4.292781</td><td>0.11690539</td><td>0.07515306</td><td>-244.9003</td><td> 0.0000000</td><td>0.0000000</td></tr>\n",
       "\t<tr><td>visit_mod   </td><td>10</td><td>506.9406</td><td>5.052734</td><td>0.07994896</td><td>0.05139548</td><td>-243.1785</td><td>-0.1584059</td><td>0.3237719</td></tr>\n",
       "\t<tr><td>tsm_mod     </td><td>11</td><td>507.0194</td><td>5.131539</td><td>0.07686003</td><td>0.04940975</td><td>-242.1586</td><td> 0.0000000</td><td>0.0000000</td></tr>\n",
       "</tbody>\n",
       "</table>\n",
       "</dd>\n",
       "\t<dt>$Mod.avg.beta</dt>\n",
       "\t\t<dd>-0.0081413460981261</dd>\n",
       "\t<dt>$Uncond.SE</dt>\n",
       "\t\t<dd>0.0813083825086014</dd>\n",
       "\t<dt>$Conf.level</dt>\n",
       "\t\t<dd>0.95</dd>\n",
       "\t<dt>$Lower.CL</dt>\n",
       "\t\t<dd>-0.167502847456191</dd>\n",
       "\t<dt>$Upper.CL</dt>\n",
       "\t\t<dd>0.151220155259939</dd>\n",
       "</dl>\n"
      ],
      "text/latex": [
       "\\begin{description}\n",
       "\\item[\\$Parameter] 'Visit3'\n",
       "\\item[\\$Mod.avg.table] A aictab: 5 × 9\n",
       "\\begin{tabular}{lllllllll}\n",
       " Modnames & K & AICc & Delta\\_AICc & ModelLik & AICcWt & LL & Beta\\_est & SE\\\\\n",
       " <chr> & <dbl> & <dbl> & <dbl> & <dbl> & <dbl> & <dbl> & <dbl> & <dbl>\\\\\n",
       "\\hline\n",
       "\t side\\_mod     &  8 & 501.8878 & 0.000000 & 1.00000000 & 0.64285367 & -242.7539 &  0.0000000 & 0.0000000\\\\\n",
       "\t null\\_mod     &  7 & 504.4206 & 2.532764 & 0.28184958 & 0.18118804 & -245.0629 &  0.0000000 & 0.0000000\\\\\n",
       "\t solution\\_mod &  8 & 506.1806 & 4.292781 & 0.11690539 & 0.07515306 & -244.9003 &  0.0000000 & 0.0000000\\\\\n",
       "\t visit\\_mod    & 10 & 506.9406 & 5.052734 & 0.07994896 & 0.05139548 & -243.1785 & -0.1584059 & 0.3237719\\\\\n",
       "\t tsm\\_mod      & 11 & 507.0194 & 5.131539 & 0.07686003 & 0.04940975 & -242.1586 &  0.0000000 & 0.0000000\\\\\n",
       "\\end{tabular}\n",
       "\n",
       "\\item[\\$Mod.avg.beta] -0.0081413460981261\n",
       "\\item[\\$Uncond.SE] 0.0813083825086014\n",
       "\\item[\\$Conf.level] 0.95\n",
       "\\item[\\$Lower.CL] -0.167502847456191\n",
       "\\item[\\$Upper.CL] 0.151220155259939\n",
       "\\end{description}\n"
      ],
      "text/markdown": [
       "$Parameter\n",
       ":   'Visit3'\n",
       "$Mod.avg.table\n",
       ":   \n",
       "A aictab: 5 × 9\n",
       "\n",
       "| Modnames &lt;chr&gt; | K &lt;dbl&gt; | AICc &lt;dbl&gt; | Delta_AICc &lt;dbl&gt; | ModelLik &lt;dbl&gt; | AICcWt &lt;dbl&gt; | LL &lt;dbl&gt; | Beta_est &lt;dbl&gt; | SE &lt;dbl&gt; |\n",
       "|---|---|---|---|---|---|---|---|---|\n",
       "| side_mod     |  8 | 501.8878 | 0.000000 | 1.00000000 | 0.64285367 | -242.7539 |  0.0000000 | 0.0000000 |\n",
       "| null_mod     |  7 | 504.4206 | 2.532764 | 0.28184958 | 0.18118804 | -245.0629 |  0.0000000 | 0.0000000 |\n",
       "| solution_mod |  8 | 506.1806 | 4.292781 | 0.11690539 | 0.07515306 | -244.9003 |  0.0000000 | 0.0000000 |\n",
       "| visit_mod    | 10 | 506.9406 | 5.052734 | 0.07994896 | 0.05139548 | -243.1785 | -0.1584059 | 0.3237719 |\n",
       "| tsm_mod      | 11 | 507.0194 | 5.131539 | 0.07686003 | 0.04940975 | -242.1586 |  0.0000000 | 0.0000000 |\n",
       "\n",
       "\n",
       "$Mod.avg.beta\n",
       ":   -0.0081413460981261\n",
       "$Uncond.SE\n",
       ":   0.0813083825086014\n",
       "$Conf.level\n",
       ":   0.95\n",
       "$Lower.CL\n",
       ":   -0.167502847456191\n",
       "$Upper.CL\n",
       ":   0.151220155259939\n",
       "\n",
       "\n"
      ],
      "text/plain": [
       "\n",
       "Multimodel inference on \"Visit3\" based on AICc\n",
       "\n",
       "AICc table used to obtain model-averaged estimate with shrinkage:\n",
       "\n",
       "              K   AICc Delta_AICc AICcWt Estimate   SE\n",
       "side_mod      8 501.89       0.00   0.64     0.00 0.00\n",
       "null_mod      7 504.42       2.53   0.18     0.00 0.00\n",
       "solution_mod  8 506.18       4.29   0.08     0.00 0.00\n",
       "visit_mod    10 506.94       5.05   0.05    -0.16 0.32\n",
       "tsm_mod      11 507.02       5.13   0.05     0.00 0.00\n",
       "\n",
       "Model-averaged estimate with shrinkage: -0.01 \n",
       "Unconditional SE: 0.08 \n",
       "95% Unconditional confidence interval: -0.17, 0.15\n"
      ]
     },
     "metadata": {},
     "output_type": "display_data"
    },
    {
     "data": {
      "text/html": [
       "<dl>\n",
       "\t<dt>$Parameter</dt>\n",
       "\t\t<dd>'Visit4'</dd>\n",
       "\t<dt>$Mod.avg.table</dt>\n",
       "\t\t<dd><table class=\"dataframe\">\n",
       "<caption>A aictab: 5 × 9</caption>\n",
       "<thead>\n",
       "\t<tr><th scope=col>Modnames</th><th scope=col>K</th><th scope=col>AICc</th><th scope=col>Delta_AICc</th><th scope=col>ModelLik</th><th scope=col>AICcWt</th><th scope=col>LL</th><th scope=col>Beta_est</th><th scope=col>SE</th></tr>\n",
       "\t<tr><th scope=col>&lt;chr&gt;</th><th scope=col>&lt;dbl&gt;</th><th scope=col>&lt;dbl&gt;</th><th scope=col>&lt;dbl&gt;</th><th scope=col>&lt;dbl&gt;</th><th scope=col>&lt;dbl&gt;</th><th scope=col>&lt;dbl&gt;</th><th scope=col>&lt;dbl&gt;</th><th scope=col>&lt;dbl&gt;</th></tr>\n",
       "</thead>\n",
       "<tbody>\n",
       "\t<tr><td>side_mod    </td><td> 8</td><td>501.8878</td><td>0.000000</td><td>1.00000000</td><td>0.64285367</td><td>-242.7539</td><td> 0.0000000</td><td>0.0000000</td></tr>\n",
       "\t<tr><td>null_mod    </td><td> 7</td><td>504.4206</td><td>2.532764</td><td>0.28184958</td><td>0.18118804</td><td>-245.0629</td><td> 0.0000000</td><td>0.0000000</td></tr>\n",
       "\t<tr><td>solution_mod</td><td> 8</td><td>506.1806</td><td>4.292781</td><td>0.11690539</td><td>0.07515306</td><td>-244.9003</td><td> 0.0000000</td><td>0.0000000</td></tr>\n",
       "\t<tr><td>visit_mod   </td><td>10</td><td>506.9406</td><td>5.052734</td><td>0.07994896</td><td>0.05139548</td><td>-243.1785</td><td>-0.5551231</td><td>0.3196563</td></tr>\n",
       "\t<tr><td>tsm_mod     </td><td>11</td><td>507.0194</td><td>5.131539</td><td>0.07686003</td><td>0.04940975</td><td>-242.1586</td><td> 0.0000000</td><td>0.0000000</td></tr>\n",
       "</tbody>\n",
       "</table>\n",
       "</dd>\n",
       "\t<dt>$Mod.avg.beta</dt>\n",
       "\t\t<dd>-0.0285308191986488</dd>\n",
       "\t<dt>$Uncond.SE</dt>\n",
       "\t\t<dd>0.142392792605332</dd>\n",
       "\t<dt>$Conf.level</dt>\n",
       "\t\t<dd>0.95</dd>\n",
       "\t<dt>$Lower.CL</dt>\n",
       "\t\t<dd>-0.30761556436318</dd>\n",
       "\t<dt>$Upper.CL</dt>\n",
       "\t\t<dd>0.250553925965882</dd>\n",
       "</dl>\n"
      ],
      "text/latex": [
       "\\begin{description}\n",
       "\\item[\\$Parameter] 'Visit4'\n",
       "\\item[\\$Mod.avg.table] A aictab: 5 × 9\n",
       "\\begin{tabular}{lllllllll}\n",
       " Modnames & K & AICc & Delta\\_AICc & ModelLik & AICcWt & LL & Beta\\_est & SE\\\\\n",
       " <chr> & <dbl> & <dbl> & <dbl> & <dbl> & <dbl> & <dbl> & <dbl> & <dbl>\\\\\n",
       "\\hline\n",
       "\t side\\_mod     &  8 & 501.8878 & 0.000000 & 1.00000000 & 0.64285367 & -242.7539 &  0.0000000 & 0.0000000\\\\\n",
       "\t null\\_mod     &  7 & 504.4206 & 2.532764 & 0.28184958 & 0.18118804 & -245.0629 &  0.0000000 & 0.0000000\\\\\n",
       "\t solution\\_mod &  8 & 506.1806 & 4.292781 & 0.11690539 & 0.07515306 & -244.9003 &  0.0000000 & 0.0000000\\\\\n",
       "\t visit\\_mod    & 10 & 506.9406 & 5.052734 & 0.07994896 & 0.05139548 & -243.1785 & -0.5551231 & 0.3196563\\\\\n",
       "\t tsm\\_mod      & 11 & 507.0194 & 5.131539 & 0.07686003 & 0.04940975 & -242.1586 &  0.0000000 & 0.0000000\\\\\n",
       "\\end{tabular}\n",
       "\n",
       "\\item[\\$Mod.avg.beta] -0.0285308191986488\n",
       "\\item[\\$Uncond.SE] 0.142392792605332\n",
       "\\item[\\$Conf.level] 0.95\n",
       "\\item[\\$Lower.CL] -0.30761556436318\n",
       "\\item[\\$Upper.CL] 0.250553925965882\n",
       "\\end{description}\n"
      ],
      "text/markdown": [
       "$Parameter\n",
       ":   'Visit4'\n",
       "$Mod.avg.table\n",
       ":   \n",
       "A aictab: 5 × 9\n",
       "\n",
       "| Modnames &lt;chr&gt; | K &lt;dbl&gt; | AICc &lt;dbl&gt; | Delta_AICc &lt;dbl&gt; | ModelLik &lt;dbl&gt; | AICcWt &lt;dbl&gt; | LL &lt;dbl&gt; | Beta_est &lt;dbl&gt; | SE &lt;dbl&gt; |\n",
       "|---|---|---|---|---|---|---|---|---|\n",
       "| side_mod     |  8 | 501.8878 | 0.000000 | 1.00000000 | 0.64285367 | -242.7539 |  0.0000000 | 0.0000000 |\n",
       "| null_mod     |  7 | 504.4206 | 2.532764 | 0.28184958 | 0.18118804 | -245.0629 |  0.0000000 | 0.0000000 |\n",
       "| solution_mod |  8 | 506.1806 | 4.292781 | 0.11690539 | 0.07515306 | -244.9003 |  0.0000000 | 0.0000000 |\n",
       "| visit_mod    | 10 | 506.9406 | 5.052734 | 0.07994896 | 0.05139548 | -243.1785 | -0.5551231 | 0.3196563 |\n",
       "| tsm_mod      | 11 | 507.0194 | 5.131539 | 0.07686003 | 0.04940975 | -242.1586 |  0.0000000 | 0.0000000 |\n",
       "\n",
       "\n",
       "$Mod.avg.beta\n",
       ":   -0.0285308191986488\n",
       "$Uncond.SE\n",
       ":   0.142392792605332\n",
       "$Conf.level\n",
       ":   0.95\n",
       "$Lower.CL\n",
       ":   -0.30761556436318\n",
       "$Upper.CL\n",
       ":   0.250553925965882\n",
       "\n",
       "\n"
      ],
      "text/plain": [
       "\n",
       "Multimodel inference on \"Visit4\" based on AICc\n",
       "\n",
       "AICc table used to obtain model-averaged estimate with shrinkage:\n",
       "\n",
       "              K   AICc Delta_AICc AICcWt Estimate   SE\n",
       "side_mod      8 501.89       0.00   0.64     0.00 0.00\n",
       "null_mod      7 504.42       2.53   0.18     0.00 0.00\n",
       "solution_mod  8 506.18       4.29   0.08     0.00 0.00\n",
       "visit_mod    10 506.94       5.05   0.05    -0.56 0.32\n",
       "tsm_mod      11 507.02       5.13   0.05     0.00 0.00\n",
       "\n",
       "Model-averaged estimate with shrinkage: -0.03 \n",
       "Unconditional SE: 0.14 \n",
       "95% Unconditional confidence interval: -0.31, 0.25\n"
      ]
     },
     "metadata": {},
     "output_type": "display_data"
    },
    {
     "data": {
      "text/html": [
       "<dl>\n",
       "\t<dt>$Parameter</dt>\n",
       "\t\t<dd>'Visit5'</dd>\n",
       "\t<dt>$Mod.avg.table</dt>\n",
       "\t\t<dd><table class=\"dataframe\">\n",
       "<caption>A aictab: 5 × 9</caption>\n",
       "<thead>\n",
       "\t<tr><th scope=col>Modnames</th><th scope=col>K</th><th scope=col>AICc</th><th scope=col>Delta_AICc</th><th scope=col>ModelLik</th><th scope=col>AICcWt</th><th scope=col>LL</th><th scope=col>Beta_est</th><th scope=col>SE</th></tr>\n",
       "\t<tr><th scope=col>&lt;chr&gt;</th><th scope=col>&lt;dbl&gt;</th><th scope=col>&lt;dbl&gt;</th><th scope=col>&lt;dbl&gt;</th><th scope=col>&lt;dbl&gt;</th><th scope=col>&lt;dbl&gt;</th><th scope=col>&lt;dbl&gt;</th><th scope=col>&lt;dbl&gt;</th><th scope=col>&lt;dbl&gt;</th></tr>\n",
       "</thead>\n",
       "<tbody>\n",
       "\t<tr><td>side_mod    </td><td> 8</td><td>501.8878</td><td>0.000000</td><td>1.00000000</td><td>0.64285367</td><td>-242.7539</td><td> 0.00000000</td><td>0.0000000</td></tr>\n",
       "\t<tr><td>null_mod    </td><td> 7</td><td>504.4206</td><td>2.532764</td><td>0.28184958</td><td>0.18118804</td><td>-245.0629</td><td> 0.00000000</td><td>0.0000000</td></tr>\n",
       "\t<tr><td>solution_mod</td><td> 8</td><td>506.1806</td><td>4.292781</td><td>0.11690539</td><td>0.07515306</td><td>-244.9003</td><td> 0.00000000</td><td>0.0000000</td></tr>\n",
       "\t<tr><td>visit_mod   </td><td>10</td><td>506.9406</td><td>5.052734</td><td>0.07994896</td><td>0.05139548</td><td>-243.1785</td><td>-0.05358952</td><td>0.3258917</td></tr>\n",
       "\t<tr><td>tsm_mod     </td><td>11</td><td>507.0194</td><td>5.131539</td><td>0.07686003</td><td>0.04940975</td><td>-242.1586</td><td> 0.00000000</td><td>0.0000000</td></tr>\n",
       "</tbody>\n",
       "</table>\n",
       "</dd>\n",
       "\t<dt>$Mod.avg.beta</dt>\n",
       "\t\t<dd>-0.0027542593176921</dd>\n",
       "\t<dt>$Uncond.SE</dt>\n",
       "\t\t<dd>0.0748230569479161</dd>\n",
       "\t<dt>$Conf.level</dt>\n",
       "\t\t<dd>0.95</dd>\n",
       "\t<dt>$Lower.CL</dt>\n",
       "\t\t<dd>-0.149404756148797</dd>\n",
       "\t<dt>$Upper.CL</dt>\n",
       "\t\t<dd>0.143896237513413</dd>\n",
       "</dl>\n"
      ],
      "text/latex": [
       "\\begin{description}\n",
       "\\item[\\$Parameter] 'Visit5'\n",
       "\\item[\\$Mod.avg.table] A aictab: 5 × 9\n",
       "\\begin{tabular}{lllllllll}\n",
       " Modnames & K & AICc & Delta\\_AICc & ModelLik & AICcWt & LL & Beta\\_est & SE\\\\\n",
       " <chr> & <dbl> & <dbl> & <dbl> & <dbl> & <dbl> & <dbl> & <dbl> & <dbl>\\\\\n",
       "\\hline\n",
       "\t side\\_mod     &  8 & 501.8878 & 0.000000 & 1.00000000 & 0.64285367 & -242.7539 &  0.00000000 & 0.0000000\\\\\n",
       "\t null\\_mod     &  7 & 504.4206 & 2.532764 & 0.28184958 & 0.18118804 & -245.0629 &  0.00000000 & 0.0000000\\\\\n",
       "\t solution\\_mod &  8 & 506.1806 & 4.292781 & 0.11690539 & 0.07515306 & -244.9003 &  0.00000000 & 0.0000000\\\\\n",
       "\t visit\\_mod    & 10 & 506.9406 & 5.052734 & 0.07994896 & 0.05139548 & -243.1785 & -0.05358952 & 0.3258917\\\\\n",
       "\t tsm\\_mod      & 11 & 507.0194 & 5.131539 & 0.07686003 & 0.04940975 & -242.1586 &  0.00000000 & 0.0000000\\\\\n",
       "\\end{tabular}\n",
       "\n",
       "\\item[\\$Mod.avg.beta] -0.0027542593176921\n",
       "\\item[\\$Uncond.SE] 0.0748230569479161\n",
       "\\item[\\$Conf.level] 0.95\n",
       "\\item[\\$Lower.CL] -0.149404756148797\n",
       "\\item[\\$Upper.CL] 0.143896237513413\n",
       "\\end{description}\n"
      ],
      "text/markdown": [
       "$Parameter\n",
       ":   'Visit5'\n",
       "$Mod.avg.table\n",
       ":   \n",
       "A aictab: 5 × 9\n",
       "\n",
       "| Modnames &lt;chr&gt; | K &lt;dbl&gt; | AICc &lt;dbl&gt; | Delta_AICc &lt;dbl&gt; | ModelLik &lt;dbl&gt; | AICcWt &lt;dbl&gt; | LL &lt;dbl&gt; | Beta_est &lt;dbl&gt; | SE &lt;dbl&gt; |\n",
       "|---|---|---|---|---|---|---|---|---|\n",
       "| side_mod     |  8 | 501.8878 | 0.000000 | 1.00000000 | 0.64285367 | -242.7539 |  0.00000000 | 0.0000000 |\n",
       "| null_mod     |  7 | 504.4206 | 2.532764 | 0.28184958 | 0.18118804 | -245.0629 |  0.00000000 | 0.0000000 |\n",
       "| solution_mod |  8 | 506.1806 | 4.292781 | 0.11690539 | 0.07515306 | -244.9003 |  0.00000000 | 0.0000000 |\n",
       "| visit_mod    | 10 | 506.9406 | 5.052734 | 0.07994896 | 0.05139548 | -243.1785 | -0.05358952 | 0.3258917 |\n",
       "| tsm_mod      | 11 | 507.0194 | 5.131539 | 0.07686003 | 0.04940975 | -242.1586 |  0.00000000 | 0.0000000 |\n",
       "\n",
       "\n",
       "$Mod.avg.beta\n",
       ":   -0.0027542593176921\n",
       "$Uncond.SE\n",
       ":   0.0748230569479161\n",
       "$Conf.level\n",
       ":   0.95\n",
       "$Lower.CL\n",
       ":   -0.149404756148797\n",
       "$Upper.CL\n",
       ":   0.143896237513413\n",
       "\n",
       "\n"
      ],
      "text/plain": [
       "\n",
       "Multimodel inference on \"Visit5\" based on AICc\n",
       "\n",
       "AICc table used to obtain model-averaged estimate with shrinkage:\n",
       "\n",
       "              K   AICc Delta_AICc AICcWt Estimate   SE\n",
       "side_mod      8 501.89       0.00   0.64     0.00 0.00\n",
       "null_mod      7 504.42       2.53   0.18     0.00 0.00\n",
       "solution_mod  8 506.18       4.29   0.08     0.00 0.00\n",
       "visit_mod    10 506.94       5.05   0.05    -0.05 0.33\n",
       "tsm_mod      11 507.02       5.13   0.05     0.00 0.00\n",
       "\n",
       "Model-averaged estimate with shrinkage: 0 \n",
       "Unconditional SE: 0.07 \n",
       "95% Unconditional confidence interval: -0.15, 0.14\n"
      ]
     },
     "metadata": {},
     "output_type": "display_data"
    },
    {
     "data": {
      "text/html": [
       "<dl>\n",
       "\t<dt>$Parameter</dt>\n",
       "\t\t<dd>'TSM_Bin31-60'</dd>\n",
       "\t<dt>$Mod.avg.table</dt>\n",
       "\t\t<dd><table class=\"dataframe\">\n",
       "<caption>A aictab: 5 × 9</caption>\n",
       "<thead>\n",
       "\t<tr><th scope=col>Modnames</th><th scope=col>K</th><th scope=col>AICc</th><th scope=col>Delta_AICc</th><th scope=col>ModelLik</th><th scope=col>AICcWt</th><th scope=col>LL</th><th scope=col>Beta_est</th><th scope=col>SE</th></tr>\n",
       "\t<tr><th scope=col>&lt;chr&gt;</th><th scope=col>&lt;dbl&gt;</th><th scope=col>&lt;dbl&gt;</th><th scope=col>&lt;dbl&gt;</th><th scope=col>&lt;dbl&gt;</th><th scope=col>&lt;dbl&gt;</th><th scope=col>&lt;dbl&gt;</th><th scope=col>&lt;dbl&gt;</th><th scope=col>&lt;dbl&gt;</th></tr>\n",
       "</thead>\n",
       "<tbody>\n",
       "\t<tr><td>side_mod    </td><td> 8</td><td>501.8878</td><td>0.000000</td><td>1.00000000</td><td>0.64285367</td><td>-242.7539</td><td> 0.00000000</td><td>0.0000000</td></tr>\n",
       "\t<tr><td>null_mod    </td><td> 7</td><td>504.4206</td><td>2.532764</td><td>0.28184958</td><td>0.18118804</td><td>-245.0629</td><td> 0.00000000</td><td>0.0000000</td></tr>\n",
       "\t<tr><td>solution_mod</td><td> 8</td><td>506.1806</td><td>4.292781</td><td>0.11690539</td><td>0.07515306</td><td>-244.9003</td><td> 0.00000000</td><td>0.0000000</td></tr>\n",
       "\t<tr><td>visit_mod   </td><td>10</td><td>506.9406</td><td>5.052734</td><td>0.07994896</td><td>0.05139548</td><td>-243.1785</td><td> 0.00000000</td><td>0.0000000</td></tr>\n",
       "\t<tr><td>tsm_mod     </td><td>11</td><td>507.0194</td><td>5.131539</td><td>0.07686003</td><td>0.04940975</td><td>-242.1586</td><td>-0.04023084</td><td>0.3742851</td></tr>\n",
       "</tbody>\n",
       "</table>\n",
       "</dd>\n",
       "\t<dt>$Mod.avg.beta</dt>\n",
       "\t\t<dd>-0.00198779572914598</dd>\n",
       "\t<dt>$Uncond.SE</dt>\n",
       "\t\t<dd>0.0836528456132063</dd>\n",
       "\t<dt>$Conf.level</dt>\n",
       "\t\t<dd>0.95</dd>\n",
       "\t<dt>$Lower.CL</dt>\n",
       "\t\t<dd>-0.16594436033532</dd>\n",
       "\t<dt>$Upper.CL</dt>\n",
       "\t\t<dd>0.161968768877028</dd>\n",
       "</dl>\n"
      ],
      "text/latex": [
       "\\begin{description}\n",
       "\\item[\\$Parameter] 'TSM\\_Bin31-60'\n",
       "\\item[\\$Mod.avg.table] A aictab: 5 × 9\n",
       "\\begin{tabular}{lllllllll}\n",
       " Modnames & K & AICc & Delta\\_AICc & ModelLik & AICcWt & LL & Beta\\_est & SE\\\\\n",
       " <chr> & <dbl> & <dbl> & <dbl> & <dbl> & <dbl> & <dbl> & <dbl> & <dbl>\\\\\n",
       "\\hline\n",
       "\t side\\_mod     &  8 & 501.8878 & 0.000000 & 1.00000000 & 0.64285367 & -242.7539 &  0.00000000 & 0.0000000\\\\\n",
       "\t null\\_mod     &  7 & 504.4206 & 2.532764 & 0.28184958 & 0.18118804 & -245.0629 &  0.00000000 & 0.0000000\\\\\n",
       "\t solution\\_mod &  8 & 506.1806 & 4.292781 & 0.11690539 & 0.07515306 & -244.9003 &  0.00000000 & 0.0000000\\\\\n",
       "\t visit\\_mod    & 10 & 506.9406 & 5.052734 & 0.07994896 & 0.05139548 & -243.1785 &  0.00000000 & 0.0000000\\\\\n",
       "\t tsm\\_mod      & 11 & 507.0194 & 5.131539 & 0.07686003 & 0.04940975 & -242.1586 & -0.04023084 & 0.3742851\\\\\n",
       "\\end{tabular}\n",
       "\n",
       "\\item[\\$Mod.avg.beta] -0.00198779572914598\n",
       "\\item[\\$Uncond.SE] 0.0836528456132063\n",
       "\\item[\\$Conf.level] 0.95\n",
       "\\item[\\$Lower.CL] -0.16594436033532\n",
       "\\item[\\$Upper.CL] 0.161968768877028\n",
       "\\end{description}\n"
      ],
      "text/markdown": [
       "$Parameter\n",
       ":   'TSM_Bin31-60'\n",
       "$Mod.avg.table\n",
       ":   \n",
       "A aictab: 5 × 9\n",
       "\n",
       "| Modnames &lt;chr&gt; | K &lt;dbl&gt; | AICc &lt;dbl&gt; | Delta_AICc &lt;dbl&gt; | ModelLik &lt;dbl&gt; | AICcWt &lt;dbl&gt; | LL &lt;dbl&gt; | Beta_est &lt;dbl&gt; | SE &lt;dbl&gt; |\n",
       "|---|---|---|---|---|---|---|---|---|\n",
       "| side_mod     |  8 | 501.8878 | 0.000000 | 1.00000000 | 0.64285367 | -242.7539 |  0.00000000 | 0.0000000 |\n",
       "| null_mod     |  7 | 504.4206 | 2.532764 | 0.28184958 | 0.18118804 | -245.0629 |  0.00000000 | 0.0000000 |\n",
       "| solution_mod |  8 | 506.1806 | 4.292781 | 0.11690539 | 0.07515306 | -244.9003 |  0.00000000 | 0.0000000 |\n",
       "| visit_mod    | 10 | 506.9406 | 5.052734 | 0.07994896 | 0.05139548 | -243.1785 |  0.00000000 | 0.0000000 |\n",
       "| tsm_mod      | 11 | 507.0194 | 5.131539 | 0.07686003 | 0.04940975 | -242.1586 | -0.04023084 | 0.3742851 |\n",
       "\n",
       "\n",
       "$Mod.avg.beta\n",
       ":   -0.00198779572914598\n",
       "$Uncond.SE\n",
       ":   0.0836528456132063\n",
       "$Conf.level\n",
       ":   0.95\n",
       "$Lower.CL\n",
       ":   -0.16594436033532\n",
       "$Upper.CL\n",
       ":   0.161968768877028\n",
       "\n",
       "\n"
      ],
      "text/plain": [
       "\n",
       "Multimodel inference on \"TSM_Bin31-60\" based on AICc\n",
       "\n",
       "AICc table used to obtain model-averaged estimate with shrinkage:\n",
       "\n",
       "              K   AICc Delta_AICc AICcWt Estimate   SE\n",
       "side_mod      8 501.89       0.00   0.64     0.00 0.00\n",
       "null_mod      7 504.42       2.53   0.18     0.00 0.00\n",
       "solution_mod  8 506.18       4.29   0.08     0.00 0.00\n",
       "visit_mod    10 506.94       5.05   0.05     0.00 0.00\n",
       "tsm_mod      11 507.02       5.13   0.05    -0.04 0.37\n",
       "\n",
       "Model-averaged estimate with shrinkage: 0 \n",
       "Unconditional SE: 0.08 \n",
       "95% Unconditional confidence interval: -0.17, 0.16\n"
      ]
     },
     "metadata": {},
     "output_type": "display_data"
    },
    {
     "data": {
      "text/html": [
       "<dl>\n",
       "\t<dt>$Parameter</dt>\n",
       "\t\t<dd>'TSM_Bin61-90'</dd>\n",
       "\t<dt>$Mod.avg.table</dt>\n",
       "\t\t<dd><table class=\"dataframe\">\n",
       "<caption>A aictab: 5 × 9</caption>\n",
       "<thead>\n",
       "\t<tr><th scope=col>Modnames</th><th scope=col>K</th><th scope=col>AICc</th><th scope=col>Delta_AICc</th><th scope=col>ModelLik</th><th scope=col>AICcWt</th><th scope=col>LL</th><th scope=col>Beta_est</th><th scope=col>SE</th></tr>\n",
       "\t<tr><th scope=col>&lt;chr&gt;</th><th scope=col>&lt;dbl&gt;</th><th scope=col>&lt;dbl&gt;</th><th scope=col>&lt;dbl&gt;</th><th scope=col>&lt;dbl&gt;</th><th scope=col>&lt;dbl&gt;</th><th scope=col>&lt;dbl&gt;</th><th scope=col>&lt;dbl&gt;</th><th scope=col>&lt;dbl&gt;</th></tr>\n",
       "</thead>\n",
       "<tbody>\n",
       "\t<tr><td>side_mod    </td><td> 8</td><td>501.8878</td><td>0.000000</td><td>1.00000000</td><td>0.64285367</td><td>-242.7539</td><td>0.0000000</td><td>0.0000000</td></tr>\n",
       "\t<tr><td>null_mod    </td><td> 7</td><td>504.4206</td><td>2.532764</td><td>0.28184958</td><td>0.18118804</td><td>-245.0629</td><td>0.0000000</td><td>0.0000000</td></tr>\n",
       "\t<tr><td>solution_mod</td><td> 8</td><td>506.1806</td><td>4.292781</td><td>0.11690539</td><td>0.07515306</td><td>-244.9003</td><td>0.0000000</td><td>0.0000000</td></tr>\n",
       "\t<tr><td>visit_mod   </td><td>10</td><td>506.9406</td><td>5.052734</td><td>0.07994896</td><td>0.05139548</td><td>-243.1785</td><td>0.0000000</td><td>0.0000000</td></tr>\n",
       "\t<tr><td>tsm_mod     </td><td>11</td><td>507.0194</td><td>5.131539</td><td>0.07686003</td><td>0.04940975</td><td>-242.1586</td><td>0.8361697</td><td>0.4204121</td></tr>\n",
       "</tbody>\n",
       "</table>\n",
       "</dd>\n",
       "\t<dt>$Mod.avg.beta</dt>\n",
       "\t\t<dd>0.0413149410064685</dd>\n",
       "\t<dt>$Uncond.SE</dt>\n",
       "\t\t<dd>0.203893041945149</dd>\n",
       "\t<dt>$Conf.level</dt>\n",
       "\t\t<dd>0.95</dd>\n",
       "\t<dt>$Lower.CL</dt>\n",
       "\t\t<dd>-0.358308077904338</dd>\n",
       "\t<dt>$Upper.CL</dt>\n",
       "\t\t<dd>0.440937959917275</dd>\n",
       "</dl>\n"
      ],
      "text/latex": [
       "\\begin{description}\n",
       "\\item[\\$Parameter] 'TSM\\_Bin61-90'\n",
       "\\item[\\$Mod.avg.table] A aictab: 5 × 9\n",
       "\\begin{tabular}{lllllllll}\n",
       " Modnames & K & AICc & Delta\\_AICc & ModelLik & AICcWt & LL & Beta\\_est & SE\\\\\n",
       " <chr> & <dbl> & <dbl> & <dbl> & <dbl> & <dbl> & <dbl> & <dbl> & <dbl>\\\\\n",
       "\\hline\n",
       "\t side\\_mod     &  8 & 501.8878 & 0.000000 & 1.00000000 & 0.64285367 & -242.7539 & 0.0000000 & 0.0000000\\\\\n",
       "\t null\\_mod     &  7 & 504.4206 & 2.532764 & 0.28184958 & 0.18118804 & -245.0629 & 0.0000000 & 0.0000000\\\\\n",
       "\t solution\\_mod &  8 & 506.1806 & 4.292781 & 0.11690539 & 0.07515306 & -244.9003 & 0.0000000 & 0.0000000\\\\\n",
       "\t visit\\_mod    & 10 & 506.9406 & 5.052734 & 0.07994896 & 0.05139548 & -243.1785 & 0.0000000 & 0.0000000\\\\\n",
       "\t tsm\\_mod      & 11 & 507.0194 & 5.131539 & 0.07686003 & 0.04940975 & -242.1586 & 0.8361697 & 0.4204121\\\\\n",
       "\\end{tabular}\n",
       "\n",
       "\\item[\\$Mod.avg.beta] 0.0413149410064685\n",
       "\\item[\\$Uncond.SE] 0.203893041945149\n",
       "\\item[\\$Conf.level] 0.95\n",
       "\\item[\\$Lower.CL] -0.358308077904338\n",
       "\\item[\\$Upper.CL] 0.440937959917275\n",
       "\\end{description}\n"
      ],
      "text/markdown": [
       "$Parameter\n",
       ":   'TSM_Bin61-90'\n",
       "$Mod.avg.table\n",
       ":   \n",
       "A aictab: 5 × 9\n",
       "\n",
       "| Modnames &lt;chr&gt; | K &lt;dbl&gt; | AICc &lt;dbl&gt; | Delta_AICc &lt;dbl&gt; | ModelLik &lt;dbl&gt; | AICcWt &lt;dbl&gt; | LL &lt;dbl&gt; | Beta_est &lt;dbl&gt; | SE &lt;dbl&gt; |\n",
       "|---|---|---|---|---|---|---|---|---|\n",
       "| side_mod     |  8 | 501.8878 | 0.000000 | 1.00000000 | 0.64285367 | -242.7539 | 0.0000000 | 0.0000000 |\n",
       "| null_mod     |  7 | 504.4206 | 2.532764 | 0.28184958 | 0.18118804 | -245.0629 | 0.0000000 | 0.0000000 |\n",
       "| solution_mod |  8 | 506.1806 | 4.292781 | 0.11690539 | 0.07515306 | -244.9003 | 0.0000000 | 0.0000000 |\n",
       "| visit_mod    | 10 | 506.9406 | 5.052734 | 0.07994896 | 0.05139548 | -243.1785 | 0.0000000 | 0.0000000 |\n",
       "| tsm_mod      | 11 | 507.0194 | 5.131539 | 0.07686003 | 0.04940975 | -242.1586 | 0.8361697 | 0.4204121 |\n",
       "\n",
       "\n",
       "$Mod.avg.beta\n",
       ":   0.0413149410064685\n",
       "$Uncond.SE\n",
       ":   0.203893041945149\n",
       "$Conf.level\n",
       ":   0.95\n",
       "$Lower.CL\n",
       ":   -0.358308077904338\n",
       "$Upper.CL\n",
       ":   0.440937959917275\n",
       "\n",
       "\n"
      ],
      "text/plain": [
       "\n",
       "Multimodel inference on \"TSM_Bin61-90\" based on AICc\n",
       "\n",
       "AICc table used to obtain model-averaged estimate with shrinkage:\n",
       "\n",
       "              K   AICc Delta_AICc AICcWt Estimate   SE\n",
       "side_mod      8 501.89       0.00   0.64     0.00 0.00\n",
       "null_mod      7 504.42       2.53   0.18     0.00 0.00\n",
       "solution_mod  8 506.18       4.29   0.08     0.00 0.00\n",
       "visit_mod    10 506.94       5.05   0.05     0.00 0.00\n",
       "tsm_mod      11 507.02       5.13   0.05     0.84 0.42\n",
       "\n",
       "Model-averaged estimate with shrinkage: 0.04 \n",
       "Unconditional SE: 0.2 \n",
       "95% Unconditional confidence interval: -0.36, 0.44\n"
      ]
     },
     "metadata": {},
     "output_type": "display_data"
    },
    {
     "data": {
      "text/html": [
       "<dl>\n",
       "\t<dt>$Parameter</dt>\n",
       "\t\t<dd>'TSM_Bin91-120'</dd>\n",
       "\t<dt>$Mod.avg.table</dt>\n",
       "\t\t<dd><table class=\"dataframe\">\n",
       "<caption>A aictab: 5 × 9</caption>\n",
       "<thead>\n",
       "\t<tr><th scope=col>Modnames</th><th scope=col>K</th><th scope=col>AICc</th><th scope=col>Delta_AICc</th><th scope=col>ModelLik</th><th scope=col>AICcWt</th><th scope=col>LL</th><th scope=col>Beta_est</th><th scope=col>SE</th></tr>\n",
       "\t<tr><th scope=col>&lt;chr&gt;</th><th scope=col>&lt;dbl&gt;</th><th scope=col>&lt;dbl&gt;</th><th scope=col>&lt;dbl&gt;</th><th scope=col>&lt;dbl&gt;</th><th scope=col>&lt;dbl&gt;</th><th scope=col>&lt;dbl&gt;</th><th scope=col>&lt;dbl&gt;</th><th scope=col>&lt;dbl&gt;</th></tr>\n",
       "</thead>\n",
       "<tbody>\n",
       "\t<tr><td>side_mod    </td><td> 8</td><td>501.8878</td><td>0.000000</td><td>1.00000000</td><td>0.64285367</td><td>-242.7539</td><td>0.000000</td><td>0.0000000</td></tr>\n",
       "\t<tr><td>null_mod    </td><td> 7</td><td>504.4206</td><td>2.532764</td><td>0.28184958</td><td>0.18118804</td><td>-245.0629</td><td>0.000000</td><td>0.0000000</td></tr>\n",
       "\t<tr><td>solution_mod</td><td> 8</td><td>506.1806</td><td>4.292781</td><td>0.11690539</td><td>0.07515306</td><td>-244.9003</td><td>0.000000</td><td>0.0000000</td></tr>\n",
       "\t<tr><td>visit_mod   </td><td>10</td><td>506.9406</td><td>5.052734</td><td>0.07994896</td><td>0.05139548</td><td>-243.1785</td><td>0.000000</td><td>0.0000000</td></tr>\n",
       "\t<tr><td>tsm_mod     </td><td>11</td><td>507.0194</td><td>5.131539</td><td>0.07686003</td><td>0.04940975</td><td>-242.1586</td><td>0.446929</td><td>0.3817399</td></tr>\n",
       "</tbody>\n",
       "</table>\n",
       "</dd>\n",
       "\t<dt>$Mod.avg.beta</dt>\n",
       "\t\t<dd>0.0220826515231288</dd>\n",
       "\t<dt>$Uncond.SE</dt>\n",
       "\t\t<dd>0.128771067818557</dd>\n",
       "\t<dt>$Conf.level</dt>\n",
       "\t\t<dd>0.95</dd>\n",
       "\t<dt>$Lower.CL</dt>\n",
       "\t\t<dd>-0.230304003652009</dd>\n",
       "\t<dt>$Upper.CL</dt>\n",
       "\t\t<dd>0.274469306698266</dd>\n",
       "</dl>\n"
      ],
      "text/latex": [
       "\\begin{description}\n",
       "\\item[\\$Parameter] 'TSM\\_Bin91-120'\n",
       "\\item[\\$Mod.avg.table] A aictab: 5 × 9\n",
       "\\begin{tabular}{lllllllll}\n",
       " Modnames & K & AICc & Delta\\_AICc & ModelLik & AICcWt & LL & Beta\\_est & SE\\\\\n",
       " <chr> & <dbl> & <dbl> & <dbl> & <dbl> & <dbl> & <dbl> & <dbl> & <dbl>\\\\\n",
       "\\hline\n",
       "\t side\\_mod     &  8 & 501.8878 & 0.000000 & 1.00000000 & 0.64285367 & -242.7539 & 0.000000 & 0.0000000\\\\\n",
       "\t null\\_mod     &  7 & 504.4206 & 2.532764 & 0.28184958 & 0.18118804 & -245.0629 & 0.000000 & 0.0000000\\\\\n",
       "\t solution\\_mod &  8 & 506.1806 & 4.292781 & 0.11690539 & 0.07515306 & -244.9003 & 0.000000 & 0.0000000\\\\\n",
       "\t visit\\_mod    & 10 & 506.9406 & 5.052734 & 0.07994896 & 0.05139548 & -243.1785 & 0.000000 & 0.0000000\\\\\n",
       "\t tsm\\_mod      & 11 & 507.0194 & 5.131539 & 0.07686003 & 0.04940975 & -242.1586 & 0.446929 & 0.3817399\\\\\n",
       "\\end{tabular}\n",
       "\n",
       "\\item[\\$Mod.avg.beta] 0.0220826515231288\n",
       "\\item[\\$Uncond.SE] 0.128771067818557\n",
       "\\item[\\$Conf.level] 0.95\n",
       "\\item[\\$Lower.CL] -0.230304003652009\n",
       "\\item[\\$Upper.CL] 0.274469306698266\n",
       "\\end{description}\n"
      ],
      "text/markdown": [
       "$Parameter\n",
       ":   'TSM_Bin91-120'\n",
       "$Mod.avg.table\n",
       ":   \n",
       "A aictab: 5 × 9\n",
       "\n",
       "| Modnames &lt;chr&gt; | K &lt;dbl&gt; | AICc &lt;dbl&gt; | Delta_AICc &lt;dbl&gt; | ModelLik &lt;dbl&gt; | AICcWt &lt;dbl&gt; | LL &lt;dbl&gt; | Beta_est &lt;dbl&gt; | SE &lt;dbl&gt; |\n",
       "|---|---|---|---|---|---|---|---|---|\n",
       "| side_mod     |  8 | 501.8878 | 0.000000 | 1.00000000 | 0.64285367 | -242.7539 | 0.000000 | 0.0000000 |\n",
       "| null_mod     |  7 | 504.4206 | 2.532764 | 0.28184958 | 0.18118804 | -245.0629 | 0.000000 | 0.0000000 |\n",
       "| solution_mod |  8 | 506.1806 | 4.292781 | 0.11690539 | 0.07515306 | -244.9003 | 0.000000 | 0.0000000 |\n",
       "| visit_mod    | 10 | 506.9406 | 5.052734 | 0.07994896 | 0.05139548 | -243.1785 | 0.000000 | 0.0000000 |\n",
       "| tsm_mod      | 11 | 507.0194 | 5.131539 | 0.07686003 | 0.04940975 | -242.1586 | 0.446929 | 0.3817399 |\n",
       "\n",
       "\n",
       "$Mod.avg.beta\n",
       ":   0.0220826515231288\n",
       "$Uncond.SE\n",
       ":   0.128771067818557\n",
       "$Conf.level\n",
       ":   0.95\n",
       "$Lower.CL\n",
       ":   -0.230304003652009\n",
       "$Upper.CL\n",
       ":   0.274469306698266\n",
       "\n",
       "\n"
      ],
      "text/plain": [
       "\n",
       "Multimodel inference on \"TSM_Bin91-120\" based on AICc\n",
       "\n",
       "AICc table used to obtain model-averaged estimate with shrinkage:\n",
       "\n",
       "              K   AICc Delta_AICc AICcWt Estimate   SE\n",
       "side_mod      8 501.89       0.00   0.64     0.00 0.00\n",
       "null_mod      7 504.42       2.53   0.18     0.00 0.00\n",
       "solution_mod  8 506.18       4.29   0.08     0.00 0.00\n",
       "visit_mod    10 506.94       5.05   0.05     0.00 0.00\n",
       "tsm_mod      11 507.02       5.13   0.05     0.45 0.38\n",
       "\n",
       "Model-averaged estimate with shrinkage: 0.02 \n",
       "Unconditional SE: 0.13 \n",
       "95% Unconditional confidence interval: -0.23, 0.27\n"
      ]
     },
     "metadata": {},
     "output_type": "display_data"
    },
    {
     "data": {
      "text/html": [
       "<dl>\n",
       "\t<dt>$Parameter</dt>\n",
       "\t\t<dd>'TSM_Bin121+'</dd>\n",
       "\t<dt>$Mod.avg.table</dt>\n",
       "\t\t<dd><table class=\"dataframe\">\n",
       "<caption>A aictab: 5 × 9</caption>\n",
       "<thead>\n",
       "\t<tr><th scope=col>Modnames</th><th scope=col>K</th><th scope=col>AICc</th><th scope=col>Delta_AICc</th><th scope=col>ModelLik</th><th scope=col>AICcWt</th><th scope=col>LL</th><th scope=col>Beta_est</th><th scope=col>SE</th></tr>\n",
       "\t<tr><th scope=col>&lt;chr&gt;</th><th scope=col>&lt;dbl&gt;</th><th scope=col>&lt;dbl&gt;</th><th scope=col>&lt;dbl&gt;</th><th scope=col>&lt;dbl&gt;</th><th scope=col>&lt;dbl&gt;</th><th scope=col>&lt;dbl&gt;</th><th scope=col>&lt;dbl&gt;</th><th scope=col>&lt;dbl&gt;</th></tr>\n",
       "</thead>\n",
       "<tbody>\n",
       "\t<tr><td>side_mod    </td><td> 8</td><td>501.8878</td><td>0.000000</td><td>1.00000000</td><td>0.64285367</td><td>-242.7539</td><td>0.0000000</td><td>0.0000000</td></tr>\n",
       "\t<tr><td>null_mod    </td><td> 7</td><td>504.4206</td><td>2.532764</td><td>0.28184958</td><td>0.18118804</td><td>-245.0629</td><td>0.0000000</td><td>0.0000000</td></tr>\n",
       "\t<tr><td>solution_mod</td><td> 8</td><td>506.1806</td><td>4.292781</td><td>0.11690539</td><td>0.07515306</td><td>-244.9003</td><td>0.0000000</td><td>0.0000000</td></tr>\n",
       "\t<tr><td>visit_mod   </td><td>10</td><td>506.9406</td><td>5.052734</td><td>0.07994896</td><td>0.05139548</td><td>-243.1785</td><td>0.0000000</td><td>0.0000000</td></tr>\n",
       "\t<tr><td>tsm_mod     </td><td>11</td><td>507.0194</td><td>5.131539</td><td>0.07686003</td><td>0.04940975</td><td>-242.1586</td><td>0.4436825</td><td>0.3849684</td></tr>\n",
       "</tbody>\n",
       "</table>\n",
       "</dd>\n",
       "\t<dt>$Mod.avg.beta</dt>\n",
       "\t\t<dd>0.0219222436480655</dd>\n",
       "\t<dt>$Uncond.SE</dt>\n",
       "\t\t<dd>0.128718653020161</dd>\n",
       "\t<dt>$Conf.level</dt>\n",
       "\t\t<dd>0.95</dd>\n",
       "\t<dt>$Lower.CL</dt>\n",
       "\t\t<dd>-0.230361680409958</dd>\n",
       "\t<dt>$Upper.CL</dt>\n",
       "\t\t<dd>0.274206167706089</dd>\n",
       "</dl>\n"
      ],
      "text/latex": [
       "\\begin{description}\n",
       "\\item[\\$Parameter] 'TSM\\_Bin121+'\n",
       "\\item[\\$Mod.avg.table] A aictab: 5 × 9\n",
       "\\begin{tabular}{lllllllll}\n",
       " Modnames & K & AICc & Delta\\_AICc & ModelLik & AICcWt & LL & Beta\\_est & SE\\\\\n",
       " <chr> & <dbl> & <dbl> & <dbl> & <dbl> & <dbl> & <dbl> & <dbl> & <dbl>\\\\\n",
       "\\hline\n",
       "\t side\\_mod     &  8 & 501.8878 & 0.000000 & 1.00000000 & 0.64285367 & -242.7539 & 0.0000000 & 0.0000000\\\\\n",
       "\t null\\_mod     &  7 & 504.4206 & 2.532764 & 0.28184958 & 0.18118804 & -245.0629 & 0.0000000 & 0.0000000\\\\\n",
       "\t solution\\_mod &  8 & 506.1806 & 4.292781 & 0.11690539 & 0.07515306 & -244.9003 & 0.0000000 & 0.0000000\\\\\n",
       "\t visit\\_mod    & 10 & 506.9406 & 5.052734 & 0.07994896 & 0.05139548 & -243.1785 & 0.0000000 & 0.0000000\\\\\n",
       "\t tsm\\_mod      & 11 & 507.0194 & 5.131539 & 0.07686003 & 0.04940975 & -242.1586 & 0.4436825 & 0.3849684\\\\\n",
       "\\end{tabular}\n",
       "\n",
       "\\item[\\$Mod.avg.beta] 0.0219222436480655\n",
       "\\item[\\$Uncond.SE] 0.128718653020161\n",
       "\\item[\\$Conf.level] 0.95\n",
       "\\item[\\$Lower.CL] -0.230361680409958\n",
       "\\item[\\$Upper.CL] 0.274206167706089\n",
       "\\end{description}\n"
      ],
      "text/markdown": [
       "$Parameter\n",
       ":   'TSM_Bin121+'\n",
       "$Mod.avg.table\n",
       ":   \n",
       "A aictab: 5 × 9\n",
       "\n",
       "| Modnames &lt;chr&gt; | K &lt;dbl&gt; | AICc &lt;dbl&gt; | Delta_AICc &lt;dbl&gt; | ModelLik &lt;dbl&gt; | AICcWt &lt;dbl&gt; | LL &lt;dbl&gt; | Beta_est &lt;dbl&gt; | SE &lt;dbl&gt; |\n",
       "|---|---|---|---|---|---|---|---|---|\n",
       "| side_mod     |  8 | 501.8878 | 0.000000 | 1.00000000 | 0.64285367 | -242.7539 | 0.0000000 | 0.0000000 |\n",
       "| null_mod     |  7 | 504.4206 | 2.532764 | 0.28184958 | 0.18118804 | -245.0629 | 0.0000000 | 0.0000000 |\n",
       "| solution_mod |  8 | 506.1806 | 4.292781 | 0.11690539 | 0.07515306 | -244.9003 | 0.0000000 | 0.0000000 |\n",
       "| visit_mod    | 10 | 506.9406 | 5.052734 | 0.07994896 | 0.05139548 | -243.1785 | 0.0000000 | 0.0000000 |\n",
       "| tsm_mod      | 11 | 507.0194 | 5.131539 | 0.07686003 | 0.04940975 | -242.1586 | 0.4436825 | 0.3849684 |\n",
       "\n",
       "\n",
       "$Mod.avg.beta\n",
       ":   0.0219222436480655\n",
       "$Uncond.SE\n",
       ":   0.128718653020161\n",
       "$Conf.level\n",
       ":   0.95\n",
       "$Lower.CL\n",
       ":   -0.230361680409958\n",
       "$Upper.CL\n",
       ":   0.274206167706089\n",
       "\n",
       "\n"
      ],
      "text/plain": [
       "\n",
       "Multimodel inference on \"TSM_Bin121+\" based on AICc\n",
       "\n",
       "AICc table used to obtain model-averaged estimate with shrinkage:\n",
       "\n",
       "              K   AICc Delta_AICc AICcWt Estimate   SE\n",
       "side_mod      8 501.89       0.00   0.64     0.00 0.00\n",
       "null_mod      7 504.42       2.53   0.18     0.00 0.00\n",
       "solution_mod  8 506.18       4.29   0.08     0.00 0.00\n",
       "visit_mod    10 506.94       5.05   0.05     0.00 0.00\n",
       "tsm_mod      11 507.02       5.13   0.05     0.44 0.38\n",
       "\n",
       "Model-averaged estimate with shrinkage: 0.02 \n",
       "Unconditional SE: 0.13 \n",
       "95% Unconditional confidence interval: -0.23, 0.27\n"
      ]
     },
     "metadata": {},
     "output_type": "display_data"
    },
    {
     "data": {
      "text/html": [
       "<dl>\n",
       "\t<dt>$Parameter</dt>\n",
       "\t\t<dd>'Reward_SideR'</dd>\n",
       "\t<dt>$Mod.avg.table</dt>\n",
       "\t\t<dd><table class=\"dataframe\">\n",
       "<caption>A aictab: 5 × 9</caption>\n",
       "<thead>\n",
       "\t<tr><th scope=col>Modnames</th><th scope=col>K</th><th scope=col>AICc</th><th scope=col>Delta_AICc</th><th scope=col>ModelLik</th><th scope=col>AICcWt</th><th scope=col>LL</th><th scope=col>Beta_est</th><th scope=col>SE</th></tr>\n",
       "\t<tr><th scope=col>&lt;chr&gt;</th><th scope=col>&lt;dbl&gt;</th><th scope=col>&lt;dbl&gt;</th><th scope=col>&lt;dbl&gt;</th><th scope=col>&lt;dbl&gt;</th><th scope=col>&lt;dbl&gt;</th><th scope=col>&lt;dbl&gt;</th><th scope=col>&lt;dbl&gt;</th><th scope=col>&lt;dbl&gt;</th></tr>\n",
       "</thead>\n",
       "<tbody>\n",
       "\t<tr><td>side_mod    </td><td> 8</td><td>501.8878</td><td>0.000000</td><td>1.00000000</td><td>0.64285367</td><td>-242.7539</td><td>-0.5910197</td><td>0.2743583</td></tr>\n",
       "\t<tr><td>null_mod    </td><td> 7</td><td>504.4206</td><td>2.532764</td><td>0.28184958</td><td>0.18118804</td><td>-245.0629</td><td> 0.0000000</td><td>0.0000000</td></tr>\n",
       "\t<tr><td>solution_mod</td><td> 8</td><td>506.1806</td><td>4.292781</td><td>0.11690539</td><td>0.07515306</td><td>-244.9003</td><td> 0.0000000</td><td>0.0000000</td></tr>\n",
       "\t<tr><td>visit_mod   </td><td>10</td><td>506.9406</td><td>5.052734</td><td>0.07994896</td><td>0.05139548</td><td>-243.1785</td><td> 0.0000000</td><td>0.0000000</td></tr>\n",
       "\t<tr><td>tsm_mod     </td><td>11</td><td>507.0194</td><td>5.131539</td><td>0.07686003</td><td>0.04940975</td><td>-242.1586</td><td> 0.0000000</td><td>0.0000000</td></tr>\n",
       "</tbody>\n",
       "</table>\n",
       "</dd>\n",
       "\t<dt>$Mod.avg.beta</dt>\n",
       "\t\t<dd>-0.379939202558619</dd>\n",
       "\t<dt>$Uncond.SE</dt>\n",
       "\t\t<dd>0.358590227087892</dd>\n",
       "\t<dt>$Conf.level</dt>\n",
       "\t\t<dd>0.95</dd>\n",
       "\t<dt>$Lower.CL</dt>\n",
       "\t\t<dd>-1.08276313285893</dd>\n",
       "\t<dt>$Upper.CL</dt>\n",
       "\t\t<dd>0.322884727741688</dd>\n",
       "</dl>\n"
      ],
      "text/latex": [
       "\\begin{description}\n",
       "\\item[\\$Parameter] 'Reward\\_SideR'\n",
       "\\item[\\$Mod.avg.table] A aictab: 5 × 9\n",
       "\\begin{tabular}{lllllllll}\n",
       " Modnames & K & AICc & Delta\\_AICc & ModelLik & AICcWt & LL & Beta\\_est & SE\\\\\n",
       " <chr> & <dbl> & <dbl> & <dbl> & <dbl> & <dbl> & <dbl> & <dbl> & <dbl>\\\\\n",
       "\\hline\n",
       "\t side\\_mod     &  8 & 501.8878 & 0.000000 & 1.00000000 & 0.64285367 & -242.7539 & -0.5910197 & 0.2743583\\\\\n",
       "\t null\\_mod     &  7 & 504.4206 & 2.532764 & 0.28184958 & 0.18118804 & -245.0629 &  0.0000000 & 0.0000000\\\\\n",
       "\t solution\\_mod &  8 & 506.1806 & 4.292781 & 0.11690539 & 0.07515306 & -244.9003 &  0.0000000 & 0.0000000\\\\\n",
       "\t visit\\_mod    & 10 & 506.9406 & 5.052734 & 0.07994896 & 0.05139548 & -243.1785 &  0.0000000 & 0.0000000\\\\\n",
       "\t tsm\\_mod      & 11 & 507.0194 & 5.131539 & 0.07686003 & 0.04940975 & -242.1586 &  0.0000000 & 0.0000000\\\\\n",
       "\\end{tabular}\n",
       "\n",
       "\\item[\\$Mod.avg.beta] -0.379939202558619\n",
       "\\item[\\$Uncond.SE] 0.358590227087892\n",
       "\\item[\\$Conf.level] 0.95\n",
       "\\item[\\$Lower.CL] -1.08276313285893\n",
       "\\item[\\$Upper.CL] 0.322884727741688\n",
       "\\end{description}\n"
      ],
      "text/markdown": [
       "$Parameter\n",
       ":   'Reward_SideR'\n",
       "$Mod.avg.table\n",
       ":   \n",
       "A aictab: 5 × 9\n",
       "\n",
       "| Modnames &lt;chr&gt; | K &lt;dbl&gt; | AICc &lt;dbl&gt; | Delta_AICc &lt;dbl&gt; | ModelLik &lt;dbl&gt; | AICcWt &lt;dbl&gt; | LL &lt;dbl&gt; | Beta_est &lt;dbl&gt; | SE &lt;dbl&gt; |\n",
       "|---|---|---|---|---|---|---|---|---|\n",
       "| side_mod     |  8 | 501.8878 | 0.000000 | 1.00000000 | 0.64285367 | -242.7539 | -0.5910197 | 0.2743583 |\n",
       "| null_mod     |  7 | 504.4206 | 2.532764 | 0.28184958 | 0.18118804 | -245.0629 |  0.0000000 | 0.0000000 |\n",
       "| solution_mod |  8 | 506.1806 | 4.292781 | 0.11690539 | 0.07515306 | -244.9003 |  0.0000000 | 0.0000000 |\n",
       "| visit_mod    | 10 | 506.9406 | 5.052734 | 0.07994896 | 0.05139548 | -243.1785 |  0.0000000 | 0.0000000 |\n",
       "| tsm_mod      | 11 | 507.0194 | 5.131539 | 0.07686003 | 0.04940975 | -242.1586 |  0.0000000 | 0.0000000 |\n",
       "\n",
       "\n",
       "$Mod.avg.beta\n",
       ":   -0.379939202558619\n",
       "$Uncond.SE\n",
       ":   0.358590227087892\n",
       "$Conf.level\n",
       ":   0.95\n",
       "$Lower.CL\n",
       ":   -1.08276313285893\n",
       "$Upper.CL\n",
       ":   0.322884727741688\n",
       "\n",
       "\n"
      ],
      "text/plain": [
       "\n",
       "Multimodel inference on \"Reward_SideR\" based on AICc\n",
       "\n",
       "AICc table used to obtain model-averaged estimate with shrinkage:\n",
       "\n",
       "              K   AICc Delta_AICc AICcWt Estimate   SE\n",
       "side_mod      8 501.89       0.00   0.64    -0.59 0.27\n",
       "null_mod      7 504.42       2.53   0.18     0.00 0.00\n",
       "solution_mod  8 506.18       4.29   0.08     0.00 0.00\n",
       "visit_mod    10 506.94       5.05   0.05     0.00 0.00\n",
       "tsm_mod      11 507.02       5.13   0.05     0.00 0.00\n",
       "\n",
       "Model-averaged estimate with shrinkage: -0.38 \n",
       "Unconditional SE: 0.36 \n",
       "95% Unconditional confidence interval: -1.08, 0.32\n"
      ]
     },
     "metadata": {},
     "output_type": "display_data"
    }
   ],
   "source": [
    "top_models = list(\"side_mod\" = side_mod, \n",
    "                   \"null_mod\" = null_mod,\n",
    "                   \"solution_mod\" = solution_mod,\n",
    "                   \"visit_mod\" = visit_mod,\n",
    "                   \"tsm_mod\" = tsm_mod)\n",
    "\n",
    "modavgShrink(top_models, parm = \"(Intercept)\")\n",
    "modavgShrink(top_models, parm = \"SolutionCaffeine\")\n",
    "modavgShrink(top_models, parm = \"Visit3\")\n",
    "modavgShrink(top_models, parm = \"Visit4\")\n",
    "modavgShrink(top_models, parm = \"Visit5\")\n",
    "modavgShrink(top_models, parm = \"TSM_Bin31-60\")\n",
    "modavgShrink(top_models, parm = \"TSM_Bin61-90\")\n",
    "modavgShrink(top_models, parm = \"TSM_Bin91-120\")\n",
    "modavgShrink(top_models, parm = \"TSM_Bin121+\")\n",
    "modavgShrink(top_models, parm = \"Reward_SideR\")"
   ]
  },
  {
   "cell_type": "markdown",
   "id": "d5e9703d",
   "metadata": {},
   "source": [
    "## Odds\n",
    "**If the odds is 1 there is no effect, therefore if the CI's cross 1 that is not a significant parameter**\n",
    "\n",
    "**Intercept** = 2.5 [1.5, 4.2] -> **Ants do not choose an arm of the Y-maze randomly at Visit 2!**\n",
    "\n",
    "**Solution** = 1.0 [0.9, 1.2] -> There is no effect of Solution!\n",
    "\n",
    "**Visit 3** = 1.0 [0.8, 1.2] -> There is no effect of Visit 3!\n",
    "\n",
    "**Visit 4** = 1.0 [0.7, 1.3] -> There is no effect of Visit 4!\n",
    "\n",
    "**Visit 5** = 1.0 [0.9, 1.2] -> There is no effect of Visit 5!\n",
    "\n",
    "**Side** = 0.7 [0.3, 1.4] -> There is no effect of Side!\n",
    "\n",
    "**TSM_31_60** = 1.0 [0.8, 1.2] -> There is no effect of Time Since Marking!\n",
    "\n",
    "**TSM_61_90** = 1.0 [0.7, 1.6] -> There is no effect of Time Since Marking!\n",
    "\n",
    "**TSM_91_120** = 1.0 [0.8, 1.3] -> There is no effect of Time Since Marking!\n",
    "\n",
    "**TSM_121+** = 1.0 [0.8, 1.3] -> There is no effect of Time Since Marking!"
   ]
  },
  {
   "cell_type": "markdown",
   "id": "21713eb6",
   "metadata": {},
   "source": [
    "## Conclusions\n",
    "- Ants do not choose a random side of the Y-maze from Visit 2 showing no change in the odds over consecutive visits suggesting the ants are able to associate the reward with a side.\n",
    "- There is no effect of Time Since Marking on final choice.\n",
    "- There is no efect of caffeine on final choice.\n",
    "- There is no statistically significant (yes in side_mod) side bias although there is a trend towards Left.\n",
    "- There is no interaction effect of Solution with Time Since Marking."
   ]
  }
 ],
 "metadata": {
  "kernelspec": {
   "display_name": "R",
   "language": "R",
   "name": "ir"
  },
  "language_info": {
   "codemirror_mode": "r",
   "file_extension": ".r",
   "mimetype": "text/x-r-source",
   "name": "R",
   "pygments_lexer": "r",
   "version": "4.2.1"
  }
 },
 "nbformat": 4,
 "nbformat_minor": 5
}
