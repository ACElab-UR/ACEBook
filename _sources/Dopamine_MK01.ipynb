{
 "cells": [
  {
   "cell_type": "markdown",
   "id": "cea20812",
   "metadata": {},
   "source": [
    "# Dopamine Side Learning Y-maze"
   ]
  },
  {
   "cell_type": "markdown",
   "id": "79e6dea0",
   "metadata": {},
   "source": [
    "## Load packages"
   ]
  },
  {
   "cell_type": "code",
   "execution_count": 1,
   "id": "c3f5f22d",
   "metadata": {
    "scrolled": false,
    "vscode": {
     "languageId": "r"
    }
   },
   "outputs": [
    {
     "name": "stderr",
     "output_type": "stream",
     "text": [
      "Loading required package: reshape2\n",
      "\n",
      "Loading required package: lme4\n",
      "\n",
      "Loading required package: Matrix\n",
      "\n",
      "Loading required package: emmeans\n",
      "\n",
      "Loading required package: DHARMa\n",
      "\n",
      "This is DHARMa 0.4.5. For overview type '?DHARMa'. For recent changes, type news(package = 'DHARMa')\n",
      "\n",
      "Loading required package: AICcmodavg\n",
      "\n",
      "\n",
      "Attaching package: ‘AICcmodavg’\n",
      "\n",
      "\n",
      "The following object is masked from ‘package:lme4’:\n",
      "\n",
      "    checkConv\n",
      "\n",
      "\n"
     ]
    }
   ],
   "source": [
    "require(reshape2) # For data handling\n",
    "require(lme4) # Linear mixed-effects models\n",
    "require(emmeans) # Post-hoc analysis on the model\n",
    "require(DHARMa) # Evaluate model fit\n",
    "require(AICcmodavg) # For model selection and averaging"
   ]
  },
  {
   "cell_type": "markdown",
   "id": "7e6f6c9d",
   "metadata": {},
   "source": [
    "## Clean-up"
   ]
  },
  {
   "cell_type": "code",
   "execution_count": 2,
   "id": "6610d1f2",
   "metadata": {
    "vscode": {
     "languageId": "r"
    }
   },
   "outputs": [],
   "source": [
    "rm(list = ls()) # Remove variables/objects\n",
    "graphics.off() # Close any open graphics"
   ]
  },
  {
   "cell_type": "markdown",
   "id": "41a962ab",
   "metadata": {},
   "source": [
    "## Load data"
   ]
  },
  {
   "cell_type": "code",
   "execution_count": 3,
   "id": "a1533b22",
   "metadata": {
    "vscode": {
     "languageId": "r"
    }
   },
   "outputs": [
    {
     "data": {
      "text/html": [
       "<table class=\"dataframe\">\n",
       "<caption>A data.frame: 1 × 28</caption>\n",
       "<thead>\n",
       "\t<tr><th></th><th scope=col>Collection_Date</th><th scope=col>Time_Collection</th><th scope=col>Experimentor</th><th scope=col>Temperature</th><th scope=col>Colony_Origin</th><th scope=col>Starvation_Period</th><th scope=col>Donor_Colony</th><th scope=col>Recipient_Colony</th><th scope=col>Ant_ID</th><th scope=col>Visit</th><th scope=col>⋯</th><th scope=col>Out_Duration</th><th scope=col>Bridge_Nest_Duration</th><th scope=col>Total_Duration_Minutes</th><th scope=col>Trophallaxis</th><th scope=col>Full</th><th scope=col>Experiment</th><th scope=col>Initial_Binary</th><th scope=col>Final_Binary</th><th scope=col>Switched_Binary</th><th scope=col>TSM_Bin</th></tr>\n",
       "\t<tr><th></th><th scope=col>&lt;chr&gt;</th><th scope=col>&lt;chr&gt;</th><th scope=col>&lt;chr&gt;</th><th scope=col>&lt;dbl&gt;</th><th scope=col>&lt;chr&gt;</th><th scope=col>&lt;chr&gt;</th><th scope=col>&lt;int&gt;</th><th scope=col>&lt;int&gt;</th><th scope=col>&lt;int&gt;</th><th scope=col>&lt;int&gt;</th><th scope=col>⋯</th><th scope=col>&lt;int&gt;</th><th scope=col>&lt;int&gt;</th><th scope=col>&lt;dbl&gt;</th><th scope=col>&lt;chr&gt;</th><th scope=col>&lt;chr&gt;</th><th scope=col>&lt;int&gt;</th><th scope=col>&lt;int&gt;</th><th scope=col>&lt;int&gt;</th><th scope=col>&lt;int&gt;</th><th scope=col>&lt;chr&gt;</th></tr>\n",
       "</thead>\n",
       "<tbody>\n",
       "\t<tr><th scope=row>1669</th><td>11.07.22</td><td>13:35</td><td>Alexandra Koch</td><td>24.3</td><td>20th April - Portugal</td><td>4-days</td><td>56</td><td>57</td><td>1</td><td>2</td><td>⋯</td><td>NA</td><td>536</td><td>8.9</td><td>NA</td><td>No</td><td>7</td><td>1</td><td>1</td><td>0</td><td>0-30</td></tr>\n",
       "</tbody>\n",
       "</table>\n"
      ],
      "text/latex": [
       "A data.frame: 1 × 28\n",
       "\\begin{tabular}{r|lllllllllllllllllllll}\n",
       "  & Collection\\_Date & Time\\_Collection & Experimentor & Temperature & Colony\\_Origin & Starvation\\_Period & Donor\\_Colony & Recipient\\_Colony & Ant\\_ID & Visit & ⋯ & Out\\_Duration & Bridge\\_Nest\\_Duration & Total\\_Duration\\_Minutes & Trophallaxis & Full & Experiment & Initial\\_Binary & Final\\_Binary & Switched\\_Binary & TSM\\_Bin\\\\\n",
       "  & <chr> & <chr> & <chr> & <dbl> & <chr> & <chr> & <int> & <int> & <int> & <int> & ⋯ & <int> & <int> & <dbl> & <chr> & <chr> & <int> & <int> & <int> & <int> & <chr>\\\\\n",
       "\\hline\n",
       "\t1669 & 11.07.22 & 13:35 & Alexandra Koch & 24.3 & 20th April - Portugal & 4-days & 56 & 57 & 1 & 2 & ⋯ & NA & 536 & 8.9 & NA & No & 7 & 1 & 1 & 0 & 0-30\\\\\n",
       "\\end{tabular}\n"
      ],
      "text/markdown": [
       "\n",
       "A data.frame: 1 × 28\n",
       "\n",
       "| <!--/--> | Collection_Date &lt;chr&gt; | Time_Collection &lt;chr&gt; | Experimentor &lt;chr&gt; | Temperature &lt;dbl&gt; | Colony_Origin &lt;chr&gt; | Starvation_Period &lt;chr&gt; | Donor_Colony &lt;int&gt; | Recipient_Colony &lt;int&gt; | Ant_ID &lt;int&gt; | Visit &lt;int&gt; | ⋯ ⋯ | Out_Duration &lt;int&gt; | Bridge_Nest_Duration &lt;int&gt; | Total_Duration_Minutes &lt;dbl&gt; | Trophallaxis &lt;chr&gt; | Full &lt;chr&gt; | Experiment &lt;int&gt; | Initial_Binary &lt;int&gt; | Final_Binary &lt;int&gt; | Switched_Binary &lt;int&gt; | TSM_Bin &lt;chr&gt; |\n",
       "|---|---|---|---|---|---|---|---|---|---|---|---|---|---|---|---|---|---|---|---|---|---|\n",
       "| 1669 | 11.07.22 | 13:35 | Alexandra Koch | 24.3 | 20th April - Portugal | 4-days | 56 | 57 | 1 | 2 | ⋯ | NA | 536 | 8.9 | NA | No | 7 | 1 | 1 | 0 | 0-30 |\n",
       "\n"
      ],
      "text/plain": [
       "     Collection_Date Time_Collection Experimentor   Temperature\n",
       "1669 11.07.22        13:35           Alexandra Koch 24.3       \n",
       "     Colony_Origin         Starvation_Period Donor_Colony Recipient_Colony\n",
       "1669 20th April - Portugal 4-days            56           57              \n",
       "     Ant_ID Visit ⋯ Out_Duration Bridge_Nest_Duration Total_Duration_Minutes\n",
       "1669 1      2     ⋯ NA           536                  8.9                   \n",
       "     Trophallaxis Full Experiment Initial_Binary Final_Binary Switched_Binary\n",
       "1669 NA           No   7          1              1            0              \n",
       "     TSM_Bin\n",
       "1669 0-30   "
      ]
     },
     "metadata": {},
     "output_type": "display_data"
    }
   ],
   "source": [
    "ELP = read.csv(\"./Data/All/ELP_all.csv\")\n",
    "ELP = subset(ELP, ELP$Experiment == \"7\") # Subset for Dopamine experiment\n",
    "head(ELP, n = 1) # Check it was loaded correctly"
   ]
  },
  {
   "cell_type": "markdown",
   "id": "a5b0f172",
   "metadata": {},
   "source": [
    "## Ensure relevant variables are factors"
   ]
  },
  {
   "cell_type": "code",
   "execution_count": 4,
   "id": "e361d2b6",
   "metadata": {
    "vscode": {
     "languageId": "r"
    }
   },
   "outputs": [],
   "source": [
    "ELP$Collection_Date = as.factor(ELP$Collection_Date)\n",
    "ELP$Experimentor = as.factor(ELP$Experimentor)\n",
    "ELP$Starvation_Period = as.factor(ELP$Starvation_Period)\n",
    "ELP$Colony_ID = as.factor(paste0(ELP$Donor_Colony, \"_\", ELP$Recipient_Colony))\n",
    "ELP$Ant_ID = as.factor(ELP$Ant_ID)\n",
    "\n",
    "ELP$Visit = as.factor(ELP$Visit)\n",
    "ELP$Solution = as.factor(ELP$Solution)\n",
    "ELP$Solution = relevel(ELP$Solution, \"Control\")\n",
    "ELP$Reward_Side = as.factor(ELP$Reward_Side)\n",
    "ELP$TSM_Bin = as.factor(ELP$TSM_Bin)\n",
    "\n",
    "ELP$Initial_Binary = as.factor(ELP$Initial_Binary)\n",
    "ELP$Final_Binary = as.factor(ELP$Final_Binary)"
   ]
  },
  {
   "cell_type": "markdown",
   "id": "55165eb0",
   "metadata": {},
   "source": [
    "## Identify relevant random effects"
   ]
  },
  {
   "cell_type": "code",
   "execution_count": 5,
   "id": "3bc43cbf",
   "metadata": {
    "scrolled": false,
    "vscode": {
     "languageId": "r"
    }
   },
   "outputs": [
    {
     "data": {
      "text/html": [
       "<style>\n",
       ".list-inline {list-style: none; margin:0; padding: 0}\n",
       ".list-inline>li {display: inline-block}\n",
       ".list-inline>li:not(:last-child)::after {content: \"\\00b7\"; padding: 0 .5ex}\n",
       "</style>\n",
       "<ol class=list-inline><li>11.07.22</li><li>12.07.22</li><li>25.07.22</li><li>26.07.22</li><li>27.07.22</li><li>08.08.22</li><li>09.08.22</li><li>10.08.22</li><li>16.08.22</li><li>17.08.22</li></ol>\n",
       "\n",
       "<details>\n",
       "\t<summary style=display:list-item;cursor:pointer>\n",
       "\t\t<strong>Levels</strong>:\n",
       "\t</summary>\n",
       "\t<style>\n",
       "\t.list-inline {list-style: none; margin:0; padding: 0}\n",
       "\t.list-inline>li {display: inline-block}\n",
       "\t.list-inline>li:not(:last-child)::after {content: \"\\00b7\"; padding: 0 .5ex}\n",
       "\t</style>\n",
       "\t<ol class=list-inline><li>'08.08.22'</li><li>'09.08.22'</li><li>'10.08.22'</li><li>'11.07.22'</li><li>'12.07.22'</li><li>'16.08.22'</li><li>'17.08.22'</li><li>'25.07.22'</li><li>'26.07.22'</li><li>'27.07.22'</li></ol>\n",
       "</details>"
      ],
      "text/latex": [
       "\\begin{enumerate*}\n",
       "\\item 11.07.22\n",
       "\\item 12.07.22\n",
       "\\item 25.07.22\n",
       "\\item 26.07.22\n",
       "\\item 27.07.22\n",
       "\\item 08.08.22\n",
       "\\item 09.08.22\n",
       "\\item 10.08.22\n",
       "\\item 16.08.22\n",
       "\\item 17.08.22\n",
       "\\end{enumerate*}\n",
       "\n",
       "\\emph{Levels}: \\begin{enumerate*}\n",
       "\\item '08.08.22'\n",
       "\\item '09.08.22'\n",
       "\\item '10.08.22'\n",
       "\\item '11.07.22'\n",
       "\\item '12.07.22'\n",
       "\\item '16.08.22'\n",
       "\\item '17.08.22'\n",
       "\\item '25.07.22'\n",
       "\\item '26.07.22'\n",
       "\\item '27.07.22'\n",
       "\\end{enumerate*}\n"
      ],
      "text/markdown": [
       "1. 11.07.22\n",
       "2. 12.07.22\n",
       "3. 25.07.22\n",
       "4. 26.07.22\n",
       "5. 27.07.22\n",
       "6. 08.08.22\n",
       "7. 09.08.22\n",
       "8. 10.08.22\n",
       "9. 16.08.22\n",
       "10. 17.08.22\n",
       "\n",
       "\n",
       "\n",
       "**Levels**: 1. '08.08.22'\n",
       "2. '09.08.22'\n",
       "3. '10.08.22'\n",
       "4. '11.07.22'\n",
       "5. '12.07.22'\n",
       "6. '16.08.22'\n",
       "7. '17.08.22'\n",
       "8. '25.07.22'\n",
       "9. '26.07.22'\n",
       "10. '27.07.22'\n",
       "\n",
       "\n"
      ],
      "text/plain": [
       " [1] 11.07.22 12.07.22 25.07.22 26.07.22 27.07.22 08.08.22 09.08.22 10.08.22\n",
       " [9] 16.08.22 17.08.22\n",
       "10 Levels: 08.08.22 09.08.22 10.08.22 11.07.22 12.07.22 16.08.22 ... 27.07.22"
      ]
     },
     "metadata": {},
     "output_type": "display_data"
    },
    {
     "data": {
      "text/html": [
       "Alexandra Koch\n",
       "<details>\n",
       "\t<summary style=display:list-item;cursor:pointer>\n",
       "\t\t<strong>Levels</strong>:\n",
       "\t</summary>\n",
       "\t'Alexandra Koch'\n",
       "</details>"
      ],
      "text/latex": [
       "Alexandra Koch\n",
       "\\emph{Levels}: 'Alexandra Koch'"
      ],
      "text/markdown": [
       "Alexandra Koch\n",
       "**Levels**: 'Alexandra Koch'"
      ],
      "text/plain": [
       "[1] Alexandra Koch\n",
       "Levels: Alexandra Koch"
      ]
     },
     "metadata": {},
     "output_type": "display_data"
    },
    {
     "data": {
      "text/html": [
       "4-days\n",
       "<details>\n",
       "\t<summary style=display:list-item;cursor:pointer>\n",
       "\t\t<strong>Levels</strong>:\n",
       "\t</summary>\n",
       "\t'4-days'\n",
       "</details>"
      ],
      "text/latex": [
       "4-days\n",
       "\\emph{Levels}: '4-days'"
      ],
      "text/markdown": [
       "4-days\n",
       "**Levels**: '4-days'"
      ],
      "text/plain": [
       "[1] 4-days\n",
       "Levels: 4-days"
      ]
     },
     "metadata": {},
     "output_type": "display_data"
    },
    {
     "data": {
      "text/html": [
       "<style>\n",
       ".list-inline {list-style: none; margin:0; padding: 0}\n",
       ".list-inline>li {display: inline-block}\n",
       ".list-inline>li:not(:last-child)::after {content: \"\\00b7\"; padding: 0 .5ex}\n",
       "</style>\n",
       "<ol class=list-inline><li>56_57</li><li>16_13</li><li>9_11</li></ol>\n",
       "\n",
       "<details>\n",
       "\t<summary style=display:list-item;cursor:pointer>\n",
       "\t\t<strong>Levels</strong>:\n",
       "\t</summary>\n",
       "\t<style>\n",
       "\t.list-inline {list-style: none; margin:0; padding: 0}\n",
       "\t.list-inline>li {display: inline-block}\n",
       "\t.list-inline>li:not(:last-child)::after {content: \"\\00b7\"; padding: 0 .5ex}\n",
       "\t</style>\n",
       "\t<ol class=list-inline><li>'16_13'</li><li>'56_57'</li><li>'9_11'</li></ol>\n",
       "</details>"
      ],
      "text/latex": [
       "\\begin{enumerate*}\n",
       "\\item 56\\_57\n",
       "\\item 16\\_13\n",
       "\\item 9\\_11\n",
       "\\end{enumerate*}\n",
       "\n",
       "\\emph{Levels}: \\begin{enumerate*}\n",
       "\\item '16\\_13'\n",
       "\\item '56\\_57'\n",
       "\\item '9\\_11'\n",
       "\\end{enumerate*}\n"
      ],
      "text/markdown": [
       "1. 56_57\n",
       "2. 16_13\n",
       "3. 9_11\n",
       "\n",
       "\n",
       "\n",
       "**Levels**: 1. '16_13'\n",
       "2. '56_57'\n",
       "3. '9_11'\n",
       "\n",
       "\n"
      ],
      "text/plain": [
       "[1] 56_57 16_13 9_11 \n",
       "Levels: 16_13 56_57 9_11"
      ]
     },
     "metadata": {},
     "output_type": "display_data"
    },
    {
     "data": {
      "text/html": [
       "<style>\n",
       ".list-inline {list-style: none; margin:0; padding: 0}\n",
       ".list-inline>li {display: inline-block}\n",
       ".list-inline>li:not(:last-child)::after {content: \"\\00b7\"; padding: 0 .5ex}\n",
       "</style>\n",
       "<ol class=list-inline><li>1</li><li>2</li><li>3</li><li>4</li><li>5</li><li>6</li><li>7</li><li>8</li><li>9</li><li>10</li><li>11</li><li>12</li><li>13</li><li>14</li><li>15</li><li>16</li><li>17</li><li>18</li><li>19</li><li>20</li><li>21</li><li>22</li><li>23</li><li>24</li><li>25</li><li>26</li><li>27</li><li>28</li><li>29</li><li>30</li><li>31</li><li>32</li><li>33</li><li>34</li><li>35</li><li>36</li><li>37</li><li>38</li><li>39</li><li>40</li><li>41</li><li>42</li><li>43</li><li>44</li><li>45</li><li>46</li><li>47</li><li>48</li><li>49</li><li>50</li><li>51</li><li>52</li><li>53</li><li>54</li><li>55</li><li>56</li><li>57</li><li>58</li><li>59</li><li>60</li><li>61</li><li>62</li><li>63</li><li>64</li><li>65</li><li>66</li><li>67</li><li>68</li><li>69</li><li>70</li><li>71</li><li>72</li><li>73</li><li>74</li><li>75</li><li>76</li><li>77</li><li>78</li><li>79</li><li>80</li></ol>\n",
       "\n",
       "<details>\n",
       "\t<summary style=display:list-item;cursor:pointer>\n",
       "\t\t<strong>Levels</strong>:\n",
       "\t</summary>\n",
       "\t<style>\n",
       "\t.list-inline {list-style: none; margin:0; padding: 0}\n",
       "\t.list-inline>li {display: inline-block}\n",
       "\t.list-inline>li:not(:last-child)::after {content: \"\\00b7\"; padding: 0 .5ex}\n",
       "\t</style>\n",
       "\t<ol class=list-inline><li>'1'</li><li>'2'</li><li>'3'</li><li>'4'</li><li>'5'</li><li>'6'</li><li>'7'</li><li>'8'</li><li>'9'</li><li>'10'</li><li>'11'</li><li>'12'</li><li>'13'</li><li>'14'</li><li>'15'</li><li>'16'</li><li>'17'</li><li>'18'</li><li>'19'</li><li>'20'</li><li>'21'</li><li>'22'</li><li>'23'</li><li>'24'</li><li>'25'</li><li>'26'</li><li>'27'</li><li>'28'</li><li>'29'</li><li>'30'</li><li>'31'</li><li>'32'</li><li>'33'</li><li>'34'</li><li>'35'</li><li>'36'</li><li>'37'</li><li>'38'</li><li>'39'</li><li>'40'</li><li>'41'</li><li>'42'</li><li>'43'</li><li>'44'</li><li>'45'</li><li>'46'</li><li>'47'</li><li>'48'</li><li>'49'</li><li>'50'</li><li>'51'</li><li>'52'</li><li>'53'</li><li>'54'</li><li>'55'</li><li>'56'</li><li>'57'</li><li>'58'</li><li>'59'</li><li>'60'</li><li>'61'</li><li>'62'</li><li>'63'</li><li>'64'</li><li>'65'</li><li>'66'</li><li>'67'</li><li>'68'</li><li>'69'</li><li>'70'</li><li>'71'</li><li>'72'</li><li>'73'</li><li>'74'</li><li>'75'</li><li>'76'</li><li>'77'</li><li>'78'</li><li>'79'</li><li>'80'</li></ol>\n",
       "</details>"
      ],
      "text/latex": [
       "\\begin{enumerate*}\n",
       "\\item 1\n",
       "\\item 2\n",
       "\\item 3\n",
       "\\item 4\n",
       "\\item 5\n",
       "\\item 6\n",
       "\\item 7\n",
       "\\item 8\n",
       "\\item 9\n",
       "\\item 10\n",
       "\\item 11\n",
       "\\item 12\n",
       "\\item 13\n",
       "\\item 14\n",
       "\\item 15\n",
       "\\item 16\n",
       "\\item 17\n",
       "\\item 18\n",
       "\\item 19\n",
       "\\item 20\n",
       "\\item 21\n",
       "\\item 22\n",
       "\\item 23\n",
       "\\item 24\n",
       "\\item 25\n",
       "\\item 26\n",
       "\\item 27\n",
       "\\item 28\n",
       "\\item 29\n",
       "\\item 30\n",
       "\\item 31\n",
       "\\item 32\n",
       "\\item 33\n",
       "\\item 34\n",
       "\\item 35\n",
       "\\item 36\n",
       "\\item 37\n",
       "\\item 38\n",
       "\\item 39\n",
       "\\item 40\n",
       "\\item 41\n",
       "\\item 42\n",
       "\\item 43\n",
       "\\item 44\n",
       "\\item 45\n",
       "\\item 46\n",
       "\\item 47\n",
       "\\item 48\n",
       "\\item 49\n",
       "\\item 50\n",
       "\\item 51\n",
       "\\item 52\n",
       "\\item 53\n",
       "\\item 54\n",
       "\\item 55\n",
       "\\item 56\n",
       "\\item 57\n",
       "\\item 58\n",
       "\\item 59\n",
       "\\item 60\n",
       "\\item 61\n",
       "\\item 62\n",
       "\\item 63\n",
       "\\item 64\n",
       "\\item 65\n",
       "\\item 66\n",
       "\\item 67\n",
       "\\item 68\n",
       "\\item 69\n",
       "\\item 70\n",
       "\\item 71\n",
       "\\item 72\n",
       "\\item 73\n",
       "\\item 74\n",
       "\\item 75\n",
       "\\item 76\n",
       "\\item 77\n",
       "\\item 78\n",
       "\\item 79\n",
       "\\item 80\n",
       "\\end{enumerate*}\n",
       "\n",
       "\\emph{Levels}: \\begin{enumerate*}\n",
       "\\item '1'\n",
       "\\item '2'\n",
       "\\item '3'\n",
       "\\item '4'\n",
       "\\item '5'\n",
       "\\item '6'\n",
       "\\item '7'\n",
       "\\item '8'\n",
       "\\item '9'\n",
       "\\item '10'\n",
       "\\item '11'\n",
       "\\item '12'\n",
       "\\item '13'\n",
       "\\item '14'\n",
       "\\item '15'\n",
       "\\item '16'\n",
       "\\item '17'\n",
       "\\item '18'\n",
       "\\item '19'\n",
       "\\item '20'\n",
       "\\item '21'\n",
       "\\item '22'\n",
       "\\item '23'\n",
       "\\item '24'\n",
       "\\item '25'\n",
       "\\item '26'\n",
       "\\item '27'\n",
       "\\item '28'\n",
       "\\item '29'\n",
       "\\item '30'\n",
       "\\item '31'\n",
       "\\item '32'\n",
       "\\item '33'\n",
       "\\item '34'\n",
       "\\item '35'\n",
       "\\item '36'\n",
       "\\item '37'\n",
       "\\item '38'\n",
       "\\item '39'\n",
       "\\item '40'\n",
       "\\item '41'\n",
       "\\item '42'\n",
       "\\item '43'\n",
       "\\item '44'\n",
       "\\item '45'\n",
       "\\item '46'\n",
       "\\item '47'\n",
       "\\item '48'\n",
       "\\item '49'\n",
       "\\item '50'\n",
       "\\item '51'\n",
       "\\item '52'\n",
       "\\item '53'\n",
       "\\item '54'\n",
       "\\item '55'\n",
       "\\item '56'\n",
       "\\item '57'\n",
       "\\item '58'\n",
       "\\item '59'\n",
       "\\item '60'\n",
       "\\item '61'\n",
       "\\item '62'\n",
       "\\item '63'\n",
       "\\item '64'\n",
       "\\item '65'\n",
       "\\item '66'\n",
       "\\item '67'\n",
       "\\item '68'\n",
       "\\item '69'\n",
       "\\item '70'\n",
       "\\item '71'\n",
       "\\item '72'\n",
       "\\item '73'\n",
       "\\item '74'\n",
       "\\item '75'\n",
       "\\item '76'\n",
       "\\item '77'\n",
       "\\item '78'\n",
       "\\item '79'\n",
       "\\item '80'\n",
       "\\end{enumerate*}\n"
      ],
      "text/markdown": [
       "1. 1\n",
       "2. 2\n",
       "3. 3\n",
       "4. 4\n",
       "5. 5\n",
       "6. 6\n",
       "7. 7\n",
       "8. 8\n",
       "9. 9\n",
       "10. 10\n",
       "11. 11\n",
       "12. 12\n",
       "13. 13\n",
       "14. 14\n",
       "15. 15\n",
       "16. 16\n",
       "17. 17\n",
       "18. 18\n",
       "19. 19\n",
       "20. 20\n",
       "21. 21\n",
       "22. 22\n",
       "23. 23\n",
       "24. 24\n",
       "25. 25\n",
       "26. 26\n",
       "27. 27\n",
       "28. 28\n",
       "29. 29\n",
       "30. 30\n",
       "31. 31\n",
       "32. 32\n",
       "33. 33\n",
       "34. 34\n",
       "35. 35\n",
       "36. 36\n",
       "37. 37\n",
       "38. 38\n",
       "39. 39\n",
       "40. 40\n",
       "41. 41\n",
       "42. 42\n",
       "43. 43\n",
       "44. 44\n",
       "45. 45\n",
       "46. 46\n",
       "47. 47\n",
       "48. 48\n",
       "49. 49\n",
       "50. 50\n",
       "51. 51\n",
       "52. 52\n",
       "53. 53\n",
       "54. 54\n",
       "55. 55\n",
       "56. 56\n",
       "57. 57\n",
       "58. 58\n",
       "59. 59\n",
       "60. 60\n",
       "61. 61\n",
       "62. 62\n",
       "63. 63\n",
       "64. 64\n",
       "65. 65\n",
       "66. 66\n",
       "67. 67\n",
       "68. 68\n",
       "69. 69\n",
       "70. 70\n",
       "71. 71\n",
       "72. 72\n",
       "73. 73\n",
       "74. 74\n",
       "75. 75\n",
       "76. 76\n",
       "77. 77\n",
       "78. 78\n",
       "79. 79\n",
       "80. 80\n",
       "\n",
       "\n",
       "\n",
       "**Levels**: 1. '1'\n",
       "2. '2'\n",
       "3. '3'\n",
       "4. '4'\n",
       "5. '5'\n",
       "6. '6'\n",
       "7. '7'\n",
       "8. '8'\n",
       "9. '9'\n",
       "10. '10'\n",
       "11. '11'\n",
       "12. '12'\n",
       "13. '13'\n",
       "14. '14'\n",
       "15. '15'\n",
       "16. '16'\n",
       "17. '17'\n",
       "18. '18'\n",
       "19. '19'\n",
       "20. '20'\n",
       "21. '21'\n",
       "22. '22'\n",
       "23. '23'\n",
       "24. '24'\n",
       "25. '25'\n",
       "26. '26'\n",
       "27. '27'\n",
       "28. '28'\n",
       "29. '29'\n",
       "30. '30'\n",
       "31. '31'\n",
       "32. '32'\n",
       "33. '33'\n",
       "34. '34'\n",
       "35. '35'\n",
       "36. '36'\n",
       "37. '37'\n",
       "38. '38'\n",
       "39. '39'\n",
       "40. '40'\n",
       "41. '41'\n",
       "42. '42'\n",
       "43. '43'\n",
       "44. '44'\n",
       "45. '45'\n",
       "46. '46'\n",
       "47. '47'\n",
       "48. '48'\n",
       "49. '49'\n",
       "50. '50'\n",
       "51. '51'\n",
       "52. '52'\n",
       "53. '53'\n",
       "54. '54'\n",
       "55. '55'\n",
       "56. '56'\n",
       "57. '57'\n",
       "58. '58'\n",
       "59. '59'\n",
       "60. '60'\n",
       "61. '61'\n",
       "62. '62'\n",
       "63. '63'\n",
       "64. '64'\n",
       "65. '65'\n",
       "66. '66'\n",
       "67. '67'\n",
       "68. '68'\n",
       "69. '69'\n",
       "70. '70'\n",
       "71. '71'\n",
       "72. '72'\n",
       "73. '73'\n",
       "74. '74'\n",
       "75. '75'\n",
       "76. '76'\n",
       "77. '77'\n",
       "78. '78'\n",
       "79. '79'\n",
       "80. '80'\n",
       "\n",
       "\n"
      ],
      "text/plain": [
       " [1] 1  2  3  4  5  6  7  8  9  10 11 12 13 14 15 16 17 18 19 20 21 22 23 24 25\n",
       "[26] 26 27 28 29 30 31 32 33 34 35 36 37 38 39 40 41 42 43 44 45 46 47 48 49 50\n",
       "[51] 51 52 53 54 55 56 57 58 59 60 61 62 63 64 65 66 67 68 69 70 71 72 73 74 75\n",
       "[76] 76 77 78 79 80\n",
       "80 Levels: 1 2 3 4 5 6 7 8 9 10 11 12 13 14 15 16 17 18 19 20 21 22 23 ... 80"
      ]
     },
     "metadata": {},
     "output_type": "display_data"
    }
   ],
   "source": [
    "unique(ELP$Collection_Date)\n",
    "unique(ELP$Experimentor)\n",
    "unique(ELP$Starvation_Period)\n",
    "unique(ELP$Colony_ID)\n",
    "unique(ELP$Ant_ID)"
   ]
  },
  {
   "cell_type": "markdown",
   "id": "e3044b71",
   "metadata": {},
   "source": [
    "## Do initial and final choices significantly differ?"
   ]
  },
  {
   "cell_type": "code",
   "execution_count": 6,
   "id": "f00505b5",
   "metadata": {
    "vscode": {
     "languageId": "r"
    }
   },
   "outputs": [
    {
     "name": "stderr",
     "output_type": "stream",
     "text": [
      "boundary (singular) fit: see help('isSingular')\n",
      "\n"
     ]
    },
    {
     "data": {
      "text/plain": [
       " contrast                      odds.ratio    SE  df null z.ratio p.value\n",
       " Initial_Binary / Final_Binary      0.794 0.158 Inf    1  -1.157  0.2471\n",
       "\n",
       "Tests are performed on the log odds ratio scale "
      ]
     },
     "metadata": {},
     "output_type": "display_data"
    }
   ],
   "source": [
    "ELP_choice_diff = melt(ELP, measure.vars = c(\"Initial_Binary\", \"Final_Binary\"))\n",
    "\n",
    "ELP_choice_diff$variable = as.factor(ELP_choice_diff$variable)\n",
    "ELP_choice_diff$value = as.factor(ELP_choice_diff$value)\n",
    "\n",
    "ELP_choice_diff_mod = glmer(value ~ variable + (1|Collection_Date) + (1|Colony_ID) + (1|Ant_ID), data = ELP_choice_diff, family = binomial, glmerControl(optimizer = \"bobyqa\", optCtrl = list(maxfun = 1000000000)))\n",
    "\n",
    "e = emmeans(ELP_choice_diff_mod, ~variable, type = \"response\")\n",
    "pairs(e)"
   ]
  },
  {
   "cell_type": "markdown",
   "id": "328cf9e7",
   "metadata": {},
   "source": [
    "p-value > 0.1 hence there is no statistical difference between initial and final decision therefore we will use final decision henceforth."
   ]
  },
  {
   "cell_type": "markdown",
   "id": "33f30dc0",
   "metadata": {},
   "source": [
    "## Define models\n",
    "\n",
    "### 1. Null model\n",
    "**Biological hypothesis:** Ants randomly choose a Y-maze arm."
   ]
  },
  {
   "cell_type": "code",
   "execution_count": 7,
   "id": "0ef959a3",
   "metadata": {
    "scrolled": true,
    "vscode": {
     "languageId": "r"
    }
   },
   "outputs": [
    {
     "name": "stderr",
     "output_type": "stream",
     "text": [
      "boundary (singular) fit: see help('isSingular')\n",
      "\n"
     ]
    }
   ],
   "source": [
    "null_mod = glmer(Final_Binary ~ 1 + (1|Collection_Date) + (1|Colony_ID) + (1|Ant_ID), data = ELP, family = \"binomial\", glmerControl(optimizer = \"bobyqa\", optCtrl = list(maxfun = 1000000000)))"
   ]
  },
  {
   "cell_type": "markdown",
   "id": "1b2602f5",
   "metadata": {},
   "source": [
    "### 2. Visit model\n",
    "**Biological hypothesis:** Ants learn to associate a Y-maze arm with a reward. Over consecutive visits more ants choose the correct arm."
   ]
  },
  {
   "cell_type": "code",
   "execution_count": 8,
   "id": "7f450e9d",
   "metadata": {
    "vscode": {
     "languageId": "r"
    }
   },
   "outputs": [
    {
     "name": "stderr",
     "output_type": "stream",
     "text": [
      "boundary (singular) fit: see help('isSingular')\n",
      "\n"
     ]
    }
   ],
   "source": [
    "visit_mod = glmer(Final_Binary ~ Visit + (1|Collection_Date) + (1|Colony_ID) + (1|Ant_ID), data = ELP, family = \"binomial\", glmerControl(optimizer = \"bobyqa\", optCtrl = list(maxfun = 1000000000)))"
   ]
  },
  {
   "cell_type": "markdown",
   "id": "b7ed456a",
   "metadata": {},
   "source": [
    "### 3. Solution model\n",
    "**Biological hypothesis:** The presence of a psychoactive chemical in the reward alters the ants ability to choose a Y-maze arm."
   ]
  },
  {
   "cell_type": "code",
   "execution_count": 9,
   "id": "e40efafe",
   "metadata": {
    "scrolled": true,
    "vscode": {
     "languageId": "r"
    }
   },
   "outputs": [
    {
     "name": "stderr",
     "output_type": "stream",
     "text": [
      "boundary (singular) fit: see help('isSingular')\n",
      "\n"
     ]
    }
   ],
   "source": [
    "solution_mod = glmer(Final_Binary ~ Solution + (1|Collection_Date) + (1|Colony_ID) + (1|Ant_ID), data = ELP, family = \"binomial\", glmerControl(optimizer = \"bobyqa\", optCtrl = list(maxfun = 1000000000)))"
   ]
  },
  {
   "cell_type": "markdown",
   "id": "ab0eba13",
   "metadata": {},
   "source": [
    "### 4. Side model\n",
    "**Biological hypothesis:** Ants have an intrinsic predisposition towards turning left or right. This is associated with brain lateralisation which has been shown in multiple organisms."
   ]
  },
  {
   "cell_type": "code",
   "execution_count": 10,
   "id": "607d48ee",
   "metadata": {
    "scrolled": true,
    "vscode": {
     "languageId": "r"
    }
   },
   "outputs": [
    {
     "name": "stderr",
     "output_type": "stream",
     "text": [
      "boundary (singular) fit: see help('isSingular')\n",
      "\n"
     ]
    }
   ],
   "source": [
    "side_mod = glmer(Final_Binary ~ Reward_Side + (1|Collection_Date) + (1|Colony_ID) + (1|Ant_ID), data = ELP, family = \"binomial\", glmerControl(optimizer = \"bobyqa\", optCtrl = list(maxfun = 1000000000)))"
   ]
  },
  {
   "cell_type": "markdown",
   "id": "761fabe0",
   "metadata": {},
   "source": [
    "### 5. Time since marking model\n",
    "**Biological hypothesis:** Ants that had a waiting period (>30 minutes) after learning the reward/side association have different recall strenght. This should be associated with long-term memory formation which should be stronger."
   ]
  },
  {
   "cell_type": "code",
   "execution_count": 11,
   "id": "2658b671",
   "metadata": {
    "vscode": {
     "languageId": "r"
    }
   },
   "outputs": [
    {
     "name": "stderr",
     "output_type": "stream",
     "text": [
      "boundary (singular) fit: see help('isSingular')\n",
      "\n"
     ]
    }
   ],
   "source": [
    "tsm_mod = glmer(Final_Binary ~ TSM_Bin + (1|Collection_Date) + (1|Colony_ID) + (1|Ant_ID), data = ELP, family = \"binomial\", glmerControl(optimizer = \"bobyqa\", optCtrl = list(maxfun = 1000000000)))"
   ]
  },
  {
   "cell_type": "markdown",
   "id": "892cb81b",
   "metadata": {},
   "source": [
    "### 6. Solution and Visit with Time since marking model\n",
    "**Biological hypothesis:** The effects of a psychoactive chemical might be time dependent."
   ]
  },
  {
   "cell_type": "code",
   "execution_count": 12,
   "id": "5cff5050",
   "metadata": {
    "vscode": {
     "languageId": "r"
    }
   },
   "outputs": [
    {
     "name": "stderr",
     "output_type": "stream",
     "text": [
      "boundary (singular) fit: see help('isSingular')\n",
      "\n"
     ]
    }
   ],
   "source": [
    "solution_time_mod = glmer(Final_Binary ~ Solution + TSM_Bin + Visit + Solution:TSM_Bin + (1|Collection_Date) + (1|Colony_ID) + (1|Ant_ID), data = ELP, family = \"binomial\", glmerControl(optimizer = \"bobyqa\", optCtrl = list(maxfun = 1000000000)))"
   ]
  },
  {
   "cell_type": "markdown",
   "id": "fcf2c7eb",
   "metadata": {},
   "source": [
    "### 7. Maximal model\n",
    "**Biological hypothesis:** All of the available variables contribute towards ant learning."
   ]
  },
  {
   "cell_type": "code",
   "execution_count": 13,
   "id": "fcc1c701",
   "metadata": {
    "scrolled": false,
    "vscode": {
     "languageId": "r"
    }
   },
   "outputs": [
    {
     "name": "stderr",
     "output_type": "stream",
     "text": [
      "boundary (singular) fit: see help('isSingular')\n",
      "\n"
     ]
    }
   ],
   "source": [
    "max_mod = glmer(Final_Binary ~ Solution + Visit + TSM_Bin + Reward_Side + Solution:TSM_Bin + (1|Collection_Date) + (1|Colony_ID) + (1|Ant_ID), data = ELP, family = \"binomial\", glmerControl(optimizer = \"bobyqa\", optCtrl = list(maxfun = 1000000000)))"
   ]
  },
  {
   "cell_type": "markdown",
   "id": "533ad837",
   "metadata": {},
   "source": [
    "## Check if the most complex model (max_mod) is a good fit to the data"
   ]
  },
  {
   "cell_type": "code",
   "execution_count": 14,
   "id": "7360d657",
   "metadata": {
    "vscode": {
     "languageId": "r"
    }
   },
   "outputs": [
    {
     "data": {
      "image/png": "[encoded data removed]",
      "text/plain": [
       "Plot with title “QQ plot residuals”"
      ]
     },
     "metadata": {
      "image/png": {
       "height": 420,
       "width": 420
      }
     },
     "output_type": "display_data"
    }
   ],
   "source": [
    "simres = simulateResiduals(max_mod)\n",
    "plot(simres, asFactor = T)"
   ]
  },
  {
   "cell_type": "markdown",
   "id": "3d31eeee",
   "metadata": {},
   "source": [
    "The maximum model seems to hold all assumptions and be a god fit to the data. Therefore, all simpler models should be equally good.\n",
    "## Model Selection"
   ]
  },
  {
   "cell_type": "code",
   "execution_count": 15,
   "id": "6768b6ea",
   "metadata": {
    "scrolled": false,
    "vscode": {
     "languageId": "r"
    }
   },
   "outputs": [
    {
     "data": {
      "text/html": [
       "<table class=\"dataframe\">\n",
       "<caption>A aictab: 7 × 8</caption>\n",
       "<thead>\n",
       "\t<tr><th></th><th scope=col>Modnames</th><th scope=col>K</th><th scope=col>AICc</th><th scope=col>Delta_AICc</th><th scope=col>ModelLik</th><th scope=col>AICcWt</th><th scope=col>LL</th><th scope=col>Cum.Wt</th></tr>\n",
       "\t<tr><th></th><th scope=col>&lt;chr&gt;</th><th scope=col>&lt;dbl&gt;</th><th scope=col>&lt;dbl&gt;</th><th scope=col>&lt;dbl&gt;</th><th scope=col>&lt;dbl&gt;</th><th scope=col>&lt;dbl&gt;</th><th scope=col>&lt;dbl&gt;</th><th scope=col>&lt;dbl&gt;</th></tr>\n",
       "</thead>\n",
       "<tbody>\n",
       "\t<tr><th scope=row>2</th><td>visit_mod        </td><td> 7</td><td>347.9092</td><td>0.000000</td><td>1.00000000</td><td>0.53509357</td><td>-166.7751</td><td>0.5350936</td></tr>\n",
       "\t<tr><th scope=row>1</th><td>null_mod         </td><td> 4</td><td>350.6139</td><td>2.704690</td><td>0.25863311</td><td>0.13839291</td><td>-171.2435</td><td>0.6734865</td></tr>\n",
       "\t<tr><th scope=row>4</th><td>side_mod         </td><td> 5</td><td>351.3186</td><td>3.409336</td><td>0.18183271</td><td>0.09729752</td><td>-170.5638</td><td>0.7707840</td></tr>\n",
       "\t<tr><th scope=row>5</th><td>tsm_mod          </td><td> 5</td><td>351.8240</td><td>3.914730</td><td>0.14123006</td><td>0.07557130</td><td>-170.8164</td><td>0.8463553</td></tr>\n",
       "\t<tr><th scope=row>3</th><td>solution_mod     </td><td> 5</td><td>352.0304</td><td>4.121136</td><td>0.12738158</td><td>0.06816107</td><td>-170.9196</td><td>0.9145164</td></tr>\n",
       "\t<tr><th scope=row>6</th><td>solution_time_mod</td><td>10</td><td>352.7018</td><td>4.792516</td><td>0.09105805</td><td>0.04872458</td><td>-165.9949</td><td>0.9632409</td></tr>\n",
       "\t<tr><th scope=row>7</th><td>max_mod          </td><td>11</td><td>353.2654</td><td>5.356114</td><td>0.06869649</td><td>0.03675905</td><td>-165.2041</td><td>1.0000000</td></tr>\n",
       "</tbody>\n",
       "</table>\n"
      ],
      "text/latex": [
       "A aictab: 7 × 8\n",
       "\\begin{tabular}{r|llllllll}\n",
       "  & Modnames & K & AICc & Delta\\_AICc & ModelLik & AICcWt & LL & Cum.Wt\\\\\n",
       "  & <chr> & <dbl> & <dbl> & <dbl> & <dbl> & <dbl> & <dbl> & <dbl>\\\\\n",
       "\\hline\n",
       "\t2 & visit\\_mod         &  7 & 347.9092 & 0.000000 & 1.00000000 & 0.53509357 & -166.7751 & 0.5350936\\\\\n",
       "\t1 & null\\_mod          &  4 & 350.6139 & 2.704690 & 0.25863311 & 0.13839291 & -171.2435 & 0.6734865\\\\\n",
       "\t4 & side\\_mod          &  5 & 351.3186 & 3.409336 & 0.18183271 & 0.09729752 & -170.5638 & 0.7707840\\\\\n",
       "\t5 & tsm\\_mod           &  5 & 351.8240 & 3.914730 & 0.14123006 & 0.07557130 & -170.8164 & 0.8463553\\\\\n",
       "\t3 & solution\\_mod      &  5 & 352.0304 & 4.121136 & 0.12738158 & 0.06816107 & -170.9196 & 0.9145164\\\\\n",
       "\t6 & solution\\_time\\_mod & 10 & 352.7018 & 4.792516 & 0.09105805 & 0.04872458 & -165.9949 & 0.9632409\\\\\n",
       "\t7 & max\\_mod           & 11 & 353.2654 & 5.356114 & 0.06869649 & 0.03675905 & -165.2041 & 1.0000000\\\\\n",
       "\\end{tabular}\n"
      ],
      "text/markdown": [
       "\n",
       "A aictab: 7 × 8\n",
       "\n",
       "| <!--/--> | Modnames &lt;chr&gt; | K &lt;dbl&gt; | AICc &lt;dbl&gt; | Delta_AICc &lt;dbl&gt; | ModelLik &lt;dbl&gt; | AICcWt &lt;dbl&gt; | LL &lt;dbl&gt; | Cum.Wt &lt;dbl&gt; |\n",
       "|---|---|---|---|---|---|---|---|---|\n",
       "| 2 | visit_mod         |  7 | 347.9092 | 0.000000 | 1.00000000 | 0.53509357 | -166.7751 | 0.5350936 |\n",
       "| 1 | null_mod          |  4 | 350.6139 | 2.704690 | 0.25863311 | 0.13839291 | -171.2435 | 0.6734865 |\n",
       "| 4 | side_mod          |  5 | 351.3186 | 3.409336 | 0.18183271 | 0.09729752 | -170.5638 | 0.7707840 |\n",
       "| 5 | tsm_mod           |  5 | 351.8240 | 3.914730 | 0.14123006 | 0.07557130 | -170.8164 | 0.8463553 |\n",
       "| 3 | solution_mod      |  5 | 352.0304 | 4.121136 | 0.12738158 | 0.06816107 | -170.9196 | 0.9145164 |\n",
       "| 6 | solution_time_mod | 10 | 352.7018 | 4.792516 | 0.09105805 | 0.04872458 | -165.9949 | 0.9632409 |\n",
       "| 7 | max_mod           | 11 | 353.2654 | 5.356114 | 0.06869649 | 0.03675905 | -165.2041 | 1.0000000 |\n",
       "\n"
      ],
      "text/plain": [
       "  Modnames          K  AICc     Delta_AICc ModelLik   AICcWt     LL       \n",
       "2 visit_mod          7 347.9092 0.000000   1.00000000 0.53509357 -166.7751\n",
       "1 null_mod           4 350.6139 2.704690   0.25863311 0.13839291 -171.2435\n",
       "4 side_mod           5 351.3186 3.409336   0.18183271 0.09729752 -170.5638\n",
       "5 tsm_mod            5 351.8240 3.914730   0.14123006 0.07557130 -170.8164\n",
       "3 solution_mod       5 352.0304 4.121136   0.12738158 0.06816107 -170.9196\n",
       "6 solution_time_mod 10 352.7018 4.792516   0.09105805 0.04872458 -165.9949\n",
       "7 max_mod           11 353.2654 5.356114   0.06869649 0.03675905 -165.2041\n",
       "  Cum.Wt   \n",
       "2 0.5350936\n",
       "1 0.6734865\n",
       "4 0.7707840\n",
       "5 0.8463553\n",
       "3 0.9145164\n",
       "6 0.9632409\n",
       "7 1.0000000"
      ]
     },
     "metadata": {},
     "output_type": "display_data"
    },
    {
     "data": {
      "text/html": [
       "<dl>\n",
       "\t<dt>$method</dt>\n",
       "\t\t<dd>'raw'</dd>\n",
       "\t<dt>$level</dt>\n",
       "\t\t<dd>0.95</dd>\n",
       "\t<dt>$table</dt>\n",
       "\t\t<dd><table class=\"dataframe\">\n",
       "<caption>A aictab: 6 × 8</caption>\n",
       "<thead>\n",
       "\t<tr><th></th><th scope=col>Modnames</th><th scope=col>K</th><th scope=col>AICc</th><th scope=col>Delta_AICc</th><th scope=col>ModelLik</th><th scope=col>AICcWt</th><th scope=col>LL</th><th scope=col>Cum.Wt</th></tr>\n",
       "\t<tr><th></th><th scope=col>&lt;chr&gt;</th><th scope=col>&lt;dbl&gt;</th><th scope=col>&lt;dbl&gt;</th><th scope=col>&lt;dbl&gt;</th><th scope=col>&lt;dbl&gt;</th><th scope=col>&lt;dbl&gt;</th><th scope=col>&lt;dbl&gt;</th><th scope=col>&lt;dbl&gt;</th></tr>\n",
       "</thead>\n",
       "<tbody>\n",
       "\t<tr><th scope=row>2</th><td>visit_mod        </td><td> 7</td><td>347.9092</td><td>0.000000</td><td>1.00000000</td><td>0.53509357</td><td>-166.7751</td><td>0.5350936</td></tr>\n",
       "\t<tr><th scope=row>1</th><td>null_mod         </td><td> 4</td><td>350.6139</td><td>2.704690</td><td>0.25863311</td><td>0.13839291</td><td>-171.2435</td><td>0.6734865</td></tr>\n",
       "\t<tr><th scope=row>4</th><td>side_mod         </td><td> 5</td><td>351.3186</td><td>3.409336</td><td>0.18183271</td><td>0.09729752</td><td>-170.5638</td><td>0.7707840</td></tr>\n",
       "\t<tr><th scope=row>5</th><td>tsm_mod          </td><td> 5</td><td>351.8240</td><td>3.914730</td><td>0.14123006</td><td>0.07557130</td><td>-170.8164</td><td>0.8463553</td></tr>\n",
       "\t<tr><th scope=row>3</th><td>solution_mod     </td><td> 5</td><td>352.0304</td><td>4.121136</td><td>0.12738158</td><td>0.06816107</td><td>-170.9196</td><td>0.9145164</td></tr>\n",
       "\t<tr><th scope=row>6</th><td>solution_time_mod</td><td>10</td><td>352.7018</td><td>4.792516</td><td>0.09105805</td><td>0.04872458</td><td>-165.9949</td><td>0.9632409</td></tr>\n",
       "</tbody>\n",
       "</table>\n",
       "</dd>\n",
       "</dl>\n"
      ],
      "text/latex": [
       "\\begin{description}\n",
       "\\item[\\$method] 'raw'\n",
       "\\item[\\$level] 0.95\n",
       "\\item[\\$table] A aictab: 6 × 8\n",
       "\\begin{tabular}{r|llllllll}\n",
       "  & Modnames & K & AICc & Delta\\_AICc & ModelLik & AICcWt & LL & Cum.Wt\\\\\n",
       "  & <chr> & <dbl> & <dbl> & <dbl> & <dbl> & <dbl> & <dbl> & <dbl>\\\\\n",
       "\\hline\n",
       "\t2 & visit\\_mod         &  7 & 347.9092 & 0.000000 & 1.00000000 & 0.53509357 & -166.7751 & 0.5350936\\\\\n",
       "\t1 & null\\_mod          &  4 & 350.6139 & 2.704690 & 0.25863311 & 0.13839291 & -171.2435 & 0.6734865\\\\\n",
       "\t4 & side\\_mod          &  5 & 351.3186 & 3.409336 & 0.18183271 & 0.09729752 & -170.5638 & 0.7707840\\\\\n",
       "\t5 & tsm\\_mod           &  5 & 351.8240 & 3.914730 & 0.14123006 & 0.07557130 & -170.8164 & 0.8463553\\\\\n",
       "\t3 & solution\\_mod      &  5 & 352.0304 & 4.121136 & 0.12738158 & 0.06816107 & -170.9196 & 0.9145164\\\\\n",
       "\t6 & solution\\_time\\_mod & 10 & 352.7018 & 4.792516 & 0.09105805 & 0.04872458 & -165.9949 & 0.9632409\\\\\n",
       "\\end{tabular}\n",
       "\n",
       "\\end{description}\n"
      ],
      "text/markdown": [
       "$method\n",
       ":   'raw'\n",
       "$level\n",
       ":   0.95\n",
       "$table\n",
       ":   \n",
       "A aictab: 6 × 8\n",
       "\n",
       "| <!--/--> | Modnames &lt;chr&gt; | K &lt;dbl&gt; | AICc &lt;dbl&gt; | Delta_AICc &lt;dbl&gt; | ModelLik &lt;dbl&gt; | AICcWt &lt;dbl&gt; | LL &lt;dbl&gt; | Cum.Wt &lt;dbl&gt; |\n",
       "|---|---|---|---|---|---|---|---|---|\n",
       "| 2 | visit_mod         |  7 | 347.9092 | 0.000000 | 1.00000000 | 0.53509357 | -166.7751 | 0.5350936 |\n",
       "| 1 | null_mod          |  4 | 350.6139 | 2.704690 | 0.25863311 | 0.13839291 | -171.2435 | 0.6734865 |\n",
       "| 4 | side_mod          |  5 | 351.3186 | 3.409336 | 0.18183271 | 0.09729752 | -170.5638 | 0.7707840 |\n",
       "| 5 | tsm_mod           |  5 | 351.8240 | 3.914730 | 0.14123006 | 0.07557130 | -170.8164 | 0.8463553 |\n",
       "| 3 | solution_mod      |  5 | 352.0304 | 4.121136 | 0.12738158 | 0.06816107 | -170.9196 | 0.9145164 |\n",
       "| 6 | solution_time_mod | 10 | 352.7018 | 4.792516 | 0.09105805 | 0.04872458 | -165.9949 | 0.9632409 |\n",
       "\n",
       "\n",
       "\n",
       "\n"
      ],
      "text/plain": [
       "\n",
       "Confidence set for the best model\n",
       "\n",
       "Method:\t raw sum of model probabilities\n",
       "\n",
       "95% confidence set:\n",
       "                   K   AICc Delta_AICc AICcWt\n",
       "visit_mod          7 347.91       0.00   0.54\n",
       "null_mod           4 350.61       2.70   0.14\n",
       "side_mod           5 351.32       3.41   0.10\n",
       "tsm_mod            5 351.82       3.91   0.08\n",
       "solution_mod       5 352.03       4.12   0.07\n",
       "solution_time_mod 10 352.70       4.79   0.05\n",
       "\n",
       "Model probabilities sum to 0.96 \n"
      ]
     },
     "metadata": {},
     "output_type": "display_data"
    }
   ],
   "source": [
    "cand_models = list(\"null_mod\" = null_mod, \n",
    "                   \"visit_mod\" = visit_mod,\n",
    "                   \"solution_mod\" = solution_mod,\n",
    "                   \"side_mod\" = side_mod,\n",
    "                   \"tsm_mod\" = tsm_mod,\n",
    "                   \"solution_time_mod\" = solution_time_mod,\n",
    "                   \"max_mod\" = max_mod)\n",
    "\n",
    "aictab(cand_models)\n",
    "confset(cand.set = cand_models) # Remove models that explain the last 0.05 Cum.Wt"
   ]
  },
  {
   "cell_type": "markdown",
   "id": "8bbc4ed3",
   "metadata": {},
   "source": [
    "**The visit_mod explains 54% of the total variance explained by all of the models tested.**"
   ]
  },
  {
   "cell_type": "code",
   "execution_count": 16,
   "id": "de24bba9",
   "metadata": {
    "scrolled": true,
    "vscode": {
     "languageId": "r"
    }
   },
   "outputs": [
    {
     "data": {
      "text/html": [
       "<dl>\n",
       "\t<dt>$Model.high</dt>\n",
       "\t\t<dd>'visit_mod'</dd>\n",
       "\t<dt>$Model.low</dt>\n",
       "\t\t<dd>'null_mod'</dd>\n",
       "\t<dt>$Ev.ratio</dt>\n",
       "\t\t<dd>3.8664810340849</dd>\n",
       "</dl>\n"
      ],
      "text/latex": [
       "\\begin{description}\n",
       "\\item[\\$Model.high] 'visit\\_mod'\n",
       "\\item[\\$Model.low] 'null\\_mod'\n",
       "\\item[\\$Ev.ratio] 3.8664810340849\n",
       "\\end{description}\n"
      ],
      "text/markdown": [
       "$Model.high\n",
       ":   'visit_mod'\n",
       "$Model.low\n",
       ":   'null_mod'\n",
       "$Ev.ratio\n",
       ":   3.8664810340849\n",
       "\n",
       "\n"
      ],
      "text/plain": [
       "\n",
       "Evidence ratio between models 'visit_mod' and 'null_mod':\n",
       "3.87 \n"
      ]
     },
     "metadata": {},
     "output_type": "display_data"
    }
   ],
   "source": [
    "evidence(aic.table = aictab(cand_models))"
   ]
  },
  {
   "cell_type": "markdown",
   "id": "8f498389",
   "metadata": {},
   "source": [
    "The visit model is 4 times more parsimonious than the next \"best\" model (null_mod)."
   ]
  },
  {
   "cell_type": "code",
   "execution_count": 17,
   "id": "83fe2071",
   "metadata": {
    "scrolled": false,
    "vscode": {
     "languageId": "r"
    }
   },
   "outputs": [
    {
     "data": {
      "image/png": "[encoded data removed]",
      "text/plain": [
       "Plot with title “”"
      ]
     },
     "metadata": {
      "image/png": {
       "height": 420,
       "width": 420
      }
     },
     "output_type": "display_data"
    }
   ],
   "source": [
    "plot(ELP$Reward_Side, ELP$Final_Binary)"
   ]
  },
  {
   "cell_type": "code",
   "execution_count": 18,
   "id": "f5bc6fa7",
   "metadata": {
    "vscode": {
     "languageId": "r"
    }
   },
   "outputs": [
    {
     "data": {
      "image/png": "[encoded data removed]",
      "text/plain": [
       "Plot with title “”"
      ]
     },
     "metadata": {
      "image/png": {
       "height": 420,
       "width": 420
      }
     },
     "output_type": "display_data"
    }
   ],
   "source": [
    "plot(ELP$Visit, ELP$Final_Binary)"
   ]
  },
  {
   "cell_type": "markdown",
   "id": "bca19c16",
   "metadata": {},
   "source": [
    "## Initial Conclusions\n",
    "- Consecutive visits seems to increase the number of ants choosing the reward side.\n",
    "- There seems to be a very slight side bias towards the Left.\n",
    "\n",
    "## Brain lateralisation VS Visual Cues\n",
    "**This setup had the wall on the Left!**"
   ]
  },
  {
   "cell_type": "markdown",
   "id": "bc44157e",
   "metadata": {},
   "source": [
    "## Model averaging"
   ]
  },
  {
   "cell_type": "code",
   "execution_count": 19,
   "id": "9401138f",
   "metadata": {
    "vscode": {
     "languageId": "r"
    }
   },
   "outputs": [
    {
     "data": {
      "text/html": [
       "<dl>\n",
       "\t<dt>$method</dt>\n",
       "\t\t<dd>'raw'</dd>\n",
       "\t<dt>$level</dt>\n",
       "\t\t<dd>0.95</dd>\n",
       "\t<dt>$table</dt>\n",
       "\t\t<dd><table class=\"dataframe\">\n",
       "<caption>A aictab: 6 × 8</caption>\n",
       "<thead>\n",
       "\t<tr><th></th><th scope=col>Modnames</th><th scope=col>K</th><th scope=col>AICc</th><th scope=col>Delta_AICc</th><th scope=col>ModelLik</th><th scope=col>AICcWt</th><th scope=col>LL</th><th scope=col>Cum.Wt</th></tr>\n",
       "\t<tr><th></th><th scope=col>&lt;chr&gt;</th><th scope=col>&lt;dbl&gt;</th><th scope=col>&lt;dbl&gt;</th><th scope=col>&lt;dbl&gt;</th><th scope=col>&lt;dbl&gt;</th><th scope=col>&lt;dbl&gt;</th><th scope=col>&lt;dbl&gt;</th><th scope=col>&lt;dbl&gt;</th></tr>\n",
       "</thead>\n",
       "<tbody>\n",
       "\t<tr><th scope=row>2</th><td>visit_mod        </td><td> 7</td><td>347.9092</td><td>0.000000</td><td>1.00000000</td><td>0.53509357</td><td>-166.7751</td><td>0.5350936</td></tr>\n",
       "\t<tr><th scope=row>1</th><td>null_mod         </td><td> 4</td><td>350.6139</td><td>2.704690</td><td>0.25863311</td><td>0.13839291</td><td>-171.2435</td><td>0.6734865</td></tr>\n",
       "\t<tr><th scope=row>4</th><td>side_mod         </td><td> 5</td><td>351.3186</td><td>3.409336</td><td>0.18183271</td><td>0.09729752</td><td>-170.5638</td><td>0.7707840</td></tr>\n",
       "\t<tr><th scope=row>5</th><td>tsm_mod          </td><td> 5</td><td>351.8240</td><td>3.914730</td><td>0.14123006</td><td>0.07557130</td><td>-170.8164</td><td>0.8463553</td></tr>\n",
       "\t<tr><th scope=row>3</th><td>solution_mod     </td><td> 5</td><td>352.0304</td><td>4.121136</td><td>0.12738158</td><td>0.06816107</td><td>-170.9196</td><td>0.9145164</td></tr>\n",
       "\t<tr><th scope=row>6</th><td>solution_time_mod</td><td>10</td><td>352.7018</td><td>4.792516</td><td>0.09105805</td><td>0.04872458</td><td>-165.9949</td><td>0.9632409</td></tr>\n",
       "</tbody>\n",
       "</table>\n",
       "</dd>\n",
       "</dl>\n"
      ],
      "text/latex": [
       "\\begin{description}\n",
       "\\item[\\$method] 'raw'\n",
       "\\item[\\$level] 0.95\n",
       "\\item[\\$table] A aictab: 6 × 8\n",
       "\\begin{tabular}{r|llllllll}\n",
       "  & Modnames & K & AICc & Delta\\_AICc & ModelLik & AICcWt & LL & Cum.Wt\\\\\n",
       "  & <chr> & <dbl> & <dbl> & <dbl> & <dbl> & <dbl> & <dbl> & <dbl>\\\\\n",
       "\\hline\n",
       "\t2 & visit\\_mod         &  7 & 347.9092 & 0.000000 & 1.00000000 & 0.53509357 & -166.7751 & 0.5350936\\\\\n",
       "\t1 & null\\_mod          &  4 & 350.6139 & 2.704690 & 0.25863311 & 0.13839291 & -171.2435 & 0.6734865\\\\\n",
       "\t4 & side\\_mod          &  5 & 351.3186 & 3.409336 & 0.18183271 & 0.09729752 & -170.5638 & 0.7707840\\\\\n",
       "\t5 & tsm\\_mod           &  5 & 351.8240 & 3.914730 & 0.14123006 & 0.07557130 & -170.8164 & 0.8463553\\\\\n",
       "\t3 & solution\\_mod      &  5 & 352.0304 & 4.121136 & 0.12738158 & 0.06816107 & -170.9196 & 0.9145164\\\\\n",
       "\t6 & solution\\_time\\_mod & 10 & 352.7018 & 4.792516 & 0.09105805 & 0.04872458 & -165.9949 & 0.9632409\\\\\n",
       "\\end{tabular}\n",
       "\n",
       "\\end{description}\n"
      ],
      "text/markdown": [
       "$method\n",
       ":   'raw'\n",
       "$level\n",
       ":   0.95\n",
       "$table\n",
       ":   \n",
       "A aictab: 6 × 8\n",
       "\n",
       "| <!--/--> | Modnames &lt;chr&gt; | K &lt;dbl&gt; | AICc &lt;dbl&gt; | Delta_AICc &lt;dbl&gt; | ModelLik &lt;dbl&gt; | AICcWt &lt;dbl&gt; | LL &lt;dbl&gt; | Cum.Wt &lt;dbl&gt; |\n",
       "|---|---|---|---|---|---|---|---|---|\n",
       "| 2 | visit_mod         |  7 | 347.9092 | 0.000000 | 1.00000000 | 0.53509357 | -166.7751 | 0.5350936 |\n",
       "| 1 | null_mod          |  4 | 350.6139 | 2.704690 | 0.25863311 | 0.13839291 | -171.2435 | 0.6734865 |\n",
       "| 4 | side_mod          |  5 | 351.3186 | 3.409336 | 0.18183271 | 0.09729752 | -170.5638 | 0.7707840 |\n",
       "| 5 | tsm_mod           |  5 | 351.8240 | 3.914730 | 0.14123006 | 0.07557130 | -170.8164 | 0.8463553 |\n",
       "| 3 | solution_mod      |  5 | 352.0304 | 4.121136 | 0.12738158 | 0.06816107 | -170.9196 | 0.9145164 |\n",
       "| 6 | solution_time_mod | 10 | 352.7018 | 4.792516 | 0.09105805 | 0.04872458 | -165.9949 | 0.9632409 |\n",
       "\n",
       "\n",
       "\n",
       "\n"
      ],
      "text/plain": [
       "\n",
       "Confidence set for the best model\n",
       "\n",
       "Method:\t raw sum of model probabilities\n",
       "\n",
       "95% confidence set:\n",
       "                   K   AICc Delta_AICc AICcWt\n",
       "visit_mod          7 347.91       0.00   0.54\n",
       "null_mod           4 350.61       2.70   0.14\n",
       "side_mod           5 351.32       3.41   0.10\n",
       "tsm_mod            5 351.82       3.91   0.08\n",
       "solution_mod       5 352.03       4.12   0.07\n",
       "solution_time_mod 10 352.70       4.79   0.05\n",
       "\n",
       "Model probabilities sum to 0.96 \n"
      ]
     },
     "metadata": {},
     "output_type": "display_data"
    }
   ],
   "source": [
    "confset(cand.set = cand_models) # Remove models that explain the last 0.05 Cum.Wt"
   ]
  },
  {
   "cell_type": "markdown",
   "id": "09b05465",
   "metadata": {},
   "source": [
    "There is no clearly better model!"
   ]
  },
  {
   "cell_type": "code",
   "execution_count": 20,
   "id": "7a07059d",
   "metadata": {
    "scrolled": true,
    "vscode": {
     "languageId": "r"
    }
   },
   "outputs": [
    {
     "name": "stderr",
     "output_type": "stream",
     "text": [
      "Warning message in modavgShrink.AICglmerMod(top_models, parm = \"(Intercept)\"):\n",
      "“\n",
      "Variables do not appear with same frequency across models, proceed with caution\n",
      "”\n"
     ]
    },
    {
     "data": {
      "text/html": [
       "<dl>\n",
       "\t<dt>$Parameter</dt>\n",
       "\t\t<dd>'(Intercept)'</dd>\n",
       "\t<dt>$Mod.avg.table</dt>\n",
       "\t\t<dd><table class=\"dataframe\">\n",
       "<caption>A aictab: 6 × 9</caption>\n",
       "<thead>\n",
       "\t<tr><th scope=col>Modnames</th><th scope=col>K</th><th scope=col>AICc</th><th scope=col>Delta_AICc</th><th scope=col>ModelLik</th><th scope=col>AICcWt</th><th scope=col>LL</th><th scope=col>Beta_est</th><th scope=col>SE</th></tr>\n",
       "\t<tr><th scope=col>&lt;chr&gt;</th><th scope=col>&lt;dbl&gt;</th><th scope=col>&lt;dbl&gt;</th><th scope=col>&lt;dbl&gt;</th><th scope=col>&lt;dbl&gt;</th><th scope=col>&lt;dbl&gt;</th><th scope=col>&lt;dbl&gt;</th><th scope=col>&lt;dbl&gt;</th><th scope=col>&lt;dbl&gt;</th></tr>\n",
       "</thead>\n",
       "<tbody>\n",
       "\t<tr><td>visit_mod        </td><td> 7</td><td>347.9092</td><td>0.000000</td><td>1.00000000</td><td>0.55551373</td><td>-166.7751</td><td>0.7091232</td><td>0.3776362</td></tr>\n",
       "\t<tr><td>null_mod         </td><td> 4</td><td>350.6139</td><td>2.704690</td><td>0.25863311</td><td>0.14367424</td><td>-171.2435</td><td>1.2348551</td><td>0.3036155</td></tr>\n",
       "\t<tr><td>side_mod         </td><td> 5</td><td>351.3186</td><td>3.409336</td><td>0.18183271</td><td>0.10101057</td><td>-170.5638</td><td>1.4605211</td><td>0.3667146</td></tr>\n",
       "\t<tr><td>tsm_mod          </td><td> 5</td><td>351.8240</td><td>3.914730</td><td>0.14123006</td><td>0.07845524</td><td>-170.8164</td><td>1.3880371</td><td>0.3482525</td></tr>\n",
       "\t<tr><td>solution_mod     </td><td> 5</td><td>352.0304</td><td>4.121136</td><td>0.12738158</td><td>0.07076222</td><td>-170.9196</td><td>1.3881811</td><td>0.3533792</td></tr>\n",
       "\t<tr><td>solution_time_mod</td><td>10</td><td>352.7018</td><td>4.792516</td><td>0.09105805</td><td>0.05058400</td><td>-165.9949</td><td>1.0720992</td><td>0.4933141</td></tr>\n",
       "</tbody>\n",
       "</table>\n",
       "</dd>\n",
       "\t<dt>$Mod.avg.beta</dt>\n",
       "\t\t<dd>0.980233251165893</dd>\n",
       "\t<dt>$Uncond.SE</dt>\n",
       "\t\t<dd>0.485188437498338</dd>\n",
       "\t<dt>$Conf.level</dt>\n",
       "\t\t<dd>0.95</dd>\n",
       "\t<dt>$Lower.CL</dt>\n",
       "\t\t<dd>0.0292813879538888</dd>\n",
       "\t<dt>$Upper.CL</dt>\n",
       "\t\t<dd>1.9311851143779</dd>\n",
       "</dl>\n"
      ],
      "text/latex": [
       "\\begin{description}\n",
       "\\item[\\$Parameter] '(Intercept)'\n",
       "\\item[\\$Mod.avg.table] A aictab: 6 × 9\n",
       "\\begin{tabular}{lllllllll}\n",
       " Modnames & K & AICc & Delta\\_AICc & ModelLik & AICcWt & LL & Beta\\_est & SE\\\\\n",
       " <chr> & <dbl> & <dbl> & <dbl> & <dbl> & <dbl> & <dbl> & <dbl> & <dbl>\\\\\n",
       "\\hline\n",
       "\t visit\\_mod         &  7 & 347.9092 & 0.000000 & 1.00000000 & 0.55551373 & -166.7751 & 0.7091232 & 0.3776362\\\\\n",
       "\t null\\_mod          &  4 & 350.6139 & 2.704690 & 0.25863311 & 0.14367424 & -171.2435 & 1.2348551 & 0.3036155\\\\\n",
       "\t side\\_mod          &  5 & 351.3186 & 3.409336 & 0.18183271 & 0.10101057 & -170.5638 & 1.4605211 & 0.3667146\\\\\n",
       "\t tsm\\_mod           &  5 & 351.8240 & 3.914730 & 0.14123006 & 0.07845524 & -170.8164 & 1.3880371 & 0.3482525\\\\\n",
       "\t solution\\_mod      &  5 & 352.0304 & 4.121136 & 0.12738158 & 0.07076222 & -170.9196 & 1.3881811 & 0.3533792\\\\\n",
       "\t solution\\_time\\_mod & 10 & 352.7018 & 4.792516 & 0.09105805 & 0.05058400 & -165.9949 & 1.0720992 & 0.4933141\\\\\n",
       "\\end{tabular}\n",
       "\n",
       "\\item[\\$Mod.avg.beta] 0.980233251165893\n",
       "\\item[\\$Uncond.SE] 0.485188437498338\n",
       "\\item[\\$Conf.level] 0.95\n",
       "\\item[\\$Lower.CL] 0.0292813879538888\n",
       "\\item[\\$Upper.CL] 1.9311851143779\n",
       "\\end{description}\n"
      ],
      "text/markdown": [
       "$Parameter\n",
       ":   '(Intercept)'\n",
       "$Mod.avg.table\n",
       ":   \n",
       "A aictab: 6 × 9\n",
       "\n",
       "| Modnames &lt;chr&gt; | K &lt;dbl&gt; | AICc &lt;dbl&gt; | Delta_AICc &lt;dbl&gt; | ModelLik &lt;dbl&gt; | AICcWt &lt;dbl&gt; | LL &lt;dbl&gt; | Beta_est &lt;dbl&gt; | SE &lt;dbl&gt; |\n",
       "|---|---|---|---|---|---|---|---|---|\n",
       "| visit_mod         |  7 | 347.9092 | 0.000000 | 1.00000000 | 0.55551373 | -166.7751 | 0.7091232 | 0.3776362 |\n",
       "| null_mod          |  4 | 350.6139 | 2.704690 | 0.25863311 | 0.14367424 | -171.2435 | 1.2348551 | 0.3036155 |\n",
       "| side_mod          |  5 | 351.3186 | 3.409336 | 0.18183271 | 0.10101057 | -170.5638 | 1.4605211 | 0.3667146 |\n",
       "| tsm_mod           |  5 | 351.8240 | 3.914730 | 0.14123006 | 0.07845524 | -170.8164 | 1.3880371 | 0.3482525 |\n",
       "| solution_mod      |  5 | 352.0304 | 4.121136 | 0.12738158 | 0.07076222 | -170.9196 | 1.3881811 | 0.3533792 |\n",
       "| solution_time_mod | 10 | 352.7018 | 4.792516 | 0.09105805 | 0.05058400 | -165.9949 | 1.0720992 | 0.4933141 |\n",
       "\n",
       "\n",
       "$Mod.avg.beta\n",
       ":   0.980233251165893\n",
       "$Uncond.SE\n",
       ":   0.485188437498338\n",
       "$Conf.level\n",
       ":   0.95\n",
       "$Lower.CL\n",
       ":   0.0292813879538888\n",
       "$Upper.CL\n",
       ":   1.9311851143779\n",
       "\n",
       "\n"
      ],
      "text/plain": [
       "\n",
       "Multimodel inference on \"(Intercept)\" based on AICc\n",
       "\n",
       "AICc table used to obtain model-averaged estimate with shrinkage:\n",
       "\n",
       "                   K   AICc Delta_AICc AICcWt Estimate   SE\n",
       "visit_mod          7 347.91       0.00   0.56     0.71 0.38\n",
       "null_mod           4 350.61       2.70   0.14     1.23 0.30\n",
       "side_mod           5 351.32       3.41   0.10     1.46 0.37\n",
       "tsm_mod            5 351.82       3.91   0.08     1.39 0.35\n",
       "solution_mod       5 352.03       4.12   0.07     1.39 0.35\n",
       "solution_time_mod 10 352.70       4.79   0.05     1.07 0.49\n",
       "\n",
       "Model-averaged estimate with shrinkage: 0.98 \n",
       "Unconditional SE: 0.49 \n",
       "95% Unconditional confidence interval: 0.03, 1.93\n"
      ]
     },
     "metadata": {},
     "output_type": "display_data"
    },
    {
     "data": {
      "text/html": [
       "<dl>\n",
       "\t<dt>$Parameter</dt>\n",
       "\t\t<dd>'SolutionDopamine'</dd>\n",
       "\t<dt>$Mod.avg.table</dt>\n",
       "\t\t<dd><table class=\"dataframe\">\n",
       "<caption>A aictab: 2 × 9</caption>\n",
       "<thead>\n",
       "\t<tr><th scope=col>Modnames</th><th scope=col>K</th><th scope=col>AICc</th><th scope=col>Delta_AICc</th><th scope=col>ModelLik</th><th scope=col>AICcWt</th><th scope=col>LL</th><th scope=col>Beta_est</th><th scope=col>SE</th></tr>\n",
       "\t<tr><th scope=col>&lt;chr&gt;</th><th scope=col>&lt;dbl&gt;</th><th scope=col>&lt;dbl&gt;</th><th scope=col>&lt;dbl&gt;</th><th scope=col>&lt;dbl&gt;</th><th scope=col>&lt;dbl&gt;</th><th scope=col>&lt;dbl&gt;</th><th scope=col>&lt;dbl&gt;</th><th scope=col>&lt;dbl&gt;</th></tr>\n",
       "</thead>\n",
       "<tbody>\n",
       "\t<tr><td>solution_mod     </td><td> 5</td><td>352.0304</td><td>0.0000000</td><td>1.0000000</td><td>0.5831432</td><td>-170.9196</td><td>-0.3010749</td><td>0.3669752</td></tr>\n",
       "\t<tr><td>solution_time_mod</td><td>10</td><td>352.7018</td><td>0.6713799</td><td>0.7148447</td><td>0.4168568</td><td>-165.9949</td><td>-0.3888641</td><td>0.5112429</td></tr>\n",
       "</tbody>\n",
       "</table>\n",
       "</dd>\n",
       "\t<dt>$Mod.avg.beta</dt>\n",
       "\t\t<dd>-0.337670441649871</dd>\n",
       "\t<dt>$Uncond.SE</dt>\n",
       "\t\t<dd>0.435154464638885</dd>\n",
       "\t<dt>$Conf.level</dt>\n",
       "\t\t<dd>0.95</dd>\n",
       "\t<dt>$Lower.CL</dt>\n",
       "\t\t<dd>-1.1905575200539</dd>\n",
       "\t<dt>$Upper.CL</dt>\n",
       "\t\t<dd>0.515216636754152</dd>\n",
       "</dl>\n"
      ],
      "text/latex": [
       "\\begin{description}\n",
       "\\item[\\$Parameter] 'SolutionDopamine'\n",
       "\\item[\\$Mod.avg.table] A aictab: 2 × 9\n",
       "\\begin{tabular}{lllllllll}\n",
       " Modnames & K & AICc & Delta\\_AICc & ModelLik & AICcWt & LL & Beta\\_est & SE\\\\\n",
       " <chr> & <dbl> & <dbl> & <dbl> & <dbl> & <dbl> & <dbl> & <dbl> & <dbl>\\\\\n",
       "\\hline\n",
       "\t solution\\_mod      &  5 & 352.0304 & 0.0000000 & 1.0000000 & 0.5831432 & -170.9196 & -0.3010749 & 0.3669752\\\\\n",
       "\t solution\\_time\\_mod & 10 & 352.7018 & 0.6713799 & 0.7148447 & 0.4168568 & -165.9949 & -0.3888641 & 0.5112429\\\\\n",
       "\\end{tabular}\n",
       "\n",
       "\\item[\\$Mod.avg.beta] -0.337670441649871\n",
       "\\item[\\$Uncond.SE] 0.435154464638885\n",
       "\\item[\\$Conf.level] 0.95\n",
       "\\item[\\$Lower.CL] -1.1905575200539\n",
       "\\item[\\$Upper.CL] 0.515216636754152\n",
       "\\end{description}\n"
      ],
      "text/markdown": [
       "$Parameter\n",
       ":   'SolutionDopamine'\n",
       "$Mod.avg.table\n",
       ":   \n",
       "A aictab: 2 × 9\n",
       "\n",
       "| Modnames &lt;chr&gt; | K &lt;dbl&gt; | AICc &lt;dbl&gt; | Delta_AICc &lt;dbl&gt; | ModelLik &lt;dbl&gt; | AICcWt &lt;dbl&gt; | LL &lt;dbl&gt; | Beta_est &lt;dbl&gt; | SE &lt;dbl&gt; |\n",
       "|---|---|---|---|---|---|---|---|---|\n",
       "| solution_mod      |  5 | 352.0304 | 0.0000000 | 1.0000000 | 0.5831432 | -170.9196 | -0.3010749 | 0.3669752 |\n",
       "| solution_time_mod | 10 | 352.7018 | 0.6713799 | 0.7148447 | 0.4168568 | -165.9949 | -0.3888641 | 0.5112429 |\n",
       "\n",
       "\n",
       "$Mod.avg.beta\n",
       ":   -0.337670441649871\n",
       "$Uncond.SE\n",
       ":   0.435154464638885\n",
       "$Conf.level\n",
       ":   0.95\n",
       "$Lower.CL\n",
       ":   -1.1905575200539\n",
       "$Upper.CL\n",
       ":   0.515216636754152\n",
       "\n",
       "\n"
      ],
      "text/plain": [
       "\n",
       "Multimodel inference on \"SolutionDopamine\" based on AICc\n",
       "\n",
       "AICc table used to obtain model-averaged estimate:\n",
       "\n",
       "                   K   AICc Delta_AICc AICcWt Estimate   SE\n",
       "solution_mod       5 352.03       0.00   0.58    -0.30 0.37\n",
       "solution_time_mod 10 352.70       0.67   0.42    -0.39 0.51\n",
       "\n",
       "Model-averaged estimate: -0.34 \n",
       "Unconditional SE: 0.44 \n",
       "95% Unconditional confidence interval: -1.19, 0.52\n"
      ]
     },
     "metadata": {},
     "output_type": "display_data"
    },
    {
     "name": "stderr",
     "output_type": "stream",
     "text": [
      "Warning message in modavgShrink.AICglmerMod(top_models, parm = \"Visit3\"):\n",
      "“\n",
      "Variables do not appear with same frequency across models, proceed with caution\n",
      "”\n"
     ]
    },
    {
     "data": {
      "text/html": [
       "<dl>\n",
       "\t<dt>$Parameter</dt>\n",
       "\t\t<dd>'Visit3'</dd>\n",
       "\t<dt>$Mod.avg.table</dt>\n",
       "\t\t<dd><table class=\"dataframe\">\n",
       "<caption>A aictab: 6 × 9</caption>\n",
       "<thead>\n",
       "\t<tr><th scope=col>Modnames</th><th scope=col>K</th><th scope=col>AICc</th><th scope=col>Delta_AICc</th><th scope=col>ModelLik</th><th scope=col>AICcWt</th><th scope=col>LL</th><th scope=col>Beta_est</th><th scope=col>SE</th></tr>\n",
       "\t<tr><th scope=col>&lt;chr&gt;</th><th scope=col>&lt;dbl&gt;</th><th scope=col>&lt;dbl&gt;</th><th scope=col>&lt;dbl&gt;</th><th scope=col>&lt;dbl&gt;</th><th scope=col>&lt;dbl&gt;</th><th scope=col>&lt;dbl&gt;</th><th scope=col>&lt;dbl&gt;</th><th scope=col>&lt;dbl&gt;</th></tr>\n",
       "</thead>\n",
       "<tbody>\n",
       "\t<tr><td>visit_mod        </td><td> 7</td><td>347.9092</td><td>0.000000</td><td>1.00000000</td><td>0.55551373</td><td>-166.7751</td><td>0.9397389</td><td>0.3993197</td></tr>\n",
       "\t<tr><td>null_mod         </td><td> 4</td><td>350.6139</td><td>2.704690</td><td>0.25863311</td><td>0.14367424</td><td>-171.2435</td><td>0.0000000</td><td>0.0000000</td></tr>\n",
       "\t<tr><td>side_mod         </td><td> 5</td><td>351.3186</td><td>3.409336</td><td>0.18183271</td><td>0.10101057</td><td>-170.5638</td><td>0.0000000</td><td>0.0000000</td></tr>\n",
       "\t<tr><td>tsm_mod          </td><td> 5</td><td>351.8240</td><td>3.914730</td><td>0.14123006</td><td>0.07845524</td><td>-170.8164</td><td>0.0000000</td><td>0.0000000</td></tr>\n",
       "\t<tr><td>solution_mod     </td><td> 5</td><td>352.0304</td><td>4.121136</td><td>0.12738158</td><td>0.07076222</td><td>-170.9196</td><td>0.0000000</td><td>0.0000000</td></tr>\n",
       "\t<tr><td>solution_time_mod</td><td>10</td><td>352.7018</td><td>4.792516</td><td>0.09105805</td><td>0.05058400</td><td>-165.9949</td><td>0.9388684</td><td>0.3997887</td></tr>\n",
       "</tbody>\n",
       "</table>\n",
       "</dd>\n",
       "\t<dt>$Mod.avg.beta</dt>\n",
       "\t\t<dd>0.56952960645211</dd>\n",
       "\t<dt>$Uncond.SE</dt>\n",
       "\t\t<dd>0.554498730778341</dd>\n",
       "\t<dt>$Conf.level</dt>\n",
       "\t\t<dd>0.95</dd>\n",
       "\t<dt>$Lower.CL</dt>\n",
       "\t\t<dd>-0.517267935346609</dd>\n",
       "\t<dt>$Upper.CL</dt>\n",
       "\t\t<dd>1.65632714825083</dd>\n",
       "</dl>\n"
      ],
      "text/latex": [
       "\\begin{description}\n",
       "\\item[\\$Parameter] 'Visit3'\n",
       "\\item[\\$Mod.avg.table] A aictab: 6 × 9\n",
       "\\begin{tabular}{lllllllll}\n",
       " Modnames & K & AICc & Delta\\_AICc & ModelLik & AICcWt & LL & Beta\\_est & SE\\\\\n",
       " <chr> & <dbl> & <dbl> & <dbl> & <dbl> & <dbl> & <dbl> & <dbl> & <dbl>\\\\\n",
       "\\hline\n",
       "\t visit\\_mod         &  7 & 347.9092 & 0.000000 & 1.00000000 & 0.55551373 & -166.7751 & 0.9397389 & 0.3993197\\\\\n",
       "\t null\\_mod          &  4 & 350.6139 & 2.704690 & 0.25863311 & 0.14367424 & -171.2435 & 0.0000000 & 0.0000000\\\\\n",
       "\t side\\_mod          &  5 & 351.3186 & 3.409336 & 0.18183271 & 0.10101057 & -170.5638 & 0.0000000 & 0.0000000\\\\\n",
       "\t tsm\\_mod           &  5 & 351.8240 & 3.914730 & 0.14123006 & 0.07845524 & -170.8164 & 0.0000000 & 0.0000000\\\\\n",
       "\t solution\\_mod      &  5 & 352.0304 & 4.121136 & 0.12738158 & 0.07076222 & -170.9196 & 0.0000000 & 0.0000000\\\\\n",
       "\t solution\\_time\\_mod & 10 & 352.7018 & 4.792516 & 0.09105805 & 0.05058400 & -165.9949 & 0.9388684 & 0.3997887\\\\\n",
       "\\end{tabular}\n",
       "\n",
       "\\item[\\$Mod.avg.beta] 0.56952960645211\n",
       "\\item[\\$Uncond.SE] 0.554498730778341\n",
       "\\item[\\$Conf.level] 0.95\n",
       "\\item[\\$Lower.CL] -0.517267935346609\n",
       "\\item[\\$Upper.CL] 1.65632714825083\n",
       "\\end{description}\n"
      ],
      "text/markdown": [
       "$Parameter\n",
       ":   'Visit3'\n",
       "$Mod.avg.table\n",
       ":   \n",
       "A aictab: 6 × 9\n",
       "\n",
       "| Modnames &lt;chr&gt; | K &lt;dbl&gt; | AICc &lt;dbl&gt; | Delta_AICc &lt;dbl&gt; | ModelLik &lt;dbl&gt; | AICcWt &lt;dbl&gt; | LL &lt;dbl&gt; | Beta_est &lt;dbl&gt; | SE &lt;dbl&gt; |\n",
       "|---|---|---|---|---|---|---|---|---|\n",
       "| visit_mod         |  7 | 347.9092 | 0.000000 | 1.00000000 | 0.55551373 | -166.7751 | 0.9397389 | 0.3993197 |\n",
       "| null_mod          |  4 | 350.6139 | 2.704690 | 0.25863311 | 0.14367424 | -171.2435 | 0.0000000 | 0.0000000 |\n",
       "| side_mod          |  5 | 351.3186 | 3.409336 | 0.18183271 | 0.10101057 | -170.5638 | 0.0000000 | 0.0000000 |\n",
       "| tsm_mod           |  5 | 351.8240 | 3.914730 | 0.14123006 | 0.07845524 | -170.8164 | 0.0000000 | 0.0000000 |\n",
       "| solution_mod      |  5 | 352.0304 | 4.121136 | 0.12738158 | 0.07076222 | -170.9196 | 0.0000000 | 0.0000000 |\n",
       "| solution_time_mod | 10 | 352.7018 | 4.792516 | 0.09105805 | 0.05058400 | -165.9949 | 0.9388684 | 0.3997887 |\n",
       "\n",
       "\n",
       "$Mod.avg.beta\n",
       ":   0.56952960645211\n",
       "$Uncond.SE\n",
       ":   0.554498730778341\n",
       "$Conf.level\n",
       ":   0.95\n",
       "$Lower.CL\n",
       ":   -0.517267935346609\n",
       "$Upper.CL\n",
       ":   1.65632714825083\n",
       "\n",
       "\n"
      ],
      "text/plain": [
       "\n",
       "Multimodel inference on \"Visit3\" based on AICc\n",
       "\n",
       "AICc table used to obtain model-averaged estimate with shrinkage:\n",
       "\n",
       "                   K   AICc Delta_AICc AICcWt Estimate  SE\n",
       "visit_mod          7 347.91       0.00   0.56     0.94 0.4\n",
       "null_mod           4 350.61       2.70   0.14     0.00 0.0\n",
       "side_mod           5 351.32       3.41   0.10     0.00 0.0\n",
       "tsm_mod            5 351.82       3.91   0.08     0.00 0.0\n",
       "solution_mod       5 352.03       4.12   0.07     0.00 0.0\n",
       "solution_time_mod 10 352.70       4.79   0.05     0.94 0.4\n",
       "\n",
       "Model-averaged estimate with shrinkage: 0.57 \n",
       "Unconditional SE: 0.55 \n",
       "95% Unconditional confidence interval: -0.52, 1.66\n"
      ]
     },
     "metadata": {},
     "output_type": "display_data"
    },
    {
     "name": "stderr",
     "output_type": "stream",
     "text": [
      "Warning message in modavgShrink.AICglmerMod(top_models, parm = \"Visit4\"):\n",
      "“\n",
      "Variables do not appear with same frequency across models, proceed with caution\n",
      "”\n"
     ]
    },
    {
     "data": {
      "text/html": [
       "<dl>\n",
       "\t<dt>$Parameter</dt>\n",
       "\t\t<dd>'Visit4'</dd>\n",
       "\t<dt>$Mod.avg.table</dt>\n",
       "\t\t<dd><table class=\"dataframe\">\n",
       "<caption>A aictab: 6 × 9</caption>\n",
       "<thead>\n",
       "\t<tr><th scope=col>Modnames</th><th scope=col>K</th><th scope=col>AICc</th><th scope=col>Delta_AICc</th><th scope=col>ModelLik</th><th scope=col>AICcWt</th><th scope=col>LL</th><th scope=col>Beta_est</th><th scope=col>SE</th></tr>\n",
       "\t<tr><th scope=col>&lt;chr&gt;</th><th scope=col>&lt;dbl&gt;</th><th scope=col>&lt;dbl&gt;</th><th scope=col>&lt;dbl&gt;</th><th scope=col>&lt;dbl&gt;</th><th scope=col>&lt;dbl&gt;</th><th scope=col>&lt;dbl&gt;</th><th scope=col>&lt;dbl&gt;</th><th scope=col>&lt;dbl&gt;</th></tr>\n",
       "</thead>\n",
       "<tbody>\n",
       "\t<tr><td>visit_mod        </td><td> 7</td><td>347.9092</td><td>0.000000</td><td>1.00000000</td><td>0.55551373</td><td>-166.7751</td><td>1.034866</td><td>0.4050669</td></tr>\n",
       "\t<tr><td>null_mod         </td><td> 4</td><td>350.6139</td><td>2.704690</td><td>0.25863311</td><td>0.14367424</td><td>-171.2435</td><td>0.000000</td><td>0.0000000</td></tr>\n",
       "\t<tr><td>side_mod         </td><td> 5</td><td>351.3186</td><td>3.409336</td><td>0.18183271</td><td>0.10101057</td><td>-170.5638</td><td>0.000000</td><td>0.0000000</td></tr>\n",
       "\t<tr><td>tsm_mod          </td><td> 5</td><td>351.8240</td><td>3.914730</td><td>0.14123006</td><td>0.07845524</td><td>-170.8164</td><td>0.000000</td><td>0.0000000</td></tr>\n",
       "\t<tr><td>solution_mod     </td><td> 5</td><td>352.0304</td><td>4.121136</td><td>0.12738158</td><td>0.07076222</td><td>-170.9196</td><td>0.000000</td><td>0.0000000</td></tr>\n",
       "\t<tr><td>solution_time_mod</td><td>10</td><td>352.7018</td><td>4.792516</td><td>0.09105805</td><td>0.05058400</td><td>-165.9949</td><td>1.033975</td><td>0.4055640</td></tr>\n",
       "</tbody>\n",
       "</table>\n",
       "</dd>\n",
       "\t<dt>$Mod.avg.beta</dt>\n",
       "\t\t<dd>0.627184754276163</dd>\n",
       "\t<dt>$Uncond.SE</dt>\n",
       "\t\t<dd>0.595913726892444</dd>\n",
       "\t<dt>$Conf.level</dt>\n",
       "\t\t<dd>0.95</dd>\n",
       "\t<dt>$Lower.CL</dt>\n",
       "\t\t<dd>-0.540784688326064</dd>\n",
       "\t<dt>$Upper.CL</dt>\n",
       "\t\t<dd>1.79515419687839</dd>\n",
       "</dl>\n"
      ],
      "text/latex": [
       "\\begin{description}\n",
       "\\item[\\$Parameter] 'Visit4'\n",
       "\\item[\\$Mod.avg.table] A aictab: 6 × 9\n",
       "\\begin{tabular}{lllllllll}\n",
       " Modnames & K & AICc & Delta\\_AICc & ModelLik & AICcWt & LL & Beta\\_est & SE\\\\\n",
       " <chr> & <dbl> & <dbl> & <dbl> & <dbl> & <dbl> & <dbl> & <dbl> & <dbl>\\\\\n",
       "\\hline\n",
       "\t visit\\_mod         &  7 & 347.9092 & 0.000000 & 1.00000000 & 0.55551373 & -166.7751 & 1.034866 & 0.4050669\\\\\n",
       "\t null\\_mod          &  4 & 350.6139 & 2.704690 & 0.25863311 & 0.14367424 & -171.2435 & 0.000000 & 0.0000000\\\\\n",
       "\t side\\_mod          &  5 & 351.3186 & 3.409336 & 0.18183271 & 0.10101057 & -170.5638 & 0.000000 & 0.0000000\\\\\n",
       "\t tsm\\_mod           &  5 & 351.8240 & 3.914730 & 0.14123006 & 0.07845524 & -170.8164 & 0.000000 & 0.0000000\\\\\n",
       "\t solution\\_mod      &  5 & 352.0304 & 4.121136 & 0.12738158 & 0.07076222 & -170.9196 & 0.000000 & 0.0000000\\\\\n",
       "\t solution\\_time\\_mod & 10 & 352.7018 & 4.792516 & 0.09105805 & 0.05058400 & -165.9949 & 1.033975 & 0.4055640\\\\\n",
       "\\end{tabular}\n",
       "\n",
       "\\item[\\$Mod.avg.beta] 0.627184754276163\n",
       "\\item[\\$Uncond.SE] 0.595913726892444\n",
       "\\item[\\$Conf.level] 0.95\n",
       "\\item[\\$Lower.CL] -0.540784688326064\n",
       "\\item[\\$Upper.CL] 1.79515419687839\n",
       "\\end{description}\n"
      ],
      "text/markdown": [
       "$Parameter\n",
       ":   'Visit4'\n",
       "$Mod.avg.table\n",
       ":   \n",
       "A aictab: 6 × 9\n",
       "\n",
       "| Modnames &lt;chr&gt; | K &lt;dbl&gt; | AICc &lt;dbl&gt; | Delta_AICc &lt;dbl&gt; | ModelLik &lt;dbl&gt; | AICcWt &lt;dbl&gt; | LL &lt;dbl&gt; | Beta_est &lt;dbl&gt; | SE &lt;dbl&gt; |\n",
       "|---|---|---|---|---|---|---|---|---|\n",
       "| visit_mod         |  7 | 347.9092 | 0.000000 | 1.00000000 | 0.55551373 | -166.7751 | 1.034866 | 0.4050669 |\n",
       "| null_mod          |  4 | 350.6139 | 2.704690 | 0.25863311 | 0.14367424 | -171.2435 | 0.000000 | 0.0000000 |\n",
       "| side_mod          |  5 | 351.3186 | 3.409336 | 0.18183271 | 0.10101057 | -170.5638 | 0.000000 | 0.0000000 |\n",
       "| tsm_mod           |  5 | 351.8240 | 3.914730 | 0.14123006 | 0.07845524 | -170.8164 | 0.000000 | 0.0000000 |\n",
       "| solution_mod      |  5 | 352.0304 | 4.121136 | 0.12738158 | 0.07076222 | -170.9196 | 0.000000 | 0.0000000 |\n",
       "| solution_time_mod | 10 | 352.7018 | 4.792516 | 0.09105805 | 0.05058400 | -165.9949 | 1.033975 | 0.4055640 |\n",
       "\n",
       "\n",
       "$Mod.avg.beta\n",
       ":   0.627184754276163\n",
       "$Uncond.SE\n",
       ":   0.595913726892444\n",
       "$Conf.level\n",
       ":   0.95\n",
       "$Lower.CL\n",
       ":   -0.540784688326064\n",
       "$Upper.CL\n",
       ":   1.79515419687839\n",
       "\n",
       "\n"
      ],
      "text/plain": [
       "\n",
       "Multimodel inference on \"Visit4\" based on AICc\n",
       "\n",
       "AICc table used to obtain model-averaged estimate with shrinkage:\n",
       "\n",
       "                   K   AICc Delta_AICc AICcWt Estimate   SE\n",
       "visit_mod          7 347.91       0.00   0.56     1.03 0.41\n",
       "null_mod           4 350.61       2.70   0.14     0.00 0.00\n",
       "side_mod           5 351.32       3.41   0.10     0.00 0.00\n",
       "tsm_mod            5 351.82       3.91   0.08     0.00 0.00\n",
       "solution_mod       5 352.03       4.12   0.07     0.00 0.00\n",
       "solution_time_mod 10 352.70       4.79   0.05     1.03 0.41\n",
       "\n",
       "Model-averaged estimate with shrinkage: 0.63 \n",
       "Unconditional SE: 0.6 \n",
       "95% Unconditional confidence interval: -0.54, 1.8\n"
      ]
     },
     "metadata": {},
     "output_type": "display_data"
    },
    {
     "name": "stderr",
     "output_type": "stream",
     "text": [
      "Warning message in modavgShrink.AICglmerMod(top_models, parm = \"Visit5\"):\n",
      "“\n",
      "Variables do not appear with same frequency across models, proceed with caution\n",
      "”\n"
     ]
    },
    {
     "data": {
      "text/html": [
       "<dl>\n",
       "\t<dt>$Parameter</dt>\n",
       "\t\t<dd>'Visit5'</dd>\n",
       "\t<dt>$Mod.avg.table</dt>\n",
       "\t\t<dd><table class=\"dataframe\">\n",
       "<caption>A aictab: 6 × 9</caption>\n",
       "<thead>\n",
       "\t<tr><th scope=col>Modnames</th><th scope=col>K</th><th scope=col>AICc</th><th scope=col>Delta_AICc</th><th scope=col>ModelLik</th><th scope=col>AICcWt</th><th scope=col>LL</th><th scope=col>Beta_est</th><th scope=col>SE</th></tr>\n",
       "\t<tr><th scope=col>&lt;chr&gt;</th><th scope=col>&lt;dbl&gt;</th><th scope=col>&lt;dbl&gt;</th><th scope=col>&lt;dbl&gt;</th><th scope=col>&lt;dbl&gt;</th><th scope=col>&lt;dbl&gt;</th><th scope=col>&lt;dbl&gt;</th><th scope=col>&lt;dbl&gt;</th><th scope=col>&lt;dbl&gt;</th></tr>\n",
       "</thead>\n",
       "<tbody>\n",
       "\t<tr><td>visit_mod        </td><td> 7</td><td>347.9092</td><td>0.000000</td><td>1.00000000</td><td>0.55551373</td><td>-166.7751</td><td>0.3588379</td><td>0.3732810</td></tr>\n",
       "\t<tr><td>null_mod         </td><td> 4</td><td>350.6139</td><td>2.704690</td><td>0.25863311</td><td>0.14367424</td><td>-171.2435</td><td>0.0000000</td><td>0.0000000</td></tr>\n",
       "\t<tr><td>side_mod         </td><td> 5</td><td>351.3186</td><td>3.409336</td><td>0.18183271</td><td>0.10101057</td><td>-170.5638</td><td>0.0000000</td><td>0.0000000</td></tr>\n",
       "\t<tr><td>tsm_mod          </td><td> 5</td><td>351.8240</td><td>3.914730</td><td>0.14123006</td><td>0.07845524</td><td>-170.8164</td><td>0.0000000</td><td>0.0000000</td></tr>\n",
       "\t<tr><td>solution_mod     </td><td> 5</td><td>352.0304</td><td>4.121136</td><td>0.12738158</td><td>0.07076222</td><td>-170.9196</td><td>0.0000000</td><td>0.0000000</td></tr>\n",
       "\t<tr><td>solution_time_mod</td><td>10</td><td>352.7018</td><td>4.792516</td><td>0.09105805</td><td>0.05058400</td><td>-165.9949</td><td>0.3583650</td><td>0.3736063</td></tr>\n",
       "</tbody>\n",
       "</table>\n",
       "</dd>\n",
       "\t<dt>$Mod.avg.beta</dt>\n",
       "\t\t<dd>0.217466943368495</dd>\n",
       "\t<dt>$Uncond.SE</dt>\n",
       "\t\t<dd>0.339411394438295</dd>\n",
       "\t<dt>$Conf.level</dt>\n",
       "\t\t<dd>0.95</dd>\n",
       "\t<dt>$Lower.CL</dt>\n",
       "\t\t<dd>-0.447767165673081</dd>\n",
       "\t<dt>$Upper.CL</dt>\n",
       "\t\t<dd>0.882701052410071</dd>\n",
       "</dl>\n"
      ],
      "text/latex": [
       "\\begin{description}\n",
       "\\item[\\$Parameter] 'Visit5'\n",
       "\\item[\\$Mod.avg.table] A aictab: 6 × 9\n",
       "\\begin{tabular}{lllllllll}\n",
       " Modnames & K & AICc & Delta\\_AICc & ModelLik & AICcWt & LL & Beta\\_est & SE\\\\\n",
       " <chr> & <dbl> & <dbl> & <dbl> & <dbl> & <dbl> & <dbl> & <dbl> & <dbl>\\\\\n",
       "\\hline\n",
       "\t visit\\_mod         &  7 & 347.9092 & 0.000000 & 1.00000000 & 0.55551373 & -166.7751 & 0.3588379 & 0.3732810\\\\\n",
       "\t null\\_mod          &  4 & 350.6139 & 2.704690 & 0.25863311 & 0.14367424 & -171.2435 & 0.0000000 & 0.0000000\\\\\n",
       "\t side\\_mod          &  5 & 351.3186 & 3.409336 & 0.18183271 & 0.10101057 & -170.5638 & 0.0000000 & 0.0000000\\\\\n",
       "\t tsm\\_mod           &  5 & 351.8240 & 3.914730 & 0.14123006 & 0.07845524 & -170.8164 & 0.0000000 & 0.0000000\\\\\n",
       "\t solution\\_mod      &  5 & 352.0304 & 4.121136 & 0.12738158 & 0.07076222 & -170.9196 & 0.0000000 & 0.0000000\\\\\n",
       "\t solution\\_time\\_mod & 10 & 352.7018 & 4.792516 & 0.09105805 & 0.05058400 & -165.9949 & 0.3583650 & 0.3736063\\\\\n",
       "\\end{tabular}\n",
       "\n",
       "\\item[\\$Mod.avg.beta] 0.217466943368495\n",
       "\\item[\\$Uncond.SE] 0.339411394438295\n",
       "\\item[\\$Conf.level] 0.95\n",
       "\\item[\\$Lower.CL] -0.447767165673081\n",
       "\\item[\\$Upper.CL] 0.882701052410071\n",
       "\\end{description}\n"
      ],
      "text/markdown": [
       "$Parameter\n",
       ":   'Visit5'\n",
       "$Mod.avg.table\n",
       ":   \n",
       "A aictab: 6 × 9\n",
       "\n",
       "| Modnames &lt;chr&gt; | K &lt;dbl&gt; | AICc &lt;dbl&gt; | Delta_AICc &lt;dbl&gt; | ModelLik &lt;dbl&gt; | AICcWt &lt;dbl&gt; | LL &lt;dbl&gt; | Beta_est &lt;dbl&gt; | SE &lt;dbl&gt; |\n",
       "|---|---|---|---|---|---|---|---|---|\n",
       "| visit_mod         |  7 | 347.9092 | 0.000000 | 1.00000000 | 0.55551373 | -166.7751 | 0.3588379 | 0.3732810 |\n",
       "| null_mod          |  4 | 350.6139 | 2.704690 | 0.25863311 | 0.14367424 | -171.2435 | 0.0000000 | 0.0000000 |\n",
       "| side_mod          |  5 | 351.3186 | 3.409336 | 0.18183271 | 0.10101057 | -170.5638 | 0.0000000 | 0.0000000 |\n",
       "| tsm_mod           |  5 | 351.8240 | 3.914730 | 0.14123006 | 0.07845524 | -170.8164 | 0.0000000 | 0.0000000 |\n",
       "| solution_mod      |  5 | 352.0304 | 4.121136 | 0.12738158 | 0.07076222 | -170.9196 | 0.0000000 | 0.0000000 |\n",
       "| solution_time_mod | 10 | 352.7018 | 4.792516 | 0.09105805 | 0.05058400 | -165.9949 | 0.3583650 | 0.3736063 |\n",
       "\n",
       "\n",
       "$Mod.avg.beta\n",
       ":   0.217466943368495\n",
       "$Uncond.SE\n",
       ":   0.339411394438295\n",
       "$Conf.level\n",
       ":   0.95\n",
       "$Lower.CL\n",
       ":   -0.447767165673081\n",
       "$Upper.CL\n",
       ":   0.882701052410071\n",
       "\n",
       "\n"
      ],
      "text/plain": [
       "\n",
       "Multimodel inference on \"Visit5\" based on AICc\n",
       "\n",
       "AICc table used to obtain model-averaged estimate with shrinkage:\n",
       "\n",
       "                   K   AICc Delta_AICc AICcWt Estimate   SE\n",
       "visit_mod          7 347.91       0.00   0.56     0.36 0.37\n",
       "null_mod           4 350.61       2.70   0.14     0.00 0.00\n",
       "side_mod           5 351.32       3.41   0.10     0.00 0.00\n",
       "tsm_mod            5 351.82       3.91   0.08     0.00 0.00\n",
       "solution_mod       5 352.03       4.12   0.07     0.00 0.00\n",
       "solution_time_mod 10 352.70       4.79   0.05     0.36 0.37\n",
       "\n",
       "Model-averaged estimate with shrinkage: 0.22 \n",
       "Unconditional SE: 0.34 \n",
       "95% Unconditional confidence interval: -0.45, 0.88\n"
      ]
     },
     "metadata": {},
     "output_type": "display_data"
    },
    {
     "data": {
      "text/html": [
       "<dl>\n",
       "\t<dt>$Parameter</dt>\n",
       "\t\t<dd>'TSM_Bin31-60'</dd>\n",
       "\t<dt>$Mod.avg.table</dt>\n",
       "\t\t<dd><table class=\"dataframe\">\n",
       "<caption>A aictab: 2 × 9</caption>\n",
       "<thead>\n",
       "\t<tr><th scope=col>Modnames</th><th scope=col>K</th><th scope=col>AICc</th><th scope=col>Delta_AICc</th><th scope=col>ModelLik</th><th scope=col>AICcWt</th><th scope=col>LL</th><th scope=col>Beta_est</th><th scope=col>SE</th></tr>\n",
       "\t<tr><th scope=col>&lt;chr&gt;</th><th scope=col>&lt;dbl&gt;</th><th scope=col>&lt;dbl&gt;</th><th scope=col>&lt;dbl&gt;</th><th scope=col>&lt;dbl&gt;</th><th scope=col>&lt;dbl&gt;</th><th scope=col>&lt;dbl&gt;</th><th scope=col>&lt;dbl&gt;</th><th scope=col>&lt;dbl&gt;</th></tr>\n",
       "</thead>\n",
       "<tbody>\n",
       "\t<tr><td>tsm_mod          </td><td> 5</td><td>351.8240</td><td>0.000000</td><td>1.0000000</td><td>0.6079952</td><td>-170.8164</td><td>-0.2972137</td><td>0.3172310</td></tr>\n",
       "\t<tr><td>solution_time_mod</td><td>10</td><td>352.7018</td><td>0.877786</td><td>0.6447498</td><td>0.3920048</td><td>-165.9949</td><td>-0.3901699</td><td>0.4848772</td></tr>\n",
       "</tbody>\n",
       "</table>\n",
       "</dd>\n",
       "\t<dt>$Mod.avg.beta</dt>\n",
       "\t\t<dd>-0.333652986525176</dd>\n",
       "\t<dt>$Uncond.SE</dt>\n",
       "\t\t<dd>0.394218200322713</dd>\n",
       "\t<dt>$Conf.level</dt>\n",
       "\t\t<dd>0.95</dd>\n",
       "\t<dt>$Lower.CL</dt>\n",
       "\t\t<dd>-1.10630646120789</dd>\n",
       "\t<dt>$Upper.CL</dt>\n",
       "\t\t<dd>0.439000488157538</dd>\n",
       "</dl>\n"
      ],
      "text/latex": [
       "\\begin{description}\n",
       "\\item[\\$Parameter] 'TSM\\_Bin31-60'\n",
       "\\item[\\$Mod.avg.table] A aictab: 2 × 9\n",
       "\\begin{tabular}{lllllllll}\n",
       " Modnames & K & AICc & Delta\\_AICc & ModelLik & AICcWt & LL & Beta\\_est & SE\\\\\n",
       " <chr> & <dbl> & <dbl> & <dbl> & <dbl> & <dbl> & <dbl> & <dbl> & <dbl>\\\\\n",
       "\\hline\n",
       "\t tsm\\_mod           &  5 & 351.8240 & 0.000000 & 1.0000000 & 0.6079952 & -170.8164 & -0.2972137 & 0.3172310\\\\\n",
       "\t solution\\_time\\_mod & 10 & 352.7018 & 0.877786 & 0.6447498 & 0.3920048 & -165.9949 & -0.3901699 & 0.4848772\\\\\n",
       "\\end{tabular}\n",
       "\n",
       "\\item[\\$Mod.avg.beta] -0.333652986525176\n",
       "\\item[\\$Uncond.SE] 0.394218200322713\n",
       "\\item[\\$Conf.level] 0.95\n",
       "\\item[\\$Lower.CL] -1.10630646120789\n",
       "\\item[\\$Upper.CL] 0.439000488157538\n",
       "\\end{description}\n"
      ],
      "text/markdown": [
       "$Parameter\n",
       ":   'TSM_Bin31-60'\n",
       "$Mod.avg.table\n",
       ":   \n",
       "A aictab: 2 × 9\n",
       "\n",
       "| Modnames &lt;chr&gt; | K &lt;dbl&gt; | AICc &lt;dbl&gt; | Delta_AICc &lt;dbl&gt; | ModelLik &lt;dbl&gt; | AICcWt &lt;dbl&gt; | LL &lt;dbl&gt; | Beta_est &lt;dbl&gt; | SE &lt;dbl&gt; |\n",
       "|---|---|---|---|---|---|---|---|---|\n",
       "| tsm_mod           |  5 | 351.8240 | 0.000000 | 1.0000000 | 0.6079952 | -170.8164 | -0.2972137 | 0.3172310 |\n",
       "| solution_time_mod | 10 | 352.7018 | 0.877786 | 0.6447498 | 0.3920048 | -165.9949 | -0.3901699 | 0.4848772 |\n",
       "\n",
       "\n",
       "$Mod.avg.beta\n",
       ":   -0.333652986525176\n",
       "$Uncond.SE\n",
       ":   0.394218200322713\n",
       "$Conf.level\n",
       ":   0.95\n",
       "$Lower.CL\n",
       ":   -1.10630646120789\n",
       "$Upper.CL\n",
       ":   0.439000488157538\n",
       "\n",
       "\n"
      ],
      "text/plain": [
       "\n",
       "Multimodel inference on \"TSM_Bin31-60\" based on AICc\n",
       "\n",
       "AICc table used to obtain model-averaged estimate:\n",
       "\n",
       "                   K   AICc Delta_AICc AICcWt Estimate   SE\n",
       "tsm_mod            5 351.82       0.00   0.61    -0.30 0.32\n",
       "solution_time_mod 10 352.70       0.88   0.39    -0.39 0.48\n",
       "\n",
       "Model-averaged estimate: -0.33 \n",
       "Unconditional SE: 0.39 \n",
       "95% Unconditional confidence interval: -1.11, 0.44\n"
      ]
     },
     "metadata": {},
     "output_type": "display_data"
    },
    {
     "name": "stderr",
     "output_type": "stream",
     "text": [
      "Warning message in modavgShrink.AICglmerMod(top_models, parm = \"Reward_SideR\"):\n",
      "“\n",
      "Variables do not appear with same frequency across models, proceed with caution\n",
      "”\n"
     ]
    },
    {
     "data": {
      "text/html": [
       "<dl>\n",
       "\t<dt>$Parameter</dt>\n",
       "\t\t<dd>'Reward_SideR'</dd>\n",
       "\t<dt>$Mod.avg.table</dt>\n",
       "\t\t<dd><table class=\"dataframe\">\n",
       "<caption>A aictab: 6 × 9</caption>\n",
       "<thead>\n",
       "\t<tr><th scope=col>Modnames</th><th scope=col>K</th><th scope=col>AICc</th><th scope=col>Delta_AICc</th><th scope=col>ModelLik</th><th scope=col>AICcWt</th><th scope=col>LL</th><th scope=col>Beta_est</th><th scope=col>SE</th></tr>\n",
       "\t<tr><th scope=col>&lt;chr&gt;</th><th scope=col>&lt;dbl&gt;</th><th scope=col>&lt;dbl&gt;</th><th scope=col>&lt;dbl&gt;</th><th scope=col>&lt;dbl&gt;</th><th scope=col>&lt;dbl&gt;</th><th scope=col>&lt;dbl&gt;</th><th scope=col>&lt;dbl&gt;</th><th scope=col>&lt;dbl&gt;</th></tr>\n",
       "</thead>\n",
       "<tbody>\n",
       "\t<tr><td>visit_mod        </td><td> 7</td><td>347.9092</td><td>0.000000</td><td>1.00000000</td><td>0.55551373</td><td>-166.7751</td><td> 0.0000000</td><td>0.0000000</td></tr>\n",
       "\t<tr><td>null_mod         </td><td> 4</td><td>350.6139</td><td>2.704690</td><td>0.25863311</td><td>0.14367424</td><td>-171.2435</td><td> 0.0000000</td><td>0.0000000</td></tr>\n",
       "\t<tr><td>side_mod         </td><td> 5</td><td>351.3186</td><td>3.409336</td><td>0.18183271</td><td>0.10101057</td><td>-170.5638</td><td>-0.4107166</td><td>0.3491925</td></tr>\n",
       "\t<tr><td>tsm_mod          </td><td> 5</td><td>351.8240</td><td>3.914730</td><td>0.14123006</td><td>0.07845524</td><td>-170.8164</td><td> 0.0000000</td><td>0.0000000</td></tr>\n",
       "\t<tr><td>solution_mod     </td><td> 5</td><td>352.0304</td><td>4.121136</td><td>0.12738158</td><td>0.07076222</td><td>-170.9196</td><td> 0.0000000</td><td>0.0000000</td></tr>\n",
       "\t<tr><td>solution_time_mod</td><td>10</td><td>352.7018</td><td>4.792516</td><td>0.09105805</td><td>0.05058400</td><td>-165.9949</td><td> 0.0000000</td><td>0.0000000</td></tr>\n",
       "</tbody>\n",
       "</table>\n",
       "</dd>\n",
       "\t<dt>$Mod.avg.beta</dt>\n",
       "\t\t<dd>-0.041486719532538</dd>\n",
       "\t<dt>$Uncond.SE</dt>\n",
       "\t\t<dd>0.166237480844664</dd>\n",
       "\t<dt>$Conf.level</dt>\n",
       "\t\t<dd>0.95</dd>\n",
       "\t<dt>$Lower.CL</dt>\n",
       "\t\t<dd>-0.367306194868746</dd>\n",
       "\t<dt>$Upper.CL</dt>\n",
       "\t\t<dd>0.28433275580367</dd>\n",
       "</dl>\n"
      ],
      "text/latex": [
       "\\begin{description}\n",
       "\\item[\\$Parameter] 'Reward\\_SideR'\n",
       "\\item[\\$Mod.avg.table] A aictab: 6 × 9\n",
       "\\begin{tabular}{lllllllll}\n",
       " Modnames & K & AICc & Delta\\_AICc & ModelLik & AICcWt & LL & Beta\\_est & SE\\\\\n",
       " <chr> & <dbl> & <dbl> & <dbl> & <dbl> & <dbl> & <dbl> & <dbl> & <dbl>\\\\\n",
       "\\hline\n",
       "\t visit\\_mod         &  7 & 347.9092 & 0.000000 & 1.00000000 & 0.55551373 & -166.7751 &  0.0000000 & 0.0000000\\\\\n",
       "\t null\\_mod          &  4 & 350.6139 & 2.704690 & 0.25863311 & 0.14367424 & -171.2435 &  0.0000000 & 0.0000000\\\\\n",
       "\t side\\_mod          &  5 & 351.3186 & 3.409336 & 0.18183271 & 0.10101057 & -170.5638 & -0.4107166 & 0.3491925\\\\\n",
       "\t tsm\\_mod           &  5 & 351.8240 & 3.914730 & 0.14123006 & 0.07845524 & -170.8164 &  0.0000000 & 0.0000000\\\\\n",
       "\t solution\\_mod      &  5 & 352.0304 & 4.121136 & 0.12738158 & 0.07076222 & -170.9196 &  0.0000000 & 0.0000000\\\\\n",
       "\t solution\\_time\\_mod & 10 & 352.7018 & 4.792516 & 0.09105805 & 0.05058400 & -165.9949 &  0.0000000 & 0.0000000\\\\\n",
       "\\end{tabular}\n",
       "\n",
       "\\item[\\$Mod.avg.beta] -0.041486719532538\n",
       "\\item[\\$Uncond.SE] 0.166237480844664\n",
       "\\item[\\$Conf.level] 0.95\n",
       "\\item[\\$Lower.CL] -0.367306194868746\n",
       "\\item[\\$Upper.CL] 0.28433275580367\n",
       "\\end{description}\n"
      ],
      "text/markdown": [
       "$Parameter\n",
       ":   'Reward_SideR'\n",
       "$Mod.avg.table\n",
       ":   \n",
       "A aictab: 6 × 9\n",
       "\n",
       "| Modnames &lt;chr&gt; | K &lt;dbl&gt; | AICc &lt;dbl&gt; | Delta_AICc &lt;dbl&gt; | ModelLik &lt;dbl&gt; | AICcWt &lt;dbl&gt; | LL &lt;dbl&gt; | Beta_est &lt;dbl&gt; | SE &lt;dbl&gt; |\n",
       "|---|---|---|---|---|---|---|---|---|\n",
       "| visit_mod         |  7 | 347.9092 | 0.000000 | 1.00000000 | 0.55551373 | -166.7751 |  0.0000000 | 0.0000000 |\n",
       "| null_mod          |  4 | 350.6139 | 2.704690 | 0.25863311 | 0.14367424 | -171.2435 |  0.0000000 | 0.0000000 |\n",
       "| side_mod          |  5 | 351.3186 | 3.409336 | 0.18183271 | 0.10101057 | -170.5638 | -0.4107166 | 0.3491925 |\n",
       "| tsm_mod           |  5 | 351.8240 | 3.914730 | 0.14123006 | 0.07845524 | -170.8164 |  0.0000000 | 0.0000000 |\n",
       "| solution_mod      |  5 | 352.0304 | 4.121136 | 0.12738158 | 0.07076222 | -170.9196 |  0.0000000 | 0.0000000 |\n",
       "| solution_time_mod | 10 | 352.7018 | 4.792516 | 0.09105805 | 0.05058400 | -165.9949 |  0.0000000 | 0.0000000 |\n",
       "\n",
       "\n",
       "$Mod.avg.beta\n",
       ":   -0.041486719532538\n",
       "$Uncond.SE\n",
       ":   0.166237480844664\n",
       "$Conf.level\n",
       ":   0.95\n",
       "$Lower.CL\n",
       ":   -0.367306194868746\n",
       "$Upper.CL\n",
       ":   0.28433275580367\n",
       "\n",
       "\n"
      ],
      "text/plain": [
       "\n",
       "Multimodel inference on \"Reward_SideR\" based on AICc\n",
       "\n",
       "AICc table used to obtain model-averaged estimate with shrinkage:\n",
       "\n",
       "                   K   AICc Delta_AICc AICcWt Estimate   SE\n",
       "visit_mod          7 347.91       0.00   0.56     0.00 0.00\n",
       "null_mod           4 350.61       2.70   0.14     0.00 0.00\n",
       "side_mod           5 351.32       3.41   0.10    -0.41 0.35\n",
       "tsm_mod            5 351.82       3.91   0.08     0.00 0.00\n",
       "solution_mod       5 352.03       4.12   0.07     0.00 0.00\n",
       "solution_time_mod 10 352.70       4.79   0.05     0.00 0.00\n",
       "\n",
       "Model-averaged estimate with shrinkage: -0.04 \n",
       "Unconditional SE: 0.17 \n",
       "95% Unconditional confidence interval: -0.37, 0.28\n"
      ]
     },
     "metadata": {},
     "output_type": "display_data"
    },
    {
     "name": "stderr",
     "output_type": "stream",
     "text": [
      "Warning message in modavgShrink.AICglmerMod(top_models, parm = \"SolutionDopamine:TSM_Bin31-60\"):\n",
      "“\n",
      "Variables do not appear with same frequency across models, proceed with caution\n",
      "”\n"
     ]
    },
    {
     "data": {
      "text/html": [
       "<dl>\n",
       "\t<dt>$Parameter</dt>\n",
       "\t\t<dd>'SolutionDopamine:TSM_Bin31-60'</dd>\n",
       "\t<dt>$Mod.avg.table</dt>\n",
       "\t\t<dd><table class=\"dataframe\">\n",
       "<caption>A aictab: 6 × 9</caption>\n",
       "<thead>\n",
       "\t<tr><th scope=col>Modnames</th><th scope=col>K</th><th scope=col>AICc</th><th scope=col>Delta_AICc</th><th scope=col>ModelLik</th><th scope=col>AICcWt</th><th scope=col>LL</th><th scope=col>Beta_est</th><th scope=col>SE</th></tr>\n",
       "\t<tr><th scope=col>&lt;chr&gt;</th><th scope=col>&lt;dbl&gt;</th><th scope=col>&lt;dbl&gt;</th><th scope=col>&lt;dbl&gt;</th><th scope=col>&lt;dbl&gt;</th><th scope=col>&lt;dbl&gt;</th><th scope=col>&lt;dbl&gt;</th><th scope=col>&lt;dbl&gt;</th><th scope=col>&lt;dbl&gt;</th></tr>\n",
       "</thead>\n",
       "<tbody>\n",
       "\t<tr><td>visit_mod        </td><td> 7</td><td>347.9092</td><td>0.000000</td><td>1.00000000</td><td>0.55551373</td><td>-166.7751</td><td>0.0000000</td><td>0.0000000</td></tr>\n",
       "\t<tr><td>null_mod         </td><td> 4</td><td>350.6139</td><td>2.704690</td><td>0.25863311</td><td>0.14367424</td><td>-171.2435</td><td>0.0000000</td><td>0.0000000</td></tr>\n",
       "\t<tr><td>side_mod         </td><td> 5</td><td>351.3186</td><td>3.409336</td><td>0.18183271</td><td>0.10101057</td><td>-170.5638</td><td>0.0000000</td><td>0.0000000</td></tr>\n",
       "\t<tr><td>tsm_mod          </td><td> 5</td><td>351.8240</td><td>3.914730</td><td>0.14123006</td><td>0.07845524</td><td>-170.8164</td><td>0.0000000</td><td>0.0000000</td></tr>\n",
       "\t<tr><td>solution_mod     </td><td> 5</td><td>352.0304</td><td>4.121136</td><td>0.12738158</td><td>0.07076222</td><td>-170.9196</td><td>0.0000000</td><td>0.0000000</td></tr>\n",
       "\t<tr><td>solution_time_mod</td><td>10</td><td>352.7018</td><td>4.792516</td><td>0.09105805</td><td>0.05058400</td><td>-165.9949</td><td>0.1413677</td><td>0.6591128</td></tr>\n",
       "</tbody>\n",
       "</table>\n",
       "</dd>\n",
       "\t<dt>$Mod.avg.beta</dt>\n",
       "\t\t<dd>0.0071509421645112</dd>\n",
       "\t<dt>$Uncond.SE</dt>\n",
       "\t\t<dd>0.151442948197135</dd>\n",
       "\t<dt>$Conf.level</dt>\n",
       "\t\t<dd>0.95</dd>\n",
       "\t<dt>$Lower.CL</dt>\n",
       "\t\t<dd>-0.289671782014438</dd>\n",
       "\t<dt>$Upper.CL</dt>\n",
       "\t\t<dd>0.30397366634346</dd>\n",
       "</dl>\n"
      ],
      "text/latex": [
       "\\begin{description}\n",
       "\\item[\\$Parameter] 'SolutionDopamine:TSM\\_Bin31-60'\n",
       "\\item[\\$Mod.avg.table] A aictab: 6 × 9\n",
       "\\begin{tabular}{lllllllll}\n",
       " Modnames & K & AICc & Delta\\_AICc & ModelLik & AICcWt & LL & Beta\\_est & SE\\\\\n",
       " <chr> & <dbl> & <dbl> & <dbl> & <dbl> & <dbl> & <dbl> & <dbl> & <dbl>\\\\\n",
       "\\hline\n",
       "\t visit\\_mod         &  7 & 347.9092 & 0.000000 & 1.00000000 & 0.55551373 & -166.7751 & 0.0000000 & 0.0000000\\\\\n",
       "\t null\\_mod          &  4 & 350.6139 & 2.704690 & 0.25863311 & 0.14367424 & -171.2435 & 0.0000000 & 0.0000000\\\\\n",
       "\t side\\_mod          &  5 & 351.3186 & 3.409336 & 0.18183271 & 0.10101057 & -170.5638 & 0.0000000 & 0.0000000\\\\\n",
       "\t tsm\\_mod           &  5 & 351.8240 & 3.914730 & 0.14123006 & 0.07845524 & -170.8164 & 0.0000000 & 0.0000000\\\\\n",
       "\t solution\\_mod      &  5 & 352.0304 & 4.121136 & 0.12738158 & 0.07076222 & -170.9196 & 0.0000000 & 0.0000000\\\\\n",
       "\t solution\\_time\\_mod & 10 & 352.7018 & 4.792516 & 0.09105805 & 0.05058400 & -165.9949 & 0.1413677 & 0.6591128\\\\\n",
       "\\end{tabular}\n",
       "\n",
       "\\item[\\$Mod.avg.beta] 0.0071509421645112\n",
       "\\item[\\$Uncond.SE] 0.151442948197135\n",
       "\\item[\\$Conf.level] 0.95\n",
       "\\item[\\$Lower.CL] -0.289671782014438\n",
       "\\item[\\$Upper.CL] 0.30397366634346\n",
       "\\end{description}\n"
      ],
      "text/markdown": [
       "$Parameter\n",
       ":   'SolutionDopamine:TSM_Bin31-60'\n",
       "$Mod.avg.table\n",
       ":   \n",
       "A aictab: 6 × 9\n",
       "\n",
       "| Modnames &lt;chr&gt; | K &lt;dbl&gt; | AICc &lt;dbl&gt; | Delta_AICc &lt;dbl&gt; | ModelLik &lt;dbl&gt; | AICcWt &lt;dbl&gt; | LL &lt;dbl&gt; | Beta_est &lt;dbl&gt; | SE &lt;dbl&gt; |\n",
       "|---|---|---|---|---|---|---|---|---|\n",
       "| visit_mod         |  7 | 347.9092 | 0.000000 | 1.00000000 | 0.55551373 | -166.7751 | 0.0000000 | 0.0000000 |\n",
       "| null_mod          |  4 | 350.6139 | 2.704690 | 0.25863311 | 0.14367424 | -171.2435 | 0.0000000 | 0.0000000 |\n",
       "| side_mod          |  5 | 351.3186 | 3.409336 | 0.18183271 | 0.10101057 | -170.5638 | 0.0000000 | 0.0000000 |\n",
       "| tsm_mod           |  5 | 351.8240 | 3.914730 | 0.14123006 | 0.07845524 | -170.8164 | 0.0000000 | 0.0000000 |\n",
       "| solution_mod      |  5 | 352.0304 | 4.121136 | 0.12738158 | 0.07076222 | -170.9196 | 0.0000000 | 0.0000000 |\n",
       "| solution_time_mod | 10 | 352.7018 | 4.792516 | 0.09105805 | 0.05058400 | -165.9949 | 0.1413677 | 0.6591128 |\n",
       "\n",
       "\n",
       "$Mod.avg.beta\n",
       ":   0.0071509421645112\n",
       "$Uncond.SE\n",
       ":   0.151442948197135\n",
       "$Conf.level\n",
       ":   0.95\n",
       "$Lower.CL\n",
       ":   -0.289671782014438\n",
       "$Upper.CL\n",
       ":   0.30397366634346\n",
       "\n",
       "\n"
      ],
      "text/plain": [
       "\n",
       "Multimodel inference on \"SolutionDopamine:TSM_Bin31-60\" based on AICc\n",
       "\n",
       "AICc table used to obtain model-averaged estimate with shrinkage:\n",
       "\n",
       "                   K   AICc Delta_AICc AICcWt Estimate   SE\n",
       "visit_mod          7 347.91       0.00   0.56     0.00 0.00\n",
       "null_mod           4 350.61       2.70   0.14     0.00 0.00\n",
       "side_mod           5 351.32       3.41   0.10     0.00 0.00\n",
       "tsm_mod            5 351.82       3.91   0.08     0.00 0.00\n",
       "solution_mod       5 352.03       4.12   0.07     0.00 0.00\n",
       "solution_time_mod 10 352.70       4.79   0.05     0.14 0.66\n",
       "\n",
       "Model-averaged estimate with shrinkage: 0.01 \n",
       "Unconditional SE: 0.15 \n",
       "95% Unconditional confidence interval: -0.29, 0.3\n"
      ]
     },
     "metadata": {},
     "output_type": "display_data"
    }
   ],
   "source": [
    "top_models = list(\"visit_mod\" = visit_mod, \n",
    "                   \"null_mod\" = null_mod,\n",
    "                   \"side_mod\" = side_mod,\n",
    "                   \"tsm_mod\" = tsm_mod,\n",
    "                   \"solution_mod\" = solution_mod,\n",
    "                   \"solution_time_mod\" = solution_time_mod)\n",
    "\n",
    "modavgShrink(top_models, parm = \"(Intercept)\")\n",
    "modavg(top_models, parm = \"SolutionDopamine\", exclude = \"SolutionDopamine:TSM_Bin31-60\")\n",
    "modavgShrink(top_models, parm = \"Visit3\")\n",
    "modavgShrink(top_models, parm = \"Visit4\")\n",
    "modavgShrink(top_models, parm = \"Visit5\")\n",
    "modavg(top_models, parm = \"TSM_Bin31-60\", exclude = \"SolutionDopamine:TSM_Bin31-60\")\n",
    "modavgShrink(top_models, parm = \"Reward_SideR\")\n",
    "modavgShrink(top_models, parm = \"SolutionDopamine:TSM_Bin31-60\")"
   ]
  },
  {
   "cell_type": "markdown",
   "id": "d5e9703d",
   "metadata": {},
   "source": [
    "## Odds\n",
    "**If the odds is 1 there is no effect, therefore if the CI's cross 1 that is not a significant parameter**\n",
    "\n",
    "**Intercept** = 2.7 [1.0, 6.9] -> **Ants do not choose an arm of the Y-maze randomly at Visit 2! - almost significant**\n",
    "\n",
    "**Solution** = 0.7 [0.3, 1.7] -> There is no effect of Solution!\n",
    "\n",
    "**Visit 3** = 1.8 [0.6, 5.2] -> There is no effect of Visit 3!\n",
    "\n",
    "**Visit 4** = 1.9 [0.6, 6.0] -> There is no effect of Visit 4!\n",
    "\n",
    "**Visit 5** = 1.2 [0.6, 2.4] -> There is no effect of Visit 5!\n",
    "\n",
    "**Side** = 1.0 [0.7, 1.3] -> There is no effect of Side!\n",
    "\n",
    "**TSM** = 0.7 [0.3, 1.6] -> There is no effect of Time Since Marking!\n",
    "\n",
    "**SolutionxTSM** = 1.0 [0.7, 1.4] -> There is no effect of Time Since Marking!"
   ]
  },
  {
   "cell_type": "markdown",
   "id": "21713eb6",
   "metadata": {},
   "source": [
    "## Conclusions\n",
    "- Ants do not choose a random side of the Y-maze from Visit 2 showing a slight increase in the odds of choosing the reward side as the number of consecutive visits increases suggesting the ants are able to associate the reward with a side.\n",
    "- There is no effect of Time Since Marking on final choice.\n",
    "- There is no efect of dopamine on final choice.\n",
    "- There is no statistically significant side bias although there is a trend towards Left.\n",
    "- There is no interaction effect of Solution with Time Since Marking."
   ]
  }
 ],
 "metadata": {
  "kernelspec": {
   "display_name": "R",
   "language": "R",
   "name": "ir"
  },
  "language_info": {
   "codemirror_mode": "r",
   "file_extension": ".r",
   "mimetype": "text/x-r-source",
   "name": "R",
   "pygments_lexer": "r",
   "version": "4.2.1"
  }
 },
 "nbformat": 4,
 "nbformat_minor": 5
}
