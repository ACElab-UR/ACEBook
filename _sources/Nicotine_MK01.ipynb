{
 "cells": [
  {
   "cell_type": "markdown",
   "id": "cea20812",
   "metadata": {},
   "source": [
    "# Nicotine Side Learning Y-maze"
   ]
  },
  {
   "cell_type": "markdown",
   "id": "79e6dea0",
   "metadata": {},
   "source": [
    "## Load packages"
   ]
  },
  {
   "cell_type": "code",
   "execution_count": 2,
   "id": "c3f5f22d",
   "metadata": {
    "scrolled": false,
    "vscode": {
     "languageId": "r"
    }
   },
   "outputs": [
    {
     "name": "stderr",
     "output_type": "stream",
     "text": [
      "Loading required package: reshape2\n",
      "\n",
      "Loading required package: lme4\n",
      "\n",
      "Loading required package: Matrix\n",
      "\n",
      "Loading required package: emmeans\n",
      "\n",
      "Loading required package: DHARMa\n",
      "\n",
      "This is DHARMa 0.4.5. For overview type '?DHARMa'. For recent changes, type news(package = 'DHARMa')\n",
      "\n",
      "Loading required package: AICcmodavg\n",
      "\n",
      "\n",
      "Attaching package: ‘AICcmodavg’\n",
      "\n",
      "\n",
      "The following object is masked from ‘package:lme4’:\n",
      "\n",
      "    checkConv\n",
      "\n",
      "\n"
     ]
    }
   ],
   "source": [
    "require(reshape2) # For data handling\n",
    "require(lme4) # Linear mixed-effects models\n",
    "require(emmeans) # Post-hoc analysis on the model\n",
    "require(DHARMa) # Evaluate model fit\n",
    "require(AICcmodavg) # For model selection and averaging"
   ]
  },
  {
   "cell_type": "markdown",
   "id": "7e6f6c9d",
   "metadata": {},
   "source": [
    "## Clean-up"
   ]
  },
  {
   "cell_type": "code",
   "execution_count": 3,
   "id": "6610d1f2",
   "metadata": {
    "vscode": {
     "languageId": "r"
    }
   },
   "outputs": [],
   "source": [
    "rm(list = ls()) # Remove variables/objects\n",
    "graphics.off() # Close any open graphics"
   ]
  },
  {
   "cell_type": "markdown",
   "id": "41a962ab",
   "metadata": {},
   "source": [
    "## Load data"
   ]
  },
  {
   "cell_type": "code",
   "execution_count": 4,
   "id": "a1533b22",
   "metadata": {
    "vscode": {
     "languageId": "r"
    }
   },
   "outputs": [
    {
     "data": {
      "text/html": [
       "<table class=\"dataframe\">\n",
       "<caption>A data.frame: 1 × 28</caption>\n",
       "<thead>\n",
       "\t<tr><th></th><th scope=col>Collection_Date</th><th scope=col>Time_Collection</th><th scope=col>Experimentor</th><th scope=col>Temperature</th><th scope=col>Colony_Origin</th><th scope=col>Starvation_Period</th><th scope=col>Donor_Colony</th><th scope=col>Recipient_Colony</th><th scope=col>Ant_ID</th><th scope=col>Visit</th><th scope=col>⋯</th><th scope=col>Out_Duration</th><th scope=col>Bridge_Nest_Duration</th><th scope=col>Total_Duration_Minutes</th><th scope=col>Trophallaxis</th><th scope=col>Full</th><th scope=col>Experiment</th><th scope=col>Initial_Binary</th><th scope=col>Final_Binary</th><th scope=col>Switched_Binary</th><th scope=col>TSM_Bin</th></tr>\n",
       "\t<tr><th></th><th scope=col>&lt;chr&gt;</th><th scope=col>&lt;chr&gt;</th><th scope=col>&lt;chr&gt;</th><th scope=col>&lt;dbl&gt;</th><th scope=col>&lt;chr&gt;</th><th scope=col>&lt;chr&gt;</th><th scope=col>&lt;int&gt;</th><th scope=col>&lt;int&gt;</th><th scope=col>&lt;int&gt;</th><th scope=col>&lt;int&gt;</th><th scope=col>⋯</th><th scope=col>&lt;int&gt;</th><th scope=col>&lt;int&gt;</th><th scope=col>&lt;dbl&gt;</th><th scope=col>&lt;chr&gt;</th><th scope=col>&lt;chr&gt;</th><th scope=col>&lt;int&gt;</th><th scope=col>&lt;int&gt;</th><th scope=col>&lt;int&gt;</th><th scope=col>&lt;int&gt;</th><th scope=col>&lt;chr&gt;</th></tr>\n",
       "</thead>\n",
       "<tbody>\n",
       "\t<tr><th scope=row>1413</th><td>17.05.22</td><td>09:01</td><td>Laura Neubauer</td><td>24.5</td><td>26th January - Spain</td><td>5-days</td><td>35</td><td>36</td><td>1</td><td>2</td><td>⋯</td><td>14</td><td>519</td><td>12</td><td>NA</td><td>NA</td><td>6</td><td>0</td><td>0</td><td>0</td><td>0-30</td></tr>\n",
       "</tbody>\n",
       "</table>\n"
      ],
      "text/latex": [
       "A data.frame: 1 × 28\n",
       "\\begin{tabular}{r|lllllllllllllllllllll}\n",
       "  & Collection\\_Date & Time\\_Collection & Experimentor & Temperature & Colony\\_Origin & Starvation\\_Period & Donor\\_Colony & Recipient\\_Colony & Ant\\_ID & Visit & ⋯ & Out\\_Duration & Bridge\\_Nest\\_Duration & Total\\_Duration\\_Minutes & Trophallaxis & Full & Experiment & Initial\\_Binary & Final\\_Binary & Switched\\_Binary & TSM\\_Bin\\\\\n",
       "  & <chr> & <chr> & <chr> & <dbl> & <chr> & <chr> & <int> & <int> & <int> & <int> & ⋯ & <int> & <int> & <dbl> & <chr> & <chr> & <int> & <int> & <int> & <int> & <chr>\\\\\n",
       "\\hline\n",
       "\t1413 & 17.05.22 & 09:01 & Laura Neubauer & 24.5 & 26th January - Spain & 5-days & 35 & 36 & 1 & 2 & ⋯ & 14 & 519 & 12 & NA & NA & 6 & 0 & 0 & 0 & 0-30\\\\\n",
       "\\end{tabular}\n"
      ],
      "text/markdown": [
       "\n",
       "A data.frame: 1 × 28\n",
       "\n",
       "| <!--/--> | Collection_Date &lt;chr&gt; | Time_Collection &lt;chr&gt; | Experimentor &lt;chr&gt; | Temperature &lt;dbl&gt; | Colony_Origin &lt;chr&gt; | Starvation_Period &lt;chr&gt; | Donor_Colony &lt;int&gt; | Recipient_Colony &lt;int&gt; | Ant_ID &lt;int&gt; | Visit &lt;int&gt; | ⋯ ⋯ | Out_Duration &lt;int&gt; | Bridge_Nest_Duration &lt;int&gt; | Total_Duration_Minutes &lt;dbl&gt; | Trophallaxis &lt;chr&gt; | Full &lt;chr&gt; | Experiment &lt;int&gt; | Initial_Binary &lt;int&gt; | Final_Binary &lt;int&gt; | Switched_Binary &lt;int&gt; | TSM_Bin &lt;chr&gt; |\n",
       "|---|---|---|---|---|---|---|---|---|---|---|---|---|---|---|---|---|---|---|---|---|---|\n",
       "| 1413 | 17.05.22 | 09:01 | Laura Neubauer | 24.5 | 26th January - Spain | 5-days | 35 | 36 | 1 | 2 | ⋯ | 14 | 519 | 12 | NA | NA | 6 | 0 | 0 | 0 | 0-30 |\n",
       "\n"
      ],
      "text/plain": [
       "     Collection_Date Time_Collection Experimentor   Temperature\n",
       "1413 17.05.22        09:01           Laura Neubauer 24.5       \n",
       "     Colony_Origin        Starvation_Period Donor_Colony Recipient_Colony\n",
       "1413 26th January - Spain 5-days            35           36              \n",
       "     Ant_ID Visit ⋯ Out_Duration Bridge_Nest_Duration Total_Duration_Minutes\n",
       "1413 1      2     ⋯ 14           519                  12                    \n",
       "     Trophallaxis Full Experiment Initial_Binary Final_Binary Switched_Binary\n",
       "1413 NA           NA   6          0              0            0              \n",
       "     TSM_Bin\n",
       "1413 0-30   "
      ]
     },
     "metadata": {},
     "output_type": "display_data"
    }
   ],
   "source": [
    "ELP = read.csv(\"./Data/All/ELP_all.csv\")\n",
    "ELP = subset(ELP, ELP$Experiment == \"6\") # Subset for Nicotine experiment\n",
    "head(ELP, n = 1) # Check it was loaded correctly"
   ]
  },
  {
   "cell_type": "markdown",
   "id": "a5b0f172",
   "metadata": {},
   "source": [
    "## Ensure relevant variables are factors"
   ]
  },
  {
   "cell_type": "code",
   "execution_count": 5,
   "id": "e361d2b6",
   "metadata": {
    "vscode": {
     "languageId": "r"
    }
   },
   "outputs": [],
   "source": [
    "ELP$Collection_Date = as.factor(ELP$Collection_Date)\n",
    "ELP$Experimentor = as.factor(ELP$Experimentor)\n",
    "ELP$Starvation_Period = as.factor(ELP$Starvation_Period)\n",
    "ELP$Colony_ID = as.factor(paste0(ELP$Donor_Colony, \"_\", ELP$Recipient_Colony))\n",
    "ELP$Ant_ID = as.factor(ELP$Ant_ID)\n",
    "\n",
    "ELP$Visit = as.factor(ELP$Visit)\n",
    "ELP$Solution = as.factor(ELP$Solution)\n",
    "ELP$Solution = relevel(ELP$Solution, \"Control\")\n",
    "ELP$Reward_Side = as.factor(ELP$Reward_Side)\n",
    "ELP$TSM_Bin = as.factor(ELP$TSM_Bin)\n",
    "\n",
    "ELP$Initial_Binary = as.factor(ELP$Initial_Binary)\n",
    "ELP$Final_Binary = as.factor(ELP$Final_Binary)"
   ]
  },
  {
   "cell_type": "markdown",
   "id": "55165eb0",
   "metadata": {},
   "source": [
    "## Identify relevant random effects"
   ]
  },
  {
   "cell_type": "code",
   "execution_count": 6,
   "id": "3bc43cbf",
   "metadata": {
    "scrolled": false,
    "vscode": {
     "languageId": "r"
    }
   },
   "outputs": [
    {
     "data": {
      "text/html": [
       "<style>\n",
       ".list-inline {list-style: none; margin:0; padding: 0}\n",
       ".list-inline>li {display: inline-block}\n",
       ".list-inline>li:not(:last-child)::after {content: \"\\00b7\"; padding: 0 .5ex}\n",
       "</style>\n",
       "<ol class=list-inline><li>17.05.22</li><li>19.05.22</li><li>20.05.22</li><li>23.05.22</li><li>24.05.22</li><li>25.05.22</li><li>26.05.22</li><li>27.05.22</li></ol>\n",
       "\n",
       "<details>\n",
       "\t<summary style=display:list-item;cursor:pointer>\n",
       "\t\t<strong>Levels</strong>:\n",
       "\t</summary>\n",
       "\t<style>\n",
       "\t.list-inline {list-style: none; margin:0; padding: 0}\n",
       "\t.list-inline>li {display: inline-block}\n",
       "\t.list-inline>li:not(:last-child)::after {content: \"\\00b7\"; padding: 0 .5ex}\n",
       "\t</style>\n",
       "\t<ol class=list-inline><li>'17.05.22'</li><li>'19.05.22'</li><li>'20.05.22'</li><li>'23.05.22'</li><li>'24.05.22'</li><li>'25.05.22'</li><li>'26.05.22'</li><li>'27.05.22'</li></ol>\n",
       "</details>"
      ],
      "text/latex": [
       "\\begin{enumerate*}\n",
       "\\item 17.05.22\n",
       "\\item 19.05.22\n",
       "\\item 20.05.22\n",
       "\\item 23.05.22\n",
       "\\item 24.05.22\n",
       "\\item 25.05.22\n",
       "\\item 26.05.22\n",
       "\\item 27.05.22\n",
       "\\end{enumerate*}\n",
       "\n",
       "\\emph{Levels}: \\begin{enumerate*}\n",
       "\\item '17.05.22'\n",
       "\\item '19.05.22'\n",
       "\\item '20.05.22'\n",
       "\\item '23.05.22'\n",
       "\\item '24.05.22'\n",
       "\\item '25.05.22'\n",
       "\\item '26.05.22'\n",
       "\\item '27.05.22'\n",
       "\\end{enumerate*}\n"
      ],
      "text/markdown": [
       "1. 17.05.22\n",
       "2. 19.05.22\n",
       "3. 20.05.22\n",
       "4. 23.05.22\n",
       "5. 24.05.22\n",
       "6. 25.05.22\n",
       "7. 26.05.22\n",
       "8. 27.05.22\n",
       "\n",
       "\n",
       "\n",
       "**Levels**: 1. '17.05.22'\n",
       "2. '19.05.22'\n",
       "3. '20.05.22'\n",
       "4. '23.05.22'\n",
       "5. '24.05.22'\n",
       "6. '25.05.22'\n",
       "7. '26.05.22'\n",
       "8. '27.05.22'\n",
       "\n",
       "\n"
      ],
      "text/plain": [
       "[1] 17.05.22 19.05.22 20.05.22 23.05.22 24.05.22 25.05.22 26.05.22 27.05.22\n",
       "8 Levels: 17.05.22 19.05.22 20.05.22 23.05.22 24.05.22 25.05.22 ... 27.05.22"
      ]
     },
     "metadata": {},
     "output_type": "display_data"
    },
    {
     "data": {
      "text/html": [
       "Laura Neubauer\n",
       "<details>\n",
       "\t<summary style=display:list-item;cursor:pointer>\n",
       "\t\t<strong>Levels</strong>:\n",
       "\t</summary>\n",
       "\t'Laura Neubauer'\n",
       "</details>"
      ],
      "text/latex": [
       "Laura Neubauer\n",
       "\\emph{Levels}: 'Laura Neubauer'"
      ],
      "text/markdown": [
       "Laura Neubauer\n",
       "**Levels**: 'Laura Neubauer'"
      ],
      "text/plain": [
       "[1] Laura Neubauer\n",
       "Levels: Laura Neubauer"
      ]
     },
     "metadata": {},
     "output_type": "display_data"
    },
    {
     "data": {
      "text/html": [
       "<style>\n",
       ".list-inline {list-style: none; margin:0; padding: 0}\n",
       ".list-inline>li {display: inline-block}\n",
       ".list-inline>li:not(:last-child)::after {content: \"\\00b7\"; padding: 0 .5ex}\n",
       "</style>\n",
       "<ol class=list-inline><li>5-days</li><li>4-days</li><li>3-days</li></ol>\n",
       "\n",
       "<details>\n",
       "\t<summary style=display:list-item;cursor:pointer>\n",
       "\t\t<strong>Levels</strong>:\n",
       "\t</summary>\n",
       "\t<style>\n",
       "\t.list-inline {list-style: none; margin:0; padding: 0}\n",
       "\t.list-inline>li {display: inline-block}\n",
       "\t.list-inline>li:not(:last-child)::after {content: \"\\00b7\"; padding: 0 .5ex}\n",
       "\t</style>\n",
       "\t<ol class=list-inline><li>'3-days'</li><li>'4-days'</li><li>'5-days'</li></ol>\n",
       "</details>"
      ],
      "text/latex": [
       "\\begin{enumerate*}\n",
       "\\item 5-days\n",
       "\\item 4-days\n",
       "\\item 3-days\n",
       "\\end{enumerate*}\n",
       "\n",
       "\\emph{Levels}: \\begin{enumerate*}\n",
       "\\item '3-days'\n",
       "\\item '4-days'\n",
       "\\item '5-days'\n",
       "\\end{enumerate*}\n"
      ],
      "text/markdown": [
       "1. 5-days\n",
       "2. 4-days\n",
       "3. 3-days\n",
       "\n",
       "\n",
       "\n",
       "**Levels**: 1. '3-days'\n",
       "2. '4-days'\n",
       "3. '5-days'\n",
       "\n",
       "\n"
      ],
      "text/plain": [
       "[1] 5-days 4-days 3-days\n",
       "Levels: 3-days 4-days 5-days"
      ]
     },
     "metadata": {},
     "output_type": "display_data"
    },
    {
     "data": {
      "text/html": [
       "<style>\n",
       ".list-inline {list-style: none; margin:0; padding: 0}\n",
       ".list-inline>li {display: inline-block}\n",
       ".list-inline>li:not(:last-child)::after {content: \"\\00b7\"; padding: 0 .5ex}\n",
       "</style>\n",
       "<ol class=list-inline><li>35_36</li><li>58_59</li><li>60_61</li></ol>\n",
       "\n",
       "<details>\n",
       "\t<summary style=display:list-item;cursor:pointer>\n",
       "\t\t<strong>Levels</strong>:\n",
       "\t</summary>\n",
       "\t<style>\n",
       "\t.list-inline {list-style: none; margin:0; padding: 0}\n",
       "\t.list-inline>li {display: inline-block}\n",
       "\t.list-inline>li:not(:last-child)::after {content: \"\\00b7\"; padding: 0 .5ex}\n",
       "\t</style>\n",
       "\t<ol class=list-inline><li>'35_36'</li><li>'58_59'</li><li>'60_61'</li></ol>\n",
       "</details>"
      ],
      "text/latex": [
       "\\begin{enumerate*}\n",
       "\\item 35\\_36\n",
       "\\item 58\\_59\n",
       "\\item 60\\_61\n",
       "\\end{enumerate*}\n",
       "\n",
       "\\emph{Levels}: \\begin{enumerate*}\n",
       "\\item '35\\_36'\n",
       "\\item '58\\_59'\n",
       "\\item '60\\_61'\n",
       "\\end{enumerate*}\n"
      ],
      "text/markdown": [
       "1. 35_36\n",
       "2. 58_59\n",
       "3. 60_61\n",
       "\n",
       "\n",
       "\n",
       "**Levels**: 1. '35_36'\n",
       "2. '58_59'\n",
       "3. '60_61'\n",
       "\n",
       "\n"
      ],
      "text/plain": [
       "[1] 35_36 58_59 60_61\n",
       "Levels: 35_36 58_59 60_61"
      ]
     },
     "metadata": {},
     "output_type": "display_data"
    },
    {
     "data": {
      "text/html": [
       "<style>\n",
       ".list-inline {list-style: none; margin:0; padding: 0}\n",
       ".list-inline>li {display: inline-block}\n",
       ".list-inline>li:not(:last-child)::after {content: \"\\00b7\"; padding: 0 .5ex}\n",
       "</style>\n",
       "<ol class=list-inline><li>1</li><li>2</li><li>3</li><li>4</li><li>5</li><li>6</li><li>7</li><li>8</li><li>9</li><li>10</li><li>11</li><li>12</li><li>13</li><li>14</li><li>15</li><li>16</li><li>17</li><li>18</li><li>19</li><li>20</li><li>21</li><li>22</li><li>23</li><li>24</li><li>25</li><li>26</li><li>27</li><li>28</li><li>29</li><li>30</li><li>31</li><li>32</li><li>33</li><li>34</li><li>35</li><li>36</li><li>37</li><li>38</li><li>39</li><li>40</li><li>41</li><li>42</li><li>43</li><li>44</li><li>45</li><li>46</li><li>47</li><li>48</li><li>49</li><li>50</li><li>51</li><li>52</li><li>53</li><li>54</li><li>55</li><li>56</li><li>57</li><li>58</li><li>59</li><li>60</li><li>61</li><li>62</li><li>63</li><li>64</li></ol>\n",
       "\n",
       "<details>\n",
       "\t<summary style=display:list-item;cursor:pointer>\n",
       "\t\t<strong>Levels</strong>:\n",
       "\t</summary>\n",
       "\t<style>\n",
       "\t.list-inline {list-style: none; margin:0; padding: 0}\n",
       "\t.list-inline>li {display: inline-block}\n",
       "\t.list-inline>li:not(:last-child)::after {content: \"\\00b7\"; padding: 0 .5ex}\n",
       "\t</style>\n",
       "\t<ol class=list-inline><li>'1'</li><li>'2'</li><li>'3'</li><li>'4'</li><li>'5'</li><li>'6'</li><li>'7'</li><li>'8'</li><li>'9'</li><li>'10'</li><li>'11'</li><li>'12'</li><li>'13'</li><li>'14'</li><li>'15'</li><li>'16'</li><li>'17'</li><li>'18'</li><li>'19'</li><li>'20'</li><li>'21'</li><li>'22'</li><li>'23'</li><li>'24'</li><li>'25'</li><li>'26'</li><li>'27'</li><li>'28'</li><li>'29'</li><li>'30'</li><li>'31'</li><li>'32'</li><li>'33'</li><li>'34'</li><li>'35'</li><li>'36'</li><li>'37'</li><li>'38'</li><li>'39'</li><li>'40'</li><li>'41'</li><li>'42'</li><li>'43'</li><li>'44'</li><li>'45'</li><li>'46'</li><li>'47'</li><li>'48'</li><li>'49'</li><li>'50'</li><li>'51'</li><li>'52'</li><li>'53'</li><li>'54'</li><li>'55'</li><li>'56'</li><li>'57'</li><li>'58'</li><li>'59'</li><li>'60'</li><li>'61'</li><li>'62'</li><li>'63'</li><li>'64'</li></ol>\n",
       "</details>"
      ],
      "text/latex": [
       "\\begin{enumerate*}\n",
       "\\item 1\n",
       "\\item 2\n",
       "\\item 3\n",
       "\\item 4\n",
       "\\item 5\n",
       "\\item 6\n",
       "\\item 7\n",
       "\\item 8\n",
       "\\item 9\n",
       "\\item 10\n",
       "\\item 11\n",
       "\\item 12\n",
       "\\item 13\n",
       "\\item 14\n",
       "\\item 15\n",
       "\\item 16\n",
       "\\item 17\n",
       "\\item 18\n",
       "\\item 19\n",
       "\\item 20\n",
       "\\item 21\n",
       "\\item 22\n",
       "\\item 23\n",
       "\\item 24\n",
       "\\item 25\n",
       "\\item 26\n",
       "\\item 27\n",
       "\\item 28\n",
       "\\item 29\n",
       "\\item 30\n",
       "\\item 31\n",
       "\\item 32\n",
       "\\item 33\n",
       "\\item 34\n",
       "\\item 35\n",
       "\\item 36\n",
       "\\item 37\n",
       "\\item 38\n",
       "\\item 39\n",
       "\\item 40\n",
       "\\item 41\n",
       "\\item 42\n",
       "\\item 43\n",
       "\\item 44\n",
       "\\item 45\n",
       "\\item 46\n",
       "\\item 47\n",
       "\\item 48\n",
       "\\item 49\n",
       "\\item 50\n",
       "\\item 51\n",
       "\\item 52\n",
       "\\item 53\n",
       "\\item 54\n",
       "\\item 55\n",
       "\\item 56\n",
       "\\item 57\n",
       "\\item 58\n",
       "\\item 59\n",
       "\\item 60\n",
       "\\item 61\n",
       "\\item 62\n",
       "\\item 63\n",
       "\\item 64\n",
       "\\end{enumerate*}\n",
       "\n",
       "\\emph{Levels}: \\begin{enumerate*}\n",
       "\\item '1'\n",
       "\\item '2'\n",
       "\\item '3'\n",
       "\\item '4'\n",
       "\\item '5'\n",
       "\\item '6'\n",
       "\\item '7'\n",
       "\\item '8'\n",
       "\\item '9'\n",
       "\\item '10'\n",
       "\\item '11'\n",
       "\\item '12'\n",
       "\\item '13'\n",
       "\\item '14'\n",
       "\\item '15'\n",
       "\\item '16'\n",
       "\\item '17'\n",
       "\\item '18'\n",
       "\\item '19'\n",
       "\\item '20'\n",
       "\\item '21'\n",
       "\\item '22'\n",
       "\\item '23'\n",
       "\\item '24'\n",
       "\\item '25'\n",
       "\\item '26'\n",
       "\\item '27'\n",
       "\\item '28'\n",
       "\\item '29'\n",
       "\\item '30'\n",
       "\\item '31'\n",
       "\\item '32'\n",
       "\\item '33'\n",
       "\\item '34'\n",
       "\\item '35'\n",
       "\\item '36'\n",
       "\\item '37'\n",
       "\\item '38'\n",
       "\\item '39'\n",
       "\\item '40'\n",
       "\\item '41'\n",
       "\\item '42'\n",
       "\\item '43'\n",
       "\\item '44'\n",
       "\\item '45'\n",
       "\\item '46'\n",
       "\\item '47'\n",
       "\\item '48'\n",
       "\\item '49'\n",
       "\\item '50'\n",
       "\\item '51'\n",
       "\\item '52'\n",
       "\\item '53'\n",
       "\\item '54'\n",
       "\\item '55'\n",
       "\\item '56'\n",
       "\\item '57'\n",
       "\\item '58'\n",
       "\\item '59'\n",
       "\\item '60'\n",
       "\\item '61'\n",
       "\\item '62'\n",
       "\\item '63'\n",
       "\\item '64'\n",
       "\\end{enumerate*}\n"
      ],
      "text/markdown": [
       "1. 1\n",
       "2. 2\n",
       "3. 3\n",
       "4. 4\n",
       "5. 5\n",
       "6. 6\n",
       "7. 7\n",
       "8. 8\n",
       "9. 9\n",
       "10. 10\n",
       "11. 11\n",
       "12. 12\n",
       "13. 13\n",
       "14. 14\n",
       "15. 15\n",
       "16. 16\n",
       "17. 17\n",
       "18. 18\n",
       "19. 19\n",
       "20. 20\n",
       "21. 21\n",
       "22. 22\n",
       "23. 23\n",
       "24. 24\n",
       "25. 25\n",
       "26. 26\n",
       "27. 27\n",
       "28. 28\n",
       "29. 29\n",
       "30. 30\n",
       "31. 31\n",
       "32. 32\n",
       "33. 33\n",
       "34. 34\n",
       "35. 35\n",
       "36. 36\n",
       "37. 37\n",
       "38. 38\n",
       "39. 39\n",
       "40. 40\n",
       "41. 41\n",
       "42. 42\n",
       "43. 43\n",
       "44. 44\n",
       "45. 45\n",
       "46. 46\n",
       "47. 47\n",
       "48. 48\n",
       "49. 49\n",
       "50. 50\n",
       "51. 51\n",
       "52. 52\n",
       "53. 53\n",
       "54. 54\n",
       "55. 55\n",
       "56. 56\n",
       "57. 57\n",
       "58. 58\n",
       "59. 59\n",
       "60. 60\n",
       "61. 61\n",
       "62. 62\n",
       "63. 63\n",
       "64. 64\n",
       "\n",
       "\n",
       "\n",
       "**Levels**: 1. '1'\n",
       "2. '2'\n",
       "3. '3'\n",
       "4. '4'\n",
       "5. '5'\n",
       "6. '6'\n",
       "7. '7'\n",
       "8. '8'\n",
       "9. '9'\n",
       "10. '10'\n",
       "11. '11'\n",
       "12. '12'\n",
       "13. '13'\n",
       "14. '14'\n",
       "15. '15'\n",
       "16. '16'\n",
       "17. '17'\n",
       "18. '18'\n",
       "19. '19'\n",
       "20. '20'\n",
       "21. '21'\n",
       "22. '22'\n",
       "23. '23'\n",
       "24. '24'\n",
       "25. '25'\n",
       "26. '26'\n",
       "27. '27'\n",
       "28. '28'\n",
       "29. '29'\n",
       "30. '30'\n",
       "31. '31'\n",
       "32. '32'\n",
       "33. '33'\n",
       "34. '34'\n",
       "35. '35'\n",
       "36. '36'\n",
       "37. '37'\n",
       "38. '38'\n",
       "39. '39'\n",
       "40. '40'\n",
       "41. '41'\n",
       "42. '42'\n",
       "43. '43'\n",
       "44. '44'\n",
       "45. '45'\n",
       "46. '46'\n",
       "47. '47'\n",
       "48. '48'\n",
       "49. '49'\n",
       "50. '50'\n",
       "51. '51'\n",
       "52. '52'\n",
       "53. '53'\n",
       "54. '54'\n",
       "55. '55'\n",
       "56. '56'\n",
       "57. '57'\n",
       "58. '58'\n",
       "59. '59'\n",
       "60. '60'\n",
       "61. '61'\n",
       "62. '62'\n",
       "63. '63'\n",
       "64. '64'\n",
       "\n",
       "\n"
      ],
      "text/plain": [
       " [1] 1  2  3  4  5  6  7  8  9  10 11 12 13 14 15 16 17 18 19 20 21 22 23 24 25\n",
       "[26] 26 27 28 29 30 31 32 33 34 35 36 37 38 39 40 41 42 43 44 45 46 47 48 49 50\n",
       "[51] 51 52 53 54 55 56 57 58 59 60 61 62 63 64\n",
       "64 Levels: 1 2 3 4 5 6 7 8 9 10 11 12 13 14 15 16 17 18 19 20 21 22 23 ... 64"
      ]
     },
     "metadata": {},
     "output_type": "display_data"
    }
   ],
   "source": [
    "unique(ELP$Collection_Date)\n",
    "unique(ELP$Experimentor)\n",
    "unique(ELP$Starvation_Period)\n",
    "unique(ELP$Colony_ID)\n",
    "unique(ELP$Ant_ID)"
   ]
  },
  {
   "cell_type": "markdown",
   "id": "e3044b71",
   "metadata": {},
   "source": [
    "## Do initial and final choices significantly differ?"
   ]
  },
  {
   "cell_type": "code",
   "execution_count": 7,
   "id": "f00505b5",
   "metadata": {
    "vscode": {
     "languageId": "r"
    }
   },
   "outputs": [
    {
     "name": "stderr",
     "output_type": "stream",
     "text": [
      "boundary (singular) fit: see help('isSingular')\n",
      "\n"
     ]
    },
    {
     "data": {
      "text/plain": [
       " contrast                      odds.ratio    SE  df null z.ratio p.value\n",
       " Initial_Binary / Final_Binary      0.971 0.236 Inf    1  -0.121  0.9034\n",
       "\n",
       "Tests are performed on the log odds ratio scale "
      ]
     },
     "metadata": {},
     "output_type": "display_data"
    }
   ],
   "source": [
    "ELP_choice_diff = melt(ELP, measure.vars = c(\"Initial_Binary\", \"Final_Binary\"))\n",
    "\n",
    "ELP_choice_diff$variable = as.factor(ELP_choice_diff$variable)\n",
    "ELP_choice_diff$value = as.factor(ELP_choice_diff$value)\n",
    "\n",
    "ELP_choice_diff_mod = glmer(value ~ variable + (1|Collection_Date) + (Starvation_Period|Colony_ID) + (1|Ant_ID), data = ELP_choice_diff, family = binomial, glmerControl(optimizer = \"bobyqa\", optCtrl = list(maxfun = 1000000000)))\n",
    "\n",
    "e = emmeans(ELP_choice_diff_mod, ~variable, type = \"response\")\n",
    "pairs(e)"
   ]
  },
  {
   "cell_type": "markdown",
   "id": "328cf9e7",
   "metadata": {},
   "source": [
    "p-value > 0.1 hence there is no statistical difference between initial and final decision therefore we will use final decision henceforth."
   ]
  },
  {
   "cell_type": "markdown",
   "id": "33f30dc0",
   "metadata": {},
   "source": [
    "## Define models\n",
    "\n",
    "### 1. Null model\n",
    "**Biological hypothesis:** Ants randomly choose a Y-maze arm."
   ]
  },
  {
   "cell_type": "code",
   "execution_count": 8,
   "id": "0ef959a3",
   "metadata": {
    "scrolled": true,
    "vscode": {
     "languageId": "r"
    }
   },
   "outputs": [
    {
     "name": "stderr",
     "output_type": "stream",
     "text": [
      "boundary (singular) fit: see help('isSingular')\n",
      "\n"
     ]
    }
   ],
   "source": [
    "null_mod = glmer(Final_Binary ~ 1 + (1|Collection_Date) + (Starvation_Period|Colony_ID) + (1|Ant_ID), data = ELP, family = \"binomial\", glmerControl(optimizer = \"bobyqa\", optCtrl = list(maxfun = 1000000000)))"
   ]
  },
  {
   "cell_type": "markdown",
   "id": "1b2602f5",
   "metadata": {},
   "source": [
    "### 2. Visit model\n",
    "**Biological hypothesis:** Ants learn to associate a Y-maze arm with a reward. Over consecutive visits more ants choose the correct arm."
   ]
  },
  {
   "cell_type": "code",
   "execution_count": 9,
   "id": "7f450e9d",
   "metadata": {
    "vscode": {
     "languageId": "r"
    }
   },
   "outputs": [
    {
     "name": "stderr",
     "output_type": "stream",
     "text": [
      "boundary (singular) fit: see help('isSingular')\n",
      "\n"
     ]
    }
   ],
   "source": [
    "visit_mod = glmer(Final_Binary ~ Visit + (1|Collection_Date) + (Starvation_Period|Colony_ID) + (1|Ant_ID), data = ELP, family = \"binomial\", glmerControl(optimizer = \"bobyqa\", optCtrl = list(maxfun = 1000000000)))"
   ]
  },
  {
   "cell_type": "markdown",
   "id": "b7ed456a",
   "metadata": {},
   "source": [
    "### 3. Solution model\n",
    "**Biological hypothesis:** The presence of a psychoactive chemical in the reward alters the ants ability to choose a Y-maze arm."
   ]
  },
  {
   "cell_type": "code",
   "execution_count": 10,
   "id": "e40efafe",
   "metadata": {
    "scrolled": true,
    "vscode": {
     "languageId": "r"
    }
   },
   "outputs": [
    {
     "name": "stderr",
     "output_type": "stream",
     "text": [
      "boundary (singular) fit: see help('isSingular')\n",
      "\n"
     ]
    }
   ],
   "source": [
    "solution_mod = glmer(Final_Binary ~ Solution + (1|Collection_Date) + (Starvation_Period|Colony_ID) + (1|Ant_ID), data = ELP, family = \"binomial\", glmerControl(optimizer = \"bobyqa\", optCtrl = list(maxfun = 1000000000)))"
   ]
  },
  {
   "cell_type": "markdown",
   "id": "ab0eba13",
   "metadata": {},
   "source": [
    "### 4. Side model\n",
    "**Biological hypothesis:** Ants have an intrinsic predisposition towards turning left or right. This is associated with brain lateralisation which has been shown in multiple organisms."
   ]
  },
  {
   "cell_type": "code",
   "execution_count": 11,
   "id": "607d48ee",
   "metadata": {
    "scrolled": true,
    "vscode": {
     "languageId": "r"
    }
   },
   "outputs": [
    {
     "name": "stderr",
     "output_type": "stream",
     "text": [
      "boundary (singular) fit: see help('isSingular')\n",
      "\n"
     ]
    }
   ],
   "source": [
    "side_mod = glmer(Final_Binary ~ Reward_Side + (1|Collection_Date) + (Starvation_Period|Colony_ID) + (1|Ant_ID), data = ELP, family = \"binomial\", glmerControl(optimizer = \"bobyqa\", optCtrl = list(maxfun = 1000000000)))"
   ]
  },
  {
   "cell_type": "markdown",
   "id": "761fabe0",
   "metadata": {},
   "source": [
    "### 5. Time since marking model\n",
    "**Biological hypothesis:** Ants that had a waiting period (>30 minutes) after learning the reward/side association have different recall strenght. This should be associated with long-term memory formation which should be stronger."
   ]
  },
  {
   "cell_type": "code",
   "execution_count": 12,
   "id": "2658b671",
   "metadata": {
    "vscode": {
     "languageId": "r"
    }
   },
   "outputs": [
    {
     "name": "stderr",
     "output_type": "stream",
     "text": [
      "boundary (singular) fit: see help('isSingular')\n",
      "\n"
     ]
    }
   ],
   "source": [
    "tsm_mod = glmer(Final_Binary ~ TSM_Bin + (1|Collection_Date) + (Starvation_Period|Colony_ID) + (1|Ant_ID), data = ELP, family = \"binomial\", glmerControl(optimizer = \"bobyqa\", optCtrl = list(maxfun = 1000000000)))"
   ]
  },
  {
   "cell_type": "markdown",
   "id": "892cb81b",
   "metadata": {},
   "source": [
    "### 6. Solution and Visit with Time since marking model\n",
    "**Biological hypothesis:** The effects of a psychoactive chemical might be time dependent."
   ]
  },
  {
   "cell_type": "code",
   "execution_count": 13,
   "id": "5cff5050",
   "metadata": {
    "vscode": {
     "languageId": "r"
    }
   },
   "outputs": [
    {
     "name": "stderr",
     "output_type": "stream",
     "text": [
      "boundary (singular) fit: see help('isSingular')\n",
      "\n"
     ]
    }
   ],
   "source": [
    "solution_time_mod = glmer(Final_Binary ~ Solution + TSM_Bin + Visit + Solution:TSM_Bin + (1|Collection_Date) + (Starvation_Period|Colony_ID) + (1|Ant_ID), data = ELP, family = \"binomial\", glmerControl(optimizer = \"bobyqa\", optCtrl = list(maxfun = 1000000000)))"
   ]
  },
  {
   "cell_type": "markdown",
   "id": "fcf2c7eb",
   "metadata": {},
   "source": [
    "### 7. Maximal model\n",
    "**Biological hypothesis:** All of the available variables contribute towards ant learning."
   ]
  },
  {
   "cell_type": "code",
   "execution_count": 14,
   "id": "fcc1c701",
   "metadata": {
    "scrolled": true,
    "vscode": {
     "languageId": "r"
    }
   },
   "outputs": [
    {
     "name": "stderr",
     "output_type": "stream",
     "text": [
      "boundary (singular) fit: see help('isSingular')\n",
      "\n"
     ]
    }
   ],
   "source": [
    "max_mod = glmer(Final_Binary ~ Solution + Visit + TSM_Bin + Reward_Side + Solution:TSM_Bin + (1|Collection_Date) + (Starvation_Period|Colony_ID) + (1|Ant_ID), data = ELP, family = \"binomial\", glmerControl(optimizer = \"bobyqa\", optCtrl = list(maxfun = 1000000000)))"
   ]
  },
  {
   "cell_type": "markdown",
   "id": "3d31eeee",
   "metadata": {},
   "source": [
    "## Model Selection"
   ]
  },
  {
   "cell_type": "code",
   "execution_count": 15,
   "id": "6768b6ea",
   "metadata": {
    "scrolled": false,
    "vscode": {
     "languageId": "r"
    }
   },
   "outputs": [
    {
     "data": {
      "text/html": [
       "<table class=\"dataframe\">\n",
       "<caption>A aictab: 7 × 8</caption>\n",
       "<thead>\n",
       "\t<tr><th></th><th scope=col>Modnames</th><th scope=col>K</th><th scope=col>AICc</th><th scope=col>Delta_AICc</th><th scope=col>ModelLik</th><th scope=col>AICcWt</th><th scope=col>LL</th><th scope=col>Cum.Wt</th></tr>\n",
       "\t<tr><th></th><th scope=col>&lt;chr&gt;</th><th scope=col>&lt;dbl&gt;</th><th scope=col>&lt;dbl&gt;</th><th scope=col>&lt;dbl&gt;</th><th scope=col>&lt;dbl&gt;</th><th scope=col>&lt;dbl&gt;</th><th scope=col>&lt;dbl&gt;</th><th scope=col>&lt;dbl&gt;</th></tr>\n",
       "</thead>\n",
       "<tbody>\n",
       "\t<tr><th scope=row>2</th><td>visit_mod        </td><td>12</td><td>283.6619</td><td>0.000000</td><td>1.00000000</td><td>0.57921441</td><td>-129.1890</td><td>0.5792144</td></tr>\n",
       "\t<tr><th scope=row>7</th><td>max_mod          </td><td>16</td><td>286.7407</td><td>3.078730</td><td>0.21451724</td><td>0.12425147</td><td>-126.2323</td><td>0.7034659</td></tr>\n",
       "\t<tr><th scope=row>6</th><td>solution_time_mod</td><td>15</td><td>287.2960</td><td>3.634021</td><td>0.16251086</td><td>0.09412863</td><td>-127.6480</td><td>0.7975945</td></tr>\n",
       "\t<tr><th scope=row>3</th><td>solution_mod     </td><td>10</td><td>287.6940</td><td>4.032058</td><td>0.13318326</td><td>0.07714166</td><td>-133.3980</td><td>0.8747362</td></tr>\n",
       "\t<tr><th scope=row>4</th><td>side_mod         </td><td>10</td><td>288.3204</td><td>4.658498</td><td>0.09736885</td><td>0.05639744</td><td>-133.7112</td><td>0.9311336</td></tr>\n",
       "\t<tr><th scope=row>1</th><td>null_mod         </td><td> 9</td><td>288.5402</td><td>4.878313</td><td>0.08723439</td><td>0.05052741</td><td>-134.9043</td><td>0.9816610</td></tr>\n",
       "\t<tr><th scope=row>5</th><td>tsm_mod          </td><td>10</td><td>290.5672</td><td>6.905289</td><td>0.03166180</td><td>0.01833897</td><td>-134.8346</td><td>1.0000000</td></tr>\n",
       "</tbody>\n",
       "</table>\n"
      ],
      "text/latex": [
       "A aictab: 7 × 8\n",
       "\\begin{tabular}{r|llllllll}\n",
       "  & Modnames & K & AICc & Delta\\_AICc & ModelLik & AICcWt & LL & Cum.Wt\\\\\n",
       "  & <chr> & <dbl> & <dbl> & <dbl> & <dbl> & <dbl> & <dbl> & <dbl>\\\\\n",
       "\\hline\n",
       "\t2 & visit\\_mod         & 12 & 283.6619 & 0.000000 & 1.00000000 & 0.57921441 & -129.1890 & 0.5792144\\\\\n",
       "\t7 & max\\_mod           & 16 & 286.7407 & 3.078730 & 0.21451724 & 0.12425147 & -126.2323 & 0.7034659\\\\\n",
       "\t6 & solution\\_time\\_mod & 15 & 287.2960 & 3.634021 & 0.16251086 & 0.09412863 & -127.6480 & 0.7975945\\\\\n",
       "\t3 & solution\\_mod      & 10 & 287.6940 & 4.032058 & 0.13318326 & 0.07714166 & -133.3980 & 0.8747362\\\\\n",
       "\t4 & side\\_mod          & 10 & 288.3204 & 4.658498 & 0.09736885 & 0.05639744 & -133.7112 & 0.9311336\\\\\n",
       "\t1 & null\\_mod          &  9 & 288.5402 & 4.878313 & 0.08723439 & 0.05052741 & -134.9043 & 0.9816610\\\\\n",
       "\t5 & tsm\\_mod           & 10 & 290.5672 & 6.905289 & 0.03166180 & 0.01833897 & -134.8346 & 1.0000000\\\\\n",
       "\\end{tabular}\n"
      ],
      "text/markdown": [
       "\n",
       "A aictab: 7 × 8\n",
       "\n",
       "| <!--/--> | Modnames &lt;chr&gt; | K &lt;dbl&gt; | AICc &lt;dbl&gt; | Delta_AICc &lt;dbl&gt; | ModelLik &lt;dbl&gt; | AICcWt &lt;dbl&gt; | LL &lt;dbl&gt; | Cum.Wt &lt;dbl&gt; |\n",
       "|---|---|---|---|---|---|---|---|---|\n",
       "| 2 | visit_mod         | 12 | 283.6619 | 0.000000 | 1.00000000 | 0.57921441 | -129.1890 | 0.5792144 |\n",
       "| 7 | max_mod           | 16 | 286.7407 | 3.078730 | 0.21451724 | 0.12425147 | -126.2323 | 0.7034659 |\n",
       "| 6 | solution_time_mod | 15 | 287.2960 | 3.634021 | 0.16251086 | 0.09412863 | -127.6480 | 0.7975945 |\n",
       "| 3 | solution_mod      | 10 | 287.6940 | 4.032058 | 0.13318326 | 0.07714166 | -133.3980 | 0.8747362 |\n",
       "| 4 | side_mod          | 10 | 288.3204 | 4.658498 | 0.09736885 | 0.05639744 | -133.7112 | 0.9311336 |\n",
       "| 1 | null_mod          |  9 | 288.5402 | 4.878313 | 0.08723439 | 0.05052741 | -134.9043 | 0.9816610 |\n",
       "| 5 | tsm_mod           | 10 | 290.5672 | 6.905289 | 0.03166180 | 0.01833897 | -134.8346 | 1.0000000 |\n",
       "\n"
      ],
      "text/plain": [
       "  Modnames          K  AICc     Delta_AICc ModelLik   AICcWt     LL       \n",
       "2 visit_mod         12 283.6619 0.000000   1.00000000 0.57921441 -129.1890\n",
       "7 max_mod           16 286.7407 3.078730   0.21451724 0.12425147 -126.2323\n",
       "6 solution_time_mod 15 287.2960 3.634021   0.16251086 0.09412863 -127.6480\n",
       "3 solution_mod      10 287.6940 4.032058   0.13318326 0.07714166 -133.3980\n",
       "4 side_mod          10 288.3204 4.658498   0.09736885 0.05639744 -133.7112\n",
       "1 null_mod           9 288.5402 4.878313   0.08723439 0.05052741 -134.9043\n",
       "5 tsm_mod           10 290.5672 6.905289   0.03166180 0.01833897 -134.8346\n",
       "  Cum.Wt   \n",
       "2 0.5792144\n",
       "7 0.7034659\n",
       "6 0.7975945\n",
       "3 0.8747362\n",
       "4 0.9311336\n",
       "1 0.9816610\n",
       "5 1.0000000"
      ]
     },
     "metadata": {},
     "output_type": "display_data"
    },
    {
     "data": {
      "text/html": [
       "<dl>\n",
       "\t<dt>$method</dt>\n",
       "\t\t<dd>'raw'</dd>\n",
       "\t<dt>$level</dt>\n",
       "\t\t<dd>0.95</dd>\n",
       "\t<dt>$table</dt>\n",
       "\t\t<dd><table class=\"dataframe\">\n",
       "<caption>A aictab: 6 × 8</caption>\n",
       "<thead>\n",
       "\t<tr><th></th><th scope=col>Modnames</th><th scope=col>K</th><th scope=col>AICc</th><th scope=col>Delta_AICc</th><th scope=col>ModelLik</th><th scope=col>AICcWt</th><th scope=col>LL</th><th scope=col>Cum.Wt</th></tr>\n",
       "\t<tr><th></th><th scope=col>&lt;chr&gt;</th><th scope=col>&lt;dbl&gt;</th><th scope=col>&lt;dbl&gt;</th><th scope=col>&lt;dbl&gt;</th><th scope=col>&lt;dbl&gt;</th><th scope=col>&lt;dbl&gt;</th><th scope=col>&lt;dbl&gt;</th><th scope=col>&lt;dbl&gt;</th></tr>\n",
       "</thead>\n",
       "<tbody>\n",
       "\t<tr><th scope=row>2</th><td>visit_mod        </td><td>12</td><td>283.6619</td><td>0.000000</td><td>1.00000000</td><td>0.57921441</td><td>-129.1890</td><td>0.5792144</td></tr>\n",
       "\t<tr><th scope=row>7</th><td>max_mod          </td><td>16</td><td>286.7407</td><td>3.078730</td><td>0.21451724</td><td>0.12425147</td><td>-126.2323</td><td>0.7034659</td></tr>\n",
       "\t<tr><th scope=row>6</th><td>solution_time_mod</td><td>15</td><td>287.2960</td><td>3.634021</td><td>0.16251086</td><td>0.09412863</td><td>-127.6480</td><td>0.7975945</td></tr>\n",
       "\t<tr><th scope=row>3</th><td>solution_mod     </td><td>10</td><td>287.6940</td><td>4.032058</td><td>0.13318326</td><td>0.07714166</td><td>-133.3980</td><td>0.8747362</td></tr>\n",
       "\t<tr><th scope=row>4</th><td>side_mod         </td><td>10</td><td>288.3204</td><td>4.658498</td><td>0.09736885</td><td>0.05639744</td><td>-133.7112</td><td>0.9311336</td></tr>\n",
       "\t<tr><th scope=row>1</th><td>null_mod         </td><td> 9</td><td>288.5402</td><td>4.878313</td><td>0.08723439</td><td>0.05052741</td><td>-134.9043</td><td>0.9816610</td></tr>\n",
       "</tbody>\n",
       "</table>\n",
       "</dd>\n",
       "</dl>\n"
      ],
      "text/latex": [
       "\\begin{description}\n",
       "\\item[\\$method] 'raw'\n",
       "\\item[\\$level] 0.95\n",
       "\\item[\\$table] A aictab: 6 × 8\n",
       "\\begin{tabular}{r|llllllll}\n",
       "  & Modnames & K & AICc & Delta\\_AICc & ModelLik & AICcWt & LL & Cum.Wt\\\\\n",
       "  & <chr> & <dbl> & <dbl> & <dbl> & <dbl> & <dbl> & <dbl> & <dbl>\\\\\n",
       "\\hline\n",
       "\t2 & visit\\_mod         & 12 & 283.6619 & 0.000000 & 1.00000000 & 0.57921441 & -129.1890 & 0.5792144\\\\\n",
       "\t7 & max\\_mod           & 16 & 286.7407 & 3.078730 & 0.21451724 & 0.12425147 & -126.2323 & 0.7034659\\\\\n",
       "\t6 & solution\\_time\\_mod & 15 & 287.2960 & 3.634021 & 0.16251086 & 0.09412863 & -127.6480 & 0.7975945\\\\\n",
       "\t3 & solution\\_mod      & 10 & 287.6940 & 4.032058 & 0.13318326 & 0.07714166 & -133.3980 & 0.8747362\\\\\n",
       "\t4 & side\\_mod          & 10 & 288.3204 & 4.658498 & 0.09736885 & 0.05639744 & -133.7112 & 0.9311336\\\\\n",
       "\t1 & null\\_mod          &  9 & 288.5402 & 4.878313 & 0.08723439 & 0.05052741 & -134.9043 & 0.9816610\\\\\n",
       "\\end{tabular}\n",
       "\n",
       "\\end{description}\n"
      ],
      "text/markdown": [
       "$method\n",
       ":   'raw'\n",
       "$level\n",
       ":   0.95\n",
       "$table\n",
       ":   \n",
       "A aictab: 6 × 8\n",
       "\n",
       "| <!--/--> | Modnames &lt;chr&gt; | K &lt;dbl&gt; | AICc &lt;dbl&gt; | Delta_AICc &lt;dbl&gt; | ModelLik &lt;dbl&gt; | AICcWt &lt;dbl&gt; | LL &lt;dbl&gt; | Cum.Wt &lt;dbl&gt; |\n",
       "|---|---|---|---|---|---|---|---|---|\n",
       "| 2 | visit_mod         | 12 | 283.6619 | 0.000000 | 1.00000000 | 0.57921441 | -129.1890 | 0.5792144 |\n",
       "| 7 | max_mod           | 16 | 286.7407 | 3.078730 | 0.21451724 | 0.12425147 | -126.2323 | 0.7034659 |\n",
       "| 6 | solution_time_mod | 15 | 287.2960 | 3.634021 | 0.16251086 | 0.09412863 | -127.6480 | 0.7975945 |\n",
       "| 3 | solution_mod      | 10 | 287.6940 | 4.032058 | 0.13318326 | 0.07714166 | -133.3980 | 0.8747362 |\n",
       "| 4 | side_mod          | 10 | 288.3204 | 4.658498 | 0.09736885 | 0.05639744 | -133.7112 | 0.9311336 |\n",
       "| 1 | null_mod          |  9 | 288.5402 | 4.878313 | 0.08723439 | 0.05052741 | -134.9043 | 0.9816610 |\n",
       "\n",
       "\n",
       "\n",
       "\n"
      ],
      "text/plain": [
       "\n",
       "Confidence set for the best model\n",
       "\n",
       "Method:\t raw sum of model probabilities\n",
       "\n",
       "95% confidence set:\n",
       "                   K   AICc Delta_AICc AICcWt\n",
       "visit_mod         12 283.66       0.00   0.58\n",
       "max_mod           16 286.74       3.08   0.12\n",
       "solution_time_mod 15 287.30       3.63   0.09\n",
       "solution_mod      10 287.69       4.03   0.08\n",
       "side_mod          10 288.32       4.66   0.06\n",
       "null_mod           9 288.54       4.88   0.05\n",
       "\n",
       "Model probabilities sum to 0.98 \n"
      ]
     },
     "metadata": {},
     "output_type": "display_data"
    }
   ],
   "source": [
    "cand_models = list(\"null_mod\" = null_mod, \n",
    "                   \"visit_mod\" = visit_mod,\n",
    "                   \"solution_mod\" = solution_mod,\n",
    "                   \"side_mod\" = side_mod,\n",
    "                   \"tsm_mod\" = tsm_mod,\n",
    "                   \"solution_time_mod\" = solution_time_mod,\n",
    "                   \"max_mod\" = max_mod)\n",
    "\n",
    "aictab(cand_models)\n",
    "confset(cand.set = cand_models) # Remove models that explain the last 0.05 Cum.Wt"
   ]
  },
  {
   "cell_type": "markdown",
   "id": "8bbc4ed3",
   "metadata": {},
   "source": [
    "**The visit_mod explains 58% of the total variance explained by all of the models tested.**"
   ]
  },
  {
   "cell_type": "code",
   "execution_count": 16,
   "id": "de24bba9",
   "metadata": {
    "scrolled": true,
    "vscode": {
     "languageId": "r"
    }
   },
   "outputs": [
    {
     "data": {
      "text/html": [
       "<dl>\n",
       "\t<dt>$Model.high</dt>\n",
       "\t\t<dd>'visit_mod'</dd>\n",
       "\t<dt>$Model.low</dt>\n",
       "\t\t<dd>'max_mod'</dd>\n",
       "\t<dt>$Ev.ratio</dt>\n",
       "\t\t<dd>4.66163003077384</dd>\n",
       "</dl>\n"
      ],
      "text/latex": [
       "\\begin{description}\n",
       "\\item[\\$Model.high] 'visit\\_mod'\n",
       "\\item[\\$Model.low] 'max\\_mod'\n",
       "\\item[\\$Ev.ratio] 4.66163003077384\n",
       "\\end{description}\n"
      ],
      "text/markdown": [
       "$Model.high\n",
       ":   'visit_mod'\n",
       "$Model.low\n",
       ":   'max_mod'\n",
       "$Ev.ratio\n",
       ":   4.66163003077384\n",
       "\n",
       "\n"
      ],
      "text/plain": [
       "\n",
       "Evidence ratio between models 'visit_mod' and 'max_mod':\n",
       "4.66 \n"
      ]
     },
     "metadata": {},
     "output_type": "display_data"
    }
   ],
   "source": [
    "evidence(aic.table = aictab(cand_models))"
   ]
  },
  {
   "cell_type": "markdown",
   "id": "8f498389",
   "metadata": {},
   "source": [
    "The visit model is 5 times more parsimonious than the next \"best\" model (max_mod)."
   ]
  },
  {
   "cell_type": "code",
   "execution_count": 17,
   "id": "83fe2071",
   "metadata": {
    "scrolled": false,
    "vscode": {
     "languageId": "r"
    }
   },
   "outputs": [
    {
     "data": {
      "image/png": "[encoded data removed]",
      "text/plain": [
       "Plot with title “”"
      ]
     },
     "metadata": {
      "image/png": {
       "height": 420,
       "width": 420
      }
     },
     "output_type": "display_data"
    }
   ],
   "source": [
    "plot(ELP$Reward_Side, ELP$Final_Binary)"
   ]
  },
  {
   "cell_type": "code",
   "execution_count": 18,
   "id": "f5bc6fa7",
   "metadata": {
    "vscode": {
     "languageId": "r"
    }
   },
   "outputs": [
    {
     "data": {
      "image/png": "[encoded data removed]",
      "text/plain": [
       "Plot with title “”"
      ]
     },
     "metadata": {
      "image/png": {
       "height": 420,
       "width": 420
      }
     },
     "output_type": "display_data"
    }
   ],
   "source": [
    "plot(ELP$Visit, ELP$Final_Binary)"
   ]
  },
  {
   "cell_type": "markdown",
   "id": "bca19c16",
   "metadata": {},
   "source": [
    "## Initial Conclusions\n",
    "- Consecutive visits seems to increase the number of ants choosing the reward side.\n",
    "- There seems to be a very slight side bias towards the Left.\n",
    "\n",
    "## Brain lateralisation VS Visual Cues\n",
    "**This setup had the wall on the Right!**"
   ]
  },
  {
   "cell_type": "markdown",
   "id": "bc44157e",
   "metadata": {},
   "source": [
    "## Model averaging"
   ]
  },
  {
   "cell_type": "code",
   "execution_count": 19,
   "id": "9401138f",
   "metadata": {
    "vscode": {
     "languageId": "r"
    }
   },
   "outputs": [
    {
     "data": {
      "text/html": [
       "<dl>\n",
       "\t<dt>$method</dt>\n",
       "\t\t<dd>'raw'</dd>\n",
       "\t<dt>$level</dt>\n",
       "\t\t<dd>0.95</dd>\n",
       "\t<dt>$table</dt>\n",
       "\t\t<dd><table class=\"dataframe\">\n",
       "<caption>A aictab: 6 × 8</caption>\n",
       "<thead>\n",
       "\t<tr><th></th><th scope=col>Modnames</th><th scope=col>K</th><th scope=col>AICc</th><th scope=col>Delta_AICc</th><th scope=col>ModelLik</th><th scope=col>AICcWt</th><th scope=col>LL</th><th scope=col>Cum.Wt</th></tr>\n",
       "\t<tr><th></th><th scope=col>&lt;chr&gt;</th><th scope=col>&lt;dbl&gt;</th><th scope=col>&lt;dbl&gt;</th><th scope=col>&lt;dbl&gt;</th><th scope=col>&lt;dbl&gt;</th><th scope=col>&lt;dbl&gt;</th><th scope=col>&lt;dbl&gt;</th><th scope=col>&lt;dbl&gt;</th></tr>\n",
       "</thead>\n",
       "<tbody>\n",
       "\t<tr><th scope=row>2</th><td>visit_mod        </td><td>12</td><td>283.6619</td><td>0.000000</td><td>1.00000000</td><td>0.57921441</td><td>-129.1890</td><td>0.5792144</td></tr>\n",
       "\t<tr><th scope=row>7</th><td>max_mod          </td><td>16</td><td>286.7407</td><td>3.078730</td><td>0.21451724</td><td>0.12425147</td><td>-126.2323</td><td>0.7034659</td></tr>\n",
       "\t<tr><th scope=row>6</th><td>solution_time_mod</td><td>15</td><td>287.2960</td><td>3.634021</td><td>0.16251086</td><td>0.09412863</td><td>-127.6480</td><td>0.7975945</td></tr>\n",
       "\t<tr><th scope=row>3</th><td>solution_mod     </td><td>10</td><td>287.6940</td><td>4.032058</td><td>0.13318326</td><td>0.07714166</td><td>-133.3980</td><td>0.8747362</td></tr>\n",
       "\t<tr><th scope=row>4</th><td>side_mod         </td><td>10</td><td>288.3204</td><td>4.658498</td><td>0.09736885</td><td>0.05639744</td><td>-133.7112</td><td>0.9311336</td></tr>\n",
       "\t<tr><th scope=row>1</th><td>null_mod         </td><td> 9</td><td>288.5402</td><td>4.878313</td><td>0.08723439</td><td>0.05052741</td><td>-134.9043</td><td>0.9816610</td></tr>\n",
       "</tbody>\n",
       "</table>\n",
       "</dd>\n",
       "</dl>\n"
      ],
      "text/latex": [
       "\\begin{description}\n",
       "\\item[\\$method] 'raw'\n",
       "\\item[\\$level] 0.95\n",
       "\\item[\\$table] A aictab: 6 × 8\n",
       "\\begin{tabular}{r|llllllll}\n",
       "  & Modnames & K & AICc & Delta\\_AICc & ModelLik & AICcWt & LL & Cum.Wt\\\\\n",
       "  & <chr> & <dbl> & <dbl> & <dbl> & <dbl> & <dbl> & <dbl> & <dbl>\\\\\n",
       "\\hline\n",
       "\t2 & visit\\_mod         & 12 & 283.6619 & 0.000000 & 1.00000000 & 0.57921441 & -129.1890 & 0.5792144\\\\\n",
       "\t7 & max\\_mod           & 16 & 286.7407 & 3.078730 & 0.21451724 & 0.12425147 & -126.2323 & 0.7034659\\\\\n",
       "\t6 & solution\\_time\\_mod & 15 & 287.2960 & 3.634021 & 0.16251086 & 0.09412863 & -127.6480 & 0.7975945\\\\\n",
       "\t3 & solution\\_mod      & 10 & 287.6940 & 4.032058 & 0.13318326 & 0.07714166 & -133.3980 & 0.8747362\\\\\n",
       "\t4 & side\\_mod          & 10 & 288.3204 & 4.658498 & 0.09736885 & 0.05639744 & -133.7112 & 0.9311336\\\\\n",
       "\t1 & null\\_mod          &  9 & 288.5402 & 4.878313 & 0.08723439 & 0.05052741 & -134.9043 & 0.9816610\\\\\n",
       "\\end{tabular}\n",
       "\n",
       "\\end{description}\n"
      ],
      "text/markdown": [
       "$method\n",
       ":   'raw'\n",
       "$level\n",
       ":   0.95\n",
       "$table\n",
       ":   \n",
       "A aictab: 6 × 8\n",
       "\n",
       "| <!--/--> | Modnames &lt;chr&gt; | K &lt;dbl&gt; | AICc &lt;dbl&gt; | Delta_AICc &lt;dbl&gt; | ModelLik &lt;dbl&gt; | AICcWt &lt;dbl&gt; | LL &lt;dbl&gt; | Cum.Wt &lt;dbl&gt; |\n",
       "|---|---|---|---|---|---|---|---|---|\n",
       "| 2 | visit_mod         | 12 | 283.6619 | 0.000000 | 1.00000000 | 0.57921441 | -129.1890 | 0.5792144 |\n",
       "| 7 | max_mod           | 16 | 286.7407 | 3.078730 | 0.21451724 | 0.12425147 | -126.2323 | 0.7034659 |\n",
       "| 6 | solution_time_mod | 15 | 287.2960 | 3.634021 | 0.16251086 | 0.09412863 | -127.6480 | 0.7975945 |\n",
       "| 3 | solution_mod      | 10 | 287.6940 | 4.032058 | 0.13318326 | 0.07714166 | -133.3980 | 0.8747362 |\n",
       "| 4 | side_mod          | 10 | 288.3204 | 4.658498 | 0.09736885 | 0.05639744 | -133.7112 | 0.9311336 |\n",
       "| 1 | null_mod          |  9 | 288.5402 | 4.878313 | 0.08723439 | 0.05052741 | -134.9043 | 0.9816610 |\n",
       "\n",
       "\n",
       "\n",
       "\n"
      ],
      "text/plain": [
       "\n",
       "Confidence set for the best model\n",
       "\n",
       "Method:\t raw sum of model probabilities\n",
       "\n",
       "95% confidence set:\n",
       "                   K   AICc Delta_AICc AICcWt\n",
       "visit_mod         12 283.66       0.00   0.58\n",
       "max_mod           16 286.74       3.08   0.12\n",
       "solution_time_mod 15 287.30       3.63   0.09\n",
       "solution_mod      10 287.69       4.03   0.08\n",
       "side_mod          10 288.32       4.66   0.06\n",
       "null_mod           9 288.54       4.88   0.05\n",
       "\n",
       "Model probabilities sum to 0.98 \n"
      ]
     },
     "metadata": {},
     "output_type": "display_data"
    }
   ],
   "source": [
    "confset(cand.set = cand_models) # Remove models that explain the last 0.05 Cum.Wt"
   ]
  },
  {
   "cell_type": "markdown",
   "id": "09b05465",
   "metadata": {},
   "source": [
    "There is no clearly better model!"
   ]
  },
  {
   "cell_type": "code",
   "execution_count": 21,
   "id": "7a07059d",
   "metadata": {
    "scrolled": true,
    "vscode": {
     "languageId": "r"
    }
   },
   "outputs": [
    {
     "name": "stderr",
     "output_type": "stream",
     "text": [
      "Warning message in modavgShrink.AICglmerMod(top_models, parm = \"(Intercept)\"):\n",
      "“\n",
      "Variables do not appear with same frequency across models, proceed with caution\n",
      "”\n"
     ]
    },
    {
     "data": {
      "text/html": [
       "<dl>\n",
       "\t<dt>$Parameter</dt>\n",
       "\t\t<dd>'(Intercept)'</dd>\n",
       "\t<dt>$Mod.avg.table</dt>\n",
       "\t\t<dd><table class=\"dataframe\">\n",
       "<caption>A aictab: 6 × 9</caption>\n",
       "<thead>\n",
       "\t<tr><th scope=col>Modnames</th><th scope=col>K</th><th scope=col>AICc</th><th scope=col>Delta_AICc</th><th scope=col>ModelLik</th><th scope=col>AICcWt</th><th scope=col>LL</th><th scope=col>Beta_est</th><th scope=col>SE</th></tr>\n",
       "\t<tr><th scope=col>&lt;chr&gt;</th><th scope=col>&lt;dbl&gt;</th><th scope=col>&lt;dbl&gt;</th><th scope=col>&lt;dbl&gt;</th><th scope=col>&lt;dbl&gt;</th><th scope=col>&lt;dbl&gt;</th><th scope=col>&lt;dbl&gt;</th><th scope=col>&lt;dbl&gt;</th><th scope=col>&lt;dbl&gt;</th></tr>\n",
       "</thead>\n",
       "<tbody>\n",
       "\t<tr><td>visit_mod        </td><td>12</td><td>283.6619</td><td>0.000000</td><td>1.00000000</td><td>0.59003504</td><td>-129.1890</td><td>0.8828745</td><td>0.4723553</td></tr>\n",
       "\t<tr><td>max_mod          </td><td>16</td><td>286.7407</td><td>3.078730</td><td>0.21451724</td><td>0.12657269</td><td>-126.2323</td><td>1.2170319</td><td>0.5272329</td></tr>\n",
       "\t<tr><td>solution_time_mod</td><td>15</td><td>287.2960</td><td>3.634021</td><td>0.16251086</td><td>0.09588710</td><td>-127.6480</td><td>1.1044540</td><td>0.4991045</td></tr>\n",
       "\t<tr><td>solution_mod     </td><td>10</td><td>287.6940</td><td>4.032058</td><td>0.13318326</td><td>0.07858279</td><td>-133.3980</td><td>1.8293643</td><td>0.4351237</td></tr>\n",
       "\t<tr><td>side_mod         </td><td>10</td><td>288.3204</td><td>4.658498</td><td>0.09736885</td><td>0.05745104</td><td>-133.7112</td><td>1.7737162</td><td>0.4433144</td></tr>\n",
       "\t<tr><td>null_mod         </td><td> 9</td><td>288.5402</td><td>4.878313</td><td>0.08723439</td><td>0.05147134</td><td>-134.9043</td><td>1.5481181</td><td>0.3992679</td></tr>\n",
       "</tbody>\n",
       "</table>\n",
       "</dd>\n",
       "\t<dt>$Mod.avg.beta</dt>\n",
       "\t\t<dd>1.10621485558824</dd>\n",
       "\t<dt>$Uncond.SE</dt>\n",
       "\t\t<dd>0.576907514471477</dd>\n",
       "\t<dt>$Conf.level</dt>\n",
       "\t\t<dd>0.95</dd>\n",
       "\t<dt>$Lower.CL</dt>\n",
       "\t\t<dd>-0.0245030951863718</dd>\n",
       "\t<dt>$Upper.CL</dt>\n",
       "\t\t<dd>2.23693280636286</dd>\n",
       "</dl>\n"
      ],
      "text/latex": [
       "\\begin{description}\n",
       "\\item[\\$Parameter] '(Intercept)'\n",
       "\\item[\\$Mod.avg.table] A aictab: 6 × 9\n",
       "\\begin{tabular}{lllllllll}\n",
       " Modnames & K & AICc & Delta\\_AICc & ModelLik & AICcWt & LL & Beta\\_est & SE\\\\\n",
       " <chr> & <dbl> & <dbl> & <dbl> & <dbl> & <dbl> & <dbl> & <dbl> & <dbl>\\\\\n",
       "\\hline\n",
       "\t visit\\_mod         & 12 & 283.6619 & 0.000000 & 1.00000000 & 0.59003504 & -129.1890 & 0.8828745 & 0.4723553\\\\\n",
       "\t max\\_mod           & 16 & 286.7407 & 3.078730 & 0.21451724 & 0.12657269 & -126.2323 & 1.2170319 & 0.5272329\\\\\n",
       "\t solution\\_time\\_mod & 15 & 287.2960 & 3.634021 & 0.16251086 & 0.09588710 & -127.6480 & 1.1044540 & 0.4991045\\\\\n",
       "\t solution\\_mod      & 10 & 287.6940 & 4.032058 & 0.13318326 & 0.07858279 & -133.3980 & 1.8293643 & 0.4351237\\\\\n",
       "\t side\\_mod          & 10 & 288.3204 & 4.658498 & 0.09736885 & 0.05745104 & -133.7112 & 1.7737162 & 0.4433144\\\\\n",
       "\t null\\_mod          &  9 & 288.5402 & 4.878313 & 0.08723439 & 0.05147134 & -134.9043 & 1.5481181 & 0.3992679\\\\\n",
       "\\end{tabular}\n",
       "\n",
       "\\item[\\$Mod.avg.beta] 1.10621485558824\n",
       "\\item[\\$Uncond.SE] 0.576907514471477\n",
       "\\item[\\$Conf.level] 0.95\n",
       "\\item[\\$Lower.CL] -0.0245030951863718\n",
       "\\item[\\$Upper.CL] 2.23693280636286\n",
       "\\end{description}\n"
      ],
      "text/markdown": [
       "$Parameter\n",
       ":   '(Intercept)'\n",
       "$Mod.avg.table\n",
       ":   \n",
       "A aictab: 6 × 9\n",
       "\n",
       "| Modnames &lt;chr&gt; | K &lt;dbl&gt; | AICc &lt;dbl&gt; | Delta_AICc &lt;dbl&gt; | ModelLik &lt;dbl&gt; | AICcWt &lt;dbl&gt; | LL &lt;dbl&gt; | Beta_est &lt;dbl&gt; | SE &lt;dbl&gt; |\n",
       "|---|---|---|---|---|---|---|---|---|\n",
       "| visit_mod         | 12 | 283.6619 | 0.000000 | 1.00000000 | 0.59003504 | -129.1890 | 0.8828745 | 0.4723553 |\n",
       "| max_mod           | 16 | 286.7407 | 3.078730 | 0.21451724 | 0.12657269 | -126.2323 | 1.2170319 | 0.5272329 |\n",
       "| solution_time_mod | 15 | 287.2960 | 3.634021 | 0.16251086 | 0.09588710 | -127.6480 | 1.1044540 | 0.4991045 |\n",
       "| solution_mod      | 10 | 287.6940 | 4.032058 | 0.13318326 | 0.07858279 | -133.3980 | 1.8293643 | 0.4351237 |\n",
       "| side_mod          | 10 | 288.3204 | 4.658498 | 0.09736885 | 0.05745104 | -133.7112 | 1.7737162 | 0.4433144 |\n",
       "| null_mod          |  9 | 288.5402 | 4.878313 | 0.08723439 | 0.05147134 | -134.9043 | 1.5481181 | 0.3992679 |\n",
       "\n",
       "\n",
       "$Mod.avg.beta\n",
       ":   1.10621485558824\n",
       "$Uncond.SE\n",
       ":   0.576907514471477\n",
       "$Conf.level\n",
       ":   0.95\n",
       "$Lower.CL\n",
       ":   -0.0245030951863718\n",
       "$Upper.CL\n",
       ":   2.23693280636286\n",
       "\n",
       "\n"
      ],
      "text/plain": [
       "\n",
       "Multimodel inference on \"(Intercept)\" based on AICc\n",
       "\n",
       "AICc table used to obtain model-averaged estimate with shrinkage:\n",
       "\n",
       "                   K   AICc Delta_AICc AICcWt Estimate   SE\n",
       "visit_mod         12 283.66       0.00   0.59     0.88 0.47\n",
       "max_mod           16 286.74       3.08   0.13     1.22 0.53\n",
       "solution_time_mod 15 287.30       3.63   0.10     1.10 0.50\n",
       "solution_mod      10 287.69       4.03   0.08     1.83 0.44\n",
       "side_mod          10 288.32       4.66   0.06     1.77 0.44\n",
       "null_mod           9 288.54       4.88   0.05     1.55 0.40\n",
       "\n",
       "Model-averaged estimate with shrinkage: 1.11 \n",
       "Unconditional SE: 0.58 \n",
       "95% Unconditional confidence interval: -0.02, 2.24\n"
      ]
     },
     "metadata": {},
     "output_type": "display_data"
    },
    {
     "data": {
      "text/html": [
       "<dl>\n",
       "\t<dt>$Parameter</dt>\n",
       "\t\t<dd>'SolutionNicotine'</dd>\n",
       "\t<dt>$Mod.avg.table</dt>\n",
       "\t\t<dd><table class=\"dataframe\">\n",
       "<caption>A aictab: 3 × 9</caption>\n",
       "<thead>\n",
       "\t<tr><th scope=col>Modnames</th><th scope=col>K</th><th scope=col>AICc</th><th scope=col>Delta_AICc</th><th scope=col>ModelLik</th><th scope=col>AICcWt</th><th scope=col>LL</th><th scope=col>Beta_est</th><th scope=col>SE</th></tr>\n",
       "\t<tr><th scope=col>&lt;chr&gt;</th><th scope=col>&lt;dbl&gt;</th><th scope=col>&lt;dbl&gt;</th><th scope=col>&lt;dbl&gt;</th><th scope=col>&lt;dbl&gt;</th><th scope=col>&lt;dbl&gt;</th><th scope=col>&lt;dbl&gt;</th><th scope=col>&lt;dbl&gt;</th><th scope=col>&lt;dbl&gt;</th></tr>\n",
       "</thead>\n",
       "<tbody>\n",
       "\t<tr><td>max_mod          </td><td>16</td><td>286.7407</td><td>0.0000000</td><td>1.0000000</td><td>0.4204478</td><td>-126.2323</td><td>-0.4855280</td><td>0.5046182</td></tr>\n",
       "\t<tr><td>solution_time_mod</td><td>15</td><td>287.2960</td><td>0.5552906</td><td>0.7575655</td><td>0.3185167</td><td>-127.6480</td><td>-0.4876039</td><td>0.5235633</td></tr>\n",
       "\t<tr><td>solution_mod     </td><td>10</td><td>287.6940</td><td>0.9533281</td><td>0.6208511</td><td>0.2610355</td><td>-133.3980</td><td>-0.6094866</td><td>0.3469903</td></tr>\n",
       "</tbody>\n",
       "</table>\n",
       "</dd>\n",
       "\t<dt>$Mod.avg.beta</dt>\n",
       "\t\t<dd>-0.518546793936735</dd>\n",
       "\t<dt>$Uncond.SE</dt>\n",
       "\t\t<dd>0.47825238849001</dd>\n",
       "\t<dt>$Conf.level</dt>\n",
       "\t\t<dd>0.95</dd>\n",
       "\t<dt>$Lower.CL</dt>\n",
       "\t\t<dd>-1.45590425089741</dd>\n",
       "\t<dt>$Upper.CL</dt>\n",
       "\t\t<dd>0.418810663023943</dd>\n",
       "</dl>\n"
      ],
      "text/latex": [
       "\\begin{description}\n",
       "\\item[\\$Parameter] 'SolutionNicotine'\n",
       "\\item[\\$Mod.avg.table] A aictab: 3 × 9\n",
       "\\begin{tabular}{lllllllll}\n",
       " Modnames & K & AICc & Delta\\_AICc & ModelLik & AICcWt & LL & Beta\\_est & SE\\\\\n",
       " <chr> & <dbl> & <dbl> & <dbl> & <dbl> & <dbl> & <dbl> & <dbl> & <dbl>\\\\\n",
       "\\hline\n",
       "\t max\\_mod           & 16 & 286.7407 & 0.0000000 & 1.0000000 & 0.4204478 & -126.2323 & -0.4855280 & 0.5046182\\\\\n",
       "\t solution\\_time\\_mod & 15 & 287.2960 & 0.5552906 & 0.7575655 & 0.3185167 & -127.6480 & -0.4876039 & 0.5235633\\\\\n",
       "\t solution\\_mod      & 10 & 287.6940 & 0.9533281 & 0.6208511 & 0.2610355 & -133.3980 & -0.6094866 & 0.3469903\\\\\n",
       "\\end{tabular}\n",
       "\n",
       "\\item[\\$Mod.avg.beta] -0.518546793936735\n",
       "\\item[\\$Uncond.SE] 0.47825238849001\n",
       "\\item[\\$Conf.level] 0.95\n",
       "\\item[\\$Lower.CL] -1.45590425089741\n",
       "\\item[\\$Upper.CL] 0.418810663023943\n",
       "\\end{description}\n"
      ],
      "text/markdown": [
       "$Parameter\n",
       ":   'SolutionNicotine'\n",
       "$Mod.avg.table\n",
       ":   \n",
       "A aictab: 3 × 9\n",
       "\n",
       "| Modnames &lt;chr&gt; | K &lt;dbl&gt; | AICc &lt;dbl&gt; | Delta_AICc &lt;dbl&gt; | ModelLik &lt;dbl&gt; | AICcWt &lt;dbl&gt; | LL &lt;dbl&gt; | Beta_est &lt;dbl&gt; | SE &lt;dbl&gt; |\n",
       "|---|---|---|---|---|---|---|---|---|\n",
       "| max_mod           | 16 | 286.7407 | 0.0000000 | 1.0000000 | 0.4204478 | -126.2323 | -0.4855280 | 0.5046182 |\n",
       "| solution_time_mod | 15 | 287.2960 | 0.5552906 | 0.7575655 | 0.3185167 | -127.6480 | -0.4876039 | 0.5235633 |\n",
       "| solution_mod      | 10 | 287.6940 | 0.9533281 | 0.6208511 | 0.2610355 | -133.3980 | -0.6094866 | 0.3469903 |\n",
       "\n",
       "\n",
       "$Mod.avg.beta\n",
       ":   -0.518546793936735\n",
       "$Uncond.SE\n",
       ":   0.47825238849001\n",
       "$Conf.level\n",
       ":   0.95\n",
       "$Lower.CL\n",
       ":   -1.45590425089741\n",
       "$Upper.CL\n",
       ":   0.418810663023943\n",
       "\n",
       "\n"
      ],
      "text/plain": [
       "\n",
       "Multimodel inference on \"SolutionNicotine\" based on AICc\n",
       "\n",
       "AICc table used to obtain model-averaged estimate:\n",
       "\n",
       "                   K   AICc Delta_AICc AICcWt Estimate   SE\n",
       "max_mod           16 286.74       0.00   0.42    -0.49 0.50\n",
       "solution_time_mod 15 287.30       0.56   0.32    -0.49 0.52\n",
       "solution_mod      10 287.69       0.95   0.26    -0.61 0.35\n",
       "\n",
       "Model-averaged estimate: -0.52 \n",
       "Unconditional SE: 0.48 \n",
       "95% Unconditional confidence interval: -1.46, 0.42\n"
      ]
     },
     "metadata": {},
     "output_type": "display_data"
    },
    {
     "name": "stderr",
     "output_type": "stream",
     "text": [
      "Warning message in modavgShrink.AICglmerMod(top_models, parm = \"Visit3\"):\n",
      "“\n",
      "Variables do not appear with same frequency across models, proceed with caution\n",
      "”\n"
     ]
    },
    {
     "data": {
      "text/html": [
       "<dl>\n",
       "\t<dt>$Parameter</dt>\n",
       "\t\t<dd>'Visit3'</dd>\n",
       "\t<dt>$Mod.avg.table</dt>\n",
       "\t\t<dd><table class=\"dataframe\">\n",
       "<caption>A aictab: 6 × 9</caption>\n",
       "<thead>\n",
       "\t<tr><th scope=col>Modnames</th><th scope=col>K</th><th scope=col>AICc</th><th scope=col>Delta_AICc</th><th scope=col>ModelLik</th><th scope=col>AICcWt</th><th scope=col>LL</th><th scope=col>Beta_est</th><th scope=col>SE</th></tr>\n",
       "\t<tr><th scope=col>&lt;chr&gt;</th><th scope=col>&lt;dbl&gt;</th><th scope=col>&lt;dbl&gt;</th><th scope=col>&lt;dbl&gt;</th><th scope=col>&lt;dbl&gt;</th><th scope=col>&lt;dbl&gt;</th><th scope=col>&lt;dbl&gt;</th><th scope=col>&lt;dbl&gt;</th><th scope=col>&lt;dbl&gt;</th></tr>\n",
       "</thead>\n",
       "<tbody>\n",
       "\t<tr><td>visit_mod        </td><td>12</td><td>283.6619</td><td>0.000000</td><td>1.00000000</td><td>0.59003504</td><td>-129.1890</td><td>0.6091054</td><td>0.4232808</td></tr>\n",
       "\t<tr><td>max_mod          </td><td>16</td><td>286.7407</td><td>3.078730</td><td>0.21451724</td><td>0.12657269</td><td>-126.2323</td><td>0.6043459</td><td>0.4215980</td></tr>\n",
       "\t<tr><td>solution_time_mod</td><td>15</td><td>287.2960</td><td>3.634021</td><td>0.16251086</td><td>0.09588710</td><td>-127.6480</td><td>0.6075310</td><td>0.4226981</td></tr>\n",
       "\t<tr><td>solution_mod     </td><td>10</td><td>287.6940</td><td>4.032058</td><td>0.13318326</td><td>0.07858279</td><td>-133.3980</td><td>0.0000000</td><td>0.0000000</td></tr>\n",
       "\t<tr><td>side_mod         </td><td>10</td><td>288.3204</td><td>4.658498</td><td>0.09736885</td><td>0.05745104</td><td>-133.7112</td><td>0.0000000</td><td>0.0000000</td></tr>\n",
       "\t<tr><td>null_mod         </td><td> 9</td><td>288.5402</td><td>4.878313</td><td>0.08723439</td><td>0.05147134</td><td>-134.9043</td><td>0.0000000</td><td>0.0000000</td></tr>\n",
       "</tbody>\n",
       "</table>\n",
       "</dd>\n",
       "\t<dt>$Mod.avg.beta</dt>\n",
       "\t\t<dd>0.494141589454045</dd>\n",
       "\t<dt>$Uncond.SE</dt>\n",
       "\t\t<dd>0.449107302122946</dd>\n",
       "\t<dt>$Conf.level</dt>\n",
       "\t\t<dd>0.95</dd>\n",
       "\t<dt>$Lower.CL</dt>\n",
       "\t\t<dd>-0.386092547900878</dd>\n",
       "\t<dt>$Upper.CL</dt>\n",
       "\t\t<dd>1.37437572680897</dd>\n",
       "</dl>\n"
      ],
      "text/latex": [
       "\\begin{description}\n",
       "\\item[\\$Parameter] 'Visit3'\n",
       "\\item[\\$Mod.avg.table] A aictab: 6 × 9\n",
       "\\begin{tabular}{lllllllll}\n",
       " Modnames & K & AICc & Delta\\_AICc & ModelLik & AICcWt & LL & Beta\\_est & SE\\\\\n",
       " <chr> & <dbl> & <dbl> & <dbl> & <dbl> & <dbl> & <dbl> & <dbl> & <dbl>\\\\\n",
       "\\hline\n",
       "\t visit\\_mod         & 12 & 283.6619 & 0.000000 & 1.00000000 & 0.59003504 & -129.1890 & 0.6091054 & 0.4232808\\\\\n",
       "\t max\\_mod           & 16 & 286.7407 & 3.078730 & 0.21451724 & 0.12657269 & -126.2323 & 0.6043459 & 0.4215980\\\\\n",
       "\t solution\\_time\\_mod & 15 & 287.2960 & 3.634021 & 0.16251086 & 0.09588710 & -127.6480 & 0.6075310 & 0.4226981\\\\\n",
       "\t solution\\_mod      & 10 & 287.6940 & 4.032058 & 0.13318326 & 0.07858279 & -133.3980 & 0.0000000 & 0.0000000\\\\\n",
       "\t side\\_mod          & 10 & 288.3204 & 4.658498 & 0.09736885 & 0.05745104 & -133.7112 & 0.0000000 & 0.0000000\\\\\n",
       "\t null\\_mod          &  9 & 288.5402 & 4.878313 & 0.08723439 & 0.05147134 & -134.9043 & 0.0000000 & 0.0000000\\\\\n",
       "\\end{tabular}\n",
       "\n",
       "\\item[\\$Mod.avg.beta] 0.494141589454045\n",
       "\\item[\\$Uncond.SE] 0.449107302122946\n",
       "\\item[\\$Conf.level] 0.95\n",
       "\\item[\\$Lower.CL] -0.386092547900878\n",
       "\\item[\\$Upper.CL] 1.37437572680897\n",
       "\\end{description}\n"
      ],
      "text/markdown": [
       "$Parameter\n",
       ":   'Visit3'\n",
       "$Mod.avg.table\n",
       ":   \n",
       "A aictab: 6 × 9\n",
       "\n",
       "| Modnames &lt;chr&gt; | K &lt;dbl&gt; | AICc &lt;dbl&gt; | Delta_AICc &lt;dbl&gt; | ModelLik &lt;dbl&gt; | AICcWt &lt;dbl&gt; | LL &lt;dbl&gt; | Beta_est &lt;dbl&gt; | SE &lt;dbl&gt; |\n",
       "|---|---|---|---|---|---|---|---|---|\n",
       "| visit_mod         | 12 | 283.6619 | 0.000000 | 1.00000000 | 0.59003504 | -129.1890 | 0.6091054 | 0.4232808 |\n",
       "| max_mod           | 16 | 286.7407 | 3.078730 | 0.21451724 | 0.12657269 | -126.2323 | 0.6043459 | 0.4215980 |\n",
       "| solution_time_mod | 15 | 287.2960 | 3.634021 | 0.16251086 | 0.09588710 | -127.6480 | 0.6075310 | 0.4226981 |\n",
       "| solution_mod      | 10 | 287.6940 | 4.032058 | 0.13318326 | 0.07858279 | -133.3980 | 0.0000000 | 0.0000000 |\n",
       "| side_mod          | 10 | 288.3204 | 4.658498 | 0.09736885 | 0.05745104 | -133.7112 | 0.0000000 | 0.0000000 |\n",
       "| null_mod          |  9 | 288.5402 | 4.878313 | 0.08723439 | 0.05147134 | -134.9043 | 0.0000000 | 0.0000000 |\n",
       "\n",
       "\n",
       "$Mod.avg.beta\n",
       ":   0.494141589454045\n",
       "$Uncond.SE\n",
       ":   0.449107302122946\n",
       "$Conf.level\n",
       ":   0.95\n",
       "$Lower.CL\n",
       ":   -0.386092547900878\n",
       "$Upper.CL\n",
       ":   1.37437572680897\n",
       "\n",
       "\n"
      ],
      "text/plain": [
       "\n",
       "Multimodel inference on \"Visit3\" based on AICc\n",
       "\n",
       "AICc table used to obtain model-averaged estimate with shrinkage:\n",
       "\n",
       "                   K   AICc Delta_AICc AICcWt Estimate   SE\n",
       "visit_mod         12 283.66       0.00   0.59     0.61 0.42\n",
       "max_mod           16 286.74       3.08   0.13     0.60 0.42\n",
       "solution_time_mod 15 287.30       3.63   0.10     0.61 0.42\n",
       "solution_mod      10 287.69       4.03   0.08     0.00 0.00\n",
       "side_mod          10 288.32       4.66   0.06     0.00 0.00\n",
       "null_mod           9 288.54       4.88   0.05     0.00 0.00\n",
       "\n",
       "Model-averaged estimate with shrinkage: 0.49 \n",
       "Unconditional SE: 0.45 \n",
       "95% Unconditional confidence interval: -0.39, 1.37\n"
      ]
     },
     "metadata": {},
     "output_type": "display_data"
    },
    {
     "name": "stderr",
     "output_type": "stream",
     "text": [
      "Warning message in modavgShrink.AICglmerMod(top_models, parm = \"Visit4\"):\n",
      "“\n",
      "Variables do not appear with same frequency across models, proceed with caution\n",
      "”\n"
     ]
    },
    {
     "data": {
      "text/html": [
       "<dl>\n",
       "\t<dt>$Parameter</dt>\n",
       "\t\t<dd>'Visit4'</dd>\n",
       "\t<dt>$Mod.avg.table</dt>\n",
       "\t\t<dd><table class=\"dataframe\">\n",
       "<caption>A aictab: 6 × 9</caption>\n",
       "<thead>\n",
       "\t<tr><th scope=col>Modnames</th><th scope=col>K</th><th scope=col>AICc</th><th scope=col>Delta_AICc</th><th scope=col>ModelLik</th><th scope=col>AICcWt</th><th scope=col>LL</th><th scope=col>Beta_est</th><th scope=col>SE</th></tr>\n",
       "\t<tr><th scope=col>&lt;chr&gt;</th><th scope=col>&lt;dbl&gt;</th><th scope=col>&lt;dbl&gt;</th><th scope=col>&lt;dbl&gt;</th><th scope=col>&lt;dbl&gt;</th><th scope=col>&lt;dbl&gt;</th><th scope=col>&lt;dbl&gt;</th><th scope=col>&lt;dbl&gt;</th><th scope=col>&lt;dbl&gt;</th></tr>\n",
       "</thead>\n",
       "<tbody>\n",
       "\t<tr><td>visit_mod        </td><td>12</td><td>283.6619</td><td>0.000000</td><td>1.00000000</td><td>0.59003504</td><td>-129.1890</td><td>1.411006</td><td>0.4838205</td></tr>\n",
       "\t<tr><td>max_mod          </td><td>16</td><td>286.7407</td><td>3.078730</td><td>0.21451724</td><td>0.12657269</td><td>-126.2323</td><td>1.403573</td><td>0.4826862</td></tr>\n",
       "\t<tr><td>solution_time_mod</td><td>15</td><td>287.2960</td><td>3.634021</td><td>0.16251086</td><td>0.09588710</td><td>-127.6480</td><td>1.411085</td><td>0.4839362</td></tr>\n",
       "\t<tr><td>solution_mod     </td><td>10</td><td>287.6940</td><td>4.032058</td><td>0.13318326</td><td>0.07858279</td><td>-133.3980</td><td>0.000000</td><td>0.0000000</td></tr>\n",
       "\t<tr><td>side_mod         </td><td>10</td><td>288.3204</td><td>4.658498</td><td>0.09736885</td><td>0.05745104</td><td>-133.7112</td><td>0.000000</td><td>0.0000000</td></tr>\n",
       "\t<tr><td>null_mod         </td><td> 9</td><td>288.5402</td><td>4.878313</td><td>0.08723439</td><td>0.05147134</td><td>-134.9043</td><td>0.000000</td><td>0.0000000</td></tr>\n",
       "</tbody>\n",
       "</table>\n",
       "</dd>\n",
       "\t<dt>$Mod.avg.beta</dt>\n",
       "\t\t<dd>1.14550199257637</dd>\n",
       "\t<dt>$Uncond.SE</dt>\n",
       "\t\t<dd>0.702060108336755</dd>\n",
       "\t<dt>$Conf.level</dt>\n",
       "\t\t<dd>0.95</dd>\n",
       "\t<dt>$Lower.CL</dt>\n",
       "\t\t<dd>-0.230510534745953</dd>\n",
       "\t<dt>$Upper.CL</dt>\n",
       "\t\t<dd>2.5215145198987</dd>\n",
       "</dl>\n"
      ],
      "text/latex": [
       "\\begin{description}\n",
       "\\item[\\$Parameter] 'Visit4'\n",
       "\\item[\\$Mod.avg.table] A aictab: 6 × 9\n",
       "\\begin{tabular}{lllllllll}\n",
       " Modnames & K & AICc & Delta\\_AICc & ModelLik & AICcWt & LL & Beta\\_est & SE\\\\\n",
       " <chr> & <dbl> & <dbl> & <dbl> & <dbl> & <dbl> & <dbl> & <dbl> & <dbl>\\\\\n",
       "\\hline\n",
       "\t visit\\_mod         & 12 & 283.6619 & 0.000000 & 1.00000000 & 0.59003504 & -129.1890 & 1.411006 & 0.4838205\\\\\n",
       "\t max\\_mod           & 16 & 286.7407 & 3.078730 & 0.21451724 & 0.12657269 & -126.2323 & 1.403573 & 0.4826862\\\\\n",
       "\t solution\\_time\\_mod & 15 & 287.2960 & 3.634021 & 0.16251086 & 0.09588710 & -127.6480 & 1.411085 & 0.4839362\\\\\n",
       "\t solution\\_mod      & 10 & 287.6940 & 4.032058 & 0.13318326 & 0.07858279 & -133.3980 & 0.000000 & 0.0000000\\\\\n",
       "\t side\\_mod          & 10 & 288.3204 & 4.658498 & 0.09736885 & 0.05745104 & -133.7112 & 0.000000 & 0.0000000\\\\\n",
       "\t null\\_mod          &  9 & 288.5402 & 4.878313 & 0.08723439 & 0.05147134 & -134.9043 & 0.000000 & 0.0000000\\\\\n",
       "\\end{tabular}\n",
       "\n",
       "\\item[\\$Mod.avg.beta] 1.14550199257637\n",
       "\\item[\\$Uncond.SE] 0.702060108336755\n",
       "\\item[\\$Conf.level] 0.95\n",
       "\\item[\\$Lower.CL] -0.230510534745953\n",
       "\\item[\\$Upper.CL] 2.5215145198987\n",
       "\\end{description}\n"
      ],
      "text/markdown": [
       "$Parameter\n",
       ":   'Visit4'\n",
       "$Mod.avg.table\n",
       ":   \n",
       "A aictab: 6 × 9\n",
       "\n",
       "| Modnames &lt;chr&gt; | K &lt;dbl&gt; | AICc &lt;dbl&gt; | Delta_AICc &lt;dbl&gt; | ModelLik &lt;dbl&gt; | AICcWt &lt;dbl&gt; | LL &lt;dbl&gt; | Beta_est &lt;dbl&gt; | SE &lt;dbl&gt; |\n",
       "|---|---|---|---|---|---|---|---|---|\n",
       "| visit_mod         | 12 | 283.6619 | 0.000000 | 1.00000000 | 0.59003504 | -129.1890 | 1.411006 | 0.4838205 |\n",
       "| max_mod           | 16 | 286.7407 | 3.078730 | 0.21451724 | 0.12657269 | -126.2323 | 1.403573 | 0.4826862 |\n",
       "| solution_time_mod | 15 | 287.2960 | 3.634021 | 0.16251086 | 0.09588710 | -127.6480 | 1.411085 | 0.4839362 |\n",
       "| solution_mod      | 10 | 287.6940 | 4.032058 | 0.13318326 | 0.07858279 | -133.3980 | 0.000000 | 0.0000000 |\n",
       "| side_mod          | 10 | 288.3204 | 4.658498 | 0.09736885 | 0.05745104 | -133.7112 | 0.000000 | 0.0000000 |\n",
       "| null_mod          |  9 | 288.5402 | 4.878313 | 0.08723439 | 0.05147134 | -134.9043 | 0.000000 | 0.0000000 |\n",
       "\n",
       "\n",
       "$Mod.avg.beta\n",
       ":   1.14550199257637\n",
       "$Uncond.SE\n",
       ":   0.702060108336755\n",
       "$Conf.level\n",
       ":   0.95\n",
       "$Lower.CL\n",
       ":   -0.230510534745953\n",
       "$Upper.CL\n",
       ":   2.5215145198987\n",
       "\n",
       "\n"
      ],
      "text/plain": [
       "\n",
       "Multimodel inference on \"Visit4\" based on AICc\n",
       "\n",
       "AICc table used to obtain model-averaged estimate with shrinkage:\n",
       "\n",
       "                   K   AICc Delta_AICc AICcWt Estimate   SE\n",
       "visit_mod         12 283.66       0.00   0.59     1.41 0.48\n",
       "max_mod           16 286.74       3.08   0.13     1.40 0.48\n",
       "solution_time_mod 15 287.30       3.63   0.10     1.41 0.48\n",
       "solution_mod      10 287.69       4.03   0.08     0.00 0.00\n",
       "side_mod          10 288.32       4.66   0.06     0.00 0.00\n",
       "null_mod           9 288.54       4.88   0.05     0.00 0.00\n",
       "\n",
       "Model-averaged estimate with shrinkage: 1.15 \n",
       "Unconditional SE: 0.7 \n",
       "95% Unconditional confidence interval: -0.23, 2.52\n"
      ]
     },
     "metadata": {},
     "output_type": "display_data"
    },
    {
     "name": "stderr",
     "output_type": "stream",
     "text": [
      "Warning message in modavgShrink.AICglmerMod(top_models, parm = \"Visit5\"):\n",
      "“\n",
      "Variables do not appear with same frequency across models, proceed with caution\n",
      "”\n"
     ]
    },
    {
     "data": {
      "text/html": [
       "<dl>\n",
       "\t<dt>$Parameter</dt>\n",
       "\t\t<dd>'Visit5'</dd>\n",
       "\t<dt>$Mod.avg.table</dt>\n",
       "\t\t<dd><table class=\"dataframe\">\n",
       "<caption>A aictab: 6 × 9</caption>\n",
       "<thead>\n",
       "\t<tr><th scope=col>Modnames</th><th scope=col>K</th><th scope=col>AICc</th><th scope=col>Delta_AICc</th><th scope=col>ModelLik</th><th scope=col>AICcWt</th><th scope=col>LL</th><th scope=col>Beta_est</th><th scope=col>SE</th></tr>\n",
       "\t<tr><th scope=col>&lt;chr&gt;</th><th scope=col>&lt;dbl&gt;</th><th scope=col>&lt;dbl&gt;</th><th scope=col>&lt;dbl&gt;</th><th scope=col>&lt;dbl&gt;</th><th scope=col>&lt;dbl&gt;</th><th scope=col>&lt;dbl&gt;</th><th scope=col>&lt;dbl&gt;</th><th scope=col>&lt;dbl&gt;</th></tr>\n",
       "</thead>\n",
       "<tbody>\n",
       "\t<tr><td>visit_mod        </td><td>12</td><td>283.6619</td><td>0.000000</td><td>1.00000000</td><td>0.59003504</td><td>-129.1890</td><td>1.147201</td><td>0.4596577</td></tr>\n",
       "\t<tr><td>max_mod          </td><td>16</td><td>286.7407</td><td>3.078730</td><td>0.21451724</td><td>0.12657269</td><td>-126.2323</td><td>1.140269</td><td>0.4583231</td></tr>\n",
       "\t<tr><td>solution_time_mod</td><td>15</td><td>287.2960</td><td>3.634021</td><td>0.16251086</td><td>0.09588710</td><td>-127.6480</td><td>1.146389</td><td>0.4595144</td></tr>\n",
       "\t<tr><td>solution_mod     </td><td>10</td><td>287.6940</td><td>4.032058</td><td>0.13318326</td><td>0.07858279</td><td>-133.3980</td><td>0.000000</td><td>0.0000000</td></tr>\n",
       "\t<tr><td>side_mod         </td><td>10</td><td>288.3204</td><td>4.658498</td><td>0.09736885</td><td>0.05745104</td><td>-133.7112</td><td>0.000000</td><td>0.0000000</td></tr>\n",
       "\t<tr><td>null_mod         </td><td> 9</td><td>288.5402</td><td>4.878313</td><td>0.08723439</td><td>0.05147134</td><td>-134.9043</td><td>0.000000</td><td>0.0000000</td></tr>\n",
       "</tbody>\n",
       "</table>\n",
       "</dd>\n",
       "\t<dt>$Mod.avg.beta</dt>\n",
       "\t\t<dd>0.931139598886761</dd>\n",
       "\t<dt>$Uncond.SE</dt>\n",
       "\t\t<dd>0.609585104773104</dd>\n",
       "\t<dt>$Conf.level</dt>\n",
       "\t\t<dd>0.95</dd>\n",
       "\t<dt>$Lower.CL</dt>\n",
       "\t\t<dd>-0.263625251980598</dd>\n",
       "\t<dt>$Upper.CL</dt>\n",
       "\t\t<dd>2.12590444975412</dd>\n",
       "</dl>\n"
      ],
      "text/latex": [
       "\\begin{description}\n",
       "\\item[\\$Parameter] 'Visit5'\n",
       "\\item[\\$Mod.avg.table] A aictab: 6 × 9\n",
       "\\begin{tabular}{lllllllll}\n",
       " Modnames & K & AICc & Delta\\_AICc & ModelLik & AICcWt & LL & Beta\\_est & SE\\\\\n",
       " <chr> & <dbl> & <dbl> & <dbl> & <dbl> & <dbl> & <dbl> & <dbl> & <dbl>\\\\\n",
       "\\hline\n",
       "\t visit\\_mod         & 12 & 283.6619 & 0.000000 & 1.00000000 & 0.59003504 & -129.1890 & 1.147201 & 0.4596577\\\\\n",
       "\t max\\_mod           & 16 & 286.7407 & 3.078730 & 0.21451724 & 0.12657269 & -126.2323 & 1.140269 & 0.4583231\\\\\n",
       "\t solution\\_time\\_mod & 15 & 287.2960 & 3.634021 & 0.16251086 & 0.09588710 & -127.6480 & 1.146389 & 0.4595144\\\\\n",
       "\t solution\\_mod      & 10 & 287.6940 & 4.032058 & 0.13318326 & 0.07858279 & -133.3980 & 0.000000 & 0.0000000\\\\\n",
       "\t side\\_mod          & 10 & 288.3204 & 4.658498 & 0.09736885 & 0.05745104 & -133.7112 & 0.000000 & 0.0000000\\\\\n",
       "\t null\\_mod          &  9 & 288.5402 & 4.878313 & 0.08723439 & 0.05147134 & -134.9043 & 0.000000 & 0.0000000\\\\\n",
       "\\end{tabular}\n",
       "\n",
       "\\item[\\$Mod.avg.beta] 0.931139598886761\n",
       "\\item[\\$Uncond.SE] 0.609585104773104\n",
       "\\item[\\$Conf.level] 0.95\n",
       "\\item[\\$Lower.CL] -0.263625251980598\n",
       "\\item[\\$Upper.CL] 2.12590444975412\n",
       "\\end{description}\n"
      ],
      "text/markdown": [
       "$Parameter\n",
       ":   'Visit5'\n",
       "$Mod.avg.table\n",
       ":   \n",
       "A aictab: 6 × 9\n",
       "\n",
       "| Modnames &lt;chr&gt; | K &lt;dbl&gt; | AICc &lt;dbl&gt; | Delta_AICc &lt;dbl&gt; | ModelLik &lt;dbl&gt; | AICcWt &lt;dbl&gt; | LL &lt;dbl&gt; | Beta_est &lt;dbl&gt; | SE &lt;dbl&gt; |\n",
       "|---|---|---|---|---|---|---|---|---|\n",
       "| visit_mod         | 12 | 283.6619 | 0.000000 | 1.00000000 | 0.59003504 | -129.1890 | 1.147201 | 0.4596577 |\n",
       "| max_mod           | 16 | 286.7407 | 3.078730 | 0.21451724 | 0.12657269 | -126.2323 | 1.140269 | 0.4583231 |\n",
       "| solution_time_mod | 15 | 287.2960 | 3.634021 | 0.16251086 | 0.09588710 | -127.6480 | 1.146389 | 0.4595144 |\n",
       "| solution_mod      | 10 | 287.6940 | 4.032058 | 0.13318326 | 0.07858279 | -133.3980 | 0.000000 | 0.0000000 |\n",
       "| side_mod          | 10 | 288.3204 | 4.658498 | 0.09736885 | 0.05745104 | -133.7112 | 0.000000 | 0.0000000 |\n",
       "| null_mod          |  9 | 288.5402 | 4.878313 | 0.08723439 | 0.05147134 | -134.9043 | 0.000000 | 0.0000000 |\n",
       "\n",
       "\n",
       "$Mod.avg.beta\n",
       ":   0.931139598886761\n",
       "$Uncond.SE\n",
       ":   0.609585104773104\n",
       "$Conf.level\n",
       ":   0.95\n",
       "$Lower.CL\n",
       ":   -0.263625251980598\n",
       "$Upper.CL\n",
       ":   2.12590444975412\n",
       "\n",
       "\n"
      ],
      "text/plain": [
       "\n",
       "Multimodel inference on \"Visit5\" based on AICc\n",
       "\n",
       "AICc table used to obtain model-averaged estimate with shrinkage:\n",
       "\n",
       "                   K   AICc Delta_AICc AICcWt Estimate   SE\n",
       "visit_mod         12 283.66       0.00   0.59     1.15 0.46\n",
       "max_mod           16 286.74       3.08   0.13     1.14 0.46\n",
       "solution_time_mod 15 287.30       3.63   0.10     1.15 0.46\n",
       "solution_mod      10 287.69       4.03   0.08     0.00 0.00\n",
       "side_mod          10 288.32       4.66   0.06     0.00 0.00\n",
       "null_mod           9 288.54       4.88   0.05     0.00 0.00\n",
       "\n",
       "Model-averaged estimate with shrinkage: 0.93 \n",
       "Unconditional SE: 0.61 \n",
       "95% Unconditional confidence interval: -0.26, 2.13\n"
      ]
     },
     "metadata": {},
     "output_type": "display_data"
    },
    {
     "data": {
      "text/html": [
       "<dl>\n",
       "\t<dt>$Parameter</dt>\n",
       "\t\t<dd>'TSM_Bin31-60'</dd>\n",
       "\t<dt>$Mod.avg.table</dt>\n",
       "\t\t<dd><table class=\"dataframe\">\n",
       "<caption>A aictab: 2 × 9</caption>\n",
       "<thead>\n",
       "\t<tr><th scope=col>Modnames</th><th scope=col>K</th><th scope=col>AICc</th><th scope=col>Delta_AICc</th><th scope=col>ModelLik</th><th scope=col>AICcWt</th><th scope=col>LL</th><th scope=col>Beta_est</th><th scope=col>SE</th></tr>\n",
       "\t<tr><th scope=col>&lt;chr&gt;</th><th scope=col>&lt;dbl&gt;</th><th scope=col>&lt;dbl&gt;</th><th scope=col>&lt;dbl&gt;</th><th scope=col>&lt;dbl&gt;</th><th scope=col>&lt;dbl&gt;</th><th scope=col>&lt;dbl&gt;</th><th scope=col>&lt;dbl&gt;</th><th scope=col>&lt;dbl&gt;</th></tr>\n",
       "</thead>\n",
       "<tbody>\n",
       "\t<tr><td>max_mod          </td><td>16</td><td>286.7407</td><td>0.0000000</td><td>1.0000000</td><td>0.5689688</td><td>-126.2323</td><td>0.3471456</td><td>0.5441215</td></tr>\n",
       "\t<tr><td>solution_time_mod</td><td>15</td><td>287.2960</td><td>0.5552906</td><td>0.7575655</td><td>0.4310312</td><td>-127.6480</td><td>0.3486850</td><td>0.5610455</td></tr>\n",
       "</tbody>\n",
       "</table>\n",
       "</dd>\n",
       "\t<dt>$Mod.avg.beta</dt>\n",
       "\t\t<dd>0.347809132693693</dd>\n",
       "\t<dt>$Uncond.SE</dt>\n",
       "\t\t<dd>0.551480504929137</dd>\n",
       "\t<dt>$Conf.level</dt>\n",
       "\t\t<dd>0.95</dd>\n",
       "\t<dt>$Lower.CL</dt>\n",
       "\t\t<dd>-0.73307279514338</dd>\n",
       "\t<dt>$Upper.CL</dt>\n",
       "\t\t<dd>1.42869106053077</dd>\n",
       "</dl>\n"
      ],
      "text/latex": [
       "\\begin{description}\n",
       "\\item[\\$Parameter] 'TSM\\_Bin31-60'\n",
       "\\item[\\$Mod.avg.table] A aictab: 2 × 9\n",
       "\\begin{tabular}{lllllllll}\n",
       " Modnames & K & AICc & Delta\\_AICc & ModelLik & AICcWt & LL & Beta\\_est & SE\\\\\n",
       " <chr> & <dbl> & <dbl> & <dbl> & <dbl> & <dbl> & <dbl> & <dbl> & <dbl>\\\\\n",
       "\\hline\n",
       "\t max\\_mod           & 16 & 286.7407 & 0.0000000 & 1.0000000 & 0.5689688 & -126.2323 & 0.3471456 & 0.5441215\\\\\n",
       "\t solution\\_time\\_mod & 15 & 287.2960 & 0.5552906 & 0.7575655 & 0.4310312 & -127.6480 & 0.3486850 & 0.5610455\\\\\n",
       "\\end{tabular}\n",
       "\n",
       "\\item[\\$Mod.avg.beta] 0.347809132693693\n",
       "\\item[\\$Uncond.SE] 0.551480504929137\n",
       "\\item[\\$Conf.level] 0.95\n",
       "\\item[\\$Lower.CL] -0.73307279514338\n",
       "\\item[\\$Upper.CL] 1.42869106053077\n",
       "\\end{description}\n"
      ],
      "text/markdown": [
       "$Parameter\n",
       ":   'TSM_Bin31-60'\n",
       "$Mod.avg.table\n",
       ":   \n",
       "A aictab: 2 × 9\n",
       "\n",
       "| Modnames &lt;chr&gt; | K &lt;dbl&gt; | AICc &lt;dbl&gt; | Delta_AICc &lt;dbl&gt; | ModelLik &lt;dbl&gt; | AICcWt &lt;dbl&gt; | LL &lt;dbl&gt; | Beta_est &lt;dbl&gt; | SE &lt;dbl&gt; |\n",
       "|---|---|---|---|---|---|---|---|---|\n",
       "| max_mod           | 16 | 286.7407 | 0.0000000 | 1.0000000 | 0.5689688 | -126.2323 | 0.3471456 | 0.5441215 |\n",
       "| solution_time_mod | 15 | 287.2960 | 0.5552906 | 0.7575655 | 0.4310312 | -127.6480 | 0.3486850 | 0.5610455 |\n",
       "\n",
       "\n",
       "$Mod.avg.beta\n",
       ":   0.347809132693693\n",
       "$Uncond.SE\n",
       ":   0.551480504929137\n",
       "$Conf.level\n",
       ":   0.95\n",
       "$Lower.CL\n",
       ":   -0.73307279514338\n",
       "$Upper.CL\n",
       ":   1.42869106053077\n",
       "\n",
       "\n"
      ],
      "text/plain": [
       "\n",
       "Multimodel inference on \"TSM_Bin31-60\" based on AICc\n",
       "\n",
       "AICc table used to obtain model-averaged estimate:\n",
       "\n",
       "                   K   AICc Delta_AICc AICcWt Estimate   SE\n",
       "max_mod           16 286.74       0.00   0.57     0.35 0.54\n",
       "solution_time_mod 15 287.30       0.56   0.43     0.35 0.56\n",
       "\n",
       "Model-averaged estimate: 0.35 \n",
       "Unconditional SE: 0.55 \n",
       "95% Unconditional confidence interval: -0.73, 1.43\n"
      ]
     },
     "metadata": {},
     "output_type": "display_data"
    },
    {
     "name": "stderr",
     "output_type": "stream",
     "text": [
      "Warning message in modavgShrink.AICglmerMod(top_models, parm = \"Reward_SideR\"):\n",
      "“\n",
      "Variables do not appear with same frequency across models, proceed with caution\n",
      "”\n"
     ]
    },
    {
     "data": {
      "text/html": [
       "<dl>\n",
       "\t<dt>$Parameter</dt>\n",
       "\t\t<dd>'Reward_SideR'</dd>\n",
       "\t<dt>$Mod.avg.table</dt>\n",
       "\t\t<dd><table class=\"dataframe\">\n",
       "<caption>A aictab: 6 × 9</caption>\n",
       "<thead>\n",
       "\t<tr><th scope=col>Modnames</th><th scope=col>K</th><th scope=col>AICc</th><th scope=col>Delta_AICc</th><th scope=col>ModelLik</th><th scope=col>AICcWt</th><th scope=col>LL</th><th scope=col>Beta_est</th><th scope=col>SE</th></tr>\n",
       "\t<tr><th scope=col>&lt;chr&gt;</th><th scope=col>&lt;dbl&gt;</th><th scope=col>&lt;dbl&gt;</th><th scope=col>&lt;dbl&gt;</th><th scope=col>&lt;dbl&gt;</th><th scope=col>&lt;dbl&gt;</th><th scope=col>&lt;dbl&gt;</th><th scope=col>&lt;dbl&gt;</th><th scope=col>&lt;dbl&gt;</th></tr>\n",
       "</thead>\n",
       "<tbody>\n",
       "\t<tr><td>visit_mod        </td><td>12</td><td>283.6619</td><td>0.000000</td><td>1.00000000</td><td>0.59003504</td><td>-129.1890</td><td> 0.0000000</td><td>0.0000000</td></tr>\n",
       "\t<tr><td>max_mod          </td><td>16</td><td>286.7407</td><td>3.078730</td><td>0.21451724</td><td>0.12657269</td><td>-126.2323</td><td>-0.5994515</td><td>0.3735862</td></tr>\n",
       "\t<tr><td>solution_time_mod</td><td>15</td><td>287.2960</td><td>3.634021</td><td>0.16251086</td><td>0.09588710</td><td>-127.6480</td><td> 0.0000000</td><td>0.0000000</td></tr>\n",
       "\t<tr><td>solution_mod     </td><td>10</td><td>287.6940</td><td>4.032058</td><td>0.13318326</td><td>0.07858279</td><td>-133.3980</td><td> 0.0000000</td><td>0.0000000</td></tr>\n",
       "\t<tr><td>side_mod         </td><td>10</td><td>288.3204</td><td>4.658498</td><td>0.09736885</td><td>0.05745104</td><td>-133.7112</td><td>-0.5525745</td><td>0.3587945</td></tr>\n",
       "\t<tr><td>null_mod         </td><td> 9</td><td>288.5402</td><td>4.878313</td><td>0.08723439</td><td>0.05147134</td><td>-134.9043</td><td> 0.0000000</td><td>0.0000000</td></tr>\n",
       "</tbody>\n",
       "</table>\n",
       "</dd>\n",
       "\t<dt>$Mod.avg.beta</dt>\n",
       "\t\t<dd>-0.107620164270183</dd>\n",
       "\t<dt>$Uncond.SE</dt>\n",
       "\t\t<dd>0.276593590116599</dd>\n",
       "\t<dt>$Conf.level</dt>\n",
       "\t\t<dd>0.95</dd>\n",
       "\t<dt>$Lower.CL</dt>\n",
       "\t\t<dd>-0.64973363925335</dd>\n",
       "\t<dt>$Upper.CL</dt>\n",
       "\t\t<dd>0.434493310712984</dd>\n",
       "</dl>\n"
      ],
      "text/latex": [
       "\\begin{description}\n",
       "\\item[\\$Parameter] 'Reward\\_SideR'\n",
       "\\item[\\$Mod.avg.table] A aictab: 6 × 9\n",
       "\\begin{tabular}{lllllllll}\n",
       " Modnames & K & AICc & Delta\\_AICc & ModelLik & AICcWt & LL & Beta\\_est & SE\\\\\n",
       " <chr> & <dbl> & <dbl> & <dbl> & <dbl> & <dbl> & <dbl> & <dbl> & <dbl>\\\\\n",
       "\\hline\n",
       "\t visit\\_mod         & 12 & 283.6619 & 0.000000 & 1.00000000 & 0.59003504 & -129.1890 &  0.0000000 & 0.0000000\\\\\n",
       "\t max\\_mod           & 16 & 286.7407 & 3.078730 & 0.21451724 & 0.12657269 & -126.2323 & -0.5994515 & 0.3735862\\\\\n",
       "\t solution\\_time\\_mod & 15 & 287.2960 & 3.634021 & 0.16251086 & 0.09588710 & -127.6480 &  0.0000000 & 0.0000000\\\\\n",
       "\t solution\\_mod      & 10 & 287.6940 & 4.032058 & 0.13318326 & 0.07858279 & -133.3980 &  0.0000000 & 0.0000000\\\\\n",
       "\t side\\_mod          & 10 & 288.3204 & 4.658498 & 0.09736885 & 0.05745104 & -133.7112 & -0.5525745 & 0.3587945\\\\\n",
       "\t null\\_mod          &  9 & 288.5402 & 4.878313 & 0.08723439 & 0.05147134 & -134.9043 &  0.0000000 & 0.0000000\\\\\n",
       "\\end{tabular}\n",
       "\n",
       "\\item[\\$Mod.avg.beta] -0.107620164270183\n",
       "\\item[\\$Uncond.SE] 0.276593590116599\n",
       "\\item[\\$Conf.level] 0.95\n",
       "\\item[\\$Lower.CL] -0.64973363925335\n",
       "\\item[\\$Upper.CL] 0.434493310712984\n",
       "\\end{description}\n"
      ],
      "text/markdown": [
       "$Parameter\n",
       ":   'Reward_SideR'\n",
       "$Mod.avg.table\n",
       ":   \n",
       "A aictab: 6 × 9\n",
       "\n",
       "| Modnames &lt;chr&gt; | K &lt;dbl&gt; | AICc &lt;dbl&gt; | Delta_AICc &lt;dbl&gt; | ModelLik &lt;dbl&gt; | AICcWt &lt;dbl&gt; | LL &lt;dbl&gt; | Beta_est &lt;dbl&gt; | SE &lt;dbl&gt; |\n",
       "|---|---|---|---|---|---|---|---|---|\n",
       "| visit_mod         | 12 | 283.6619 | 0.000000 | 1.00000000 | 0.59003504 | -129.1890 |  0.0000000 | 0.0000000 |\n",
       "| max_mod           | 16 | 286.7407 | 3.078730 | 0.21451724 | 0.12657269 | -126.2323 | -0.5994515 | 0.3735862 |\n",
       "| solution_time_mod | 15 | 287.2960 | 3.634021 | 0.16251086 | 0.09588710 | -127.6480 |  0.0000000 | 0.0000000 |\n",
       "| solution_mod      | 10 | 287.6940 | 4.032058 | 0.13318326 | 0.07858279 | -133.3980 |  0.0000000 | 0.0000000 |\n",
       "| side_mod          | 10 | 288.3204 | 4.658498 | 0.09736885 | 0.05745104 | -133.7112 | -0.5525745 | 0.3587945 |\n",
       "| null_mod          |  9 | 288.5402 | 4.878313 | 0.08723439 | 0.05147134 | -134.9043 |  0.0000000 | 0.0000000 |\n",
       "\n",
       "\n",
       "$Mod.avg.beta\n",
       ":   -0.107620164270183\n",
       "$Uncond.SE\n",
       ":   0.276593590116599\n",
       "$Conf.level\n",
       ":   0.95\n",
       "$Lower.CL\n",
       ":   -0.64973363925335\n",
       "$Upper.CL\n",
       ":   0.434493310712984\n",
       "\n",
       "\n"
      ],
      "text/plain": [
       "\n",
       "Multimodel inference on \"Reward_SideR\" based on AICc\n",
       "\n",
       "AICc table used to obtain model-averaged estimate with shrinkage:\n",
       "\n",
       "                   K   AICc Delta_AICc AICcWt Estimate   SE\n",
       "visit_mod         12 283.66       0.00   0.59     0.00 0.00\n",
       "max_mod           16 286.74       3.08   0.13    -0.60 0.37\n",
       "solution_time_mod 15 287.30       3.63   0.10     0.00 0.00\n",
       "solution_mod      10 287.69       4.03   0.08     0.00 0.00\n",
       "side_mod          10 288.32       4.66   0.06    -0.55 0.36\n",
       "null_mod           9 288.54       4.88   0.05     0.00 0.00\n",
       "\n",
       "Model-averaged estimate with shrinkage: -0.11 \n",
       "Unconditional SE: 0.28 \n",
       "95% Unconditional confidence interval: -0.65, 0.43\n"
      ]
     },
     "metadata": {},
     "output_type": "display_data"
    },
    {
     "name": "stderr",
     "output_type": "stream",
     "text": [
      "Warning message in modavgShrink.AICglmerMod(top_models, parm = \"SolutionNicotine:TSM_Bin31-60\"):\n",
      "“\n",
      "Variables do not appear with same frequency across models, proceed with caution\n",
      "”\n"
     ]
    },
    {
     "data": {
      "text/html": [
       "<dl>\n",
       "\t<dt>$Parameter</dt>\n",
       "\t\t<dd>'SolutionNicotine:TSM_Bin31-60'</dd>\n",
       "\t<dt>$Mod.avg.table</dt>\n",
       "\t\t<dd><table class=\"dataframe\">\n",
       "<caption>A aictab: 6 × 9</caption>\n",
       "<thead>\n",
       "\t<tr><th scope=col>Modnames</th><th scope=col>K</th><th scope=col>AICc</th><th scope=col>Delta_AICc</th><th scope=col>ModelLik</th><th scope=col>AICcWt</th><th scope=col>LL</th><th scope=col>Beta_est</th><th scope=col>SE</th></tr>\n",
       "\t<tr><th scope=col>&lt;chr&gt;</th><th scope=col>&lt;dbl&gt;</th><th scope=col>&lt;dbl&gt;</th><th scope=col>&lt;dbl&gt;</th><th scope=col>&lt;dbl&gt;</th><th scope=col>&lt;dbl&gt;</th><th scope=col>&lt;dbl&gt;</th><th scope=col>&lt;dbl&gt;</th><th scope=col>&lt;dbl&gt;</th></tr>\n",
       "</thead>\n",
       "<tbody>\n",
       "\t<tr><td>visit_mod        </td><td>12</td><td>283.6619</td><td>0.000000</td><td>1.00000000</td><td>0.59003504</td><td>-129.1890</td><td> 0.0000000</td><td>0.000000</td></tr>\n",
       "\t<tr><td>max_mod          </td><td>16</td><td>286.7407</td><td>3.078730</td><td>0.21451724</td><td>0.12657269</td><td>-126.2323</td><td>-0.3532543</td><td>0.727525</td></tr>\n",
       "\t<tr><td>solution_time_mod</td><td>15</td><td>287.2960</td><td>3.634021</td><td>0.16251086</td><td>0.09588710</td><td>-127.6480</td><td>-0.3600182</td><td>0.752832</td></tr>\n",
       "\t<tr><td>solution_mod     </td><td>10</td><td>287.6940</td><td>4.032058</td><td>0.13318326</td><td>0.07858279</td><td>-133.3980</td><td> 0.0000000</td><td>0.000000</td></tr>\n",
       "\t<tr><td>side_mod         </td><td>10</td><td>288.3204</td><td>4.658498</td><td>0.09736885</td><td>0.05745104</td><td>-133.7112</td><td> 0.0000000</td><td>0.000000</td></tr>\n",
       "\t<tr><td>null_mod         </td><td> 9</td><td>288.5402</td><td>4.878313</td><td>0.08723439</td><td>0.05147134</td><td>-134.9043</td><td> 0.0000000</td><td>0.000000</td></tr>\n",
       "</tbody>\n",
       "</table>\n",
       "</dd>\n",
       "\t<dt>$Mod.avg.beta</dt>\n",
       "\t\t<dd>-0.0792334495695679</dd>\n",
       "\t<dt>$Uncond.SE</dt>\n",
       "\t\t<dd>0.378528333618685</dd>\n",
       "\t<dt>$Conf.level</dt>\n",
       "\t\t<dd>0.95</dd>\n",
       "\t<dt>$Lower.CL</dt>\n",
       "\t\t<dd>-0.821135350590152</dd>\n",
       "\t<dt>$Upper.CL</dt>\n",
       "\t\t<dd>0.662668451451016</dd>\n",
       "</dl>\n"
      ],
      "text/latex": [
       "\\begin{description}\n",
       "\\item[\\$Parameter] 'SolutionNicotine:TSM\\_Bin31-60'\n",
       "\\item[\\$Mod.avg.table] A aictab: 6 × 9\n",
       "\\begin{tabular}{lllllllll}\n",
       " Modnames & K & AICc & Delta\\_AICc & ModelLik & AICcWt & LL & Beta\\_est & SE\\\\\n",
       " <chr> & <dbl> & <dbl> & <dbl> & <dbl> & <dbl> & <dbl> & <dbl> & <dbl>\\\\\n",
       "\\hline\n",
       "\t visit\\_mod         & 12 & 283.6619 & 0.000000 & 1.00000000 & 0.59003504 & -129.1890 &  0.0000000 & 0.000000\\\\\n",
       "\t max\\_mod           & 16 & 286.7407 & 3.078730 & 0.21451724 & 0.12657269 & -126.2323 & -0.3532543 & 0.727525\\\\\n",
       "\t solution\\_time\\_mod & 15 & 287.2960 & 3.634021 & 0.16251086 & 0.09588710 & -127.6480 & -0.3600182 & 0.752832\\\\\n",
       "\t solution\\_mod      & 10 & 287.6940 & 4.032058 & 0.13318326 & 0.07858279 & -133.3980 &  0.0000000 & 0.000000\\\\\n",
       "\t side\\_mod          & 10 & 288.3204 & 4.658498 & 0.09736885 & 0.05745104 & -133.7112 &  0.0000000 & 0.000000\\\\\n",
       "\t null\\_mod          &  9 & 288.5402 & 4.878313 & 0.08723439 & 0.05147134 & -134.9043 &  0.0000000 & 0.000000\\\\\n",
       "\\end{tabular}\n",
       "\n",
       "\\item[\\$Mod.avg.beta] -0.0792334495695679\n",
       "\\item[\\$Uncond.SE] 0.378528333618685\n",
       "\\item[\\$Conf.level] 0.95\n",
       "\\item[\\$Lower.CL] -0.821135350590152\n",
       "\\item[\\$Upper.CL] 0.662668451451016\n",
       "\\end{description}\n"
      ],
      "text/markdown": [
       "$Parameter\n",
       ":   'SolutionNicotine:TSM_Bin31-60'\n",
       "$Mod.avg.table\n",
       ":   \n",
       "A aictab: 6 × 9\n",
       "\n",
       "| Modnames &lt;chr&gt; | K &lt;dbl&gt; | AICc &lt;dbl&gt; | Delta_AICc &lt;dbl&gt; | ModelLik &lt;dbl&gt; | AICcWt &lt;dbl&gt; | LL &lt;dbl&gt; | Beta_est &lt;dbl&gt; | SE &lt;dbl&gt; |\n",
       "|---|---|---|---|---|---|---|---|---|\n",
       "| visit_mod         | 12 | 283.6619 | 0.000000 | 1.00000000 | 0.59003504 | -129.1890 |  0.0000000 | 0.000000 |\n",
       "| max_mod           | 16 | 286.7407 | 3.078730 | 0.21451724 | 0.12657269 | -126.2323 | -0.3532543 | 0.727525 |\n",
       "| solution_time_mod | 15 | 287.2960 | 3.634021 | 0.16251086 | 0.09588710 | -127.6480 | -0.3600182 | 0.752832 |\n",
       "| solution_mod      | 10 | 287.6940 | 4.032058 | 0.13318326 | 0.07858279 | -133.3980 |  0.0000000 | 0.000000 |\n",
       "| side_mod          | 10 | 288.3204 | 4.658498 | 0.09736885 | 0.05745104 | -133.7112 |  0.0000000 | 0.000000 |\n",
       "| null_mod          |  9 | 288.5402 | 4.878313 | 0.08723439 | 0.05147134 | -134.9043 |  0.0000000 | 0.000000 |\n",
       "\n",
       "\n",
       "$Mod.avg.beta\n",
       ":   -0.0792334495695679\n",
       "$Uncond.SE\n",
       ":   0.378528333618685\n",
       "$Conf.level\n",
       ":   0.95\n",
       "$Lower.CL\n",
       ":   -0.821135350590152\n",
       "$Upper.CL\n",
       ":   0.662668451451016\n",
       "\n",
       "\n"
      ],
      "text/plain": [
       "\n",
       "Multimodel inference on \"SolutionNicotine:TSM_Bin31-60\" based on AICc\n",
       "\n",
       "AICc table used to obtain model-averaged estimate with shrinkage:\n",
       "\n",
       "                   K   AICc Delta_AICc AICcWt Estimate   SE\n",
       "visit_mod         12 283.66       0.00   0.59     0.00 0.00\n",
       "max_mod           16 286.74       3.08   0.13    -0.35 0.73\n",
       "solution_time_mod 15 287.30       3.63   0.10    -0.36 0.75\n",
       "solution_mod      10 287.69       4.03   0.08     0.00 0.00\n",
       "side_mod          10 288.32       4.66   0.06     0.00 0.00\n",
       "null_mod           9 288.54       4.88   0.05     0.00 0.00\n",
       "\n",
       "Model-averaged estimate with shrinkage: -0.08 \n",
       "Unconditional SE: 0.38 \n",
       "95% Unconditional confidence interval: -0.82, 0.66\n"
      ]
     },
     "metadata": {},
     "output_type": "display_data"
    }
   ],
   "source": [
    "top_models = list(\"visit_mod\" = visit_mod, \n",
    "                   \"max_mod\" = max_mod,\n",
    "                   \"solution_time_mod\" = solution_time_mod,\n",
    "                   \"solution_mod\" = solution_mod,\n",
    "                   \"side_mod\" = side_mod,\n",
    "                   \"null_mod\" = null_mod)\n",
    "\n",
    "modavgShrink(top_models, parm = \"(Intercept)\")\n",
    "modavg(top_models, parm = \"SolutionNicotine\", exclude = \"SolutionNicotine:TSM_Bin31-60\")\n",
    "modavgShrink(top_models, parm = \"Visit3\")\n",
    "modavgShrink(top_models, parm = \"Visit4\")\n",
    "modavgShrink(top_models, parm = \"Visit5\")\n",
    "modavg(top_models, parm = \"TSM_Bin31-60\", exclude = \"SolutionNicotine:TSM_Bin31-60\")\n",
    "modavgShrink(top_models, parm = \"Reward_SideR\")\n",
    "modavgShrink(top_models, parm = \"SolutionNicotine:TSM_Bin31-60\")"
   ]
  },
  {
   "cell_type": "markdown",
   "id": "d5e9703d",
   "metadata": {},
   "source": [
    "## Odds\n",
    "**If the odds is 1 there is no effect, therefore if the CI's cross 1 that is not a significant parameter**\n",
    "\n",
    "**Intercept** = 3.0 [1.0, 9.4] -> **Ants do not choose an arm of the Y-maze randomly at Visit 2! - almost significant**\n",
    "\n",
    "**Solution** = 0.6 [0.2, 1.5] -> There is no effect of Solution!\n",
    "\n",
    "**Visit 3** = 1.6 [0.7, 4.0] -> There is no effect of Visit 3!\n",
    "\n",
    "**Visit 4** = 3.1 [0.8, 12.4] -> There is no effect of Visit 4!\n",
    "\n",
    "**Visit 5** = 2.5 [0.8, 8.4] -> There is no effect of Visit 5!\n",
    "\n",
    "**Side** = 0.9 [0.5, 1.5] -> There is no effect of Side!\n",
    "\n",
    "**TSM** = 1.4 [0.5, 4.2] -> There is no effect of Time Since Marking!\n",
    "\n",
    "**SolutionxTSM** = 0.9 [0.4, 1.9] -> There is no effect of Time Since Marking!"
   ]
  },
  {
   "cell_type": "markdown",
   "id": "21713eb6",
   "metadata": {},
   "source": [
    "## Conclusions\n",
    "- Ants do not choose a random side of the Y-maze from Visit 2 showing a slight increase in the odds of choosing the reward side as the number of consecutive visits increases suggesting the ants are able to associate the reward with a side.\n",
    "- There is no effect of Time Since Marking on final choice.\n",
    "- There is no efect of nicotine on final choice.\n",
    "- There is no statistically significant side bias although there is a trend towards Left.\n",
    "- There is no interaction effect of Solution with Time Since Marking."
   ]
  }
 ],
 "metadata": {
  "kernelspec": {
   "display_name": "R",
   "language": "R",
   "name": "ir"
  },
  "language_info": {
   "codemirror_mode": "r",
   "file_extension": ".r",
   "mimetype": "text/x-r-source",
   "name": "R",
   "pygments_lexer": "r",
   "version": "4.2.1"
  }
 },
 "nbformat": 4,
 "nbformat_minor": 5
}
