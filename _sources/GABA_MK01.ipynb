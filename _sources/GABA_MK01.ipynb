{
 "cells": [
  {
   "cell_type": "markdown",
   "id": "cea20812",
   "metadata": {},
   "source": [
    "# GABA Side Learning Y-maze"
   ]
  },
  {
   "cell_type": "markdown",
   "id": "79e6dea0",
   "metadata": {},
   "source": [
    "## Load packages"
   ]
  },
  {
   "cell_type": "code",
   "execution_count": 1,
   "id": "c3f5f22d",
   "metadata": {
    "vscode": {
     "languageId": "r"
    }
   },
   "outputs": [
    {
     "name": "stderr",
     "output_type": "stream",
     "text": [
      "Loading required package: reshape2\n",
      "\n",
      "Loading required package: lme4\n",
      "\n",
      "Loading required package: Matrix\n",
      "\n",
      "Loading required package: emmeans\n",
      "\n",
      "Loading required package: DHARMa\n",
      "\n",
      "This is DHARMa 0.4.5. For overview type '?DHARMa'. For recent changes, type news(package = 'DHARMa')\n",
      "\n",
      "Loading required package: AICcmodavg\n",
      "\n",
      "\n",
      "Attaching package: ‘AICcmodavg’\n",
      "\n",
      "\n",
      "The following object is masked from ‘package:lme4’:\n",
      "\n",
      "    checkConv\n",
      "\n",
      "\n"
     ]
    }
   ],
   "source": [
    "require(reshape2) # For data handling\n",
    "require(lme4) # Linear mixed-effects models\n",
    "require(emmeans) # Post-hoc analysis on the model\n",
    "require(DHARMa) # Evaluate model fit\n",
    "require(AICcmodavg) # For model selection and averaging"
   ]
  },
  {
   "cell_type": "markdown",
   "id": "7e6f6c9d",
   "metadata": {},
   "source": [
    "## Clean-up"
   ]
  },
  {
   "cell_type": "code",
   "execution_count": 2,
   "id": "6610d1f2",
   "metadata": {
    "vscode": {
     "languageId": "r"
    }
   },
   "outputs": [],
   "source": [
    "rm(list = ls()) # Remove variables/objects\n",
    "graphics.off() # Close any open graphics"
   ]
  },
  {
   "cell_type": "markdown",
   "id": "41a962ab",
   "metadata": {},
   "source": [
    "## Load data"
   ]
  },
  {
   "cell_type": "code",
   "execution_count": 3,
   "id": "a1533b22",
   "metadata": {
    "vscode": {
     "languageId": "r"
    }
   },
   "outputs": [
    {
     "data": {
      "text/html": [
       "<table class=\"dataframe\">\n",
       "<caption>A data.frame: 1 × 28</caption>\n",
       "<thead>\n",
       "\t<tr><th></th><th scope=col>Collection_Date</th><th scope=col>Time_Collection</th><th scope=col>Experimentor</th><th scope=col>Temperature</th><th scope=col>Colony_Origin</th><th scope=col>Starvation_Period</th><th scope=col>Donor_Colony</th><th scope=col>Recipient_Colony</th><th scope=col>Ant_ID</th><th scope=col>Visit</th><th scope=col>⋯</th><th scope=col>Out_Duration</th><th scope=col>Bridge_Nest_Duration</th><th scope=col>Total_Duration_Minutes</th><th scope=col>Trophallaxis</th><th scope=col>Full</th><th scope=col>Experiment</th><th scope=col>Initial_Binary</th><th scope=col>Final_Binary</th><th scope=col>Switched_Binary</th><th scope=col>TSM_Bin</th></tr>\n",
       "\t<tr><th></th><th scope=col>&lt;chr&gt;</th><th scope=col>&lt;chr&gt;</th><th scope=col>&lt;chr&gt;</th><th scope=col>&lt;dbl&gt;</th><th scope=col>&lt;chr&gt;</th><th scope=col>&lt;chr&gt;</th><th scope=col>&lt;int&gt;</th><th scope=col>&lt;int&gt;</th><th scope=col>&lt;int&gt;</th><th scope=col>&lt;int&gt;</th><th scope=col>⋯</th><th scope=col>&lt;int&gt;</th><th scope=col>&lt;int&gt;</th><th scope=col>&lt;dbl&gt;</th><th scope=col>&lt;chr&gt;</th><th scope=col>&lt;chr&gt;</th><th scope=col>&lt;int&gt;</th><th scope=col>&lt;int&gt;</th><th scope=col>&lt;int&gt;</th><th scope=col>&lt;int&gt;</th><th scope=col>&lt;chr&gt;</th></tr>\n",
       "</thead>\n",
       "<tbody>\n",
       "\t<tr><th scope=row>645</th><td>11.04.22</td><td>09:00</td><td>Laura Neubauer</td><td>23.9</td><td>5th November - Spain</td><td>4-days</td><td>32</td><td>29</td><td>1</td><td>2</td><td>⋯</td><td>11</td><td>500</td><td>9.8</td><td>NA</td><td>NA</td><td>3</td><td>1</td><td>1</td><td>0</td><td>0-30</td></tr>\n",
       "</tbody>\n",
       "</table>\n"
      ],
      "text/latex": [
       "A data.frame: 1 × 28\n",
       "\\begin{tabular}{r|lllllllllllllllllllll}\n",
       "  & Collection\\_Date & Time\\_Collection & Experimentor & Temperature & Colony\\_Origin & Starvation\\_Period & Donor\\_Colony & Recipient\\_Colony & Ant\\_ID & Visit & ⋯ & Out\\_Duration & Bridge\\_Nest\\_Duration & Total\\_Duration\\_Minutes & Trophallaxis & Full & Experiment & Initial\\_Binary & Final\\_Binary & Switched\\_Binary & TSM\\_Bin\\\\\n",
       "  & <chr> & <chr> & <chr> & <dbl> & <chr> & <chr> & <int> & <int> & <int> & <int> & ⋯ & <int> & <int> & <dbl> & <chr> & <chr> & <int> & <int> & <int> & <int> & <chr>\\\\\n",
       "\\hline\n",
       "\t645 & 11.04.22 & 09:00 & Laura Neubauer & 23.9 & 5th November - Spain & 4-days & 32 & 29 & 1 & 2 & ⋯ & 11 & 500 & 9.8 & NA & NA & 3 & 1 & 1 & 0 & 0-30\\\\\n",
       "\\end{tabular}\n"
      ],
      "text/markdown": [
       "\n",
       "A data.frame: 1 × 28\n",
       "\n",
       "| <!--/--> | Collection_Date &lt;chr&gt; | Time_Collection &lt;chr&gt; | Experimentor &lt;chr&gt; | Temperature &lt;dbl&gt; | Colony_Origin &lt;chr&gt; | Starvation_Period &lt;chr&gt; | Donor_Colony &lt;int&gt; | Recipient_Colony &lt;int&gt; | Ant_ID &lt;int&gt; | Visit &lt;int&gt; | ⋯ ⋯ | Out_Duration &lt;int&gt; | Bridge_Nest_Duration &lt;int&gt; | Total_Duration_Minutes &lt;dbl&gt; | Trophallaxis &lt;chr&gt; | Full &lt;chr&gt; | Experiment &lt;int&gt; | Initial_Binary &lt;int&gt; | Final_Binary &lt;int&gt; | Switched_Binary &lt;int&gt; | TSM_Bin &lt;chr&gt; |\n",
       "|---|---|---|---|---|---|---|---|---|---|---|---|---|---|---|---|---|---|---|---|---|---|\n",
       "| 645 | 11.04.22 | 09:00 | Laura Neubauer | 23.9 | 5th November - Spain | 4-days | 32 | 29 | 1 | 2 | ⋯ | 11 | 500 | 9.8 | NA | NA | 3 | 1 | 1 | 0 | 0-30 |\n",
       "\n"
      ],
      "text/plain": [
       "    Collection_Date Time_Collection Experimentor   Temperature\n",
       "645 11.04.22        09:00           Laura Neubauer 23.9       \n",
       "    Colony_Origin        Starvation_Period Donor_Colony Recipient_Colony Ant_ID\n",
       "645 5th November - Spain 4-days            32           29               1     \n",
       "    Visit ⋯ Out_Duration Bridge_Nest_Duration Total_Duration_Minutes\n",
       "645 2     ⋯ 11           500                  9.8                   \n",
       "    Trophallaxis Full Experiment Initial_Binary Final_Binary Switched_Binary\n",
       "645 NA           NA   3          1              1            0              \n",
       "    TSM_Bin\n",
       "645 0-30   "
      ]
     },
     "metadata": {},
     "output_type": "display_data"
    }
   ],
   "source": [
    "ELP = read.csv(\"./Data/All/ELP_all.csv\")\n",
    "ELP = subset(ELP, ELP$Experiment == \"3\") # Subset for GABA experiment\n",
    "head(ELP, n = 1) # Check it was loaded correctly"
   ]
  },
  {
   "cell_type": "markdown",
   "id": "a5b0f172",
   "metadata": {},
   "source": [
    "## Ensure relevant variables are factors"
   ]
  },
  {
   "cell_type": "code",
   "execution_count": 4,
   "id": "e361d2b6",
   "metadata": {
    "vscode": {
     "languageId": "r"
    }
   },
   "outputs": [],
   "source": [
    "ELP$Collection_Date = as.factor(ELP$Collection_Date)\n",
    "ELP$Experimentor = as.factor(ELP$Experimentor)\n",
    "ELP$Starvation_Period = as.factor(ELP$Starvation_Period)\n",
    "ELP$Colony_ID = as.factor(paste0(ELP$Donor_Colony, \"_\", ELP$Recipient_Colony))\n",
    "ELP$Ant_ID = as.factor(ELP$Ant_ID)\n",
    "\n",
    "ELP$Visit = as.factor(ELP$Visit)\n",
    "ELP$Solution = as.factor(ELP$Solution)\n",
    "ELP$Solution = relevel(ELP$Solution, \"Control\")\n",
    "ELP$Reward_Side = as.factor(ELP$Reward_Side)\n",
    "ELP$TSM_Bin = as.factor(ELP$TSM_Bin)\n",
    "\n",
    "ELP$Initial_Binary = as.factor(ELP$Initial_Binary)\n",
    "ELP$Final_Binary = as.factor(ELP$Final_Binary)"
   ]
  },
  {
   "cell_type": "markdown",
   "id": "55165eb0",
   "metadata": {},
   "source": [
    "## Identify relevant random effects"
   ]
  },
  {
   "cell_type": "code",
   "execution_count": 5,
   "id": "3bc43cbf",
   "metadata": {
    "scrolled": false,
    "vscode": {
     "languageId": "r"
    }
   },
   "outputs": [
    {
     "data": {
      "text/html": [
       "<style>\n",
       ".list-inline {list-style: none; margin:0; padding: 0}\n",
       ".list-inline>li {display: inline-block}\n",
       ".list-inline>li:not(:last-child)::after {content: \"\\00b7\"; padding: 0 .5ex}\n",
       "</style>\n",
       "<ol class=list-inline><li>11.04.22</li><li>12.04.22</li><li>13.04.22</li><li>14.04.22</li><li>19.04.22</li><li>20.04.22</li><li>21.04.22</li><li>22.04.22</li></ol>\n",
       "\n",
       "<details>\n",
       "\t<summary style=display:list-item;cursor:pointer>\n",
       "\t\t<strong>Levels</strong>:\n",
       "\t</summary>\n",
       "\t<style>\n",
       "\t.list-inline {list-style: none; margin:0; padding: 0}\n",
       "\t.list-inline>li {display: inline-block}\n",
       "\t.list-inline>li:not(:last-child)::after {content: \"\\00b7\"; padding: 0 .5ex}\n",
       "\t</style>\n",
       "\t<ol class=list-inline><li>'11.04.22'</li><li>'12.04.22'</li><li>'13.04.22'</li><li>'14.04.22'</li><li>'19.04.22'</li><li>'20.04.22'</li><li>'21.04.22'</li><li>'22.04.22'</li></ol>\n",
       "</details>"
      ],
      "text/latex": [
       "\\begin{enumerate*}\n",
       "\\item 11.04.22\n",
       "\\item 12.04.22\n",
       "\\item 13.04.22\n",
       "\\item 14.04.22\n",
       "\\item 19.04.22\n",
       "\\item 20.04.22\n",
       "\\item 21.04.22\n",
       "\\item 22.04.22\n",
       "\\end{enumerate*}\n",
       "\n",
       "\\emph{Levels}: \\begin{enumerate*}\n",
       "\\item '11.04.22'\n",
       "\\item '12.04.22'\n",
       "\\item '13.04.22'\n",
       "\\item '14.04.22'\n",
       "\\item '19.04.22'\n",
       "\\item '20.04.22'\n",
       "\\item '21.04.22'\n",
       "\\item '22.04.22'\n",
       "\\end{enumerate*}\n"
      ],
      "text/markdown": [
       "1. 11.04.22\n",
       "2. 12.04.22\n",
       "3. 13.04.22\n",
       "4. 14.04.22\n",
       "5. 19.04.22\n",
       "6. 20.04.22\n",
       "7. 21.04.22\n",
       "8. 22.04.22\n",
       "\n",
       "\n",
       "\n",
       "**Levels**: 1. '11.04.22'\n",
       "2. '12.04.22'\n",
       "3. '13.04.22'\n",
       "4. '14.04.22'\n",
       "5. '19.04.22'\n",
       "6. '20.04.22'\n",
       "7. '21.04.22'\n",
       "8. '22.04.22'\n",
       "\n",
       "\n"
      ],
      "text/plain": [
       "[1] 11.04.22 12.04.22 13.04.22 14.04.22 19.04.22 20.04.22 21.04.22 22.04.22\n",
       "8 Levels: 11.04.22 12.04.22 13.04.22 14.04.22 19.04.22 20.04.22 ... 22.04.22"
      ]
     },
     "metadata": {},
     "output_type": "display_data"
    },
    {
     "data": {
      "text/html": [
       "Laura Neubauer\n",
       "<details>\n",
       "\t<summary style=display:list-item;cursor:pointer>\n",
       "\t\t<strong>Levels</strong>:\n",
       "\t</summary>\n",
       "\t'Laura Neubauer'\n",
       "</details>"
      ],
      "text/latex": [
       "Laura Neubauer\n",
       "\\emph{Levels}: 'Laura Neubauer'"
      ],
      "text/markdown": [
       "Laura Neubauer\n",
       "**Levels**: 'Laura Neubauer'"
      ],
      "text/plain": [
       "[1] Laura Neubauer\n",
       "Levels: Laura Neubauer"
      ]
     },
     "metadata": {},
     "output_type": "display_data"
    },
    {
     "data": {
      "text/html": [
       "<style>\n",
       ".list-inline {list-style: none; margin:0; padding: 0}\n",
       ".list-inline>li {display: inline-block}\n",
       ".list-inline>li:not(:last-child)::after {content: \"\\00b7\"; padding: 0 .5ex}\n",
       "</style>\n",
       "<ol class=list-inline><li>4-days</li><li>5-days</li></ol>\n",
       "\n",
       "<details>\n",
       "\t<summary style=display:list-item;cursor:pointer>\n",
       "\t\t<strong>Levels</strong>:\n",
       "\t</summary>\n",
       "\t<style>\n",
       "\t.list-inline {list-style: none; margin:0; padding: 0}\n",
       "\t.list-inline>li {display: inline-block}\n",
       "\t.list-inline>li:not(:last-child)::after {content: \"\\00b7\"; padding: 0 .5ex}\n",
       "\t</style>\n",
       "\t<ol class=list-inline><li>'4-days'</li><li>'5-days'</li></ol>\n",
       "</details>"
      ],
      "text/latex": [
       "\\begin{enumerate*}\n",
       "\\item 4-days\n",
       "\\item 5-days\n",
       "\\end{enumerate*}\n",
       "\n",
       "\\emph{Levels}: \\begin{enumerate*}\n",
       "\\item '4-days'\n",
       "\\item '5-days'\n",
       "\\end{enumerate*}\n"
      ],
      "text/markdown": [
       "1. 4-days\n",
       "2. 5-days\n",
       "\n",
       "\n",
       "\n",
       "**Levels**: 1. '4-days'\n",
       "2. '5-days'\n",
       "\n",
       "\n"
      ],
      "text/plain": [
       "[1] 4-days 5-days\n",
       "Levels: 4-days 5-days"
      ]
     },
     "metadata": {},
     "output_type": "display_data"
    },
    {
     "data": {
      "text/html": [
       "<style>\n",
       ".list-inline {list-style: none; margin:0; padding: 0}\n",
       ".list-inline>li {display: inline-block}\n",
       ".list-inline>li:not(:last-child)::after {content: \"\\00b7\"; padding: 0 .5ex}\n",
       "</style>\n",
       "<ol class=list-inline><li>32_29</li><li>16_13</li><li>35_36</li><li>9_11</li></ol>\n",
       "\n",
       "<details>\n",
       "\t<summary style=display:list-item;cursor:pointer>\n",
       "\t\t<strong>Levels</strong>:\n",
       "\t</summary>\n",
       "\t<style>\n",
       "\t.list-inline {list-style: none; margin:0; padding: 0}\n",
       "\t.list-inline>li {display: inline-block}\n",
       "\t.list-inline>li:not(:last-child)::after {content: \"\\00b7\"; padding: 0 .5ex}\n",
       "\t</style>\n",
       "\t<ol class=list-inline><li>'16_13'</li><li>'32_29'</li><li>'35_36'</li><li>'9_11'</li></ol>\n",
       "</details>"
      ],
      "text/latex": [
       "\\begin{enumerate*}\n",
       "\\item 32\\_29\n",
       "\\item 16\\_13\n",
       "\\item 35\\_36\n",
       "\\item 9\\_11\n",
       "\\end{enumerate*}\n",
       "\n",
       "\\emph{Levels}: \\begin{enumerate*}\n",
       "\\item '16\\_13'\n",
       "\\item '32\\_29'\n",
       "\\item '35\\_36'\n",
       "\\item '9\\_11'\n",
       "\\end{enumerate*}\n"
      ],
      "text/markdown": [
       "1. 32_29\n",
       "2. 16_13\n",
       "3. 35_36\n",
       "4. 9_11\n",
       "\n",
       "\n",
       "\n",
       "**Levels**: 1. '16_13'\n",
       "2. '32_29'\n",
       "3. '35_36'\n",
       "4. '9_11'\n",
       "\n",
       "\n"
      ],
      "text/plain": [
       "[1] 32_29 16_13 35_36 9_11 \n",
       "Levels: 16_13 32_29 35_36 9_11"
      ]
     },
     "metadata": {},
     "output_type": "display_data"
    },
    {
     "data": {
      "text/html": [
       "<style>\n",
       ".list-inline {list-style: none; margin:0; padding: 0}\n",
       ".list-inline>li {display: inline-block}\n",
       ".list-inline>li:not(:last-child)::after {content: \"\\00b7\"; padding: 0 .5ex}\n",
       "</style>\n",
       "<ol class=list-inline><li>1</li><li>2</li><li>3</li><li>4</li><li>5</li><li>6</li><li>7</li><li>8</li><li>9</li><li>10</li><li>11</li><li>12</li><li>13</li><li>14</li><li>15</li><li>16</li><li>17</li><li>18</li><li>19</li><li>20</li><li>21</li><li>22</li><li>23</li><li>24</li><li>25</li><li>26</li><li>27</li><li>28</li><li>29</li><li>30</li><li>31</li><li>32</li><li>33</li><li>34</li><li>35</li><li>36</li><li>37</li><li>38</li><li>39</li><li>40</li><li>41</li><li>42</li><li>43</li><li>44</li><li>45</li><li>46</li><li>47</li><li>48</li><li>49</li><li>50</li><li>51</li><li>52</li><li>53</li><li>54</li><li>55</li><li>56</li><li>57</li><li>58</li><li>59</li><li>60</li><li>61</li><li>62</li><li>63</li><li>64</li></ol>\n",
       "\n",
       "<details>\n",
       "\t<summary style=display:list-item;cursor:pointer>\n",
       "\t\t<strong>Levels</strong>:\n",
       "\t</summary>\n",
       "\t<style>\n",
       "\t.list-inline {list-style: none; margin:0; padding: 0}\n",
       "\t.list-inline>li {display: inline-block}\n",
       "\t.list-inline>li:not(:last-child)::after {content: \"\\00b7\"; padding: 0 .5ex}\n",
       "\t</style>\n",
       "\t<ol class=list-inline><li>'1'</li><li>'2'</li><li>'3'</li><li>'4'</li><li>'5'</li><li>'6'</li><li>'7'</li><li>'8'</li><li>'9'</li><li>'10'</li><li>'11'</li><li>'12'</li><li>'13'</li><li>'14'</li><li>'15'</li><li>'16'</li><li>'17'</li><li>'18'</li><li>'19'</li><li>'20'</li><li>'21'</li><li>'22'</li><li>'23'</li><li>'24'</li><li>'25'</li><li>'26'</li><li>'27'</li><li>'28'</li><li>'29'</li><li>'30'</li><li>'31'</li><li>'32'</li><li>'33'</li><li>'34'</li><li>'35'</li><li>'36'</li><li>'37'</li><li>'38'</li><li>'39'</li><li>'40'</li><li>'41'</li><li>'42'</li><li>'43'</li><li>'44'</li><li>'45'</li><li>'46'</li><li>'47'</li><li>'48'</li><li>'49'</li><li>'50'</li><li>'51'</li><li>'52'</li><li>'53'</li><li>'54'</li><li>'55'</li><li>'56'</li><li>'57'</li><li>'58'</li><li>'59'</li><li>'60'</li><li>'61'</li><li>'62'</li><li>'63'</li><li>'64'</li></ol>\n",
       "</details>"
      ],
      "text/latex": [
       "\\begin{enumerate*}\n",
       "\\item 1\n",
       "\\item 2\n",
       "\\item 3\n",
       "\\item 4\n",
       "\\item 5\n",
       "\\item 6\n",
       "\\item 7\n",
       "\\item 8\n",
       "\\item 9\n",
       "\\item 10\n",
       "\\item 11\n",
       "\\item 12\n",
       "\\item 13\n",
       "\\item 14\n",
       "\\item 15\n",
       "\\item 16\n",
       "\\item 17\n",
       "\\item 18\n",
       "\\item 19\n",
       "\\item 20\n",
       "\\item 21\n",
       "\\item 22\n",
       "\\item 23\n",
       "\\item 24\n",
       "\\item 25\n",
       "\\item 26\n",
       "\\item 27\n",
       "\\item 28\n",
       "\\item 29\n",
       "\\item 30\n",
       "\\item 31\n",
       "\\item 32\n",
       "\\item 33\n",
       "\\item 34\n",
       "\\item 35\n",
       "\\item 36\n",
       "\\item 37\n",
       "\\item 38\n",
       "\\item 39\n",
       "\\item 40\n",
       "\\item 41\n",
       "\\item 42\n",
       "\\item 43\n",
       "\\item 44\n",
       "\\item 45\n",
       "\\item 46\n",
       "\\item 47\n",
       "\\item 48\n",
       "\\item 49\n",
       "\\item 50\n",
       "\\item 51\n",
       "\\item 52\n",
       "\\item 53\n",
       "\\item 54\n",
       "\\item 55\n",
       "\\item 56\n",
       "\\item 57\n",
       "\\item 58\n",
       "\\item 59\n",
       "\\item 60\n",
       "\\item 61\n",
       "\\item 62\n",
       "\\item 63\n",
       "\\item 64\n",
       "\\end{enumerate*}\n",
       "\n",
       "\\emph{Levels}: \\begin{enumerate*}\n",
       "\\item '1'\n",
       "\\item '2'\n",
       "\\item '3'\n",
       "\\item '4'\n",
       "\\item '5'\n",
       "\\item '6'\n",
       "\\item '7'\n",
       "\\item '8'\n",
       "\\item '9'\n",
       "\\item '10'\n",
       "\\item '11'\n",
       "\\item '12'\n",
       "\\item '13'\n",
       "\\item '14'\n",
       "\\item '15'\n",
       "\\item '16'\n",
       "\\item '17'\n",
       "\\item '18'\n",
       "\\item '19'\n",
       "\\item '20'\n",
       "\\item '21'\n",
       "\\item '22'\n",
       "\\item '23'\n",
       "\\item '24'\n",
       "\\item '25'\n",
       "\\item '26'\n",
       "\\item '27'\n",
       "\\item '28'\n",
       "\\item '29'\n",
       "\\item '30'\n",
       "\\item '31'\n",
       "\\item '32'\n",
       "\\item '33'\n",
       "\\item '34'\n",
       "\\item '35'\n",
       "\\item '36'\n",
       "\\item '37'\n",
       "\\item '38'\n",
       "\\item '39'\n",
       "\\item '40'\n",
       "\\item '41'\n",
       "\\item '42'\n",
       "\\item '43'\n",
       "\\item '44'\n",
       "\\item '45'\n",
       "\\item '46'\n",
       "\\item '47'\n",
       "\\item '48'\n",
       "\\item '49'\n",
       "\\item '50'\n",
       "\\item '51'\n",
       "\\item '52'\n",
       "\\item '53'\n",
       "\\item '54'\n",
       "\\item '55'\n",
       "\\item '56'\n",
       "\\item '57'\n",
       "\\item '58'\n",
       "\\item '59'\n",
       "\\item '60'\n",
       "\\item '61'\n",
       "\\item '62'\n",
       "\\item '63'\n",
       "\\item '64'\n",
       "\\end{enumerate*}\n"
      ],
      "text/markdown": [
       "1. 1\n",
       "2. 2\n",
       "3. 3\n",
       "4. 4\n",
       "5. 5\n",
       "6. 6\n",
       "7. 7\n",
       "8. 8\n",
       "9. 9\n",
       "10. 10\n",
       "11. 11\n",
       "12. 12\n",
       "13. 13\n",
       "14. 14\n",
       "15. 15\n",
       "16. 16\n",
       "17. 17\n",
       "18. 18\n",
       "19. 19\n",
       "20. 20\n",
       "21. 21\n",
       "22. 22\n",
       "23. 23\n",
       "24. 24\n",
       "25. 25\n",
       "26. 26\n",
       "27. 27\n",
       "28. 28\n",
       "29. 29\n",
       "30. 30\n",
       "31. 31\n",
       "32. 32\n",
       "33. 33\n",
       "34. 34\n",
       "35. 35\n",
       "36. 36\n",
       "37. 37\n",
       "38. 38\n",
       "39. 39\n",
       "40. 40\n",
       "41. 41\n",
       "42. 42\n",
       "43. 43\n",
       "44. 44\n",
       "45. 45\n",
       "46. 46\n",
       "47. 47\n",
       "48. 48\n",
       "49. 49\n",
       "50. 50\n",
       "51. 51\n",
       "52. 52\n",
       "53. 53\n",
       "54. 54\n",
       "55. 55\n",
       "56. 56\n",
       "57. 57\n",
       "58. 58\n",
       "59. 59\n",
       "60. 60\n",
       "61. 61\n",
       "62. 62\n",
       "63. 63\n",
       "64. 64\n",
       "\n",
       "\n",
       "\n",
       "**Levels**: 1. '1'\n",
       "2. '2'\n",
       "3. '3'\n",
       "4. '4'\n",
       "5. '5'\n",
       "6. '6'\n",
       "7. '7'\n",
       "8. '8'\n",
       "9. '9'\n",
       "10. '10'\n",
       "11. '11'\n",
       "12. '12'\n",
       "13. '13'\n",
       "14. '14'\n",
       "15. '15'\n",
       "16. '16'\n",
       "17. '17'\n",
       "18. '18'\n",
       "19. '19'\n",
       "20. '20'\n",
       "21. '21'\n",
       "22. '22'\n",
       "23. '23'\n",
       "24. '24'\n",
       "25. '25'\n",
       "26. '26'\n",
       "27. '27'\n",
       "28. '28'\n",
       "29. '29'\n",
       "30. '30'\n",
       "31. '31'\n",
       "32. '32'\n",
       "33. '33'\n",
       "34. '34'\n",
       "35. '35'\n",
       "36. '36'\n",
       "37. '37'\n",
       "38. '38'\n",
       "39. '39'\n",
       "40. '40'\n",
       "41. '41'\n",
       "42. '42'\n",
       "43. '43'\n",
       "44. '44'\n",
       "45. '45'\n",
       "46. '46'\n",
       "47. '47'\n",
       "48. '48'\n",
       "49. '49'\n",
       "50. '50'\n",
       "51. '51'\n",
       "52. '52'\n",
       "53. '53'\n",
       "54. '54'\n",
       "55. '55'\n",
       "56. '56'\n",
       "57. '57'\n",
       "58. '58'\n",
       "59. '59'\n",
       "60. '60'\n",
       "61. '61'\n",
       "62. '62'\n",
       "63. '63'\n",
       "64. '64'\n",
       "\n",
       "\n"
      ],
      "text/plain": [
       " [1] 1  2  3  4  5  6  7  8  9  10 11 12 13 14 15 16 17 18 19 20 21 22 23 24 25\n",
       "[26] 26 27 28 29 30 31 32 33 34 35 36 37 38 39 40 41 42 43 44 45 46 47 48 49 50\n",
       "[51] 51 52 53 54 55 56 57 58 59 60 61 62 63 64\n",
       "64 Levels: 1 2 3 4 5 6 7 8 9 10 11 12 13 14 15 16 17 18 19 20 21 22 23 ... 64"
      ]
     },
     "metadata": {},
     "output_type": "display_data"
    }
   ],
   "source": [
    "unique(ELP$Collection_Date)\n",
    "unique(ELP$Experimentor)\n",
    "unique(ELP$Starvation_Period)\n",
    "unique(ELP$Colony_ID)\n",
    "unique(ELP$Ant_ID)"
   ]
  },
  {
   "cell_type": "markdown",
   "id": "e3044b71",
   "metadata": {},
   "source": [
    "## Do initial and final choices significantly differ?"
   ]
  },
  {
   "cell_type": "code",
   "execution_count": 6,
   "id": "f00505b5",
   "metadata": {
    "vscode": {
     "languageId": "r"
    }
   },
   "outputs": [
    {
     "name": "stderr",
     "output_type": "stream",
     "text": [
      "boundary (singular) fit: see help('isSingular')\n",
      "\n"
     ]
    },
    {
     "data": {
      "text/plain": [
       " contrast                      odds.ratio    SE  df null z.ratio p.value\n",
       " Initial_Binary / Final_Binary      0.937 0.193 Inf    1  -0.317  0.7512\n",
       "\n",
       "Tests are performed on the log odds ratio scale "
      ]
     },
     "metadata": {},
     "output_type": "display_data"
    }
   ],
   "source": [
    "ELP_choice_diff = melt(ELP, measure.vars = c(\"Initial_Binary\", \"Final_Binary\"))\n",
    "\n",
    "ELP_choice_diff$variable = as.factor(ELP_choice_diff$variable)\n",
    "ELP_choice_diff$value = as.factor(ELP_choice_diff$value)\n",
    "\n",
    "ELP_choice_diff_mod = glmer(value ~ variable + (1|Collection_Date) + (Starvation_Period|Colony_ID) + (1|Ant_ID), data = ELP_choice_diff, family = binomial, glmerControl(optimizer = \"bobyqa\", optCtrl = list(maxfun = 1000000000)))\n",
    "\n",
    "e = emmeans(ELP_choice_diff_mod, ~variable, type = \"response\")\n",
    "pairs(e)"
   ]
  },
  {
   "cell_type": "markdown",
   "id": "328cf9e7",
   "metadata": {},
   "source": [
    "p-value > 0.1 hence there is no statistical difference between initial and final decision therefore we will use final decision henceforth."
   ]
  },
  {
   "cell_type": "markdown",
   "id": "33f30dc0",
   "metadata": {},
   "source": [
    "## Define models\n",
    "\n",
    "### 1. Null model\n",
    "**Biological hypothesis:** Ants randomly choose a Y-maze arm."
   ]
  },
  {
   "cell_type": "code",
   "execution_count": 7,
   "id": "0ef959a3",
   "metadata": {
    "scrolled": false,
    "vscode": {
     "languageId": "r"
    }
   },
   "outputs": [
    {
     "name": "stderr",
     "output_type": "stream",
     "text": [
      "boundary (singular) fit: see help('isSingular')\n",
      "\n"
     ]
    }
   ],
   "source": [
    "null_mod = glmer(Final_Binary ~ 1 + (1|Collection_Date) + (Starvation_Period|Colony_ID) + (1|Ant_ID), data = ELP, family = \"binomial\", glmerControl(optimizer = \"bobyqa\", optCtrl = list(maxfun = 1000000000)))"
   ]
  },
  {
   "cell_type": "markdown",
   "id": "1b2602f5",
   "metadata": {},
   "source": [
    "### 2. Visit model\n",
    "**Biological hypothesis:** Ants learn to associate a Y-maze arm with a reward. Over consecutive visits more ants choose the correct arm."
   ]
  },
  {
   "cell_type": "code",
   "execution_count": 8,
   "id": "7f450e9d",
   "metadata": {
    "vscode": {
     "languageId": "r"
    }
   },
   "outputs": [
    {
     "name": "stderr",
     "output_type": "stream",
     "text": [
      "boundary (singular) fit: see help('isSingular')\n",
      "\n"
     ]
    }
   ],
   "source": [
    "visit_mod = glmer(Final_Binary ~ Visit + (1|Collection_Date) + (Starvation_Period|Colony_ID) + (1|Ant_ID), data = ELP, family = \"binomial\", glmerControl(optimizer = \"bobyqa\", optCtrl = list(maxfun = 1000000000)))"
   ]
  },
  {
   "cell_type": "markdown",
   "id": "b7ed456a",
   "metadata": {},
   "source": [
    "### 3. Solution model\n",
    "**Biological hypothesis:** The presence of a psychoactive chemical in the reward alters the ants ability to choose a Y-maze arm."
   ]
  },
  {
   "cell_type": "code",
   "execution_count": 9,
   "id": "e40efafe",
   "metadata": {
    "scrolled": true,
    "vscode": {
     "languageId": "r"
    }
   },
   "outputs": [
    {
     "name": "stderr",
     "output_type": "stream",
     "text": [
      "boundary (singular) fit: see help('isSingular')\n",
      "\n"
     ]
    }
   ],
   "source": [
    "solution_mod = glmer(Final_Binary ~ Solution + (1|Collection_Date) + (Starvation_Period|Colony_ID) + (1|Ant_ID), data = ELP, family = \"binomial\", glmerControl(optimizer = \"bobyqa\", optCtrl = list(maxfun = 1000000000)))"
   ]
  },
  {
   "cell_type": "markdown",
   "id": "ab0eba13",
   "metadata": {},
   "source": [
    "### 4. Side model\n",
    "**Biological hypothesis:** Ants have an intrinsic predisposition towards turning left or right. This is associated with brain lateralisation which has been shown in multiple organisms."
   ]
  },
  {
   "cell_type": "code",
   "execution_count": 10,
   "id": "607d48ee",
   "metadata": {
    "scrolled": true,
    "vscode": {
     "languageId": "r"
    }
   },
   "outputs": [
    {
     "name": "stderr",
     "output_type": "stream",
     "text": [
      "boundary (singular) fit: see help('isSingular')\n",
      "\n"
     ]
    }
   ],
   "source": [
    "side_mod = glmer(Final_Binary ~ Reward_Side + (1|Collection_Date) + (Starvation_Period|Colony_ID) + (1|Ant_ID), data = ELP, family = \"binomial\", glmerControl(optimizer = \"bobyqa\", optCtrl = list(maxfun = 1000000000)))"
   ]
  },
  {
   "cell_type": "markdown",
   "id": "761fabe0",
   "metadata": {},
   "source": [
    "### 5. Time since marking model\n",
    "**Biological hypothesis:** Ants that had a waiting period (>30 minutes) after learning the reward/side association have different recall strenght. This should be associated with long-term memory formation which should be stronger."
   ]
  },
  {
   "cell_type": "code",
   "execution_count": 11,
   "id": "2658b671",
   "metadata": {
    "vscode": {
     "languageId": "r"
    }
   },
   "outputs": [
    {
     "name": "stderr",
     "output_type": "stream",
     "text": [
      "boundary (singular) fit: see help('isSingular')\n",
      "\n"
     ]
    }
   ],
   "source": [
    "tsm_mod = glmer(Final_Binary ~ TSM_Bin + (1|Collection_Date) + (Starvation_Period|Colony_ID) + (1|Ant_ID), data = ELP, family = \"binomial\", glmerControl(optimizer = \"bobyqa\", optCtrl = list(maxfun = 1000000000)))"
   ]
  },
  {
   "cell_type": "markdown",
   "id": "892cb81b",
   "metadata": {},
   "source": [
    "### 6. Solution and Visit with Time since marking model\n",
    "**Biological hypothesis:** The effects of a psychoactive chemical might be time dependent."
   ]
  },
  {
   "cell_type": "code",
   "execution_count": 12,
   "id": "5cff5050",
   "metadata": {
    "vscode": {
     "languageId": "r"
    }
   },
   "outputs": [
    {
     "name": "stderr",
     "output_type": "stream",
     "text": [
      "boundary (singular) fit: see help('isSingular')\n",
      "\n"
     ]
    }
   ],
   "source": [
    "solution_time_mod = glmer(Final_Binary ~ Solution + TSM_Bin + Visit + Solution:TSM_Bin + (1|Collection_Date) + (Starvation_Period|Colony_ID) + (1|Ant_ID), data = ELP, family = \"binomial\", glmerControl(optimizer = \"bobyqa\", optCtrl = list(maxfun = 1000000000)))"
   ]
  },
  {
   "cell_type": "markdown",
   "id": "fcf2c7eb",
   "metadata": {},
   "source": [
    "### 7. Maximal model\n",
    "**Biological hypothesis:** All of the available variables contribute towards ant learning."
   ]
  },
  {
   "cell_type": "code",
   "execution_count": 13,
   "id": "fcc1c701",
   "metadata": {
    "scrolled": true,
    "vscode": {
     "languageId": "r"
    }
   },
   "outputs": [
    {
     "name": "stderr",
     "output_type": "stream",
     "text": [
      "boundary (singular) fit: see help('isSingular')\n",
      "\n"
     ]
    }
   ],
   "source": [
    "max_mod = glmer(Final_Binary ~ Solution + Visit + TSM_Bin + Reward_Side + Solution:TSM_Bin + (1|Collection_Date) + (Starvation_Period|Colony_ID) + (1|Ant_ID), data = ELP, family = \"binomial\", glmerControl(optimizer = \"bobyqa\", optCtrl = list(maxfun = 1000000000)))"
   ]
  },
  {
   "cell_type": "markdown",
   "id": "18c1db92",
   "metadata": {},
   "source": [
    "## Check if the most complex model (max_mod) is a good fit to the data"
   ]
  },
  {
   "cell_type": "code",
   "execution_count": 14,
   "id": "8b081980",
   "metadata": {
    "vscode": {
     "languageId": "r"
    }
   },
   "outputs": [
    {
     "data": {
      "image/png": "[encoded data removed]",
      "text/plain": [
       "Plot with title “QQ plot residuals”"
      ]
     },
     "metadata": {
      "image/png": {
       "height": 420,
       "width": 420
      }
     },
     "output_type": "display_data"
    }
   ],
   "source": [
    "simres = simulateResiduals(max_mod)\n",
    "plot(simres, asFactor = T)"
   ]
  },
  {
   "cell_type": "markdown",
   "id": "3d31eeee",
   "metadata": {},
   "source": [
    "The maximum model seems to hold all assumptions and be a god fit to the data. Therefore, all simpler models should be equally good.\n",
    "## Model Selection"
   ]
  },
  {
   "cell_type": "code",
   "execution_count": 15,
   "id": "6768b6ea",
   "metadata": {
    "scrolled": false,
    "vscode": {
     "languageId": "r"
    }
   },
   "outputs": [
    {
     "data": {
      "text/html": [
       "<table class=\"dataframe\">\n",
       "<caption>A aictab: 7 × 8</caption>\n",
       "<thead>\n",
       "\t<tr><th></th><th scope=col>Modnames</th><th scope=col>K</th><th scope=col>AICc</th><th scope=col>Delta_AICc</th><th scope=col>ModelLik</th><th scope=col>AICcWt</th><th scope=col>LL</th><th scope=col>Cum.Wt</th></tr>\n",
       "\t<tr><th></th><th scope=col>&lt;chr&gt;</th><th scope=col>&lt;dbl&gt;</th><th scope=col>&lt;dbl&gt;</th><th scope=col>&lt;dbl&gt;</th><th scope=col>&lt;dbl&gt;</th><th scope=col>&lt;dbl&gt;</th><th scope=col>&lt;dbl&gt;</th><th scope=col>&lt;dbl&gt;</th></tr>\n",
       "</thead>\n",
       "<tbody>\n",
       "\t<tr><th scope=row>2</th><td>visit_mod        </td><td> 9</td><td>334.3341</td><td>0.000000</td><td>1.00000000</td><td>0.79129092</td><td>-157.8012</td><td>0.7912909</td></tr>\n",
       "\t<tr><th scope=row>6</th><td>solution_time_mod</td><td>12</td><td>338.8480</td><td>4.513917</td><td>0.10466836</td><td>0.08282312</td><td>-156.7820</td><td>0.8741140</td></tr>\n",
       "\t<tr><th scope=row>7</th><td>max_mod          </td><td>13</td><td>340.1339</td><td>5.799819</td><td>0.05502821</td><td>0.04354332</td><td>-156.3149</td><td>0.9176574</td></tr>\n",
       "\t<tr><th scope=row>1</th><td>null_mod         </td><td> 6</td><td>340.9461</td><td>6.612049</td><td>0.03666164</td><td>0.02901002</td><td>-164.3044</td><td>0.9466674</td></tr>\n",
       "\t<tr><th scope=row>5</th><td>tsm_mod          </td><td> 7</td><td>341.0481</td><td>6.714006</td><td>0.03483952</td><td>0.02756819</td><td>-163.2982</td><td>0.9742356</td></tr>\n",
       "\t<tr><th scope=row>4</th><td>side_mod         </td><td> 7</td><td>342.1760</td><td>7.841956</td><td>0.01982170</td><td>0.01568473</td><td>-163.8622</td><td>0.9899203</td></tr>\n",
       "\t<tr><th scope=row>3</th><td>solution_mod     </td><td> 7</td><td>343.0603</td><td>8.726287</td><td>0.01273828</td><td>0.01007969</td><td>-164.3044</td><td>1.0000000</td></tr>\n",
       "</tbody>\n",
       "</table>\n"
      ],
      "text/latex": [
       "A aictab: 7 × 8\n",
       "\\begin{tabular}{r|llllllll}\n",
       "  & Modnames & K & AICc & Delta\\_AICc & ModelLik & AICcWt & LL & Cum.Wt\\\\\n",
       "  & <chr> & <dbl> & <dbl> & <dbl> & <dbl> & <dbl> & <dbl> & <dbl>\\\\\n",
       "\\hline\n",
       "\t2 & visit\\_mod         &  9 & 334.3341 & 0.000000 & 1.00000000 & 0.79129092 & -157.8012 & 0.7912909\\\\\n",
       "\t6 & solution\\_time\\_mod & 12 & 338.8480 & 4.513917 & 0.10466836 & 0.08282312 & -156.7820 & 0.8741140\\\\\n",
       "\t7 & max\\_mod           & 13 & 340.1339 & 5.799819 & 0.05502821 & 0.04354332 & -156.3149 & 0.9176574\\\\\n",
       "\t1 & null\\_mod          &  6 & 340.9461 & 6.612049 & 0.03666164 & 0.02901002 & -164.3044 & 0.9466674\\\\\n",
       "\t5 & tsm\\_mod           &  7 & 341.0481 & 6.714006 & 0.03483952 & 0.02756819 & -163.2982 & 0.9742356\\\\\n",
       "\t4 & side\\_mod          &  7 & 342.1760 & 7.841956 & 0.01982170 & 0.01568473 & -163.8622 & 0.9899203\\\\\n",
       "\t3 & solution\\_mod      &  7 & 343.0603 & 8.726287 & 0.01273828 & 0.01007969 & -164.3044 & 1.0000000\\\\\n",
       "\\end{tabular}\n"
      ],
      "text/markdown": [
       "\n",
       "A aictab: 7 × 8\n",
       "\n",
       "| <!--/--> | Modnames &lt;chr&gt; | K &lt;dbl&gt; | AICc &lt;dbl&gt; | Delta_AICc &lt;dbl&gt; | ModelLik &lt;dbl&gt; | AICcWt &lt;dbl&gt; | LL &lt;dbl&gt; | Cum.Wt &lt;dbl&gt; |\n",
       "|---|---|---|---|---|---|---|---|---|\n",
       "| 2 | visit_mod         |  9 | 334.3341 | 0.000000 | 1.00000000 | 0.79129092 | -157.8012 | 0.7912909 |\n",
       "| 6 | solution_time_mod | 12 | 338.8480 | 4.513917 | 0.10466836 | 0.08282312 | -156.7820 | 0.8741140 |\n",
       "| 7 | max_mod           | 13 | 340.1339 | 5.799819 | 0.05502821 | 0.04354332 | -156.3149 | 0.9176574 |\n",
       "| 1 | null_mod          |  6 | 340.9461 | 6.612049 | 0.03666164 | 0.02901002 | -164.3044 | 0.9466674 |\n",
       "| 5 | tsm_mod           |  7 | 341.0481 | 6.714006 | 0.03483952 | 0.02756819 | -163.2982 | 0.9742356 |\n",
       "| 4 | side_mod          |  7 | 342.1760 | 7.841956 | 0.01982170 | 0.01568473 | -163.8622 | 0.9899203 |\n",
       "| 3 | solution_mod      |  7 | 343.0603 | 8.726287 | 0.01273828 | 0.01007969 | -164.3044 | 1.0000000 |\n",
       "\n"
      ],
      "text/plain": [
       "  Modnames          K  AICc     Delta_AICc ModelLik   AICcWt     LL       \n",
       "2 visit_mod          9 334.3341 0.000000   1.00000000 0.79129092 -157.8012\n",
       "6 solution_time_mod 12 338.8480 4.513917   0.10466836 0.08282312 -156.7820\n",
       "7 max_mod           13 340.1339 5.799819   0.05502821 0.04354332 -156.3149\n",
       "1 null_mod           6 340.9461 6.612049   0.03666164 0.02901002 -164.3044\n",
       "5 tsm_mod            7 341.0481 6.714006   0.03483952 0.02756819 -163.2982\n",
       "4 side_mod           7 342.1760 7.841956   0.01982170 0.01568473 -163.8622\n",
       "3 solution_mod       7 343.0603 8.726287   0.01273828 0.01007969 -164.3044\n",
       "  Cum.Wt   \n",
       "2 0.7912909\n",
       "6 0.8741140\n",
       "7 0.9176574\n",
       "1 0.9466674\n",
       "5 0.9742356\n",
       "4 0.9899203\n",
       "3 1.0000000"
      ]
     },
     "metadata": {},
     "output_type": "display_data"
    },
    {
     "data": {
      "text/html": [
       "<dl>\n",
       "\t<dt>$method</dt>\n",
       "\t\t<dd>'raw'</dd>\n",
       "\t<dt>$level</dt>\n",
       "\t\t<dd>0.95</dd>\n",
       "\t<dt>$table</dt>\n",
       "\t\t<dd><table class=\"dataframe\">\n",
       "<caption>A aictab: 5 × 8</caption>\n",
       "<thead>\n",
       "\t<tr><th></th><th scope=col>Modnames</th><th scope=col>K</th><th scope=col>AICc</th><th scope=col>Delta_AICc</th><th scope=col>ModelLik</th><th scope=col>AICcWt</th><th scope=col>LL</th><th scope=col>Cum.Wt</th></tr>\n",
       "\t<tr><th></th><th scope=col>&lt;chr&gt;</th><th scope=col>&lt;dbl&gt;</th><th scope=col>&lt;dbl&gt;</th><th scope=col>&lt;dbl&gt;</th><th scope=col>&lt;dbl&gt;</th><th scope=col>&lt;dbl&gt;</th><th scope=col>&lt;dbl&gt;</th><th scope=col>&lt;dbl&gt;</th></tr>\n",
       "</thead>\n",
       "<tbody>\n",
       "\t<tr><th scope=row>2</th><td>visit_mod        </td><td> 9</td><td>334.3341</td><td>0.000000</td><td>1.00000000</td><td>0.79129092</td><td>-157.8012</td><td>0.7912909</td></tr>\n",
       "\t<tr><th scope=row>6</th><td>solution_time_mod</td><td>12</td><td>338.8480</td><td>4.513917</td><td>0.10466836</td><td>0.08282312</td><td>-156.7820</td><td>0.8741140</td></tr>\n",
       "\t<tr><th scope=row>7</th><td>max_mod          </td><td>13</td><td>340.1339</td><td>5.799819</td><td>0.05502821</td><td>0.04354332</td><td>-156.3149</td><td>0.9176574</td></tr>\n",
       "\t<tr><th scope=row>1</th><td>null_mod         </td><td> 6</td><td>340.9461</td><td>6.612049</td><td>0.03666164</td><td>0.02901002</td><td>-164.3044</td><td>0.9466674</td></tr>\n",
       "\t<tr><th scope=row>5</th><td>tsm_mod          </td><td> 7</td><td>341.0481</td><td>6.714006</td><td>0.03483952</td><td>0.02756819</td><td>-163.2982</td><td>0.9742356</td></tr>\n",
       "</tbody>\n",
       "</table>\n",
       "</dd>\n",
       "</dl>\n"
      ],
      "text/latex": [
       "\\begin{description}\n",
       "\\item[\\$method] 'raw'\n",
       "\\item[\\$level] 0.95\n",
       "\\item[\\$table] A aictab: 5 × 8\n",
       "\\begin{tabular}{r|llllllll}\n",
       "  & Modnames & K & AICc & Delta\\_AICc & ModelLik & AICcWt & LL & Cum.Wt\\\\\n",
       "  & <chr> & <dbl> & <dbl> & <dbl> & <dbl> & <dbl> & <dbl> & <dbl>\\\\\n",
       "\\hline\n",
       "\t2 & visit\\_mod         &  9 & 334.3341 & 0.000000 & 1.00000000 & 0.79129092 & -157.8012 & 0.7912909\\\\\n",
       "\t6 & solution\\_time\\_mod & 12 & 338.8480 & 4.513917 & 0.10466836 & 0.08282312 & -156.7820 & 0.8741140\\\\\n",
       "\t7 & max\\_mod           & 13 & 340.1339 & 5.799819 & 0.05502821 & 0.04354332 & -156.3149 & 0.9176574\\\\\n",
       "\t1 & null\\_mod          &  6 & 340.9461 & 6.612049 & 0.03666164 & 0.02901002 & -164.3044 & 0.9466674\\\\\n",
       "\t5 & tsm\\_mod           &  7 & 341.0481 & 6.714006 & 0.03483952 & 0.02756819 & -163.2982 & 0.9742356\\\\\n",
       "\\end{tabular}\n",
       "\n",
       "\\end{description}\n"
      ],
      "text/markdown": [
       "$method\n",
       ":   'raw'\n",
       "$level\n",
       ":   0.95\n",
       "$table\n",
       ":   \n",
       "A aictab: 5 × 8\n",
       "\n",
       "| <!--/--> | Modnames &lt;chr&gt; | K &lt;dbl&gt; | AICc &lt;dbl&gt; | Delta_AICc &lt;dbl&gt; | ModelLik &lt;dbl&gt; | AICcWt &lt;dbl&gt; | LL &lt;dbl&gt; | Cum.Wt &lt;dbl&gt; |\n",
       "|---|---|---|---|---|---|---|---|---|\n",
       "| 2 | visit_mod         |  9 | 334.3341 | 0.000000 | 1.00000000 | 0.79129092 | -157.8012 | 0.7912909 |\n",
       "| 6 | solution_time_mod | 12 | 338.8480 | 4.513917 | 0.10466836 | 0.08282312 | -156.7820 | 0.8741140 |\n",
       "| 7 | max_mod           | 13 | 340.1339 | 5.799819 | 0.05502821 | 0.04354332 | -156.3149 | 0.9176574 |\n",
       "| 1 | null_mod          |  6 | 340.9461 | 6.612049 | 0.03666164 | 0.02901002 | -164.3044 | 0.9466674 |\n",
       "| 5 | tsm_mod           |  7 | 341.0481 | 6.714006 | 0.03483952 | 0.02756819 | -163.2982 | 0.9742356 |\n",
       "\n",
       "\n",
       "\n",
       "\n"
      ],
      "text/plain": [
       "\n",
       "Confidence set for the best model\n",
       "\n",
       "Method:\t raw sum of model probabilities\n",
       "\n",
       "95% confidence set:\n",
       "                   K   AICc Delta_AICc AICcWt\n",
       "visit_mod          9 334.33       0.00   0.79\n",
       "solution_time_mod 12 338.85       4.51   0.08\n",
       "max_mod           13 340.13       5.80   0.04\n",
       "null_mod           6 340.95       6.61   0.03\n",
       "tsm_mod            7 341.05       6.71   0.03\n",
       "\n",
       "Model probabilities sum to 0.97 \n"
      ]
     },
     "metadata": {},
     "output_type": "display_data"
    }
   ],
   "source": [
    "cand_models = list(\"null_mod\" = null_mod, \n",
    "                   \"visit_mod\" = visit_mod,\n",
    "                   \"solution_mod\" = solution_mod,\n",
    "                   \"side_mod\" = side_mod,\n",
    "                   \"tsm_mod\" = tsm_mod,\n",
    "                   \"solution_time_mod\" = solution_time_mod,\n",
    "                   \"max_mod\" = max_mod)\n",
    "\n",
    "aictab(cand_models)\n",
    "confset(cand.set = cand_models) # Remove models that explain the last 0.05 Cum.Wt"
   ]
  },
  {
   "cell_type": "markdown",
   "id": "8bbc4ed3",
   "metadata": {},
   "source": [
    "**The visit_mod explains 79% of the total variance explained by all of the models tested.**"
   ]
  },
  {
   "cell_type": "code",
   "execution_count": 16,
   "id": "de24bba9",
   "metadata": {
    "scrolled": true,
    "vscode": {
     "languageId": "r"
    }
   },
   "outputs": [
    {
     "data": {
      "text/html": [
       "<dl>\n",
       "\t<dt>$Model.high</dt>\n",
       "\t\t<dd>'visit_mod'</dd>\n",
       "\t<dt>$Model.low</dt>\n",
       "\t\t<dd>'solution_time_mod'</dd>\n",
       "\t<dt>$Ev.ratio</dt>\n",
       "\t\t<dd>9.55398563671302</dd>\n",
       "</dl>\n"
      ],
      "text/latex": [
       "\\begin{description}\n",
       "\\item[\\$Model.high] 'visit\\_mod'\n",
       "\\item[\\$Model.low] 'solution\\_time\\_mod'\n",
       "\\item[\\$Ev.ratio] 9.55398563671302\n",
       "\\end{description}\n"
      ],
      "text/markdown": [
       "$Model.high\n",
       ":   'visit_mod'\n",
       "$Model.low\n",
       ":   'solution_time_mod'\n",
       "$Ev.ratio\n",
       ":   9.55398563671302\n",
       "\n",
       "\n"
      ],
      "text/plain": [
       "\n",
       "Evidence ratio between models 'visit_mod' and 'solution_time_mod':\n",
       "9.55 \n"
      ]
     },
     "metadata": {},
     "output_type": "display_data"
    }
   ],
   "source": [
    "evidence(aic.table = aictab(cand_models))"
   ]
  },
  {
   "cell_type": "markdown",
   "id": "8f498389",
   "metadata": {},
   "source": [
    "The visit model is 10 times more parsimonious than the next \"best\" model (solution_time_mod)."
   ]
  },
  {
   "cell_type": "code",
   "execution_count": 17,
   "id": "92c586c2",
   "metadata": {
    "scrolled": false,
    "vscode": {
     "languageId": "r"
    }
   },
   "outputs": [
    {
     "data": {
      "text/plain": [
       "Generalized linear mixed model fit by maximum likelihood (Laplace\n",
       "  Approximation) [glmerMod]\n",
       " Family: binomial  ( logit )\n",
       "Formula: Final_Binary ~ Visit + (1 | Collection_Date) + (Starvation_Period |  \n",
       "    Colony_ID) + (1 | Ant_ID)\n",
       "   Data: ELP\n",
       "Control: glmerControl(optimizer = \"bobyqa\", optCtrl = list(maxfun = 1e+09))\n",
       "\n",
       "     AIC      BIC   logLik deviance df.resid \n",
       "   333.6    365.5   -157.8    315.6      247 \n",
       "\n",
       "Scaled residuals: \n",
       "    Min      1Q  Median      3Q     Max \n",
       "-2.0455 -0.9106  0.4983  0.6571  1.1845 \n",
       "\n",
       "Random effects:\n",
       " Groups          Name                    Variance Std.Dev. Corr\n",
       " Ant_ID          (Intercept)             0.62148  0.7883       \n",
       " Collection_Date (Intercept)             0.00000  0.0000       \n",
       " Colony_ID       (Intercept)             0.00000  0.0000       \n",
       "                 Starvation_Period5-days 0.03806  0.1951    NaN\n",
       "Number of obs: 256, groups:  Ant_ID, 64; Collection_Date, 8; Colony_ID, 4\n",
       "\n",
       "Fixed effects:\n",
       "            Estimate Std. Error z value Pr(>|z|)   \n",
       "(Intercept) 0.000152   0.293503   0.001  0.99959   \n",
       "Visit3      0.513925   0.385672   1.333  0.18268   \n",
       "Visit4      1.164163   0.409917   2.840  0.00451 **\n",
       "Visit5      1.255479   0.414895   3.026  0.00248 **\n",
       "---\n",
       "Signif. codes:  0 ‘***’ 0.001 ‘**’ 0.01 ‘*’ 0.05 ‘.’ 0.1 ‘ ’ 1\n",
       "\n",
       "Correlation of Fixed Effects:\n",
       "       (Intr) Visit3 Visit4\n",
       "Visit3 -0.639              \n",
       "Visit4 -0.603  0.478       \n",
       "Visit5 -0.596  0.473  0.469\n",
       "optimizer (bobyqa) convergence code: 0 (OK)\n",
       "boundary (singular) fit: see help('isSingular')\n"
      ]
     },
     "metadata": {},
     "output_type": "display_data"
    }
   ],
   "source": [
    "summary(visit_mod)"
   ]
  },
  {
   "cell_type": "code",
   "execution_count": 18,
   "id": "3b4203e2",
   "metadata": {
    "scrolled": true,
    "vscode": {
     "languageId": "r"
    }
   },
   "outputs": [
    {
     "data": {
      "text/html": [
       "<style>\n",
       ".dl-inline {width: auto; margin:0; padding: 0}\n",
       ".dl-inline>dt, .dl-inline>dd {float: none; width: auto; display: inline-block}\n",
       ".dl-inline>dt::after {content: \":\\0020\"; padding-right: .5ex}\n",
       ".dl-inline>dt:not(:first-of-type) {padding-left: .5ex}\n",
       "</style><dl class=dl-inline><dt>(Intercept)</dt><dd>1.00015204273484</dd><dt>Visit3</dt><dd>1.67183957895061</dd><dt>Visit4</dt><dd>3.20324233547991</dd><dt>Visit5</dt><dd>3.50951960649278</dd></dl>\n"
      ],
      "text/latex": [
       "\\begin{description*}\n",
       "\\item[(Intercept)] 1.00015204273484\n",
       "\\item[Visit3] 1.67183957895061\n",
       "\\item[Visit4] 3.20324233547991\n",
       "\\item[Visit5] 3.50951960649278\n",
       "\\end{description*}\n"
      ],
      "text/markdown": [
       "(Intercept)\n",
       ":   1.00015204273484Visit3\n",
       ":   1.67183957895061Visit4\n",
       ":   3.20324233547991Visit5\n",
       ":   3.50951960649278\n",
       "\n"
      ],
      "text/plain": [
       "(Intercept)      Visit3      Visit4      Visit5 \n",
       "   1.000152    1.671840    3.203242    3.509520 "
      ]
     },
     "metadata": {},
     "output_type": "display_data"
    }
   ],
   "source": [
    "exp(fixef(visit_mod))"
   ]
  },
  {
   "cell_type": "code",
   "execution_count": 19,
   "id": "052d5bbf",
   "metadata": {
    "scrolled": false,
    "vscode": {
     "languageId": "r"
    }
   },
   "outputs": [
    {
     "data": {
      "text/html": [
       "<table class=\"dataframe\">\n",
       "<caption>A matrix: 9 × 2 of type dbl</caption>\n",
       "<thead>\n",
       "\t<tr><th></th><th scope=col>2.5 %</th><th scope=col>97.5 %</th></tr>\n",
       "</thead>\n",
       "<tbody>\n",
       "\t<tr><th scope=row>.sig01</th><td>       NA</td><td>      NA</td></tr>\n",
       "\t<tr><th scope=row>.sig02</th><td>       NA</td><td>      NA</td></tr>\n",
       "\t<tr><th scope=row>.sig03</th><td>       NA</td><td>      NA</td></tr>\n",
       "\t<tr><th scope=row>.sig04</th><td>       NA</td><td>      NA</td></tr>\n",
       "\t<tr><th scope=row>.sig05</th><td>       NA</td><td>      NA</td></tr>\n",
       "\t<tr><th scope=row>(Intercept)</th><td>0.5626469</td><td>1.777854</td></tr>\n",
       "\t<tr><th scope=row>Visit3</th><td>0.7850735</td><td>3.560237</td></tr>\n",
       "\t<tr><th scope=row>Visit4</th><td>1.4343914</td><td>7.153390</td></tr>\n",
       "\t<tr><th scope=row>Visit5</th><td>1.5562816</td><td>7.914203</td></tr>\n",
       "</tbody>\n",
       "</table>\n"
      ],
      "text/latex": [
       "A matrix: 9 × 2 of type dbl\n",
       "\\begin{tabular}{r|ll}\n",
       "  & 2.5 \\% & 97.5 \\%\\\\\n",
       "\\hline\n",
       "\t.sig01 &        NA &       NA\\\\\n",
       "\t.sig02 &        NA &       NA\\\\\n",
       "\t.sig03 &        NA &       NA\\\\\n",
       "\t.sig04 &        NA &       NA\\\\\n",
       "\t.sig05 &        NA &       NA\\\\\n",
       "\t(Intercept) & 0.5626469 & 1.777854\\\\\n",
       "\tVisit3 & 0.7850735 & 3.560237\\\\\n",
       "\tVisit4 & 1.4343914 & 7.153390\\\\\n",
       "\tVisit5 & 1.5562816 & 7.914203\\\\\n",
       "\\end{tabular}\n"
      ],
      "text/markdown": [
       "\n",
       "A matrix: 9 × 2 of type dbl\n",
       "\n",
       "| <!--/--> | 2.5 % | 97.5 % |\n",
       "|---|---|---|\n",
       "| .sig01 |        NA |       NA |\n",
       "| .sig02 |        NA |       NA |\n",
       "| .sig03 |        NA |       NA |\n",
       "| .sig04 |        NA |       NA |\n",
       "| .sig05 |        NA |       NA |\n",
       "| (Intercept) | 0.5626469 | 1.777854 |\n",
       "| Visit3 | 0.7850735 | 3.560237 |\n",
       "| Visit4 | 1.4343914 | 7.153390 |\n",
       "| Visit5 | 1.5562816 | 7.914203 |\n",
       "\n"
      ],
      "text/plain": [
       "            2.5 %     97.5 %  \n",
       ".sig01             NA       NA\n",
       ".sig02             NA       NA\n",
       ".sig03             NA       NA\n",
       ".sig04             NA       NA\n",
       ".sig05             NA       NA\n",
       "(Intercept) 0.5626469 1.777854\n",
       "Visit3      0.7850735 3.560237\n",
       "Visit4      1.4343914 7.153390\n",
       "Visit5      1.5562816 7.914203"
      ]
     },
     "metadata": {},
     "output_type": "display_data"
    }
   ],
   "source": [
    "exp(confint(visit_mod, method = \"Wald\"))"
   ]
  },
  {
   "cell_type": "code",
   "execution_count": 20,
   "id": "83fe2071",
   "metadata": {
    "vscode": {
     "languageId": "r"
    }
   },
   "outputs": [
    {
     "data": {
      "image/png": "[encoded data removed]",
      "text/plain": [
       "Plot with title “”"
      ]
     },
     "metadata": {
      "image/png": {
       "height": 420,
       "width": 420
      }
     },
     "output_type": "display_data"
    }
   ],
   "source": [
    "plot(ELP$Visit, ELP$Final_Binary)"
   ]
  },
  {
   "cell_type": "markdown",
   "id": "bca19c16",
   "metadata": {},
   "source": [
    "## Initial Conclusions\n",
    "- Ants randomly choose a side of the Y-maze at Visit 2 and 3 (50%/60%). However, from Visit 4 onwards ants consistently choose the rewarded side reaching 80% correct decisions.\n",
    "- Visit 4 = 3.2 [1.4, 7.2] | Visit 5 = 3.5 [1.6, 7.9]\n",
    "- There seems to be no side bias or effect of any other variable. However, since the Visit model explains <90% of the total variation we will do model averaging with the 95% top models.\n",
    "\n",
    "## Brain lateralisation VS Visual Cues\n",
    "**This setup had the wall on the Right!**"
   ]
  },
  {
   "cell_type": "code",
   "execution_count": 21,
   "id": "c1c5c79e",
   "metadata": {
    "vscode": {
     "languageId": "r"
    }
   },
   "outputs": [
    {
     "data": {
      "image/png": "[encoded data removed]",
      "text/plain": [
       "Plot with title “”"
      ]
     },
     "metadata": {
      "image/png": {
       "height": 420,
       "width": 420
      }
     },
     "output_type": "display_data"
    }
   ],
   "source": [
    "plot(ELP$Reward_Side, ELP$Final_Binary)"
   ]
  },
  {
   "cell_type": "markdown",
   "id": "bc44157e",
   "metadata": {},
   "source": [
    "**There is a very subtle not siginificant preference for the Left side**\n",
    "\n",
    "## Model averaging"
   ]
  },
  {
   "cell_type": "code",
   "execution_count": 22,
   "id": "9401138f",
   "metadata": {
    "vscode": {
     "languageId": "r"
    }
   },
   "outputs": [
    {
     "data": {
      "text/html": [
       "<dl>\n",
       "\t<dt>$method</dt>\n",
       "\t\t<dd>'raw'</dd>\n",
       "\t<dt>$level</dt>\n",
       "\t\t<dd>0.95</dd>\n",
       "\t<dt>$table</dt>\n",
       "\t\t<dd><table class=\"dataframe\">\n",
       "<caption>A aictab: 5 × 8</caption>\n",
       "<thead>\n",
       "\t<tr><th></th><th scope=col>Modnames</th><th scope=col>K</th><th scope=col>AICc</th><th scope=col>Delta_AICc</th><th scope=col>ModelLik</th><th scope=col>AICcWt</th><th scope=col>LL</th><th scope=col>Cum.Wt</th></tr>\n",
       "\t<tr><th></th><th scope=col>&lt;chr&gt;</th><th scope=col>&lt;dbl&gt;</th><th scope=col>&lt;dbl&gt;</th><th scope=col>&lt;dbl&gt;</th><th scope=col>&lt;dbl&gt;</th><th scope=col>&lt;dbl&gt;</th><th scope=col>&lt;dbl&gt;</th><th scope=col>&lt;dbl&gt;</th></tr>\n",
       "</thead>\n",
       "<tbody>\n",
       "\t<tr><th scope=row>2</th><td>visit_mod        </td><td> 9</td><td>334.3341</td><td>0.000000</td><td>1.00000000</td><td>0.79129092</td><td>-157.8012</td><td>0.7912909</td></tr>\n",
       "\t<tr><th scope=row>6</th><td>solution_time_mod</td><td>12</td><td>338.8480</td><td>4.513917</td><td>0.10466836</td><td>0.08282312</td><td>-156.7820</td><td>0.8741140</td></tr>\n",
       "\t<tr><th scope=row>7</th><td>max_mod          </td><td>13</td><td>340.1339</td><td>5.799819</td><td>0.05502821</td><td>0.04354332</td><td>-156.3149</td><td>0.9176574</td></tr>\n",
       "\t<tr><th scope=row>1</th><td>null_mod         </td><td> 6</td><td>340.9461</td><td>6.612049</td><td>0.03666164</td><td>0.02901002</td><td>-164.3044</td><td>0.9466674</td></tr>\n",
       "\t<tr><th scope=row>5</th><td>tsm_mod          </td><td> 7</td><td>341.0481</td><td>6.714006</td><td>0.03483952</td><td>0.02756819</td><td>-163.2982</td><td>0.9742356</td></tr>\n",
       "</tbody>\n",
       "</table>\n",
       "</dd>\n",
       "</dl>\n"
      ],
      "text/latex": [
       "\\begin{description}\n",
       "\\item[\\$method] 'raw'\n",
       "\\item[\\$level] 0.95\n",
       "\\item[\\$table] A aictab: 5 × 8\n",
       "\\begin{tabular}{r|llllllll}\n",
       "  & Modnames & K & AICc & Delta\\_AICc & ModelLik & AICcWt & LL & Cum.Wt\\\\\n",
       "  & <chr> & <dbl> & <dbl> & <dbl> & <dbl> & <dbl> & <dbl> & <dbl>\\\\\n",
       "\\hline\n",
       "\t2 & visit\\_mod         &  9 & 334.3341 & 0.000000 & 1.00000000 & 0.79129092 & -157.8012 & 0.7912909\\\\\n",
       "\t6 & solution\\_time\\_mod & 12 & 338.8480 & 4.513917 & 0.10466836 & 0.08282312 & -156.7820 & 0.8741140\\\\\n",
       "\t7 & max\\_mod           & 13 & 340.1339 & 5.799819 & 0.05502821 & 0.04354332 & -156.3149 & 0.9176574\\\\\n",
       "\t1 & null\\_mod          &  6 & 340.9461 & 6.612049 & 0.03666164 & 0.02901002 & -164.3044 & 0.9466674\\\\\n",
       "\t5 & tsm\\_mod           &  7 & 341.0481 & 6.714006 & 0.03483952 & 0.02756819 & -163.2982 & 0.9742356\\\\\n",
       "\\end{tabular}\n",
       "\n",
       "\\end{description}\n"
      ],
      "text/markdown": [
       "$method\n",
       ":   'raw'\n",
       "$level\n",
       ":   0.95\n",
       "$table\n",
       ":   \n",
       "A aictab: 5 × 8\n",
       "\n",
       "| <!--/--> | Modnames &lt;chr&gt; | K &lt;dbl&gt; | AICc &lt;dbl&gt; | Delta_AICc &lt;dbl&gt; | ModelLik &lt;dbl&gt; | AICcWt &lt;dbl&gt; | LL &lt;dbl&gt; | Cum.Wt &lt;dbl&gt; |\n",
       "|---|---|---|---|---|---|---|---|---|\n",
       "| 2 | visit_mod         |  9 | 334.3341 | 0.000000 | 1.00000000 | 0.79129092 | -157.8012 | 0.7912909 |\n",
       "| 6 | solution_time_mod | 12 | 338.8480 | 4.513917 | 0.10466836 | 0.08282312 | -156.7820 | 0.8741140 |\n",
       "| 7 | max_mod           | 13 | 340.1339 | 5.799819 | 0.05502821 | 0.04354332 | -156.3149 | 0.9176574 |\n",
       "| 1 | null_mod          |  6 | 340.9461 | 6.612049 | 0.03666164 | 0.02901002 | -164.3044 | 0.9466674 |\n",
       "| 5 | tsm_mod           |  7 | 341.0481 | 6.714006 | 0.03483952 | 0.02756819 | -163.2982 | 0.9742356 |\n",
       "\n",
       "\n",
       "\n",
       "\n"
      ],
      "text/plain": [
       "\n",
       "Confidence set for the best model\n",
       "\n",
       "Method:\t raw sum of model probabilities\n",
       "\n",
       "95% confidence set:\n",
       "                   K   AICc Delta_AICc AICcWt\n",
       "visit_mod          9 334.33       0.00   0.79\n",
       "solution_time_mod 12 338.85       4.51   0.08\n",
       "max_mod           13 340.13       5.80   0.04\n",
       "null_mod           6 340.95       6.61   0.03\n",
       "tsm_mod            7 341.05       6.71   0.03\n",
       "\n",
       "Model probabilities sum to 0.97 \n"
      ]
     },
     "metadata": {},
     "output_type": "display_data"
    }
   ],
   "source": [
    "confset(cand.set = cand_models) # Remove models that explain the last 0.05 Cum.Wt"
   ]
  },
  {
   "cell_type": "markdown",
   "id": "09b05465",
   "metadata": {},
   "source": [
    "There is no longer a clearly better model!"
   ]
  },
  {
   "cell_type": "code",
   "execution_count": 23,
   "id": "7a07059d",
   "metadata": {
    "scrolled": true,
    "vscode": {
     "languageId": "r"
    }
   },
   "outputs": [
    {
     "name": "stderr",
     "output_type": "stream",
     "text": [
      "Warning message in modavgShrink.AICglmerMod(top_models, parm = \"(Intercept)\"):\n",
      "“\n",
      "Variables do not appear with same frequency across models, proceed with caution\n",
      "”\n"
     ]
    },
    {
     "data": {
      "text/html": [
       "<dl>\n",
       "\t<dt>$Parameter</dt>\n",
       "\t\t<dd>'(Intercept)'</dd>\n",
       "\t<dt>$Mod.avg.table</dt>\n",
       "\t\t<dd><table class=\"dataframe\">\n",
       "<caption>A aictab: 5 × 9</caption>\n",
       "<thead>\n",
       "\t<tr><th scope=col>Modnames</th><th scope=col>K</th><th scope=col>AICc</th><th scope=col>Delta_AICc</th><th scope=col>ModelLik</th><th scope=col>AICcWt</th><th scope=col>LL</th><th scope=col>Beta_est</th><th scope=col>SE</th></tr>\n",
       "\t<tr><th scope=col>&lt;chr&gt;</th><th scope=col>&lt;dbl&gt;</th><th scope=col>&lt;dbl&gt;</th><th scope=col>&lt;dbl&gt;</th><th scope=col>&lt;dbl&gt;</th><th scope=col>&lt;dbl&gt;</th><th scope=col>&lt;dbl&gt;</th><th scope=col>&lt;dbl&gt;</th><th scope=col>&lt;dbl&gt;</th></tr>\n",
       "</thead>\n",
       "<tbody>\n",
       "\t<tr><td>visit_mod        </td><td> 9</td><td>334.3341</td><td>0.000000</td><td>1.00000000</td><td>0.81221723</td><td>-157.8012</td><td> 0.0001520312</td><td>0.2935028</td></tr>\n",
       "\t<tr><td>solution_time_mod</td><td>12</td><td>338.8480</td><td>4.513917</td><td>0.10466836</td><td>0.08501344</td><td>-156.7820</td><td>-0.2068200665</td><td>0.4154231</td></tr>\n",
       "\t<tr><td>max_mod          </td><td>13</td><td>340.1339</td><td>5.799819</td><td>0.05502821</td><td>0.04469486</td><td>-156.3149</td><td>-0.0397060506</td><td>0.4478047</td></tr>\n",
       "\t<tr><td>null_mod         </td><td> 6</td><td>340.9461</td><td>6.612049</td><td>0.03666164</td><td>0.02977722</td><td>-164.3044</td><td> 0.6837093259</td><td>0.1779948</td></tr>\n",
       "\t<tr><td>tsm_mod          </td><td> 7</td><td>341.0481</td><td>6.714006</td><td>0.03483952</td><td>0.02829726</td><td>-163.2982</td><td> 0.4585420247</td><td>0.2341386</td></tr>\n",
       "</tbody>\n",
       "</table>\n",
       "</dd>\n",
       "\t<dt>$Mod.avg.beta</dt>\n",
       "\t\t<dd>0.0141007815102477</dd>\n",
       "\t<dt>$Uncond.SE</dt>\n",
       "\t\t<dd>0.345649617664014</dd>\n",
       "\t<dt>$Conf.level</dt>\n",
       "\t\t<dd>0.95</dd>\n",
       "\t<dt>$Lower.CL</dt>\n",
       "\t\t<dd>-0.663360020381258</dd>\n",
       "\t<dt>$Upper.CL</dt>\n",
       "\t\t<dd>0.691561583401754</dd>\n",
       "</dl>\n"
      ],
      "text/latex": [
       "\\begin{description}\n",
       "\\item[\\$Parameter] '(Intercept)'\n",
       "\\item[\\$Mod.avg.table] A aictab: 5 × 9\n",
       "\\begin{tabular}{lllllllll}\n",
       " Modnames & K & AICc & Delta\\_AICc & ModelLik & AICcWt & LL & Beta\\_est & SE\\\\\n",
       " <chr> & <dbl> & <dbl> & <dbl> & <dbl> & <dbl> & <dbl> & <dbl> & <dbl>\\\\\n",
       "\\hline\n",
       "\t visit\\_mod         &  9 & 334.3341 & 0.000000 & 1.00000000 & 0.81221723 & -157.8012 &  0.0001520312 & 0.2935028\\\\\n",
       "\t solution\\_time\\_mod & 12 & 338.8480 & 4.513917 & 0.10466836 & 0.08501344 & -156.7820 & -0.2068200665 & 0.4154231\\\\\n",
       "\t max\\_mod           & 13 & 340.1339 & 5.799819 & 0.05502821 & 0.04469486 & -156.3149 & -0.0397060506 & 0.4478047\\\\\n",
       "\t null\\_mod          &  6 & 340.9461 & 6.612049 & 0.03666164 & 0.02977722 & -164.3044 &  0.6837093259 & 0.1779948\\\\\n",
       "\t tsm\\_mod           &  7 & 341.0481 & 6.714006 & 0.03483952 & 0.02829726 & -163.2982 &  0.4585420247 & 0.2341386\\\\\n",
       "\\end{tabular}\n",
       "\n",
       "\\item[\\$Mod.avg.beta] 0.0141007815102477\n",
       "\\item[\\$Uncond.SE] 0.345649617664014\n",
       "\\item[\\$Conf.level] 0.95\n",
       "\\item[\\$Lower.CL] -0.663360020381258\n",
       "\\item[\\$Upper.CL] 0.691561583401754\n",
       "\\end{description}\n"
      ],
      "text/markdown": [
       "$Parameter\n",
       ":   '(Intercept)'\n",
       "$Mod.avg.table\n",
       ":   \n",
       "A aictab: 5 × 9\n",
       "\n",
       "| Modnames &lt;chr&gt; | K &lt;dbl&gt; | AICc &lt;dbl&gt; | Delta_AICc &lt;dbl&gt; | ModelLik &lt;dbl&gt; | AICcWt &lt;dbl&gt; | LL &lt;dbl&gt; | Beta_est &lt;dbl&gt; | SE &lt;dbl&gt; |\n",
       "|---|---|---|---|---|---|---|---|---|\n",
       "| visit_mod         |  9 | 334.3341 | 0.000000 | 1.00000000 | 0.81221723 | -157.8012 |  0.0001520312 | 0.2935028 |\n",
       "| solution_time_mod | 12 | 338.8480 | 4.513917 | 0.10466836 | 0.08501344 | -156.7820 | -0.2068200665 | 0.4154231 |\n",
       "| max_mod           | 13 | 340.1339 | 5.799819 | 0.05502821 | 0.04469486 | -156.3149 | -0.0397060506 | 0.4478047 |\n",
       "| null_mod          |  6 | 340.9461 | 6.612049 | 0.03666164 | 0.02977722 | -164.3044 |  0.6837093259 | 0.1779948 |\n",
       "| tsm_mod           |  7 | 341.0481 | 6.714006 | 0.03483952 | 0.02829726 | -163.2982 |  0.4585420247 | 0.2341386 |\n",
       "\n",
       "\n",
       "$Mod.avg.beta\n",
       ":   0.0141007815102477\n",
       "$Uncond.SE\n",
       ":   0.345649617664014\n",
       "$Conf.level\n",
       ":   0.95\n",
       "$Lower.CL\n",
       ":   -0.663360020381258\n",
       "$Upper.CL\n",
       ":   0.691561583401754\n",
       "\n",
       "\n"
      ],
      "text/plain": [
       "\n",
       "Multimodel inference on \"(Intercept)\" based on AICc\n",
       "\n",
       "AICc table used to obtain model-averaged estimate with shrinkage:\n",
       "\n",
       "                   K   AICc Delta_AICc AICcWt Estimate   SE\n",
       "visit_mod          9 334.33       0.00   0.81     0.00 0.29\n",
       "solution_time_mod 12 338.85       4.51   0.09    -0.21 0.42\n",
       "max_mod           13 340.13       5.80   0.04    -0.04 0.45\n",
       "null_mod           6 340.95       6.61   0.03     0.68 0.18\n",
       "tsm_mod            7 341.05       6.71   0.03     0.46 0.23\n",
       "\n",
       "Model-averaged estimate with shrinkage: 0.01 \n",
       "Unconditional SE: 0.35 \n",
       "95% Unconditional confidence interval: -0.66, 0.69\n"
      ]
     },
     "metadata": {},
     "output_type": "display_data"
    },
    {
     "data": {
      "text/html": [
       "<dl>\n",
       "\t<dt>$Parameter</dt>\n",
       "\t\t<dd>'SolutionGABA'</dd>\n",
       "\t<dt>$Mod.avg.table</dt>\n",
       "\t\t<dd><table class=\"dataframe\">\n",
       "<caption>A aictab: 2 × 9</caption>\n",
       "<thead>\n",
       "\t<tr><th scope=col>Modnames</th><th scope=col>K</th><th scope=col>AICc</th><th scope=col>Delta_AICc</th><th scope=col>ModelLik</th><th scope=col>AICcWt</th><th scope=col>LL</th><th scope=col>Beta_est</th><th scope=col>SE</th></tr>\n",
       "\t<tr><th scope=col>&lt;chr&gt;</th><th scope=col>&lt;dbl&gt;</th><th scope=col>&lt;dbl&gt;</th><th scope=col>&lt;dbl&gt;</th><th scope=col>&lt;dbl&gt;</th><th scope=col>&lt;dbl&gt;</th><th scope=col>&lt;dbl&gt;</th><th scope=col>&lt;dbl&gt;</th><th scope=col>&lt;dbl&gt;</th></tr>\n",
       "</thead>\n",
       "<tbody>\n",
       "\t<tr><td>solution_time_mod</td><td>12</td><td>338.8480</td><td>0.000000</td><td>1.0000000</td><td>0.6554202</td><td>-156.7820</td><td>-0.06775820</td><td>0.4736643</td></tr>\n",
       "\t<tr><td>max_mod          </td><td>13</td><td>340.1339</td><td>1.285902</td><td>0.5257387</td><td>0.3445798</td><td>-156.3149</td><td>-0.07333371</td><td>0.4715933</td></tr>\n",
       "</tbody>\n",
       "</table>\n",
       "</dd>\n",
       "\t<dt>$Mod.avg.beta</dt>\n",
       "\t\t<dd>-0.0696794099631531</dd>\n",
       "\t<dt>$Uncond.SE</dt>\n",
       "\t\t<dd>0.472959098251107</dd>\n",
       "\t<dt>$Conf.level</dt>\n",
       "\t\t<dd>0.95</dd>\n",
       "\t<dt>$Lower.CL</dt>\n",
       "\t\t<dd>-0.996662208695863</dd>\n",
       "\t<dt>$Upper.CL</dt>\n",
       "\t\t<dd>0.857303388769557</dd>\n",
       "</dl>\n"
      ],
      "text/latex": [
       "\\begin{description}\n",
       "\\item[\\$Parameter] 'SolutionGABA'\n",
       "\\item[\\$Mod.avg.table] A aictab: 2 × 9\n",
       "\\begin{tabular}{lllllllll}\n",
       " Modnames & K & AICc & Delta\\_AICc & ModelLik & AICcWt & LL & Beta\\_est & SE\\\\\n",
       " <chr> & <dbl> & <dbl> & <dbl> & <dbl> & <dbl> & <dbl> & <dbl> & <dbl>\\\\\n",
       "\\hline\n",
       "\t solution\\_time\\_mod & 12 & 338.8480 & 0.000000 & 1.0000000 & 0.6554202 & -156.7820 & -0.06775820 & 0.4736643\\\\\n",
       "\t max\\_mod           & 13 & 340.1339 & 1.285902 & 0.5257387 & 0.3445798 & -156.3149 & -0.07333371 & 0.4715933\\\\\n",
       "\\end{tabular}\n",
       "\n",
       "\\item[\\$Mod.avg.beta] -0.0696794099631531\n",
       "\\item[\\$Uncond.SE] 0.472959098251107\n",
       "\\item[\\$Conf.level] 0.95\n",
       "\\item[\\$Lower.CL] -0.996662208695863\n",
       "\\item[\\$Upper.CL] 0.857303388769557\n",
       "\\end{description}\n"
      ],
      "text/markdown": [
       "$Parameter\n",
       ":   'SolutionGABA'\n",
       "$Mod.avg.table\n",
       ":   \n",
       "A aictab: 2 × 9\n",
       "\n",
       "| Modnames &lt;chr&gt; | K &lt;dbl&gt; | AICc &lt;dbl&gt; | Delta_AICc &lt;dbl&gt; | ModelLik &lt;dbl&gt; | AICcWt &lt;dbl&gt; | LL &lt;dbl&gt; | Beta_est &lt;dbl&gt; | SE &lt;dbl&gt; |\n",
       "|---|---|---|---|---|---|---|---|---|\n",
       "| solution_time_mod | 12 | 338.8480 | 0.000000 | 1.0000000 | 0.6554202 | -156.7820 | -0.06775820 | 0.4736643 |\n",
       "| max_mod           | 13 | 340.1339 | 1.285902 | 0.5257387 | 0.3445798 | -156.3149 | -0.07333371 | 0.4715933 |\n",
       "\n",
       "\n",
       "$Mod.avg.beta\n",
       ":   -0.0696794099631531\n",
       "$Uncond.SE\n",
       ":   0.472959098251107\n",
       "$Conf.level\n",
       ":   0.95\n",
       "$Lower.CL\n",
       ":   -0.996662208695863\n",
       "$Upper.CL\n",
       ":   0.857303388769557\n",
       "\n",
       "\n"
      ],
      "text/plain": [
       "\n",
       "Multimodel inference on \"SolutionGABA\" based on AICc\n",
       "\n",
       "AICc table used to obtain model-averaged estimate:\n",
       "\n",
       "                   K   AICc Delta_AICc AICcWt Estimate   SE\n",
       "solution_time_mod 12 338.85       0.00   0.66    -0.07 0.47\n",
       "max_mod           13 340.13       1.29   0.34    -0.07 0.47\n",
       "\n",
       "Model-averaged estimate: -0.07 \n",
       "Unconditional SE: 0.47 \n",
       "95% Unconditional confidence interval: -1, 0.86\n"
      ]
     },
     "metadata": {},
     "output_type": "display_data"
    },
    {
     "name": "stderr",
     "output_type": "stream",
     "text": [
      "Warning message in modavgShrink.AICglmerMod(top_models, parm = \"Visit3\"):\n",
      "“\n",
      "Variables do not appear with same frequency across models, proceed with caution\n",
      "”\n"
     ]
    },
    {
     "data": {
      "text/html": [
       "<dl>\n",
       "\t<dt>$Parameter</dt>\n",
       "\t\t<dd>'Visit3'</dd>\n",
       "\t<dt>$Mod.avg.table</dt>\n",
       "\t\t<dd><table class=\"dataframe\">\n",
       "<caption>A aictab: 5 × 9</caption>\n",
       "<thead>\n",
       "\t<tr><th scope=col>Modnames</th><th scope=col>K</th><th scope=col>AICc</th><th scope=col>Delta_AICc</th><th scope=col>ModelLik</th><th scope=col>AICcWt</th><th scope=col>LL</th><th scope=col>Beta_est</th><th scope=col>SE</th></tr>\n",
       "\t<tr><th scope=col>&lt;chr&gt;</th><th scope=col>&lt;dbl&gt;</th><th scope=col>&lt;dbl&gt;</th><th scope=col>&lt;dbl&gt;</th><th scope=col>&lt;dbl&gt;</th><th scope=col>&lt;dbl&gt;</th><th scope=col>&lt;dbl&gt;</th><th scope=col>&lt;dbl&gt;</th><th scope=col>&lt;dbl&gt;</th></tr>\n",
       "</thead>\n",
       "<tbody>\n",
       "\t<tr><td>visit_mod        </td><td> 9</td><td>334.3341</td><td>0.000000</td><td>1.00000000</td><td>0.81221723</td><td>-157.8012</td><td>0.5139246</td><td>0.3856717</td></tr>\n",
       "\t<tr><td>solution_time_mod</td><td>12</td><td>338.8480</td><td>4.513917</td><td>0.10466836</td><td>0.08501344</td><td>-156.7820</td><td>0.5126262</td><td>0.3852054</td></tr>\n",
       "\t<tr><td>max_mod          </td><td>13</td><td>340.1339</td><td>5.799819</td><td>0.05502821</td><td>0.04469486</td><td>-156.3149</td><td>0.5132053</td><td>0.3854584</td></tr>\n",
       "\t<tr><td>null_mod         </td><td> 6</td><td>340.9461</td><td>6.612049</td><td>0.03666164</td><td>0.02977722</td><td>-164.3044</td><td>0.0000000</td><td>0.0000000</td></tr>\n",
       "\t<tr><td>tsm_mod          </td><td> 7</td><td>341.0481</td><td>6.714006</td><td>0.03483952</td><td>0.02829726</td><td>-163.2982</td><td>0.0000000</td><td>0.0000000</td></tr>\n",
       "</tbody>\n",
       "</table>\n",
       "</dd>\n",
       "\t<dt>$Mod.avg.beta</dt>\n",
       "\t\t<dd>0.483936139851345</dd>\n",
       "\t<dt>$Uncond.SE</dt>\n",
       "\t\t<dd>0.393072479928975</dd>\n",
       "\t<dt>$Conf.level</dt>\n",
       "\t\t<dd>0.95</dd>\n",
       "\t<dt>$Lower.CL</dt>\n",
       "\t\t<dd>-0.286471764123289</dd>\n",
       "\t<dt>$Upper.CL</dt>\n",
       "\t\t<dd>1.25434404382598</dd>\n",
       "</dl>\n"
      ],
      "text/latex": [
       "\\begin{description}\n",
       "\\item[\\$Parameter] 'Visit3'\n",
       "\\item[\\$Mod.avg.table] A aictab: 5 × 9\n",
       "\\begin{tabular}{lllllllll}\n",
       " Modnames & K & AICc & Delta\\_AICc & ModelLik & AICcWt & LL & Beta\\_est & SE\\\\\n",
       " <chr> & <dbl> & <dbl> & <dbl> & <dbl> & <dbl> & <dbl> & <dbl> & <dbl>\\\\\n",
       "\\hline\n",
       "\t visit\\_mod         &  9 & 334.3341 & 0.000000 & 1.00000000 & 0.81221723 & -157.8012 & 0.5139246 & 0.3856717\\\\\n",
       "\t solution\\_time\\_mod & 12 & 338.8480 & 4.513917 & 0.10466836 & 0.08501344 & -156.7820 & 0.5126262 & 0.3852054\\\\\n",
       "\t max\\_mod           & 13 & 340.1339 & 5.799819 & 0.05502821 & 0.04469486 & -156.3149 & 0.5132053 & 0.3854584\\\\\n",
       "\t null\\_mod          &  6 & 340.9461 & 6.612049 & 0.03666164 & 0.02977722 & -164.3044 & 0.0000000 & 0.0000000\\\\\n",
       "\t tsm\\_mod           &  7 & 341.0481 & 6.714006 & 0.03483952 & 0.02829726 & -163.2982 & 0.0000000 & 0.0000000\\\\\n",
       "\\end{tabular}\n",
       "\n",
       "\\item[\\$Mod.avg.beta] 0.483936139851345\n",
       "\\item[\\$Uncond.SE] 0.393072479928975\n",
       "\\item[\\$Conf.level] 0.95\n",
       "\\item[\\$Lower.CL] -0.286471764123289\n",
       "\\item[\\$Upper.CL] 1.25434404382598\n",
       "\\end{description}\n"
      ],
      "text/markdown": [
       "$Parameter\n",
       ":   'Visit3'\n",
       "$Mod.avg.table\n",
       ":   \n",
       "A aictab: 5 × 9\n",
       "\n",
       "| Modnames &lt;chr&gt; | K &lt;dbl&gt; | AICc &lt;dbl&gt; | Delta_AICc &lt;dbl&gt; | ModelLik &lt;dbl&gt; | AICcWt &lt;dbl&gt; | LL &lt;dbl&gt; | Beta_est &lt;dbl&gt; | SE &lt;dbl&gt; |\n",
       "|---|---|---|---|---|---|---|---|---|\n",
       "| visit_mod         |  9 | 334.3341 | 0.000000 | 1.00000000 | 0.81221723 | -157.8012 | 0.5139246 | 0.3856717 |\n",
       "| solution_time_mod | 12 | 338.8480 | 4.513917 | 0.10466836 | 0.08501344 | -156.7820 | 0.5126262 | 0.3852054 |\n",
       "| max_mod           | 13 | 340.1339 | 5.799819 | 0.05502821 | 0.04469486 | -156.3149 | 0.5132053 | 0.3854584 |\n",
       "| null_mod          |  6 | 340.9461 | 6.612049 | 0.03666164 | 0.02977722 | -164.3044 | 0.0000000 | 0.0000000 |\n",
       "| tsm_mod           |  7 | 341.0481 | 6.714006 | 0.03483952 | 0.02829726 | -163.2982 | 0.0000000 | 0.0000000 |\n",
       "\n",
       "\n",
       "$Mod.avg.beta\n",
       ":   0.483936139851345\n",
       "$Uncond.SE\n",
       ":   0.393072479928975\n",
       "$Conf.level\n",
       ":   0.95\n",
       "$Lower.CL\n",
       ":   -0.286471764123289\n",
       "$Upper.CL\n",
       ":   1.25434404382598\n",
       "\n",
       "\n"
      ],
      "text/plain": [
       "\n",
       "Multimodel inference on \"Visit3\" based on AICc\n",
       "\n",
       "AICc table used to obtain model-averaged estimate with shrinkage:\n",
       "\n",
       "                   K   AICc Delta_AICc AICcWt Estimate   SE\n",
       "visit_mod          9 334.33       0.00   0.81     0.51 0.39\n",
       "solution_time_mod 12 338.85       4.51   0.09     0.51 0.39\n",
       "max_mod           13 340.13       5.80   0.04     0.51 0.39\n",
       "null_mod           6 340.95       6.61   0.03     0.00 0.00\n",
       "tsm_mod            7 341.05       6.71   0.03     0.00 0.00\n",
       "\n",
       "Model-averaged estimate with shrinkage: 0.48 \n",
       "Unconditional SE: 0.39 \n",
       "95% Unconditional confidence interval: -0.29, 1.25\n"
      ]
     },
     "metadata": {},
     "output_type": "display_data"
    },
    {
     "name": "stderr",
     "output_type": "stream",
     "text": [
      "Warning message in modavgShrink.AICglmerMod(top_models, parm = \"Visit4\"):\n",
      "“\n",
      "Variables do not appear with same frequency across models, proceed with caution\n",
      "”\n"
     ]
    },
    {
     "data": {
      "text/html": [
       "<dl>\n",
       "\t<dt>$Parameter</dt>\n",
       "\t\t<dd>'Visit4'</dd>\n",
       "\t<dt>$Mod.avg.table</dt>\n",
       "\t\t<dd><table class=\"dataframe\">\n",
       "<caption>A aictab: 5 × 9</caption>\n",
       "<thead>\n",
       "\t<tr><th scope=col>Modnames</th><th scope=col>K</th><th scope=col>AICc</th><th scope=col>Delta_AICc</th><th scope=col>ModelLik</th><th scope=col>AICcWt</th><th scope=col>LL</th><th scope=col>Beta_est</th><th scope=col>SE</th></tr>\n",
       "\t<tr><th scope=col>&lt;chr&gt;</th><th scope=col>&lt;dbl&gt;</th><th scope=col>&lt;dbl&gt;</th><th scope=col>&lt;dbl&gt;</th><th scope=col>&lt;dbl&gt;</th><th scope=col>&lt;dbl&gt;</th><th scope=col>&lt;dbl&gt;</th><th scope=col>&lt;dbl&gt;</th><th scope=col>&lt;dbl&gt;</th></tr>\n",
       "</thead>\n",
       "<tbody>\n",
       "\t<tr><td>visit_mod        </td><td> 9</td><td>334.3341</td><td>0.000000</td><td>1.00000000</td><td>0.81221723</td><td>-157.8012</td><td>1.164164</td><td>0.4099172</td></tr>\n",
       "\t<tr><td>solution_time_mod</td><td>12</td><td>338.8480</td><td>4.513917</td><td>0.10466836</td><td>0.08501344</td><td>-156.7820</td><td>1.162392</td><td>0.4096570</td></tr>\n",
       "\t<tr><td>max_mod          </td><td>13</td><td>340.1339</td><td>5.799819</td><td>0.05502821</td><td>0.04469486</td><td>-156.3149</td><td>1.163613</td><td>0.4099384</td></tr>\n",
       "\t<tr><td>null_mod         </td><td> 6</td><td>340.9461</td><td>6.612049</td><td>0.03666164</td><td>0.02977722</td><td>-164.3044</td><td>0.000000</td><td>0.0000000</td></tr>\n",
       "\t<tr><td>tsm_mod          </td><td> 7</td><td>341.0481</td><td>6.714006</td><td>0.03483952</td><td>0.02829726</td><td>-163.2982</td><td>0.000000</td><td>0.0000000</td></tr>\n",
       "</tbody>\n",
       "</table>\n",
       "</dd>\n",
       "\t<dt>$Mod.avg.beta</dt>\n",
       "\t\t<dd>1.09638011896642</dd>\n",
       "\t<dt>$Uncond.SE</dt>\n",
       "\t\t<dd>0.482046698084809</dd>\n",
       "\t<dt>$Conf.level</dt>\n",
       "\t\t<dd>0.95</dd>\n",
       "\t<dt>$Lower.CL</dt>\n",
       "\t\t<dd>0.151585951853745</dd>\n",
       "\t<dt>$Upper.CL</dt>\n",
       "\t\t<dd>2.0411742860791</dd>\n",
       "</dl>\n"
      ],
      "text/latex": [
       "\\begin{description}\n",
       "\\item[\\$Parameter] 'Visit4'\n",
       "\\item[\\$Mod.avg.table] A aictab: 5 × 9\n",
       "\\begin{tabular}{lllllllll}\n",
       " Modnames & K & AICc & Delta\\_AICc & ModelLik & AICcWt & LL & Beta\\_est & SE\\\\\n",
       " <chr> & <dbl> & <dbl> & <dbl> & <dbl> & <dbl> & <dbl> & <dbl> & <dbl>\\\\\n",
       "\\hline\n",
       "\t visit\\_mod         &  9 & 334.3341 & 0.000000 & 1.00000000 & 0.81221723 & -157.8012 & 1.164164 & 0.4099172\\\\\n",
       "\t solution\\_time\\_mod & 12 & 338.8480 & 4.513917 & 0.10466836 & 0.08501344 & -156.7820 & 1.162392 & 0.4096570\\\\\n",
       "\t max\\_mod           & 13 & 340.1339 & 5.799819 & 0.05502821 & 0.04469486 & -156.3149 & 1.163613 & 0.4099384\\\\\n",
       "\t null\\_mod          &  6 & 340.9461 & 6.612049 & 0.03666164 & 0.02977722 & -164.3044 & 0.000000 & 0.0000000\\\\\n",
       "\t tsm\\_mod           &  7 & 341.0481 & 6.714006 & 0.03483952 & 0.02829726 & -163.2982 & 0.000000 & 0.0000000\\\\\n",
       "\\end{tabular}\n",
       "\n",
       "\\item[\\$Mod.avg.beta] 1.09638011896642\n",
       "\\item[\\$Uncond.SE] 0.482046698084809\n",
       "\\item[\\$Conf.level] 0.95\n",
       "\\item[\\$Lower.CL] 0.151585951853745\n",
       "\\item[\\$Upper.CL] 2.0411742860791\n",
       "\\end{description}\n"
      ],
      "text/markdown": [
       "$Parameter\n",
       ":   'Visit4'\n",
       "$Mod.avg.table\n",
       ":   \n",
       "A aictab: 5 × 9\n",
       "\n",
       "| Modnames &lt;chr&gt; | K &lt;dbl&gt; | AICc &lt;dbl&gt; | Delta_AICc &lt;dbl&gt; | ModelLik &lt;dbl&gt; | AICcWt &lt;dbl&gt; | LL &lt;dbl&gt; | Beta_est &lt;dbl&gt; | SE &lt;dbl&gt; |\n",
       "|---|---|---|---|---|---|---|---|---|\n",
       "| visit_mod         |  9 | 334.3341 | 0.000000 | 1.00000000 | 0.81221723 | -157.8012 | 1.164164 | 0.4099172 |\n",
       "| solution_time_mod | 12 | 338.8480 | 4.513917 | 0.10466836 | 0.08501344 | -156.7820 | 1.162392 | 0.4096570 |\n",
       "| max_mod           | 13 | 340.1339 | 5.799819 | 0.05502821 | 0.04469486 | -156.3149 | 1.163613 | 0.4099384 |\n",
       "| null_mod          |  6 | 340.9461 | 6.612049 | 0.03666164 | 0.02977722 | -164.3044 | 0.000000 | 0.0000000 |\n",
       "| tsm_mod           |  7 | 341.0481 | 6.714006 | 0.03483952 | 0.02829726 | -163.2982 | 0.000000 | 0.0000000 |\n",
       "\n",
       "\n",
       "$Mod.avg.beta\n",
       ":   1.09638011896642\n",
       "$Uncond.SE\n",
       ":   0.482046698084809\n",
       "$Conf.level\n",
       ":   0.95\n",
       "$Lower.CL\n",
       ":   0.151585951853745\n",
       "$Upper.CL\n",
       ":   2.0411742860791\n",
       "\n",
       "\n"
      ],
      "text/plain": [
       "\n",
       "Multimodel inference on \"Visit4\" based on AICc\n",
       "\n",
       "AICc table used to obtain model-averaged estimate with shrinkage:\n",
       "\n",
       "                   K   AICc Delta_AICc AICcWt Estimate   SE\n",
       "visit_mod          9 334.33       0.00   0.81     1.16 0.41\n",
       "solution_time_mod 12 338.85       4.51   0.09     1.16 0.41\n",
       "max_mod           13 340.13       5.80   0.04     1.16 0.41\n",
       "null_mod           6 340.95       6.61   0.03     0.00 0.00\n",
       "tsm_mod            7 341.05       6.71   0.03     0.00 0.00\n",
       "\n",
       "Model-averaged estimate with shrinkage: 1.1 \n",
       "Unconditional SE: 0.48 \n",
       "95% Unconditional confidence interval: 0.15, 2.04\n"
      ]
     },
     "metadata": {},
     "output_type": "display_data"
    },
    {
     "name": "stderr",
     "output_type": "stream",
     "text": [
      "Warning message in modavgShrink.AICglmerMod(top_models, parm = \"Visit5\"):\n",
      "“\n",
      "Variables do not appear with same frequency across models, proceed with caution\n",
      "”\n"
     ]
    },
    {
     "data": {
      "text/html": [
       "<dl>\n",
       "\t<dt>$Parameter</dt>\n",
       "\t\t<dd>'Visit5'</dd>\n",
       "\t<dt>$Mod.avg.table</dt>\n",
       "\t\t<dd><table class=\"dataframe\">\n",
       "<caption>A aictab: 5 × 9</caption>\n",
       "<thead>\n",
       "\t<tr><th scope=col>Modnames</th><th scope=col>K</th><th scope=col>AICc</th><th scope=col>Delta_AICc</th><th scope=col>ModelLik</th><th scope=col>AICcWt</th><th scope=col>LL</th><th scope=col>Beta_est</th><th scope=col>SE</th></tr>\n",
       "\t<tr><th scope=col>&lt;chr&gt;</th><th scope=col>&lt;dbl&gt;</th><th scope=col>&lt;dbl&gt;</th><th scope=col>&lt;dbl&gt;</th><th scope=col>&lt;dbl&gt;</th><th scope=col>&lt;dbl&gt;</th><th scope=col>&lt;dbl&gt;</th><th scope=col>&lt;dbl&gt;</th><th scope=col>&lt;dbl&gt;</th></tr>\n",
       "</thead>\n",
       "<tbody>\n",
       "\t<tr><td>visit_mod        </td><td> 9</td><td>334.3341</td><td>0.000000</td><td>1.00000000</td><td>0.81221723</td><td>-157.8012</td><td>1.255479</td><td>0.4148953</td></tr>\n",
       "\t<tr><td>solution_time_mod</td><td>12</td><td>338.8480</td><td>4.513917</td><td>0.10466836</td><td>0.08501344</td><td>-156.7820</td><td>1.253767</td><td>0.4146811</td></tr>\n",
       "\t<tr><td>max_mod          </td><td>13</td><td>340.1339</td><td>5.799819</td><td>0.05502821</td><td>0.04469486</td><td>-156.3149</td><td>1.255067</td><td>0.4149632</td></tr>\n",
       "\t<tr><td>null_mod         </td><td> 6</td><td>340.9461</td><td>6.612049</td><td>0.03666164</td><td>0.02977722</td><td>-164.3044</td><td>0.000000</td><td>0.0000000</td></tr>\n",
       "\t<tr><td>tsm_mod          </td><td> 7</td><td>341.0481</td><td>6.714006</td><td>0.03483952</td><td>0.02829726</td><td>-163.2982</td><td>0.000000</td><td>0.0000000</td></tr>\n",
       "</tbody>\n",
       "</table>\n",
       "</dd>\n",
       "\t<dt>$Mod.avg.beta</dt>\n",
       "\t\t<dd>1.18240392853649</dd>\n",
       "\t<dt>$Uncond.SE</dt>\n",
       "\t\t<dd>0.498324732766925</dd>\n",
       "\t<dt>$Conf.level</dt>\n",
       "\t\t<dd>0.95</dd>\n",
       "\t<dt>$Lower.CL</dt>\n",
       "\t\t<dd>0.205705399707774</dd>\n",
       "\t<dt>$Upper.CL</dt>\n",
       "\t\t<dd>2.15910245736522</dd>\n",
       "</dl>\n"
      ],
      "text/latex": [
       "\\begin{description}\n",
       "\\item[\\$Parameter] 'Visit5'\n",
       "\\item[\\$Mod.avg.table] A aictab: 5 × 9\n",
       "\\begin{tabular}{lllllllll}\n",
       " Modnames & K & AICc & Delta\\_AICc & ModelLik & AICcWt & LL & Beta\\_est & SE\\\\\n",
       " <chr> & <dbl> & <dbl> & <dbl> & <dbl> & <dbl> & <dbl> & <dbl> & <dbl>\\\\\n",
       "\\hline\n",
       "\t visit\\_mod         &  9 & 334.3341 & 0.000000 & 1.00000000 & 0.81221723 & -157.8012 & 1.255479 & 0.4148953\\\\\n",
       "\t solution\\_time\\_mod & 12 & 338.8480 & 4.513917 & 0.10466836 & 0.08501344 & -156.7820 & 1.253767 & 0.4146811\\\\\n",
       "\t max\\_mod           & 13 & 340.1339 & 5.799819 & 0.05502821 & 0.04469486 & -156.3149 & 1.255067 & 0.4149632\\\\\n",
       "\t null\\_mod          &  6 & 340.9461 & 6.612049 & 0.03666164 & 0.02977722 & -164.3044 & 0.000000 & 0.0000000\\\\\n",
       "\t tsm\\_mod           &  7 & 341.0481 & 6.714006 & 0.03483952 & 0.02829726 & -163.2982 & 0.000000 & 0.0000000\\\\\n",
       "\\end{tabular}\n",
       "\n",
       "\\item[\\$Mod.avg.beta] 1.18240392853649\n",
       "\\item[\\$Uncond.SE] 0.498324732766925\n",
       "\\item[\\$Conf.level] 0.95\n",
       "\\item[\\$Lower.CL] 0.205705399707774\n",
       "\\item[\\$Upper.CL] 2.15910245736522\n",
       "\\end{description}\n"
      ],
      "text/markdown": [
       "$Parameter\n",
       ":   'Visit5'\n",
       "$Mod.avg.table\n",
       ":   \n",
       "A aictab: 5 × 9\n",
       "\n",
       "| Modnames &lt;chr&gt; | K &lt;dbl&gt; | AICc &lt;dbl&gt; | Delta_AICc &lt;dbl&gt; | ModelLik &lt;dbl&gt; | AICcWt &lt;dbl&gt; | LL &lt;dbl&gt; | Beta_est &lt;dbl&gt; | SE &lt;dbl&gt; |\n",
       "|---|---|---|---|---|---|---|---|---|\n",
       "| visit_mod         |  9 | 334.3341 | 0.000000 | 1.00000000 | 0.81221723 | -157.8012 | 1.255479 | 0.4148953 |\n",
       "| solution_time_mod | 12 | 338.8480 | 4.513917 | 0.10466836 | 0.08501344 | -156.7820 | 1.253767 | 0.4146811 |\n",
       "| max_mod           | 13 | 340.1339 | 5.799819 | 0.05502821 | 0.04469486 | -156.3149 | 1.255067 | 0.4149632 |\n",
       "| null_mod          |  6 | 340.9461 | 6.612049 | 0.03666164 | 0.02977722 | -164.3044 | 0.000000 | 0.0000000 |\n",
       "| tsm_mod           |  7 | 341.0481 | 6.714006 | 0.03483952 | 0.02829726 | -163.2982 | 0.000000 | 0.0000000 |\n",
       "\n",
       "\n",
       "$Mod.avg.beta\n",
       ":   1.18240392853649\n",
       "$Uncond.SE\n",
       ":   0.498324732766925\n",
       "$Conf.level\n",
       ":   0.95\n",
       "$Lower.CL\n",
       ":   0.205705399707774\n",
       "$Upper.CL\n",
       ":   2.15910245736522\n",
       "\n",
       "\n"
      ],
      "text/plain": [
       "\n",
       "Multimodel inference on \"Visit5\" based on AICc\n",
       "\n",
       "AICc table used to obtain model-averaged estimate with shrinkage:\n",
       "\n",
       "                   K   AICc Delta_AICc AICcWt Estimate   SE\n",
       "visit_mod          9 334.33       0.00   0.81     1.26 0.41\n",
       "solution_time_mod 12 338.85       4.51   0.09     1.25 0.41\n",
       "max_mod           13 340.13       5.80   0.04     1.26 0.41\n",
       "null_mod           6 340.95       6.61   0.03     0.00 0.00\n",
       "tsm_mod            7 341.05       6.71   0.03     0.00 0.00\n",
       "\n",
       "Model-averaged estimate with shrinkage: 1.18 \n",
       "Unconditional SE: 0.5 \n",
       "95% Unconditional confidence interval: 0.21, 2.16\n"
      ]
     },
     "metadata": {},
     "output_type": "display_data"
    },
    {
     "data": {
      "text/html": [
       "<dl>\n",
       "\t<dt>$Parameter</dt>\n",
       "\t\t<dd>'TSM_Bin31-60'</dd>\n",
       "\t<dt>$Mod.avg.table</dt>\n",
       "\t\t<dd><table class=\"dataframe\">\n",
       "<caption>A aictab: 3 × 9</caption>\n",
       "<thead>\n",
       "\t<tr><th scope=col>Modnames</th><th scope=col>K</th><th scope=col>AICc</th><th scope=col>Delta_AICc</th><th scope=col>ModelLik</th><th scope=col>AICcWt</th><th scope=col>LL</th><th scope=col>Beta_est</th><th scope=col>SE</th></tr>\n",
       "\t<tr><th scope=col>&lt;chr&gt;</th><th scope=col>&lt;dbl&gt;</th><th scope=col>&lt;dbl&gt;</th><th scope=col>&lt;dbl&gt;</th><th scope=col>&lt;dbl&gt;</th><th scope=col>&lt;dbl&gt;</th><th scope=col>&lt;dbl&gt;</th><th scope=col>&lt;dbl&gt;</th><th scope=col>&lt;dbl&gt;</th></tr>\n",
       "</thead>\n",
       "<tbody>\n",
       "\t<tr><td>solution_time_mod</td><td>12</td><td>338.8480</td><td>0.000000</td><td>1.0000000</td><td>0.5380408</td><td>-156.7820</td><td>0.4199914</td><td>0.4836260</td></tr>\n",
       "\t<tr><td>max_mod          </td><td>13</td><td>340.1339</td><td>1.285902</td><td>0.5257387</td><td>0.2828689</td><td>-156.3149</td><td>0.4194257</td><td>0.4822894</td></tr>\n",
       "\t<tr><td>tsm_mod          </td><td> 7</td><td>341.0481</td><td>2.200089</td><td>0.3328563</td><td>0.1790903</td><td>-163.2982</td><td>0.4547632</td><td>0.3189086</td></tr>\n",
       "</tbody>\n",
       "</table>\n",
       "</dd>\n",
       "\t<dt>$Mod.avg.beta</dt>\n",
       "\t\t<dd>0.426058695816881</dd>\n",
       "\t<dt>$Uncond.SE</dt>\n",
       "\t\t<dd>0.458295205107463</dd>\n",
       "\t<dt>$Conf.level</dt>\n",
       "\t\t<dd>0.95</dd>\n",
       "\t<dt>$Lower.CL</dt>\n",
       "\t\t<dd>-0.472183400481143</dd>\n",
       "\t<dt>$Upper.CL</dt>\n",
       "\t\t<dd>1.3243007921149</dd>\n",
       "</dl>\n"
      ],
      "text/latex": [
       "\\begin{description}\n",
       "\\item[\\$Parameter] 'TSM\\_Bin31-60'\n",
       "\\item[\\$Mod.avg.table] A aictab: 3 × 9\n",
       "\\begin{tabular}{lllllllll}\n",
       " Modnames & K & AICc & Delta\\_AICc & ModelLik & AICcWt & LL & Beta\\_est & SE\\\\\n",
       " <chr> & <dbl> & <dbl> & <dbl> & <dbl> & <dbl> & <dbl> & <dbl> & <dbl>\\\\\n",
       "\\hline\n",
       "\t solution\\_time\\_mod & 12 & 338.8480 & 0.000000 & 1.0000000 & 0.5380408 & -156.7820 & 0.4199914 & 0.4836260\\\\\n",
       "\t max\\_mod           & 13 & 340.1339 & 1.285902 & 0.5257387 & 0.2828689 & -156.3149 & 0.4194257 & 0.4822894\\\\\n",
       "\t tsm\\_mod           &  7 & 341.0481 & 2.200089 & 0.3328563 & 0.1790903 & -163.2982 & 0.4547632 & 0.3189086\\\\\n",
       "\\end{tabular}\n",
       "\n",
       "\\item[\\$Mod.avg.beta] 0.426058695816881\n",
       "\\item[\\$Uncond.SE] 0.458295205107463\n",
       "\\item[\\$Conf.level] 0.95\n",
       "\\item[\\$Lower.CL] -0.472183400481143\n",
       "\\item[\\$Upper.CL] 1.3243007921149\n",
       "\\end{description}\n"
      ],
      "text/markdown": [
       "$Parameter\n",
       ":   'TSM_Bin31-60'\n",
       "$Mod.avg.table\n",
       ":   \n",
       "A aictab: 3 × 9\n",
       "\n",
       "| Modnames &lt;chr&gt; | K &lt;dbl&gt; | AICc &lt;dbl&gt; | Delta_AICc &lt;dbl&gt; | ModelLik &lt;dbl&gt; | AICcWt &lt;dbl&gt; | LL &lt;dbl&gt; | Beta_est &lt;dbl&gt; | SE &lt;dbl&gt; |\n",
       "|---|---|---|---|---|---|---|---|---|\n",
       "| solution_time_mod | 12 | 338.8480 | 0.000000 | 1.0000000 | 0.5380408 | -156.7820 | 0.4199914 | 0.4836260 |\n",
       "| max_mod           | 13 | 340.1339 | 1.285902 | 0.5257387 | 0.2828689 | -156.3149 | 0.4194257 | 0.4822894 |\n",
       "| tsm_mod           |  7 | 341.0481 | 2.200089 | 0.3328563 | 0.1790903 | -163.2982 | 0.4547632 | 0.3189086 |\n",
       "\n",
       "\n",
       "$Mod.avg.beta\n",
       ":   0.426058695816881\n",
       "$Uncond.SE\n",
       ":   0.458295205107463\n",
       "$Conf.level\n",
       ":   0.95\n",
       "$Lower.CL\n",
       ":   -0.472183400481143\n",
       "$Upper.CL\n",
       ":   1.3243007921149\n",
       "\n",
       "\n"
      ],
      "text/plain": [
       "\n",
       "Multimodel inference on \"TSM_Bin31-60\" based on AICc\n",
       "\n",
       "AICc table used to obtain model-averaged estimate:\n",
       "\n",
       "                   K   AICc Delta_AICc AICcWt Estimate   SE\n",
       "solution_time_mod 12 338.85       0.00   0.54     0.42 0.48\n",
       "max_mod           13 340.13       1.29   0.28     0.42 0.48\n",
       "tsm_mod            7 341.05       2.20   0.18     0.45 0.32\n",
       "\n",
       "Model-averaged estimate: 0.43 \n",
       "Unconditional SE: 0.46 \n",
       "95% Unconditional confidence interval: -0.47, 1.32\n"
      ]
     },
     "metadata": {},
     "output_type": "display_data"
    },
    {
     "name": "stderr",
     "output_type": "stream",
     "text": [
      "Warning message in modavgShrink.AICglmerMod(top_models, parm = \"Reward_SideR\"):\n",
      "“\n",
      "Variables do not appear with same frequency across models, proceed with caution\n",
      "”\n"
     ]
    },
    {
     "data": {
      "text/html": [
       "<dl>\n",
       "\t<dt>$Parameter</dt>\n",
       "\t\t<dd>'Reward_SideR'</dd>\n",
       "\t<dt>$Mod.avg.table</dt>\n",
       "\t\t<dd><table class=\"dataframe\">\n",
       "<caption>A aictab: 5 × 9</caption>\n",
       "<thead>\n",
       "\t<tr><th scope=col>Modnames</th><th scope=col>K</th><th scope=col>AICc</th><th scope=col>Delta_AICc</th><th scope=col>ModelLik</th><th scope=col>AICcWt</th><th scope=col>LL</th><th scope=col>Beta_est</th><th scope=col>SE</th></tr>\n",
       "\t<tr><th scope=col>&lt;chr&gt;</th><th scope=col>&lt;dbl&gt;</th><th scope=col>&lt;dbl&gt;</th><th scope=col>&lt;dbl&gt;</th><th scope=col>&lt;dbl&gt;</th><th scope=col>&lt;dbl&gt;</th><th scope=col>&lt;dbl&gt;</th><th scope=col>&lt;dbl&gt;</th><th scope=col>&lt;dbl&gt;</th></tr>\n",
       "</thead>\n",
       "<tbody>\n",
       "\t<tr><td>visit_mod        </td><td> 9</td><td>334.3341</td><td>0.000000</td><td>1.00000000</td><td>0.81221723</td><td>-157.8012</td><td> 0.0000000</td><td>0.0000000</td></tr>\n",
       "\t<tr><td>solution_time_mod</td><td>12</td><td>338.8480</td><td>4.513917</td><td>0.10466836</td><td>0.08501344</td><td>-156.7820</td><td> 0.0000000</td><td>0.0000000</td></tr>\n",
       "\t<tr><td>max_mod          </td><td>13</td><td>340.1339</td><td>5.799819</td><td>0.05502821</td><td>0.04469486</td><td>-156.3149</td><td>-0.3289908</td><td>0.3408652</td></tr>\n",
       "\t<tr><td>null_mod         </td><td> 6</td><td>340.9461</td><td>6.612049</td><td>0.03666164</td><td>0.02977722</td><td>-164.3044</td><td> 0.0000000</td><td>0.0000000</td></tr>\n",
       "\t<tr><td>tsm_mod          </td><td> 7</td><td>341.0481</td><td>6.714006</td><td>0.03483952</td><td>0.02829726</td><td>-163.2982</td><td> 0.0000000</td><td>0.0000000</td></tr>\n",
       "</tbody>\n",
       "</table>\n",
       "</dd>\n",
       "\t<dt>$Mod.avg.beta</dt>\n",
       "\t\t<dd>-0.0147041969469142</dd>\n",
       "\t<dt>$Uncond.SE</dt>\n",
       "\t\t<dd>0.099067591654921</dd>\n",
       "\t<dt>$Conf.level</dt>\n",
       "\t\t<dd>0.95</dd>\n",
       "\t<dt>$Lower.CL</dt>\n",
       "\t\t<dd>-0.20887310862568</dd>\n",
       "\t<dt>$Upper.CL</dt>\n",
       "\t\t<dd>0.179464714731852</dd>\n",
       "</dl>\n"
      ],
      "text/latex": [
       "\\begin{description}\n",
       "\\item[\\$Parameter] 'Reward\\_SideR'\n",
       "\\item[\\$Mod.avg.table] A aictab: 5 × 9\n",
       "\\begin{tabular}{lllllllll}\n",
       " Modnames & K & AICc & Delta\\_AICc & ModelLik & AICcWt & LL & Beta\\_est & SE\\\\\n",
       " <chr> & <dbl> & <dbl> & <dbl> & <dbl> & <dbl> & <dbl> & <dbl> & <dbl>\\\\\n",
       "\\hline\n",
       "\t visit\\_mod         &  9 & 334.3341 & 0.000000 & 1.00000000 & 0.81221723 & -157.8012 &  0.0000000 & 0.0000000\\\\\n",
       "\t solution\\_time\\_mod & 12 & 338.8480 & 4.513917 & 0.10466836 & 0.08501344 & -156.7820 &  0.0000000 & 0.0000000\\\\\n",
       "\t max\\_mod           & 13 & 340.1339 & 5.799819 & 0.05502821 & 0.04469486 & -156.3149 & -0.3289908 & 0.3408652\\\\\n",
       "\t null\\_mod          &  6 & 340.9461 & 6.612049 & 0.03666164 & 0.02977722 & -164.3044 &  0.0000000 & 0.0000000\\\\\n",
       "\t tsm\\_mod           &  7 & 341.0481 & 6.714006 & 0.03483952 & 0.02829726 & -163.2982 &  0.0000000 & 0.0000000\\\\\n",
       "\\end{tabular}\n",
       "\n",
       "\\item[\\$Mod.avg.beta] -0.0147041969469142\n",
       "\\item[\\$Uncond.SE] 0.099067591654921\n",
       "\\item[\\$Conf.level] 0.95\n",
       "\\item[\\$Lower.CL] -0.20887310862568\n",
       "\\item[\\$Upper.CL] 0.179464714731852\n",
       "\\end{description}\n"
      ],
      "text/markdown": [
       "$Parameter\n",
       ":   'Reward_SideR'\n",
       "$Mod.avg.table\n",
       ":   \n",
       "A aictab: 5 × 9\n",
       "\n",
       "| Modnames &lt;chr&gt; | K &lt;dbl&gt; | AICc &lt;dbl&gt; | Delta_AICc &lt;dbl&gt; | ModelLik &lt;dbl&gt; | AICcWt &lt;dbl&gt; | LL &lt;dbl&gt; | Beta_est &lt;dbl&gt; | SE &lt;dbl&gt; |\n",
       "|---|---|---|---|---|---|---|---|---|\n",
       "| visit_mod         |  9 | 334.3341 | 0.000000 | 1.00000000 | 0.81221723 | -157.8012 |  0.0000000 | 0.0000000 |\n",
       "| solution_time_mod | 12 | 338.8480 | 4.513917 | 0.10466836 | 0.08501344 | -156.7820 |  0.0000000 | 0.0000000 |\n",
       "| max_mod           | 13 | 340.1339 | 5.799819 | 0.05502821 | 0.04469486 | -156.3149 | -0.3289908 | 0.3408652 |\n",
       "| null_mod          |  6 | 340.9461 | 6.612049 | 0.03666164 | 0.02977722 | -164.3044 |  0.0000000 | 0.0000000 |\n",
       "| tsm_mod           |  7 | 341.0481 | 6.714006 | 0.03483952 | 0.02829726 | -163.2982 |  0.0000000 | 0.0000000 |\n",
       "\n",
       "\n",
       "$Mod.avg.beta\n",
       ":   -0.0147041969469142\n",
       "$Uncond.SE\n",
       ":   0.099067591654921\n",
       "$Conf.level\n",
       ":   0.95\n",
       "$Lower.CL\n",
       ":   -0.20887310862568\n",
       "$Upper.CL\n",
       ":   0.179464714731852\n",
       "\n",
       "\n"
      ],
      "text/plain": [
       "\n",
       "Multimodel inference on \"Reward_SideR\" based on AICc\n",
       "\n",
       "AICc table used to obtain model-averaged estimate with shrinkage:\n",
       "\n",
       "                   K   AICc Delta_AICc AICcWt Estimate   SE\n",
       "visit_mod          9 334.33       0.00   0.81     0.00 0.00\n",
       "solution_time_mod 12 338.85       4.51   0.09     0.00 0.00\n",
       "max_mod           13 340.13       5.80   0.04    -0.33 0.34\n",
       "null_mod           6 340.95       6.61   0.03     0.00 0.00\n",
       "tsm_mod            7 341.05       6.71   0.03     0.00 0.00\n",
       "\n",
       "Model-averaged estimate with shrinkage: -0.01 \n",
       "Unconditional SE: 0.1 \n",
       "95% Unconditional confidence interval: -0.21, 0.18\n"
      ]
     },
     "metadata": {},
     "output_type": "display_data"
    },
    {
     "name": "stderr",
     "output_type": "stream",
     "text": [
      "Warning message in modavgShrink.AICglmerMod(top_models, parm = \"SolutionGABA:TSM_Bin31-60\"):\n",
      "“\n",
      "Variables do not appear with same frequency across models, proceed with caution\n",
      "”\n"
     ]
    },
    {
     "data": {
      "text/html": [
       "<dl>\n",
       "\t<dt>$Parameter</dt>\n",
       "\t\t<dd>'SolutionGABA:TSM_Bin31-60'</dd>\n",
       "\t<dt>$Mod.avg.table</dt>\n",
       "\t\t<dd><table class=\"dataframe\">\n",
       "<caption>A aictab: 5 × 9</caption>\n",
       "<thead>\n",
       "\t<tr><th scope=col>Modnames</th><th scope=col>K</th><th scope=col>AICc</th><th scope=col>Delta_AICc</th><th scope=col>ModelLik</th><th scope=col>AICcWt</th><th scope=col>LL</th><th scope=col>Beta_est</th><th scope=col>SE</th></tr>\n",
       "\t<tr><th scope=col>&lt;chr&gt;</th><th scope=col>&lt;dbl&gt;</th><th scope=col>&lt;dbl&gt;</th><th scope=col>&lt;dbl&gt;</th><th scope=col>&lt;dbl&gt;</th><th scope=col>&lt;dbl&gt;</th><th scope=col>&lt;dbl&gt;</th><th scope=col>&lt;dbl&gt;</th><th scope=col>&lt;dbl&gt;</th></tr>\n",
       "</thead>\n",
       "<tbody>\n",
       "\t<tr><td>visit_mod        </td><td> 9</td><td>334.3341</td><td>0.000000</td><td>1.00000000</td><td>0.81221723</td><td>-157.8012</td><td>0.0000000</td><td>0.0000000</td></tr>\n",
       "\t<tr><td>solution_time_mod</td><td>12</td><td>338.8480</td><td>4.513917</td><td>0.10466836</td><td>0.08501344</td><td>-156.7820</td><td>0.1343106</td><td>0.6819107</td></tr>\n",
       "\t<tr><td>max_mod          </td><td>13</td><td>340.1339</td><td>5.799819</td><td>0.05502821</td><td>0.04469486</td><td>-156.3149</td><td>0.1402379</td><td>0.6795088</td></tr>\n",
       "\t<tr><td>null_mod         </td><td> 6</td><td>340.9461</td><td>6.612049</td><td>0.03666164</td><td>0.02977722</td><td>-164.3044</td><td>0.0000000</td><td>0.0000000</td></tr>\n",
       "\t<tr><td>tsm_mod          </td><td> 7</td><td>341.0481</td><td>6.714006</td><td>0.03483952</td><td>0.02829726</td><td>-163.2982</td><td>0.0000000</td><td>0.0000000</td></tr>\n",
       "</tbody>\n",
       "</table>\n",
       "</dd>\n",
       "\t<dt>$Mod.avg.beta</dt>\n",
       "\t\t<dd>0.0176861157461869</dd>\n",
       "\t<dt>$Uncond.SE</dt>\n",
       "\t\t<dd>0.249536128677412</dd>\n",
       "\t<dt>$Conf.level</dt>\n",
       "\t\t<dd>0.95</dd>\n",
       "\t<dt>$Lower.CL</dt>\n",
       "\t\t<dd>-0.471395709303093</dd>\n",
       "\t<dt>$Upper.CL</dt>\n",
       "\t\t<dd>0.506767940795466</dd>\n",
       "</dl>\n"
      ],
      "text/latex": [
       "\\begin{description}\n",
       "\\item[\\$Parameter] 'SolutionGABA:TSM\\_Bin31-60'\n",
       "\\item[\\$Mod.avg.table] A aictab: 5 × 9\n",
       "\\begin{tabular}{lllllllll}\n",
       " Modnames & K & AICc & Delta\\_AICc & ModelLik & AICcWt & LL & Beta\\_est & SE\\\\\n",
       " <chr> & <dbl> & <dbl> & <dbl> & <dbl> & <dbl> & <dbl> & <dbl> & <dbl>\\\\\n",
       "\\hline\n",
       "\t visit\\_mod         &  9 & 334.3341 & 0.000000 & 1.00000000 & 0.81221723 & -157.8012 & 0.0000000 & 0.0000000\\\\\n",
       "\t solution\\_time\\_mod & 12 & 338.8480 & 4.513917 & 0.10466836 & 0.08501344 & -156.7820 & 0.1343106 & 0.6819107\\\\\n",
       "\t max\\_mod           & 13 & 340.1339 & 5.799819 & 0.05502821 & 0.04469486 & -156.3149 & 0.1402379 & 0.6795088\\\\\n",
       "\t null\\_mod          &  6 & 340.9461 & 6.612049 & 0.03666164 & 0.02977722 & -164.3044 & 0.0000000 & 0.0000000\\\\\n",
       "\t tsm\\_mod           &  7 & 341.0481 & 6.714006 & 0.03483952 & 0.02829726 & -163.2982 & 0.0000000 & 0.0000000\\\\\n",
       "\\end{tabular}\n",
       "\n",
       "\\item[\\$Mod.avg.beta] 0.0176861157461869\n",
       "\\item[\\$Uncond.SE] 0.249536128677412\n",
       "\\item[\\$Conf.level] 0.95\n",
       "\\item[\\$Lower.CL] -0.471395709303093\n",
       "\\item[\\$Upper.CL] 0.506767940795466\n",
       "\\end{description}\n"
      ],
      "text/markdown": [
       "$Parameter\n",
       ":   'SolutionGABA:TSM_Bin31-60'\n",
       "$Mod.avg.table\n",
       ":   \n",
       "A aictab: 5 × 9\n",
       "\n",
       "| Modnames &lt;chr&gt; | K &lt;dbl&gt; | AICc &lt;dbl&gt; | Delta_AICc &lt;dbl&gt; | ModelLik &lt;dbl&gt; | AICcWt &lt;dbl&gt; | LL &lt;dbl&gt; | Beta_est &lt;dbl&gt; | SE &lt;dbl&gt; |\n",
       "|---|---|---|---|---|---|---|---|---|\n",
       "| visit_mod         |  9 | 334.3341 | 0.000000 | 1.00000000 | 0.81221723 | -157.8012 | 0.0000000 | 0.0000000 |\n",
       "| solution_time_mod | 12 | 338.8480 | 4.513917 | 0.10466836 | 0.08501344 | -156.7820 | 0.1343106 | 0.6819107 |\n",
       "| max_mod           | 13 | 340.1339 | 5.799819 | 0.05502821 | 0.04469486 | -156.3149 | 0.1402379 | 0.6795088 |\n",
       "| null_mod          |  6 | 340.9461 | 6.612049 | 0.03666164 | 0.02977722 | -164.3044 | 0.0000000 | 0.0000000 |\n",
       "| tsm_mod           |  7 | 341.0481 | 6.714006 | 0.03483952 | 0.02829726 | -163.2982 | 0.0000000 | 0.0000000 |\n",
       "\n",
       "\n",
       "$Mod.avg.beta\n",
       ":   0.0176861157461869\n",
       "$Uncond.SE\n",
       ":   0.249536128677412\n",
       "$Conf.level\n",
       ":   0.95\n",
       "$Lower.CL\n",
       ":   -0.471395709303093\n",
       "$Upper.CL\n",
       ":   0.506767940795466\n",
       "\n",
       "\n"
      ],
      "text/plain": [
       "\n",
       "Multimodel inference on \"SolutionGABA:TSM_Bin31-60\" based on AICc\n",
       "\n",
       "AICc table used to obtain model-averaged estimate with shrinkage:\n",
       "\n",
       "                   K   AICc Delta_AICc AICcWt Estimate   SE\n",
       "visit_mod          9 334.33       0.00   0.81     0.00 0.00\n",
       "solution_time_mod 12 338.85       4.51   0.09     0.13 0.68\n",
       "max_mod           13 340.13       5.80   0.04     0.14 0.68\n",
       "null_mod           6 340.95       6.61   0.03     0.00 0.00\n",
       "tsm_mod            7 341.05       6.71   0.03     0.00 0.00\n",
       "\n",
       "Model-averaged estimate with shrinkage: 0.02 \n",
       "Unconditional SE: 0.25 \n",
       "95% Unconditional confidence interval: -0.47, 0.51\n"
      ]
     },
     "metadata": {},
     "output_type": "display_data"
    }
   ],
   "source": [
    "top_models = list(\"visit_mod\" = visit_mod, \n",
    "                   \"solution_time_mod\" = solution_time_mod,\n",
    "                   \"max_mod\" = max_mod,\n",
    "                   \"null_mod\" = null_mod,\n",
    "                   \"tsm_mod\" = tsm_mod)\n",
    "\n",
    "modavgShrink(top_models, parm = \"(Intercept)\")\n",
    "modavg(top_models, parm = \"SolutionGABA\", exclude = \"SolutionGABA:TSM_Bin31-60\")\n",
    "modavgShrink(top_models, parm = \"Visit3\")\n",
    "modavgShrink(top_models, parm = \"Visit4\")\n",
    "modavgShrink(top_models, parm = \"Visit5\")\n",
    "modavg(top_models, parm = \"TSM_Bin31-60\", exclude = \"SolutionGABA:TSM_Bin31-60\")\n",
    "modavgShrink(top_models, parm = \"Reward_SideR\")\n",
    "modavgShrink(top_models, parm = \"SolutionGABA:TSM_Bin31-60\")"
   ]
  },
  {
   "cell_type": "markdown",
   "id": "d5e9703d",
   "metadata": {},
   "source": [
    "## Odds\n",
    "**If the odds is 1 there is no effect, therefore if the CI's cross 1 that is not a significant parameter**\n",
    "\n",
    "**Intercept** = 1.0 [0.5, 2.0] -> **Ants choose an arm of the Y-maze randomly at Visit 2!**\n",
    "\n",
    "**Solution** = 0.93 [0.4, 2.4] -> There is no effect of Solution!\n",
    "\n",
    "**Visit 3** = 1.6 [0.8, 3.5] -> There is no effect of Visit 3!\n",
    "\n",
    "**Visit 4** = 3.0 [1.2, 7.7] -> **Ants at Visit 4 do not choose randomly and have an increased likelihood of choosing the reward side!**\n",
    "\n",
    "**Visit 5** = 3.3 [1.2, 8.7] -> **Ants at Visit 4 do not choose randomly and have an increased likelihood of choosing the reward side!**\n",
    "\n",
    "**Side** = 1.0 [0.8, 1.2] -> There is no effect of Side!\n",
    "\n",
    "**TSM** = 1.5 [0.6, 3.8] -> There is no effect of Time Since Marking!\n",
    "\n",
    "**SolutionxTSM** = 1.0 [0.6, 1.7] -> There is no effect of the interaction of Solution with Time Since Marking!"
   ]
  },
  {
   "cell_type": "markdown",
   "id": "21713eb6",
   "metadata": {},
   "source": [
    "## Conclusions\n",
    "- Ants randomly choose a Y-maze side at Visit 2 and 3 but the odds of choosing the reward side on Visit 4 and 5 increase significantly suggesting the ants are able to associate the reward with a side.\n",
    "- There is no effect of Time Since Marking on final choice.\n",
    "- There is no efect of GABA on final choice.\n",
    "- There is no side bias.\n",
    "- There is no interaction effect of Solution with Time Since Marking."
   ]
  }
 ],
 "metadata": {
  "kernelspec": {
   "display_name": "R",
   "language": "R",
   "name": "ir"
  },
  "language_info": {
   "codemirror_mode": "r",
   "file_extension": ".r",
   "mimetype": "text/x-r-source",
   "name": "R",
   "pygments_lexer": "r",
   "version": "4.2.1"
  }
 },
 "nbformat": 4,
 "nbformat_minor": 5
}
