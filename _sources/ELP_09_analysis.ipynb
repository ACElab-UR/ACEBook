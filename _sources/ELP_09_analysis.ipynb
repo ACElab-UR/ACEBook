{
 "cells": [
  {
   "cell_type": "markdown",
   "id": "65701d60",
   "metadata": {},
   "source": [
    "# ELP.09 - Octopamine Side Learning Y-Maze\n",
    "<hr style=\"border:2px solid gray\"> </hr>\n",
    "\n",
    "**Author:** Henrique Galante | henrique.galante@ur.de\n",
    "\n",
    "**Last Updated:** April 2022\n",
    "\n",
    "This supplement provides the entire R script and output of the statistical analysis performed and figures produced, in their original form. It is presented in the spirit of open and transparent science, but has not been carefully curated."
   ]
  },
  {
   "cell_type": "markdown",
   "id": "b566d21e",
   "metadata": {},
   "source": [
    "## Data handling\n",
    "<hr style=\"border:0.5px solid gray\"> </hr>\n",
    "\n",
    "### Load packages"
   ]
  },
  {
   "cell_type": "code",
   "execution_count": 1,
   "id": "61940a4e",
   "metadata": {
    "scrolled": false
   },
   "outputs": [
    {
     "name": "stderr",
     "output_type": "stream",
     "text": [
      "Loading required package: reshape2\n",
      "\n",
      "Loading required package: lme4\n",
      "\n",
      "Loading required package: Matrix\n",
      "\n",
      "Loading required package: DHARMa\n",
      "\n",
      "Warning message:\n",
      "“package ‘DHARMa’ was built under R version 4.1.2”\n",
      "This is DHARMa 0.4.5. For overview type '?DHARMa'. For recent changes, type news(package = 'DHARMa')\n",
      "\n",
      "Loading required package: car\n",
      "\n",
      "Loading required package: carData\n",
      "\n",
      "Warning message:\n",
      "“package ‘carData’ was built under R version 4.1.2”\n",
      "Loading required package: emmeans\n",
      "\n",
      "Warning message:\n",
      "“package ‘emmeans’ was built under R version 4.1.2”\n"
     ]
    }
   ],
   "source": [
    "require(reshape2) # For data handling\n",
    "require(lme4) # Linear mixed-effects models\n",
    "require(DHARMa) # Evaluate model fit\n",
    "require(car) # Anova() function [instead of base R anova()]\n",
    "require(emmeans) # Post-hoc analysis on the model"
   ]
  },
  {
   "cell_type": "markdown",
   "id": "d9bd92b9",
   "metadata": {},
   "source": [
    "### Clean-up"
   ]
  },
  {
   "cell_type": "code",
   "execution_count": 2,
   "id": "b8ebda2d",
   "metadata": {},
   "outputs": [],
   "source": [
    "rm(list = ls()) # Remove variables/objects\n",
    "graphics.off() # Close any open graphics"
   ]
  },
  {
   "cell_type": "markdown",
   "id": "c52516d9",
   "metadata": {},
   "source": [
    "### Load data"
   ]
  },
  {
   "cell_type": "code",
   "execution_count": 3,
   "id": "e07d31a0",
   "metadata": {
    "scrolled": false
   },
   "outputs": [
    {
     "data": {
      "text/html": [
       "<table class=\"dataframe\">\n",
       "<caption>A data.frame: 1 × 23</caption>\n",
       "<thead>\n",
       "\t<tr><th></th><th scope=col>Collection_Date</th><th scope=col>Time_Collection</th><th scope=col>Experimentor</th><th scope=col>Temperature</th><th scope=col>Colony_Origin</th><th scope=col>Starvation_Period</th><th scope=col>Donor_Colony</th><th scope=col>Recipient_Colony</th><th scope=col>Ant_ID</th><th scope=col>Visit</th><th scope=col>⋯</th><th scope=col>Initial_Decision</th><th scope=col>Final_Decision</th><th scope=col>Number_Relocations</th><th scope=col>In_Duration</th><th scope=col>Drinking_Duration</th><th scope=col>Out_Duration</th><th scope=col>Bridge_Nest_Duration</th><th scope=col>Total_Duration_Minutes</th><th scope=col>Trophallaxis</th><th scope=col>Full</th></tr>\n",
       "\t<tr><th></th><th scope=col>&lt;chr&gt;</th><th scope=col>&lt;chr&gt;</th><th scope=col>&lt;chr&gt;</th><th scope=col>&lt;chr&gt;</th><th scope=col>&lt;chr&gt;</th><th scope=col>&lt;chr&gt;</th><th scope=col>&lt;int&gt;</th><th scope=col>&lt;int&gt;</th><th scope=col>&lt;int&gt;</th><th scope=col>&lt;int&gt;</th><th scope=col>⋯</th><th scope=col>&lt;chr&gt;</th><th scope=col>&lt;chr&gt;</th><th scope=col>&lt;int&gt;</th><th scope=col>&lt;int&gt;</th><th scope=col>&lt;int&gt;</th><th scope=col>&lt;int&gt;</th><th scope=col>&lt;int&gt;</th><th scope=col>&lt;chr&gt;</th><th scope=col>&lt;chr&gt;</th><th scope=col>&lt;chr&gt;</th></tr>\n",
       "</thead>\n",
       "<tbody>\n",
       "\t<tr><th scope=row>1</th><td>04.04.22</td><td>11:20</td><td>Laura Neubauer</td><td>24,9</td><td>5th November - Spain / 9th April - Spain</td><td>4-days</td><td>32</td><td>7</td><td>1</td><td>2</td><td>⋯</td><td>L</td><td>L</td><td>0</td><td>19</td><td>56</td><td>17</td><td>482</td><td>9,6</td><td>Yes</td><td>No</td></tr>\n",
       "</tbody>\n",
       "</table>\n"
      ],
      "text/latex": [
       "A data.frame: 1 × 23\n",
       "\\begin{tabular}{r|lllllllllllllllllllll}\n",
       "  & Collection\\_Date & Time\\_Collection & Experimentor & Temperature & Colony\\_Origin & Starvation\\_Period & Donor\\_Colony & Recipient\\_Colony & Ant\\_ID & Visit & ⋯ & Initial\\_Decision & Final\\_Decision & Number\\_Relocations & In\\_Duration & Drinking\\_Duration & Out\\_Duration & Bridge\\_Nest\\_Duration & Total\\_Duration\\_Minutes & Trophallaxis & Full\\\\\n",
       "  & <chr> & <chr> & <chr> & <chr> & <chr> & <chr> & <int> & <int> & <int> & <int> & ⋯ & <chr> & <chr> & <int> & <int> & <int> & <int> & <int> & <chr> & <chr> & <chr>\\\\\n",
       "\\hline\n",
       "\t1 & 04.04.22 & 11:20 & Laura Neubauer & 24,9 & 5th November - Spain / 9th April - Spain & 4-days & 32 & 7 & 1 & 2 & ⋯ & L & L & 0 & 19 & 56 & 17 & 482 & 9,6 & Yes & No\\\\\n",
       "\\end{tabular}\n"
      ],
      "text/markdown": [
       "\n",
       "A data.frame: 1 × 23\n",
       "\n",
       "| <!--/--> | Collection_Date &lt;chr&gt; | Time_Collection &lt;chr&gt; | Experimentor &lt;chr&gt; | Temperature &lt;chr&gt; | Colony_Origin &lt;chr&gt; | Starvation_Period &lt;chr&gt; | Donor_Colony &lt;int&gt; | Recipient_Colony &lt;int&gt; | Ant_ID &lt;int&gt; | Visit &lt;int&gt; | ⋯ ⋯ | Initial_Decision &lt;chr&gt; | Final_Decision &lt;chr&gt; | Number_Relocations &lt;int&gt; | In_Duration &lt;int&gt; | Drinking_Duration &lt;int&gt; | Out_Duration &lt;int&gt; | Bridge_Nest_Duration &lt;int&gt; | Total_Duration_Minutes &lt;chr&gt; | Trophallaxis &lt;chr&gt; | Full &lt;chr&gt; |\n",
       "|---|---|---|---|---|---|---|---|---|---|---|---|---|---|---|---|---|---|---|---|---|---|\n",
       "| 1 | 04.04.22 | 11:20 | Laura Neubauer | 24,9 | 5th November - Spain / 9th April - Spain | 4-days | 32 | 7 | 1 | 2 | ⋯ | L | L | 0 | 19 | 56 | 17 | 482 | 9,6 | Yes | No |\n",
       "\n"
      ],
      "text/plain": [
       "  Collection_Date Time_Collection Experimentor   Temperature\n",
       "1 04.04.22        11:20           Laura Neubauer 24,9       \n",
       "  Colony_Origin                            Starvation_Period Donor_Colony\n",
       "1 5th November - Spain / 9th April - Spain 4-days            32          \n",
       "  Recipient_Colony Ant_ID Visit ⋯ Initial_Decision Final_Decision\n",
       "1 7                1      2     ⋯ L                L             \n",
       "  Number_Relocations In_Duration Drinking_Duration Out_Duration\n",
       "1 0                  19          56                17          \n",
       "  Bridge_Nest_Duration Total_Duration_Minutes Trophallaxis Full\n",
       "1 482                  9,6                    Yes          No  "
      ]
     },
     "metadata": {},
     "output_type": "display_data"
    }
   ],
   "source": [
    "ELP_09 = read.csv(\"./Data/ELP_09_octopamine_side_learning_Y_maze.csv\", header = TRUE, stringsAsFactors = FALSE, sep = \";\")\n",
    "head(ELP_09, n = 1) # Check if data was imported correctly"
   ]
  },
  {
   "cell_type": "markdown",
   "id": "42fc4ac0",
   "metadata": {},
   "source": [
    "### Column descriptions\n",
    "\n",
    "| Column Name            | Description |\n",
    "| ---:                   | :---        |\n",
    "| **Collection_Date**        | Testing date       |\n",
    "| **Time_Collection**        | Starting time of data collection        |\n",
    "| **Experimentor**           | Name of the person collecting the data       |\n",
    "| **Temperature**            | Room temperature at start of data collection        |\n",
    "| **Colony_Origin**          | Country of origin and time of arrival to the lab of the colonies used       |\n",
    "| **Starvation_Period**      | How long were the ants deprived of food for        |\n",
    "| **Donor_Colony**           | ID of the colony where the ant originated from (naive colony)       |\n",
    "| **Recipient_Colony**       | ID of the colony the ant was placed in (non-naive colony)        |\n",
    "| **Ant_ID**                 | ID of the ant used       |\n",
    "| **Visit**                  | Visit number        |\n",
    "| **Solution**               | Which solution was each ant tested with       |\n",
    "| **Reward_Side**            | In which side of the Y-maze was the solution placed        |\n",
    "| **Time_Since_Marking**     | How long was the ant in the nest for between marking (visit 1) and visit 2       |\n",
    "| **Initial_Decision**       | Which side of the Y-maze the ant first crossed a 2cm line        |\n",
    "| **Final_Decision**         | Which side of the Y-maze the ant first touched the solution drop       |\n",
    "| **Number_Relocations**     | How many times was the ant relocated during a visit due to escaping or falling on water        |\n",
    "| **In_Duration**            | How long in seconds did the ant take to reach the drop of solution       |\n",
    "| **Drinking_Duration**      | How long in seconds did the ant take feeding on the drop of solution        |\n",
    "| **Out_Duration**           | How long in seconds did the ant take to return to the bridge       |\n",
    "| **Bridge_Nest_Duration**   | How long in seconds did the ant take to return to the colony       |\n",
    "| **Total_Duration_Minutes** | How long in minutes did the ant take in the whole trip       |\n",
    "| **Trophallaxis**           | Was the ant seen doing trophallaxis after returning to the colony from the visit        |\n",
    "| **Full**                   | Was the ant visibly full (expanded gaster) at the beggining of the visit       | "
   ]
  },
  {
   "cell_type": "markdown",
   "id": "0364d171",
   "metadata": {},
   "source": [
    "### Unblind the solutions"
   ]
  },
  {
   "cell_type": "code",
   "execution_count": 4,
   "id": "156d75a8",
   "metadata": {},
   "outputs": [],
   "source": [
    "ELP_09$Solution = ifelse(ELP_09$Solution == \"B\", \"0.01mM Octopamine\", \"Control\")"
   ]
  },
  {
   "cell_type": "markdown",
   "id": "3f38e99b",
   "metadata": {},
   "source": [
    "### Get a binary (right/wrong) initial and final decision and check how many ants switched between their initial and final decision"
   ]
  },
  {
   "cell_type": "code",
   "execution_count": 6,
   "id": "d01edaaa",
   "metadata": {},
   "outputs": [
    {
     "data": {
      "text/html": [
       "'Ants switched their final decision in 3% of the visits!'"
      ],
      "text/latex": [
       "'Ants switched their final decision in 3\\% of the visits!'"
      ],
      "text/markdown": [
       "'Ants switched their final decision in 3% of the visits!'"
      ],
      "text/plain": [
       "[1] \"Ants switched their final decision in 3% of the visits!\""
      ]
     },
     "metadata": {},
     "output_type": "display_data"
    }
   ],
   "source": [
    "ELP_09$Initial_Decision_Binary = ifelse(ELP_09$Initial_Decision == ELP_09$Reward_Side, 1, 0)\n",
    "ELP_09$Final_Decision_Binary = ifelse(ELP_09$Final_Decision == ELP_09$Reward_Side, 1, 0)\n",
    "ELP_09$Switched_Decision_Binary = ifelse(ELP_09$Initial_Decision_Binary == ELP_09$Final_Decision_Binary, 0, 1)\n",
    "paste0(\"Ants switched their final decision in \", round(sum(ELP_09$Switched_Decision_Binary) / nrow(ELP_09) * 100, 0), \"% of the visits!\")"
   ]
  },
  {
   "cell_type": "markdown",
   "id": "b482d886",
   "metadata": {},
   "source": [
    "### Sample size per solution per side"
   ]
  },
  {
   "cell_type": "code",
   "execution_count": 7,
   "id": "14bff7dc",
   "metadata": {},
   "outputs": [
    {
     "data": {
      "text/plain": [
       "                   \n",
       "                     L  R\n",
       "  0.01mM Octopamine 16 16\n",
       "  Control           16 16"
      ]
     },
     "metadata": {},
     "output_type": "display_data"
    }
   ],
   "source": [
    "table(ELP_09$Solution, ELP_09$Reward_Side) / 4"
   ]
  },
  {
   "cell_type": "markdown",
   "id": "ec6b38ca",
   "metadata": {},
   "source": [
    "### Ensure that the Bridge_Nest_Duration for visit 2 is the same as the time since marking for visit 2"
   ]
  },
  {
   "cell_type": "code",
   "execution_count": 8,
   "id": "de5a8750",
   "metadata": {},
   "outputs": [
    {
     "name": "stdout",
     "output_type": "stream",
     "text": [
      "[1] \"Warning: Row 177 was changed from 12s to 3540s!\"\n"
     ]
    }
   ],
   "source": [
    "for (i in 1:nrow(ELP_09)) {\n",
    "  if (ELP_09$Visit[i] == \"2\" & !is.na(ELP_09$Bridge_Nest_Duration[i])) {\n",
    "    if (ELP_09$Bridge_Nest_Duration[i] != ELP_09$Time_Since_Marking[i]) {\n",
    "      print(paste0(\"Warning: Row \", i, \" was changed from \", ELP_09$Bridge_Nest_Duration[i], \"s to \", ELP_09$Time_Since_Marking[i], \"s!\"))\n",
    "      ELP_09$Bridge_Nest_Duration[i] = ELP_09$Time_Since_Marking[i]\n",
    "    }\n",
    "  }\n",
    "  else if (ELP_09$Visit[i] == \"2\" & is.na(ELP_09$Bridge_Nest_Duration[i])) {\n",
    "    ELP_09$Bridge_Nest_Duration[i] = ELP_09$Time_Since_Marking[i]\n",
    "    print(paste0(\"Warning: Row \", i, \" was changed and Bridge_Nest_Duration was NA!\"))\n",
    "  }\n",
    "}"
   ]
  },
  {
   "cell_type": "markdown",
   "id": "c47aad3b",
   "metadata": {},
   "source": [
    "### Create time intervals to group replicates based on time since marking"
   ]
  },
  {
   "cell_type": "code",
   "execution_count": 11,
   "id": "e8006437",
   "metadata": {},
   "outputs": [],
   "source": [
    "for (i in 1:nrow(ELP_09)) {\n",
    "  if (ELP_09$Time_Since_Marking[i] <= 1800) {\n",
    "    ELP_09$TSM_Bin[i] = \"0-30\"\n",
    "  }\n",
    "  else if (ELP_09$Time_Since_Marking[i] > 1800 & ELP_09$Time_Since_Marking[i] <= 3600) {\n",
    "    ELP_09$TSM_Bin[i] = \"30-60\"\n",
    "  }\n",
    "  else {\n",
    "    print(\"Warning: Undefined bins!\")\n",
    "  }\n",
    "}"
   ]
  },
  {
   "cell_type": "markdown",
   "id": "239bf7d7",
   "metadata": {},
   "source": [
    "### Sample size per solution per time bin and per side"
   ]
  },
  {
   "cell_type": "code",
   "execution_count": 12,
   "id": "35062160",
   "metadata": {
    "scrolled": true
   },
   "outputs": [
    {
     "data": {
      "text/plain": [
       ", ,  = L\n",
       "\n",
       "                   \n",
       "                    0-30 30-60\n",
       "  0.01mM Octopamine    8     8\n",
       "  Control              8     8\n",
       "\n",
       ", ,  = R\n",
       "\n",
       "                   \n",
       "                    0-30 30-60\n",
       "  0.01mM Octopamine    8     8\n",
       "  Control              8     8\n"
      ]
     },
     "metadata": {},
     "output_type": "display_data"
    }
   ],
   "source": [
    "table(ELP_09$Solution, ELP_09$TSM_Bin, ELP_09$Reward_Side) / 4"
   ]
  },
  {
   "cell_type": "markdown",
   "id": "7bcfbd99",
   "metadata": {},
   "source": [
    "### Ensure relevant columns are factors"
   ]
  },
  {
   "cell_type": "code",
   "execution_count": 13,
   "id": "1ddb9f84",
   "metadata": {},
   "outputs": [],
   "source": [
    "ELP_09$Collection_Date = as.factor(ELP_09$Collection_Date)\n",
    "ELP_09$Time_Collection = as.factor(ELP_09$Time_Collection)\n",
    "ELP_09$Experimentor = as.factor(ELP_09$Experimentor)\n",
    "ELP_09$Starvation_Period = as.factor(ELP_09$Starvation_Period)\n",
    "ELP_09$Donor_Colony = as.factor(ELP_09$Donor_Colony)\n",
    "ELP_09$Recipient_Colony = as.factor(ELP_09$Recipient_Colony)\n",
    "\n",
    "ELP_09$Visit = as.factor(ELP_09$Visit)\n",
    "ELP_09$Solution = as.factor(ELP_09$Solution)\n",
    "ELP_09$Solution = relevel(ELP_09$Solution, \"Control\")\n",
    "ELP_09$Reward_Side = as.factor(ELP_09$Reward_Side)\n",
    "ELP_09$TSM_Bin = as.factor(ELP_09$TSM_Bin)\n",
    "\n",
    "ELP_09$Initial_Decision_Binary = as.factor(ELP_09$Initial_Decision_Binary)\n",
    "ELP_09$Final_Decision_Binary = as.factor(ELP_09$Final_Decision_Binary)"
   ]
  },
  {
   "cell_type": "markdown",
   "id": "06bf41b2",
   "metadata": {},
   "source": [
    "## Data analysis\n",
    "<hr style=\"border:0.5px solid gray\"> </hr>\n",
    "\n",
    "### Preliminary question\n",
    "#### Do initial and final choices differ significantly?"
   ]
  },
  {
   "cell_type": "code",
   "execution_count": 14,
   "id": "6aca244d",
   "metadata": {},
   "outputs": [
    {
     "data": {
      "text/html": [
       "<table class=\"dataframe\">\n",
       "<caption>A data.frame: 1 × 27</caption>\n",
       "<thead>\n",
       "\t<tr><th></th><th scope=col>Collection_Date</th><th scope=col>Time_Collection</th><th scope=col>Experimentor</th><th scope=col>Temperature</th><th scope=col>Colony_Origin</th><th scope=col>Starvation_Period</th><th scope=col>Donor_Colony</th><th scope=col>Recipient_Colony</th><th scope=col>Ant_ID</th><th scope=col>Visit</th><th scope=col>⋯</th><th scope=col>Drinking_Duration</th><th scope=col>Out_Duration</th><th scope=col>Bridge_Nest_Duration</th><th scope=col>Total_Duration_Minutes</th><th scope=col>Trophallaxis</th><th scope=col>Full</th><th scope=col>Switched_Decision_Binary</th><th scope=col>TSM_Bin</th><th scope=col>variable</th><th scope=col>value</th></tr>\n",
       "\t<tr><th></th><th scope=col>&lt;fct&gt;</th><th scope=col>&lt;fct&gt;</th><th scope=col>&lt;fct&gt;</th><th scope=col>&lt;chr&gt;</th><th scope=col>&lt;chr&gt;</th><th scope=col>&lt;fct&gt;</th><th scope=col>&lt;fct&gt;</th><th scope=col>&lt;fct&gt;</th><th scope=col>&lt;int&gt;</th><th scope=col>&lt;fct&gt;</th><th scope=col>⋯</th><th scope=col>&lt;int&gt;</th><th scope=col>&lt;int&gt;</th><th scope=col>&lt;int&gt;</th><th scope=col>&lt;chr&gt;</th><th scope=col>&lt;chr&gt;</th><th scope=col>&lt;chr&gt;</th><th scope=col>&lt;dbl&gt;</th><th scope=col>&lt;fct&gt;</th><th scope=col>&lt;fct&gt;</th><th scope=col>&lt;fct&gt;</th></tr>\n",
       "</thead>\n",
       "<tbody>\n",
       "\t<tr><th scope=row>1</th><td>04.04.22</td><td>11:20</td><td>Laura Neubauer</td><td>24,9</td><td>5th November - Spain / 9th April - Spain</td><td>4-days</td><td>32</td><td>7</td><td>1</td><td>2</td><td>⋯</td><td>56</td><td>17</td><td>482</td><td>9,6</td><td>Yes</td><td>No</td><td>0</td><td>0-30</td><td>Initial_Decision_Binary</td><td>1</td></tr>\n",
       "</tbody>\n",
       "</table>\n"
      ],
      "text/latex": [
       "A data.frame: 1 × 27\n",
       "\\begin{tabular}{r|lllllllllllllllllllll}\n",
       "  & Collection\\_Date & Time\\_Collection & Experimentor & Temperature & Colony\\_Origin & Starvation\\_Period & Donor\\_Colony & Recipient\\_Colony & Ant\\_ID & Visit & ⋯ & Drinking\\_Duration & Out\\_Duration & Bridge\\_Nest\\_Duration & Total\\_Duration\\_Minutes & Trophallaxis & Full & Switched\\_Decision\\_Binary & TSM\\_Bin & variable & value\\\\\n",
       "  & <fct> & <fct> & <fct> & <chr> & <chr> & <fct> & <fct> & <fct> & <int> & <fct> & ⋯ & <int> & <int> & <int> & <chr> & <chr> & <chr> & <dbl> & <fct> & <fct> & <fct>\\\\\n",
       "\\hline\n",
       "\t1 & 04.04.22 & 11:20 & Laura Neubauer & 24,9 & 5th November - Spain / 9th April - Spain & 4-days & 32 & 7 & 1 & 2 & ⋯ & 56 & 17 & 482 & 9,6 & Yes & No & 0 & 0-30 & Initial\\_Decision\\_Binary & 1\\\\\n",
       "\\end{tabular}\n"
      ],
      "text/markdown": [
       "\n",
       "A data.frame: 1 × 27\n",
       "\n",
       "| <!--/--> | Collection_Date &lt;fct&gt; | Time_Collection &lt;fct&gt; | Experimentor &lt;fct&gt; | Temperature &lt;chr&gt; | Colony_Origin &lt;chr&gt; | Starvation_Period &lt;fct&gt; | Donor_Colony &lt;fct&gt; | Recipient_Colony &lt;fct&gt; | Ant_ID &lt;int&gt; | Visit &lt;fct&gt; | ⋯ ⋯ | Drinking_Duration &lt;int&gt; | Out_Duration &lt;int&gt; | Bridge_Nest_Duration &lt;int&gt; | Total_Duration_Minutes &lt;chr&gt; | Trophallaxis &lt;chr&gt; | Full &lt;chr&gt; | Switched_Decision_Binary &lt;dbl&gt; | TSM_Bin &lt;fct&gt; | variable &lt;fct&gt; | value &lt;fct&gt; |\n",
       "|---|---|---|---|---|---|---|---|---|---|---|---|---|---|---|---|---|---|---|---|---|---|\n",
       "| 1 | 04.04.22 | 11:20 | Laura Neubauer | 24,9 | 5th November - Spain / 9th April - Spain | 4-days | 32 | 7 | 1 | 2 | ⋯ | 56 | 17 | 482 | 9,6 | Yes | No | 0 | 0-30 | Initial_Decision_Binary | 1 |\n",
       "\n"
      ],
      "text/plain": [
       "  Collection_Date Time_Collection Experimentor   Temperature\n",
       "1 04.04.22        11:20           Laura Neubauer 24,9       \n",
       "  Colony_Origin                            Starvation_Period Donor_Colony\n",
       "1 5th November - Spain / 9th April - Spain 4-days            32          \n",
       "  Recipient_Colony Ant_ID Visit ⋯ Drinking_Duration Out_Duration\n",
       "1 7                1      2     ⋯ 56                17          \n",
       "  Bridge_Nest_Duration Total_Duration_Minutes Trophallaxis Full\n",
       "1 482                  9,6                    Yes          No  \n",
       "  Switched_Decision_Binary TSM_Bin variable                value\n",
       "1 0                        0-30    Initial_Decision_Binary 1    "
      ]
     },
     "metadata": {},
     "output_type": "display_data"
    }
   ],
   "source": [
    "initial_final_diff = melt(ELP_09, measure.vars = c(\"Initial_Decision_Binary\", \"Final_Decision_Binary\"))\n",
    "initial_final_diff$value = as.factor(initial_final_diff$value)\n",
    "head(initial_final_diff, n = 1) # Check if data was imported correctly"
   ]
  },
  {
   "cell_type": "code",
   "execution_count": 15,
   "id": "d58dbbf0",
   "metadata": {},
   "outputs": [
    {
     "name": "stderr",
     "output_type": "stream",
     "text": [
      "boundary (singular) fit: see ?isSingular\n",
      "\n"
     ]
    },
    {
     "data": {
      "text/html": [
       "<table class=\"dataframe\">\n",
       "<caption>A anova: 1 × 3</caption>\n",
       "<thead>\n",
       "\t<tr><th></th><th scope=col>Chisq</th><th scope=col>Df</th><th scope=col>Pr(&gt;Chisq)</th></tr>\n",
       "\t<tr><th></th><th scope=col>&lt;dbl&gt;</th><th scope=col>&lt;dbl&gt;</th><th scope=col>&lt;dbl&gt;</th></tr>\n",
       "</thead>\n",
       "<tbody>\n",
       "\t<tr><th scope=row>variable</th><td>0.4349555</td><td>1</td><td>0.5095673</td></tr>\n",
       "</tbody>\n",
       "</table>\n"
      ],
      "text/latex": [
       "A anova: 1 × 3\n",
       "\\begin{tabular}{r|lll}\n",
       "  & Chisq & Df & Pr(>Chisq)\\\\\n",
       "  & <dbl> & <dbl> & <dbl>\\\\\n",
       "\\hline\n",
       "\tvariable & 0.4349555 & 1 & 0.5095673\\\\\n",
       "\\end{tabular}\n"
      ],
      "text/markdown": [
       "\n",
       "A anova: 1 × 3\n",
       "\n",
       "| <!--/--> | Chisq &lt;dbl&gt; | Df &lt;dbl&gt; | Pr(&gt;Chisq) &lt;dbl&gt; |\n",
       "|---|---|---|---|\n",
       "| variable | 0.4349555 | 1 | 0.5095673 |\n",
       "\n"
      ],
      "text/plain": [
       "         Chisq     Df Pr(>Chisq)\n",
       "variable 0.4349555 1  0.5095673 "
      ]
     },
     "metadata": {},
     "output_type": "display_data"
    }
   ],
   "source": [
    "diff_model = glmer(value ~ variable + (1|Starvation_Period) + (1|Experimentor/Collection_Date), data = initial_final_diff,family = binomial, glmerControl(optimizer = \"bobyqa\", optCtrl = list(maxfun = 1000000000)))\n",
    "Anova(diff_model)"
   ]
  },
  {
   "cell_type": "code",
   "execution_count": 16,
   "id": "e60e062e",
   "metadata": {
    "scrolled": true
   },
   "outputs": [
    {
     "data": {
      "text/plain": [
       " contrast                                        odds.ratio    SE  df null\n",
       " Initial_Decision_Binary / Final_Decision_Binary      0.866 0.189 Inf    1\n",
       " z.ratio p.value\n",
       "  -0.660  0.5096\n",
       "\n",
       "Tests are performed on the log odds ratio scale "
      ]
     },
     "metadata": {},
     "output_type": "display_data"
    }
   ],
   "source": [
    "e = emmeans(diff_model, ~variable, type = \"response\")\n",
    "pairs(e)"
   ]
  },
  {
   "cell_type": "markdown",
   "id": "cd43b22b",
   "metadata": {},
   "source": [
    "There is no siginificant difference between inital and final decision, hence we will only use final decision for further analysis as this is a better measure of learning considering it allows the individuals to correct a potentially wrong initial choice (which could be attributed to exploration)\n",
    "### Modelling\n",
    "Instead of building a super complicated model with all possible interactions, we will consider two-way interactions (three-way+ interactions are almost impossible to interpret biologically) exclusively: how do pairs of variables affect each other?\n",
    "\n",
    "y ~ (a + b + c)^2 gets all two way combinations of the variables in the brackets, hence being a faster way of getting this model:\n",
    "\n",
    "y ~ a + b + c + a:b + a:c + b:c\n",
    "\n",
    "We start with the maximal model below and simplify gradually by removing terms that explain little to no variation in this way obtaining a simpler, equally, if not more, meaningful."
   ]
  },
  {
   "cell_type": "code",
   "execution_count": 32,
   "id": "7c0b3886",
   "metadata": {
    "scrolled": true
   },
   "outputs": [],
   "source": [
    "mod1 = glmer(Final_Decision_Binary ~ (Reward_Side + Solution + TSM_Bin + Visit)^2  +\n",
    "               (1|Starvation_Period) + (1|Collection_Date), \n",
    "             data = ELP_09, family = \"binomial\", glmerControl(optimizer = \"bobyqa\", optCtrl = list(maxfun = 1000000000)))"
   ]
  },
  {
   "cell_type": "markdown",
   "id": "082e81a1",
   "metadata": {},
   "source": [
    "#### Is the maximal model a good fit to the data?"
   ]
  },
  {
   "cell_type": "code",
   "execution_count": 33,
   "id": "d4f8a6ba",
   "metadata": {
    "scrolled": true
   },
   "outputs": [
    {
     "data": {
      "image/png": "[encoded data removed]",
      "text/plain": [
       "Plot with title “QQ plot residuals”"
      ]
     },
     "metadata": {
      "image/png": {
       "height": 420,
       "width": 420
      }
     },
     "output_type": "display_data"
    }
   ],
   "source": [
    "simres = simulateResiduals(mod1)\n",
    "plot(simres, asFactor = T)"
   ]
  },
  {
   "cell_type": "markdown",
   "id": "f2c23536",
   "metadata": {},
   "source": [
    "Yes, the diagnostic plots indicate the model is good\n",
    "#### Model simplification"
   ]
  },
  {
   "cell_type": "code",
   "execution_count": 34,
   "id": "c9ffe583",
   "metadata": {},
   "outputs": [
    {
     "name": "stderr",
     "output_type": "stream",
     "text": [
      "\n",
      "Correlation matrix not shown by default, as p = 19 > 12.\n",
      "Use print(obj, correlation=TRUE)  or\n",
      "    vcov(obj)        if you need it\n",
      "\n",
      "\n"
     ]
    },
    {
     "data": {
      "text/plain": [
       "Generalized linear mixed model fit by maximum likelihood (Laplace\n",
       "  Approximation) [glmerMod]\n",
       " Family: binomial  ( logit )\n",
       "Formula: \n",
       "Final_Decision_Binary ~ (Reward_Side + Solution + TSM_Bin + Visit)^2 +  \n",
       "    (1 | Starvation_Period) + (1 | Collection_Date)\n",
       "   Data: ELP_09\n",
       "Control: glmerControl(optimizer = \"bobyqa\", optCtrl = list(maxfun = 1e+09))\n",
       "\n",
       "     AIC      BIC   logLik deviance df.resid \n",
       "   271.6    346.0   -114.8    229.6      235 \n",
       "\n",
       "Scaled residuals: \n",
       "    Min      1Q  Median      3Q     Max \n",
       "-3.6519  0.1835  0.3514  0.5122  1.3222 \n",
       "\n",
       "Random effects:\n",
       " Groups            Name        Variance Std.Dev.\n",
       " Collection_Date   (Intercept) 0.24019  0.4901  \n",
       " Starvation_Period (Intercept) 0.07934  0.2817  \n",
       "Number of obs: 256, groups:  Collection_Date, 4; Starvation_Period, 2\n",
       "\n",
       "Fixed effects:\n",
       "                                       Estimate Std. Error z value Pr(>|z|)  \n",
       "(Intercept)                             1.98914    0.88122   2.257   0.0240 *\n",
       "Reward_SideR                           -0.12353    0.91039  -0.136   0.8921  \n",
       "Solution0.01mM Octopamine              -0.40517    0.88079  -0.460   0.6455  \n",
       "TSM_Bin30-60                           -0.61498    0.87243  -0.705   0.4809  \n",
       "Visit3                                  2.07120    1.29286   1.602   0.1091  \n",
       "Visit4                                  0.79724    1.07648   0.741   0.4589  \n",
       "Visit5                                  0.18209    1.05972   0.172   0.8636  \n",
       "Reward_SideR:Solution0.01mM Octopamine -0.24932    0.76142  -0.327   0.7433  \n",
       "Reward_SideR:TSM_Bin30-60              -0.07737    0.75894  -0.102   0.9188  \n",
       "Reward_SideR:Visit3                    -1.80709    1.08226  -1.670   0.0950 .\n",
       "Reward_SideR:Visit4                    -0.96956    0.94597  -1.025   0.3054  \n",
       "Reward_SideR:Visit5                    -1.16822    1.00597  -1.161   0.2455  \n",
       "Solution0.01mM Octopamine:TSM_Bin30-60  1.15211    0.69519   1.657   0.0975 .\n",
       "Solution0.01mM Octopamine:Visit3       -0.85952    1.00008  -0.859   0.3901  \n",
       "Solution0.01mM Octopamine:Visit4       -0.65210    0.93452  -0.698   0.4853  \n",
       "Solution0.01mM Octopamine:Visit5       -0.07051    0.96945  -0.073   0.9420  \n",
       "TSM_Bin30-60:Visit3                    -0.88214    1.00284  -0.880   0.3791  \n",
       "TSM_Bin30-60:Visit4                    -0.30441    0.93167  -0.327   0.7439  \n",
       "TSM_Bin30-60:Visit5                     1.12007    0.98625   1.136   0.2561  \n",
       "---\n",
       "Signif. codes:  0 ‘***’ 0.001 ‘**’ 0.01 ‘*’ 0.05 ‘.’ 0.1 ‘ ’ 1"
      ]
     },
     "metadata": {},
     "output_type": "display_data"
    },
    {
     "data": {
      "text/html": [
       "<table class=\"dataframe\">\n",
       "<caption>A anova: 10 × 3</caption>\n",
       "<thead>\n",
       "\t<tr><th></th><th scope=col>Chisq</th><th scope=col>Df</th><th scope=col>Pr(&gt;Chisq)</th></tr>\n",
       "\t<tr><th></th><th scope=col>&lt;dbl&gt;</th><th scope=col>&lt;dbl&gt;</th><th scope=col>&lt;dbl&gt;</th></tr>\n",
       "</thead>\n",
       "<tbody>\n",
       "\t<tr><th scope=row>Reward_Side</th><td>10.56387267</td><td>1</td><td>0.001153193</td></tr>\n",
       "\t<tr><th scope=row>Solution</th><td> 1.15891187</td><td>1</td><td>0.281691324</td></tr>\n",
       "\t<tr><th scope=row>TSM_Bin</th><td> 0.03619273</td><td>1</td><td>0.849118043</td></tr>\n",
       "\t<tr><th scope=row>Visit</th><td> 0.34208270</td><td>3</td><td>0.951928925</td></tr>\n",
       "\t<tr><th scope=row>Reward_Side:Solution</th><td> 0.10721669</td><td>1</td><td>0.743335423</td></tr>\n",
       "\t<tr><th scope=row>Reward_Side:TSM_Bin</th><td> 0.01039160</td><td>1</td><td>0.918804921</td></tr>\n",
       "\t<tr><th scope=row>Reward_Side:Visit</th><td> 3.11122807</td><td>3</td><td>0.374791890</td></tr>\n",
       "\t<tr><th scope=row>Solution:TSM_Bin</th><td> 2.74649039</td><td>1</td><td>0.097468159</td></tr>\n",
       "\t<tr><th scope=row>Solution:Visit</th><td> 1.10014677</td><td>3</td><td>0.777038652</td></tr>\n",
       "\t<tr><th scope=row>TSM_Bin:Visit</th><td> 4.10391617</td><td>3</td><td>0.250459488</td></tr>\n",
       "</tbody>\n",
       "</table>\n"
      ],
      "text/latex": [
       "A anova: 10 × 3\n",
       "\\begin{tabular}{r|lll}\n",
       "  & Chisq & Df & Pr(>Chisq)\\\\\n",
       "  & <dbl> & <dbl> & <dbl>\\\\\n",
       "\\hline\n",
       "\tReward\\_Side & 10.56387267 & 1 & 0.001153193\\\\\n",
       "\tSolution &  1.15891187 & 1 & 0.281691324\\\\\n",
       "\tTSM\\_Bin &  0.03619273 & 1 & 0.849118043\\\\\n",
       "\tVisit &  0.34208270 & 3 & 0.951928925\\\\\n",
       "\tReward\\_Side:Solution &  0.10721669 & 1 & 0.743335423\\\\\n",
       "\tReward\\_Side:TSM\\_Bin &  0.01039160 & 1 & 0.918804921\\\\\n",
       "\tReward\\_Side:Visit &  3.11122807 & 3 & 0.374791890\\\\\n",
       "\tSolution:TSM\\_Bin &  2.74649039 & 1 & 0.097468159\\\\\n",
       "\tSolution:Visit &  1.10014677 & 3 & 0.777038652\\\\\n",
       "\tTSM\\_Bin:Visit &  4.10391617 & 3 & 0.250459488\\\\\n",
       "\\end{tabular}\n"
      ],
      "text/markdown": [
       "\n",
       "A anova: 10 × 3\n",
       "\n",
       "| <!--/--> | Chisq &lt;dbl&gt; | Df &lt;dbl&gt; | Pr(&gt;Chisq) &lt;dbl&gt; |\n",
       "|---|---|---|---|\n",
       "| Reward_Side | 10.56387267 | 1 | 0.001153193 |\n",
       "| Solution |  1.15891187 | 1 | 0.281691324 |\n",
       "| TSM_Bin |  0.03619273 | 1 | 0.849118043 |\n",
       "| Visit |  0.34208270 | 3 | 0.951928925 |\n",
       "| Reward_Side:Solution |  0.10721669 | 1 | 0.743335423 |\n",
       "| Reward_Side:TSM_Bin |  0.01039160 | 1 | 0.918804921 |\n",
       "| Reward_Side:Visit |  3.11122807 | 3 | 0.374791890 |\n",
       "| Solution:TSM_Bin |  2.74649039 | 1 | 0.097468159 |\n",
       "| Solution:Visit |  1.10014677 | 3 | 0.777038652 |\n",
       "| TSM_Bin:Visit |  4.10391617 | 3 | 0.250459488 |\n",
       "\n"
      ],
      "text/plain": [
       "                     Chisq       Df Pr(>Chisq) \n",
       "Reward_Side          10.56387267 1  0.001153193\n",
       "Solution              1.15891187 1  0.281691324\n",
       "TSM_Bin               0.03619273 1  0.849118043\n",
       "Visit                 0.34208270 3  0.951928925\n",
       "Reward_Side:Solution  0.10721669 1  0.743335423\n",
       "Reward_Side:TSM_Bin   0.01039160 1  0.918804921\n",
       "Reward_Side:Visit     3.11122807 3  0.374791890\n",
       "Solution:TSM_Bin      2.74649039 1  0.097468159\n",
       "Solution:Visit        1.10014677 3  0.777038652\n",
       "TSM_Bin:Visit         4.10391617 3  0.250459488"
      ]
     },
     "metadata": {},
     "output_type": "display_data"
    },
    {
     "data": {
      "text/html": [
       "<style>\n",
       ".list-inline {list-style: none; margin:0; padding: 0}\n",
       ".list-inline>li {display: inline-block}\n",
       ".list-inline>li:not(:last-child)::after {content: \"\\00b7\"; padding: 0 .5ex}\n",
       "</style>\n",
       "<ol class=list-inline><li>'Reward_Side:Solution'</li><li>'Reward_Side:TSM_Bin'</li><li>'Reward_Side:Visit'</li><li>'Solution:TSM_Bin'</li><li>'Solution:Visit'</li><li>'TSM_Bin:Visit'</li></ol>\n"
      ],
      "text/latex": [
       "\\begin{enumerate*}\n",
       "\\item 'Reward\\_Side:Solution'\n",
       "\\item 'Reward\\_Side:TSM\\_Bin'\n",
       "\\item 'Reward\\_Side:Visit'\n",
       "\\item 'Solution:TSM\\_Bin'\n",
       "\\item 'Solution:Visit'\n",
       "\\item 'TSM\\_Bin:Visit'\n",
       "\\end{enumerate*}\n"
      ],
      "text/markdown": [
       "1. 'Reward_Side:Solution'\n",
       "2. 'Reward_Side:TSM_Bin'\n",
       "3. 'Reward_Side:Visit'\n",
       "4. 'Solution:TSM_Bin'\n",
       "5. 'Solution:Visit'\n",
       "6. 'TSM_Bin:Visit'\n",
       "\n",
       "\n"
      ],
      "text/plain": [
       "[1] \"Reward_Side:Solution\" \"Reward_Side:TSM_Bin\"  \"Reward_Side:Visit\"   \n",
       "[4] \"Solution:TSM_Bin\"     \"Solution:Visit\"       \"TSM_Bin:Visit\"       "
      ]
     },
     "metadata": {},
     "output_type": "display_data"
    }
   ],
   "source": [
    "summary(mod1)\n",
    "Anova(mod1)\n",
    "drop.scope(mod1)"
   ]
  },
  {
   "cell_type": "code",
   "execution_count": 35,
   "id": "576b0687",
   "metadata": {
    "scrolled": true
   },
   "outputs": [
    {
     "data": {
      "text/html": [
       "<table class=\"dataframe\">\n",
       "<caption>A anova: 2 × 8</caption>\n",
       "<thead>\n",
       "\t<tr><th></th><th scope=col>npar</th><th scope=col>AIC</th><th scope=col>BIC</th><th scope=col>logLik</th><th scope=col>deviance</th><th scope=col>Chisq</th><th scope=col>Df</th><th scope=col>Pr(&gt;Chisq)</th></tr>\n",
       "\t<tr><th></th><th scope=col>&lt;dbl&gt;</th><th scope=col>&lt;dbl&gt;</th><th scope=col>&lt;dbl&gt;</th><th scope=col>&lt;dbl&gt;</th><th scope=col>&lt;dbl&gt;</th><th scope=col>&lt;dbl&gt;</th><th scope=col>&lt;dbl&gt;</th><th scope=col>&lt;dbl&gt;</th></tr>\n",
       "</thead>\n",
       "<tbody>\n",
       "\t<tr><th scope=row>mod2</th><td>20</td><td>269.5884</td><td>340.4920</td><td>-114.7942</td><td>229.5884</td><td>        NA</td><td>NA</td><td>      NA</td></tr>\n",
       "\t<tr><th scope=row>mod1</th><td>21</td><td>271.5781</td><td>346.0269</td><td>-114.7891</td><td>229.5781</td><td>0.01028705</td><td> 1</td><td>0.919213</td></tr>\n",
       "</tbody>\n",
       "</table>\n"
      ],
      "text/latex": [
       "A anova: 2 × 8\n",
       "\\begin{tabular}{r|llllllll}\n",
       "  & npar & AIC & BIC & logLik & deviance & Chisq & Df & Pr(>Chisq)\\\\\n",
       "  & <dbl> & <dbl> & <dbl> & <dbl> & <dbl> & <dbl> & <dbl> & <dbl>\\\\\n",
       "\\hline\n",
       "\tmod2 & 20 & 269.5884 & 340.4920 & -114.7942 & 229.5884 &         NA & NA &       NA\\\\\n",
       "\tmod1 & 21 & 271.5781 & 346.0269 & -114.7891 & 229.5781 & 0.01028705 &  1 & 0.919213\\\\\n",
       "\\end{tabular}\n"
      ],
      "text/markdown": [
       "\n",
       "A anova: 2 × 8\n",
       "\n",
       "| <!--/--> | npar &lt;dbl&gt; | AIC &lt;dbl&gt; | BIC &lt;dbl&gt; | logLik &lt;dbl&gt; | deviance &lt;dbl&gt; | Chisq &lt;dbl&gt; | Df &lt;dbl&gt; | Pr(&gt;Chisq) &lt;dbl&gt; |\n",
       "|---|---|---|---|---|---|---|---|---|\n",
       "| mod2 | 20 | 269.5884 | 340.4920 | -114.7942 | 229.5884 |         NA | NA |       NA |\n",
       "| mod1 | 21 | 271.5781 | 346.0269 | -114.7891 | 229.5781 | 0.01028705 |  1 | 0.919213 |\n",
       "\n"
      ],
      "text/plain": [
       "     npar AIC      BIC      logLik    deviance Chisq      Df Pr(>Chisq)\n",
       "mod2 20   269.5884 340.4920 -114.7942 229.5884         NA NA       NA  \n",
       "mod1 21   271.5781 346.0269 -114.7891 229.5781 0.01028705  1 0.919213  "
      ]
     },
     "metadata": {},
     "output_type": "display_data"
    }
   ],
   "source": [
    "mod2 = update(mod1, . ~ . - Reward_Side:TSM_Bin)\n",
    "anova(mod1, mod2)"
   ]
  },
  {
   "cell_type": "markdown",
   "id": "8033a916",
   "metadata": {},
   "source": [
    "mod1 is not significantly better than mod2 so we will keep mod2"
   ]
  },
  {
   "cell_type": "code",
   "execution_count": 36,
   "id": "7b0c9b1d",
   "metadata": {},
   "outputs": [
    {
     "name": "stderr",
     "output_type": "stream",
     "text": [
      "\n",
      "Correlation matrix not shown by default, as p = 18 > 12.\n",
      "Use print(obj, correlation=TRUE)  or\n",
      "    vcov(obj)        if you need it\n",
      "\n",
      "\n"
     ]
    },
    {
     "data": {
      "text/plain": [
       "Generalized linear mixed model fit by maximum likelihood (Laplace\n",
       "  Approximation) [glmerMod]\n",
       " Family: binomial  ( logit )\n",
       "Formula: Final_Decision_Binary ~ Reward_Side + Solution + TSM_Bin + Visit +  \n",
       "    (1 | Starvation_Period) + (1 | Collection_Date) + Reward_Side:Solution +  \n",
       "    Reward_Side:Visit + Solution:TSM_Bin + Solution:Visit + TSM_Bin:Visit\n",
       "   Data: ELP_09\n",
       "Control: glmerControl(optimizer = \"bobyqa\", optCtrl = list(maxfun = 1e+09))\n",
       "\n",
       "     AIC      BIC   logLik deviance df.resid \n",
       "   269.6    340.5   -114.8    229.6      236 \n",
       "\n",
       "Scaled residuals: \n",
       "    Min      1Q  Median      3Q     Max \n",
       "-3.6784  0.1811  0.3481  0.5144  1.3247 \n",
       "\n",
       "Random effects:\n",
       " Groups            Name        Variance Std.Dev.\n",
       " Collection_Date   (Intercept) 0.23598  0.4858  \n",
       " Starvation_Period (Intercept) 0.07868  0.2805  \n",
       "Number of obs: 256, groups:  Collection_Date, 4; Starvation_Period, 2\n",
       "\n",
       "Fixed effects:\n",
       "                                       Estimate Std. Error z value Pr(>|z|)  \n",
       "(Intercept)                             2.01635    0.84293   2.392   0.0168 *\n",
       "Reward_SideR                           -0.17226    0.77569  -0.222   0.8243  \n",
       "Solution0.01mM Octopamine              -0.41672    0.87586  -0.476   0.6342  \n",
       "TSM_Bin30-60                           -0.65993    0.75393  -0.875   0.3814  \n",
       "Visit3                                  2.09269    1.28133   1.633   0.1024  \n",
       "Visit4                                  0.80630    1.07727   0.748   0.4542  \n",
       "Visit5                                  0.17915    1.06280   0.169   0.8661  \n",
       "Reward_SideR:Solution0.01mM Octopamine -0.23302    0.74508  -0.313   0.7545  \n",
       "Reward_SideR:Visit3                    -1.81879    1.07738  -1.688   0.0914 .\n",
       "Reward_SideR:Visit4                    -0.97382    0.94546  -1.030   0.3030  \n",
       "Reward_SideR:Visit5                    -1.15538    0.99729  -1.159   0.2467  \n",
       "Solution0.01mM Octopamine:TSM_Bin30-60  1.15677    0.69390   1.667   0.0955 .\n",
       "Solution0.01mM Octopamine:Visit3       -0.86359    0.99927  -0.864   0.3875  \n",
       "Solution0.01mM Octopamine:Visit4       -0.65510    0.93414  -0.701   0.4831  \n",
       "Solution0.01mM Octopamine:Visit5       -0.07336    0.96912  -0.076   0.9397  \n",
       "TSM_Bin30-60:Visit3                    -0.90019    0.98808  -0.911   0.3623  \n",
       "TSM_Bin30-60:Visit4                    -0.31304    0.92830  -0.337   0.7360  \n",
       "TSM_Bin30-60:Visit5                     1.10708    0.97735   1.133   0.2573  \n",
       "---\n",
       "Signif. codes:  0 ‘***’ 0.001 ‘**’ 0.01 ‘*’ 0.05 ‘.’ 0.1 ‘ ’ 1"
      ]
     },
     "metadata": {},
     "output_type": "display_data"
    },
    {
     "data": {
      "text/html": [
       "<table class=\"dataframe\">\n",
       "<caption>A anova: 9 × 3</caption>\n",
       "<thead>\n",
       "\t<tr><th></th><th scope=col>Chisq</th><th scope=col>Df</th><th scope=col>Pr(&gt;Chisq)</th></tr>\n",
       "\t<tr><th></th><th scope=col>&lt;dbl&gt;</th><th scope=col>&lt;dbl&gt;</th><th scope=col>&lt;dbl&gt;</th></tr>\n",
       "</thead>\n",
       "<tbody>\n",
       "\t<tr><th scope=row>Reward_Side</th><td>10.56850343</td><td>1</td><td>0.001150308</td></tr>\n",
       "\t<tr><th scope=row>Solution</th><td> 1.15590027</td><td>1</td><td>0.282317414</td></tr>\n",
       "\t<tr><th scope=row>TSM_Bin</th><td> 0.03494956</td><td>1</td><td>0.851701395</td></tr>\n",
       "\t<tr><th scope=row>Visit</th><td> 0.34028015</td><td>3</td><td>0.952283089</td></tr>\n",
       "\t<tr><th scope=row>Reward_Side:Solution</th><td> 0.09780786</td><td>1</td><td>0.754476316</td></tr>\n",
       "\t<tr><th scope=row>Reward_Side:Visit</th><td> 3.13333988</td><td>3</td><td>0.371520174</td></tr>\n",
       "\t<tr><th scope=row>Solution:TSM_Bin</th><td> 2.77910907</td><td>1</td><td>0.095501281</td></tr>\n",
       "\t<tr><th scope=row>Solution:Visit</th><td> 1.10785952</td><td>3</td><td>0.775177111</td></tr>\n",
       "\t<tr><th scope=row>TSM_Bin:Visit</th><td> 4.12165527</td><td>3</td><td>0.248623667</td></tr>\n",
       "</tbody>\n",
       "</table>\n"
      ],
      "text/latex": [
       "A anova: 9 × 3\n",
       "\\begin{tabular}{r|lll}\n",
       "  & Chisq & Df & Pr(>Chisq)\\\\\n",
       "  & <dbl> & <dbl> & <dbl>\\\\\n",
       "\\hline\n",
       "\tReward\\_Side & 10.56850343 & 1 & 0.001150308\\\\\n",
       "\tSolution &  1.15590027 & 1 & 0.282317414\\\\\n",
       "\tTSM\\_Bin &  0.03494956 & 1 & 0.851701395\\\\\n",
       "\tVisit &  0.34028015 & 3 & 0.952283089\\\\\n",
       "\tReward\\_Side:Solution &  0.09780786 & 1 & 0.754476316\\\\\n",
       "\tReward\\_Side:Visit &  3.13333988 & 3 & 0.371520174\\\\\n",
       "\tSolution:TSM\\_Bin &  2.77910907 & 1 & 0.095501281\\\\\n",
       "\tSolution:Visit &  1.10785952 & 3 & 0.775177111\\\\\n",
       "\tTSM\\_Bin:Visit &  4.12165527 & 3 & 0.248623667\\\\\n",
       "\\end{tabular}\n"
      ],
      "text/markdown": [
       "\n",
       "A anova: 9 × 3\n",
       "\n",
       "| <!--/--> | Chisq &lt;dbl&gt; | Df &lt;dbl&gt; | Pr(&gt;Chisq) &lt;dbl&gt; |\n",
       "|---|---|---|---|\n",
       "| Reward_Side | 10.56850343 | 1 | 0.001150308 |\n",
       "| Solution |  1.15590027 | 1 | 0.282317414 |\n",
       "| TSM_Bin |  0.03494956 | 1 | 0.851701395 |\n",
       "| Visit |  0.34028015 | 3 | 0.952283089 |\n",
       "| Reward_Side:Solution |  0.09780786 | 1 | 0.754476316 |\n",
       "| Reward_Side:Visit |  3.13333988 | 3 | 0.371520174 |\n",
       "| Solution:TSM_Bin |  2.77910907 | 1 | 0.095501281 |\n",
       "| Solution:Visit |  1.10785952 | 3 | 0.775177111 |\n",
       "| TSM_Bin:Visit |  4.12165527 | 3 | 0.248623667 |\n",
       "\n"
      ],
      "text/plain": [
       "                     Chisq       Df Pr(>Chisq) \n",
       "Reward_Side          10.56850343 1  0.001150308\n",
       "Solution              1.15590027 1  0.282317414\n",
       "TSM_Bin               0.03494956 1  0.851701395\n",
       "Visit                 0.34028015 3  0.952283089\n",
       "Reward_Side:Solution  0.09780786 1  0.754476316\n",
       "Reward_Side:Visit     3.13333988 3  0.371520174\n",
       "Solution:TSM_Bin      2.77910907 1  0.095501281\n",
       "Solution:Visit        1.10785952 3  0.775177111\n",
       "TSM_Bin:Visit         4.12165527 3  0.248623667"
      ]
     },
     "metadata": {},
     "output_type": "display_data"
    },
    {
     "data": {
      "text/html": [
       "<style>\n",
       ".list-inline {list-style: none; margin:0; padding: 0}\n",
       ".list-inline>li {display: inline-block}\n",
       ".list-inline>li:not(:last-child)::after {content: \"\\00b7\"; padding: 0 .5ex}\n",
       "</style>\n",
       "<ol class=list-inline><li>'Reward_Side:Solution'</li><li>'Reward_Side:Visit'</li><li>'Solution:TSM_Bin'</li><li>'Solution:Visit'</li><li>'TSM_Bin:Visit'</li></ol>\n"
      ],
      "text/latex": [
       "\\begin{enumerate*}\n",
       "\\item 'Reward\\_Side:Solution'\n",
       "\\item 'Reward\\_Side:Visit'\n",
       "\\item 'Solution:TSM\\_Bin'\n",
       "\\item 'Solution:Visit'\n",
       "\\item 'TSM\\_Bin:Visit'\n",
       "\\end{enumerate*}\n"
      ],
      "text/markdown": [
       "1. 'Reward_Side:Solution'\n",
       "2. 'Reward_Side:Visit'\n",
       "3. 'Solution:TSM_Bin'\n",
       "4. 'Solution:Visit'\n",
       "5. 'TSM_Bin:Visit'\n",
       "\n",
       "\n"
      ],
      "text/plain": [
       "[1] \"Reward_Side:Solution\" \"Reward_Side:Visit\"    \"Solution:TSM_Bin\"    \n",
       "[4] \"Solution:Visit\"       \"TSM_Bin:Visit\"       "
      ]
     },
     "metadata": {},
     "output_type": "display_data"
    }
   ],
   "source": [
    "summary(mod2)\n",
    "Anova(mod2)\n",
    "drop.scope(mod2)"
   ]
  },
  {
   "cell_type": "code",
   "execution_count": 37,
   "id": "480e8e6d",
   "metadata": {
    "scrolled": true
   },
   "outputs": [
    {
     "data": {
      "text/html": [
       "<table class=\"dataframe\">\n",
       "<caption>A anova: 2 × 8</caption>\n",
       "<thead>\n",
       "\t<tr><th></th><th scope=col>npar</th><th scope=col>AIC</th><th scope=col>BIC</th><th scope=col>logLik</th><th scope=col>deviance</th><th scope=col>Chisq</th><th scope=col>Df</th><th scope=col>Pr(&gt;Chisq)</th></tr>\n",
       "\t<tr><th></th><th scope=col>&lt;dbl&gt;</th><th scope=col>&lt;dbl&gt;</th><th scope=col>&lt;dbl&gt;</th><th scope=col>&lt;dbl&gt;</th><th scope=col>&lt;dbl&gt;</th><th scope=col>&lt;dbl&gt;</th><th scope=col>&lt;dbl&gt;</th><th scope=col>&lt;dbl&gt;</th></tr>\n",
       "</thead>\n",
       "<tbody>\n",
       "\t<tr><th scope=row>mod3</th><td>19</td><td>267.6850</td><td>335.0433</td><td>-114.8425</td><td>229.6850</td><td>        NA</td><td>NA</td><td>      NA</td></tr>\n",
       "\t<tr><th scope=row>mod2</th><td>20</td><td>269.5884</td><td>340.4920</td><td>-114.7942</td><td>229.5884</td><td>0.09655302</td><td> 1</td><td>0.756006</td></tr>\n",
       "</tbody>\n",
       "</table>\n"
      ],
      "text/latex": [
       "A anova: 2 × 8\n",
       "\\begin{tabular}{r|llllllll}\n",
       "  & npar & AIC & BIC & logLik & deviance & Chisq & Df & Pr(>Chisq)\\\\\n",
       "  & <dbl> & <dbl> & <dbl> & <dbl> & <dbl> & <dbl> & <dbl> & <dbl>\\\\\n",
       "\\hline\n",
       "\tmod3 & 19 & 267.6850 & 335.0433 & -114.8425 & 229.6850 &         NA & NA &       NA\\\\\n",
       "\tmod2 & 20 & 269.5884 & 340.4920 & -114.7942 & 229.5884 & 0.09655302 &  1 & 0.756006\\\\\n",
       "\\end{tabular}\n"
      ],
      "text/markdown": [
       "\n",
       "A anova: 2 × 8\n",
       "\n",
       "| <!--/--> | npar &lt;dbl&gt; | AIC &lt;dbl&gt; | BIC &lt;dbl&gt; | logLik &lt;dbl&gt; | deviance &lt;dbl&gt; | Chisq &lt;dbl&gt; | Df &lt;dbl&gt; | Pr(&gt;Chisq) &lt;dbl&gt; |\n",
       "|---|---|---|---|---|---|---|---|---|\n",
       "| mod3 | 19 | 267.6850 | 335.0433 | -114.8425 | 229.6850 |         NA | NA |       NA |\n",
       "| mod2 | 20 | 269.5884 | 340.4920 | -114.7942 | 229.5884 | 0.09655302 |  1 | 0.756006 |\n",
       "\n"
      ],
      "text/plain": [
       "     npar AIC      BIC      logLik    deviance Chisq      Df Pr(>Chisq)\n",
       "mod3 19   267.6850 335.0433 -114.8425 229.6850         NA NA       NA  \n",
       "mod2 20   269.5884 340.4920 -114.7942 229.5884 0.09655302  1 0.756006  "
      ]
     },
     "metadata": {},
     "output_type": "display_data"
    }
   ],
   "source": [
    "mod3 = update(mod2, . ~ . - Reward_Side:Solution)\n",
    "anova(mod2, mod3)"
   ]
  },
  {
   "cell_type": "markdown",
   "id": "38ad4863",
   "metadata": {},
   "source": [
    "mod2 is not significantly better than mod3 so we will keep mod3"
   ]
  },
  {
   "cell_type": "code",
   "execution_count": 38,
   "id": "63be47f5",
   "metadata": {
    "scrolled": true
   },
   "outputs": [
    {
     "name": "stderr",
     "output_type": "stream",
     "text": [
      "\n",
      "Correlation matrix not shown by default, as p = 17 > 12.\n",
      "Use print(obj, correlation=TRUE)  or\n",
      "    vcov(obj)        if you need it\n",
      "\n",
      "\n"
     ]
    },
    {
     "data": {
      "text/plain": [
       "Generalized linear mixed model fit by maximum likelihood (Laplace\n",
       "  Approximation) [glmerMod]\n",
       " Family: binomial  ( logit )\n",
       "Formula: Final_Decision_Binary ~ Reward_Side + Solution + TSM_Bin + Visit +  \n",
       "    (1 | Starvation_Period) + (1 | Collection_Date) + Reward_Side:Visit +  \n",
       "    Solution:TSM_Bin + Solution:Visit + TSM_Bin:Visit\n",
       "   Data: ELP_09\n",
       "Control: glmerControl(optimizer = \"bobyqa\", optCtrl = list(maxfun = 1e+09))\n",
       "\n",
       "     AIC      BIC   logLik deviance df.resid \n",
       "   267.7    335.0   -114.8    229.7      237 \n",
       "\n",
       "Scaled residuals: \n",
       "    Min      1Q  Median      3Q     Max \n",
       "-3.7527  0.1821  0.3520  0.5097  1.2936 \n",
       "\n",
       "Random effects:\n",
       " Groups            Name        Variance Std.Dev.\n",
       " Collection_Date   (Intercept) 0.21897  0.4679  \n",
       " Starvation_Period (Intercept) 0.07826  0.2797  \n",
       "Number of obs: 256, groups:  Collection_Date, 4; Starvation_Period, 2\n",
       "\n",
       "Fixed effects:\n",
       "                                       Estimate Std. Error z value Pr(>|z|)  \n",
       "(Intercept)                              2.0831     0.8200   2.540   0.0111 *\n",
       "Reward_SideR                            -0.2956     0.6690  -0.442   0.6586  \n",
       "Solution0.01mM Octopamine               -0.5550     0.7564  -0.734   0.4631  \n",
       "TSM_Bin30-60                            -0.6614     0.7543  -0.877   0.3806  \n",
       "Visit3                                   2.1421     1.2842   1.668   0.0953 .\n",
       "Visit4                                   0.8373     1.0843   0.772   0.4400  \n",
       "Visit5                                   0.2038     1.0732   0.190   0.8494  \n",
       "Reward_SideR:Visit3                     -1.8454     1.0765  -1.714   0.0865 .\n",
       "Reward_SideR:Visit4                     -0.9929     0.9451  -1.051   0.2935  \n",
       "Reward_SideR:Visit5                     -1.1617     0.9990  -1.163   0.2449  \n",
       "Solution0.01mM Octopamine:TSM_Bin30-60   1.1666     0.6929   1.684   0.0922 .\n",
       "Solution0.01mM Octopamine:Visit3        -0.9147     0.9881  -0.926   0.3546  \n",
       "Solution0.01mM Octopamine:Visit4        -0.6804     0.9323  -0.730   0.4655  \n",
       "Solution0.01mM Octopamine:Visit5        -0.1039     0.9656  -0.108   0.9143  \n",
       "TSM_Bin30-60:Visit3                     -0.9003     0.9866  -0.913   0.3615  \n",
       "TSM_Bin30-60:Visit4                     -0.3173     0.9276  -0.342   0.7323  \n",
       "TSM_Bin30-60:Visit5                      1.1030     0.9775   1.128   0.2592  \n",
       "---\n",
       "Signif. codes:  0 ‘***’ 0.001 ‘**’ 0.01 ‘*’ 0.05 ‘.’ 0.1 ‘ ’ 1"
      ]
     },
     "metadata": {},
     "output_type": "display_data"
    },
    {
     "data": {
      "text/html": [
       "<table class=\"dataframe\">\n",
       "<caption>A anova: 8 × 3</caption>\n",
       "<thead>\n",
       "\t<tr><th></th><th scope=col>Chisq</th><th scope=col>Df</th><th scope=col>Pr(&gt;Chisq)</th></tr>\n",
       "\t<tr><th></th><th scope=col>&lt;dbl&gt;</th><th scope=col>&lt;dbl&gt;</th><th scope=col>&lt;dbl&gt;</th></tr>\n",
       "</thead>\n",
       "<tbody>\n",
       "\t<tr><th scope=row>Reward_Side</th><td>10.56405339</td><td>1</td><td>0.001153081</td></tr>\n",
       "\t<tr><th scope=row>Solution</th><td> 1.15981241</td><td>1</td><td>0.281504448</td></tr>\n",
       "\t<tr><th scope=row>TSM_Bin</th><td> 0.03030224</td><td>1</td><td>0.861806209</td></tr>\n",
       "\t<tr><th scope=row>Visit</th><td> 0.32611574</td><td>3</td><td>0.955044264</td></tr>\n",
       "\t<tr><th scope=row>Reward_Side:Visit</th><td> 3.22288420</td><td>3</td><td>0.358520744</td></tr>\n",
       "\t<tr><th scope=row>Solution:TSM_Bin</th><td> 2.83522365</td><td>1</td><td>0.092217961</td></tr>\n",
       "\t<tr><th scope=row>Solution:Visit</th><td> 1.20550429</td><td>3</td><td>0.751684461</td></tr>\n",
       "\t<tr><th scope=row>TSM_Bin:Visit</th><td> 4.11418227</td><td>3</td><td>0.249395546</td></tr>\n",
       "</tbody>\n",
       "</table>\n"
      ],
      "text/latex": [
       "A anova: 8 × 3\n",
       "\\begin{tabular}{r|lll}\n",
       "  & Chisq & Df & Pr(>Chisq)\\\\\n",
       "  & <dbl> & <dbl> & <dbl>\\\\\n",
       "\\hline\n",
       "\tReward\\_Side & 10.56405339 & 1 & 0.001153081\\\\\n",
       "\tSolution &  1.15981241 & 1 & 0.281504448\\\\\n",
       "\tTSM\\_Bin &  0.03030224 & 1 & 0.861806209\\\\\n",
       "\tVisit &  0.32611574 & 3 & 0.955044264\\\\\n",
       "\tReward\\_Side:Visit &  3.22288420 & 3 & 0.358520744\\\\\n",
       "\tSolution:TSM\\_Bin &  2.83522365 & 1 & 0.092217961\\\\\n",
       "\tSolution:Visit &  1.20550429 & 3 & 0.751684461\\\\\n",
       "\tTSM\\_Bin:Visit &  4.11418227 & 3 & 0.249395546\\\\\n",
       "\\end{tabular}\n"
      ],
      "text/markdown": [
       "\n",
       "A anova: 8 × 3\n",
       "\n",
       "| <!--/--> | Chisq &lt;dbl&gt; | Df &lt;dbl&gt; | Pr(&gt;Chisq) &lt;dbl&gt; |\n",
       "|---|---|---|---|\n",
       "| Reward_Side | 10.56405339 | 1 | 0.001153081 |\n",
       "| Solution |  1.15981241 | 1 | 0.281504448 |\n",
       "| TSM_Bin |  0.03030224 | 1 | 0.861806209 |\n",
       "| Visit |  0.32611574 | 3 | 0.955044264 |\n",
       "| Reward_Side:Visit |  3.22288420 | 3 | 0.358520744 |\n",
       "| Solution:TSM_Bin |  2.83522365 | 1 | 0.092217961 |\n",
       "| Solution:Visit |  1.20550429 | 3 | 0.751684461 |\n",
       "| TSM_Bin:Visit |  4.11418227 | 3 | 0.249395546 |\n",
       "\n"
      ],
      "text/plain": [
       "                  Chisq       Df Pr(>Chisq) \n",
       "Reward_Side       10.56405339 1  0.001153081\n",
       "Solution           1.15981241 1  0.281504448\n",
       "TSM_Bin            0.03030224 1  0.861806209\n",
       "Visit              0.32611574 3  0.955044264\n",
       "Reward_Side:Visit  3.22288420 3  0.358520744\n",
       "Solution:TSM_Bin   2.83522365 1  0.092217961\n",
       "Solution:Visit     1.20550429 3  0.751684461\n",
       "TSM_Bin:Visit      4.11418227 3  0.249395546"
      ]
     },
     "metadata": {},
     "output_type": "display_data"
    },
    {
     "data": {
      "text/html": [
       "<style>\n",
       ".list-inline {list-style: none; margin:0; padding: 0}\n",
       ".list-inline>li {display: inline-block}\n",
       ".list-inline>li:not(:last-child)::after {content: \"\\00b7\"; padding: 0 .5ex}\n",
       "</style>\n",
       "<ol class=list-inline><li>'Reward_Side:Visit'</li><li>'Solution:TSM_Bin'</li><li>'Solution:Visit'</li><li>'TSM_Bin:Visit'</li></ol>\n"
      ],
      "text/latex": [
       "\\begin{enumerate*}\n",
       "\\item 'Reward\\_Side:Visit'\n",
       "\\item 'Solution:TSM\\_Bin'\n",
       "\\item 'Solution:Visit'\n",
       "\\item 'TSM\\_Bin:Visit'\n",
       "\\end{enumerate*}\n"
      ],
      "text/markdown": [
       "1. 'Reward_Side:Visit'\n",
       "2. 'Solution:TSM_Bin'\n",
       "3. 'Solution:Visit'\n",
       "4. 'TSM_Bin:Visit'\n",
       "\n",
       "\n"
      ],
      "text/plain": [
       "[1] \"Reward_Side:Visit\" \"Solution:TSM_Bin\"  \"Solution:Visit\"   \n",
       "[4] \"TSM_Bin:Visit\"    "
      ]
     },
     "metadata": {},
     "output_type": "display_data"
    }
   ],
   "source": [
    "summary(mod3)\n",
    "Anova(mod3)\n",
    "drop.scope(mod3)"
   ]
  },
  {
   "cell_type": "code",
   "execution_count": 39,
   "id": "b4d546c0",
   "metadata": {
    "scrolled": true
   },
   "outputs": [
    {
     "data": {
      "text/html": [
       "<table class=\"dataframe\">\n",
       "<caption>A anova: 2 × 8</caption>\n",
       "<thead>\n",
       "\t<tr><th></th><th scope=col>npar</th><th scope=col>AIC</th><th scope=col>BIC</th><th scope=col>logLik</th><th scope=col>deviance</th><th scope=col>Chisq</th><th scope=col>Df</th><th scope=col>Pr(&gt;Chisq)</th></tr>\n",
       "\t<tr><th></th><th scope=col>&lt;dbl&gt;</th><th scope=col>&lt;dbl&gt;</th><th scope=col>&lt;dbl&gt;</th><th scope=col>&lt;dbl&gt;</th><th scope=col>&lt;dbl&gt;</th><th scope=col>&lt;dbl&gt;</th><th scope=col>&lt;dbl&gt;</th><th scope=col>&lt;dbl&gt;</th></tr>\n",
       "</thead>\n",
       "<tbody>\n",
       "\t<tr><th scope=row>mod4</th><td>16</td><td>262.9021</td><td>319.6249</td><td>-115.4510</td><td>230.9021</td><td>      NA</td><td>NA</td><td>       NA</td></tr>\n",
       "\t<tr><th scope=row>mod3</th><td>19</td><td>267.6850</td><td>335.0433</td><td>-114.8425</td><td>229.6850</td><td>1.217104</td><td> 3</td><td>0.7489051</td></tr>\n",
       "</tbody>\n",
       "</table>\n"
      ],
      "text/latex": [
       "A anova: 2 × 8\n",
       "\\begin{tabular}{r|llllllll}\n",
       "  & npar & AIC & BIC & logLik & deviance & Chisq & Df & Pr(>Chisq)\\\\\n",
       "  & <dbl> & <dbl> & <dbl> & <dbl> & <dbl> & <dbl> & <dbl> & <dbl>\\\\\n",
       "\\hline\n",
       "\tmod4 & 16 & 262.9021 & 319.6249 & -115.4510 & 230.9021 &       NA & NA &        NA\\\\\n",
       "\tmod3 & 19 & 267.6850 & 335.0433 & -114.8425 & 229.6850 & 1.217104 &  3 & 0.7489051\\\\\n",
       "\\end{tabular}\n"
      ],
      "text/markdown": [
       "\n",
       "A anova: 2 × 8\n",
       "\n",
       "| <!--/--> | npar &lt;dbl&gt; | AIC &lt;dbl&gt; | BIC &lt;dbl&gt; | logLik &lt;dbl&gt; | deviance &lt;dbl&gt; | Chisq &lt;dbl&gt; | Df &lt;dbl&gt; | Pr(&gt;Chisq) &lt;dbl&gt; |\n",
       "|---|---|---|---|---|---|---|---|---|\n",
       "| mod4 | 16 | 262.9021 | 319.6249 | -115.4510 | 230.9021 |       NA | NA |        NA |\n",
       "| mod3 | 19 | 267.6850 | 335.0433 | -114.8425 | 229.6850 | 1.217104 |  3 | 0.7489051 |\n",
       "\n"
      ],
      "text/plain": [
       "     npar AIC      BIC      logLik    deviance Chisq    Df Pr(>Chisq)\n",
       "mod4 16   262.9021 319.6249 -115.4510 230.9021       NA NA        NA \n",
       "mod3 19   267.6850 335.0433 -114.8425 229.6850 1.217104  3 0.7489051 "
      ]
     },
     "metadata": {},
     "output_type": "display_data"
    }
   ],
   "source": [
    "mod4 = update(mod3, . ~ . - Solution:Visit)\n",
    "anova(mod3, mod4)"
   ]
  },
  {
   "cell_type": "markdown",
   "id": "408e1a65",
   "metadata": {},
   "source": [
    "mod3 is not significantly better than mod4 so we will keep mod4"
   ]
  },
  {
   "cell_type": "code",
   "execution_count": 40,
   "id": "ffe18321",
   "metadata": {
    "scrolled": true
   },
   "outputs": [
    {
     "name": "stderr",
     "output_type": "stream",
     "text": [
      "\n",
      "Correlation matrix not shown by default, as p = 14 > 12.\n",
      "Use print(obj, correlation=TRUE)  or\n",
      "    vcov(obj)        if you need it\n",
      "\n",
      "\n"
     ]
    },
    {
     "data": {
      "text/plain": [
       "Generalized linear mixed model fit by maximum likelihood (Laplace\n",
       "  Approximation) [glmerMod]\n",
       " Family: binomial  ( logit )\n",
       "Formula: Final_Decision_Binary ~ Reward_Side + Solution + TSM_Bin + Visit +  \n",
       "    (1 | Starvation_Period) + (1 | Collection_Date) + Reward_Side:Visit +  \n",
       "    Solution:TSM_Bin + TSM_Bin:Visit\n",
       "   Data: ELP_09\n",
       "Control: glmerControl(optimizer = \"bobyqa\", optCtrl = list(maxfun = 1e+09))\n",
       "\n",
       "     AIC      BIC   logLik deviance df.resid \n",
       "   262.9    319.6   -115.5    230.9      240 \n",
       "\n",
       "Scaled residuals: \n",
       "    Min      1Q  Median      3Q     Max \n",
       "-4.1832  0.1797  0.3481  0.5134  1.3700 \n",
       "\n",
       "Random effects:\n",
       " Groups            Name        Variance Std.Dev.\n",
       " Collection_Date   (Intercept) 0.20592  0.4538  \n",
       " Starvation_Period (Intercept) 0.07662  0.2768  \n",
       "Number of obs: 256, groups:  Collection_Date, 4; Starvation_Period, 2\n",
       "\n",
       "Fixed effects:\n",
       "                                       Estimate Std. Error z value Pr(>|z|)   \n",
       "(Intercept)                              2.3232     0.7518   3.090   0.0020 **\n",
       "Reward_SideR                            -0.3221     0.6675  -0.482   0.6295   \n",
       "Solution0.01mM Octopamine               -0.9294     0.4877  -1.906   0.0567 . \n",
       "TSM_Bin30-60                            -0.6829     0.7633  -0.895   0.3710   \n",
       "Visit3                                   1.5000     1.0636   1.410   0.1584   \n",
       "Visit4                                   0.3823     0.8863   0.431   0.6662   \n",
       "Visit5                                   0.1346     0.8967   0.150   0.8807   \n",
       "Reward_SideR:Visit3                     -1.7729     1.0683  -1.660   0.0970 . \n",
       "Reward_SideR:Visit4                     -0.9453     0.9398  -1.006   0.3145   \n",
       "Reward_SideR:Visit5                     -1.1685     1.0001  -1.168   0.2427   \n",
       "Solution0.01mM Octopamine:TSM_Bin30-60   1.0729     0.6754   1.589   0.1122   \n",
       "TSM_Bin30-60:Visit3                     -0.7423     0.9612  -0.772   0.4399   \n",
       "TSM_Bin30-60:Visit4                     -0.2046     0.9108  -0.225   0.8223   \n",
       "TSM_Bin30-60:Visit5                      1.1319     0.9656   1.172   0.2411   \n",
       "---\n",
       "Signif. codes:  0 ‘***’ 0.001 ‘**’ 0.01 ‘*’ 0.05 ‘.’ 0.1 ‘ ’ 1"
      ]
     },
     "metadata": {},
     "output_type": "display_data"
    },
    {
     "data": {
      "text/html": [
       "<table class=\"dataframe\">\n",
       "<caption>A anova: 7 × 3</caption>\n",
       "<thead>\n",
       "\t<tr><th></th><th scope=col>Chisq</th><th scope=col>Df</th><th scope=col>Pr(&gt;Chisq)</th></tr>\n",
       "\t<tr><th></th><th scope=col>&lt;dbl&gt;</th><th scope=col>&lt;dbl&gt;</th><th scope=col>&lt;dbl&gt;</th></tr>\n",
       "</thead>\n",
       "<tbody>\n",
       "\t<tr><th scope=row>Reward_Side</th><td>10.6154863</td><td>1</td><td>0.001121445</td></tr>\n",
       "\t<tr><th scope=row>Solution</th><td> 1.2085249</td><td>1</td><td>0.271624463</td></tr>\n",
       "\t<tr><th scope=row>TSM_Bin</th><td> 0.0310207</td><td>1</td><td>0.860194220</td></tr>\n",
       "\t<tr><th scope=row>Visit</th><td> 0.3473531</td><td>3</td><td>0.950889888</td></tr>\n",
       "\t<tr><th scope=row>Reward_Side:Visit</th><td> 3.0543520</td><td>3</td><td>0.383320839</td></tr>\n",
       "\t<tr><th scope=row>Solution:TSM_Bin</th><td> 2.5234328</td><td>1</td><td>0.112166171</td></tr>\n",
       "\t<tr><th scope=row>TSM_Bin:Visit</th><td> 3.7780917</td><td>3</td><td>0.286444735</td></tr>\n",
       "</tbody>\n",
       "</table>\n"
      ],
      "text/latex": [
       "A anova: 7 × 3\n",
       "\\begin{tabular}{r|lll}\n",
       "  & Chisq & Df & Pr(>Chisq)\\\\\n",
       "  & <dbl> & <dbl> & <dbl>\\\\\n",
       "\\hline\n",
       "\tReward\\_Side & 10.6154863 & 1 & 0.001121445\\\\\n",
       "\tSolution &  1.2085249 & 1 & 0.271624463\\\\\n",
       "\tTSM\\_Bin &  0.0310207 & 1 & 0.860194220\\\\\n",
       "\tVisit &  0.3473531 & 3 & 0.950889888\\\\\n",
       "\tReward\\_Side:Visit &  3.0543520 & 3 & 0.383320839\\\\\n",
       "\tSolution:TSM\\_Bin &  2.5234328 & 1 & 0.112166171\\\\\n",
       "\tTSM\\_Bin:Visit &  3.7780917 & 3 & 0.286444735\\\\\n",
       "\\end{tabular}\n"
      ],
      "text/markdown": [
       "\n",
       "A anova: 7 × 3\n",
       "\n",
       "| <!--/--> | Chisq &lt;dbl&gt; | Df &lt;dbl&gt; | Pr(&gt;Chisq) &lt;dbl&gt; |\n",
       "|---|---|---|---|\n",
       "| Reward_Side | 10.6154863 | 1 | 0.001121445 |\n",
       "| Solution |  1.2085249 | 1 | 0.271624463 |\n",
       "| TSM_Bin |  0.0310207 | 1 | 0.860194220 |\n",
       "| Visit |  0.3473531 | 3 | 0.950889888 |\n",
       "| Reward_Side:Visit |  3.0543520 | 3 | 0.383320839 |\n",
       "| Solution:TSM_Bin |  2.5234328 | 1 | 0.112166171 |\n",
       "| TSM_Bin:Visit |  3.7780917 | 3 | 0.286444735 |\n",
       "\n"
      ],
      "text/plain": [
       "                  Chisq      Df Pr(>Chisq) \n",
       "Reward_Side       10.6154863 1  0.001121445\n",
       "Solution           1.2085249 1  0.271624463\n",
       "TSM_Bin            0.0310207 1  0.860194220\n",
       "Visit              0.3473531 3  0.950889888\n",
       "Reward_Side:Visit  3.0543520 3  0.383320839\n",
       "Solution:TSM_Bin   2.5234328 1  0.112166171\n",
       "TSM_Bin:Visit      3.7780917 3  0.286444735"
      ]
     },
     "metadata": {},
     "output_type": "display_data"
    },
    {
     "data": {
      "text/html": [
       "<style>\n",
       ".list-inline {list-style: none; margin:0; padding: 0}\n",
       ".list-inline>li {display: inline-block}\n",
       ".list-inline>li:not(:last-child)::after {content: \"\\00b7\"; padding: 0 .5ex}\n",
       "</style>\n",
       "<ol class=list-inline><li>'Reward_Side:Visit'</li><li>'Solution:TSM_Bin'</li><li>'TSM_Bin:Visit'</li></ol>\n"
      ],
      "text/latex": [
       "\\begin{enumerate*}\n",
       "\\item 'Reward\\_Side:Visit'\n",
       "\\item 'Solution:TSM\\_Bin'\n",
       "\\item 'TSM\\_Bin:Visit'\n",
       "\\end{enumerate*}\n"
      ],
      "text/markdown": [
       "1. 'Reward_Side:Visit'\n",
       "2. 'Solution:TSM_Bin'\n",
       "3. 'TSM_Bin:Visit'\n",
       "\n",
       "\n"
      ],
      "text/plain": [
       "[1] \"Reward_Side:Visit\" \"Solution:TSM_Bin\"  \"TSM_Bin:Visit\"    "
      ]
     },
     "metadata": {},
     "output_type": "display_data"
    }
   ],
   "source": [
    "summary(mod4)\n",
    "Anova(mod4)\n",
    "drop.scope(mod4)"
   ]
  },
  {
   "cell_type": "code",
   "execution_count": 41,
   "id": "c1131d1f",
   "metadata": {},
   "outputs": [
    {
     "data": {
      "text/html": [
       "<table class=\"dataframe\">\n",
       "<caption>A anova: 2 × 8</caption>\n",
       "<thead>\n",
       "\t<tr><th></th><th scope=col>npar</th><th scope=col>AIC</th><th scope=col>BIC</th><th scope=col>logLik</th><th scope=col>deviance</th><th scope=col>Chisq</th><th scope=col>Df</th><th scope=col>Pr(&gt;Chisq)</th></tr>\n",
       "\t<tr><th></th><th scope=col>&lt;dbl&gt;</th><th scope=col>&lt;dbl&gt;</th><th scope=col>&lt;dbl&gt;</th><th scope=col>&lt;dbl&gt;</th><th scope=col>&lt;dbl&gt;</th><th scope=col>&lt;dbl&gt;</th><th scope=col>&lt;dbl&gt;</th><th scope=col>&lt;dbl&gt;</th></tr>\n",
       "</thead>\n",
       "<tbody>\n",
       "\t<tr><th scope=row>mod5</th><td>13</td><td>260.0125</td><td>306.0998</td><td>-117.0062</td><td>234.0125</td><td>      NA</td><td>NA</td><td>       NA</td></tr>\n",
       "\t<tr><th scope=row>mod4</th><td>16</td><td>262.9021</td><td>319.6249</td><td>-115.4510</td><td>230.9021</td><td>3.110377</td><td> 3</td><td>0.3749183</td></tr>\n",
       "</tbody>\n",
       "</table>\n"
      ],
      "text/latex": [
       "A anova: 2 × 8\n",
       "\\begin{tabular}{r|llllllll}\n",
       "  & npar & AIC & BIC & logLik & deviance & Chisq & Df & Pr(>Chisq)\\\\\n",
       "  & <dbl> & <dbl> & <dbl> & <dbl> & <dbl> & <dbl> & <dbl> & <dbl>\\\\\n",
       "\\hline\n",
       "\tmod5 & 13 & 260.0125 & 306.0998 & -117.0062 & 234.0125 &       NA & NA &        NA\\\\\n",
       "\tmod4 & 16 & 262.9021 & 319.6249 & -115.4510 & 230.9021 & 3.110377 &  3 & 0.3749183\\\\\n",
       "\\end{tabular}\n"
      ],
      "text/markdown": [
       "\n",
       "A anova: 2 × 8\n",
       "\n",
       "| <!--/--> | npar &lt;dbl&gt; | AIC &lt;dbl&gt; | BIC &lt;dbl&gt; | logLik &lt;dbl&gt; | deviance &lt;dbl&gt; | Chisq &lt;dbl&gt; | Df &lt;dbl&gt; | Pr(&gt;Chisq) &lt;dbl&gt; |\n",
       "|---|---|---|---|---|---|---|---|---|\n",
       "| mod5 | 13 | 260.0125 | 306.0998 | -117.0062 | 234.0125 |       NA | NA |        NA |\n",
       "| mod4 | 16 | 262.9021 | 319.6249 | -115.4510 | 230.9021 | 3.110377 |  3 | 0.3749183 |\n",
       "\n"
      ],
      "text/plain": [
       "     npar AIC      BIC      logLik    deviance Chisq    Df Pr(>Chisq)\n",
       "mod5 13   260.0125 306.0998 -117.0062 234.0125       NA NA        NA \n",
       "mod4 16   262.9021 319.6249 -115.4510 230.9021 3.110377  3 0.3749183 "
      ]
     },
     "metadata": {},
     "output_type": "display_data"
    }
   ],
   "source": [
    "mod5 = update(mod4, . ~ . - Reward_Side:Visit)\n",
    "anova(mod4, mod5)"
   ]
  },
  {
   "cell_type": "markdown",
   "id": "6294c13b",
   "metadata": {},
   "source": [
    "mod4 is not significantly better than mod5 so we will keep mod5"
   ]
  },
  {
   "cell_type": "code",
   "execution_count": 42,
   "id": "055cfca5",
   "metadata": {},
   "outputs": [
    {
     "data": {
      "text/plain": [
       "Generalized linear mixed model fit by maximum likelihood (Laplace\n",
       "  Approximation) [glmerMod]\n",
       " Family: binomial  ( logit )\n",
       "Formula: Final_Decision_Binary ~ Reward_Side + Solution + TSM_Bin + Visit +  \n",
       "    (1 | Starvation_Period) + (1 | Collection_Date) + Solution:TSM_Bin +  \n",
       "    TSM_Bin:Visit\n",
       "   Data: ELP_09\n",
       "Control: glmerControl(optimizer = \"bobyqa\", optCtrl = list(maxfun = 1e+09))\n",
       "\n",
       "     AIC      BIC   logLik deviance df.resid \n",
       "   260.0    306.1   -117.0    234.0      243 \n",
       "\n",
       "Scaled residuals: \n",
       "    Min      1Q  Median      3Q     Max \n",
       "-5.5541  0.2012  0.3480  0.5337  1.3049 \n",
       "\n",
       "Random effects:\n",
       " Groups            Name        Variance Std.Dev.\n",
       " Collection_Date   (Intercept) 0.19608  0.4428  \n",
       " Starvation_Period (Intercept) 0.07384  0.2717  \n",
       "Number of obs: 256, groups:  Collection_Date, 4; Starvation_Period, 2\n",
       "\n",
       "Fixed effects:\n",
       "                                       Estimate Std. Error z value Pr(>|z|)    \n",
       "(Intercept)                              2.9063     0.7025   4.137 3.52e-05 ***\n",
       "Reward_SideR                            -1.2495     0.3594  -3.477 0.000508 ***\n",
       "Solution0.01mM Octopamine               -0.9229     0.4852  -1.902 0.057140 .  \n",
       "TSM_Bin30-60                            -0.6968     0.7740  -0.900 0.368024    \n",
       "Visit3                                   0.2495     0.7055   0.354 0.723574    \n",
       "Visit4                                  -0.2227     0.6662  -0.334 0.738218    \n",
       "Visit5                                  -0.6156     0.6457  -0.953 0.340433    \n",
       "Solution0.01mM Octopamine:TSM_Bin30-60   1.0646     0.6705   1.588 0.112328    \n",
       "TSM_Bin30-60:Visit3                     -0.6543     0.9509  -0.688 0.491413    \n",
       "TSM_Bin30-60:Visit4                     -0.1821     0.9218  -0.198 0.843394    \n",
       "TSM_Bin30-60:Visit5                      1.1326     0.9706   1.167 0.243230    \n",
       "---\n",
       "Signif. codes:  0 ‘***’ 0.001 ‘**’ 0.01 ‘*’ 0.05 ‘.’ 0.1 ‘ ’ 1\n",
       "\n",
       "Correlation of Fixed Effects:\n",
       "              (Intr) Rwr_SR Sl0.01MO TSM_Bn30-60 Visit3 Visit4 Visit5 S0.01MO:\n",
       "Reward_SidR   -0.376                                                          \n",
       "Sltn0.01mMO   -0.457  0.091                                                   \n",
       "TSM_Bn30-60   -0.612  0.026  0.390                                            \n",
       "Visit3        -0.460 -0.009 -0.011    0.422                                   \n",
       "Visit4        -0.508  0.010  0.011    0.457       0.495                       \n",
       "Visit5        -0.544  0.031  0.032    0.481       0.510  0.542                \n",
       "S0.01MO:TSM    0.313 -0.042 -0.719   -0.479       0.007 -0.007 -0.021         \n",
       "TSM_B30-60:V3  0.335  0.019  0.009   -0.612      -0.742 -0.367 -0.378 -0.009  \n",
       "TSM_B30-60:V4  0.360  0.005 -0.007   -0.639      -0.358 -0.722 -0.391  0.002  \n",
       "TSM_B30-60:V5  0.368 -0.032 -0.022   -0.618      -0.339 -0.361 -0.666  0.018  \n",
       "              TSM_B30-60:V3 TSM_B30-60:V4\n",
       "Reward_SidR                              \n",
       "Sltn0.01mMO                              \n",
       "TSM_Bn30-60                              \n",
       "Visit3                                   \n",
       "Visit4                                   \n",
       "Visit5                                   \n",
       "S0.01MO:TSM                              \n",
       "TSM_B30-60:V3                            \n",
       "TSM_B30-60:V4  0.519                     \n",
       "TSM_B30-60:V5  0.491         0.508       "
      ]
     },
     "metadata": {},
     "output_type": "display_data"
    },
    {
     "data": {
      "text/html": [
       "<table class=\"dataframe\">\n",
       "<caption>A anova: 6 × 3</caption>\n",
       "<thead>\n",
       "\t<tr><th></th><th scope=col>Chisq</th><th scope=col>Df</th><th scope=col>Pr(&gt;Chisq)</th></tr>\n",
       "\t<tr><th></th><th scope=col>&lt;dbl&gt;</th><th scope=col>&lt;dbl&gt;</th><th scope=col>&lt;dbl&gt;</th></tr>\n",
       "</thead>\n",
       "<tbody>\n",
       "\t<tr><th scope=row>Reward_Side</th><td>12.08630222</td><td>1</td><td>0.0005079361</td></tr>\n",
       "\t<tr><th scope=row>Solution</th><td> 1.19694015</td><td>1</td><td>0.2739341028</td></tr>\n",
       "\t<tr><th scope=row>TSM_Bin</th><td> 0.02890483</td><td>1</td><td>0.8649989711</td></tr>\n",
       "\t<tr><th scope=row>Visit</th><td> 0.48758522</td><td>3</td><td>0.9216102952</td></tr>\n",
       "\t<tr><th scope=row>Solution:TSM_Bin</th><td> 2.52116172</td><td>1</td><td>0.1123278052</td></tr>\n",
       "\t<tr><th scope=row>TSM_Bin:Visit</th><td> 3.64165884</td><td>3</td><td>0.3028488306</td></tr>\n",
       "</tbody>\n",
       "</table>\n"
      ],
      "text/latex": [
       "A anova: 6 × 3\n",
       "\\begin{tabular}{r|lll}\n",
       "  & Chisq & Df & Pr(>Chisq)\\\\\n",
       "  & <dbl> & <dbl> & <dbl>\\\\\n",
       "\\hline\n",
       "\tReward\\_Side & 12.08630222 & 1 & 0.0005079361\\\\\n",
       "\tSolution &  1.19694015 & 1 & 0.2739341028\\\\\n",
       "\tTSM\\_Bin &  0.02890483 & 1 & 0.8649989711\\\\\n",
       "\tVisit &  0.48758522 & 3 & 0.9216102952\\\\\n",
       "\tSolution:TSM\\_Bin &  2.52116172 & 1 & 0.1123278052\\\\\n",
       "\tTSM\\_Bin:Visit &  3.64165884 & 3 & 0.3028488306\\\\\n",
       "\\end{tabular}\n"
      ],
      "text/markdown": [
       "\n",
       "A anova: 6 × 3\n",
       "\n",
       "| <!--/--> | Chisq &lt;dbl&gt; | Df &lt;dbl&gt; | Pr(&gt;Chisq) &lt;dbl&gt; |\n",
       "|---|---|---|---|\n",
       "| Reward_Side | 12.08630222 | 1 | 0.0005079361 |\n",
       "| Solution |  1.19694015 | 1 | 0.2739341028 |\n",
       "| TSM_Bin |  0.02890483 | 1 | 0.8649989711 |\n",
       "| Visit |  0.48758522 | 3 | 0.9216102952 |\n",
       "| Solution:TSM_Bin |  2.52116172 | 1 | 0.1123278052 |\n",
       "| TSM_Bin:Visit |  3.64165884 | 3 | 0.3028488306 |\n",
       "\n"
      ],
      "text/plain": [
       "                 Chisq       Df Pr(>Chisq)  \n",
       "Reward_Side      12.08630222 1  0.0005079361\n",
       "Solution          1.19694015 1  0.2739341028\n",
       "TSM_Bin           0.02890483 1  0.8649989711\n",
       "Visit             0.48758522 3  0.9216102952\n",
       "Solution:TSM_Bin  2.52116172 1  0.1123278052\n",
       "TSM_Bin:Visit     3.64165884 3  0.3028488306"
      ]
     },
     "metadata": {},
     "output_type": "display_data"
    },
    {
     "data": {
      "text/html": [
       "<style>\n",
       ".list-inline {list-style: none; margin:0; padding: 0}\n",
       ".list-inline>li {display: inline-block}\n",
       ".list-inline>li:not(:last-child)::after {content: \"\\00b7\"; padding: 0 .5ex}\n",
       "</style>\n",
       "<ol class=list-inline><li>'Reward_Side'</li><li>'Solution:TSM_Bin'</li><li>'TSM_Bin:Visit'</li></ol>\n"
      ],
      "text/latex": [
       "\\begin{enumerate*}\n",
       "\\item 'Reward\\_Side'\n",
       "\\item 'Solution:TSM\\_Bin'\n",
       "\\item 'TSM\\_Bin:Visit'\n",
       "\\end{enumerate*}\n"
      ],
      "text/markdown": [
       "1. 'Reward_Side'\n",
       "2. 'Solution:TSM_Bin'\n",
       "3. 'TSM_Bin:Visit'\n",
       "\n",
       "\n"
      ],
      "text/plain": [
       "[1] \"Reward_Side\"      \"Solution:TSM_Bin\" \"TSM_Bin:Visit\"   "
      ]
     },
     "metadata": {},
     "output_type": "display_data"
    }
   ],
   "source": [
    "summary(mod5)\n",
    "Anova(mod5)\n",
    "drop.scope(mod5)"
   ]
  },
  {
   "cell_type": "code",
   "execution_count": 43,
   "id": "b9a2aa54",
   "metadata": {
    "scrolled": true
   },
   "outputs": [
    {
     "data": {
      "text/html": [
       "<table class=\"dataframe\">\n",
       "<caption>A anova: 2 × 8</caption>\n",
       "<thead>\n",
       "\t<tr><th></th><th scope=col>npar</th><th scope=col>AIC</th><th scope=col>BIC</th><th scope=col>logLik</th><th scope=col>deviance</th><th scope=col>Chisq</th><th scope=col>Df</th><th scope=col>Pr(&gt;Chisq)</th></tr>\n",
       "\t<tr><th></th><th scope=col>&lt;dbl&gt;</th><th scope=col>&lt;dbl&gt;</th><th scope=col>&lt;dbl&gt;</th><th scope=col>&lt;dbl&gt;</th><th scope=col>&lt;dbl&gt;</th><th scope=col>&lt;dbl&gt;</th><th scope=col>&lt;dbl&gt;</th><th scope=col>&lt;dbl&gt;</th></tr>\n",
       "</thead>\n",
       "<tbody>\n",
       "\t<tr><th scope=row>mod6</th><td>10</td><td>257.8126</td><td>293.2643</td><td>-118.9063</td><td>237.8126</td><td>      NA</td><td>NA</td><td>       NA</td></tr>\n",
       "\t<tr><th scope=row>mod5</th><td>13</td><td>260.0125</td><td>306.0998</td><td>-117.0062</td><td>234.0125</td><td>3.800093</td><td> 3</td><td>0.2838753</td></tr>\n",
       "</tbody>\n",
       "</table>\n"
      ],
      "text/latex": [
       "A anova: 2 × 8\n",
       "\\begin{tabular}{r|llllllll}\n",
       "  & npar & AIC & BIC & logLik & deviance & Chisq & Df & Pr(>Chisq)\\\\\n",
       "  & <dbl> & <dbl> & <dbl> & <dbl> & <dbl> & <dbl> & <dbl> & <dbl>\\\\\n",
       "\\hline\n",
       "\tmod6 & 10 & 257.8126 & 293.2643 & -118.9063 & 237.8126 &       NA & NA &        NA\\\\\n",
       "\tmod5 & 13 & 260.0125 & 306.0998 & -117.0062 & 234.0125 & 3.800093 &  3 & 0.2838753\\\\\n",
       "\\end{tabular}\n"
      ],
      "text/markdown": [
       "\n",
       "A anova: 2 × 8\n",
       "\n",
       "| <!--/--> | npar &lt;dbl&gt; | AIC &lt;dbl&gt; | BIC &lt;dbl&gt; | logLik &lt;dbl&gt; | deviance &lt;dbl&gt; | Chisq &lt;dbl&gt; | Df &lt;dbl&gt; | Pr(&gt;Chisq) &lt;dbl&gt; |\n",
       "|---|---|---|---|---|---|---|---|---|\n",
       "| mod6 | 10 | 257.8126 | 293.2643 | -118.9063 | 237.8126 |       NA | NA |        NA |\n",
       "| mod5 | 13 | 260.0125 | 306.0998 | -117.0062 | 234.0125 | 3.800093 |  3 | 0.2838753 |\n",
       "\n"
      ],
      "text/plain": [
       "     npar AIC      BIC      logLik    deviance Chisq    Df Pr(>Chisq)\n",
       "mod6 10   257.8126 293.2643 -118.9063 237.8126       NA NA        NA \n",
       "mod5 13   260.0125 306.0998 -117.0062 234.0125 3.800093  3 0.2838753 "
      ]
     },
     "metadata": {},
     "output_type": "display_data"
    }
   ],
   "source": [
    "mod6 = update(mod5, . ~ . - TSM_Bin:Visit)\n",
    "anova(mod5, mod6)"
   ]
  },
  {
   "cell_type": "markdown",
   "id": "41460584",
   "metadata": {},
   "source": [
    "mod5 is not significantly better than mod6 so we will keep mod6"
   ]
  },
  {
   "cell_type": "code",
   "execution_count": 44,
   "id": "2229421f",
   "metadata": {
    "scrolled": false
   },
   "outputs": [
    {
     "data": {
      "text/plain": [
       "Generalized linear mixed model fit by maximum likelihood (Laplace\n",
       "  Approximation) [glmerMod]\n",
       " Family: binomial  ( logit )\n",
       "Formula: Final_Decision_Binary ~ Reward_Side + Solution + TSM_Bin + Visit +  \n",
       "    (1 | Starvation_Period) + (1 | Collection_Date) + Solution:TSM_Bin\n",
       "   Data: ELP_09\n",
       "Control: glmerControl(optimizer = \"bobyqa\", optCtrl = list(maxfun = 1e+09))\n",
       "\n",
       "     AIC      BIC   logLik deviance df.resid \n",
       "   257.8    293.3   -118.9    237.8      246 \n",
       "\n",
       "Scaled residuals: \n",
       "    Min      1Q  Median      3Q     Max \n",
       "-5.3542  0.2226  0.3527  0.5504  1.1290 \n",
       "\n",
       "Random effects:\n",
       " Groups            Name        Variance Std.Dev.\n",
       " Collection_Date   (Intercept) 0.18668  0.4321  \n",
       " Starvation_Period (Intercept) 0.07095  0.2664  \n",
       "Number of obs: 256, groups:  Collection_Date, 4; Starvation_Period, 2\n",
       "\n",
       "Fixed effects:\n",
       "                                       Estimate Std. Error z value Pr(>|z|)    \n",
       "(Intercept)                              2.8480     0.6241   4.564 5.03e-06 ***\n",
       "Reward_SideR                            -1.2308     0.3562  -3.455  0.00055 ***\n",
       "Solution0.01mM Octopamine               -0.9091     0.4808  -1.891  0.05867 .  \n",
       "TSM_Bin30-60                            -0.6228     0.4945  -1.259  0.20786    \n",
       "Visit3                                  -0.1111     0.4698  -0.236  0.81313    \n",
       "Visit4                                  -0.3172     0.4599  -0.690  0.49033    \n",
       "Visit5                                  -0.1111     0.4698  -0.236  0.81313    \n",
       "Solution0.01mM Octopamine:TSM_Bin30-60   1.0474     0.6643   1.577  0.11490    \n",
       "---\n",
       "Signif. codes:  0 ‘***’ 0.001 ‘**’ 0.01 ‘*’ 0.05 ‘.’ 0.1 ‘ ’ 1\n",
       "\n",
       "Correlation of Fixed Effects:\n",
       "            (Intr) Rwr_SR Sl0.01MO TSM_B3 Visit3 Visit4 Visit5\n",
       "Reward_SidR -0.414                                            \n",
       "Sltn0.01mMO -0.503  0.088                                     \n",
       "TSM_Bn30-60 -0.479  0.035  0.594                              \n",
       "Visit3      -0.392  0.006  0.004    0.003                     \n",
       "Visit4      -0.411  0.020  0.012    0.008  0.525              \n",
       "Visit5      -0.392  0.006  0.004    0.003  0.514  0.525       \n",
       "S0.01MO:TSM  0.345 -0.040 -0.720   -0.737 -0.003 -0.010 -0.003"
      ]
     },
     "metadata": {},
     "output_type": "display_data"
    },
    {
     "data": {
      "text/html": [
       "<table class=\"dataframe\">\n",
       "<caption>A anova: 5 × 3</caption>\n",
       "<thead>\n",
       "\t<tr><th></th><th scope=col>Chisq</th><th scope=col>Df</th><th scope=col>Pr(&gt;Chisq)</th></tr>\n",
       "\t<tr><th></th><th scope=col>&lt;dbl&gt;</th><th scope=col>&lt;dbl&gt;</th><th scope=col>&lt;dbl&gt;</th></tr>\n",
       "</thead>\n",
       "<tbody>\n",
       "\t<tr><th scope=row>Reward_Side</th><td>11.9369673</td><td>1</td><td>0.0005503099</td></tr>\n",
       "\t<tr><th scope=row>Solution</th><td> 1.1854830</td><td>1</td><td>0.2762425823</td></tr>\n",
       "\t<tr><th scope=row>TSM_Bin</th><td> 0.0211024</td><td>1</td><td>0.8845003312</td></tr>\n",
       "\t<tr><th scope=row>Visit</th><td> 0.5086390</td><td>3</td><td>0.9169894117</td></tr>\n",
       "\t<tr><th scope=row>Solution:TSM_Bin</th><td> 2.4855615</td><td>1</td><td>0.1148953400</td></tr>\n",
       "</tbody>\n",
       "</table>\n"
      ],
      "text/latex": [
       "A anova: 5 × 3\n",
       "\\begin{tabular}{r|lll}\n",
       "  & Chisq & Df & Pr(>Chisq)\\\\\n",
       "  & <dbl> & <dbl> & <dbl>\\\\\n",
       "\\hline\n",
       "\tReward\\_Side & 11.9369673 & 1 & 0.0005503099\\\\\n",
       "\tSolution &  1.1854830 & 1 & 0.2762425823\\\\\n",
       "\tTSM\\_Bin &  0.0211024 & 1 & 0.8845003312\\\\\n",
       "\tVisit &  0.5086390 & 3 & 0.9169894117\\\\\n",
       "\tSolution:TSM\\_Bin &  2.4855615 & 1 & 0.1148953400\\\\\n",
       "\\end{tabular}\n"
      ],
      "text/markdown": [
       "\n",
       "A anova: 5 × 3\n",
       "\n",
       "| <!--/--> | Chisq &lt;dbl&gt; | Df &lt;dbl&gt; | Pr(&gt;Chisq) &lt;dbl&gt; |\n",
       "|---|---|---|---|\n",
       "| Reward_Side | 11.9369673 | 1 | 0.0005503099 |\n",
       "| Solution |  1.1854830 | 1 | 0.2762425823 |\n",
       "| TSM_Bin |  0.0211024 | 1 | 0.8845003312 |\n",
       "| Visit |  0.5086390 | 3 | 0.9169894117 |\n",
       "| Solution:TSM_Bin |  2.4855615 | 1 | 0.1148953400 |\n",
       "\n"
      ],
      "text/plain": [
       "                 Chisq      Df Pr(>Chisq)  \n",
       "Reward_Side      11.9369673 1  0.0005503099\n",
       "Solution          1.1854830 1  0.2762425823\n",
       "TSM_Bin           0.0211024 1  0.8845003312\n",
       "Visit             0.5086390 3  0.9169894117\n",
       "Solution:TSM_Bin  2.4855615 1  0.1148953400"
      ]
     },
     "metadata": {},
     "output_type": "display_data"
    },
    {
     "data": {
      "text/html": [
       "<style>\n",
       ".list-inline {list-style: none; margin:0; padding: 0}\n",
       ".list-inline>li {display: inline-block}\n",
       ".list-inline>li:not(:last-child)::after {content: \"\\00b7\"; padding: 0 .5ex}\n",
       "</style>\n",
       "<ol class=list-inline><li>'Reward_Side'</li><li>'Visit'</li><li>'Solution:TSM_Bin'</li></ol>\n"
      ],
      "text/latex": [
       "\\begin{enumerate*}\n",
       "\\item 'Reward\\_Side'\n",
       "\\item 'Visit'\n",
       "\\item 'Solution:TSM\\_Bin'\n",
       "\\end{enumerate*}\n"
      ],
      "text/markdown": [
       "1. 'Reward_Side'\n",
       "2. 'Visit'\n",
       "3. 'Solution:TSM_Bin'\n",
       "\n",
       "\n"
      ],
      "text/plain": [
       "[1] \"Reward_Side\"      \"Visit\"            \"Solution:TSM_Bin\""
      ]
     },
     "metadata": {},
     "output_type": "display_data"
    }
   ],
   "source": [
    "summary(mod6)\n",
    "Anova(mod6)\n",
    "drop.scope(mod6)"
   ]
  },
  {
   "cell_type": "code",
   "execution_count": 45,
   "id": "a6d1b9c0",
   "metadata": {},
   "outputs": [
    {
     "data": {
      "text/html": [
       "<table class=\"dataframe\">\n",
       "<caption>A anova: 2 × 8</caption>\n",
       "<thead>\n",
       "\t<tr><th></th><th scope=col>npar</th><th scope=col>AIC</th><th scope=col>BIC</th><th scope=col>logLik</th><th scope=col>deviance</th><th scope=col>Chisq</th><th scope=col>Df</th><th scope=col>Pr(&gt;Chisq)</th></tr>\n",
       "\t<tr><th></th><th scope=col>&lt;dbl&gt;</th><th scope=col>&lt;dbl&gt;</th><th scope=col>&lt;dbl&gt;</th><th scope=col>&lt;dbl&gt;</th><th scope=col>&lt;dbl&gt;</th><th scope=col>&lt;dbl&gt;</th><th scope=col>&lt;dbl&gt;</th><th scope=col>&lt;dbl&gt;</th></tr>\n",
       "</thead>\n",
       "<tbody>\n",
       "\t<tr><th scope=row>mod7</th><td> 9</td><td>258.3148</td><td>290.2214</td><td>-120.1574</td><td>240.3148</td><td>      NA</td><td>NA</td><td>       NA</td></tr>\n",
       "\t<tr><th scope=row>mod6</th><td>10</td><td>257.8126</td><td>293.2643</td><td>-118.9063</td><td>237.8126</td><td>2.502208</td><td> 1</td><td>0.1136868</td></tr>\n",
       "</tbody>\n",
       "</table>\n"
      ],
      "text/latex": [
       "A anova: 2 × 8\n",
       "\\begin{tabular}{r|llllllll}\n",
       "  & npar & AIC & BIC & logLik & deviance & Chisq & Df & Pr(>Chisq)\\\\\n",
       "  & <dbl> & <dbl> & <dbl> & <dbl> & <dbl> & <dbl> & <dbl> & <dbl>\\\\\n",
       "\\hline\n",
       "\tmod7 &  9 & 258.3148 & 290.2214 & -120.1574 & 240.3148 &       NA & NA &        NA\\\\\n",
       "\tmod6 & 10 & 257.8126 & 293.2643 & -118.9063 & 237.8126 & 2.502208 &  1 & 0.1136868\\\\\n",
       "\\end{tabular}\n"
      ],
      "text/markdown": [
       "\n",
       "A anova: 2 × 8\n",
       "\n",
       "| <!--/--> | npar &lt;dbl&gt; | AIC &lt;dbl&gt; | BIC &lt;dbl&gt; | logLik &lt;dbl&gt; | deviance &lt;dbl&gt; | Chisq &lt;dbl&gt; | Df &lt;dbl&gt; | Pr(&gt;Chisq) &lt;dbl&gt; |\n",
       "|---|---|---|---|---|---|---|---|---|\n",
       "| mod7 |  9 | 258.3148 | 290.2214 | -120.1574 | 240.3148 |       NA | NA |        NA |\n",
       "| mod6 | 10 | 257.8126 | 293.2643 | -118.9063 | 237.8126 | 2.502208 |  1 | 0.1136868 |\n",
       "\n"
      ],
      "text/plain": [
       "     npar AIC      BIC      logLik    deviance Chisq    Df Pr(>Chisq)\n",
       "mod7  9   258.3148 290.2214 -120.1574 240.3148       NA NA        NA \n",
       "mod6 10   257.8126 293.2643 -118.9063 237.8126 2.502208  1 0.1136868 "
      ]
     },
     "metadata": {},
     "output_type": "display_data"
    }
   ],
   "source": [
    "mod7 = update(mod6, . ~ . - Solution:TSM_Bin)\n",
    "anova(mod6, mod7)"
   ]
  },
  {
   "cell_type": "markdown",
   "id": "750cac2c",
   "metadata": {},
   "source": [
    "mod6 is not significantly better than mod7 so we will keep mod7"
   ]
  },
  {
   "cell_type": "code",
   "execution_count": 46,
   "id": "b6c82498",
   "metadata": {},
   "outputs": [
    {
     "data": {
      "text/plain": [
       "Generalized linear mixed model fit by maximum likelihood (Laplace\n",
       "  Approximation) [glmerMod]\n",
       " Family: binomial  ( logit )\n",
       "Formula: Final_Decision_Binary ~ Reward_Side + Solution + TSM_Bin + Visit +  \n",
       "    (1 | Starvation_Period) + (1 | Collection_Date)\n",
       "   Data: ELP_09\n",
       "Control: glmerControl(optimizer = \"bobyqa\", optCtrl = list(maxfun = 1e+09))\n",
       "\n",
       "     AIC      BIC   logLik deviance df.resid \n",
       "   258.3    290.2   -120.2    240.3      247 \n",
       "\n",
       "Scaled residuals: \n",
       "    Min      1Q  Median      3Q     Max \n",
       "-4.7652  0.2261  0.3636  0.5597  1.0193 \n",
       "\n",
       "Random effects:\n",
       " Groups            Name        Variance Std.Dev.\n",
       " Collection_Date   (Intercept) 0.21596  0.4647  \n",
       " Starvation_Period (Intercept) 0.07824  0.2797  \n",
       "Number of obs: 256, groups:  Collection_Date, 4; Starvation_Period, 2\n",
       "\n",
       "Fixed effects:\n",
       "                          Estimate Std. Error z value Pr(>|z|)    \n",
       "(Intercept)                2.54619    0.58749   4.334 1.46e-05 ***\n",
       "Reward_SideR              -1.22246    0.35363  -3.457 0.000546 ***\n",
       "Solution0.01mM Octopamine -0.37386    0.32913  -1.136 0.255993    \n",
       "TSM_Bin30-60              -0.05173    0.32906  -0.157 0.875090    \n",
       "Visit3                    -0.10986    0.46712  -0.235 0.814069    \n",
       "Visit4                    -0.31377    0.45722  -0.686 0.492560    \n",
       "Visit5                    -0.10986    0.46712  -0.235 0.814069    \n",
       "---\n",
       "Signif. codes:  0 ‘***’ 0.001 ‘**’ 0.01 ‘*’ 0.05 ‘.’ 0.1 ‘ ’ 1\n",
       "\n",
       "Correlation of Fixed Effects:\n",
       "            (Intr) Rwr_SR S0.01O TSM_B3 Visit3 Visit4\n",
       "Reward_SidR -0.433                                   \n",
       "Sltn0.01mMO -0.350  0.091                            \n",
       "TSM_Bn30-60 -0.310  0.018  0.013                     \n",
       "Visit3      -0.413  0.006  0.002  0.000              \n",
       "Visit4      -0.430  0.019  0.007  0.001  0.525       \n",
       "Visit5      -0.413  0.006  0.002  0.000  0.514  0.525"
      ]
     },
     "metadata": {},
     "output_type": "display_data"
    },
    {
     "data": {
      "text/html": [
       "<table class=\"dataframe\">\n",
       "<caption>A anova: 4 × 3</caption>\n",
       "<thead>\n",
       "\t<tr><th></th><th scope=col>Chisq</th><th scope=col>Df</th><th scope=col>Pr(&gt;Chisq)</th></tr>\n",
       "\t<tr><th></th><th scope=col>&lt;dbl&gt;</th><th scope=col>&lt;dbl&gt;</th><th scope=col>&lt;dbl&gt;</th></tr>\n",
       "</thead>\n",
       "<tbody>\n",
       "\t<tr><th scope=row>Reward_Side</th><td>11.95004498</td><td>1</td><td>0.0005464606</td></tr>\n",
       "\t<tr><th scope=row>Solution</th><td> 1.29030053</td><td>1</td><td>0.2559925739</td></tr>\n",
       "\t<tr><th scope=row>TSM_Bin</th><td> 0.02471059</td><td>1</td><td>0.8750903517</td></tr>\n",
       "\t<tr><th scope=row>Visit</th><td> 0.50343718</td><td>3</td><td>0.9181356322</td></tr>\n",
       "</tbody>\n",
       "</table>\n"
      ],
      "text/latex": [
       "A anova: 4 × 3\n",
       "\\begin{tabular}{r|lll}\n",
       "  & Chisq & Df & Pr(>Chisq)\\\\\n",
       "  & <dbl> & <dbl> & <dbl>\\\\\n",
       "\\hline\n",
       "\tReward\\_Side & 11.95004498 & 1 & 0.0005464606\\\\\n",
       "\tSolution &  1.29030053 & 1 & 0.2559925739\\\\\n",
       "\tTSM\\_Bin &  0.02471059 & 1 & 0.8750903517\\\\\n",
       "\tVisit &  0.50343718 & 3 & 0.9181356322\\\\\n",
       "\\end{tabular}\n"
      ],
      "text/markdown": [
       "\n",
       "A anova: 4 × 3\n",
       "\n",
       "| <!--/--> | Chisq &lt;dbl&gt; | Df &lt;dbl&gt; | Pr(&gt;Chisq) &lt;dbl&gt; |\n",
       "|---|---|---|---|\n",
       "| Reward_Side | 11.95004498 | 1 | 0.0005464606 |\n",
       "| Solution |  1.29030053 | 1 | 0.2559925739 |\n",
       "| TSM_Bin |  0.02471059 | 1 | 0.8750903517 |\n",
       "| Visit |  0.50343718 | 3 | 0.9181356322 |\n",
       "\n"
      ],
      "text/plain": [
       "            Chisq       Df Pr(>Chisq)  \n",
       "Reward_Side 11.95004498 1  0.0005464606\n",
       "Solution     1.29030053 1  0.2559925739\n",
       "TSM_Bin      0.02471059 1  0.8750903517\n",
       "Visit        0.50343718 3  0.9181356322"
      ]
     },
     "metadata": {},
     "output_type": "display_data"
    },
    {
     "data": {
      "text/html": [
       "<style>\n",
       ".list-inline {list-style: none; margin:0; padding: 0}\n",
       ".list-inline>li {display: inline-block}\n",
       ".list-inline>li:not(:last-child)::after {content: \"\\00b7\"; padding: 0 .5ex}\n",
       "</style>\n",
       "<ol class=list-inline><li>'Reward_Side'</li><li>'Solution'</li><li>'TSM_Bin'</li><li>'Visit'</li></ol>\n"
      ],
      "text/latex": [
       "\\begin{enumerate*}\n",
       "\\item 'Reward\\_Side'\n",
       "\\item 'Solution'\n",
       "\\item 'TSM\\_Bin'\n",
       "\\item 'Visit'\n",
       "\\end{enumerate*}\n"
      ],
      "text/markdown": [
       "1. 'Reward_Side'\n",
       "2. 'Solution'\n",
       "3. 'TSM_Bin'\n",
       "4. 'Visit'\n",
       "\n",
       "\n"
      ],
      "text/plain": [
       "[1] \"Reward_Side\" \"Solution\"    \"TSM_Bin\"     \"Visit\"      "
      ]
     },
     "metadata": {},
     "output_type": "display_data"
    }
   ],
   "source": [
    "summary(mod7)\n",
    "Anova(mod7)\n",
    "drop.scope(mod7)"
   ]
  },
  {
   "cell_type": "markdown",
   "id": "d976acef",
   "metadata": {},
   "source": [
    "Worth to mention from the model summary a significant decrease in success rate on the right side of the Y-maze and a slight, yet not significant, decrease in success rate under the influence of 0.01mM octopamine. Both Starvation_Period and Collection_Date explain a small amount of variance in the data."
   ]
  },
  {
   "cell_type": "code",
   "execution_count": 47,
   "id": "871dbb60",
   "metadata": {},
   "outputs": [
    {
     "data": {
      "text/html": [
       "<table class=\"dataframe\">\n",
       "<caption>A anova: 2 × 8</caption>\n",
       "<thead>\n",
       "\t<tr><th></th><th scope=col>npar</th><th scope=col>AIC</th><th scope=col>BIC</th><th scope=col>logLik</th><th scope=col>deviance</th><th scope=col>Chisq</th><th scope=col>Df</th><th scope=col>Pr(&gt;Chisq)</th></tr>\n",
       "\t<tr><th></th><th scope=col>&lt;dbl&gt;</th><th scope=col>&lt;dbl&gt;</th><th scope=col>&lt;dbl&gt;</th><th scope=col>&lt;dbl&gt;</th><th scope=col>&lt;dbl&gt;</th><th scope=col>&lt;dbl&gt;</th><th scope=col>&lt;dbl&gt;</th><th scope=col>&lt;dbl&gt;</th></tr>\n",
       "</thead>\n",
       "<tbody>\n",
       "\t<tr><th scope=row>mod7</th><td> 9</td><td>258.3148</td><td>290.2214</td><td>-120.1574</td><td>240.3148</td><td>      NA</td><td>NA</td><td>       NA</td></tr>\n",
       "\t<tr><th scope=row>mod1</th><td>21</td><td>271.5781</td><td>346.0269</td><td>-114.7891</td><td>229.5781</td><td>10.73662</td><td>12</td><td>0.5516149</td></tr>\n",
       "</tbody>\n",
       "</table>\n"
      ],
      "text/latex": [
       "A anova: 2 × 8\n",
       "\\begin{tabular}{r|llllllll}\n",
       "  & npar & AIC & BIC & logLik & deviance & Chisq & Df & Pr(>Chisq)\\\\\n",
       "  & <dbl> & <dbl> & <dbl> & <dbl> & <dbl> & <dbl> & <dbl> & <dbl>\\\\\n",
       "\\hline\n",
       "\tmod7 &  9 & 258.3148 & 290.2214 & -120.1574 & 240.3148 &       NA & NA &        NA\\\\\n",
       "\tmod1 & 21 & 271.5781 & 346.0269 & -114.7891 & 229.5781 & 10.73662 & 12 & 0.5516149\\\\\n",
       "\\end{tabular}\n"
      ],
      "text/markdown": [
       "\n",
       "A anova: 2 × 8\n",
       "\n",
       "| <!--/--> | npar &lt;dbl&gt; | AIC &lt;dbl&gt; | BIC &lt;dbl&gt; | logLik &lt;dbl&gt; | deviance &lt;dbl&gt; | Chisq &lt;dbl&gt; | Df &lt;dbl&gt; | Pr(&gt;Chisq) &lt;dbl&gt; |\n",
       "|---|---|---|---|---|---|---|---|---|\n",
       "| mod7 |  9 | 258.3148 | 290.2214 | -120.1574 | 240.3148 |       NA | NA |        NA |\n",
       "| mod1 | 21 | 271.5781 | 346.0269 | -114.7891 | 229.5781 | 10.73662 | 12 | 0.5516149 |\n",
       "\n"
      ],
      "text/plain": [
       "     npar AIC      BIC      logLik    deviance Chisq    Df Pr(>Chisq)\n",
       "mod7  9   258.3148 290.2214 -120.1574 240.3148       NA NA        NA \n",
       "mod1 21   271.5781 346.0269 -114.7891 229.5781 10.73662 12 0.5516149 "
      ]
     },
     "metadata": {},
     "output_type": "display_data"
    },
    {
     "data": {
      "image/png": "[encoded data removed]",
      "text/plain": [
       "Plot with title “QQ plot residuals”"
      ]
     },
     "metadata": {
      "image/png": {
       "height": 420,
       "width": 420
      }
     },
     "output_type": "display_data"
    }
   ],
   "source": [
    "anova(mod1, mod7)\n",
    "simres = simulateResiduals(mod6)\n",
    "plot(simres, asFactor = T)"
   ]
  },
  {
   "cell_type": "markdown",
   "id": "dd26ece4",
   "metadata": {},
   "source": [
    "mod1 is not significantly better than mod6 so we will keep mod7 - the diagnostic plots suggest mod7 is still a good fit.\n",
    "\n",
    "#### Model interpretation\n",
    "There is an effect of reward side:"
   ]
  },
  {
   "cell_type": "code",
   "execution_count": 49,
   "id": "89a4d3a5",
   "metadata": {
    "scrolled": true
   },
   "outputs": [
    {
     "data": {
      "text/plain": [
       " contrast odds.ratio  SE  df null z.ratio p.value\n",
       " L / R           3.4 1.2 Inf    1   3.457  0.0005\n",
       "\n",
       "Results are averaged over the levels of: Solution, TSM_Bin, Visit \n",
       "Tests are performed on the log odds ratio scale "
      ]
     },
     "metadata": {},
     "output_type": "display_data"
    }
   ],
   "source": [
    "meanobj = emmeans(mod7, ~Reward_Side, type = \"response\")\n",
    "pairs(meanobj, adjust = \"bonferroni\")"
   ]
  },
  {
   "cell_type": "markdown",
   "id": "246cc2fa",
   "metadata": {},
   "source": [
    "Ants tend to chose the left side of the Y-maze more often than the right side."
   ]
  },
  {
   "cell_type": "code",
   "execution_count": 50,
   "id": "5b7f8b40",
   "metadata": {},
   "outputs": [
    {
     "data": {
      "text/html": [
       "<table class=\"dataframe\">\n",
       "<caption>A summary_emm: 8 × 8</caption>\n",
       "<thead>\n",
       "\t<tr><th></th><th scope=col>TSM_Bin</th><th scope=col>Visit</th><th scope=col>prob</th><th scope=col>SE</th><th scope=col>df</th><th scope=col>null</th><th scope=col>z.ratio</th><th scope=col>p.value</th></tr>\n",
       "\t<tr><th></th><th scope=col>&lt;fct&gt;</th><th scope=col>&lt;fct&gt;</th><th scope=col>&lt;dbl&gt;</th><th scope=col>&lt;dbl&gt;</th><th scope=col>&lt;dbl&gt;</th><th scope=col>&lt;dbl&gt;</th><th scope=col>&lt;dbl&gt;</th><th scope=col>&lt;dbl&gt;</th></tr>\n",
       "</thead>\n",
       "<tbody>\n",
       "\t<tr><th scope=row>1</th><td>0-30 </td><td>2</td><td>0.8517040</td><td>0.06329740</td><td>Inf</td><td>0.5</td><td>3.488035</td><td>0.0004865841</td></tr>\n",
       "\t<tr><th scope=row>2</th><td>30-60</td><td>2</td><td>0.8450512</td><td>0.06455814</td><td>Inf</td><td>0.5</td><td>3.440515</td><td>0.0005806075</td></tr>\n",
       "\t<tr><th scope=row>3</th><td>0-30 </td><td>3</td><td>0.8372860</td><td>0.06732895</td><td>Inf</td><td>0.5</td><td>3.314793</td><td>0.0009171116</td></tr>\n",
       "\t<tr><th scope=row>4</th><td>30-60</td><td>3</td><td>0.8301153</td><td>0.06855009</td><td>Inf</td><td>0.5</td><td>3.263695</td><td>0.0010996953</td></tr>\n",
       "\t<tr><th scope=row>5</th><td>0-30 </td><td>4</td><td>0.8075647</td><td>0.07502659</td><td>Inf</td><td>0.5</td><td>2.970816</td><td>0.0029700991</td></tr>\n",
       "\t<tr><th scope=row>6</th><td>30-60</td><td>4</td><td>0.7993981</td><td>0.07613171</td><td>Inf</td><td>0.5</td><td>2.912120</td><td>0.0035898487</td></tr>\n",
       "\t<tr><th scope=row>7</th><td>0-30 </td><td>5</td><td>0.8372860</td><td>0.06732893</td><td>Inf</td><td>0.5</td><td>3.314793</td><td>0.0009171091</td></tr>\n",
       "\t<tr><th scope=row>8</th><td>30-60</td><td>5</td><td>0.8301153</td><td>0.06855011</td><td>Inf</td><td>0.5</td><td>3.263694</td><td>0.0010996992</td></tr>\n",
       "</tbody>\n",
       "</table>\n"
      ],
      "text/latex": [
       "A summary\\_emm: 8 × 8\n",
       "\\begin{tabular}{r|llllllll}\n",
       "  & TSM\\_Bin & Visit & prob & SE & df & null & z.ratio & p.value\\\\\n",
       "  & <fct> & <fct> & <dbl> & <dbl> & <dbl> & <dbl> & <dbl> & <dbl>\\\\\n",
       "\\hline\n",
       "\t1 & 0-30  & 2 & 0.8517040 & 0.06329740 & Inf & 0.5 & 3.488035 & 0.0004865841\\\\\n",
       "\t2 & 30-60 & 2 & 0.8450512 & 0.06455814 & Inf & 0.5 & 3.440515 & 0.0005806075\\\\\n",
       "\t3 & 0-30  & 3 & 0.8372860 & 0.06732895 & Inf & 0.5 & 3.314793 & 0.0009171116\\\\\n",
       "\t4 & 30-60 & 3 & 0.8301153 & 0.06855009 & Inf & 0.5 & 3.263695 & 0.0010996953\\\\\n",
       "\t5 & 0-30  & 4 & 0.8075647 & 0.07502659 & Inf & 0.5 & 2.970816 & 0.0029700991\\\\\n",
       "\t6 & 30-60 & 4 & 0.7993981 & 0.07613171 & Inf & 0.5 & 2.912120 & 0.0035898487\\\\\n",
       "\t7 & 0-30  & 5 & 0.8372860 & 0.06732893 & Inf & 0.5 & 3.314793 & 0.0009171091\\\\\n",
       "\t8 & 30-60 & 5 & 0.8301153 & 0.06855011 & Inf & 0.5 & 3.263694 & 0.0010996992\\\\\n",
       "\\end{tabular}\n"
      ],
      "text/markdown": [
       "\n",
       "A summary_emm: 8 × 8\n",
       "\n",
       "| <!--/--> | TSM_Bin &lt;fct&gt; | Visit &lt;fct&gt; | prob &lt;dbl&gt; | SE &lt;dbl&gt; | df &lt;dbl&gt; | null &lt;dbl&gt; | z.ratio &lt;dbl&gt; | p.value &lt;dbl&gt; |\n",
       "|---|---|---|---|---|---|---|---|---|\n",
       "| 1 | 0-30  | 2 | 0.8517040 | 0.06329740 | Inf | 0.5 | 3.488035 | 0.0004865841 |\n",
       "| 2 | 30-60 | 2 | 0.8450512 | 0.06455814 | Inf | 0.5 | 3.440515 | 0.0005806075 |\n",
       "| 3 | 0-30  | 3 | 0.8372860 | 0.06732895 | Inf | 0.5 | 3.314793 | 0.0009171116 |\n",
       "| 4 | 30-60 | 3 | 0.8301153 | 0.06855009 | Inf | 0.5 | 3.263695 | 0.0010996953 |\n",
       "| 5 | 0-30  | 4 | 0.8075647 | 0.07502659 | Inf | 0.5 | 2.970816 | 0.0029700991 |\n",
       "| 6 | 30-60 | 4 | 0.7993981 | 0.07613171 | Inf | 0.5 | 2.912120 | 0.0035898487 |\n",
       "| 7 | 0-30  | 5 | 0.8372860 | 0.06732893 | Inf | 0.5 | 3.314793 | 0.0009171091 |\n",
       "| 8 | 30-60 | 5 | 0.8301153 | 0.06855011 | Inf | 0.5 | 3.263694 | 0.0010996992 |\n",
       "\n"
      ],
      "text/plain": [
       "  TSM_Bin Visit prob      SE         df  null z.ratio  p.value     \n",
       "1 0-30    2     0.8517040 0.06329740 Inf 0.5  3.488035 0.0004865841\n",
       "2 30-60   2     0.8450512 0.06455814 Inf 0.5  3.440515 0.0005806075\n",
       "3 0-30    3     0.8372860 0.06732895 Inf 0.5  3.314793 0.0009171116\n",
       "4 30-60   3     0.8301153 0.06855009 Inf 0.5  3.263695 0.0010996953\n",
       "5 0-30    4     0.8075647 0.07502659 Inf 0.5  2.970816 0.0029700991\n",
       "6 30-60   4     0.7993981 0.07613171 Inf 0.5  2.912120 0.0035898487\n",
       "7 0-30    5     0.8372860 0.06732893 Inf 0.5  3.314793 0.0009171091\n",
       "8 30-60   5     0.8301153 0.06855011 Inf 0.5  3.263694 0.0010996992"
      ]
     },
     "metadata": {},
     "output_type": "display_data"
    }
   ],
   "source": [
    "meanobj = emmeans(mod7, ~TSM_Bin * Visit, type = \"response\")\n",
    "test(meanobj)"
   ]
  },
  {
   "cell_type": "markdown",
   "id": "fb4a35d1",
   "metadata": {},
   "source": [
    "All ants independent of time since marking had a success rate significantly different from chance (50%)."
   ]
  },
  {
   "cell_type": "code",
   "execution_count": 51,
   "id": "a91e65e8",
   "metadata": {},
   "outputs": [
    {
     "data": {
      "text/html": [
       "<table class=\"dataframe\">\n",
       "<caption>A summary_emm: 2 × 7</caption>\n",
       "<thead>\n",
       "\t<tr><th></th><th scope=col>Solution</th><th scope=col>prob</th><th scope=col>SE</th><th scope=col>df</th><th scope=col>null</th><th scope=col>z.ratio</th><th scope=col>p.value</th></tr>\n",
       "\t<tr><th></th><th scope=col>&lt;fct&gt;</th><th scope=col>&lt;dbl&gt;</th><th scope=col>&lt;dbl&gt;</th><th scope=col>&lt;dbl&gt;</th><th scope=col>&lt;dbl&gt;</th><th scope=col>&lt;dbl&gt;</th><th scope=col>&lt;dbl&gt;</th></tr>\n",
       "</thead>\n",
       "<tbody>\n",
       "\t<tr><th scope=row>1</th><td>Control          </td><td>0.8551682</td><td>0.05067403</td><td>Inf</td><td>0.5</td><td>4.340160</td><td>1.423787e-05</td></tr>\n",
       "\t<tr><th scope=row>2</th><td>0.01mM Octopamine</td><td>0.8024799</td><td>0.06202008</td><td>Inf</td><td>0.5</td><td>3.582777</td><td>3.399608e-04</td></tr>\n",
       "</tbody>\n",
       "</table>\n"
      ],
      "text/latex": [
       "A summary\\_emm: 2 × 7\n",
       "\\begin{tabular}{r|lllllll}\n",
       "  & Solution & prob & SE & df & null & z.ratio & p.value\\\\\n",
       "  & <fct> & <dbl> & <dbl> & <dbl> & <dbl> & <dbl> & <dbl>\\\\\n",
       "\\hline\n",
       "\t1 & Control           & 0.8551682 & 0.05067403 & Inf & 0.5 & 4.340160 & 1.423787e-05\\\\\n",
       "\t2 & 0.01mM Octopamine & 0.8024799 & 0.06202008 & Inf & 0.5 & 3.582777 & 3.399608e-04\\\\\n",
       "\\end{tabular}\n"
      ],
      "text/markdown": [
       "\n",
       "A summary_emm: 2 × 7\n",
       "\n",
       "| <!--/--> | Solution &lt;fct&gt; | prob &lt;dbl&gt; | SE &lt;dbl&gt; | df &lt;dbl&gt; | null &lt;dbl&gt; | z.ratio &lt;dbl&gt; | p.value &lt;dbl&gt; |\n",
       "|---|---|---|---|---|---|---|---|\n",
       "| 1 | Control           | 0.8551682 | 0.05067403 | Inf | 0.5 | 4.340160 | 1.423787e-05 |\n",
       "| 2 | 0.01mM Octopamine | 0.8024799 | 0.06202008 | Inf | 0.5 | 3.582777 | 3.399608e-04 |\n",
       "\n"
      ],
      "text/plain": [
       "  Solution          prob      SE         df  null z.ratio  p.value     \n",
       "1 Control           0.8551682 0.05067403 Inf 0.5  4.340160 1.423787e-05\n",
       "2 0.01mM Octopamine 0.8024799 0.06202008 Inf 0.5  3.582777 3.399608e-04"
      ]
     },
     "metadata": {},
     "output_type": "display_data"
    },
    {
     "data": {
      "text/plain": [
       " contrast                    odds.ratio    SE  df null z.ratio p.value\n",
       " Control / 0.01mM Octopamine       1.45 0.478 Inf    1   1.136  0.2560\n",
       "\n",
       "Results are averaged over the levels of: Reward_Side, TSM_Bin, Visit \n",
       "Tests are performed on the log odds ratio scale "
      ]
     },
     "metadata": {},
     "output_type": "display_data"
    }
   ],
   "source": [
    "meanobj = emmeans(mod7, ~Solution, type = \"response\")\n",
    "test(meanobj)\n",
    "pairs(meanobj, adjust = \"bonferroni\")"
   ]
  },
  {
   "cell_type": "markdown",
   "id": "64c68b9a",
   "metadata": {},
   "source": [
    "There was **no significant difference between control and 0.1mM octopamine** solutions suggesting octopamine has little to no effect on the ants ability to associate a reward with a side of the Y-maze."
   ]
  },
  {
   "cell_type": "code",
   "execution_count": 52,
   "id": "37948ae7",
   "metadata": {
    "scrolled": true
   },
   "outputs": [
    {
     "data": {
      "text/html": [
       "<table class=\"dataframe\">\n",
       "<caption>A summary_emm: 1 × 7</caption>\n",
       "<thead>\n",
       "\t<tr><th></th><th scope=col>1</th><th scope=col>prob</th><th scope=col>SE</th><th scope=col>df</th><th scope=col>null</th><th scope=col>z.ratio</th><th scope=col>p.value</th></tr>\n",
       "\t<tr><th></th><th scope=col>&lt;fct&gt;</th><th scope=col>&lt;dbl&gt;</th><th scope=col>&lt;dbl&gt;</th><th scope=col>&lt;dbl&gt;</th><th scope=col>&lt;dbl&gt;</th><th scope=col>&lt;dbl&gt;</th><th scope=col>&lt;dbl&gt;</th></tr>\n",
       "</thead>\n",
       "<tbody>\n",
       "\t<tr><th scope=row>1</th><td>overall</td><td>0.8304466</td><td>0.05138242</td><td>Inf</td><td>0.5</td><td>4.353833</td><td>1.337777e-05</td></tr>\n",
       "</tbody>\n",
       "</table>\n"
      ],
      "text/latex": [
       "A summary\\_emm: 1 × 7\n",
       "\\begin{tabular}{r|lllllll}\n",
       "  & 1 & prob & SE & df & null & z.ratio & p.value\\\\\n",
       "  & <fct> & <dbl> & <dbl> & <dbl> & <dbl> & <dbl> & <dbl>\\\\\n",
       "\\hline\n",
       "\t1 & overall & 0.8304466 & 0.05138242 & Inf & 0.5 & 4.353833 & 1.337777e-05\\\\\n",
       "\\end{tabular}\n"
      ],
      "text/markdown": [
       "\n",
       "A summary_emm: 1 × 7\n",
       "\n",
       "| <!--/--> | 1 &lt;fct&gt; | prob &lt;dbl&gt; | SE &lt;dbl&gt; | df &lt;dbl&gt; | null &lt;dbl&gt; | z.ratio &lt;dbl&gt; | p.value &lt;dbl&gt; |\n",
       "|---|---|---|---|---|---|---|---|\n",
       "| 1 | overall | 0.8304466 | 0.05138242 | Inf | 0.5 | 4.353833 | 1.337777e-05 |\n",
       "\n"
      ],
      "text/plain": [
       "  1       prob      SE         df  null z.ratio  p.value     \n",
       "1 overall 0.8304466 0.05138242 Inf 0.5  4.353833 1.337777e-05"
      ]
     },
     "metadata": {},
     "output_type": "display_data"
    }
   ],
   "source": [
    "meanobj = emmeans(mod7, ~1, type = \"response\")\n",
    "test(meanobj)"
   ]
  },
  {
   "cell_type": "markdown",
   "id": "d9f9483a",
   "metadata": {},
   "source": [
    "Overall, the ants successfully associated the presence of a reward with a side of the Y-maze with a **83%** success rate, a percentage significantly different from chance level (50%)."
   ]
  },
  {
   "cell_type": "code",
   "execution_count": 32,
   "id": "23c002cc",
   "metadata": {},
   "outputs": [
    {
     "data": {
      "text/plain": [
       "R version 4.1.0 (2021-05-18)\n",
       "Platform: x86_64-apple-darwin17.0 (64-bit)\n",
       "Running under: macOS Big Sur 10.16\n",
       "\n",
       "Matrix products: default\n",
       "BLAS:   /Library/Frameworks/R.framework/Versions/4.1/Resources/lib/libRblas.dylib\n",
       "LAPACK: /Library/Frameworks/R.framework/Versions/4.1/Resources/lib/libRlapack.dylib\n",
       "\n",
       "locale:\n",
       "[1] C/UTF-8/C/C/C/C\n",
       "\n",
       "attached base packages:\n",
       "[1] stats     graphics  grDevices utils     datasets  methods   base     \n",
       "\n",
       "other attached packages:\n",
       "[1] emmeans_1.7.3  car_3.0-12     carData_3.0-5  DHARMa_0.4.5   lme4_1.1-27.1 \n",
       "[6] Matrix_1.3-3   reshape2_1.4.4\n",
       "\n",
       "loaded via a namespace (and not attached):\n",
       " [1] gap_1.2.3-1         Rcpp_1.0.7          pillar_1.6.3       \n",
       " [4] compiler_4.1.0      nloptr_1.2.2.2      plyr_1.8.7         \n",
       " [7] base64enc_0.1-3     tools_4.1.0         boot_1.3-28        \n",
       "[10] digest_0.6.28       uuid_0.1-4          jsonlite_1.7.2     \n",
       "[13] evaluate_0.14       lifecycle_1.0.1     nlme_3.1-152       \n",
       "[16] lattice_0.20-44     rlang_0.4.11        IRdisplay_1.0      \n",
       "[19] IRkernel_1.2.0.9000 mvtnorm_1.1-3       fastmap_1.1.0      \n",
       "[22] coda_0.19-4         repr_1.1.3          stringr_1.4.0      \n",
       "[25] vctrs_0.3.8         grid_4.1.0          fansi_0.5.0        \n",
       "[28] pbdZMQ_0.3-5        minqa_1.2.4         magrittr_2.0.1     \n",
       "[31] ellipsis_0.3.2      htmltools_0.5.2     splines_4.1.0      \n",
       "[34] MASS_7.3-54         abind_1.4-5         xtable_1.8-4       \n",
       "[37] utf8_1.2.2          estimability_1.3    stringi_1.7.4      \n",
       "[40] crayon_1.4.1       "
      ]
     },
     "metadata": {},
     "output_type": "display_data"
    }
   ],
   "source": [
    "sessionInfo()"
   ]
  }
 ],
 "metadata": {
  "kernelspec": {
   "display_name": "R",
   "language": "R",
   "name": "ir"
  },
  "language_info": {
   "codemirror_mode": "r",
   "file_extension": ".r",
   "mimetype": "text/x-r-source",
   "name": "R",
   "pygments_lexer": "r",
   "version": "4.1.0"
  }
 },
 "nbformat": 4,
 "nbformat_minor": 5
}
