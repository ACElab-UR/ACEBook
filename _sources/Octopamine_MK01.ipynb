{
 "cells": [
  {
   "cell_type": "markdown",
   "id": "cea20812",
   "metadata": {},
   "source": [
    "# Octopamine Side Learning Y-maze"
   ]
  },
  {
   "cell_type": "markdown",
   "id": "79e6dea0",
   "metadata": {},
   "source": [
    "## Load packages"
   ]
  },
  {
   "cell_type": "code",
   "execution_count": 1,
   "id": "c3f5f22d",
   "metadata": {
    "vscode": {
     "languageId": "r"
    }
   },
   "outputs": [
    {
     "name": "stderr",
     "output_type": "stream",
     "text": [
      "Loading required package: reshape2\n",
      "\n",
      "Loading required package: lme4\n",
      "\n",
      "Loading required package: Matrix\n",
      "\n",
      "Loading required package: emmeans\n",
      "\n",
      "Loading required package: DHARMa\n",
      "\n",
      "This is DHARMa 0.4.5. For overview type '?DHARMa'. For recent changes, type news(package = 'DHARMa')\n",
      "\n",
      "Loading required package: AICcmodavg\n",
      "\n",
      "\n",
      "Attaching package: ‘AICcmodavg’\n",
      "\n",
      "\n",
      "The following object is masked from ‘package:lme4’:\n",
      "\n",
      "    checkConv\n",
      "\n",
      "\n"
     ]
    }
   ],
   "source": [
    "require(reshape2) # For data handling\n",
    "require(lme4) # Linear mixed-effects models\n",
    "require(emmeans) # Post-hoc analysis on the model\n",
    "require(DHARMa) # Evaluate model fit\n",
    "require(AICcmodavg) # For model selection and averaging"
   ]
  },
  {
   "cell_type": "markdown",
   "id": "7e6f6c9d",
   "metadata": {},
   "source": [
    "## Clean-up"
   ]
  },
  {
   "cell_type": "code",
   "execution_count": 2,
   "id": "6610d1f2",
   "metadata": {
    "vscode": {
     "languageId": "r"
    }
   },
   "outputs": [],
   "source": [
    "rm(list = ls()) # Remove variables/objects\n",
    "graphics.off() # Close any open graphics"
   ]
  },
  {
   "cell_type": "markdown",
   "id": "41a962ab",
   "metadata": {},
   "source": [
    "## Load data"
   ]
  },
  {
   "cell_type": "code",
   "execution_count": 3,
   "id": "a1533b22",
   "metadata": {
    "vscode": {
     "languageId": "r"
    }
   },
   "outputs": [
    {
     "data": {
      "text/html": [
       "<table class=\"dataframe\">\n",
       "<caption>A data.frame: 1 × 28</caption>\n",
       "<thead>\n",
       "\t<tr><th></th><th scope=col>Collection_Date</th><th scope=col>Time_Collection</th><th scope=col>Experimentor</th><th scope=col>Temperature</th><th scope=col>Colony_Origin</th><th scope=col>Starvation_Period</th><th scope=col>Donor_Colony</th><th scope=col>Recipient_Colony</th><th scope=col>Ant_ID</th><th scope=col>Visit</th><th scope=col>⋯</th><th scope=col>Out_Duration</th><th scope=col>Bridge_Nest_Duration</th><th scope=col>Total_Duration_Minutes</th><th scope=col>Trophallaxis</th><th scope=col>Full</th><th scope=col>Experiment</th><th scope=col>Initial_Binary</th><th scope=col>Final_Binary</th><th scope=col>Switched_Binary</th><th scope=col>TSM_Bin</th></tr>\n",
       "\t<tr><th></th><th scope=col>&lt;chr&gt;</th><th scope=col>&lt;chr&gt;</th><th scope=col>&lt;chr&gt;</th><th scope=col>&lt;dbl&gt;</th><th scope=col>&lt;chr&gt;</th><th scope=col>&lt;chr&gt;</th><th scope=col>&lt;int&gt;</th><th scope=col>&lt;int&gt;</th><th scope=col>&lt;int&gt;</th><th scope=col>&lt;int&gt;</th><th scope=col>⋯</th><th scope=col>&lt;int&gt;</th><th scope=col>&lt;int&gt;</th><th scope=col>&lt;dbl&gt;</th><th scope=col>&lt;chr&gt;</th><th scope=col>&lt;chr&gt;</th><th scope=col>&lt;int&gt;</th><th scope=col>&lt;int&gt;</th><th scope=col>&lt;int&gt;</th><th scope=col>&lt;int&gt;</th><th scope=col>&lt;chr&gt;</th></tr>\n",
       "</thead>\n",
       "<tbody>\n",
       "\t<tr><th scope=row>389</th><td>04.04.22</td><td>11:20</td><td>Laura Neubauer</td><td>24.9</td><td>5th November - Spain / 9th April - Spain</td><td>4-days</td><td>32</td><td>7</td><td>1</td><td>2</td><td>⋯</td><td>17</td><td>482</td><td>9.6</td><td>Yes</td><td>No</td><td>2</td><td>1</td><td>1</td><td>0</td><td>0-30</td></tr>\n",
       "</tbody>\n",
       "</table>\n"
      ],
      "text/latex": [
       "A data.frame: 1 × 28\n",
       "\\begin{tabular}{r|lllllllllllllllllllll}\n",
       "  & Collection\\_Date & Time\\_Collection & Experimentor & Temperature & Colony\\_Origin & Starvation\\_Period & Donor\\_Colony & Recipient\\_Colony & Ant\\_ID & Visit & ⋯ & Out\\_Duration & Bridge\\_Nest\\_Duration & Total\\_Duration\\_Minutes & Trophallaxis & Full & Experiment & Initial\\_Binary & Final\\_Binary & Switched\\_Binary & TSM\\_Bin\\\\\n",
       "  & <chr> & <chr> & <chr> & <dbl> & <chr> & <chr> & <int> & <int> & <int> & <int> & ⋯ & <int> & <int> & <dbl> & <chr> & <chr> & <int> & <int> & <int> & <int> & <chr>\\\\\n",
       "\\hline\n",
       "\t389 & 04.04.22 & 11:20 & Laura Neubauer & 24.9 & 5th November - Spain / 9th April - Spain & 4-days & 32 & 7 & 1 & 2 & ⋯ & 17 & 482 & 9.6 & Yes & No & 2 & 1 & 1 & 0 & 0-30\\\\\n",
       "\\end{tabular}\n"
      ],
      "text/markdown": [
       "\n",
       "A data.frame: 1 × 28\n",
       "\n",
       "| <!--/--> | Collection_Date &lt;chr&gt; | Time_Collection &lt;chr&gt; | Experimentor &lt;chr&gt; | Temperature &lt;dbl&gt; | Colony_Origin &lt;chr&gt; | Starvation_Period &lt;chr&gt; | Donor_Colony &lt;int&gt; | Recipient_Colony &lt;int&gt; | Ant_ID &lt;int&gt; | Visit &lt;int&gt; | ⋯ ⋯ | Out_Duration &lt;int&gt; | Bridge_Nest_Duration &lt;int&gt; | Total_Duration_Minutes &lt;dbl&gt; | Trophallaxis &lt;chr&gt; | Full &lt;chr&gt; | Experiment &lt;int&gt; | Initial_Binary &lt;int&gt; | Final_Binary &lt;int&gt; | Switched_Binary &lt;int&gt; | TSM_Bin &lt;chr&gt; |\n",
       "|---|---|---|---|---|---|---|---|---|---|---|---|---|---|---|---|---|---|---|---|---|---|\n",
       "| 389 | 04.04.22 | 11:20 | Laura Neubauer | 24.9 | 5th November - Spain / 9th April - Spain | 4-days | 32 | 7 | 1 | 2 | ⋯ | 17 | 482 | 9.6 | Yes | No | 2 | 1 | 1 | 0 | 0-30 |\n",
       "\n"
      ],
      "text/plain": [
       "    Collection_Date Time_Collection Experimentor   Temperature\n",
       "389 04.04.22        11:20           Laura Neubauer 24.9       \n",
       "    Colony_Origin                            Starvation_Period Donor_Colony\n",
       "389 5th November - Spain / 9th April - Spain 4-days            32          \n",
       "    Recipient_Colony Ant_ID Visit ⋯ Out_Duration Bridge_Nest_Duration\n",
       "389 7                1      2     ⋯ 17           482                 \n",
       "    Total_Duration_Minutes Trophallaxis Full Experiment Initial_Binary\n",
       "389 9.6                    Yes          No   2          1             \n",
       "    Final_Binary Switched_Binary TSM_Bin\n",
       "389 1            0               0-30   "
      ]
     },
     "metadata": {},
     "output_type": "display_data"
    }
   ],
   "source": [
    "ELP = read.csv(\"./Data/All/ELP_all.csv\")\n",
    "ELP = subset(ELP, ELP$Experiment == \"2\") # Subset for Octopamine experiment\n",
    "head(ELP, n = 1) # Check it was loaded correctly"
   ]
  },
  {
   "cell_type": "markdown",
   "id": "a5b0f172",
   "metadata": {},
   "source": [
    "## Ensure relevant variables are factors"
   ]
  },
  {
   "cell_type": "code",
   "execution_count": 4,
   "id": "e361d2b6",
   "metadata": {
    "vscode": {
     "languageId": "r"
    }
   },
   "outputs": [],
   "source": [
    "ELP$Collection_Date = as.factor(ELP$Collection_Date)\n",
    "ELP$Experimentor = as.factor(ELP$Experimentor)\n",
    "ELP$Starvation_Period = as.factor(ELP$Starvation_Period)\n",
    "ELP$Colony_ID = as.factor(paste0(ELP$Donor_Colony, \"_\", ELP$Recipient_Colony))\n",
    "ELP$Ant_ID = as.factor(ELP$Ant_ID)\n",
    "\n",
    "ELP$Visit = as.factor(ELP$Visit)\n",
    "ELP$Solution = as.factor(ELP$Solution)\n",
    "ELP$Solution = relevel(ELP$Solution, \"Control\")\n",
    "ELP$Reward_Side = as.factor(ELP$Reward_Side)\n",
    "ELP$TSM_Bin = as.factor(ELP$TSM_Bin)\n",
    "\n",
    "ELP$Initial_Binary = as.factor(ELP$Initial_Binary)\n",
    "ELP$Final_Binary = as.factor(ELP$Final_Binary)"
   ]
  },
  {
   "cell_type": "markdown",
   "id": "55165eb0",
   "metadata": {},
   "source": [
    "## Identify relevant random effects"
   ]
  },
  {
   "cell_type": "code",
   "execution_count": 5,
   "id": "3bc43cbf",
   "metadata": {
    "scrolled": false,
    "vscode": {
     "languageId": "r"
    }
   },
   "outputs": [
    {
     "data": {
      "text/html": [
       "<style>\n",
       ".list-inline {list-style: none; margin:0; padding: 0}\n",
       ".list-inline>li {display: inline-block}\n",
       ".list-inline>li:not(:last-child)::after {content: \"\\00b7\"; padding: 0 .5ex}\n",
       "</style>\n",
       "<ol class=list-inline><li>04.04.22</li><li>05.04.22</li><li>06.04.22</li><li>07.04.22</li></ol>\n",
       "\n",
       "<details>\n",
       "\t<summary style=display:list-item;cursor:pointer>\n",
       "\t\t<strong>Levels</strong>:\n",
       "\t</summary>\n",
       "\t<style>\n",
       "\t.list-inline {list-style: none; margin:0; padding: 0}\n",
       "\t.list-inline>li {display: inline-block}\n",
       "\t.list-inline>li:not(:last-child)::after {content: \"\\00b7\"; padding: 0 .5ex}\n",
       "\t</style>\n",
       "\t<ol class=list-inline><li>'04.04.22'</li><li>'05.04.22'</li><li>'06.04.22'</li><li>'07.04.22'</li></ol>\n",
       "</details>"
      ],
      "text/latex": [
       "\\begin{enumerate*}\n",
       "\\item 04.04.22\n",
       "\\item 05.04.22\n",
       "\\item 06.04.22\n",
       "\\item 07.04.22\n",
       "\\end{enumerate*}\n",
       "\n",
       "\\emph{Levels}: \\begin{enumerate*}\n",
       "\\item '04.04.22'\n",
       "\\item '05.04.22'\n",
       "\\item '06.04.22'\n",
       "\\item '07.04.22'\n",
       "\\end{enumerate*}\n"
      ],
      "text/markdown": [
       "1. 04.04.22\n",
       "2. 05.04.22\n",
       "3. 06.04.22\n",
       "4. 07.04.22\n",
       "\n",
       "\n",
       "\n",
       "**Levels**: 1. '04.04.22'\n",
       "2. '05.04.22'\n",
       "3. '06.04.22'\n",
       "4. '07.04.22'\n",
       "\n",
       "\n"
      ],
      "text/plain": [
       "[1] 04.04.22 05.04.22 06.04.22 07.04.22\n",
       "Levels: 04.04.22 05.04.22 06.04.22 07.04.22"
      ]
     },
     "metadata": {},
     "output_type": "display_data"
    },
    {
     "data": {
      "text/html": [
       "<style>\n",
       ".list-inline {list-style: none; margin:0; padding: 0}\n",
       ".list-inline>li {display: inline-block}\n",
       ".list-inline>li:not(:last-child)::after {content: \"\\00b7\"; padding: 0 .5ex}\n",
       "</style>\n",
       "<ol class=list-inline><li>Laura Neubauer</li><li>Stefanie Kau</li></ol>\n",
       "\n",
       "<details>\n",
       "\t<summary style=display:list-item;cursor:pointer>\n",
       "\t\t<strong>Levels</strong>:\n",
       "\t</summary>\n",
       "\t<style>\n",
       "\t.list-inline {list-style: none; margin:0; padding: 0}\n",
       "\t.list-inline>li {display: inline-block}\n",
       "\t.list-inline>li:not(:last-child)::after {content: \"\\00b7\"; padding: 0 .5ex}\n",
       "\t</style>\n",
       "\t<ol class=list-inline><li>'Laura Neubauer'</li><li>'Stefanie Kau'</li></ol>\n",
       "</details>"
      ],
      "text/latex": [
       "\\begin{enumerate*}\n",
       "\\item Laura Neubauer\n",
       "\\item Stefanie Kau\n",
       "\\end{enumerate*}\n",
       "\n",
       "\\emph{Levels}: \\begin{enumerate*}\n",
       "\\item 'Laura Neubauer'\n",
       "\\item 'Stefanie Kau'\n",
       "\\end{enumerate*}\n"
      ],
      "text/markdown": [
       "1. Laura Neubauer\n",
       "2. Stefanie Kau\n",
       "\n",
       "\n",
       "\n",
       "**Levels**: 1. 'Laura Neubauer'\n",
       "2. 'Stefanie Kau'\n",
       "\n",
       "\n"
      ],
      "text/plain": [
       "[1] Laura Neubauer Stefanie Kau  \n",
       "Levels: Laura Neubauer Stefanie Kau"
      ]
     },
     "metadata": {},
     "output_type": "display_data"
    },
    {
     "data": {
      "text/html": [
       "<style>\n",
       ".list-inline {list-style: none; margin:0; padding: 0}\n",
       ".list-inline>li {display: inline-block}\n",
       ".list-inline>li:not(:last-child)::after {content: \"\\00b7\"; padding: 0 .5ex}\n",
       "</style>\n",
       "<ol class=list-inline><li>4-days</li><li>5-days</li></ol>\n",
       "\n",
       "<details>\n",
       "\t<summary style=display:list-item;cursor:pointer>\n",
       "\t\t<strong>Levels</strong>:\n",
       "\t</summary>\n",
       "\t<style>\n",
       "\t.list-inline {list-style: none; margin:0; padding: 0}\n",
       "\t.list-inline>li {display: inline-block}\n",
       "\t.list-inline>li:not(:last-child)::after {content: \"\\00b7\"; padding: 0 .5ex}\n",
       "\t</style>\n",
       "\t<ol class=list-inline><li>'4-days'</li><li>'5-days'</li></ol>\n",
       "</details>"
      ],
      "text/latex": [
       "\\begin{enumerate*}\n",
       "\\item 4-days\n",
       "\\item 5-days\n",
       "\\end{enumerate*}\n",
       "\n",
       "\\emph{Levels}: \\begin{enumerate*}\n",
       "\\item '4-days'\n",
       "\\item '5-days'\n",
       "\\end{enumerate*}\n"
      ],
      "text/markdown": [
       "1. 4-days\n",
       "2. 5-days\n",
       "\n",
       "\n",
       "\n",
       "**Levels**: 1. '4-days'\n",
       "2. '5-days'\n",
       "\n",
       "\n"
      ],
      "text/plain": [
       "[1] 4-days 5-days\n",
       "Levels: 4-days 5-days"
      ]
     },
     "metadata": {},
     "output_type": "display_data"
    },
    {
     "data": {
      "text/html": [
       "<style>\n",
       ".list-inline {list-style: none; margin:0; padding: 0}\n",
       ".list-inline>li {display: inline-block}\n",
       ".list-inline>li:not(:last-child)::after {content: \"\\00b7\"; padding: 0 .5ex}\n",
       "</style>\n",
       "<ol class=list-inline><li>32_7</li><li>16_13</li><li>37_38</li><li>32_29</li></ol>\n",
       "\n",
       "<details>\n",
       "\t<summary style=display:list-item;cursor:pointer>\n",
       "\t\t<strong>Levels</strong>:\n",
       "\t</summary>\n",
       "\t<style>\n",
       "\t.list-inline {list-style: none; margin:0; padding: 0}\n",
       "\t.list-inline>li {display: inline-block}\n",
       "\t.list-inline>li:not(:last-child)::after {content: \"\\00b7\"; padding: 0 .5ex}\n",
       "\t</style>\n",
       "\t<ol class=list-inline><li>'16_13'</li><li>'32_29'</li><li>'32_7'</li><li>'37_38'</li></ol>\n",
       "</details>"
      ],
      "text/latex": [
       "\\begin{enumerate*}\n",
       "\\item 32\\_7\n",
       "\\item 16\\_13\n",
       "\\item 37\\_38\n",
       "\\item 32\\_29\n",
       "\\end{enumerate*}\n",
       "\n",
       "\\emph{Levels}: \\begin{enumerate*}\n",
       "\\item '16\\_13'\n",
       "\\item '32\\_29'\n",
       "\\item '32\\_7'\n",
       "\\item '37\\_38'\n",
       "\\end{enumerate*}\n"
      ],
      "text/markdown": [
       "1. 32_7\n",
       "2. 16_13\n",
       "3. 37_38\n",
       "4. 32_29\n",
       "\n",
       "\n",
       "\n",
       "**Levels**: 1. '16_13'\n",
       "2. '32_29'\n",
       "3. '32_7'\n",
       "4. '37_38'\n",
       "\n",
       "\n"
      ],
      "text/plain": [
       "[1] 32_7  16_13 37_38 32_29\n",
       "Levels: 16_13 32_29 32_7 37_38"
      ]
     },
     "metadata": {},
     "output_type": "display_data"
    },
    {
     "data": {
      "text/html": [
       "<style>\n",
       ".list-inline {list-style: none; margin:0; padding: 0}\n",
       ".list-inline>li {display: inline-block}\n",
       ".list-inline>li:not(:last-child)::after {content: \"\\00b7\"; padding: 0 .5ex}\n",
       "</style>\n",
       "<ol class=list-inline><li>1</li><li>2</li><li>3</li><li>4</li><li>5</li><li>6</li><li>7</li><li>8</li><li>9</li><li>10</li><li>11</li><li>12</li><li>13</li><li>14</li><li>15</li><li>16</li><li>17</li><li>18</li><li>19</li><li>20</li><li>21</li><li>22</li><li>23</li><li>24</li><li>25</li><li>26</li><li>27</li><li>28</li><li>29</li><li>30</li><li>31</li><li>32</li><li>33</li><li>34</li><li>35</li><li>36</li><li>37</li><li>38</li><li>39</li><li>40</li><li>41</li><li>42</li><li>43</li><li>44</li><li>45</li><li>46</li><li>47</li><li>48</li><li>49</li><li>50</li><li>51</li><li>52</li><li>53</li><li>54</li><li>55</li><li>56</li><li>57</li><li>58</li><li>59</li><li>60</li><li>61</li><li>62</li><li>63</li><li>64</li></ol>\n",
       "\n",
       "<details>\n",
       "\t<summary style=display:list-item;cursor:pointer>\n",
       "\t\t<strong>Levels</strong>:\n",
       "\t</summary>\n",
       "\t<style>\n",
       "\t.list-inline {list-style: none; margin:0; padding: 0}\n",
       "\t.list-inline>li {display: inline-block}\n",
       "\t.list-inline>li:not(:last-child)::after {content: \"\\00b7\"; padding: 0 .5ex}\n",
       "\t</style>\n",
       "\t<ol class=list-inline><li>'1'</li><li>'2'</li><li>'3'</li><li>'4'</li><li>'5'</li><li>'6'</li><li>'7'</li><li>'8'</li><li>'9'</li><li>'10'</li><li>'11'</li><li>'12'</li><li>'13'</li><li>'14'</li><li>'15'</li><li>'16'</li><li>'17'</li><li>'18'</li><li>'19'</li><li>'20'</li><li>'21'</li><li>'22'</li><li>'23'</li><li>'24'</li><li>'25'</li><li>'26'</li><li>'27'</li><li>'28'</li><li>'29'</li><li>'30'</li><li>'31'</li><li>'32'</li><li>'33'</li><li>'34'</li><li>'35'</li><li>'36'</li><li>'37'</li><li>'38'</li><li>'39'</li><li>'40'</li><li>'41'</li><li>'42'</li><li>'43'</li><li>'44'</li><li>'45'</li><li>'46'</li><li>'47'</li><li>'48'</li><li>'49'</li><li>'50'</li><li>'51'</li><li>'52'</li><li>'53'</li><li>'54'</li><li>'55'</li><li>'56'</li><li>'57'</li><li>'58'</li><li>'59'</li><li>'60'</li><li>'61'</li><li>'62'</li><li>'63'</li><li>'64'</li></ol>\n",
       "</details>"
      ],
      "text/latex": [
       "\\begin{enumerate*}\n",
       "\\item 1\n",
       "\\item 2\n",
       "\\item 3\n",
       "\\item 4\n",
       "\\item 5\n",
       "\\item 6\n",
       "\\item 7\n",
       "\\item 8\n",
       "\\item 9\n",
       "\\item 10\n",
       "\\item 11\n",
       "\\item 12\n",
       "\\item 13\n",
       "\\item 14\n",
       "\\item 15\n",
       "\\item 16\n",
       "\\item 17\n",
       "\\item 18\n",
       "\\item 19\n",
       "\\item 20\n",
       "\\item 21\n",
       "\\item 22\n",
       "\\item 23\n",
       "\\item 24\n",
       "\\item 25\n",
       "\\item 26\n",
       "\\item 27\n",
       "\\item 28\n",
       "\\item 29\n",
       "\\item 30\n",
       "\\item 31\n",
       "\\item 32\n",
       "\\item 33\n",
       "\\item 34\n",
       "\\item 35\n",
       "\\item 36\n",
       "\\item 37\n",
       "\\item 38\n",
       "\\item 39\n",
       "\\item 40\n",
       "\\item 41\n",
       "\\item 42\n",
       "\\item 43\n",
       "\\item 44\n",
       "\\item 45\n",
       "\\item 46\n",
       "\\item 47\n",
       "\\item 48\n",
       "\\item 49\n",
       "\\item 50\n",
       "\\item 51\n",
       "\\item 52\n",
       "\\item 53\n",
       "\\item 54\n",
       "\\item 55\n",
       "\\item 56\n",
       "\\item 57\n",
       "\\item 58\n",
       "\\item 59\n",
       "\\item 60\n",
       "\\item 61\n",
       "\\item 62\n",
       "\\item 63\n",
       "\\item 64\n",
       "\\end{enumerate*}\n",
       "\n",
       "\\emph{Levels}: \\begin{enumerate*}\n",
       "\\item '1'\n",
       "\\item '2'\n",
       "\\item '3'\n",
       "\\item '4'\n",
       "\\item '5'\n",
       "\\item '6'\n",
       "\\item '7'\n",
       "\\item '8'\n",
       "\\item '9'\n",
       "\\item '10'\n",
       "\\item '11'\n",
       "\\item '12'\n",
       "\\item '13'\n",
       "\\item '14'\n",
       "\\item '15'\n",
       "\\item '16'\n",
       "\\item '17'\n",
       "\\item '18'\n",
       "\\item '19'\n",
       "\\item '20'\n",
       "\\item '21'\n",
       "\\item '22'\n",
       "\\item '23'\n",
       "\\item '24'\n",
       "\\item '25'\n",
       "\\item '26'\n",
       "\\item '27'\n",
       "\\item '28'\n",
       "\\item '29'\n",
       "\\item '30'\n",
       "\\item '31'\n",
       "\\item '32'\n",
       "\\item '33'\n",
       "\\item '34'\n",
       "\\item '35'\n",
       "\\item '36'\n",
       "\\item '37'\n",
       "\\item '38'\n",
       "\\item '39'\n",
       "\\item '40'\n",
       "\\item '41'\n",
       "\\item '42'\n",
       "\\item '43'\n",
       "\\item '44'\n",
       "\\item '45'\n",
       "\\item '46'\n",
       "\\item '47'\n",
       "\\item '48'\n",
       "\\item '49'\n",
       "\\item '50'\n",
       "\\item '51'\n",
       "\\item '52'\n",
       "\\item '53'\n",
       "\\item '54'\n",
       "\\item '55'\n",
       "\\item '56'\n",
       "\\item '57'\n",
       "\\item '58'\n",
       "\\item '59'\n",
       "\\item '60'\n",
       "\\item '61'\n",
       "\\item '62'\n",
       "\\item '63'\n",
       "\\item '64'\n",
       "\\end{enumerate*}\n"
      ],
      "text/markdown": [
       "1. 1\n",
       "2. 2\n",
       "3. 3\n",
       "4. 4\n",
       "5. 5\n",
       "6. 6\n",
       "7. 7\n",
       "8. 8\n",
       "9. 9\n",
       "10. 10\n",
       "11. 11\n",
       "12. 12\n",
       "13. 13\n",
       "14. 14\n",
       "15. 15\n",
       "16. 16\n",
       "17. 17\n",
       "18. 18\n",
       "19. 19\n",
       "20. 20\n",
       "21. 21\n",
       "22. 22\n",
       "23. 23\n",
       "24. 24\n",
       "25. 25\n",
       "26. 26\n",
       "27. 27\n",
       "28. 28\n",
       "29. 29\n",
       "30. 30\n",
       "31. 31\n",
       "32. 32\n",
       "33. 33\n",
       "34. 34\n",
       "35. 35\n",
       "36. 36\n",
       "37. 37\n",
       "38. 38\n",
       "39. 39\n",
       "40. 40\n",
       "41. 41\n",
       "42. 42\n",
       "43. 43\n",
       "44. 44\n",
       "45. 45\n",
       "46. 46\n",
       "47. 47\n",
       "48. 48\n",
       "49. 49\n",
       "50. 50\n",
       "51. 51\n",
       "52. 52\n",
       "53. 53\n",
       "54. 54\n",
       "55. 55\n",
       "56. 56\n",
       "57. 57\n",
       "58. 58\n",
       "59. 59\n",
       "60. 60\n",
       "61. 61\n",
       "62. 62\n",
       "63. 63\n",
       "64. 64\n",
       "\n",
       "\n",
       "\n",
       "**Levels**: 1. '1'\n",
       "2. '2'\n",
       "3. '3'\n",
       "4. '4'\n",
       "5. '5'\n",
       "6. '6'\n",
       "7. '7'\n",
       "8. '8'\n",
       "9. '9'\n",
       "10. '10'\n",
       "11. '11'\n",
       "12. '12'\n",
       "13. '13'\n",
       "14. '14'\n",
       "15. '15'\n",
       "16. '16'\n",
       "17. '17'\n",
       "18. '18'\n",
       "19. '19'\n",
       "20. '20'\n",
       "21. '21'\n",
       "22. '22'\n",
       "23. '23'\n",
       "24. '24'\n",
       "25. '25'\n",
       "26. '26'\n",
       "27. '27'\n",
       "28. '28'\n",
       "29. '29'\n",
       "30. '30'\n",
       "31. '31'\n",
       "32. '32'\n",
       "33. '33'\n",
       "34. '34'\n",
       "35. '35'\n",
       "36. '36'\n",
       "37. '37'\n",
       "38. '38'\n",
       "39. '39'\n",
       "40. '40'\n",
       "41. '41'\n",
       "42. '42'\n",
       "43. '43'\n",
       "44. '44'\n",
       "45. '45'\n",
       "46. '46'\n",
       "47. '47'\n",
       "48. '48'\n",
       "49. '49'\n",
       "50. '50'\n",
       "51. '51'\n",
       "52. '52'\n",
       "53. '53'\n",
       "54. '54'\n",
       "55. '55'\n",
       "56. '56'\n",
       "57. '57'\n",
       "58. '58'\n",
       "59. '59'\n",
       "60. '60'\n",
       "61. '61'\n",
       "62. '62'\n",
       "63. '63'\n",
       "64. '64'\n",
       "\n",
       "\n"
      ],
      "text/plain": [
       " [1] 1  2  3  4  5  6  7  8  9  10 11 12 13 14 15 16 17 18 19 20 21 22 23 24 25\n",
       "[26] 26 27 28 29 30 31 32 33 34 35 36 37 38 39 40 41 42 43 44 45 46 47 48 49 50\n",
       "[51] 51 52 53 54 55 56 57 58 59 60 61 62 63 64\n",
       "64 Levels: 1 2 3 4 5 6 7 8 9 10 11 12 13 14 15 16 17 18 19 20 21 22 23 ... 64"
      ]
     },
     "metadata": {},
     "output_type": "display_data"
    }
   ],
   "source": [
    "unique(ELP$Collection_Date)\n",
    "unique(ELP$Experimentor)\n",
    "unique(ELP$Starvation_Period)\n",
    "unique(ELP$Colony_ID)\n",
    "unique(ELP$Ant_ID)"
   ]
  },
  {
   "cell_type": "markdown",
   "id": "e3044b71",
   "metadata": {},
   "source": [
    "## Do initial and final choices significantly differ?"
   ]
  },
  {
   "cell_type": "code",
   "execution_count": 6,
   "id": "f00505b5",
   "metadata": {
    "vscode": {
     "languageId": "r"
    }
   },
   "outputs": [
    {
     "name": "stderr",
     "output_type": "stream",
     "text": [
      "boundary (singular) fit: see help('isSingular')\n",
      "\n"
     ]
    },
    {
     "data": {
      "text/plain": [
       " contrast                      odds.ratio    SE  df null z.ratio p.value\n",
       " Initial_Binary / Final_Binary      0.806 0.217 Inf    1  -0.803  0.4217\n",
       "\n",
       "Tests are performed on the log odds ratio scale "
      ]
     },
     "metadata": {},
     "output_type": "display_data"
    }
   ],
   "source": [
    "ELP_choice_diff = melt(ELP, measure.vars = c(\"Initial_Binary\", \"Final_Binary\"))\n",
    "\n",
    "ELP_choice_diff$variable = as.factor(ELP_choice_diff$variable)\n",
    "ELP_choice_diff$value = as.factor(ELP_choice_diff$value)\n",
    "\n",
    "ELP_choice_diff_mod = glmer(value ~ variable + (1|Collection_Date) + (1|Experimentor) + (Starvation_Period|Colony_ID) + (1|Ant_ID), data = ELP_choice_diff, family = binomial, glmerControl(optimizer = \"bobyqa\", optCtrl = list(maxfun = 1000000000)))\n",
    "\n",
    "e = emmeans(ELP_choice_diff_mod, ~variable, type = \"response\")\n",
    "pairs(e)"
   ]
  },
  {
   "cell_type": "markdown",
   "id": "328cf9e7",
   "metadata": {},
   "source": [
    "p-value > 0.1 hence there is no statistical difference between initial and final decision therefore we will use final decision henceforth."
   ]
  },
  {
   "cell_type": "markdown",
   "id": "33f30dc0",
   "metadata": {},
   "source": [
    "## Define models\n",
    "\n",
    "### 1. Null model\n",
    "**Biological hypothesis:** Ants randomly choose a Y-maze arm."
   ]
  },
  {
   "cell_type": "code",
   "execution_count": 7,
   "id": "0ef959a3",
   "metadata": {
    "scrolled": true,
    "vscode": {
     "languageId": "r"
    }
   },
   "outputs": [
    {
     "name": "stderr",
     "output_type": "stream",
     "text": [
      "boundary (singular) fit: see help('isSingular')\n",
      "\n"
     ]
    }
   ],
   "source": [
    "null_mod = glmer(Final_Binary ~ 1 + (1|Collection_Date) + (1|Experimentor) + (Starvation_Period|Colony_ID) + (1|Ant_ID), data = ELP, family = \"binomial\", glmerControl(optimizer = \"bobyqa\", optCtrl = list(maxfun = 1000000000)))"
   ]
  },
  {
   "cell_type": "markdown",
   "id": "1b2602f5",
   "metadata": {},
   "source": [
    "### 2. Visit model\n",
    "**Biological hypothesis:** Ants learn to associate a Y-maze arm with a reward. Over consecutive visits more ants choose the correct arm."
   ]
  },
  {
   "cell_type": "code",
   "execution_count": 8,
   "id": "7f450e9d",
   "metadata": {
    "vscode": {
     "languageId": "r"
    }
   },
   "outputs": [
    {
     "name": "stderr",
     "output_type": "stream",
     "text": [
      "boundary (singular) fit: see help('isSingular')\n",
      "\n"
     ]
    }
   ],
   "source": [
    "visit_mod = glmer(Final_Binary ~ Visit + (1|Collection_Date) + (1|Experimentor) + (Starvation_Period|Colony_ID) + (1|Ant_ID), data = ELP, family = \"binomial\", glmerControl(optimizer = \"bobyqa\", optCtrl = list(maxfun = 1000000000)))"
   ]
  },
  {
   "cell_type": "markdown",
   "id": "b7ed456a",
   "metadata": {},
   "source": [
    "### 3. Solution model\n",
    "**Biological hypothesis:** The presence of a psychoactive chemical in the reward alters the ants ability to choose a Y-maze arm."
   ]
  },
  {
   "cell_type": "code",
   "execution_count": 9,
   "id": "e40efafe",
   "metadata": {
    "scrolled": true,
    "vscode": {
     "languageId": "r"
    }
   },
   "outputs": [
    {
     "name": "stderr",
     "output_type": "stream",
     "text": [
      "boundary (singular) fit: see help('isSingular')\n",
      "\n"
     ]
    }
   ],
   "source": [
    "solution_mod = glmer(Final_Binary ~ Solution + (1|Collection_Date) + (1|Experimentor) + (Starvation_Period|Colony_ID) + (1|Ant_ID), data = ELP, family = \"binomial\", glmerControl(optimizer = \"bobyqa\", optCtrl = list(maxfun = 1000000000)))"
   ]
  },
  {
   "cell_type": "markdown",
   "id": "ab0eba13",
   "metadata": {},
   "source": [
    "### 4. Side model\n",
    "**Biological hypothesis:** Ants have an intrinsic predisposition towards turning left or right. This is associated with brain lateralisation which has been shown in multiple organisms."
   ]
  },
  {
   "cell_type": "code",
   "execution_count": 10,
   "id": "607d48ee",
   "metadata": {
    "scrolled": true,
    "vscode": {
     "languageId": "r"
    }
   },
   "outputs": [
    {
     "name": "stderr",
     "output_type": "stream",
     "text": [
      "boundary (singular) fit: see help('isSingular')\n",
      "\n"
     ]
    }
   ],
   "source": [
    "side_mod = glmer(Final_Binary ~ Reward_Side + (1|Collection_Date) + (1|Experimentor) + (Starvation_Period|Colony_ID) + (1|Ant_ID), data = ELP, family = \"binomial\", glmerControl(optimizer = \"bobyqa\", optCtrl = list(maxfun = 1000000000)))"
   ]
  },
  {
   "cell_type": "markdown",
   "id": "761fabe0",
   "metadata": {},
   "source": [
    "### 5. Time since marking model\n",
    "**Biological hypothesis:** Ants that had a waiting period (>30 minutes) after learning the reward/side association have different recall strenght. This should be associated with long-term memory formation which should be stronger."
   ]
  },
  {
   "cell_type": "code",
   "execution_count": 11,
   "id": "2658b671",
   "metadata": {
    "vscode": {
     "languageId": "r"
    }
   },
   "outputs": [
    {
     "name": "stderr",
     "output_type": "stream",
     "text": [
      "boundary (singular) fit: see help('isSingular')\n",
      "\n"
     ]
    }
   ],
   "source": [
    "tsm_mod = glmer(Final_Binary ~ TSM_Bin + (1|Collection_Date) + (1|Experimentor) + (Starvation_Period|Colony_ID) + (1|Ant_ID), data = ELP, family = \"binomial\", glmerControl(optimizer = \"bobyqa\", optCtrl = list(maxfun = 1000000000)))"
   ]
  },
  {
   "cell_type": "markdown",
   "id": "892cb81b",
   "metadata": {},
   "source": [
    "### 6. Solution and Visit with Time since marking model\n",
    "**Biological hypothesis:** The effects of a psychoactive chemical might be time dependent."
   ]
  },
  {
   "cell_type": "code",
   "execution_count": 12,
   "id": "5cff5050",
   "metadata": {
    "vscode": {
     "languageId": "r"
    }
   },
   "outputs": [
    {
     "name": "stderr",
     "output_type": "stream",
     "text": [
      "boundary (singular) fit: see help('isSingular')\n",
      "\n"
     ]
    }
   ],
   "source": [
    "solution_time_mod = glmer(Final_Binary ~ Solution + TSM_Bin + Visit + Solution:TSM_Bin + (1|Collection_Date) + (1|Experimentor) + (Starvation_Period|Colony_ID) + (1|Ant_ID), data = ELP, family = \"binomial\", glmerControl(optimizer = \"bobyqa\", optCtrl = list(maxfun = 1000000000)))"
   ]
  },
  {
   "cell_type": "markdown",
   "id": "fcf2c7eb",
   "metadata": {},
   "source": [
    "### 7. Maximal model\n",
    "**Biological hypothesis:** All of the available variables contribute towards ant learning."
   ]
  },
  {
   "cell_type": "code",
   "execution_count": 13,
   "id": "fcc1c701",
   "metadata": {
    "scrolled": false,
    "vscode": {
     "languageId": "r"
    }
   },
   "outputs": [
    {
     "name": "stderr",
     "output_type": "stream",
     "text": [
      "boundary (singular) fit: see help('isSingular')\n",
      "\n"
     ]
    }
   ],
   "source": [
    "max_mod = glmer(Final_Binary ~ Solution + Visit + TSM_Bin + Reward_Side + Solution:TSM_Bin + (1|Collection_Date) + (1|Experimentor) + (Starvation_Period|Colony_ID) + (1|Ant_ID), data = ELP, family = \"binomial\", glmerControl(optimizer = \"bobyqa\", optCtrl = list(maxfun = 1000000000)))"
   ]
  },
  {
   "cell_type": "markdown",
   "id": "d0a659e7",
   "metadata": {},
   "source": [
    "## Check if the most complex model (max_mod) is a good fit to the data"
   ]
  },
  {
   "cell_type": "code",
   "execution_count": 14,
   "id": "a9397226",
   "metadata": {
    "vscode": {
     "languageId": "r"
    }
   },
   "outputs": [
    {
     "data": {
      "image/png": "[encoded data removed]",
      "text/plain": [
       "Plot with title “QQ plot residuals”"
      ]
     },
     "metadata": {
      "image/png": {
       "height": 420,
       "width": 420
      }
     },
     "output_type": "display_data"
    }
   ],
   "source": [
    "simres = simulateResiduals(max_mod)\n",
    "plot(simres, asFactor = T)"
   ]
  },
  {
   "cell_type": "markdown",
   "id": "3d31eeee",
   "metadata": {},
   "source": [
    "The maximum model seems to hold all assumptions and be a god fit to the data. Therefore, all simpler models should be equally good.\n",
    "## Model Selection"
   ]
  },
  {
   "cell_type": "code",
   "execution_count": 15,
   "id": "6768b6ea",
   "metadata": {
    "scrolled": false,
    "vscode": {
     "languageId": "r"
    }
   },
   "outputs": [
    {
     "data": {
      "text/html": [
       "<table class=\"dataframe\">\n",
       "<caption>A aictab: 7 × 8</caption>\n",
       "<thead>\n",
       "\t<tr><th></th><th scope=col>Modnames</th><th scope=col>K</th><th scope=col>AICc</th><th scope=col>Delta_AICc</th><th scope=col>ModelLik</th><th scope=col>AICcWt</th><th scope=col>LL</th><th scope=col>Cum.Wt</th></tr>\n",
       "\t<tr><th></th><th scope=col>&lt;chr&gt;</th><th scope=col>&lt;dbl&gt;</th><th scope=col>&lt;dbl&gt;</th><th scope=col>&lt;dbl&gt;</th><th scope=col>&lt;dbl&gt;</th><th scope=col>&lt;dbl&gt;</th><th scope=col>&lt;dbl&gt;</th><th scope=col>&lt;dbl&gt;</th></tr>\n",
       "</thead>\n",
       "<tbody>\n",
       "\t<tr><th scope=row>4</th><td>side_mod         </td><td> 8</td><td>249.4916</td><td> 0.000000</td><td>1.0000000000</td><td>0.9356512723</td><td>-116.4543</td><td>0.9356513</td></tr>\n",
       "\t<tr><th scope=row>1</th><td>null_mod         </td><td> 7</td><td>256.2755</td><td> 6.783912</td><td>0.0336428152</td><td>0.0314779428</td><td>-120.9119</td><td>0.9671292</td></tr>\n",
       "\t<tr><th scope=row>3</th><td>solution_mod     </td><td> 8</td><td>257.7606</td><td> 8.269015</td><td>0.0160105503</td><td>0.0149802917</td><td>-120.5888</td><td>0.9821095</td></tr>\n",
       "\t<tr><th scope=row>5</th><td>tsm_mod          </td><td> 8</td><td>258.4068</td><td> 8.915233</td><td>0.0115899523</td><td>0.0108441536</td><td>-120.9119</td><td>0.9929537</td></tr>\n",
       "\t<tr><th scope=row>7</th><td>max_mod          </td><td>14</td><td>259.8981</td><td>10.406496</td><td>0.0054986765</td><td>0.0051448437</td><td>-115.0777</td><td>0.9980985</td></tr>\n",
       "\t<tr><th scope=row>2</th><td>visit_mod        </td><td>10</td><td>262.1185</td><td>12.626907</td><td>0.0018117654</td><td>0.0016951806</td><td>-120.6103</td><td>0.9997937</td></tr>\n",
       "\t<tr><th scope=row>6</th><td>solution_time_mod</td><td>13</td><td>266.3307</td><td>16.839186</td><td>0.0002205044</td><td>0.0002063152</td><td>-119.4133</td><td>1.0000000</td></tr>\n",
       "</tbody>\n",
       "</table>\n"
      ],
      "text/latex": [
       "A aictab: 7 × 8\n",
       "\\begin{tabular}{r|llllllll}\n",
       "  & Modnames & K & AICc & Delta\\_AICc & ModelLik & AICcWt & LL & Cum.Wt\\\\\n",
       "  & <chr> & <dbl> & <dbl> & <dbl> & <dbl> & <dbl> & <dbl> & <dbl>\\\\\n",
       "\\hline\n",
       "\t4 & side\\_mod          &  8 & 249.4916 &  0.000000 & 1.0000000000 & 0.9356512723 & -116.4543 & 0.9356513\\\\\n",
       "\t1 & null\\_mod          &  7 & 256.2755 &  6.783912 & 0.0336428152 & 0.0314779428 & -120.9119 & 0.9671292\\\\\n",
       "\t3 & solution\\_mod      &  8 & 257.7606 &  8.269015 & 0.0160105503 & 0.0149802917 & -120.5888 & 0.9821095\\\\\n",
       "\t5 & tsm\\_mod           &  8 & 258.4068 &  8.915233 & 0.0115899523 & 0.0108441536 & -120.9119 & 0.9929537\\\\\n",
       "\t7 & max\\_mod           & 14 & 259.8981 & 10.406496 & 0.0054986765 & 0.0051448437 & -115.0777 & 0.9980985\\\\\n",
       "\t2 & visit\\_mod         & 10 & 262.1185 & 12.626907 & 0.0018117654 & 0.0016951806 & -120.6103 & 0.9997937\\\\\n",
       "\t6 & solution\\_time\\_mod & 13 & 266.3307 & 16.839186 & 0.0002205044 & 0.0002063152 & -119.4133 & 1.0000000\\\\\n",
       "\\end{tabular}\n"
      ],
      "text/markdown": [
       "\n",
       "A aictab: 7 × 8\n",
       "\n",
       "| <!--/--> | Modnames &lt;chr&gt; | K &lt;dbl&gt; | AICc &lt;dbl&gt; | Delta_AICc &lt;dbl&gt; | ModelLik &lt;dbl&gt; | AICcWt &lt;dbl&gt; | LL &lt;dbl&gt; | Cum.Wt &lt;dbl&gt; |\n",
       "|---|---|---|---|---|---|---|---|---|\n",
       "| 4 | side_mod          |  8 | 249.4916 |  0.000000 | 1.0000000000 | 0.9356512723 | -116.4543 | 0.9356513 |\n",
       "| 1 | null_mod          |  7 | 256.2755 |  6.783912 | 0.0336428152 | 0.0314779428 | -120.9119 | 0.9671292 |\n",
       "| 3 | solution_mod      |  8 | 257.7606 |  8.269015 | 0.0160105503 | 0.0149802917 | -120.5888 | 0.9821095 |\n",
       "| 5 | tsm_mod           |  8 | 258.4068 |  8.915233 | 0.0115899523 | 0.0108441536 | -120.9119 | 0.9929537 |\n",
       "| 7 | max_mod           | 14 | 259.8981 | 10.406496 | 0.0054986765 | 0.0051448437 | -115.0777 | 0.9980985 |\n",
       "| 2 | visit_mod         | 10 | 262.1185 | 12.626907 | 0.0018117654 | 0.0016951806 | -120.6103 | 0.9997937 |\n",
       "| 6 | solution_time_mod | 13 | 266.3307 | 16.839186 | 0.0002205044 | 0.0002063152 | -119.4133 | 1.0000000 |\n",
       "\n"
      ],
      "text/plain": [
       "  Modnames          K  AICc     Delta_AICc ModelLik     AICcWt       LL       \n",
       "4 side_mod           8 249.4916  0.000000  1.0000000000 0.9356512723 -116.4543\n",
       "1 null_mod           7 256.2755  6.783912  0.0336428152 0.0314779428 -120.9119\n",
       "3 solution_mod       8 257.7606  8.269015  0.0160105503 0.0149802917 -120.5888\n",
       "5 tsm_mod            8 258.4068  8.915233  0.0115899523 0.0108441536 -120.9119\n",
       "7 max_mod           14 259.8981 10.406496  0.0054986765 0.0051448437 -115.0777\n",
       "2 visit_mod         10 262.1185 12.626907  0.0018117654 0.0016951806 -120.6103\n",
       "6 solution_time_mod 13 266.3307 16.839186  0.0002205044 0.0002063152 -119.4133\n",
       "  Cum.Wt   \n",
       "4 0.9356513\n",
       "1 0.9671292\n",
       "3 0.9821095\n",
       "5 0.9929537\n",
       "7 0.9980985\n",
       "2 0.9997937\n",
       "6 1.0000000"
      ]
     },
     "metadata": {},
     "output_type": "display_data"
    },
    {
     "data": {
      "text/html": [
       "<dl>\n",
       "\t<dt>$method</dt>\n",
       "\t\t<dd>'raw'</dd>\n",
       "\t<dt>$level</dt>\n",
       "\t\t<dd>0.95</dd>\n",
       "\t<dt>$table</dt>\n",
       "\t\t<dd><table class=\"dataframe\">\n",
       "<caption>A aictab: 2 × 8</caption>\n",
       "<thead>\n",
       "\t<tr><th></th><th scope=col>Modnames</th><th scope=col>K</th><th scope=col>AICc</th><th scope=col>Delta_AICc</th><th scope=col>ModelLik</th><th scope=col>AICcWt</th><th scope=col>LL</th><th scope=col>Cum.Wt</th></tr>\n",
       "\t<tr><th></th><th scope=col>&lt;chr&gt;</th><th scope=col>&lt;dbl&gt;</th><th scope=col>&lt;dbl&gt;</th><th scope=col>&lt;dbl&gt;</th><th scope=col>&lt;dbl&gt;</th><th scope=col>&lt;dbl&gt;</th><th scope=col>&lt;dbl&gt;</th><th scope=col>&lt;dbl&gt;</th></tr>\n",
       "</thead>\n",
       "<tbody>\n",
       "\t<tr><th scope=row>4</th><td>side_mod</td><td>8</td><td>249.4916</td><td>0.000000</td><td>1.00000000</td><td>0.93565127</td><td>-116.4543</td><td>0.9356513</td></tr>\n",
       "\t<tr><th scope=row>1</th><td>null_mod</td><td>7</td><td>256.2755</td><td>6.783912</td><td>0.03364282</td><td>0.03147794</td><td>-120.9119</td><td>0.9671292</td></tr>\n",
       "</tbody>\n",
       "</table>\n",
       "</dd>\n",
       "</dl>\n"
      ],
      "text/latex": [
       "\\begin{description}\n",
       "\\item[\\$method] 'raw'\n",
       "\\item[\\$level] 0.95\n",
       "\\item[\\$table] A aictab: 2 × 8\n",
       "\\begin{tabular}{r|llllllll}\n",
       "  & Modnames & K & AICc & Delta\\_AICc & ModelLik & AICcWt & LL & Cum.Wt\\\\\n",
       "  & <chr> & <dbl> & <dbl> & <dbl> & <dbl> & <dbl> & <dbl> & <dbl>\\\\\n",
       "\\hline\n",
       "\t4 & side\\_mod & 8 & 249.4916 & 0.000000 & 1.00000000 & 0.93565127 & -116.4543 & 0.9356513\\\\\n",
       "\t1 & null\\_mod & 7 & 256.2755 & 6.783912 & 0.03364282 & 0.03147794 & -120.9119 & 0.9671292\\\\\n",
       "\\end{tabular}\n",
       "\n",
       "\\end{description}\n"
      ],
      "text/markdown": [
       "$method\n",
       ":   'raw'\n",
       "$level\n",
       ":   0.95\n",
       "$table\n",
       ":   \n",
       "A aictab: 2 × 8\n",
       "\n",
       "| <!--/--> | Modnames &lt;chr&gt; | K &lt;dbl&gt; | AICc &lt;dbl&gt; | Delta_AICc &lt;dbl&gt; | ModelLik &lt;dbl&gt; | AICcWt &lt;dbl&gt; | LL &lt;dbl&gt; | Cum.Wt &lt;dbl&gt; |\n",
       "|---|---|---|---|---|---|---|---|---|\n",
       "| 4 | side_mod | 8 | 249.4916 | 0.000000 | 1.00000000 | 0.93565127 | -116.4543 | 0.9356513 |\n",
       "| 1 | null_mod | 7 | 256.2755 | 6.783912 | 0.03364282 | 0.03147794 | -120.9119 | 0.9671292 |\n",
       "\n",
       "\n",
       "\n",
       "\n"
      ],
      "text/plain": [
       "\n",
       "Confidence set for the best model\n",
       "\n",
       "Method:\t raw sum of model probabilities\n",
       "\n",
       "95% confidence set:\n",
       "         K   AICc Delta_AICc AICcWt\n",
       "side_mod 8 249.49       0.00   0.94\n",
       "null_mod 7 256.28       6.78   0.03\n",
       "\n",
       "Model probabilities sum to 0.97 \n"
      ]
     },
     "metadata": {},
     "output_type": "display_data"
    }
   ],
   "source": [
    "cand_models = list(\"null_mod\" = null_mod, \n",
    "                   \"visit_mod\" = visit_mod,\n",
    "                   \"solution_mod\" = solution_mod,\n",
    "                   \"side_mod\" = side_mod,\n",
    "                   \"tsm_mod\" = tsm_mod,\n",
    "                   \"solution_time_mod\" = solution_time_mod,\n",
    "                   \"max_mod\" = max_mod)\n",
    "\n",
    "aictab(cand_models)\n",
    "confset(cand.set = cand_models) # Remove models that explain the last 0.05 Cum.Wt"
   ]
  },
  {
   "cell_type": "markdown",
   "id": "8bbc4ed3",
   "metadata": {},
   "source": [
    "**The side_mod explains 93% of the total variance explained by all of the models tested.**"
   ]
  },
  {
   "cell_type": "code",
   "execution_count": 16,
   "id": "de24bba9",
   "metadata": {
    "scrolled": true,
    "vscode": {
     "languageId": "r"
    }
   },
   "outputs": [
    {
     "data": {
      "text/html": [
       "<dl>\n",
       "\t<dt>$Model.high</dt>\n",
       "\t\t<dd>'side_mod'</dd>\n",
       "\t<dt>$Model.low</dt>\n",
       "\t\t<dd>'null_mod'</dd>\n",
       "\t<dt>$Ev.ratio</dt>\n",
       "\t\t<dd>29.7240285836511</dd>\n",
       "</dl>\n"
      ],
      "text/latex": [
       "\\begin{description}\n",
       "\\item[\\$Model.high] 'side\\_mod'\n",
       "\\item[\\$Model.low] 'null\\_mod'\n",
       "\\item[\\$Ev.ratio] 29.7240285836511\n",
       "\\end{description}\n"
      ],
      "text/markdown": [
       "$Model.high\n",
       ":   'side_mod'\n",
       "$Model.low\n",
       ":   'null_mod'\n",
       "$Ev.ratio\n",
       ":   29.7240285836511\n",
       "\n",
       "\n"
      ],
      "text/plain": [
       "\n",
       "Evidence ratio between models 'side_mod' and 'null_mod':\n",
       "29.72 \n"
      ]
     },
     "metadata": {},
     "output_type": "display_data"
    }
   ],
   "source": [
    "evidence(aic.table = aictab(cand_models))"
   ]
  },
  {
   "cell_type": "markdown",
   "id": "8f498389",
   "metadata": {},
   "source": [
    "The side model is 30 times more parsimonious than the null model."
   ]
  },
  {
   "cell_type": "markdown",
   "id": "a1bc1096",
   "metadata": {},
   "source": [
    "Since the top-ranked model has all the support (>90%), we can interpret the results of the model:"
   ]
  },
  {
   "cell_type": "code",
   "execution_count": 17,
   "id": "92c586c2",
   "metadata": {
    "scrolled": false,
    "vscode": {
     "languageId": "r"
    }
   },
   "outputs": [
    {
     "data": {
      "text/plain": [
       "Generalized linear mixed model fit by maximum likelihood (Laplace\n",
       "  Approximation) [glmerMod]\n",
       " Family: binomial  ( logit )\n",
       "Formula: \n",
       "Final_Binary ~ Reward_Side + (1 | Collection_Date) + (1 | Experimentor) +  \n",
       "    (Starvation_Period | Colony_ID) + (1 | Ant_ID)\n",
       "   Data: ELP\n",
       "Control: glmerControl(optimizer = \"bobyqa\", optCtrl = list(maxfun = 1e+09))\n",
       "\n",
       "     AIC      BIC   logLik deviance df.resid \n",
       "   248.9    277.3   -116.5    232.9      248 \n",
       "\n",
       "Scaled residuals: \n",
       "    Min      1Q  Median      3Q     Max \n",
       "-3.2323  0.1917  0.2575  0.3957  0.8888 \n",
       "\n",
       "Random effects:\n",
       " Groups          Name                    Variance Std.Dev. Corr \n",
       " Ant_ID          (Intercept)             1.5404   1.2411        \n",
       " Colony_ID       (Intercept)             0.3328   0.5769        \n",
       "                 Starvation_Period5-days 1.1665   1.0800   -1.00\n",
       " Collection_Date (Intercept)             0.0000   0.0000        \n",
       " Experimentor    (Intercept)             0.0000   0.0000        \n",
       "Number of obs: 256, groups:  \n",
       "Ant_ID, 64; Colony_ID, 4; Collection_Date, 4; Experimentor, 2\n",
       "\n",
       "Fixed effects:\n",
       "             Estimate Std. Error z value Pr(>|z|)    \n",
       "(Intercept)    2.6825     0.4984   5.382 7.36e-08 ***\n",
       "Reward_SideR  -1.5042     0.5613  -2.680  0.00737 ** \n",
       "---\n",
       "Signif. codes:  0 ‘***’ 0.001 ‘**’ 0.01 ‘*’ 0.05 ‘.’ 0.1 ‘ ’ 1\n",
       "\n",
       "Correlation of Fixed Effects:\n",
       "            (Intr)\n",
       "Reward_SidR -0.744\n",
       "optimizer (bobyqa) convergence code: 0 (OK)\n",
       "boundary (singular) fit: see help('isSingular')\n"
      ]
     },
     "metadata": {},
     "output_type": "display_data"
    }
   ],
   "source": [
    "summary(side_mod)"
   ]
  },
  {
   "cell_type": "code",
   "execution_count": 18,
   "id": "3b4203e2",
   "metadata": {
    "scrolled": true,
    "vscode": {
     "languageId": "r"
    }
   },
   "outputs": [
    {
     "data": {
      "text/html": [
       "<style>\n",
       ".dl-inline {width: auto; margin:0; padding: 0}\n",
       ".dl-inline>dt, .dl-inline>dd {float: none; width: auto; display: inline-block}\n",
       ".dl-inline>dt::after {content: \":\\0020\"; padding-right: .5ex}\n",
       ".dl-inline>dt:not(:first-of-type) {padding-left: .5ex}\n",
       "</style><dl class=dl-inline><dt>(Intercept)</dt><dd>14.6214494761714</dd><dt>Reward_SideR</dt><dd>0.222196870893754</dd></dl>\n"
      ],
      "text/latex": [
       "\\begin{description*}\n",
       "\\item[(Intercept)] 14.6214494761714\n",
       "\\item[Reward\\textbackslash{}\\_SideR] 0.222196870893754\n",
       "\\end{description*}\n"
      ],
      "text/markdown": [
       "(Intercept)\n",
       ":   14.6214494761714Reward_SideR\n",
       ":   0.222196870893754\n",
       "\n"
      ],
      "text/plain": [
       " (Intercept) Reward_SideR \n",
       "  14.6214495    0.2221969 "
      ]
     },
     "metadata": {},
     "output_type": "display_data"
    }
   ],
   "source": [
    "exp(fixef(side_mod))"
   ]
  },
  {
   "cell_type": "code",
   "execution_count": 19,
   "id": "052d5bbf",
   "metadata": {
    "scrolled": false,
    "vscode": {
     "languageId": "r"
    }
   },
   "outputs": [
    {
     "data": {
      "text/html": [
       "<table class=\"dataframe\">\n",
       "<caption>A matrix: 8 × 2 of type dbl</caption>\n",
       "<thead>\n",
       "\t<tr><th></th><th scope=col>2.5 %</th><th scope=col>97.5 %</th></tr>\n",
       "</thead>\n",
       "<tbody>\n",
       "\t<tr><th scope=row>.sig01</th><td>        NA</td><td>        NA</td></tr>\n",
       "\t<tr><th scope=row>.sig02</th><td>        NA</td><td>        NA</td></tr>\n",
       "\t<tr><th scope=row>.sig03</th><td>        NA</td><td>        NA</td></tr>\n",
       "\t<tr><th scope=row>.sig04</th><td>        NA</td><td>        NA</td></tr>\n",
       "\t<tr><th scope=row>.sig05</th><td>        NA</td><td>        NA</td></tr>\n",
       "\t<tr><th scope=row>.sig06</th><td>        NA</td><td>        NA</td></tr>\n",
       "\t<tr><th scope=row>(Intercept)</th><td>5.50496139</td><td>38.8352923</td></tr>\n",
       "\t<tr><th scope=row>Reward_SideR</th><td>0.07395361</td><td> 0.6676003</td></tr>\n",
       "</tbody>\n",
       "</table>\n"
      ],
      "text/latex": [
       "A matrix: 8 × 2 of type dbl\n",
       "\\begin{tabular}{r|ll}\n",
       "  & 2.5 \\% & 97.5 \\%\\\\\n",
       "\\hline\n",
       "\t.sig01 &         NA &         NA\\\\\n",
       "\t.sig02 &         NA &         NA\\\\\n",
       "\t.sig03 &         NA &         NA\\\\\n",
       "\t.sig04 &         NA &         NA\\\\\n",
       "\t.sig05 &         NA &         NA\\\\\n",
       "\t.sig06 &         NA &         NA\\\\\n",
       "\t(Intercept) & 5.50496139 & 38.8352923\\\\\n",
       "\tReward\\_SideR & 0.07395361 &  0.6676003\\\\\n",
       "\\end{tabular}\n"
      ],
      "text/markdown": [
       "\n",
       "A matrix: 8 × 2 of type dbl\n",
       "\n",
       "| <!--/--> | 2.5 % | 97.5 % |\n",
       "|---|---|---|\n",
       "| .sig01 |         NA |         NA |\n",
       "| .sig02 |         NA |         NA |\n",
       "| .sig03 |         NA |         NA |\n",
       "| .sig04 |         NA |         NA |\n",
       "| .sig05 |         NA |         NA |\n",
       "| .sig06 |         NA |         NA |\n",
       "| (Intercept) | 5.50496139 | 38.8352923 |\n",
       "| Reward_SideR | 0.07395361 |  0.6676003 |\n",
       "\n"
      ],
      "text/plain": [
       "             2.5 %      97.5 %    \n",
       ".sig01               NA         NA\n",
       ".sig02               NA         NA\n",
       ".sig03               NA         NA\n",
       ".sig04               NA         NA\n",
       ".sig05               NA         NA\n",
       ".sig06               NA         NA\n",
       "(Intercept)  5.50496139 38.8352923\n",
       "Reward_SideR 0.07395361  0.6676003"
      ]
     },
     "metadata": {},
     "output_type": "display_data"
    }
   ],
   "source": [
    "exp(confint(side_mod, method = \"Wald\"))"
   ]
  },
  {
   "cell_type": "code",
   "execution_count": 20,
   "id": "aa1d4d8b",
   "metadata": {
    "vscode": {
     "languageId": "r"
    }
   },
   "outputs": [
    {
     "data": {
      "image/png": "[encoded data removed]",
      "text/plain": [
       "Plot with title “”"
      ]
     },
     "metadata": {
      "image/png": {
       "height": 420,
       "width": 420
      }
     },
     "output_type": "display_data"
    }
   ],
   "source": [
    "plot(ELP$Visit, ELP$Final_Binary)"
   ]
  },
  {
   "cell_type": "markdown",
   "id": "bca19c16",
   "metadata": {},
   "source": [
    "## Initial Conclusions\n",
    "- Ants choose the Left side of the Y-maze more often than what would be predicted by chance \n",
    "- Ants are significantly less likely to choose the Right side of the Y-maze [0.07-0.67]\n",
    "- Octopamine has no effect on Y-maze side choice compared to the control treatment\n",
    "\n",
    "## Brain lateralisation VS Visual Cues\n",
    "Is the side bias a repercution of natural brain lateralisation or the ants prefer to go towards the experimentor or the wall? **Laura's setup had the wall on the Right whilst Stefanie had the wall on the Left!**"
   ]
  },
  {
   "cell_type": "code",
   "execution_count": 21,
   "id": "c1c5c79e",
   "metadata": {
    "vscode": {
     "languageId": "r"
    }
   },
   "outputs": [
    {
     "data": {
      "text/plain": [
       "\n",
       "Laura Neubauer   Stefanie Kau \n",
       "           108            148 "
      ]
     },
     "metadata": {},
     "output_type": "display_data"
    },
    {
     "data": {
      "image/png": "[encoded data removed]",
      "text/plain": [
       "Plot with title “”"
      ]
     },
     "metadata": {
      "image/png": {
       "height": 420,
       "width": 420
      }
     },
     "output_type": "display_data"
    },
    {
     "data": {
      "image/png": "[encoded data removed]",
      "text/plain": [
       "Plot with title “”"
      ]
     },
     "metadata": {
      "image/png": {
       "height": 420,
       "width": 420
      }
     },
     "output_type": "display_data"
    }
   ],
   "source": [
    "table(ELP$Experimentor) # Sample sizes\n",
    "plot(subset(ELP, ELP$Experimentor == \"Laura Neubauer\")$Reward_Side, subset(ELP, ELP$Experimentor == \"Laura Neubauer\")$Final_Binary)\n",
    "plot(subset(ELP, ELP$Experimentor == \"Stefanie Kau\")$Reward_Side, subset(ELP, ELP$Experimentor == \"Stefanie Kau\")$Final_Binary)"
   ]
  },
  {
   "cell_type": "markdown",
   "id": "bc44157e",
   "metadata": {},
   "source": [
    "**There is a strong side bias towards Left on Laura's data but a very subtle one on Stefanie's data. This could be because ants have brain lateralisation, leading to a preference towards Left, whilst also tending to move away from the wall towards the experimentor. In this case, Stefanie's data, where the experimentor was on the Right, which ants prefer moving towards, balances out with their natural preference of turning Left leading to a smaller bias. In Laura's data however, since both the ant's natural preference and the experimentor were on the Left this leads to a very significant Left bias.**\n",
    "\n",
    "## Looking exclusively at Stefanie's data to decrease the side bias"
   ]
  },
  {
   "cell_type": "code",
   "execution_count": 22,
   "id": "9401138f",
   "metadata": {
    "vscode": {
     "languageId": "r"
    }
   },
   "outputs": [],
   "source": [
    "ELP = subset(ELP, ELP$Experimentor == \"Stefanie Kau\")"
   ]
  },
  {
   "cell_type": "markdown",
   "id": "45c1d877",
   "metadata": {},
   "source": [
    "## Re-run the models above without Experimentor as a random factor"
   ]
  },
  {
   "cell_type": "code",
   "execution_count": 23,
   "id": "8156dff9",
   "metadata": {
    "vscode": {
     "languageId": "r"
    }
   },
   "outputs": [
    {
     "name": "stderr",
     "output_type": "stream",
     "text": [
      "boundary (singular) fit: see help('isSingular')\n",
      "\n",
      "boundary (singular) fit: see help('isSingular')\n",
      "\n",
      "boundary (singular) fit: see help('isSingular')\n",
      "\n",
      "boundary (singular) fit: see help('isSingular')\n",
      "\n",
      "boundary (singular) fit: see help('isSingular')\n",
      "\n",
      "boundary (singular) fit: see help('isSingular')\n",
      "\n",
      "boundary (singular) fit: see help('isSingular')\n",
      "\n"
     ]
    }
   ],
   "source": [
    "null_mod = glmer(Final_Binary ~ 1 + (1|Collection_Date) + (Starvation_Period|Colony_ID) + (1|Ant_ID), data = ELP, family = \"binomial\", glmerControl(optimizer = \"bobyqa\", optCtrl = list(maxfun = 1000000000)))\n",
    "visit_mod = glmer(Final_Binary ~ Visit + (1|Collection_Date) + (Starvation_Period|Colony_ID) + (1|Ant_ID), data = ELP, family = \"binomial\", glmerControl(optimizer = \"bobyqa\", optCtrl = list(maxfun = 1000000000)))\n",
    "solution_mod = glmer(Final_Binary ~ Solution + (1|Collection_Date) + (Starvation_Period|Colony_ID) + (1|Ant_ID), data = ELP, family = \"binomial\", glmerControl(optimizer = \"bobyqa\", optCtrl = list(maxfun = 1000000000)))\n",
    "side_mod = glmer(Final_Binary ~ Reward_Side + (1|Collection_Date) + (Starvation_Period|Colony_ID) + (1|Ant_ID), data = ELP, family = \"binomial\", glmerControl(optimizer = \"bobyqa\", optCtrl = list(maxfun = 1000000000)))\n",
    "tsm_mod = glmer(Final_Binary ~ TSM_Bin + (1|Collection_Date) + (Starvation_Period|Colony_ID) + (1|Ant_ID), data = ELP, family = \"binomial\", glmerControl(optimizer = \"bobyqa\", optCtrl = list(maxfun = 1000000000)))\n",
    "solution_time_mod = glmer(Final_Binary ~ Solution + TSM_Bin + Visit + Solution:TSM_Bin + (1|Collection_Date) + (Starvation_Period|Colony_ID) + (1|Ant_ID), data = ELP, family = \"binomial\", glmerControl(optimizer = \"bobyqa\", optCtrl = list(maxfun = 1000000000)))\n",
    "max_mod = glmer(Final_Binary ~ Solution + Visit + TSM_Bin + Reward_Side + Solution:TSM_Bin + (1|Collection_Date) + (Starvation_Period|Colony_ID) + (1|Ant_ID), data = ELP, family = \"binomial\", glmerControl(optimizer = \"bobyqa\", optCtrl = list(maxfun = 1000000000)))"
   ]
  },
  {
   "cell_type": "code",
   "execution_count": 24,
   "id": "55dbe117",
   "metadata": {
    "vscode": {
     "languageId": "r"
    }
   },
   "outputs": [
    {
     "data": {
      "text/html": [
       "<table class=\"dataframe\">\n",
       "<caption>A aictab: 7 × 8</caption>\n",
       "<thead>\n",
       "\t<tr><th></th><th scope=col>Modnames</th><th scope=col>K</th><th scope=col>AICc</th><th scope=col>Delta_AICc</th><th scope=col>ModelLik</th><th scope=col>AICcWt</th><th scope=col>LL</th><th scope=col>Cum.Wt</th></tr>\n",
       "\t<tr><th></th><th scope=col>&lt;chr&gt;</th><th scope=col>&lt;dbl&gt;</th><th scope=col>&lt;dbl&gt;</th><th scope=col>&lt;dbl&gt;</th><th scope=col>&lt;dbl&gt;</th><th scope=col>&lt;dbl&gt;</th><th scope=col>&lt;dbl&gt;</th><th scope=col>&lt;dbl&gt;</th></tr>\n",
       "</thead>\n",
       "<tbody>\n",
       "\t<tr><th scope=row>1</th><td>null_mod         </td><td> 6</td><td>159.5802</td><td>0.000000</td><td>1.00000000</td><td>0.456784805</td><td>-73.49220</td><td>0.4567848</td></tr>\n",
       "\t<tr><th scope=row>4</th><td>side_mod         </td><td> 7</td><td>161.2759</td><td>1.695764</td><td>0.42832118</td><td>0.195650608</td><td>-73.23796</td><td>0.6524354</td></tr>\n",
       "\t<tr><th scope=row>5</th><td>tsm_mod          </td><td> 7</td><td>161.7618</td><td>2.181609</td><td>0.33594604</td><td>0.153455047</td><td>-73.48088</td><td>0.8058905</td></tr>\n",
       "\t<tr><th scope=row>3</th><td>solution_mod     </td><td> 7</td><td>161.7711</td><td>2.190909</td><td>0.33438764</td><td>0.152743193</td><td>-73.48553</td><td>0.9586337</td></tr>\n",
       "\t<tr><th scope=row>2</th><td>visit_mod        </td><td> 9</td><td>165.4991</td><td>5.918993</td><td>0.05184502</td><td>0.023682020</td><td>-73.09740</td><td>0.9823157</td></tr>\n",
       "\t<tr><th scope=row>6</th><td>solution_time_mod</td><td>12</td><td>166.6920</td><td>7.111804</td><td>0.02855561</td><td>0.013043769</td><td>-70.19042</td><td>0.9953594</td></tr>\n",
       "\t<tr><th scope=row>7</th><td>max_mod          </td><td>13</td><td>168.7589</td><td>9.178755</td><td>0.01015918</td><td>0.004640558</td><td>-70.02124</td><td>1.0000000</td></tr>\n",
       "</tbody>\n",
       "</table>\n"
      ],
      "text/latex": [
       "A aictab: 7 × 8\n",
       "\\begin{tabular}{r|llllllll}\n",
       "  & Modnames & K & AICc & Delta\\_AICc & ModelLik & AICcWt & LL & Cum.Wt\\\\\n",
       "  & <chr> & <dbl> & <dbl> & <dbl> & <dbl> & <dbl> & <dbl> & <dbl>\\\\\n",
       "\\hline\n",
       "\t1 & null\\_mod          &  6 & 159.5802 & 0.000000 & 1.00000000 & 0.456784805 & -73.49220 & 0.4567848\\\\\n",
       "\t4 & side\\_mod          &  7 & 161.2759 & 1.695764 & 0.42832118 & 0.195650608 & -73.23796 & 0.6524354\\\\\n",
       "\t5 & tsm\\_mod           &  7 & 161.7618 & 2.181609 & 0.33594604 & 0.153455047 & -73.48088 & 0.8058905\\\\\n",
       "\t3 & solution\\_mod      &  7 & 161.7711 & 2.190909 & 0.33438764 & 0.152743193 & -73.48553 & 0.9586337\\\\\n",
       "\t2 & visit\\_mod         &  9 & 165.4991 & 5.918993 & 0.05184502 & 0.023682020 & -73.09740 & 0.9823157\\\\\n",
       "\t6 & solution\\_time\\_mod & 12 & 166.6920 & 7.111804 & 0.02855561 & 0.013043769 & -70.19042 & 0.9953594\\\\\n",
       "\t7 & max\\_mod           & 13 & 168.7589 & 9.178755 & 0.01015918 & 0.004640558 & -70.02124 & 1.0000000\\\\\n",
       "\\end{tabular}\n"
      ],
      "text/markdown": [
       "\n",
       "A aictab: 7 × 8\n",
       "\n",
       "| <!--/--> | Modnames &lt;chr&gt; | K &lt;dbl&gt; | AICc &lt;dbl&gt; | Delta_AICc &lt;dbl&gt; | ModelLik &lt;dbl&gt; | AICcWt &lt;dbl&gt; | LL &lt;dbl&gt; | Cum.Wt &lt;dbl&gt; |\n",
       "|---|---|---|---|---|---|---|---|---|\n",
       "| 1 | null_mod          |  6 | 159.5802 | 0.000000 | 1.00000000 | 0.456784805 | -73.49220 | 0.4567848 |\n",
       "| 4 | side_mod          |  7 | 161.2759 | 1.695764 | 0.42832118 | 0.195650608 | -73.23796 | 0.6524354 |\n",
       "| 5 | tsm_mod           |  7 | 161.7618 | 2.181609 | 0.33594604 | 0.153455047 | -73.48088 | 0.8058905 |\n",
       "| 3 | solution_mod      |  7 | 161.7711 | 2.190909 | 0.33438764 | 0.152743193 | -73.48553 | 0.9586337 |\n",
       "| 2 | visit_mod         |  9 | 165.4991 | 5.918993 | 0.05184502 | 0.023682020 | -73.09740 | 0.9823157 |\n",
       "| 6 | solution_time_mod | 12 | 166.6920 | 7.111804 | 0.02855561 | 0.013043769 | -70.19042 | 0.9953594 |\n",
       "| 7 | max_mod           | 13 | 168.7589 | 9.178755 | 0.01015918 | 0.004640558 | -70.02124 | 1.0000000 |\n",
       "\n"
      ],
      "text/plain": [
       "  Modnames          K  AICc     Delta_AICc ModelLik   AICcWt      LL       \n",
       "1 null_mod           6 159.5802 0.000000   1.00000000 0.456784805 -73.49220\n",
       "4 side_mod           7 161.2759 1.695764   0.42832118 0.195650608 -73.23796\n",
       "5 tsm_mod            7 161.7618 2.181609   0.33594604 0.153455047 -73.48088\n",
       "3 solution_mod       7 161.7711 2.190909   0.33438764 0.152743193 -73.48553\n",
       "2 visit_mod          9 165.4991 5.918993   0.05184502 0.023682020 -73.09740\n",
       "6 solution_time_mod 12 166.6920 7.111804   0.02855561 0.013043769 -70.19042\n",
       "7 max_mod           13 168.7589 9.178755   0.01015918 0.004640558 -70.02124\n",
       "  Cum.Wt   \n",
       "1 0.4567848\n",
       "4 0.6524354\n",
       "5 0.8058905\n",
       "3 0.9586337\n",
       "2 0.9823157\n",
       "6 0.9953594\n",
       "7 1.0000000"
      ]
     },
     "metadata": {},
     "output_type": "display_data"
    },
    {
     "data": {
      "text/html": [
       "<dl>\n",
       "\t<dt>$method</dt>\n",
       "\t\t<dd>'raw'</dd>\n",
       "\t<dt>$level</dt>\n",
       "\t\t<dd>0.95</dd>\n",
       "\t<dt>$table</dt>\n",
       "\t\t<dd><table class=\"dataframe\">\n",
       "<caption>A aictab: 4 × 8</caption>\n",
       "<thead>\n",
       "\t<tr><th></th><th scope=col>Modnames</th><th scope=col>K</th><th scope=col>AICc</th><th scope=col>Delta_AICc</th><th scope=col>ModelLik</th><th scope=col>AICcWt</th><th scope=col>LL</th><th scope=col>Cum.Wt</th></tr>\n",
       "\t<tr><th></th><th scope=col>&lt;chr&gt;</th><th scope=col>&lt;dbl&gt;</th><th scope=col>&lt;dbl&gt;</th><th scope=col>&lt;dbl&gt;</th><th scope=col>&lt;dbl&gt;</th><th scope=col>&lt;dbl&gt;</th><th scope=col>&lt;dbl&gt;</th><th scope=col>&lt;dbl&gt;</th></tr>\n",
       "</thead>\n",
       "<tbody>\n",
       "\t<tr><th scope=row>1</th><td>null_mod    </td><td>6</td><td>159.5802</td><td>0.000000</td><td>1.0000000</td><td>0.4567848</td><td>-73.49220</td><td>0.4567848</td></tr>\n",
       "\t<tr><th scope=row>4</th><td>side_mod    </td><td>7</td><td>161.2759</td><td>1.695764</td><td>0.4283212</td><td>0.1956506</td><td>-73.23796</td><td>0.6524354</td></tr>\n",
       "\t<tr><th scope=row>5</th><td>tsm_mod     </td><td>7</td><td>161.7618</td><td>2.181609</td><td>0.3359460</td><td>0.1534550</td><td>-73.48088</td><td>0.8058905</td></tr>\n",
       "\t<tr><th scope=row>3</th><td>solution_mod</td><td>7</td><td>161.7711</td><td>2.190909</td><td>0.3343876</td><td>0.1527432</td><td>-73.48553</td><td>0.9586337</td></tr>\n",
       "</tbody>\n",
       "</table>\n",
       "</dd>\n",
       "</dl>\n"
      ],
      "text/latex": [
       "\\begin{description}\n",
       "\\item[\\$method] 'raw'\n",
       "\\item[\\$level] 0.95\n",
       "\\item[\\$table] A aictab: 4 × 8\n",
       "\\begin{tabular}{r|llllllll}\n",
       "  & Modnames & K & AICc & Delta\\_AICc & ModelLik & AICcWt & LL & Cum.Wt\\\\\n",
       "  & <chr> & <dbl> & <dbl> & <dbl> & <dbl> & <dbl> & <dbl> & <dbl>\\\\\n",
       "\\hline\n",
       "\t1 & null\\_mod     & 6 & 159.5802 & 0.000000 & 1.0000000 & 0.4567848 & -73.49220 & 0.4567848\\\\\n",
       "\t4 & side\\_mod     & 7 & 161.2759 & 1.695764 & 0.4283212 & 0.1956506 & -73.23796 & 0.6524354\\\\\n",
       "\t5 & tsm\\_mod      & 7 & 161.7618 & 2.181609 & 0.3359460 & 0.1534550 & -73.48088 & 0.8058905\\\\\n",
       "\t3 & solution\\_mod & 7 & 161.7711 & 2.190909 & 0.3343876 & 0.1527432 & -73.48553 & 0.9586337\\\\\n",
       "\\end{tabular}\n",
       "\n",
       "\\end{description}\n"
      ],
      "text/markdown": [
       "$method\n",
       ":   'raw'\n",
       "$level\n",
       ":   0.95\n",
       "$table\n",
       ":   \n",
       "A aictab: 4 × 8\n",
       "\n",
       "| <!--/--> | Modnames &lt;chr&gt; | K &lt;dbl&gt; | AICc &lt;dbl&gt; | Delta_AICc &lt;dbl&gt; | ModelLik &lt;dbl&gt; | AICcWt &lt;dbl&gt; | LL &lt;dbl&gt; | Cum.Wt &lt;dbl&gt; |\n",
       "|---|---|---|---|---|---|---|---|---|\n",
       "| 1 | null_mod     | 6 | 159.5802 | 0.000000 | 1.0000000 | 0.4567848 | -73.49220 | 0.4567848 |\n",
       "| 4 | side_mod     | 7 | 161.2759 | 1.695764 | 0.4283212 | 0.1956506 | -73.23796 | 0.6524354 |\n",
       "| 5 | tsm_mod      | 7 | 161.7618 | 2.181609 | 0.3359460 | 0.1534550 | -73.48088 | 0.8058905 |\n",
       "| 3 | solution_mod | 7 | 161.7711 | 2.190909 | 0.3343876 | 0.1527432 | -73.48553 | 0.9586337 |\n",
       "\n",
       "\n",
       "\n",
       "\n"
      ],
      "text/plain": [
       "\n",
       "Confidence set for the best model\n",
       "\n",
       "Method:\t raw sum of model probabilities\n",
       "\n",
       "95% confidence set:\n",
       "             K   AICc Delta_AICc AICcWt\n",
       "null_mod     6 159.58       0.00   0.46\n",
       "side_mod     7 161.28       1.70   0.20\n",
       "tsm_mod      7 161.76       2.18   0.15\n",
       "solution_mod 7 161.77       2.19   0.15\n",
       "\n",
       "Model probabilities sum to 0.96 \n"
      ]
     },
     "metadata": {},
     "output_type": "display_data"
    }
   ],
   "source": [
    "cand_models = list(\"null_mod\" = null_mod, \n",
    "                   \"visit_mod\" = visit_mod,\n",
    "                   \"solution_mod\" = solution_mod,\n",
    "                   \"side_mod\" = side_mod,\n",
    "                   \"tsm_mod\" = tsm_mod,\n",
    "                   \"solution_time_mod\" = solution_time_mod,\n",
    "                   \"max_mod\" = max_mod)\n",
    "\n",
    "aictab(cand_models)\n",
    "confset(cand.set = cand_models) # Remove models that explain the last 0.05 Cum.Wt"
   ]
  },
  {
   "cell_type": "markdown",
   "id": "09b05465",
   "metadata": {},
   "source": [
    "There is no longer a clearly better model!"
   ]
  },
  {
   "cell_type": "code",
   "execution_count": 25,
   "id": "7a07059d",
   "metadata": {
    "scrolled": false,
    "vscode": {
     "languageId": "r"
    }
   },
   "outputs": [
    {
     "data": {
      "text/html": [
       "<dl>\n",
       "\t<dt>$Parameter</dt>\n",
       "\t\t<dd>'(Intercept)'</dd>\n",
       "\t<dt>$Mod.avg.table</dt>\n",
       "\t\t<dd><table class=\"dataframe\">\n",
       "<caption>A aictab: 4 × 9</caption>\n",
       "<thead>\n",
       "\t<tr><th scope=col>Modnames</th><th scope=col>K</th><th scope=col>AICc</th><th scope=col>Delta_AICc</th><th scope=col>ModelLik</th><th scope=col>AICcWt</th><th scope=col>LL</th><th scope=col>Beta_est</th><th scope=col>SE</th></tr>\n",
       "\t<tr><th scope=col>&lt;chr&gt;</th><th scope=col>&lt;dbl&gt;</th><th scope=col>&lt;dbl&gt;</th><th scope=col>&lt;dbl&gt;</th><th scope=col>&lt;dbl&gt;</th><th scope=col>&lt;dbl&gt;</th><th scope=col>&lt;dbl&gt;</th><th scope=col>&lt;dbl&gt;</th><th scope=col>&lt;dbl&gt;</th></tr>\n",
       "</thead>\n",
       "<tbody>\n",
       "\t<tr><td>null_mod    </td><td>6</td><td>159.5802</td><td>0.000000</td><td>1.0000000</td><td>0.4764957</td><td>-73.49220</td><td>1.705840</td><td>0.3688826</td></tr>\n",
       "\t<tr><td>solution_mod</td><td>7</td><td>161.7711</td><td>2.190909</td><td>0.3343876</td><td>0.1593343</td><td>-73.48553</td><td>1.739829</td><td>0.4752198</td></tr>\n",
       "\t<tr><td>side_mod    </td><td>7</td><td>161.2759</td><td>1.695764</td><td>0.4283212</td><td>0.2040932</td><td>-73.23796</td><td>1.949470</td><td>0.5293940</td></tr>\n",
       "\t<tr><td>tsm_mod     </td><td>7</td><td>161.7618</td><td>2.181609</td><td>0.3359460</td><td>0.1600768</td><td>-73.48088</td><td>1.754672</td><td>0.4960953</td></tr>\n",
       "</tbody>\n",
       "</table>\n",
       "</dd>\n",
       "\t<dt>$Mod.avg.beta</dt>\n",
       "\t\t<dd>1.76879588934338</dd>\n",
       "\t<dt>$Uncond.SE</dt>\n",
       "\t\t<dd>0.454019468325707</dd>\n",
       "\t<dt>$Conf.level</dt>\n",
       "\t\t<dd>0.95</dd>\n",
       "\t<dt>$Lower.CL</dt>\n",
       "\t\t<dd>0.878934083144973</dd>\n",
       "\t<dt>$Upper.CL</dt>\n",
       "\t\t<dd>2.65865769554179</dd>\n",
       "</dl>\n"
      ],
      "text/latex": [
       "\\begin{description}\n",
       "\\item[\\$Parameter] '(Intercept)'\n",
       "\\item[\\$Mod.avg.table] A aictab: 4 × 9\n",
       "\\begin{tabular}{lllllllll}\n",
       " Modnames & K & AICc & Delta\\_AICc & ModelLik & AICcWt & LL & Beta\\_est & SE\\\\\n",
       " <chr> & <dbl> & <dbl> & <dbl> & <dbl> & <dbl> & <dbl> & <dbl> & <dbl>\\\\\n",
       "\\hline\n",
       "\t null\\_mod     & 6 & 159.5802 & 0.000000 & 1.0000000 & 0.4764957 & -73.49220 & 1.705840 & 0.3688826\\\\\n",
       "\t solution\\_mod & 7 & 161.7711 & 2.190909 & 0.3343876 & 0.1593343 & -73.48553 & 1.739829 & 0.4752198\\\\\n",
       "\t side\\_mod     & 7 & 161.2759 & 1.695764 & 0.4283212 & 0.2040932 & -73.23796 & 1.949470 & 0.5293940\\\\\n",
       "\t tsm\\_mod      & 7 & 161.7618 & 2.181609 & 0.3359460 & 0.1600768 & -73.48088 & 1.754672 & 0.4960953\\\\\n",
       "\\end{tabular}\n",
       "\n",
       "\\item[\\$Mod.avg.beta] 1.76879588934338\n",
       "\\item[\\$Uncond.SE] 0.454019468325707\n",
       "\\item[\\$Conf.level] 0.95\n",
       "\\item[\\$Lower.CL] 0.878934083144973\n",
       "\\item[\\$Upper.CL] 2.65865769554179\n",
       "\\end{description}\n"
      ],
      "text/markdown": [
       "$Parameter\n",
       ":   '(Intercept)'\n",
       "$Mod.avg.table\n",
       ":   \n",
       "A aictab: 4 × 9\n",
       "\n",
       "| Modnames &lt;chr&gt; | K &lt;dbl&gt; | AICc &lt;dbl&gt; | Delta_AICc &lt;dbl&gt; | ModelLik &lt;dbl&gt; | AICcWt &lt;dbl&gt; | LL &lt;dbl&gt; | Beta_est &lt;dbl&gt; | SE &lt;dbl&gt; |\n",
       "|---|---|---|---|---|---|---|---|---|\n",
       "| null_mod     | 6 | 159.5802 | 0.000000 | 1.0000000 | 0.4764957 | -73.49220 | 1.705840 | 0.3688826 |\n",
       "| solution_mod | 7 | 161.7711 | 2.190909 | 0.3343876 | 0.1593343 | -73.48553 | 1.739829 | 0.4752198 |\n",
       "| side_mod     | 7 | 161.2759 | 1.695764 | 0.4283212 | 0.2040932 | -73.23796 | 1.949470 | 0.5293940 |\n",
       "| tsm_mod      | 7 | 161.7618 | 2.181609 | 0.3359460 | 0.1600768 | -73.48088 | 1.754672 | 0.4960953 |\n",
       "\n",
       "\n",
       "$Mod.avg.beta\n",
       ":   1.76879588934338\n",
       "$Uncond.SE\n",
       ":   0.454019468325707\n",
       "$Conf.level\n",
       ":   0.95\n",
       "$Lower.CL\n",
       ":   0.878934083144973\n",
       "$Upper.CL\n",
       ":   2.65865769554179\n",
       "\n",
       "\n"
      ],
      "text/plain": [
       "\n",
       "Multimodel inference on \"(Intercept)\" based on AICc\n",
       "\n",
       "AICc table used to obtain model-averaged estimate with shrinkage:\n",
       "\n",
       "             K   AICc Delta_AICc AICcWt Estimate   SE\n",
       "null_mod     6 159.58       0.00   0.48     1.71 0.37\n",
       "solution_mod 7 161.77       2.19   0.16     1.74 0.48\n",
       "side_mod     7 161.28       1.70   0.20     1.95 0.53\n",
       "tsm_mod      7 161.76       2.18   0.16     1.75 0.50\n",
       "\n",
       "Model-averaged estimate with shrinkage: 1.77 \n",
       "Unconditional SE: 0.45 \n",
       "95% Unconditional confidence interval: 0.88, 2.66\n"
      ]
     },
     "metadata": {},
     "output_type": "display_data"
    },
    {
     "data": {
      "text/html": [
       "<dl>\n",
       "\t<dt>$Parameter</dt>\n",
       "\t\t<dd>'SolutionOctopamine'</dd>\n",
       "\t<dt>$Mod.avg.table</dt>\n",
       "\t\t<dd><table class=\"dataframe\">\n",
       "<caption>A aictab: 4 × 9</caption>\n",
       "<thead>\n",
       "\t<tr><th scope=col>Modnames</th><th scope=col>K</th><th scope=col>AICc</th><th scope=col>Delta_AICc</th><th scope=col>ModelLik</th><th scope=col>AICcWt</th><th scope=col>LL</th><th scope=col>Beta_est</th><th scope=col>SE</th></tr>\n",
       "\t<tr><th scope=col>&lt;chr&gt;</th><th scope=col>&lt;dbl&gt;</th><th scope=col>&lt;dbl&gt;</th><th scope=col>&lt;dbl&gt;</th><th scope=col>&lt;dbl&gt;</th><th scope=col>&lt;dbl&gt;</th><th scope=col>&lt;dbl&gt;</th><th scope=col>&lt;dbl&gt;</th><th scope=col>&lt;dbl&gt;</th></tr>\n",
       "</thead>\n",
       "<tbody>\n",
       "\t<tr><td>null_mod    </td><td>6</td><td>159.5802</td><td>0.000000</td><td>1.0000000</td><td>0.4764957</td><td>-73.49220</td><td> 0.00000000</td><td>0.0000000</td></tr>\n",
       "\t<tr><td>solution_mod</td><td>7</td><td>161.7711</td><td>2.190909</td><td>0.3343876</td><td>0.1593343</td><td>-73.48553</td><td>-0.06962804</td><td>0.6020347</td></tr>\n",
       "\t<tr><td>side_mod    </td><td>7</td><td>161.2759</td><td>1.695764</td><td>0.4283212</td><td>0.2040932</td><td>-73.23796</td><td> 0.00000000</td><td>0.0000000</td></tr>\n",
       "\t<tr><td>tsm_mod     </td><td>7</td><td>161.7618</td><td>2.181609</td><td>0.3359460</td><td>0.1600768</td><td>-73.48088</td><td> 0.00000000</td><td>0.0000000</td></tr>\n",
       "</tbody>\n",
       "</table>\n",
       "</dd>\n",
       "\t<dt>$Mod.avg.beta</dt>\n",
       "\t\t<dd>-0.0110941333490108</dd>\n",
       "\t<dt>$Uncond.SE</dt>\n",
       "\t\t<dd>0.241659711672587</dd>\n",
       "\t<dt>$Conf.level</dt>\n",
       "\t\t<dd>0.95</dd>\n",
       "\t<dt>$Lower.CL</dt>\n",
       "\t\t<dd>-0.484738464741616</dd>\n",
       "\t<dt>$Upper.CL</dt>\n",
       "\t\t<dd>0.462550198043594</dd>\n",
       "</dl>\n"
      ],
      "text/latex": [
       "\\begin{description}\n",
       "\\item[\\$Parameter] 'SolutionOctopamine'\n",
       "\\item[\\$Mod.avg.table] A aictab: 4 × 9\n",
       "\\begin{tabular}{lllllllll}\n",
       " Modnames & K & AICc & Delta\\_AICc & ModelLik & AICcWt & LL & Beta\\_est & SE\\\\\n",
       " <chr> & <dbl> & <dbl> & <dbl> & <dbl> & <dbl> & <dbl> & <dbl> & <dbl>\\\\\n",
       "\\hline\n",
       "\t null\\_mod     & 6 & 159.5802 & 0.000000 & 1.0000000 & 0.4764957 & -73.49220 &  0.00000000 & 0.0000000\\\\\n",
       "\t solution\\_mod & 7 & 161.7711 & 2.190909 & 0.3343876 & 0.1593343 & -73.48553 & -0.06962804 & 0.6020347\\\\\n",
       "\t side\\_mod     & 7 & 161.2759 & 1.695764 & 0.4283212 & 0.2040932 & -73.23796 &  0.00000000 & 0.0000000\\\\\n",
       "\t tsm\\_mod      & 7 & 161.7618 & 2.181609 & 0.3359460 & 0.1600768 & -73.48088 &  0.00000000 & 0.0000000\\\\\n",
       "\\end{tabular}\n",
       "\n",
       "\\item[\\$Mod.avg.beta] -0.0110941333490108\n",
       "\\item[\\$Uncond.SE] 0.241659711672587\n",
       "\\item[\\$Conf.level] 0.95\n",
       "\\item[\\$Lower.CL] -0.484738464741616\n",
       "\\item[\\$Upper.CL] 0.462550198043594\n",
       "\\end{description}\n"
      ],
      "text/markdown": [
       "$Parameter\n",
       ":   'SolutionOctopamine'\n",
       "$Mod.avg.table\n",
       ":   \n",
       "A aictab: 4 × 9\n",
       "\n",
       "| Modnames &lt;chr&gt; | K &lt;dbl&gt; | AICc &lt;dbl&gt; | Delta_AICc &lt;dbl&gt; | ModelLik &lt;dbl&gt; | AICcWt &lt;dbl&gt; | LL &lt;dbl&gt; | Beta_est &lt;dbl&gt; | SE &lt;dbl&gt; |\n",
       "|---|---|---|---|---|---|---|---|---|\n",
       "| null_mod     | 6 | 159.5802 | 0.000000 | 1.0000000 | 0.4764957 | -73.49220 |  0.00000000 | 0.0000000 |\n",
       "| solution_mod | 7 | 161.7711 | 2.190909 | 0.3343876 | 0.1593343 | -73.48553 | -0.06962804 | 0.6020347 |\n",
       "| side_mod     | 7 | 161.2759 | 1.695764 | 0.4283212 | 0.2040932 | -73.23796 |  0.00000000 | 0.0000000 |\n",
       "| tsm_mod      | 7 | 161.7618 | 2.181609 | 0.3359460 | 0.1600768 | -73.48088 |  0.00000000 | 0.0000000 |\n",
       "\n",
       "\n",
       "$Mod.avg.beta\n",
       ":   -0.0110941333490108\n",
       "$Uncond.SE\n",
       ":   0.241659711672587\n",
       "$Conf.level\n",
       ":   0.95\n",
       "$Lower.CL\n",
       ":   -0.484738464741616\n",
       "$Upper.CL\n",
       ":   0.462550198043594\n",
       "\n",
       "\n"
      ],
      "text/plain": [
       "\n",
       "Multimodel inference on \"SolutionOctopamine\" based on AICc\n",
       "\n",
       "AICc table used to obtain model-averaged estimate with shrinkage:\n",
       "\n",
       "             K   AICc Delta_AICc AICcWt Estimate  SE\n",
       "null_mod     6 159.58       0.00   0.48     0.00 0.0\n",
       "solution_mod 7 161.77       2.19   0.16    -0.07 0.6\n",
       "side_mod     7 161.28       1.70   0.20     0.00 0.0\n",
       "tsm_mod      7 161.76       2.18   0.16     0.00 0.0\n",
       "\n",
       "Model-averaged estimate with shrinkage: -0.01 \n",
       "Unconditional SE: 0.24 \n",
       "95% Unconditional confidence interval: -0.48, 0.46\n"
      ]
     },
     "metadata": {},
     "output_type": "display_data"
    },
    {
     "data": {
      "text/html": [
       "<dl>\n",
       "\t<dt>$Parameter</dt>\n",
       "\t\t<dd>'Reward_SideR'</dd>\n",
       "\t<dt>$Mod.avg.table</dt>\n",
       "\t\t<dd><table class=\"dataframe\">\n",
       "<caption>A aictab: 4 × 9</caption>\n",
       "<thead>\n",
       "\t<tr><th scope=col>Modnames</th><th scope=col>K</th><th scope=col>AICc</th><th scope=col>Delta_AICc</th><th scope=col>ModelLik</th><th scope=col>AICcWt</th><th scope=col>LL</th><th scope=col>Beta_est</th><th scope=col>SE</th></tr>\n",
       "\t<tr><th scope=col>&lt;chr&gt;</th><th scope=col>&lt;dbl&gt;</th><th scope=col>&lt;dbl&gt;</th><th scope=col>&lt;dbl&gt;</th><th scope=col>&lt;dbl&gt;</th><th scope=col>&lt;dbl&gt;</th><th scope=col>&lt;dbl&gt;</th><th scope=col>&lt;dbl&gt;</th><th scope=col>&lt;dbl&gt;</th></tr>\n",
       "</thead>\n",
       "<tbody>\n",
       "\t<tr><td>null_mod    </td><td>6</td><td>159.5802</td><td>0.000000</td><td>1.0000000</td><td>0.4764957</td><td>-73.49220</td><td> 0.0000000</td><td>0.0000000</td></tr>\n",
       "\t<tr><td>solution_mod</td><td>7</td><td>161.7711</td><td>2.190909</td><td>0.3343876</td><td>0.1593343</td><td>-73.48553</td><td> 0.0000000</td><td>0.0000000</td></tr>\n",
       "\t<tr><td>side_mod    </td><td>7</td><td>161.2759</td><td>1.695764</td><td>0.4283212</td><td>0.2040932</td><td>-73.23796</td><td>-0.4567996</td><td>0.6397413</td></tr>\n",
       "\t<tr><td>tsm_mod     </td><td>7</td><td>161.7618</td><td>2.181609</td><td>0.3359460</td><td>0.1600768</td><td>-73.48088</td><td> 0.0000000</td><td>0.0000000</td></tr>\n",
       "</tbody>\n",
       "</table>\n",
       "</dd>\n",
       "\t<dt>$Mod.avg.beta</dt>\n",
       "\t\t<dd>-0.0932297011700836</dd>\n",
       "\t<dt>$Uncond.SE</dt>\n",
       "\t\t<dd>0.342672634829194</dd>\n",
       "\t<dt>$Conf.level</dt>\n",
       "\t\t<dd>0.95</dd>\n",
       "\t<dt>$Lower.CL</dt>\n",
       "\t\t<dd>-0.764855723922749</dd>\n",
       "\t<dt>$Upper.CL</dt>\n",
       "\t\t<dd>0.578396321582582</dd>\n",
       "</dl>\n"
      ],
      "text/latex": [
       "\\begin{description}\n",
       "\\item[\\$Parameter] 'Reward\\_SideR'\n",
       "\\item[\\$Mod.avg.table] A aictab: 4 × 9\n",
       "\\begin{tabular}{lllllllll}\n",
       " Modnames & K & AICc & Delta\\_AICc & ModelLik & AICcWt & LL & Beta\\_est & SE\\\\\n",
       " <chr> & <dbl> & <dbl> & <dbl> & <dbl> & <dbl> & <dbl> & <dbl> & <dbl>\\\\\n",
       "\\hline\n",
       "\t null\\_mod     & 6 & 159.5802 & 0.000000 & 1.0000000 & 0.4764957 & -73.49220 &  0.0000000 & 0.0000000\\\\\n",
       "\t solution\\_mod & 7 & 161.7711 & 2.190909 & 0.3343876 & 0.1593343 & -73.48553 &  0.0000000 & 0.0000000\\\\\n",
       "\t side\\_mod     & 7 & 161.2759 & 1.695764 & 0.4283212 & 0.2040932 & -73.23796 & -0.4567996 & 0.6397413\\\\\n",
       "\t tsm\\_mod      & 7 & 161.7618 & 2.181609 & 0.3359460 & 0.1600768 & -73.48088 &  0.0000000 & 0.0000000\\\\\n",
       "\\end{tabular}\n",
       "\n",
       "\\item[\\$Mod.avg.beta] -0.0932297011700836\n",
       "\\item[\\$Uncond.SE] 0.342672634829194\n",
       "\\item[\\$Conf.level] 0.95\n",
       "\\item[\\$Lower.CL] -0.764855723922749\n",
       "\\item[\\$Upper.CL] 0.578396321582582\n",
       "\\end{description}\n"
      ],
      "text/markdown": [
       "$Parameter\n",
       ":   'Reward_SideR'\n",
       "$Mod.avg.table\n",
       ":   \n",
       "A aictab: 4 × 9\n",
       "\n",
       "| Modnames &lt;chr&gt; | K &lt;dbl&gt; | AICc &lt;dbl&gt; | Delta_AICc &lt;dbl&gt; | ModelLik &lt;dbl&gt; | AICcWt &lt;dbl&gt; | LL &lt;dbl&gt; | Beta_est &lt;dbl&gt; | SE &lt;dbl&gt; |\n",
       "|---|---|---|---|---|---|---|---|---|\n",
       "| null_mod     | 6 | 159.5802 | 0.000000 | 1.0000000 | 0.4764957 | -73.49220 |  0.0000000 | 0.0000000 |\n",
       "| solution_mod | 7 | 161.7711 | 2.190909 | 0.3343876 | 0.1593343 | -73.48553 |  0.0000000 | 0.0000000 |\n",
       "| side_mod     | 7 | 161.2759 | 1.695764 | 0.4283212 | 0.2040932 | -73.23796 | -0.4567996 | 0.6397413 |\n",
       "| tsm_mod      | 7 | 161.7618 | 2.181609 | 0.3359460 | 0.1600768 | -73.48088 |  0.0000000 | 0.0000000 |\n",
       "\n",
       "\n",
       "$Mod.avg.beta\n",
       ":   -0.0932297011700836\n",
       "$Uncond.SE\n",
       ":   0.342672634829194\n",
       "$Conf.level\n",
       ":   0.95\n",
       "$Lower.CL\n",
       ":   -0.764855723922749\n",
       "$Upper.CL\n",
       ":   0.578396321582582\n",
       "\n",
       "\n"
      ],
      "text/plain": [
       "\n",
       "Multimodel inference on \"Reward_SideR\" based on AICc\n",
       "\n",
       "AICc table used to obtain model-averaged estimate with shrinkage:\n",
       "\n",
       "             K   AICc Delta_AICc AICcWt Estimate   SE\n",
       "null_mod     6 159.58       0.00   0.48     0.00 0.00\n",
       "solution_mod 7 161.77       2.19   0.16     0.00 0.00\n",
       "side_mod     7 161.28       1.70   0.20    -0.46 0.64\n",
       "tsm_mod      7 161.76       2.18   0.16     0.00 0.00\n",
       "\n",
       "Model-averaged estimate with shrinkage: -0.09 \n",
       "Unconditional SE: 0.34 \n",
       "95% Unconditional confidence interval: -0.76, 0.58\n"
      ]
     },
     "metadata": {},
     "output_type": "display_data"
    },
    {
     "data": {
      "text/html": [
       "<dl>\n",
       "\t<dt>$Parameter</dt>\n",
       "\t\t<dd>'TSM_Bin31-60'</dd>\n",
       "\t<dt>$Mod.avg.table</dt>\n",
       "\t\t<dd><table class=\"dataframe\">\n",
       "<caption>A aictab: 4 × 9</caption>\n",
       "<thead>\n",
       "\t<tr><th scope=col>Modnames</th><th scope=col>K</th><th scope=col>AICc</th><th scope=col>Delta_AICc</th><th scope=col>ModelLik</th><th scope=col>AICcWt</th><th scope=col>LL</th><th scope=col>Beta_est</th><th scope=col>SE</th></tr>\n",
       "\t<tr><th scope=col>&lt;chr&gt;</th><th scope=col>&lt;dbl&gt;</th><th scope=col>&lt;dbl&gt;</th><th scope=col>&lt;dbl&gt;</th><th scope=col>&lt;dbl&gt;</th><th scope=col>&lt;dbl&gt;</th><th scope=col>&lt;dbl&gt;</th><th scope=col>&lt;dbl&gt;</th><th scope=col>&lt;dbl&gt;</th></tr>\n",
       "</thead>\n",
       "<tbody>\n",
       "\t<tr><td>null_mod    </td><td>6</td><td>159.5802</td><td>0.000000</td><td>1.0000000</td><td>0.4764957</td><td>-73.49220</td><td> 0.00000000</td><td>0.0000000</td></tr>\n",
       "\t<tr><td>solution_mod</td><td>7</td><td>161.7711</td><td>2.190909</td><td>0.3343876</td><td>0.1593343</td><td>-73.48553</td><td> 0.00000000</td><td>0.0000000</td></tr>\n",
       "\t<tr><td>side_mod    </td><td>7</td><td>161.2759</td><td>1.695764</td><td>0.4283212</td><td>0.2040932</td><td>-73.23796</td><td> 0.00000000</td><td>0.0000000</td></tr>\n",
       "\t<tr><td>tsm_mod     </td><td>7</td><td>161.7618</td><td>2.181609</td><td>0.3359460</td><td>0.1600768</td><td>-73.48088</td><td>-0.08875722</td><td>0.5895665</td></tr>\n",
       "</tbody>\n",
       "</table>\n",
       "</dd>\n",
       "\t<dt>$Mod.avg.beta</dt>\n",
       "\t\t<dd>-0.0142079758822563</dd>\n",
       "\t<dt>$Uncond.SE</dt>\n",
       "\t\t<dd>0.238117802923114</dd>\n",
       "\t<dt>$Conf.level</dt>\n",
       "\t\t<dd>0.95</dd>\n",
       "\t<dt>$Lower.CL</dt>\n",
       "\t\t<dd>-0.480910293689365</dd>\n",
       "\t<dt>$Upper.CL</dt>\n",
       "\t\t<dd>0.452494341924853</dd>\n",
       "</dl>\n"
      ],
      "text/latex": [
       "\\begin{description}\n",
       "\\item[\\$Parameter] 'TSM\\_Bin31-60'\n",
       "\\item[\\$Mod.avg.table] A aictab: 4 × 9\n",
       "\\begin{tabular}{lllllllll}\n",
       " Modnames & K & AICc & Delta\\_AICc & ModelLik & AICcWt & LL & Beta\\_est & SE\\\\\n",
       " <chr> & <dbl> & <dbl> & <dbl> & <dbl> & <dbl> & <dbl> & <dbl> & <dbl>\\\\\n",
       "\\hline\n",
       "\t null\\_mod     & 6 & 159.5802 & 0.000000 & 1.0000000 & 0.4764957 & -73.49220 &  0.00000000 & 0.0000000\\\\\n",
       "\t solution\\_mod & 7 & 161.7711 & 2.190909 & 0.3343876 & 0.1593343 & -73.48553 &  0.00000000 & 0.0000000\\\\\n",
       "\t side\\_mod     & 7 & 161.2759 & 1.695764 & 0.4283212 & 0.2040932 & -73.23796 &  0.00000000 & 0.0000000\\\\\n",
       "\t tsm\\_mod      & 7 & 161.7618 & 2.181609 & 0.3359460 & 0.1600768 & -73.48088 & -0.08875722 & 0.5895665\\\\\n",
       "\\end{tabular}\n",
       "\n",
       "\\item[\\$Mod.avg.beta] -0.0142079758822563\n",
       "\\item[\\$Uncond.SE] 0.238117802923114\n",
       "\\item[\\$Conf.level] 0.95\n",
       "\\item[\\$Lower.CL] -0.480910293689365\n",
       "\\item[\\$Upper.CL] 0.452494341924853\n",
       "\\end{description}\n"
      ],
      "text/markdown": [
       "$Parameter\n",
       ":   'TSM_Bin31-60'\n",
       "$Mod.avg.table\n",
       ":   \n",
       "A aictab: 4 × 9\n",
       "\n",
       "| Modnames &lt;chr&gt; | K &lt;dbl&gt; | AICc &lt;dbl&gt; | Delta_AICc &lt;dbl&gt; | ModelLik &lt;dbl&gt; | AICcWt &lt;dbl&gt; | LL &lt;dbl&gt; | Beta_est &lt;dbl&gt; | SE &lt;dbl&gt; |\n",
       "|---|---|---|---|---|---|---|---|---|\n",
       "| null_mod     | 6 | 159.5802 | 0.000000 | 1.0000000 | 0.4764957 | -73.49220 |  0.00000000 | 0.0000000 |\n",
       "| solution_mod | 7 | 161.7711 | 2.190909 | 0.3343876 | 0.1593343 | -73.48553 |  0.00000000 | 0.0000000 |\n",
       "| side_mod     | 7 | 161.2759 | 1.695764 | 0.4283212 | 0.2040932 | -73.23796 |  0.00000000 | 0.0000000 |\n",
       "| tsm_mod      | 7 | 161.7618 | 2.181609 | 0.3359460 | 0.1600768 | -73.48088 | -0.08875722 | 0.5895665 |\n",
       "\n",
       "\n",
       "$Mod.avg.beta\n",
       ":   -0.0142079758822563\n",
       "$Uncond.SE\n",
       ":   0.238117802923114\n",
       "$Conf.level\n",
       ":   0.95\n",
       "$Lower.CL\n",
       ":   -0.480910293689365\n",
       "$Upper.CL\n",
       ":   0.452494341924853\n",
       "\n",
       "\n"
      ],
      "text/plain": [
       "\n",
       "Multimodel inference on \"TSM_Bin31-60\" based on AICc\n",
       "\n",
       "AICc table used to obtain model-averaged estimate with shrinkage:\n",
       "\n",
       "             K   AICc Delta_AICc AICcWt Estimate   SE\n",
       "null_mod     6 159.58       0.00   0.48     0.00 0.00\n",
       "solution_mod 7 161.77       2.19   0.16     0.00 0.00\n",
       "side_mod     7 161.28       1.70   0.20     0.00 0.00\n",
       "tsm_mod      7 161.76       2.18   0.16    -0.09 0.59\n",
       "\n",
       "Model-averaged estimate with shrinkage: -0.01 \n",
       "Unconditional SE: 0.24 \n",
       "95% Unconditional confidence interval: -0.48, 0.45\n"
      ]
     },
     "metadata": {},
     "output_type": "display_data"
    }
   ],
   "source": [
    "top_models = list(\"null_mod\" = null_mod, \n",
    "                   \"solution_mod\" = solution_mod,\n",
    "                   \"side_mod\" = side_mod,\n",
    "                   \"tsm_mod\" = tsm_mod)\n",
    "\n",
    "modavgShrink(top_models, parm = \"(Intercept)\")\n",
    "modavgShrink(top_models, parm = \"SolutionOctopamine\")\n",
    "modavgShrink(top_models, parm = \"Reward_SideR\")\n",
    "modavgShrink(top_models, parm = \"TSM_Bin31-60\")"
   ]
  },
  {
   "cell_type": "markdown",
   "id": "d5e9703d",
   "metadata": {},
   "source": [
    "## Odds\n",
    "**If the odds is 1 there is no effect, therefore if the CI's cross 1 that is not a significant parameter**\n",
    "\n",
    "**Intercept** = 5.9 [2.4, 14.3] -> **Ants do not choose an arm of the Y-maze randomly!**\n",
    "\n",
    "**Solution** = 0.99 [0.6, 1.6] -> There is no effect of Solution!\n",
    "\n",
    "**Side** = 0.9 [0.5, 1.8] -> There is no effect of Side!\n",
    "\n",
    "**TSM** = 0.9 [0.6, 1.6] -> There is no effect of Time Since Marking!"
   ]
  },
  {
   "cell_type": "markdown",
   "id": "21713eb6",
   "metadata": {},
   "source": [
    "## Conclusions\n",
    "- Starting from Visit 2 80% of the ants tested choose correclty and this is retained over visits. This leads to no effect of Visit.\n",
    "- There is no effect of Time Since Marking on final choice.\n",
    "- There is no efect of Octopamine on final choice.\n",
    "- If we look at the data from both experimentors there is a significant side bias towards the Left. However, if we look exclusively at Stefanie's data there is no effect of Side."
   ]
  }
 ],
 "metadata": {
  "kernelspec": {
   "display_name": "R",
   "language": "R",
   "name": "ir"
  },
  "language_info": {
   "codemirror_mode": "r",
   "file_extension": ".r",
   "mimetype": "text/x-r-source",
   "name": "R",
   "pygments_lexer": "r",
   "version": "4.2.1"
  }
 },
 "nbformat": 4,
 "nbformat_minor": 5
}
