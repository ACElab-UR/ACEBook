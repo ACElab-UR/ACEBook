{
 "cells": [
  {
   "cell_type": "markdown",
   "id": "782fd1e5",
   "metadata": {},
   "source": [
    "# Project X\n",
    "<hr style=\"border:2px solid gray\"> </hr>\n",
    "\n",
    "**Author:** X | x@ur.de\n",
    "\n",
    "**Last Updated:** X XXXX"
   ]
  },
  {
   "cell_type": "markdown",
   "id": "a008668c",
   "metadata": {},
   "source": [
    "```{admonition} Questions\n",
    ":class: tip\n",
    "> **Does X?**\n",
    ">> Do?\n",
    ">>> Do?\n",
    "```"
   ]
  },
  {
   "cell_type": "markdown",
   "id": "bfe4740a",
   "metadata": {},
   "source": [
    "## Load Packages & Data"
   ]
  },
  {
   "cell_type": "code",
   "execution_count": 1,
   "id": "1af409eb",
   "metadata": {
    "scrolled": false
   },
   "outputs": [
    {
     "name": "stderr",
     "output_type": "stream",
     "text": [
      "Warning message in read.table(file = file, header = header, sep = sep, quote = quote, :\n",
      "“incomplete final line found by readTableHeader on './Data/Project_X/sample.csv'”\n"
     ]
    },
    {
     "data": {
      "text/html": [
       "<table>\n",
       "<caption>A data.frame: 3 × 11</caption>\n",
       "<thead>\n",
       "\t<tr><th></th><th scope=col>Collection_Date</th><th scope=col>Time_Collection</th><th scope=col>Colony_Origin</th><th scope=col>Starvation_Period</th><th scope=col>Donor_Colony</th><th scope=col>Recipient_Colony</th><th scope=col>First_Visit_Solution</th><th scope=col>First_Visit_Odour_Flavour</th><th scope=col>Side_First_Visit_Solution</th><th scope=col>Initial_Decision</th><th scope=col>Final_Decision</th></tr>\n",
       "\t<tr><th></th><th scope=col>&lt;fct&gt;</th><th scope=col>&lt;fct&gt;</th><th scope=col>&lt;fct&gt;</th><th scope=col>&lt;fct&gt;</th><th scope=col>&lt;int&gt;</th><th scope=col>&lt;int&gt;</th><th scope=col>&lt;fct&gt;</th><th scope=col>&lt;fct&gt;</th><th scope=col>&lt;fct&gt;</th><th scope=col>&lt;fct&gt;</th><th scope=col>&lt;fct&gt;</th></tr>\n",
       "</thead>\n",
       "<tbody>\n",
       "\t<tr><th scope=row>1</th><td>09/06/2021</td><td>09:00-12:00</td><td>11th May - Portugal</td><td>4-days</td><td>16</td><td>13</td><td>1M sucrose + 2000ppm caffeine</td><td>Strawberry</td><td>R</td><td>R</td><td>R</td></tr>\n",
       "\t<tr><th scope=row>2</th><td>14/06/2021</td><td>10:15-12:00</td><td>9th April - Spain  </td><td>4-days</td><td> 2</td><td> 7</td><td>1M sucrose                   </td><td>Apple     </td><td>L</td><td>L</td><td>L</td></tr>\n",
       "\t<tr><th scope=row>3</th><td>14/06/2021</td><td>10:15-12:00</td><td>9th April - Spain  </td><td>4-days</td><td> 2</td><td> 7</td><td>1M sucrose                   </td><td>Apple     </td><td>R</td><td>R</td><td>R</td></tr>\n",
       "</tbody>\n",
       "</table>\n"
      ],
      "text/latex": [
       "A data.frame: 3 × 11\n",
       "\\begin{tabular}{r|lllllllllll}\n",
       "  & Collection\\_Date & Time\\_Collection & Colony\\_Origin & Starvation\\_Period & Donor\\_Colony & Recipient\\_Colony & First\\_Visit\\_Solution & First\\_Visit\\_Odour\\_Flavour & Side\\_First\\_Visit\\_Solution & Initial\\_Decision & Final\\_Decision\\\\\n",
       "  & <fct> & <fct> & <fct> & <fct> & <int> & <int> & <fct> & <fct> & <fct> & <fct> & <fct>\\\\\n",
       "\\hline\n",
       "\t1 & 09/06/2021 & 09:00-12:00 & 11th May - Portugal & 4-days & 16 & 13 & 1M sucrose + 2000ppm caffeine & Strawberry & R & R & R\\\\\n",
       "\t2 & 14/06/2021 & 10:15-12:00 & 9th April - Spain   & 4-days &  2 &  7 & 1M sucrose                    & Apple      & L & L & L\\\\\n",
       "\t3 & 14/06/2021 & 10:15-12:00 & 9th April - Spain   & 4-days &  2 &  7 & 1M sucrose                    & Apple      & R & R & R\\\\\n",
       "\\end{tabular}\n"
      ],
      "text/markdown": [
       "\n",
       "A data.frame: 3 × 11\n",
       "\n",
       "| <!--/--> | Collection_Date &lt;fct&gt; | Time_Collection &lt;fct&gt; | Colony_Origin &lt;fct&gt; | Starvation_Period &lt;fct&gt; | Donor_Colony &lt;int&gt; | Recipient_Colony &lt;int&gt; | First_Visit_Solution &lt;fct&gt; | First_Visit_Odour_Flavour &lt;fct&gt; | Side_First_Visit_Solution &lt;fct&gt; | Initial_Decision &lt;fct&gt; | Final_Decision &lt;fct&gt; |\n",
       "|---|---|---|---|---|---|---|---|---|---|---|---|\n",
       "| 1 | 09/06/2021 | 09:00-12:00 | 11th May - Portugal | 4-days | 16 | 13 | 1M sucrose + 2000ppm caffeine | Strawberry | R | R | R |\n",
       "| 2 | 14/06/2021 | 10:15-12:00 | 9th April - Spain   | 4-days |  2 |  7 | 1M sucrose                    | Apple      | L | L | L |\n",
       "| 3 | 14/06/2021 | 10:15-12:00 | 9th April - Spain   | 4-days |  2 |  7 | 1M sucrose                    | Apple      | R | R | R |\n",
       "\n"
      ],
      "text/plain": [
       "  Collection_Date Time_Collection Colony_Origin       Starvation_Period\n",
       "1 09/06/2021      09:00-12:00     11th May - Portugal 4-days           \n",
       "2 14/06/2021      10:15-12:00     9th April - Spain   4-days           \n",
       "3 14/06/2021      10:15-12:00     9th April - Spain   4-days           \n",
       "  Donor_Colony Recipient_Colony First_Visit_Solution         \n",
       "1 16           13               1M sucrose + 2000ppm caffeine\n",
       "2  2            7               1M sucrose                   \n",
       "3  2            7               1M sucrose                   \n",
       "  First_Visit_Odour_Flavour Side_First_Visit_Solution Initial_Decision\n",
       "1 Strawberry                R                         R               \n",
       "2 Apple                     L                         L               \n",
       "3 Apple                     R                         R               \n",
       "  Final_Decision\n",
       "1 R             \n",
       "2 L             \n",
       "3 R             "
      ]
     },
     "metadata": {},
     "output_type": "display_data"
    }
   ],
   "source": [
    "#require(package)\n",
    "\n",
    "data = read.csv(\"./Data/Project_X/sample.csv\", header = TRUE, stringsAsFactors = TRUE)\n",
    "head(data, n = 3) # Check the data was correctly loaded"
   ]
  }
 ],
 "metadata": {
  "kernelspec": {
   "display_name": "R",
   "language": "R",
   "name": "ir"
  },
  "language_info": {
   "codemirror_mode": "r",
   "file_extension": ".r",
   "mimetype": "text/x-r-source",
   "name": "R",
   "pygments_lexer": "r",
   "version": "4.0.0"
  }
 },
 "nbformat": 4,
 "nbformat_minor": 5
}