{
 "cells": [
  {
   "cell_type": "markdown",
   "id": "65701d60",
   "metadata": {},
   "source": [
    "# ELP.08 - Caffeine Side Learning Y-Maze\n",
    "<hr style=\"border:2px solid gray\"> </hr>\n",
    "\n",
    "**Author:** Henrique Galante | henrique.galante@ur.de\n",
    "\n",
    "**Last Updated:** April 2022\n",
    "\n",
    "This supplement provides the entire R script and output of the statistical analysis performed and figures produced, in their original form. It is presented in the spirit of open and transparent science, but has not been carefully curated."
   ]
  },
  {
   "cell_type": "markdown",
   "id": "b566d21e",
   "metadata": {},
   "source": [
    "## Data handling\n",
    "<hr style=\"border:0.5px solid gray\"> </hr>\n",
    "\n",
    "### Load packages"
   ]
  },
  {
   "cell_type": "code",
   "execution_count": 1,
   "id": "61940a4e",
   "metadata": {
    "scrolled": false
   },
   "outputs": [
    {
     "name": "stderr",
     "output_type": "stream",
     "text": [
      "Loading required package: reshape2\n",
      "\n"
     ]
    },
    {
     "name": "stderr",
     "output_type": "stream",
     "text": [
      "Loading required package: lme4\n",
      "\n"
     ]
    },
    {
     "name": "stderr",
     "output_type": "stream",
     "text": [
      "Loading required package: Matrix\n",
      "\n"
     ]
    },
    {
     "name": "stderr",
     "output_type": "stream",
     "text": [
      "Loading required package: DHARMa\n",
      "\n"
     ]
    },
    {
     "name": "stderr",
     "output_type": "stream",
     "text": [
      "Warning message:\n",
      "“package ‘DHARMa’ was built under R version 4.1.2”\n"
     ]
    },
    {
     "name": "stderr",
     "output_type": "stream",
     "text": [
      "This is DHARMa 0.4.5. For overview type '?DHARMa'. For recent changes, type news(package = 'DHARMa')\n",
      "\n"
     ]
    },
    {
     "name": "stderr",
     "output_type": "stream",
     "text": [
      "Loading required package: car\n",
      "\n"
     ]
    },
    {
     "name": "stderr",
     "output_type": "stream",
     "text": [
      "Loading required package: carData\n",
      "\n"
     ]
    },
    {
     "name": "stderr",
     "output_type": "stream",
     "text": [
      "Warning message:\n",
      "“package ‘carData’ was built under R version 4.1.2”\n"
     ]
    },
    {
     "name": "stderr",
     "output_type": "stream",
     "text": [
      "Loading required package: emmeans\n",
      "\n"
     ]
    },
    {
     "name": "stderr",
     "output_type": "stream",
     "text": [
      "Warning message:\n",
      "“package ‘emmeans’ was built under R version 4.1.2”\n"
     ]
    }
   ],
   "source": [
    "require(reshape2) # For data handling\n",
    "require(lme4) # Linear mixed-effects models\n",
    "require(DHARMa) # Evaluate model fit\n",
    "require(car) # Anova() function [instead of base R anova()]\n",
    "require(emmeans) # Post-hoc analysis on the model"
   ]
  },
  {
   "cell_type": "markdown",
   "id": "d9bd92b9",
   "metadata": {},
   "source": [
    "### Clean-up"
   ]
  },
  {
   "cell_type": "code",
   "execution_count": 2,
   "id": "b8ebda2d",
   "metadata": {},
   "outputs": [],
   "source": [
    "rm(list = ls()) # Remove variables/objects\n",
    "graphics.off() # Close any open graphics"
   ]
  },
  {
   "cell_type": "markdown",
   "id": "c52516d9",
   "metadata": {},
   "source": [
    "### Load data"
   ]
  },
  {
   "cell_type": "code",
   "execution_count": 3,
   "id": "e07d31a0",
   "metadata": {
    "scrolled": false
   },
   "outputs": [
    {
     "name": "stderr",
     "output_type": "stream",
     "text": [
      "Warning message in file(file, \"rt\"):\n",
      "“cannot open file './Data/ELP_08_caffeine_side_learning_Y_maze.csv': No such file or directory”\n"
     ]
    },
    {
     "ename": "ERROR",
     "evalue": "Error in file(file, \"rt\"): cannot open the connection\n",
     "output_type": "error",
     "traceback": [
      "Error in file(file, \"rt\"): cannot open the connection\nTraceback:\n",
      "1. read.csv(\"./Data/ELP_08_caffeine_side_learning_Y_maze.csv\", header = TRUE, \n .     stringsAsFactors = FALSE, sep = \";\")",
      "2. read.table(file = file, header = header, sep = sep, quote = quote, \n .     dec = dec, fill = fill, comment.char = comment.char, ...)",
      "3. file(file, \"rt\")"
     ]
    }
   ],
   "source": [
    "ELP_08 = read.csv(\"./Data/ELP_08_caffeine_side_learning_Y_maze.csv\", header = TRUE, stringsAsFactors = FALSE, sep = \";\")\n",
    "head(ELP_08, n = 1) # Check if data was imported correctly"
   ]
  },
  {
   "cell_type": "markdown",
   "id": "42fc4ac0",
   "metadata": {},
   "source": [
    "### Column descriptions\n",
    "\n",
    "| Column Name            | Description |\n",
    "| ---:                   | :---        |\n",
    "| **Collection_Date**        | Testing date       |\n",
    "| **Time_Collection**        | Starting time of data collection        |\n",
    "| **Experimentor**           | Name of the person collecting the data       |\n",
    "| **Temperature**            | Room temperature at start of data collection        |\n",
    "| **Colony_Origin**          | Country of origin and time of arrival to the lab of the colonies used       |\n",
    "| **Starvation_Period**      | How long were the ants deprived of food for        |\n",
    "| **Donor_Colony**           | ID of the colony where the ant originated from (naive colony)       |\n",
    "| **Recipient_Colony**       | ID of the colony the ant was placed in (non-naive colony)        |\n",
    "| **Ant_ID**                 | ID of the ant used       |\n",
    "| **Visit**                  | Visit number        |\n",
    "| **Solution**               | Which solution was each ant tested with       |\n",
    "| **Reward_Side**            | In which side of the Y-maze was the solution placed        |\n",
    "| **Time_Since_Marking**     | How long was the ant in the nest for between marking (visit 1) and visit 2       |\n",
    "| **Initial_Decision**       | Which side of the Y-maze the ant first crossed a 2cm line        |\n",
    "| **Final_Decision**         | Which side of the Y-maze the ant first touched the solution drop       |\n",
    "| **Number_Relocations**     | How many times was the ant relocated during a visit due to escaping or falling on water        |\n",
    "| **In_Duration**            | How long in seconds did the ant take to reach the drop of solution       |\n",
    "| **Drinking_Duration**      | How long in seconds did the ant take feeding on the drop of solution        |\n",
    "| **Out_Duration**           | How long in seconds did the ant take to return to the bridge       |\n",
    "| **Bridge_Nest_Duration**   | How long in seconds did the ant take to return to the colony       |\n",
    "| **Total_Duration_Minutes** | How long in minutes did the ant take in the whole trip       |\n",
    "| **Trophallaxis**           | Was the ant seen doing trophallaxis after returning to the colony from the visit        |\n",
    "| **Full**                   | Was the ant visibly full (expanded gaster) at the beggining of the visit       | "
   ]
  },
  {
   "cell_type": "markdown",
   "id": "0364d171",
   "metadata": {},
   "source": [
    "### Unblind the solutions"
   ]
  },
  {
   "cell_type": "code",
   "execution_count": 4,
   "id": "156d75a8",
   "metadata": {},
   "outputs": [],
   "source": [
    "ELP_08$Solution = ifelse(ELP_08$Solution == \"B\", \"250ppm Caffeine\", \"Control\")"
   ]
  },
  {
   "cell_type": "markdown",
   "id": "3f38e99b",
   "metadata": {},
   "source": [
    "### Get a binary (right/wrong) initial and final decision and check how many ants switched between their initial and final decision"
   ]
  },
  {
   "cell_type": "code",
   "execution_count": 5,
   "id": "d01edaaa",
   "metadata": {},
   "outputs": [
    {
     "data": {
      "text/html": [
       "'Ants switched their final decision in 4% of the visits!'"
      ],
      "text/latex": [
       "'Ants switched their final decision in 4\\% of the visits!'"
      ],
      "text/markdown": [
       "'Ants switched their final decision in 4% of the visits!'"
      ],
      "text/plain": [
       "[1] \"Ants switched their final decision in 4% of the visits!\""
      ]
     },
     "metadata": {},
     "output_type": "display_data"
    }
   ],
   "source": [
    "ELP_08$Initial_Decision_Binary = ifelse(ELP_08$Initial_Decision == ELP_08$Reward_Side, 1, 0)\n",
    "ELP_08$Final_Decision_Binary = ifelse(ELP_08$Final_Decision == ELP_08$Reward_Side, 1, 0)\n",
    "ELP_08$Switched_Decision_Binary = ifelse(ELP_08$Initial_Decision_Binary == ELP_08$Final_Decision_Binary, 0, 1)\n",
    "paste0(\"Ants switched their final decision in \", round(sum(ELP_08$Switched_Decision_Binary) / nrow(ELP_08) * 100, 0), \"% of the visits!\")"
   ]
  },
  {
   "cell_type": "markdown",
   "id": "b482d886",
   "metadata": {},
   "source": [
    "### Sample size per solution per side"
   ]
  },
  {
   "cell_type": "code",
   "execution_count": 6,
   "id": "14bff7dc",
   "metadata": {},
   "outputs": [
    {
     "data": {
      "text/plain": [
       "                 \n",
       "                   L  R\n",
       "  250ppm Caffeine 24 24\n",
       "  Control         25 24"
      ]
     },
     "metadata": {},
     "output_type": "display_data"
    }
   ],
   "source": [
    "table(ELP_08$Solution, ELP_08$Reward_Side) / 4"
   ]
  },
  {
   "cell_type": "markdown",
   "id": "ec6b38ca",
   "metadata": {},
   "source": [
    "### Ensure that the Bridge_Nest_Duration for visit 2 is the same as the time since marking for visit 2"
   ]
  },
  {
   "cell_type": "code",
   "execution_count": 7,
   "id": "de5a8750",
   "metadata": {},
   "outputs": [
    {
     "name": "stdout",
     "output_type": "stream",
     "text": [
      "[1] \"Warning: Row 1 was changed from 520s to 592s!\"\n",
      "[1] \"Warning: Row 5 was changed from 2651s to 2722s!\"\n",
      "[1] \"Warning: Row 9 was changed from 283s to 620s!\"\n",
      "[1] \"Warning: Row 13 was changed and Bridge_Nest_Duration was NA!\"\n",
      "[1] \"Warning: Row 17 was changed and Bridge_Nest_Duration was NA!\"\n",
      "[1] \"Warning: Row 21 was changed and Bridge_Nest_Duration was NA!\"\n",
      "[1] \"Warning: Row 25 was changed from 316s to 774s!\"\n",
      "[1] \"Warning: Row 29 was changed from 897s to 1327s!\"\n",
      "[1] \"Warning: Row 33 was changed and Bridge_Nest_Duration was NA!\"\n",
      "[1] \"Warning: Row 37 was changed from 900s to 1623s!\"\n",
      "[1] \"Warning: Row 41 was changed from 4860s to 5621s!\"\n",
      "[1] \"Warning: Row 45 was changed from 279s to 553s!\"\n",
      "[1] \"Warning: Row 49 was changed from 6420s to 6711s!\"\n",
      "[1] \"Warning: Row 53 was changed from 1260s to 1577s!\"\n",
      "[1] \"Warning: Row 57 was changed from 5940s to 5945s!\"\n",
      "[1] \"Warning: Row 61 was changed from 226s to 582s!\"\n",
      "[1] \"Warning: Row 65 was changed from 2760s to 3179s!\"\n",
      "[1] \"Warning: Row 69 was changed from 6000s to 6365s!\"\n",
      "[1] \"Warning: Row 73 was changed from 420s to 771s!\"\n",
      "[1] \"Warning: Row 77 was changed from 2580s to 2904s!\"\n",
      "[1] \"Warning: Row 81 was changed from 6120s to 6467s!\"\n",
      "[1] \"Warning: Row 85 was changed from 312s to 456s!\"\n",
      "[1] \"Warning: Row 89 was changed from 2760s to 2908s!\"\n",
      "[1] \"Warning: Row 93 was changed from 5460s to 5615s!\"\n",
      "[1] \"Warning: Row 97 was changed from 300s to 591s!\"\n",
      "[1] \"Warning: Row 101 was changed from 3120s to 3431s!\"\n",
      "[1] \"Warning: Row 105 was changed from 7020s to 7360s!\"\n",
      "[1] \"Warning: Row 109 was changed from 8580s to 8939s!\"\n",
      "[1] \"Warning: Row 113 was changed from 600s to 814s!\"\n",
      "[1] \"Warning: Row 117 was changed from 3540s to 3737s!\"\n",
      "[1] \"Warning: Row 121 was changed from 270s to 565s!\"\n",
      "[1] \"Warning: Row 125 was changed from 2730s to 3038s!\"\n",
      "[1] \"Warning: Row 129 was changed from 5010s to 5310s!\"\n",
      "[1] \"Warning: Row 133 was changed from 1260s to 1449s!\"\n",
      "[1] \"Warning: Row 137 was changed from 4860s to 5051s!\"\n",
      "[1] \"Warning: Row 141 was changed from 9180s to 9373s!\"\n",
      "[1] \"Warning: Row 197 was changed from 605s to 840s!\"\n",
      "[1] \"Warning: Row 201 was changed from 7236s to 2400s!\"\n",
      "[1] \"Warning: Row 205 was changed from 2191s to 4200s!\"\n",
      "[1] \"Warning: Row 209 was changed from 594s to 1320s!\"\n",
      "[1] \"Warning: Row 213 was changed from 4800s to 5220s!\"\n",
      "[1] \"Warning: Row 217 was changed from 376s to 1440s!\"\n",
      "[1] \"Warning: Row 221 was changed from 1080s to 1500s!\"\n",
      "[1] \"Warning: Row 225 was changed from 4200s to 5700s!\"\n",
      "[1] \"Warning: Row 229 was changed from 796s to 1800s!\"\n",
      "[1] \"Warning: Row 233 was changed from 5100s to 4500s!\"\n",
      "[1] \"Warning: Row 237 was changed from 331s to 780s!\"\n",
      "[1] \"Warning: Row 241 was changed from 520s to 480s!\"\n",
      "[1] \"Warning: Row 245 was changed from 389s to 1200s!\"\n",
      "[1] \"Warning: Row 253 was changed from 842s to 960s!\"\n",
      "[1] \"Warning: Row 261 was changed from 367s to 420s!\"\n",
      "[1] \"Warning: Row 269 was changed from 1072s to 1020s!\"\n",
      "[1] \"Warning: Row 273 was changed from 36s to 3360s!\"\n",
      "[1] \"Warning: Row 277 was changed from 474s to 1200s!\"\n",
      "[1] \"Warning: Row 281 was changed from 1115s to 1080s!\"\n",
      "[1] \"Warning: Row 353 was changed from 5460s to 6360s!\"\n"
     ]
    }
   ],
   "source": [
    "for (i in 1:nrow(ELP_08)) {\n",
    "  if (ELP_08$Visit[i] == \"2\" & !is.na(ELP_08$Bridge_Nest_Duration[i])) {\n",
    "    if (ELP_08$Bridge_Nest_Duration[i] != ELP_08$Time_Since_Marking[i]) {\n",
    "      print(paste0(\"Warning: Row \", i, \" was changed from \", ELP_08$Bridge_Nest_Duration[i], \"s to \", ELP_08$Time_Since_Marking[i], \"s!\"))\n",
    "      ELP_08$Bridge_Nest_Duration[i] = ELP_08$Time_Since_Marking[i]\n",
    "    }\n",
    "  }\n",
    "  else if (ELP_08$Visit[i] == \"2\" & is.na(ELP_08$Bridge_Nest_Duration[i])) {\n",
    "    ELP_08$Bridge_Nest_Duration[i] = ELP_08$Time_Since_Marking[i]\n",
    "    print(paste0(\"Warning: Row \", i, \" was changed and Bridge_Nest_Duration was NA!\"))\n",
    "  }\n",
    "}"
   ]
  },
  {
   "cell_type": "markdown",
   "id": "c47aad3b",
   "metadata": {},
   "source": [
    "### Create time intervals to group replicates based on time since marking"
   ]
  },
  {
   "cell_type": "code",
   "execution_count": 8,
   "id": "e8006437",
   "metadata": {},
   "outputs": [],
   "source": [
    "for (i in 1:nrow(ELP_08)) {\n",
    "  if (ELP_08$Time_Since_Marking[i] <= 1800) {\n",
    "    ELP_08$TSM_Bin[i] = \"0-30\"\n",
    "  }\n",
    "  else if (ELP_08$Time_Since_Marking[i] > 1800 & ELP_08$Time_Since_Marking[i] <= 3600) {\n",
    "    ELP_08$TSM_Bin[i] = \"30-60\"\n",
    "  }\n",
    "  else if (ELP_08$Time_Since_Marking[i] > 3600 & ELP_08$Time_Since_Marking[i] <= 5400) {\n",
    "    ELP_08$TSM_Bin[i] = \"60-90\"\n",
    "  }\n",
    "  else if (ELP_08$Time_Since_Marking[i] > 5400 & ELP_08$Time_Since_Marking[i] <= 7200) {\n",
    "    ELP_08$TSM_Bin[i] = \"90-120\"\n",
    "  }\n",
    "  else if (ELP_08$Time_Since_Marking[i] > 7200) {\n",
    "    ELP_08$TSM_Bin[i] = \"120+\"\n",
    "  }\n",
    "  else {\n",
    "    print(\"Warning: Undefined bins!\")\n",
    "  }\n",
    "}"
   ]
  },
  {
   "cell_type": "markdown",
   "id": "239bf7d7",
   "metadata": {},
   "source": [
    "### Sample size per solution per time bin and per side"
   ]
  },
  {
   "cell_type": "code",
   "execution_count": 9,
   "id": "35062160",
   "metadata": {
    "scrolled": true
   },
   "outputs": [
    {
     "data": {
      "text/plain": [
       ", ,  = L\n",
       "\n",
       "                 \n",
       "                  0-30 120+ 30-60 60-90 90-120\n",
       "  250ppm Caffeine    8    3     5     4      4\n",
       "  Control            8    5     4     3      5\n",
       "\n",
       ", ,  = R\n",
       "\n",
       "                 \n",
       "                  0-30 120+ 30-60 60-90 90-120\n",
       "  250ppm Caffeine    8    4     3     5      4\n",
       "  Control            8    5     4     3      4\n"
      ]
     },
     "metadata": {},
     "output_type": "display_data"
    }
   ],
   "source": [
    "table(ELP_08$Solution, ELP_08$TSM_Bin, ELP_08$Reward_Side) / 4"
   ]
  },
  {
   "cell_type": "markdown",
   "id": "7bcfbd99",
   "metadata": {},
   "source": [
    "### Ensure relevant columns are factors"
   ]
  },
  {
   "cell_type": "code",
   "execution_count": 10,
   "id": "1ddb9f84",
   "metadata": {},
   "outputs": [],
   "source": [
    "ELP_08$Collection_Date = as.factor(ELP_08$Collection_Date)\n",
    "ELP_08$Time_Collection = as.factor(ELP_08$Time_Collection)\n",
    "ELP_08$Experimentor = as.factor(ELP_08$Experimentor)\n",
    "ELP_08$Starvation_Period = as.factor(ELP_08$Starvation_Period)\n",
    "ELP_08$Donor_Colony = as.factor(ELP_08$Donor_Colony)\n",
    "ELP_08$Recipient_Colony = as.factor(ELP_08$Recipient_Colony)\n",
    "\n",
    "ELP_08$Visit = as.factor(ELP_08$Visit)\n",
    "ELP_08$Solution = as.factor(ELP_08$Solution)\n",
    "ELP_08$Solution = relevel(ELP_08$Solution, \"Control\")\n",
    "ELP_08$Reward_Side = as.factor(ELP_08$Reward_Side)\n",
    "ELP_08$TSM_Bin = as.factor(ELP_08$TSM_Bin)\n",
    "\n",
    "ELP_08$Initial_Decision_Binary = as.factor(ELP_08$Initial_Decision_Binary)\n",
    "ELP_08$Final_Decision_Binary = as.factor(ELP_08$Final_Decision_Binary)"
   ]
  },
  {
   "cell_type": "markdown",
   "id": "06bf41b2",
   "metadata": {},
   "source": [
    "## Data analysis\n",
    "<hr style=\"border:0.5px solid gray\"> </hr>\n",
    "\n",
    "### Preliminary question\n",
    "#### Do initial and final choices differ significantly?"
   ]
  },
  {
   "cell_type": "code",
   "execution_count": 11,
   "id": "6aca244d",
   "metadata": {},
   "outputs": [
    {
     "data": {
      "text/html": [
       "<table class=\"dataframe\">\n",
       "<caption>A data.frame: 1 × 27</caption>\n",
       "<thead>\n",
       "\t<tr><th></th><th scope=col>Collection_Date</th><th scope=col>Time_Collection</th><th scope=col>Experimentor</th><th scope=col>Temperature</th><th scope=col>Colony_Origin</th><th scope=col>Starvation_Period</th><th scope=col>Donor_Colony</th><th scope=col>Recipient_Colony</th><th scope=col>Ant_ID</th><th scope=col>Visit</th><th scope=col>⋯</th><th scope=col>Drinking_Duration</th><th scope=col>Out_Duration</th><th scope=col>Bridge_Nest_Duration</th><th scope=col>Total_Duration_Minutes</th><th scope=col>Trophallaxis</th><th scope=col>Full</th><th scope=col>Switched_Decision_Binary</th><th scope=col>TSM_Bin</th><th scope=col>variable</th><th scope=col>value</th></tr>\n",
       "\t<tr><th></th><th scope=col>&lt;fct&gt;</th><th scope=col>&lt;fct&gt;</th><th scope=col>&lt;fct&gt;</th><th scope=col>&lt;chr&gt;</th><th scope=col>&lt;chr&gt;</th><th scope=col>&lt;fct&gt;</th><th scope=col>&lt;fct&gt;</th><th scope=col>&lt;fct&gt;</th><th scope=col>&lt;int&gt;</th><th scope=col>&lt;fct&gt;</th><th scope=col>⋯</th><th scope=col>&lt;int&gt;</th><th scope=col>&lt;int&gt;</th><th scope=col>&lt;int&gt;</th><th scope=col>&lt;chr&gt;</th><th scope=col>&lt;chr&gt;</th><th scope=col>&lt;chr&gt;</th><th scope=col>&lt;dbl&gt;</th><th scope=col>&lt;fct&gt;</th><th scope=col>&lt;fct&gt;</th><th scope=col>&lt;fct&gt;</th></tr>\n",
       "</thead>\n",
       "<tbody>\n",
       "\t<tr><th scope=row>1</th><td>18.03.22</td><td>09:45</td><td>Stefanie Kau</td><td>24,3</td><td>26th January - Spain</td><td>4-days</td><td>35</td><td>36</td><td>1</td><td>2</td><td>⋯</td><td>61</td><td>20</td><td>592</td><td>10,5</td><td>NA</td><td>No</td><td>0</td><td>0-30</td><td>Initial_Decision_Binary</td><td>0</td></tr>\n",
       "</tbody>\n",
       "</table>\n"
      ],
      "text/latex": [
       "A data.frame: 1 × 27\n",
       "\\begin{tabular}{r|lllllllllllllllllllll}\n",
       "  & Collection\\_Date & Time\\_Collection & Experimentor & Temperature & Colony\\_Origin & Starvation\\_Period & Donor\\_Colony & Recipient\\_Colony & Ant\\_ID & Visit & ⋯ & Drinking\\_Duration & Out\\_Duration & Bridge\\_Nest\\_Duration & Total\\_Duration\\_Minutes & Trophallaxis & Full & Switched\\_Decision\\_Binary & TSM\\_Bin & variable & value\\\\\n",
       "  & <fct> & <fct> & <fct> & <chr> & <chr> & <fct> & <fct> & <fct> & <int> & <fct> & ⋯ & <int> & <int> & <int> & <chr> & <chr> & <chr> & <dbl> & <fct> & <fct> & <fct>\\\\\n",
       "\\hline\n",
       "\t1 & 18.03.22 & 09:45 & Stefanie Kau & 24,3 & 26th January - Spain & 4-days & 35 & 36 & 1 & 2 & ⋯ & 61 & 20 & 592 & 10,5 & NA & No & 0 & 0-30 & Initial\\_Decision\\_Binary & 0\\\\\n",
       "\\end{tabular}\n"
      ],
      "text/markdown": [
       "\n",
       "A data.frame: 1 × 27\n",
       "\n",
       "| <!--/--> | Collection_Date &lt;fct&gt; | Time_Collection &lt;fct&gt; | Experimentor &lt;fct&gt; | Temperature &lt;chr&gt; | Colony_Origin &lt;chr&gt; | Starvation_Period &lt;fct&gt; | Donor_Colony &lt;fct&gt; | Recipient_Colony &lt;fct&gt; | Ant_ID &lt;int&gt; | Visit &lt;fct&gt; | ⋯ ⋯ | Drinking_Duration &lt;int&gt; | Out_Duration &lt;int&gt; | Bridge_Nest_Duration &lt;int&gt; | Total_Duration_Minutes &lt;chr&gt; | Trophallaxis &lt;chr&gt; | Full &lt;chr&gt; | Switched_Decision_Binary &lt;dbl&gt; | TSM_Bin &lt;fct&gt; | variable &lt;fct&gt; | value &lt;fct&gt; |\n",
       "|---|---|---|---|---|---|---|---|---|---|---|---|---|---|---|---|---|---|---|---|---|---|\n",
       "| 1 | 18.03.22 | 09:45 | Stefanie Kau | 24,3 | 26th January - Spain | 4-days | 35 | 36 | 1 | 2 | ⋯ | 61 | 20 | 592 | 10,5 | NA | No | 0 | 0-30 | Initial_Decision_Binary | 0 |\n",
       "\n"
      ],
      "text/plain": [
       "  Collection_Date Time_Collection Experimentor Temperature Colony_Origin       \n",
       "1 18.03.22        09:45           Stefanie Kau 24,3        26th January - Spain\n",
       "  Starvation_Period Donor_Colony Recipient_Colony Ant_ID Visit ⋯\n",
       "1 4-days            35           36               1      2     ⋯\n",
       "  Drinking_Duration Out_Duration Bridge_Nest_Duration Total_Duration_Minutes\n",
       "1 61                20           592                  10,5                  \n",
       "  Trophallaxis Full Switched_Decision_Binary TSM_Bin variable               \n",
       "1 NA           No   0                        0-30    Initial_Decision_Binary\n",
       "  value\n",
       "1 0    "
      ]
     },
     "metadata": {},
     "output_type": "display_data"
    }
   ],
   "source": [
    "initial_final_diff = melt(ELP_08, measure.vars = c(\"Initial_Decision_Binary\", \"Final_Decision_Binary\"))\n",
    "initial_final_diff$value = as.factor(initial_final_diff$value)\n",
    "head(initial_final_diff, n = 1) # Check if data was imported correctly"
   ]
  },
  {
   "cell_type": "code",
   "execution_count": 12,
   "id": "d58dbbf0",
   "metadata": {},
   "outputs": [
    {
     "name": "stderr",
     "output_type": "stream",
     "text": [
      "boundary (singular) fit: see ?isSingular\n",
      "\n"
     ]
    },
    {
     "data": {
      "text/html": [
       "<table class=\"dataframe\">\n",
       "<caption>A anova: 1 × 3</caption>\n",
       "<thead>\n",
       "\t<tr><th></th><th scope=col>Chisq</th><th scope=col>Df</th><th scope=col>Pr(&gt;Chisq)</th></tr>\n",
       "\t<tr><th></th><th scope=col>&lt;dbl&gt;</th><th scope=col>&lt;dbl&gt;</th><th scope=col>&lt;dbl&gt;</th></tr>\n",
       "</thead>\n",
       "<tbody>\n",
       "\t<tr><th scope=row>variable</th><td>0.5008821</td><td>1</td><td>0.4791128</td></tr>\n",
       "</tbody>\n",
       "</table>\n"
      ],
      "text/latex": [
       "A anova: 1 × 3\n",
       "\\begin{tabular}{r|lll}\n",
       "  & Chisq & Df & Pr(>Chisq)\\\\\n",
       "  & <dbl> & <dbl> & <dbl>\\\\\n",
       "\\hline\n",
       "\tvariable & 0.5008821 & 1 & 0.4791128\\\\\n",
       "\\end{tabular}\n"
      ],
      "text/markdown": [
       "\n",
       "A anova: 1 × 3\n",
       "\n",
       "| <!--/--> | Chisq &lt;dbl&gt; | Df &lt;dbl&gt; | Pr(&gt;Chisq) &lt;dbl&gt; |\n",
       "|---|---|---|---|\n",
       "| variable | 0.5008821 | 1 | 0.4791128 |\n",
       "\n"
      ],
      "text/plain": [
       "         Chisq     Df Pr(>Chisq)\n",
       "variable 0.5008821 1  0.4791128 "
      ]
     },
     "metadata": {},
     "output_type": "display_data"
    }
   ],
   "source": [
    "diff_model = glmer(value ~ variable + (1|Starvation_Period) + (1|Experimentor/Collection_Date), data = initial_final_diff,family = binomial, glmerControl(optimizer = \"bobyqa\", optCtrl = list(maxfun = 1000000000)))\n",
    "Anova(diff_model)"
   ]
  },
  {
   "cell_type": "code",
   "execution_count": 13,
   "id": "e60e062e",
   "metadata": {
    "scrolled": true
   },
   "outputs": [
    {
     "data": {
      "text/plain": [
       " contrast                                        odds.ratio   SE  df null\n",
       " Initial_Decision_Binary / Final_Decision_Binary      0.895 0.14 Inf    1\n",
       " z.ratio p.value\n",
       "  -0.708  0.4791\n",
       "\n",
       "Tests are performed on the log odds ratio scale "
      ]
     },
     "metadata": {},
     "output_type": "display_data"
    }
   ],
   "source": [
    "e = emmeans(diff_model, ~variable, type = \"response\")\n",
    "pairs(e)"
   ]
  },
  {
   "cell_type": "markdown",
   "id": "cd43b22b",
   "metadata": {},
   "source": [
    "There is no siginificant difference between inital and final decision, hence we will only use final decision for further analysis as this is a better measure of learning considering it allows the individuals to correct a potentially wrong initial choice (which could be attributed to exploration)\n",
    "### Modelling\n",
    "Instead of building a super complicated model with all possible interactions, we will consider two-way interactions (three-way+ interactions are almost impossible to interpret biologically) exclusively: how do pairs of variables affect each other?\n",
    "\n",
    "y ~ (a + b + c)^2 gets all two way combinations of the variables in the brackets, hence being a faster way of getting this model:\n",
    "\n",
    "y ~ a + b + c + a:b + a:c + b:c\n",
    "\n",
    "We start with the maximal model below and simplify gradually by removing terms that explain little to no variation in this way obtaining a simpler, equally, if not more, meaningful."
   ]
  },
  {
   "cell_type": "code",
   "execution_count": 14,
   "id": "7c0b3886",
   "metadata": {
    "scrolled": true
   },
   "outputs": [
    {
     "name": "stderr",
     "output_type": "stream",
     "text": [
      "boundary (singular) fit: see ?isSingular\n",
      "\n"
     ]
    }
   ],
   "source": [
    "mod1 = glmer(Final_Decision_Binary ~ (Reward_Side + Solution + TSM_Bin + Visit)^2  +\n",
    "               (1|Starvation_Period) + (1|Experimentor/Collection_Date), \n",
    "             data = ELP_08, family = \"binomial\", glmerControl(optimizer = \"bobyqa\", optCtrl = list(maxfun = 1000000000)))"
   ]
  },
  {
   "cell_type": "markdown",
   "id": "082e81a1",
   "metadata": {},
   "source": [
    "#### Is the maximal model a good fit to the data?"
   ]
  },
  {
   "cell_type": "code",
   "execution_count": 15,
   "id": "d4f8a6ba",
   "metadata": {
    "scrolled": true
   },
   "outputs": [
    {
     "data": {
      "image/png": "[encoded data removed]",
      "text/plain": [
       "Plot with title “QQ plot residuals”"
      ]
     },
     "metadata": {
      "filenames": {
       "image/png": "/Users/icaru/Desktop/ACEBook/content/_build/jupyter_execute/ELP_08_analysis_29_0.png"
      },
      "image/png": {
       "height": 420,
       "width": 420
      }
     },
     "output_type": "display_data"
    }
   ],
   "source": [
    "simres = simulateResiduals(mod1)\n",
    "plot(simres, asFactor = T)"
   ]
  },
  {
   "cell_type": "markdown",
   "id": "f2c23536",
   "metadata": {},
   "source": [
    "Yes, the diagnostic plots indicate the model is good\n",
    "#### Model simplification"
   ]
  },
  {
   "cell_type": "code",
   "execution_count": 16,
   "id": "c9ffe583",
   "metadata": {},
   "outputs": [
    {
     "name": "stderr",
     "output_type": "stream",
     "text": [
      "\n",
      "Correlation matrix not shown by default, as p = 37 > 12.\n",
      "Use print(obj, correlation=TRUE)  or\n",
      "    vcov(obj)        if you need it\n",
      "\n",
      "\n"
     ]
    },
    {
     "data": {
      "text/plain": [
       "Generalized linear mixed model fit by maximum likelihood (Laplace\n",
       "  Approximation) [glmerMod]\n",
       " Family: binomial  ( logit )\n",
       "Formula: \n",
       "Final_Decision_Binary ~ (Reward_Side + Solution + TSM_Bin + Visit)^2 +  \n",
       "    (1 | Starvation_Period) + (1 | Experimentor/Collection_Date)\n",
       "   Data: ELP_08\n",
       "Control: glmerControl(optimizer = \"bobyqa\", optCtrl = list(maxfun = 1e+09))\n",
       "\n",
       "     AIC      BIC   logLik deviance df.resid \n",
       "   514.6    673.0   -217.3    434.6      348 \n",
       "\n",
       "Scaled residuals: \n",
       "    Min      1Q  Median      3Q     Max \n",
       "-3.9540 -0.8221  0.3942  0.6245  1.5911 \n",
       "\n",
       "Random effects:\n",
       " Groups                       Name        Variance Std.Dev.\n",
       " Collection_Date:Experimentor (Intercept) 0.3363   0.5799  \n",
       " Experimentor                 (Intercept) 0.0000   0.0000  \n",
       " Starvation_Period            (Intercept) 0.0000   0.0000  \n",
       "Number of obs: 388, groups:  \n",
       "Collection_Date:Experimentor, 20; Experimentor, 3; Starvation_Period, 2\n",
       "\n",
       "Fixed effects:\n",
       "                                      Estimate Std. Error z value Pr(>|z|)    \n",
       "(Intercept)                            1.53294    0.68387   2.242 0.024989 *  \n",
       "Reward_SideR                          -1.21874    0.68770  -1.772 0.076363 .  \n",
       "Solution250ppm Caffeine                0.64058    0.71846   0.892 0.372604    \n",
       "TSM_Bin120+                           -0.55633    0.91148  -0.610 0.541623    \n",
       "TSM_Bin30-60                          -0.17458    0.92505  -0.189 0.850311    \n",
       "TSM_Bin60-90                          -0.08304    1.03966  -0.080 0.936338    \n",
       "TSM_Bin90-120                          0.39578    0.93700   0.422 0.672738    \n",
       "Visit3                                -1.15277    0.77536  -1.487 0.137080    \n",
       "Visit4                                -1.79336    0.77943  -2.301 0.021399 *  \n",
       "Visit5                                -0.80825    0.78995  -1.023 0.306229    \n",
       "Reward_SideR:Solution250ppm Caffeine   0.22682    0.64516   0.352 0.725165    \n",
       "Reward_SideR:TSM_Bin120+              -0.17722    0.80208  -0.221 0.825130    \n",
       "Reward_SideR:TSM_Bin30-60              0.06706    0.71363   0.094 0.925131    \n",
       "Reward_SideR:TSM_Bin60-90             -0.06955    0.84527  -0.082 0.934425    \n",
       "Reward_SideR:TSM_Bin90-120             0.05101    0.74791   0.068 0.945627    \n",
       "Reward_SideR:Visit3                    0.99239    0.68167   1.456 0.145442    \n",
       "Reward_SideR:Visit4                    0.84676    0.70055   1.209 0.226774    \n",
       "Reward_SideR:Visit5                    0.31302    0.70499   0.444 0.657039    \n",
       "Solution250ppm Caffeine:TSM_Bin120+   -0.81920    0.81836  -1.001 0.316811    \n",
       "Solution250ppm Caffeine:TSM_Bin30-60  -0.28283    0.73595  -0.384 0.700747    \n",
       "Solution250ppm Caffeine:TSM_Bin60-90   0.34998    0.82376   0.425 0.670941    \n",
       "Solution250ppm Caffeine:TSM_Bin90-120 -1.81700    0.77932  -2.332 0.019726 *  \n",
       "Solution250ppm Caffeine:Visit3         0.53993    0.67738   0.797 0.425400    \n",
       "Solution250ppm Caffeine:Visit4        -0.95501    0.69071  -1.383 0.166774    \n",
       "Solution250ppm Caffeine:Visit5        -0.70304    0.69672  -1.009 0.312941    \n",
       "TSM_Bin120+:Visit3                     1.21681    0.98898   1.230 0.218561    \n",
       "TSM_Bin30-60:Visit3                    0.11994    1.00277   0.120 0.904791    \n",
       "TSM_Bin60-90:Visit3                   -0.12817    1.11014  -0.115 0.908085    \n",
       "TSM_Bin90-120:Visit3                  -0.18758    0.96219  -0.195 0.845430    \n",
       "TSM_Bin120+:Visit4                     3.79102    1.12166   3.380 0.000725 ***\n",
       "TSM_Bin30-60:Visit4                    0.43249    0.98586   0.439 0.660883    \n",
       "TSM_Bin60-90:Visit4                    1.36068    1.08807   1.251 0.211098    \n",
       "TSM_Bin90-120:Visit4                   2.20128    1.00460   2.191 0.028437 *  \n",
       "TSM_Bin120+:Visit5                     1.21945    0.96393   1.265 0.205842    \n",
       "TSM_Bin30-60:Visit5                    0.67491    0.98456   0.685 0.493030    \n",
       "TSM_Bin60-90:Visit5                    1.47436    1.18767   1.241 0.214459    \n",
       "TSM_Bin90-120:Visit5                   2.65570    1.13915   2.331 0.019737 *  \n",
       "---\n",
       "Signif. codes:  0 ‘***’ 0.001 ‘**’ 0.01 ‘*’ 0.05 ‘.’ 0.1 ‘ ’ 1\n",
       "optimizer (bobyqa) convergence code: 0 (OK)\n",
       "boundary (singular) fit: see ?isSingular\n"
      ]
     },
     "metadata": {},
     "output_type": "display_data"
    },
    {
     "data": {
      "text/html": [
       "<table class=\"dataframe\">\n",
       "<caption>A anova: 10 × 3</caption>\n",
       "<thead>\n",
       "\t<tr><th></th><th scope=col>Chisq</th><th scope=col>Df</th><th scope=col>Pr(&gt;Chisq)</th></tr>\n",
       "\t<tr><th></th><th scope=col>&lt;dbl&gt;</th><th scope=col>&lt;dbl&gt;</th><th scope=col>&lt;dbl&gt;</th></tr>\n",
       "</thead>\n",
       "<tbody>\n",
       "\t<tr><th scope=row>Reward_Side</th><td> 3.5695647</td><td> 1</td><td>0.05884774</td></tr>\n",
       "\t<tr><th scope=row>Solution</th><td> 0.1671296</td><td> 1</td><td>0.68267556</td></tr>\n",
       "\t<tr><th scope=row>TSM_Bin</th><td> 4.7138207</td><td> 4</td><td>0.31794103</td></tr>\n",
       "\t<tr><th scope=row>Visit</th><td> 3.7498006</td><td> 3</td><td>0.28977941</td></tr>\n",
       "\t<tr><th scope=row>Reward_Side:Solution</th><td> 0.1235976</td><td> 1</td><td>0.72516493</td></tr>\n",
       "\t<tr><th scope=row>Reward_Side:TSM_Bin</th><td> 0.1025519</td><td> 4</td><td>0.99872947</td></tr>\n",
       "\t<tr><th scope=row>Reward_Side:Visit</th><td> 2.7040478</td><td> 3</td><td>0.43953985</td></tr>\n",
       "\t<tr><th scope=row>Solution:TSM_Bin</th><td> 6.8689703</td><td> 4</td><td>0.14297669</td></tr>\n",
       "\t<tr><th scope=row>Solution:Visit</th><td> 5.9917677</td><td> 3</td><td>0.11201143</td></tr>\n",
       "\t<tr><th scope=row>TSM_Bin:Visit</th><td>22.3343667</td><td>12</td><td>0.03393882</td></tr>\n",
       "</tbody>\n",
       "</table>\n"
      ],
      "text/latex": [
       "A anova: 10 × 3\n",
       "\\begin{tabular}{r|lll}\n",
       "  & Chisq & Df & Pr(>Chisq)\\\\\n",
       "  & <dbl> & <dbl> & <dbl>\\\\\n",
       "\\hline\n",
       "\tReward\\_Side &  3.5695647 &  1 & 0.05884774\\\\\n",
       "\tSolution &  0.1671296 &  1 & 0.68267556\\\\\n",
       "\tTSM\\_Bin &  4.7138207 &  4 & 0.31794103\\\\\n",
       "\tVisit &  3.7498006 &  3 & 0.28977941\\\\\n",
       "\tReward\\_Side:Solution &  0.1235976 &  1 & 0.72516493\\\\\n",
       "\tReward\\_Side:TSM\\_Bin &  0.1025519 &  4 & 0.99872947\\\\\n",
       "\tReward\\_Side:Visit &  2.7040478 &  3 & 0.43953985\\\\\n",
       "\tSolution:TSM\\_Bin &  6.8689703 &  4 & 0.14297669\\\\\n",
       "\tSolution:Visit &  5.9917677 &  3 & 0.11201143\\\\\n",
       "\tTSM\\_Bin:Visit & 22.3343667 & 12 & 0.03393882\\\\\n",
       "\\end{tabular}\n"
      ],
      "text/markdown": [
       "\n",
       "A anova: 10 × 3\n",
       "\n",
       "| <!--/--> | Chisq &lt;dbl&gt; | Df &lt;dbl&gt; | Pr(&gt;Chisq) &lt;dbl&gt; |\n",
       "|---|---|---|---|\n",
       "| Reward_Side |  3.5695647 |  1 | 0.05884774 |\n",
       "| Solution |  0.1671296 |  1 | 0.68267556 |\n",
       "| TSM_Bin |  4.7138207 |  4 | 0.31794103 |\n",
       "| Visit |  3.7498006 |  3 | 0.28977941 |\n",
       "| Reward_Side:Solution |  0.1235976 |  1 | 0.72516493 |\n",
       "| Reward_Side:TSM_Bin |  0.1025519 |  4 | 0.99872947 |\n",
       "| Reward_Side:Visit |  2.7040478 |  3 | 0.43953985 |\n",
       "| Solution:TSM_Bin |  6.8689703 |  4 | 0.14297669 |\n",
       "| Solution:Visit |  5.9917677 |  3 | 0.11201143 |\n",
       "| TSM_Bin:Visit | 22.3343667 | 12 | 0.03393882 |\n",
       "\n"
      ],
      "text/plain": [
       "                     Chisq      Df Pr(>Chisq)\n",
       "Reward_Side           3.5695647  1 0.05884774\n",
       "Solution              0.1671296  1 0.68267556\n",
       "TSM_Bin               4.7138207  4 0.31794103\n",
       "Visit                 3.7498006  3 0.28977941\n",
       "Reward_Side:Solution  0.1235976  1 0.72516493\n",
       "Reward_Side:TSM_Bin   0.1025519  4 0.99872947\n",
       "Reward_Side:Visit     2.7040478  3 0.43953985\n",
       "Solution:TSM_Bin      6.8689703  4 0.14297669\n",
       "Solution:Visit        5.9917677  3 0.11201143\n",
       "TSM_Bin:Visit        22.3343667 12 0.03393882"
      ]
     },
     "metadata": {},
     "output_type": "display_data"
    },
    {
     "data": {
      "text/html": [
       "<style>\n",
       ".list-inline {list-style: none; margin:0; padding: 0}\n",
       ".list-inline>li {display: inline-block}\n",
       ".list-inline>li:not(:last-child)::after {content: \"\\00b7\"; padding: 0 .5ex}\n",
       "</style>\n",
       "<ol class=list-inline><li>'Reward_Side:Solution'</li><li>'Reward_Side:TSM_Bin'</li><li>'Reward_Side:Visit'</li><li>'Solution:TSM_Bin'</li><li>'Solution:Visit'</li><li>'TSM_Bin:Visit'</li></ol>\n"
      ],
      "text/latex": [
       "\\begin{enumerate*}\n",
       "\\item 'Reward\\_Side:Solution'\n",
       "\\item 'Reward\\_Side:TSM\\_Bin'\n",
       "\\item 'Reward\\_Side:Visit'\n",
       "\\item 'Solution:TSM\\_Bin'\n",
       "\\item 'Solution:Visit'\n",
       "\\item 'TSM\\_Bin:Visit'\n",
       "\\end{enumerate*}\n"
      ],
      "text/markdown": [
       "1. 'Reward_Side:Solution'\n",
       "2. 'Reward_Side:TSM_Bin'\n",
       "3. 'Reward_Side:Visit'\n",
       "4. 'Solution:TSM_Bin'\n",
       "5. 'Solution:Visit'\n",
       "6. 'TSM_Bin:Visit'\n",
       "\n",
       "\n"
      ],
      "text/plain": [
       "[1] \"Reward_Side:Solution\" \"Reward_Side:TSM_Bin\"  \"Reward_Side:Visit\"   \n",
       "[4] \"Solution:TSM_Bin\"     \"Solution:Visit\"       \"TSM_Bin:Visit\"       "
      ]
     },
     "metadata": {},
     "output_type": "display_data"
    }
   ],
   "source": [
    "summary(mod1)\n",
    "Anova(mod1)\n",
    "drop.scope(mod1)"
   ]
  },
  {
   "cell_type": "code",
   "execution_count": 17,
   "id": "576b0687",
   "metadata": {
    "scrolled": true
   },
   "outputs": [
    {
     "name": "stderr",
     "output_type": "stream",
     "text": [
      "boundary (singular) fit: see ?isSingular\n",
      "\n"
     ]
    },
    {
     "data": {
      "text/html": [
       "<table class=\"dataframe\">\n",
       "<caption>A anova: 2 × 8</caption>\n",
       "<thead>\n",
       "\t<tr><th></th><th scope=col>npar</th><th scope=col>AIC</th><th scope=col>BIC</th><th scope=col>logLik</th><th scope=col>deviance</th><th scope=col>Chisq</th><th scope=col>Df</th><th scope=col>Pr(&gt;Chisq)</th></tr>\n",
       "\t<tr><th></th><th scope=col>&lt;dbl&gt;</th><th scope=col>&lt;dbl&gt;</th><th scope=col>&lt;dbl&gt;</th><th scope=col>&lt;dbl&gt;</th><th scope=col>&lt;dbl&gt;</th><th scope=col>&lt;dbl&gt;</th><th scope=col>&lt;dbl&gt;</th><th scope=col>&lt;dbl&gt;</th></tr>\n",
       "</thead>\n",
       "<tbody>\n",
       "\t<tr><th scope=row>mod2</th><td>36</td><td>506.6575</td><td>649.2536</td><td>-217.3287</td><td>434.6575</td><td>       NA</td><td>NA</td><td>       NA</td></tr>\n",
       "\t<tr><th scope=row>mod1</th><td>40</td><td>514.5552</td><td>672.9954</td><td>-217.2776</td><td>434.5552</td><td>0.1023017</td><td> 4</td><td>0.9987356</td></tr>\n",
       "</tbody>\n",
       "</table>\n"
      ],
      "text/latex": [
       "A anova: 2 × 8\n",
       "\\begin{tabular}{r|llllllll}\n",
       "  & npar & AIC & BIC & logLik & deviance & Chisq & Df & Pr(>Chisq)\\\\\n",
       "  & <dbl> & <dbl> & <dbl> & <dbl> & <dbl> & <dbl> & <dbl> & <dbl>\\\\\n",
       "\\hline\n",
       "\tmod2 & 36 & 506.6575 & 649.2536 & -217.3287 & 434.6575 &        NA & NA &        NA\\\\\n",
       "\tmod1 & 40 & 514.5552 & 672.9954 & -217.2776 & 434.5552 & 0.1023017 &  4 & 0.9987356\\\\\n",
       "\\end{tabular}\n"
      ],
      "text/markdown": [
       "\n",
       "A anova: 2 × 8\n",
       "\n",
       "| <!--/--> | npar &lt;dbl&gt; | AIC &lt;dbl&gt; | BIC &lt;dbl&gt; | logLik &lt;dbl&gt; | deviance &lt;dbl&gt; | Chisq &lt;dbl&gt; | Df &lt;dbl&gt; | Pr(&gt;Chisq) &lt;dbl&gt; |\n",
       "|---|---|---|---|---|---|---|---|---|\n",
       "| mod2 | 36 | 506.6575 | 649.2536 | -217.3287 | 434.6575 |        NA | NA |        NA |\n",
       "| mod1 | 40 | 514.5552 | 672.9954 | -217.2776 | 434.5552 | 0.1023017 |  4 | 0.9987356 |\n",
       "\n"
      ],
      "text/plain": [
       "     npar AIC      BIC      logLik    deviance Chisq     Df Pr(>Chisq)\n",
       "mod2 36   506.6575 649.2536 -217.3287 434.6575        NA NA        NA \n",
       "mod1 40   514.5552 672.9954 -217.2776 434.5552 0.1023017  4 0.9987356 "
      ]
     },
     "metadata": {},
     "output_type": "display_data"
    }
   ],
   "source": [
    "mod2 = update(mod1, . ~ . - Reward_Side:TSM_Bin)\n",
    "anova(mod1, mod2)"
   ]
  },
  {
   "cell_type": "markdown",
   "id": "8033a916",
   "metadata": {},
   "source": [
    "mod1 is not significantly better than mod2 so we will keep mod2"
   ]
  },
  {
   "cell_type": "code",
   "execution_count": 18,
   "id": "7b0c9b1d",
   "metadata": {},
   "outputs": [
    {
     "name": "stderr",
     "output_type": "stream",
     "text": [
      "\n",
      "Correlation matrix not shown by default, as p = 33 > 12.\n",
      "Use print(obj, correlation=TRUE)  or\n",
      "    vcov(obj)        if you need it\n",
      "\n",
      "\n"
     ]
    },
    {
     "data": {
      "text/plain": [
       "Generalized linear mixed model fit by maximum likelihood (Laplace\n",
       "  Approximation) [glmerMod]\n",
       " Family: binomial  ( logit )\n",
       "Formula: Final_Decision_Binary ~ Reward_Side + Solution + TSM_Bin + Visit +  \n",
       "    (1 | Starvation_Period) + (1 | Experimentor/Collection_Date) +  \n",
       "    Reward_Side:Solution + Reward_Side:Visit + Solution:TSM_Bin +  \n",
       "    Solution:Visit + TSM_Bin:Visit\n",
       "   Data: ELP_08\n",
       "Control: glmerControl(optimizer = \"bobyqa\", optCtrl = list(maxfun = 1e+09))\n",
       "\n",
       "     AIC      BIC   logLik deviance df.resid \n",
       "   506.7    649.3   -217.3    434.7      352 \n",
       "\n",
       "Scaled residuals: \n",
       "    Min      1Q  Median      3Q     Max \n",
       "-3.8962 -0.8289  0.3919  0.6243  1.5454 \n",
       "\n",
       "Random effects:\n",
       " Groups                       Name        Variance Std.Dev.\n",
       " Collection_Date:Experimentor (Intercept) 0.3515   0.5929  \n",
       " Experimentor                 (Intercept) 0.0000   0.0000  \n",
       " Starvation_Period            (Intercept) 0.0000   0.0000  \n",
       "Number of obs: 388, groups:  \n",
       "Collection_Date:Experimentor, 20; Experimentor, 3; Starvation_Period, 2\n",
       "\n",
       "Fixed effects:\n",
       "                                      Estimate Std. Error z value Pr(>|z|)    \n",
       "(Intercept)                             1.5460     0.6498   2.379 0.017343 *  \n",
       "Reward_SideR                           -1.2334     0.6038  -2.043 0.041064 *  \n",
       "Solution250ppm Caffeine                 0.6390     0.7201   0.887 0.374846    \n",
       "TSM_Bin120+                            -0.6513     0.8017  -0.812 0.416580    \n",
       "TSM_Bin30-60                           -0.1262     0.8226  -0.153 0.878071    \n",
       "TSM_Bin60-90                           -0.1357     0.9067  -0.150 0.881013    \n",
       "TSM_Bin90-120                           0.4355     0.8192   0.532 0.594945    \n",
       "Visit3                                 -1.1614     0.7750  -1.499 0.133969    \n",
       "Visit4                                 -1.8098     0.7745  -2.337 0.019451 *  \n",
       "Visit5                                 -0.8122     0.7874  -1.031 0.302362    \n",
       "Reward_SideR:Solution250ppm Caffeine    0.2361     0.6482   0.364 0.715664    \n",
       "Reward_SideR:Visit3                     0.9999     0.6805   1.469 0.141738    \n",
       "Reward_SideR:Visit4                     0.8635     0.6941   1.244 0.213502    \n",
       "Reward_SideR:Visit5                     0.3109     0.6996   0.444 0.656794    \n",
       "Solution250ppm Caffeine:TSM_Bin120+    -0.8433     0.8049  -1.048 0.294770    \n",
       "Solution250ppm Caffeine:TSM_Bin30-60   -0.3044     0.7315  -0.416 0.677332    \n",
       "Solution250ppm Caffeine:TSM_Bin60-90    0.3390     0.8169   0.415 0.678160    \n",
       "Solution250ppm Caffeine:TSM_Bin90-120  -1.8337     0.7779  -2.357 0.018416 *  \n",
       "Solution250ppm Caffeine:Visit3          0.5439     0.6774   0.803 0.422042    \n",
       "Solution250ppm Caffeine:Visit4         -0.9530     0.6912  -1.379 0.167930    \n",
       "Solution250ppm Caffeine:Visit5         -0.7009     0.6965  -1.006 0.314232    \n",
       "TSM_Bin120+:Visit3                      1.2149     0.9837   1.235 0.216818    \n",
       "TSM_Bin30-60:Visit3                     0.1151     1.0030   0.115 0.908611    \n",
       "TSM_Bin60-90:Visit3                    -0.1210     1.1066  -0.109 0.912900    \n",
       "TSM_Bin90-120:Visit3                   -0.1925     0.9622  -0.200 0.841437    \n",
       "TSM_Bin120+:Visit4                      3.7809     1.1152   3.390 0.000698 ***\n",
       "TSM_Bin30-60:Visit4                     0.4286     0.9855   0.435 0.663621    \n",
       "TSM_Bin60-90:Visit4                     1.3722     1.0835   1.266 0.205367    \n",
       "TSM_Bin90-120:Visit4                    2.2047     1.0047   2.194 0.028212 *  \n",
       "TSM_Bin120+:Visit5                      1.2191     0.9578   1.273 0.203080    \n",
       "TSM_Bin30-60:Visit5                     0.6754     0.9869   0.684 0.493735    \n",
       "TSM_Bin60-90:Visit5                     1.4804     1.1867   1.247 0.212223    \n",
       "TSM_Bin90-120:Visit5                    2.6658     1.1409   2.337 0.019458 *  \n",
       "---\n",
       "Signif. codes:  0 ‘***’ 0.001 ‘**’ 0.01 ‘*’ 0.05 ‘.’ 0.1 ‘ ’ 1\n",
       "optimizer (bobyqa) convergence code: 0 (OK)\n",
       "boundary (singular) fit: see ?isSingular\n"
      ]
     },
     "metadata": {},
     "output_type": "display_data"
    },
    {
     "data": {
      "text/html": [
       "<table class=\"dataframe\">\n",
       "<caption>A anova: 9 × 3</caption>\n",
       "<thead>\n",
       "\t<tr><th></th><th scope=col>Chisq</th><th scope=col>Df</th><th scope=col>Pr(&gt;Chisq)</th></tr>\n",
       "\t<tr><th></th><th scope=col>&lt;dbl&gt;</th><th scope=col>&lt;dbl&gt;</th><th scope=col>&lt;dbl&gt;</th></tr>\n",
       "</thead>\n",
       "<tbody>\n",
       "\t<tr><th scope=row>Reward_Side</th><td> 3.5296753</td><td> 1</td><td>0.06027959</td></tr>\n",
       "\t<tr><th scope=row>Solution</th><td> 0.1467845</td><td> 1</td><td>0.70162736</td></tr>\n",
       "\t<tr><th scope=row>TSM_Bin</th><td> 4.7064182</td><td> 4</td><td>0.31876814</td></tr>\n",
       "\t<tr><th scope=row>Visit</th><td> 3.8563429</td><td> 3</td><td>0.27740017</td></tr>\n",
       "\t<tr><th scope=row>Reward_Side:Solution</th><td> 0.1326855</td><td> 1</td><td>0.71566367</td></tr>\n",
       "\t<tr><th scope=row>Reward_Side:Visit</th><td> 2.8160423</td><td> 3</td><td>0.42086587</td></tr>\n",
       "\t<tr><th scope=row>Solution:TSM_Bin</th><td> 7.0658093</td><td> 4</td><td>0.13245111</td></tr>\n",
       "\t<tr><th scope=row>Solution:Visit</th><td> 5.9950182</td><td> 3</td><td>0.11185285</td></tr>\n",
       "\t<tr><th scope=row>TSM_Bin:Visit</th><td>22.4345488</td><td>12</td><td>0.03292852</td></tr>\n",
       "</tbody>\n",
       "</table>\n"
      ],
      "text/latex": [
       "A anova: 9 × 3\n",
       "\\begin{tabular}{r|lll}\n",
       "  & Chisq & Df & Pr(>Chisq)\\\\\n",
       "  & <dbl> & <dbl> & <dbl>\\\\\n",
       "\\hline\n",
       "\tReward\\_Side &  3.5296753 &  1 & 0.06027959\\\\\n",
       "\tSolution &  0.1467845 &  1 & 0.70162736\\\\\n",
       "\tTSM\\_Bin &  4.7064182 &  4 & 0.31876814\\\\\n",
       "\tVisit &  3.8563429 &  3 & 0.27740017\\\\\n",
       "\tReward\\_Side:Solution &  0.1326855 &  1 & 0.71566367\\\\\n",
       "\tReward\\_Side:Visit &  2.8160423 &  3 & 0.42086587\\\\\n",
       "\tSolution:TSM\\_Bin &  7.0658093 &  4 & 0.13245111\\\\\n",
       "\tSolution:Visit &  5.9950182 &  3 & 0.11185285\\\\\n",
       "\tTSM\\_Bin:Visit & 22.4345488 & 12 & 0.03292852\\\\\n",
       "\\end{tabular}\n"
      ],
      "text/markdown": [
       "\n",
       "A anova: 9 × 3\n",
       "\n",
       "| <!--/--> | Chisq &lt;dbl&gt; | Df &lt;dbl&gt; | Pr(&gt;Chisq) &lt;dbl&gt; |\n",
       "|---|---|---|---|\n",
       "| Reward_Side |  3.5296753 |  1 | 0.06027959 |\n",
       "| Solution |  0.1467845 |  1 | 0.70162736 |\n",
       "| TSM_Bin |  4.7064182 |  4 | 0.31876814 |\n",
       "| Visit |  3.8563429 |  3 | 0.27740017 |\n",
       "| Reward_Side:Solution |  0.1326855 |  1 | 0.71566367 |\n",
       "| Reward_Side:Visit |  2.8160423 |  3 | 0.42086587 |\n",
       "| Solution:TSM_Bin |  7.0658093 |  4 | 0.13245111 |\n",
       "| Solution:Visit |  5.9950182 |  3 | 0.11185285 |\n",
       "| TSM_Bin:Visit | 22.4345488 | 12 | 0.03292852 |\n",
       "\n"
      ],
      "text/plain": [
       "                     Chisq      Df Pr(>Chisq)\n",
       "Reward_Side           3.5296753  1 0.06027959\n",
       "Solution              0.1467845  1 0.70162736\n",
       "TSM_Bin               4.7064182  4 0.31876814\n",
       "Visit                 3.8563429  3 0.27740017\n",
       "Reward_Side:Solution  0.1326855  1 0.71566367\n",
       "Reward_Side:Visit     2.8160423  3 0.42086587\n",
       "Solution:TSM_Bin      7.0658093  4 0.13245111\n",
       "Solution:Visit        5.9950182  3 0.11185285\n",
       "TSM_Bin:Visit        22.4345488 12 0.03292852"
      ]
     },
     "metadata": {},
     "output_type": "display_data"
    },
    {
     "data": {
      "text/html": [
       "<style>\n",
       ".list-inline {list-style: none; margin:0; padding: 0}\n",
       ".list-inline>li {display: inline-block}\n",
       ".list-inline>li:not(:last-child)::after {content: \"\\00b7\"; padding: 0 .5ex}\n",
       "</style>\n",
       "<ol class=list-inline><li>'Reward_Side:Solution'</li><li>'Reward_Side:Visit'</li><li>'Solution:TSM_Bin'</li><li>'Solution:Visit'</li><li>'TSM_Bin:Visit'</li></ol>\n"
      ],
      "text/latex": [
       "\\begin{enumerate*}\n",
       "\\item 'Reward\\_Side:Solution'\n",
       "\\item 'Reward\\_Side:Visit'\n",
       "\\item 'Solution:TSM\\_Bin'\n",
       "\\item 'Solution:Visit'\n",
       "\\item 'TSM\\_Bin:Visit'\n",
       "\\end{enumerate*}\n"
      ],
      "text/markdown": [
       "1. 'Reward_Side:Solution'\n",
       "2. 'Reward_Side:Visit'\n",
       "3. 'Solution:TSM_Bin'\n",
       "4. 'Solution:Visit'\n",
       "5. 'TSM_Bin:Visit'\n",
       "\n",
       "\n"
      ],
      "text/plain": [
       "[1] \"Reward_Side:Solution\" \"Reward_Side:Visit\"    \"Solution:TSM_Bin\"    \n",
       "[4] \"Solution:Visit\"       \"TSM_Bin:Visit\"       "
      ]
     },
     "metadata": {},
     "output_type": "display_data"
    }
   ],
   "source": [
    "summary(mod2)\n",
    "Anova(mod2)\n",
    "drop.scope(mod2)"
   ]
  },
  {
   "cell_type": "code",
   "execution_count": 19,
   "id": "480e8e6d",
   "metadata": {},
   "outputs": [
    {
     "name": "stderr",
     "output_type": "stream",
     "text": [
      "boundary (singular) fit: see ?isSingular\n",
      "\n"
     ]
    },
    {
     "data": {
      "text/html": [
       "<table class=\"dataframe\">\n",
       "<caption>A anova: 2 × 8</caption>\n",
       "<thead>\n",
       "\t<tr><th></th><th scope=col>npar</th><th scope=col>AIC</th><th scope=col>BIC</th><th scope=col>logLik</th><th scope=col>deviance</th><th scope=col>Chisq</th><th scope=col>Df</th><th scope=col>Pr(&gt;Chisq)</th></tr>\n",
       "\t<tr><th></th><th scope=col>&lt;dbl&gt;</th><th scope=col>&lt;dbl&gt;</th><th scope=col>&lt;dbl&gt;</th><th scope=col>&lt;dbl&gt;</th><th scope=col>&lt;dbl&gt;</th><th scope=col>&lt;dbl&gt;</th><th scope=col>&lt;dbl&gt;</th><th scope=col>&lt;dbl&gt;</th></tr>\n",
       "</thead>\n",
       "<tbody>\n",
       "\t<tr><th scope=row>mod3</th><td>35</td><td>504.7897</td><td>643.4249</td><td>-217.3949</td><td>434.7897</td><td>       NA</td><td>NA</td><td>       NA</td></tr>\n",
       "\t<tr><th scope=row>mod2</th><td>36</td><td>506.6575</td><td>649.2536</td><td>-217.3287</td><td>434.6575</td><td>0.1322595</td><td> 1</td><td>0.7161007</td></tr>\n",
       "</tbody>\n",
       "</table>\n"
      ],
      "text/latex": [
       "A anova: 2 × 8\n",
       "\\begin{tabular}{r|llllllll}\n",
       "  & npar & AIC & BIC & logLik & deviance & Chisq & Df & Pr(>Chisq)\\\\\n",
       "  & <dbl> & <dbl> & <dbl> & <dbl> & <dbl> & <dbl> & <dbl> & <dbl>\\\\\n",
       "\\hline\n",
       "\tmod3 & 35 & 504.7897 & 643.4249 & -217.3949 & 434.7897 &        NA & NA &        NA\\\\\n",
       "\tmod2 & 36 & 506.6575 & 649.2536 & -217.3287 & 434.6575 & 0.1322595 &  1 & 0.7161007\\\\\n",
       "\\end{tabular}\n"
      ],
      "text/markdown": [
       "\n",
       "A anova: 2 × 8\n",
       "\n",
       "| <!--/--> | npar &lt;dbl&gt; | AIC &lt;dbl&gt; | BIC &lt;dbl&gt; | logLik &lt;dbl&gt; | deviance &lt;dbl&gt; | Chisq &lt;dbl&gt; | Df &lt;dbl&gt; | Pr(&gt;Chisq) &lt;dbl&gt; |\n",
       "|---|---|---|---|---|---|---|---|---|\n",
       "| mod3 | 35 | 504.7897 | 643.4249 | -217.3949 | 434.7897 |        NA | NA |        NA |\n",
       "| mod2 | 36 | 506.6575 | 649.2536 | -217.3287 | 434.6575 | 0.1322595 |  1 | 0.7161007 |\n",
       "\n"
      ],
      "text/plain": [
       "     npar AIC      BIC      logLik    deviance Chisq     Df Pr(>Chisq)\n",
       "mod3 35   504.7897 643.4249 -217.3949 434.7897        NA NA        NA \n",
       "mod2 36   506.6575 649.2536 -217.3287 434.6575 0.1322595  1 0.7161007 "
      ]
     },
     "metadata": {},
     "output_type": "display_data"
    }
   ],
   "source": [
    "mod3 = update(mod2, . ~ . - Reward_Side:Solution)\n",
    "anova(mod2, mod3)"
   ]
  },
  {
   "cell_type": "markdown",
   "id": "38ad4863",
   "metadata": {},
   "source": [
    "mod2 is not significantly better than mod3 so we will keep mod3"
   ]
  },
  {
   "cell_type": "code",
   "execution_count": 20,
   "id": "63be47f5",
   "metadata": {},
   "outputs": [
    {
     "name": "stderr",
     "output_type": "stream",
     "text": [
      "\n",
      "Correlation matrix not shown by default, as p = 32 > 12.\n",
      "Use print(obj, correlation=TRUE)  or\n",
      "    vcov(obj)        if you need it\n",
      "\n",
      "\n"
     ]
    },
    {
     "data": {
      "text/plain": [
       "Generalized linear mixed model fit by maximum likelihood (Laplace\n",
       "  Approximation) [glmerMod]\n",
       " Family: binomial  ( logit )\n",
       "Formula: Final_Decision_Binary ~ Reward_Side + Solution + TSM_Bin + Visit +  \n",
       "    (1 | Starvation_Period) + (1 | Experimentor/Collection_Date) +  \n",
       "    Reward_Side:Visit + Solution:TSM_Bin + Solution:Visit + TSM_Bin:Visit\n",
       "   Data: ELP_08\n",
       "Control: glmerControl(optimizer = \"bobyqa\", optCtrl = list(maxfun = 1e+09))\n",
       "\n",
       "     AIC      BIC   logLik deviance df.resid \n",
       "   504.8    643.4   -217.4    434.8      353 \n",
       "\n",
       "Scaled residuals: \n",
       "    Min      1Q  Median      3Q     Max \n",
       "-4.0091 -0.8267  0.3962  0.6349  1.5321 \n",
       "\n",
       "Random effects:\n",
       " Groups                       Name        Variance  Std.Dev. \n",
       " Collection_Date:Experimentor (Intercept) 3.541e-01 5.950e-01\n",
       " Experimentor                 (Intercept) 0.000e+00 0.000e+00\n",
       " Starvation_Period            (Intercept) 4.099e-15 6.402e-08\n",
       "Number of obs: 388, groups:  \n",
       "Collection_Date:Experimentor, 20; Experimentor, 3; Starvation_Period, 2\n",
       "\n",
       "Fixed effects:\n",
       "                                      Estimate Std. Error z value Pr(>|z|)    \n",
       "(Intercept)                             1.4898     0.6291   2.368 0.017877 *  \n",
       "Reward_SideR                           -1.1272     0.5294  -2.129 0.033220 *  \n",
       "Solution250ppm Caffeine                 0.7749     0.6185   1.253 0.210253    \n",
       "TSM_Bin120+                            -0.6453     0.7996  -0.807 0.419668    \n",
       "TSM_Bin30-60                           -0.1243     0.8207  -0.151 0.879644    \n",
       "TSM_Bin60-90                           -0.1359     0.9062  -0.150 0.880775    \n",
       "TSM_Bin90-120                           0.4375     0.8177   0.535 0.592595    \n",
       "Visit3                                 -1.1546     0.7731  -1.493 0.135313    \n",
       "Visit4                                 -1.8112     0.7726  -2.344 0.019057 *  \n",
       "Visit5                                 -0.8169     0.7846  -1.041 0.297758    \n",
       "Reward_SideR:Visit3                     0.9952     0.6804   1.463 0.143553    \n",
       "Reward_SideR:Visit4                     0.8738     0.6938   1.259 0.207872    \n",
       "Reward_SideR:Visit5                     0.3200     0.6991   0.458 0.647102    \n",
       "Solution250ppm Caffeine:TSM_Bin120+    -0.8553     0.8042  -1.064 0.287530    \n",
       "Solution250ppm Caffeine:TSM_Bin30-60   -0.3292     0.7282  -0.452 0.651166    \n",
       "Solution250ppm Caffeine:TSM_Bin60-90    0.3498     0.8172   0.428 0.668598    \n",
       "Solution250ppm Caffeine:TSM_Bin90-120  -1.8489     0.7771  -2.379 0.017350 *  \n",
       "Solution250ppm Caffeine:Visit3          0.5319     0.6767   0.786 0.431864    \n",
       "Solution250ppm Caffeine:Visit4         -0.9676     0.6902  -1.402 0.160955    \n",
       "Solution250ppm Caffeine:Visit5         -0.7077     0.6964  -1.016 0.309492    \n",
       "TSM_Bin120+:Visit3                      1.2149     0.9828   1.236 0.216376    \n",
       "TSM_Bin30-60:Visit3                     0.1148     1.0022   0.115 0.908816    \n",
       "TSM_Bin60-90:Visit3                    -0.1228     1.1071  -0.111 0.911714    \n",
       "TSM_Bin90-120:Visit3                   -0.1872     0.9617  -0.195 0.845693    \n",
       "TSM_Bin120+:Visit4                      3.7799     1.1152   3.389 0.000701 ***\n",
       "TSM_Bin30-60:Visit4                     0.4320     0.9848   0.439 0.660919    \n",
       "TSM_Bin60-90:Visit4                     1.3702     1.0843   1.264 0.206312    \n",
       "TSM_Bin90-120:Visit4                    2.2097     1.0050   2.199 0.027900 *  \n",
       "TSM_Bin120+:Visit5                      1.2182     0.9571   1.273 0.203116    \n",
       "TSM_Bin30-60:Visit5                     0.6771     0.9862   0.687 0.492317    \n",
       "TSM_Bin60-90:Visit5                     1.4821     1.1875   1.248 0.211987    \n",
       "TSM_Bin90-120:Visit5                    2.6719     1.1420   2.340 0.019303 *  \n",
       "---\n",
       "Signif. codes:  0 ‘***’ 0.001 ‘**’ 0.01 ‘*’ 0.05 ‘.’ 0.1 ‘ ’ 1\n",
       "optimizer (bobyqa) convergence code: 0 (OK)\n",
       "boundary (singular) fit: see ?isSingular\n"
      ]
     },
     "metadata": {},
     "output_type": "display_data"
    },
    {
     "data": {
      "text/html": [
       "<table class=\"dataframe\">\n",
       "<caption>A anova: 8 × 3</caption>\n",
       "<thead>\n",
       "\t<tr><th></th><th scope=col>Chisq</th><th scope=col>Df</th><th scope=col>Pr(&gt;Chisq)</th></tr>\n",
       "\t<tr><th></th><th scope=col>&lt;dbl&gt;</th><th scope=col>&lt;dbl&gt;</th><th scope=col>&lt;dbl&gt;</th></tr>\n",
       "</thead>\n",
       "<tbody>\n",
       "\t<tr><th scope=row>Reward_Side</th><td> 3.5282724</td><td> 1</td><td>0.06033062</td></tr>\n",
       "\t<tr><th scope=row>Solution</th><td> 0.1444475</td><td> 1</td><td>0.70389902</td></tr>\n",
       "\t<tr><th scope=row>TSM_Bin</th><td> 4.8068643</td><td> 4</td><td>0.30769453</td></tr>\n",
       "\t<tr><th scope=row>Visit</th><td> 3.8770039</td><td> 3</td><td>0.27505544</td></tr>\n",
       "\t<tr><th scope=row>Reward_Side:Visit</th><td> 2.8050354</td><td> 3</td><td>0.42267167</td></tr>\n",
       "\t<tr><th scope=row>Solution:TSM_Bin</th><td> 7.2042328</td><td> 4</td><td>0.12548110</td></tr>\n",
       "\t<tr><th scope=row>Solution:Visit</th><td> 6.0174329</td><td> 3</td><td>0.11076515</td></tr>\n",
       "\t<tr><th scope=row>TSM_Bin:Visit</th><td>22.4326532</td><td>12</td><td>0.03294738</td></tr>\n",
       "</tbody>\n",
       "</table>\n"
      ],
      "text/latex": [
       "A anova: 8 × 3\n",
       "\\begin{tabular}{r|lll}\n",
       "  & Chisq & Df & Pr(>Chisq)\\\\\n",
       "  & <dbl> & <dbl> & <dbl>\\\\\n",
       "\\hline\n",
       "\tReward\\_Side &  3.5282724 &  1 & 0.06033062\\\\\n",
       "\tSolution &  0.1444475 &  1 & 0.70389902\\\\\n",
       "\tTSM\\_Bin &  4.8068643 &  4 & 0.30769453\\\\\n",
       "\tVisit &  3.8770039 &  3 & 0.27505544\\\\\n",
       "\tReward\\_Side:Visit &  2.8050354 &  3 & 0.42267167\\\\\n",
       "\tSolution:TSM\\_Bin &  7.2042328 &  4 & 0.12548110\\\\\n",
       "\tSolution:Visit &  6.0174329 &  3 & 0.11076515\\\\\n",
       "\tTSM\\_Bin:Visit & 22.4326532 & 12 & 0.03294738\\\\\n",
       "\\end{tabular}\n"
      ],
      "text/markdown": [
       "\n",
       "A anova: 8 × 3\n",
       "\n",
       "| <!--/--> | Chisq &lt;dbl&gt; | Df &lt;dbl&gt; | Pr(&gt;Chisq) &lt;dbl&gt; |\n",
       "|---|---|---|---|\n",
       "| Reward_Side |  3.5282724 |  1 | 0.06033062 |\n",
       "| Solution |  0.1444475 |  1 | 0.70389902 |\n",
       "| TSM_Bin |  4.8068643 |  4 | 0.30769453 |\n",
       "| Visit |  3.8770039 |  3 | 0.27505544 |\n",
       "| Reward_Side:Visit |  2.8050354 |  3 | 0.42267167 |\n",
       "| Solution:TSM_Bin |  7.2042328 |  4 | 0.12548110 |\n",
       "| Solution:Visit |  6.0174329 |  3 | 0.11076515 |\n",
       "| TSM_Bin:Visit | 22.4326532 | 12 | 0.03294738 |\n",
       "\n"
      ],
      "text/plain": [
       "                  Chisq      Df Pr(>Chisq)\n",
       "Reward_Side        3.5282724  1 0.06033062\n",
       "Solution           0.1444475  1 0.70389902\n",
       "TSM_Bin            4.8068643  4 0.30769453\n",
       "Visit              3.8770039  3 0.27505544\n",
       "Reward_Side:Visit  2.8050354  3 0.42267167\n",
       "Solution:TSM_Bin   7.2042328  4 0.12548110\n",
       "Solution:Visit     6.0174329  3 0.11076515\n",
       "TSM_Bin:Visit     22.4326532 12 0.03294738"
      ]
     },
     "metadata": {},
     "output_type": "display_data"
    },
    {
     "data": {
      "text/html": [
       "<style>\n",
       ".list-inline {list-style: none; margin:0; padding: 0}\n",
       ".list-inline>li {display: inline-block}\n",
       ".list-inline>li:not(:last-child)::after {content: \"\\00b7\"; padding: 0 .5ex}\n",
       "</style>\n",
       "<ol class=list-inline><li>'Reward_Side:Visit'</li><li>'Solution:TSM_Bin'</li><li>'Solution:Visit'</li><li>'TSM_Bin:Visit'</li></ol>\n"
      ],
      "text/latex": [
       "\\begin{enumerate*}\n",
       "\\item 'Reward\\_Side:Visit'\n",
       "\\item 'Solution:TSM\\_Bin'\n",
       "\\item 'Solution:Visit'\n",
       "\\item 'TSM\\_Bin:Visit'\n",
       "\\end{enumerate*}\n"
      ],
      "text/markdown": [
       "1. 'Reward_Side:Visit'\n",
       "2. 'Solution:TSM_Bin'\n",
       "3. 'Solution:Visit'\n",
       "4. 'TSM_Bin:Visit'\n",
       "\n",
       "\n"
      ],
      "text/plain": [
       "[1] \"Reward_Side:Visit\" \"Solution:TSM_Bin\"  \"Solution:Visit\"   \n",
       "[4] \"TSM_Bin:Visit\"    "
      ]
     },
     "metadata": {},
     "output_type": "display_data"
    }
   ],
   "source": [
    "summary(mod3)\n",
    "Anova(mod3)\n",
    "drop.scope(mod3)"
   ]
  },
  {
   "cell_type": "code",
   "execution_count": 21,
   "id": "b4d546c0",
   "metadata": {
    "scrolled": true
   },
   "outputs": [
    {
     "name": "stderr",
     "output_type": "stream",
     "text": [
      "boundary (singular) fit: see ?isSingular\n",
      "\n"
     ]
    },
    {
     "data": {
      "text/html": [
       "<table class=\"dataframe\">\n",
       "<caption>A anova: 2 × 8</caption>\n",
       "<thead>\n",
       "\t<tr><th></th><th scope=col>npar</th><th scope=col>AIC</th><th scope=col>BIC</th><th scope=col>logLik</th><th scope=col>deviance</th><th scope=col>Chisq</th><th scope=col>Df</th><th scope=col>Pr(&gt;Chisq)</th></tr>\n",
       "\t<tr><th></th><th scope=col>&lt;dbl&gt;</th><th scope=col>&lt;dbl&gt;</th><th scope=col>&lt;dbl&gt;</th><th scope=col>&lt;dbl&gt;</th><th scope=col>&lt;dbl&gt;</th><th scope=col>&lt;dbl&gt;</th><th scope=col>&lt;dbl&gt;</th><th scope=col>&lt;dbl&gt;</th></tr>\n",
       "</thead>\n",
       "<tbody>\n",
       "\t<tr><th scope=row>mod4</th><td>32</td><td>501.6215</td><td>628.3737</td><td>-218.8108</td><td>437.6215</td><td>      NA</td><td>NA</td><td>       NA</td></tr>\n",
       "\t<tr><th scope=row>mod3</th><td>35</td><td>504.7897</td><td>643.4249</td><td>-217.3949</td><td>434.7897</td><td>2.831834</td><td> 3</td><td>0.4182862</td></tr>\n",
       "</tbody>\n",
       "</table>\n"
      ],
      "text/latex": [
       "A anova: 2 × 8\n",
       "\\begin{tabular}{r|llllllll}\n",
       "  & npar & AIC & BIC & logLik & deviance & Chisq & Df & Pr(>Chisq)\\\\\n",
       "  & <dbl> & <dbl> & <dbl> & <dbl> & <dbl> & <dbl> & <dbl> & <dbl>\\\\\n",
       "\\hline\n",
       "\tmod4 & 32 & 501.6215 & 628.3737 & -218.8108 & 437.6215 &       NA & NA &        NA\\\\\n",
       "\tmod3 & 35 & 504.7897 & 643.4249 & -217.3949 & 434.7897 & 2.831834 &  3 & 0.4182862\\\\\n",
       "\\end{tabular}\n"
      ],
      "text/markdown": [
       "\n",
       "A anova: 2 × 8\n",
       "\n",
       "| <!--/--> | npar &lt;dbl&gt; | AIC &lt;dbl&gt; | BIC &lt;dbl&gt; | logLik &lt;dbl&gt; | deviance &lt;dbl&gt; | Chisq &lt;dbl&gt; | Df &lt;dbl&gt; | Pr(&gt;Chisq) &lt;dbl&gt; |\n",
       "|---|---|---|---|---|---|---|---|---|\n",
       "| mod4 | 32 | 501.6215 | 628.3737 | -218.8108 | 437.6215 |       NA | NA |        NA |\n",
       "| mod3 | 35 | 504.7897 | 643.4249 | -217.3949 | 434.7897 | 2.831834 |  3 | 0.4182862 |\n",
       "\n"
      ],
      "text/plain": [
       "     npar AIC      BIC      logLik    deviance Chisq    Df Pr(>Chisq)\n",
       "mod4 32   501.6215 628.3737 -218.8108 437.6215       NA NA        NA \n",
       "mod3 35   504.7897 643.4249 -217.3949 434.7897 2.831834  3 0.4182862 "
      ]
     },
     "metadata": {},
     "output_type": "display_data"
    }
   ],
   "source": [
    "mod4 = update(mod3, . ~ . - Reward_Side:Visit)\n",
    "anova(mod3, mod4)"
   ]
  },
  {
   "cell_type": "markdown",
   "id": "408e1a65",
   "metadata": {},
   "source": [
    "mod3 is not significantly better than mod4 so we will keep mod4"
   ]
  },
  {
   "cell_type": "code",
   "execution_count": 22,
   "id": "ffe18321",
   "metadata": {},
   "outputs": [
    {
     "name": "stderr",
     "output_type": "stream",
     "text": [
      "\n",
      "Correlation matrix not shown by default, as p = 29 > 12.\n",
      "Use print(obj, correlation=TRUE)  or\n",
      "    vcov(obj)        if you need it\n",
      "\n",
      "\n"
     ]
    },
    {
     "data": {
      "text/plain": [
       "Generalized linear mixed model fit by maximum likelihood (Laplace\n",
       "  Approximation) [glmerMod]\n",
       " Family: binomial  ( logit )\n",
       "Formula: Final_Decision_Binary ~ Reward_Side + Solution + TSM_Bin + Visit +  \n",
       "    (1 | Starvation_Period) + (1 | Experimentor/Collection_Date) +  \n",
       "    Solution:TSM_Bin + Solution:Visit + TSM_Bin:Visit\n",
       "   Data: ELP_08\n",
       "Control: glmerControl(optimizer = \"bobyqa\", optCtrl = list(maxfun = 1e+09))\n",
       "\n",
       "     AIC      BIC   logLik deviance df.resid \n",
       "   501.6    628.4   -218.8    437.6      356 \n",
       "\n",
       "Scaled residuals: \n",
       "    Min      1Q  Median      3Q     Max \n",
       "-3.4474 -0.8440  0.4027  0.6315  1.6706 \n",
       "\n",
       "Random effects:\n",
       " Groups                       Name        Variance Std.Dev.\n",
       " Collection_Date:Experimentor (Intercept) 0.3492   0.5909  \n",
       " Experimentor                 (Intercept) 0.0000   0.0000  \n",
       " Starvation_Period            (Intercept) 0.0000   0.0000  \n",
       "Number of obs: 388, groups:  \n",
       "Collection_Date:Experimentor, 20; Experimentor, 3; Starvation_Period, 2\n",
       "\n",
       "Fixed effects:\n",
       "                                      Estimate Std. Error z value Pr(>|z|)    \n",
       "(Intercept)                            1.14929    0.54773   2.098 0.035878 *  \n",
       "Reward_SideR                          -0.56482    0.29551  -1.911 0.055958 .  \n",
       "Solution250ppm Caffeine                0.75788    0.60840   1.246 0.212879    \n",
       "TSM_Bin120+                           -0.60984    0.77398  -0.788 0.430735    \n",
       "TSM_Bin30-60                          -0.06846    0.80074  -0.085 0.931871    \n",
       "TSM_Bin60-90                          -0.15029    0.89439  -0.168 0.866554    \n",
       "TSM_Bin90-120                          0.46878    0.80020   0.586 0.557992    \n",
       "Visit3                                -0.58745    0.65794  -0.893 0.371934    \n",
       "Visit4                                -1.32277    0.65927  -2.006 0.044811 *  \n",
       "Visit5                                -0.60612    0.65461  -0.926 0.354480    \n",
       "Solution250ppm Caffeine:TSM_Bin120+   -0.86252    0.79793  -1.081 0.279721    \n",
       "Solution250ppm Caffeine:TSM_Bin30-60  -0.32798    0.72537  -0.452 0.651156    \n",
       "Solution250ppm Caffeine:TSM_Bin60-90   0.35015    0.81573   0.429 0.667739    \n",
       "Solution250ppm Caffeine:TSM_Bin90-120 -1.83560    0.77383  -2.372 0.017687 *  \n",
       "Solution250ppm Caffeine:Visit3         0.56396    0.67062   0.841 0.400378    \n",
       "Solution250ppm Caffeine:Visit4        -0.95548    0.68380  -1.397 0.162321    \n",
       "Solution250ppm Caffeine:Visit5        -0.68814    0.68430  -1.006 0.314598    \n",
       "TSM_Bin120+:Visit3                     1.22534    0.97256   1.260 0.207703    \n",
       "TSM_Bin30-60:Visit3                    0.02559    0.99286   0.026 0.979435    \n",
       "TSM_Bin60-90:Visit3                   -0.09061    1.09989  -0.082 0.934344    \n",
       "TSM_Bin90-120:Visit3                  -0.24239    0.95321  -0.254 0.799270    \n",
       "TSM_Bin120+:Visit4                     3.82861    1.10404   3.468 0.000525 ***\n",
       "TSM_Bin30-60:Visit4                    0.36251    0.97401   0.372 0.709755    \n",
       "TSM_Bin60-90:Visit4                    1.42104    1.07864   1.317 0.187691    \n",
       "TSM_Bin90-120:Visit4                   2.19564    0.99583   2.205 0.027466 *  \n",
       "TSM_Bin120+:Visit5                     1.17223    0.93307   1.256 0.209004    \n",
       "TSM_Bin30-60:Visit5                    0.63106    0.96712   0.653 0.514072    \n",
       "TSM_Bin60-90:Visit5                    1.46645    1.17603   1.247 0.212414    \n",
       "TSM_Bin90-120:Visit5                   2.61025    1.12658   2.317 0.020505 *  \n",
       "---\n",
       "Signif. codes:  0 ‘***’ 0.001 ‘**’ 0.01 ‘*’ 0.05 ‘.’ 0.1 ‘ ’ 1\n",
       "optimizer (bobyqa) convergence code: 0 (OK)\n",
       "boundary (singular) fit: see ?isSingular\n"
      ]
     },
     "metadata": {},
     "output_type": "display_data"
    },
    {
     "data": {
      "text/html": [
       "<table class=\"dataframe\">\n",
       "<caption>A anova: 7 × 3</caption>\n",
       "<thead>\n",
       "\t<tr><th></th><th scope=col>Chisq</th><th scope=col>Df</th><th scope=col>Pr(&gt;Chisq)</th></tr>\n",
       "\t<tr><th></th><th scope=col>&lt;dbl&gt;</th><th scope=col>&lt;dbl&gt;</th><th scope=col>&lt;dbl&gt;</th></tr>\n",
       "</thead>\n",
       "<tbody>\n",
       "\t<tr><th scope=row>Reward_Side</th><td> 3.6533024</td><td> 1</td><td>0.05595815</td></tr>\n",
       "\t<tr><th scope=row>Solution</th><td> 0.1406554</td><td> 1</td><td>0.70763027</td></tr>\n",
       "\t<tr><th scope=row>TSM_Bin</th><td> 4.8054340</td><td> 4</td><td>0.30784996</td></tr>\n",
       "\t<tr><th scope=row>Visit</th><td> 4.0150714</td><td> 3</td><td>0.25984128</td></tr>\n",
       "\t<tr><th scope=row>Solution:TSM_Bin</th><td> 7.1912088</td><td> 4</td><td>0.12612219</td></tr>\n",
       "\t<tr><th scope=row>Solution:Visit</th><td> 6.0589797</td><td> 3</td><td>0.10877573</td></tr>\n",
       "\t<tr><th scope=row>TSM_Bin:Visit</th><td>23.0679280</td><td>12</td><td>0.02715476</td></tr>\n",
       "</tbody>\n",
       "</table>\n"
      ],
      "text/latex": [
       "A anova: 7 × 3\n",
       "\\begin{tabular}{r|lll}\n",
       "  & Chisq & Df & Pr(>Chisq)\\\\\n",
       "  & <dbl> & <dbl> & <dbl>\\\\\n",
       "\\hline\n",
       "\tReward\\_Side &  3.6533024 &  1 & 0.05595815\\\\\n",
       "\tSolution &  0.1406554 &  1 & 0.70763027\\\\\n",
       "\tTSM\\_Bin &  4.8054340 &  4 & 0.30784996\\\\\n",
       "\tVisit &  4.0150714 &  3 & 0.25984128\\\\\n",
       "\tSolution:TSM\\_Bin &  7.1912088 &  4 & 0.12612219\\\\\n",
       "\tSolution:Visit &  6.0589797 &  3 & 0.10877573\\\\\n",
       "\tTSM\\_Bin:Visit & 23.0679280 & 12 & 0.02715476\\\\\n",
       "\\end{tabular}\n"
      ],
      "text/markdown": [
       "\n",
       "A anova: 7 × 3\n",
       "\n",
       "| <!--/--> | Chisq &lt;dbl&gt; | Df &lt;dbl&gt; | Pr(&gt;Chisq) &lt;dbl&gt; |\n",
       "|---|---|---|---|\n",
       "| Reward_Side |  3.6533024 |  1 | 0.05595815 |\n",
       "| Solution |  0.1406554 |  1 | 0.70763027 |\n",
       "| TSM_Bin |  4.8054340 |  4 | 0.30784996 |\n",
       "| Visit |  4.0150714 |  3 | 0.25984128 |\n",
       "| Solution:TSM_Bin |  7.1912088 |  4 | 0.12612219 |\n",
       "| Solution:Visit |  6.0589797 |  3 | 0.10877573 |\n",
       "| TSM_Bin:Visit | 23.0679280 | 12 | 0.02715476 |\n",
       "\n"
      ],
      "text/plain": [
       "                 Chisq      Df Pr(>Chisq)\n",
       "Reward_Side       3.6533024  1 0.05595815\n",
       "Solution          0.1406554  1 0.70763027\n",
       "TSM_Bin           4.8054340  4 0.30784996\n",
       "Visit             4.0150714  3 0.25984128\n",
       "Solution:TSM_Bin  7.1912088  4 0.12612219\n",
       "Solution:Visit    6.0589797  3 0.10877573\n",
       "TSM_Bin:Visit    23.0679280 12 0.02715476"
      ]
     },
     "metadata": {},
     "output_type": "display_data"
    },
    {
     "data": {
      "text/html": [
       "<style>\n",
       ".list-inline {list-style: none; margin:0; padding: 0}\n",
       ".list-inline>li {display: inline-block}\n",
       ".list-inline>li:not(:last-child)::after {content: \"\\00b7\"; padding: 0 .5ex}\n",
       "</style>\n",
       "<ol class=list-inline><li>'Reward_Side'</li><li>'Solution:TSM_Bin'</li><li>'Solution:Visit'</li><li>'TSM_Bin:Visit'</li></ol>\n"
      ],
      "text/latex": [
       "\\begin{enumerate*}\n",
       "\\item 'Reward\\_Side'\n",
       "\\item 'Solution:TSM\\_Bin'\n",
       "\\item 'Solution:Visit'\n",
       "\\item 'TSM\\_Bin:Visit'\n",
       "\\end{enumerate*}\n"
      ],
      "text/markdown": [
       "1. 'Reward_Side'\n",
       "2. 'Solution:TSM_Bin'\n",
       "3. 'Solution:Visit'\n",
       "4. 'TSM_Bin:Visit'\n",
       "\n",
       "\n"
      ],
      "text/plain": [
       "[1] \"Reward_Side\"      \"Solution:TSM_Bin\" \"Solution:Visit\"   \"TSM_Bin:Visit\"   "
      ]
     },
     "metadata": {},
     "output_type": "display_data"
    }
   ],
   "source": [
    "summary(mod4)\n",
    "Anova(mod4)\n",
    "drop.scope(mod4)"
   ]
  },
  {
   "cell_type": "code",
   "execution_count": 23,
   "id": "c1131d1f",
   "metadata": {},
   "outputs": [
    {
     "name": "stderr",
     "output_type": "stream",
     "text": [
      "boundary (singular) fit: see ?isSingular\n",
      "\n"
     ]
    },
    {
     "data": {
      "text/html": [
       "<table class=\"dataframe\">\n",
       "<caption>A anova: 2 × 8</caption>\n",
       "<thead>\n",
       "\t<tr><th></th><th scope=col>npar</th><th scope=col>AIC</th><th scope=col>BIC</th><th scope=col>logLik</th><th scope=col>deviance</th><th scope=col>Chisq</th><th scope=col>Df</th><th scope=col>Pr(&gt;Chisq)</th></tr>\n",
       "\t<tr><th></th><th scope=col>&lt;dbl&gt;</th><th scope=col>&lt;dbl&gt;</th><th scope=col>&lt;dbl&gt;</th><th scope=col>&lt;dbl&gt;</th><th scope=col>&lt;dbl&gt;</th><th scope=col>&lt;dbl&gt;</th><th scope=col>&lt;dbl&gt;</th><th scope=col>&lt;dbl&gt;</th></tr>\n",
       "</thead>\n",
       "<tbody>\n",
       "\t<tr><th scope=row>mod5</th><td>28</td><td>501.2437</td><td>612.1519</td><td>-222.6219</td><td>445.2437</td><td>      NA</td><td>NA</td><td>       NA</td></tr>\n",
       "\t<tr><th scope=row>mod4</th><td>32</td><td>501.6215</td><td>628.3737</td><td>-218.8108</td><td>437.6215</td><td>7.622197</td><td> 4</td><td>0.1064401</td></tr>\n",
       "</tbody>\n",
       "</table>\n"
      ],
      "text/latex": [
       "A anova: 2 × 8\n",
       "\\begin{tabular}{r|llllllll}\n",
       "  & npar & AIC & BIC & logLik & deviance & Chisq & Df & Pr(>Chisq)\\\\\n",
       "  & <dbl> & <dbl> & <dbl> & <dbl> & <dbl> & <dbl> & <dbl> & <dbl>\\\\\n",
       "\\hline\n",
       "\tmod5 & 28 & 501.2437 & 612.1519 & -222.6219 & 445.2437 &       NA & NA &        NA\\\\\n",
       "\tmod4 & 32 & 501.6215 & 628.3737 & -218.8108 & 437.6215 & 7.622197 &  4 & 0.1064401\\\\\n",
       "\\end{tabular}\n"
      ],
      "text/markdown": [
       "\n",
       "A anova: 2 × 8\n",
       "\n",
       "| <!--/--> | npar &lt;dbl&gt; | AIC &lt;dbl&gt; | BIC &lt;dbl&gt; | logLik &lt;dbl&gt; | deviance &lt;dbl&gt; | Chisq &lt;dbl&gt; | Df &lt;dbl&gt; | Pr(&gt;Chisq) &lt;dbl&gt; |\n",
       "|---|---|---|---|---|---|---|---|---|\n",
       "| mod5 | 28 | 501.2437 | 612.1519 | -222.6219 | 445.2437 |       NA | NA |        NA |\n",
       "| mod4 | 32 | 501.6215 | 628.3737 | -218.8108 | 437.6215 | 7.622197 |  4 | 0.1064401 |\n",
       "\n"
      ],
      "text/plain": [
       "     npar AIC      BIC      logLik    deviance Chisq    Df Pr(>Chisq)\n",
       "mod5 28   501.2437 612.1519 -222.6219 445.2437       NA NA        NA \n",
       "mod4 32   501.6215 628.3737 -218.8108 437.6215 7.622197  4 0.1064401 "
      ]
     },
     "metadata": {},
     "output_type": "display_data"
    }
   ],
   "source": [
    "mod5 = update(mod4, . ~ . - Solution:TSM_Bin)\n",
    "anova(mod4, mod5)"
   ]
  },
  {
   "cell_type": "markdown",
   "id": "6294c13b",
   "metadata": {},
   "source": [
    "mod4 is not significantly better than mod5 so we will keep mod5"
   ]
  },
  {
   "cell_type": "code",
   "execution_count": 24,
   "id": "055cfca5",
   "metadata": {},
   "outputs": [
    {
     "name": "stderr",
     "output_type": "stream",
     "text": [
      "\n",
      "Correlation matrix not shown by default, as p = 25 > 12.\n",
      "Use print(obj, correlation=TRUE)  or\n",
      "    vcov(obj)        if you need it\n",
      "\n",
      "\n"
     ]
    },
    {
     "data": {
      "text/plain": [
       "Generalized linear mixed model fit by maximum likelihood (Laplace\n",
       "  Approximation) [glmerMod]\n",
       " Family: binomial  ( logit )\n",
       "Formula: Final_Decision_Binary ~ Reward_Side + Solution + TSM_Bin + Visit +  \n",
       "    (1 | Starvation_Period) + (1 | Experimentor/Collection_Date) +  \n",
       "    Solution:Visit + TSM_Bin:Visit\n",
       "   Data: ELP_08\n",
       "Control: glmerControl(optimizer = \"bobyqa\", optCtrl = list(maxfun = 1e+09))\n",
       "\n",
       "     AIC      BIC   logLik deviance df.resid \n",
       "   501.2    612.2   -222.6    445.2      360 \n",
       "\n",
       "Scaled residuals: \n",
       "    Min      1Q  Median      3Q     Max \n",
       "-2.6715 -0.9157  0.4288  0.6414  1.9027 \n",
       "\n",
       "Random effects:\n",
       " Groups                       Name        Variance Std.Dev.\n",
       " Collection_Date:Experimentor (Intercept) 0.2599   0.5098  \n",
       " Experimentor                 (Intercept) 0.0000   0.0000  \n",
       " Starvation_Period            (Intercept) 0.0000   0.0000  \n",
       "Number of obs: 388, groups:  \n",
       "Collection_Date:Experimentor, 20; Experimentor, 3; Starvation_Period, 2\n",
       "\n",
       "Fixed effects:\n",
       "                               Estimate Std. Error z value Pr(>|z|)    \n",
       "(Intercept)                      1.3645     0.5214   2.617 0.008875 ** \n",
       "Reward_SideR                    -0.5978     0.2879  -2.076 0.037853 *  \n",
       "Solution250ppm Caffeine          0.2801     0.4924   0.569 0.569495    \n",
       "TSM_Bin120+                     -0.9981     0.6781  -1.472 0.140999    \n",
       "TSM_Bin30-60                    -0.2742     0.7081  -0.387 0.698603    \n",
       "TSM_Bin60-90                     0.1012     0.7973   0.127 0.898966    \n",
       "TSM_Bin90-120                   -0.4396     0.6839  -0.643 0.520328    \n",
       "Visit3                          -0.6007     0.6572  -0.914 0.360694    \n",
       "Visit4                          -1.3417     0.6558  -2.046 0.040765 *  \n",
       "Visit5                          -0.6534     0.6542  -0.999 0.317897    \n",
       "Solution250ppm Caffeine:Visit3   0.5739     0.6588   0.871 0.383665    \n",
       "Solution250ppm Caffeine:Visit4  -0.8349     0.6689  -1.248 0.211959    \n",
       "Solution250ppm Caffeine:Visit5  -0.5209     0.6679  -0.780 0.435411    \n",
       "TSM_Bin120+:Visit3               1.2355     0.9633   1.282 0.199671    \n",
       "TSM_Bin30-60:Visit3              0.0374     0.9751   0.038 0.969405    \n",
       "TSM_Bin60-90:Visit3             -0.1040     1.0710  -0.097 0.922623    \n",
       "TSM_Bin90-120:Visit3            -0.2027     0.9411  -0.215 0.829433    \n",
       "TSM_Bin120+:Visit4               3.7425     1.0931   3.424 0.000617 ***\n",
       "TSM_Bin30-60:Visit4              0.3502     0.9639   0.363 0.716369    \n",
       "TSM_Bin60-90:Visit4              1.4511     1.0683   1.358 0.174384    \n",
       "TSM_Bin90-120:Visit4             2.0376     0.9586   2.126 0.033534 *  \n",
       "TSM_Bin120+:Visit5               1.1359     0.9234   1.230 0.218622    \n",
       "TSM_Bin30-60:Visit5              0.6089     0.9560   0.637 0.524128    \n",
       "TSM_Bin60-90:Visit5              1.4714     1.1645   1.264 0.206395    \n",
       "TSM_Bin90-120:Visit5             2.3898     1.0882   2.196 0.028091 *  \n",
       "---\n",
       "Signif. codes:  0 ‘***’ 0.001 ‘**’ 0.01 ‘*’ 0.05 ‘.’ 0.1 ‘ ’ 1\n",
       "optimizer (bobyqa) convergence code: 0 (OK)\n",
       "boundary (singular) fit: see ?isSingular\n"
      ]
     },
     "metadata": {},
     "output_type": "display_data"
    },
    {
     "data": {
      "text/html": [
       "<table class=\"dataframe\">\n",
       "<caption>A anova: 6 × 3</caption>\n",
       "<thead>\n",
       "\t<tr><th></th><th scope=col>Chisq</th><th scope=col>Df</th><th scope=col>Pr(&gt;Chisq)</th></tr>\n",
       "\t<tr><th></th><th scope=col>&lt;dbl&gt;</th><th scope=col>&lt;dbl&gt;</th><th scope=col>&lt;dbl&gt;</th></tr>\n",
       "</thead>\n",
       "<tbody>\n",
       "\t<tr><th scope=row>Reward_Side</th><td> 4.3115961</td><td> 1</td><td>0.03785343</td></tr>\n",
       "\t<tr><th scope=row>Solution</th><td> 0.1136688</td><td> 1</td><td>0.73600531</td></tr>\n",
       "\t<tr><th scope=row>TSM_Bin</th><td> 5.4603400</td><td> 4</td><td>0.24323769</td></tr>\n",
       "\t<tr><th scope=row>Visit</th><td> 3.7634600</td><td> 3</td><td>0.28816505</td></tr>\n",
       "\t<tr><th scope=row>Solution:Visit</th><td> 5.1625830</td><td> 3</td><td>0.16027186</td></tr>\n",
       "\t<tr><th scope=row>TSM_Bin:Visit</th><td>22.0586703</td><td>12</td><td>0.03686750</td></tr>\n",
       "</tbody>\n",
       "</table>\n"
      ],
      "text/latex": [
       "A anova: 6 × 3\n",
       "\\begin{tabular}{r|lll}\n",
       "  & Chisq & Df & Pr(>Chisq)\\\\\n",
       "  & <dbl> & <dbl> & <dbl>\\\\\n",
       "\\hline\n",
       "\tReward\\_Side &  4.3115961 &  1 & 0.03785343\\\\\n",
       "\tSolution &  0.1136688 &  1 & 0.73600531\\\\\n",
       "\tTSM\\_Bin &  5.4603400 &  4 & 0.24323769\\\\\n",
       "\tVisit &  3.7634600 &  3 & 0.28816505\\\\\n",
       "\tSolution:Visit &  5.1625830 &  3 & 0.16027186\\\\\n",
       "\tTSM\\_Bin:Visit & 22.0586703 & 12 & 0.03686750\\\\\n",
       "\\end{tabular}\n"
      ],
      "text/markdown": [
       "\n",
       "A anova: 6 × 3\n",
       "\n",
       "| <!--/--> | Chisq &lt;dbl&gt; | Df &lt;dbl&gt; | Pr(&gt;Chisq) &lt;dbl&gt; |\n",
       "|---|---|---|---|\n",
       "| Reward_Side |  4.3115961 |  1 | 0.03785343 |\n",
       "| Solution |  0.1136688 |  1 | 0.73600531 |\n",
       "| TSM_Bin |  5.4603400 |  4 | 0.24323769 |\n",
       "| Visit |  3.7634600 |  3 | 0.28816505 |\n",
       "| Solution:Visit |  5.1625830 |  3 | 0.16027186 |\n",
       "| TSM_Bin:Visit | 22.0586703 | 12 | 0.03686750 |\n",
       "\n"
      ],
      "text/plain": [
       "               Chisq      Df Pr(>Chisq)\n",
       "Reward_Side     4.3115961  1 0.03785343\n",
       "Solution        0.1136688  1 0.73600531\n",
       "TSM_Bin         5.4603400  4 0.24323769\n",
       "Visit           3.7634600  3 0.28816505\n",
       "Solution:Visit  5.1625830  3 0.16027186\n",
       "TSM_Bin:Visit  22.0586703 12 0.03686750"
      ]
     },
     "metadata": {},
     "output_type": "display_data"
    },
    {
     "data": {
      "text/html": [
       "<style>\n",
       ".list-inline {list-style: none; margin:0; padding: 0}\n",
       ".list-inline>li {display: inline-block}\n",
       ".list-inline>li:not(:last-child)::after {content: \"\\00b7\"; padding: 0 .5ex}\n",
       "</style>\n",
       "<ol class=list-inline><li>'Reward_Side'</li><li>'Solution:Visit'</li><li>'TSM_Bin:Visit'</li></ol>\n"
      ],
      "text/latex": [
       "\\begin{enumerate*}\n",
       "\\item 'Reward\\_Side'\n",
       "\\item 'Solution:Visit'\n",
       "\\item 'TSM\\_Bin:Visit'\n",
       "\\end{enumerate*}\n"
      ],
      "text/markdown": [
       "1. 'Reward_Side'\n",
       "2. 'Solution:Visit'\n",
       "3. 'TSM_Bin:Visit'\n",
       "\n",
       "\n"
      ],
      "text/plain": [
       "[1] \"Reward_Side\"    \"Solution:Visit\" \"TSM_Bin:Visit\" "
      ]
     },
     "metadata": {},
     "output_type": "display_data"
    }
   ],
   "source": [
    "summary(mod5)\n",
    "Anova(mod5)\n",
    "drop.scope(mod5)"
   ]
  },
  {
   "cell_type": "code",
   "execution_count": 25,
   "id": "b9a2aa54",
   "metadata": {
    "scrolled": true
   },
   "outputs": [
    {
     "name": "stderr",
     "output_type": "stream",
     "text": [
      "boundary (singular) fit: see ?isSingular\n",
      "\n"
     ]
    },
    {
     "data": {
      "text/html": [
       "<table class=\"dataframe\">\n",
       "<caption>A anova: 2 × 8</caption>\n",
       "<thead>\n",
       "\t<tr><th></th><th scope=col>npar</th><th scope=col>AIC</th><th scope=col>BIC</th><th scope=col>logLik</th><th scope=col>deviance</th><th scope=col>Chisq</th><th scope=col>Df</th><th scope=col>Pr(&gt;Chisq)</th></tr>\n",
       "\t<tr><th></th><th scope=col>&lt;dbl&gt;</th><th scope=col>&lt;dbl&gt;</th><th scope=col>&lt;dbl&gt;</th><th scope=col>&lt;dbl&gt;</th><th scope=col>&lt;dbl&gt;</th><th scope=col>&lt;dbl&gt;</th><th scope=col>&lt;dbl&gt;</th><th scope=col>&lt;dbl&gt;</th></tr>\n",
       "</thead>\n",
       "<tbody>\n",
       "\t<tr><th scope=row>mod6</th><td>25</td><td>500.4980</td><td>599.5231</td><td>-225.2490</td><td>450.4980</td><td>      NA</td><td>NA</td><td>       NA</td></tr>\n",
       "\t<tr><th scope=row>mod5</th><td>28</td><td>501.2437</td><td>612.1519</td><td>-222.6219</td><td>445.2437</td><td>5.254228</td><td> 3</td><td>0.1541002</td></tr>\n",
       "</tbody>\n",
       "</table>\n"
      ],
      "text/latex": [
       "A anova: 2 × 8\n",
       "\\begin{tabular}{r|llllllll}\n",
       "  & npar & AIC & BIC & logLik & deviance & Chisq & Df & Pr(>Chisq)\\\\\n",
       "  & <dbl> & <dbl> & <dbl> & <dbl> & <dbl> & <dbl> & <dbl> & <dbl>\\\\\n",
       "\\hline\n",
       "\tmod6 & 25 & 500.4980 & 599.5231 & -225.2490 & 450.4980 &       NA & NA &        NA\\\\\n",
       "\tmod5 & 28 & 501.2437 & 612.1519 & -222.6219 & 445.2437 & 5.254228 &  3 & 0.1541002\\\\\n",
       "\\end{tabular}\n"
      ],
      "text/markdown": [
       "\n",
       "A anova: 2 × 8\n",
       "\n",
       "| <!--/--> | npar &lt;dbl&gt; | AIC &lt;dbl&gt; | BIC &lt;dbl&gt; | logLik &lt;dbl&gt; | deviance &lt;dbl&gt; | Chisq &lt;dbl&gt; | Df &lt;dbl&gt; | Pr(&gt;Chisq) &lt;dbl&gt; |\n",
       "|---|---|---|---|---|---|---|---|---|\n",
       "| mod6 | 25 | 500.4980 | 599.5231 | -225.2490 | 450.4980 |       NA | NA |        NA |\n",
       "| mod5 | 28 | 501.2437 | 612.1519 | -222.6219 | 445.2437 | 5.254228 |  3 | 0.1541002 |\n",
       "\n"
      ],
      "text/plain": [
       "     npar AIC      BIC      logLik    deviance Chisq    Df Pr(>Chisq)\n",
       "mod6 25   500.4980 599.5231 -225.2490 450.4980       NA NA        NA \n",
       "mod5 28   501.2437 612.1519 -222.6219 445.2437 5.254228  3 0.1541002 "
      ]
     },
     "metadata": {},
     "output_type": "display_data"
    }
   ],
   "source": [
    "mod6 = update(mod5, . ~ . - Solution:Visit)\n",
    "anova(mod5, mod6)"
   ]
  },
  {
   "cell_type": "markdown",
   "id": "41460584",
   "metadata": {},
   "source": [
    "mod5 is not significantly better than mod6 so we will keep mod6"
   ]
  },
  {
   "cell_type": "code",
   "execution_count": 26,
   "id": "2229421f",
   "metadata": {},
   "outputs": [
    {
     "name": "stderr",
     "output_type": "stream",
     "text": [
      "\n",
      "Correlation matrix not shown by default, as p = 22 > 12.\n",
      "Use print(obj, correlation=TRUE)  or\n",
      "    vcov(obj)        if you need it\n",
      "\n",
      "\n"
     ]
    },
    {
     "data": {
      "text/plain": [
       "Generalized linear mixed model fit by maximum likelihood (Laplace\n",
       "  Approximation) [glmerMod]\n",
       " Family: binomial  ( logit )\n",
       "Formula: Final_Decision_Binary ~ Reward_Side + Solution + TSM_Bin + Visit +  \n",
       "    (1 | Starvation_Period) + (1 | Experimentor/Collection_Date) +  \n",
       "    TSM_Bin:Visit\n",
       "   Data: ELP_08\n",
       "Control: glmerControl(optimizer = \"bobyqa\", optCtrl = list(maxfun = 1e+09))\n",
       "\n",
       "     AIC      BIC   logLik deviance df.resid \n",
       "   500.5    599.5   -225.2    450.5      363 \n",
       "\n",
       "Scaled residuals: \n",
       "    Min      1Q  Median      3Q     Max \n",
       "-2.8148 -0.9058  0.4336  0.6758  1.8147 \n",
       "\n",
       "Random effects:\n",
       " Groups                       Name        Variance  Std.Dev. \n",
       " Collection_Date:Experimentor (Intercept) 2.510e-01 5.010e-01\n",
       " Experimentor                 (Intercept) 1.288e-15 3.589e-08\n",
       " Starvation_Period            (Intercept) 0.000e+00 0.000e+00\n",
       "Number of obs: 388, groups:  \n",
       "Collection_Date:Experimentor, 20; Experimentor, 3; Starvation_Period, 2\n",
       "\n",
       "Fixed effects:\n",
       "                        Estimate Std. Error z value Pr(>|z|)    \n",
       "(Intercept)              1.44842    0.48295   2.999 0.002708 ** \n",
       "Reward_SideR            -0.59116    0.28509  -2.074 0.038117 *  \n",
       "Solution250ppm Caffeine  0.09734    0.27617   0.352 0.724500    \n",
       "TSM_Bin120+             -1.01059    0.67530  -1.496 0.134524    \n",
       "TSM_Bin30-60            -0.27895    0.70533  -0.395 0.692486    \n",
       "TSM_Bin60-90             0.12030    0.79540   0.151 0.879779    \n",
       "TSM_Bin90-120           -0.44750    0.68182  -0.656 0.511610    \n",
       "Visit3                  -0.33207    0.57710  -0.575 0.565010    \n",
       "Visit4                  -1.74288    0.57141  -3.050 0.002287 ** \n",
       "Visit5                  -0.91333    0.56208  -1.625 0.104183    \n",
       "TSM_Bin120+:Visit3       1.16474    0.95033   1.226 0.220345    \n",
       "TSM_Bin30-60:Visit3      0.03511    0.96322   0.036 0.970920    \n",
       "TSM_Bin60-90:Visit3     -0.06355    1.06185  -0.060 0.952273    \n",
       "TSM_Bin90-120:Visit3    -0.19882    0.93183  -0.213 0.831043    \n",
       "TSM_Bin120+:Visit4       3.78376    1.08966   3.472 0.000516 ***\n",
       "TSM_Bin30-60:Visit4      0.34233    0.95969   0.357 0.721312    \n",
       "TSM_Bin60-90:Visit4      1.34725    1.05822   1.273 0.202969    \n",
       "TSM_Bin90-120:Visit4     2.03279    0.95304   2.133 0.032928 *  \n",
       "TSM_Bin120+:Visit5       1.17790    0.91978   1.281 0.200320    \n",
       "TSM_Bin30-60:Visit5      0.61637    0.95414   0.646 0.518284    \n",
       "TSM_Bin60-90:Visit5      1.41983    1.15966   1.224 0.220822    \n",
       "TSM_Bin90-120:Visit5     2.40198    1.08661   2.211 0.027068 *  \n",
       "---\n",
       "Signif. codes:  0 ‘***’ 0.001 ‘**’ 0.01 ‘*’ 0.05 ‘.’ 0.1 ‘ ’ 1\n",
       "optimizer (bobyqa) convergence code: 0 (OK)\n",
       "boundary (singular) fit: see ?isSingular\n"
      ]
     },
     "metadata": {},
     "output_type": "display_data"
    },
    {
     "data": {
      "text/html": [
       "<table class=\"dataframe\">\n",
       "<caption>A anova: 5 × 3</caption>\n",
       "<thead>\n",
       "\t<tr><th></th><th scope=col>Chisq</th><th scope=col>Df</th><th scope=col>Pr(&gt;Chisq)</th></tr>\n",
       "\t<tr><th></th><th scope=col>&lt;dbl&gt;</th><th scope=col>&lt;dbl&gt;</th><th scope=col>&lt;dbl&gt;</th></tr>\n",
       "</thead>\n",
       "<tbody>\n",
       "\t<tr><th scope=row>Reward_Side</th><td> 4.2997812</td><td> 1</td><td>0.03811728</td></tr>\n",
       "\t<tr><th scope=row>Solution</th><td> 0.1242218</td><td> 1</td><td>0.72449997</td></tr>\n",
       "\t<tr><th scope=row>TSM_Bin</th><td> 5.5073380</td><td> 4</td><td>0.23908522</td></tr>\n",
       "\t<tr><th scope=row>Visit</th><td> 3.8821558</td><td> 3</td><td>0.27447357</td></tr>\n",
       "\t<tr><th scope=row>TSM_Bin:Visit</th><td>22.1074467</td><td>12</td><td>0.03633309</td></tr>\n",
       "</tbody>\n",
       "</table>\n"
      ],
      "text/latex": [
       "A anova: 5 × 3\n",
       "\\begin{tabular}{r|lll}\n",
       "  & Chisq & Df & Pr(>Chisq)\\\\\n",
       "  & <dbl> & <dbl> & <dbl>\\\\\n",
       "\\hline\n",
       "\tReward\\_Side &  4.2997812 &  1 & 0.03811728\\\\\n",
       "\tSolution &  0.1242218 &  1 & 0.72449997\\\\\n",
       "\tTSM\\_Bin &  5.5073380 &  4 & 0.23908522\\\\\n",
       "\tVisit &  3.8821558 &  3 & 0.27447357\\\\\n",
       "\tTSM\\_Bin:Visit & 22.1074467 & 12 & 0.03633309\\\\\n",
       "\\end{tabular}\n"
      ],
      "text/markdown": [
       "\n",
       "A anova: 5 × 3\n",
       "\n",
       "| <!--/--> | Chisq &lt;dbl&gt; | Df &lt;dbl&gt; | Pr(&gt;Chisq) &lt;dbl&gt; |\n",
       "|---|---|---|---|\n",
       "| Reward_Side |  4.2997812 |  1 | 0.03811728 |\n",
       "| Solution |  0.1242218 |  1 | 0.72449997 |\n",
       "| TSM_Bin |  5.5073380 |  4 | 0.23908522 |\n",
       "| Visit |  3.8821558 |  3 | 0.27447357 |\n",
       "| TSM_Bin:Visit | 22.1074467 | 12 | 0.03633309 |\n",
       "\n"
      ],
      "text/plain": [
       "              Chisq      Df Pr(>Chisq)\n",
       "Reward_Side    4.2997812  1 0.03811728\n",
       "Solution       0.1242218  1 0.72449997\n",
       "TSM_Bin        5.5073380  4 0.23908522\n",
       "Visit          3.8821558  3 0.27447357\n",
       "TSM_Bin:Visit 22.1074467 12 0.03633309"
      ]
     },
     "metadata": {},
     "output_type": "display_data"
    },
    {
     "data": {
      "text/html": [
       "<style>\n",
       ".list-inline {list-style: none; margin:0; padding: 0}\n",
       ".list-inline>li {display: inline-block}\n",
       ".list-inline>li:not(:last-child)::after {content: \"\\00b7\"; padding: 0 .5ex}\n",
       "</style>\n",
       "<ol class=list-inline><li>'Reward_Side'</li><li>'Solution'</li><li>'TSM_Bin:Visit'</li></ol>\n"
      ],
      "text/latex": [
       "\\begin{enumerate*}\n",
       "\\item 'Reward\\_Side'\n",
       "\\item 'Solution'\n",
       "\\item 'TSM\\_Bin:Visit'\n",
       "\\end{enumerate*}\n"
      ],
      "text/markdown": [
       "1. 'Reward_Side'\n",
       "2. 'Solution'\n",
       "3. 'TSM_Bin:Visit'\n",
       "\n",
       "\n"
      ],
      "text/plain": [
       "[1] \"Reward_Side\"   \"Solution\"      \"TSM_Bin:Visit\""
      ]
     },
     "metadata": {},
     "output_type": "display_data"
    }
   ],
   "source": [
    "summary(mod6)\n",
    "Anova(mod6)\n",
    "drop.scope(mod6)"
   ]
  },
  {
   "cell_type": "markdown",
   "id": "d976acef",
   "metadata": {},
   "source": [
    "Ants seem to do significantly worse at visit 4 when compared to all others, however significantly better at visit 4 when this occurs between 90-120 and 120+ minutes since visit 1. Other worth to mention results from the model summary include a significant decrease in success rate on the right side of the Y-maze and a slight, yet not significant, improvement of spatial learning under the influence of 250ppm caffeine. Both Experimentor and Collection_Date explain a small amount of variance in the data but not Starvation_Period."
   ]
  },
  {
   "cell_type": "code",
   "execution_count": 27,
   "id": "871dbb60",
   "metadata": {},
   "outputs": [
    {
     "data": {
      "text/html": [
       "<table class=\"dataframe\">\n",
       "<caption>A anova: 2 × 8</caption>\n",
       "<thead>\n",
       "\t<tr><th></th><th scope=col>npar</th><th scope=col>AIC</th><th scope=col>BIC</th><th scope=col>logLik</th><th scope=col>deviance</th><th scope=col>Chisq</th><th scope=col>Df</th><th scope=col>Pr(&gt;Chisq)</th></tr>\n",
       "\t<tr><th></th><th scope=col>&lt;dbl&gt;</th><th scope=col>&lt;dbl&gt;</th><th scope=col>&lt;dbl&gt;</th><th scope=col>&lt;dbl&gt;</th><th scope=col>&lt;dbl&gt;</th><th scope=col>&lt;dbl&gt;</th><th scope=col>&lt;dbl&gt;</th><th scope=col>&lt;dbl&gt;</th></tr>\n",
       "</thead>\n",
       "<tbody>\n",
       "\t<tr><th scope=row>mod6</th><td>25</td><td>500.4980</td><td>599.5231</td><td>-225.2490</td><td>450.4980</td><td>      NA</td><td>NA</td><td>      NA</td></tr>\n",
       "\t<tr><th scope=row>mod1</th><td>40</td><td>514.5552</td><td>672.9954</td><td>-217.2776</td><td>434.5552</td><td>15.94282</td><td>15</td><td>0.385862</td></tr>\n",
       "</tbody>\n",
       "</table>\n"
      ],
      "text/latex": [
       "A anova: 2 × 8\n",
       "\\begin{tabular}{r|llllllll}\n",
       "  & npar & AIC & BIC & logLik & deviance & Chisq & Df & Pr(>Chisq)\\\\\n",
       "  & <dbl> & <dbl> & <dbl> & <dbl> & <dbl> & <dbl> & <dbl> & <dbl>\\\\\n",
       "\\hline\n",
       "\tmod6 & 25 & 500.4980 & 599.5231 & -225.2490 & 450.4980 &       NA & NA &       NA\\\\\n",
       "\tmod1 & 40 & 514.5552 & 672.9954 & -217.2776 & 434.5552 & 15.94282 & 15 & 0.385862\\\\\n",
       "\\end{tabular}\n"
      ],
      "text/markdown": [
       "\n",
       "A anova: 2 × 8\n",
       "\n",
       "| <!--/--> | npar &lt;dbl&gt; | AIC &lt;dbl&gt; | BIC &lt;dbl&gt; | logLik &lt;dbl&gt; | deviance &lt;dbl&gt; | Chisq &lt;dbl&gt; | Df &lt;dbl&gt; | Pr(&gt;Chisq) &lt;dbl&gt; |\n",
       "|---|---|---|---|---|---|---|---|---|\n",
       "| mod6 | 25 | 500.4980 | 599.5231 | -225.2490 | 450.4980 |       NA | NA |       NA |\n",
       "| mod1 | 40 | 514.5552 | 672.9954 | -217.2776 | 434.5552 | 15.94282 | 15 | 0.385862 |\n",
       "\n"
      ],
      "text/plain": [
       "     npar AIC      BIC      logLik    deviance Chisq    Df Pr(>Chisq)\n",
       "mod6 25   500.4980 599.5231 -225.2490 450.4980       NA NA       NA  \n",
       "mod1 40   514.5552 672.9954 -217.2776 434.5552 15.94282 15 0.385862  "
      ]
     },
     "metadata": {},
     "output_type": "display_data"
    },
    {
     "data": {
      "image/png": "[encoded data removed]",
      "text/plain": [
       "Plot with title “QQ plot residuals”"
      ]
     },
     "metadata": {
      "filenames": {
       "image/png": "/Users/icaru/Desktop/ACEBook/content/_build/jupyter_execute/ELP_08_analysis_48_1.png"
      },
      "image/png": {
       "height": 420,
       "width": 420
      }
     },
     "output_type": "display_data"
    }
   ],
   "source": [
    "anova(mod1, mod6)\n",
    "simres = simulateResiduals(mod6)\n",
    "plot(simres, asFactor = T)"
   ]
  },
  {
   "cell_type": "markdown",
   "id": "dd26ece4",
   "metadata": {},
   "source": [
    "mod1 is not significantly better than mod6 so we will keep mod6 - the diagnostic plots suggest mod6 is still a good fit.\n",
    "\n",
    "#### Model interpretation\n",
    "There is an effect of reward side:"
   ]
  },
  {
   "cell_type": "code",
   "execution_count": 28,
   "id": "89a4d3a5",
   "metadata": {
    "scrolled": true
   },
   "outputs": [
    {
     "data": {
      "text/plain": [
       " contrast odds.ratio    SE  df null z.ratio p.value\n",
       " L / R          1.81 0.515 Inf    1   2.074  0.0381\n",
       "\n",
       "Results are averaged over the levels of: Solution, TSM_Bin, Visit \n",
       "Tests are performed on the log odds ratio scale "
      ]
     },
     "metadata": {},
     "output_type": "display_data"
    }
   ],
   "source": [
    "meanobj = emmeans(mod6, ~Reward_Side, type = \"response\")\n",
    "pairs(meanobj, adjust = \"bonferroni\")"
   ]
  },
  {
   "cell_type": "markdown",
   "id": "246cc2fa",
   "metadata": {},
   "source": [
    "Ants tend to chose the left side of the Y-maze more often than the right side. This is particularly interesting as each experimentor had a differently orientated Y-maze setup, meaning that for one Left was towards the wall and to the other it was away from the wall. This would suggest an internal innate preference to turn left over a preference towards one side of the experimental room."
   ]
  },
  {
   "cell_type": "code",
   "execution_count": 29,
   "id": "5b7f8b40",
   "metadata": {},
   "outputs": [
    {
     "data": {
      "text/html": [
       "<table class=\"dataframe\">\n",
       "<caption>A summary_emm: 20 × 8</caption>\n",
       "<thead>\n",
       "\t<tr><th></th><th scope=col>TSM_Bin</th><th scope=col>Visit</th><th scope=col>prob</th><th scope=col>SE</th><th scope=col>df</th><th scope=col>null</th><th scope=col>z.ratio</th><th scope=col>p.value</th></tr>\n",
       "\t<tr><th></th><th scope=col>&lt;fct&gt;</th><th scope=col>&lt;fct&gt;</th><th scope=col>&lt;dbl&gt;</th><th scope=col>&lt;dbl&gt;</th><th scope=col>&lt;dbl&gt;</th><th scope=col>&lt;dbl&gt;</th><th scope=col>&lt;dbl&gt;</th><th scope=col>&lt;dbl&gt;</th></tr>\n",
       "</thead>\n",
       "<tbody>\n",
       "\t<tr><th scope=row>1</th><td>0-30  </td><td>2</td><td>0.7687932</td><td>0.07832191</td><td>Inf</td><td>0.5</td><td> 2.7268049</td><td>0.006395083</td></tr>\n",
       "\t<tr><th scope=row>2</th><td>120+  </td><td>2</td><td>0.5475854</td><td>0.13307548</td><td>Inf</td><td>0.5</td><td> 0.3554192</td><td>0.722275573</td></tr>\n",
       "\t<tr><th scope=row>3</th><td>30-60 </td><td>2</td><td>0.7155639</td><td>0.11821202</td><td>Inf</td><td>0.5</td><td> 1.5884267</td><td>0.112189890</td></tr>\n",
       "\t<tr><th scope=row>4</th><td>60-90 </td><td>2</td><td>0.7894833</td><td>0.11272703</td><td>Inf</td><td>0.5</td><td> 1.9488197</td><td>0.051316957</td></tr>\n",
       "\t<tr><th scope=row>5</th><td>90-120</td><td>2</td><td>0.6800513</td><td>0.11975159</td><td>Inf</td><td>0.5</td><td> 1.3699871</td><td>0.170690934</td></tr>\n",
       "\t<tr><th scope=row>6</th><td>0-30  </td><td>3</td><td>0.7046280</td><td>0.08637247</td><td>Inf</td><td>0.5</td><td> 2.0950324</td><td>0.036168112</td></tr>\n",
       "\t<tr><th scope=row>7</th><td>120+  </td><td>3</td><td>0.7356704</td><td>0.11293775</td><td>Inf</td><td>0.5</td><td> 1.7624387</td><td>0.077995210</td></tr>\n",
       "\t<tr><th scope=row>8</th><td>30-60 </td><td>3</td><td>0.6514912</td><td>0.12693413</td><td>Inf</td><td>0.5</td><td> 1.1190282</td><td>0.263128123</td></tr>\n",
       "\t<tr><th scope=row>9</th><td>60-90 </td><td>3</td><td>0.7163005</td><td>0.12625471</td><td>Inf</td><td>0.5</td><td> 1.4907456</td><td>0.136028286</td></tr>\n",
       "\t<tr><th scope=row>10</th><td>90-120</td><td>3</td><td>0.5555483</td><td>0.13072025</td><td>Inf</td><td>0.5</td><td> 0.4214348</td><td>0.673437628</td></tr>\n",
       "\t<tr><th scope=row>11</th><td>0-30  </td><td>4</td><td>0.3678681</td><td>0.09308560</td><td>Inf</td><td>0.5</td><td>-1.3524286</td><td>0.176238261</td></tr>\n",
       "\t<tr><th scope=row>12</th><td>120+  </td><td>4</td><td>0.9030688</td><td>0.06911568</td><td>Inf</td><td>0.5</td><td> 2.8265885</td><td>0.004704674</td></tr>\n",
       "\t<tr><th scope=row>13</th><td>30-60 </td><td>4</td><td>0.3827261</td><td>0.13191746</td><td>Inf</td><td>0.5</td><td>-0.8560230</td><td>0.391985073</td></tr>\n",
       "\t<tr><th scope=row>14</th><td>60-90 </td><td>4</td><td>0.7163005</td><td>0.12625483</td><td>Inf</td><td>0.5</td><td> 1.4907445</td><td>0.136028579</td></tr>\n",
       "\t<tr><th scope=row>15</th><td>90-120</td><td>4</td><td>0.7396047</td><td>0.11054845</td><td>Inf</td><td>0.5</td><td> 1.8186339</td><td>0.068967303</td></tr>\n",
       "\t<tr><th scope=row>16</th><td>0-30  </td><td>5</td><td>0.5715498</td><td>0.09578256</td><td>Inf</td><td>0.5</td><td> 0.7367625</td><td>0.461266769</td></tr>\n",
       "\t<tr><th scope=row>17</th><td>120+  </td><td>5</td><td>0.6119441</td><td>0.12909218</td><td>Inf</td><td>0.5</td><td> 0.8378890</td><td>0.402093027</td></tr>\n",
       "\t<tr><th scope=row>18</th><td>30-60 </td><td>5</td><td>0.6514910</td><td>0.12693493</td><td>Inf</td><td>0.5</td><td> 1.1190194</td><td>0.263131866</td></tr>\n",
       "\t<tr><th scope=row>19</th><td>60-90 </td><td>5</td><td>0.8615603</td><td>0.09377157</td><td>Inf</td><td>0.5</td><td> 2.3255466</td><td>0.020042752</td></tr>\n",
       "\t<tr><th scope=row>20</th><td>90-120</td><td>5</td><td>0.9040155</td><td>0.06805667</td><td>Inf</td><td>0.5</td><td> 2.8593659</td><td>0.004244889</td></tr>\n",
       "</tbody>\n",
       "</table>\n"
      ],
      "text/latex": [
       "A summary\\_emm: 20 × 8\n",
       "\\begin{tabular}{r|llllllll}\n",
       "  & TSM\\_Bin & Visit & prob & SE & df & null & z.ratio & p.value\\\\\n",
       "  & <fct> & <fct> & <dbl> & <dbl> & <dbl> & <dbl> & <dbl> & <dbl>\\\\\n",
       "\\hline\n",
       "\t1 & 0-30   & 2 & 0.7687932 & 0.07832191 & Inf & 0.5 &  2.7268049 & 0.006395083\\\\\n",
       "\t2 & 120+   & 2 & 0.5475854 & 0.13307548 & Inf & 0.5 &  0.3554192 & 0.722275573\\\\\n",
       "\t3 & 30-60  & 2 & 0.7155639 & 0.11821202 & Inf & 0.5 &  1.5884267 & 0.112189890\\\\\n",
       "\t4 & 60-90  & 2 & 0.7894833 & 0.11272703 & Inf & 0.5 &  1.9488197 & 0.051316957\\\\\n",
       "\t5 & 90-120 & 2 & 0.6800513 & 0.11975159 & Inf & 0.5 &  1.3699871 & 0.170690934\\\\\n",
       "\t6 & 0-30   & 3 & 0.7046280 & 0.08637247 & Inf & 0.5 &  2.0950324 & 0.036168112\\\\\n",
       "\t7 & 120+   & 3 & 0.7356704 & 0.11293775 & Inf & 0.5 &  1.7624387 & 0.077995210\\\\\n",
       "\t8 & 30-60  & 3 & 0.6514912 & 0.12693413 & Inf & 0.5 &  1.1190282 & 0.263128123\\\\\n",
       "\t9 & 60-90  & 3 & 0.7163005 & 0.12625471 & Inf & 0.5 &  1.4907456 & 0.136028286\\\\\n",
       "\t10 & 90-120 & 3 & 0.5555483 & 0.13072025 & Inf & 0.5 &  0.4214348 & 0.673437628\\\\\n",
       "\t11 & 0-30   & 4 & 0.3678681 & 0.09308560 & Inf & 0.5 & -1.3524286 & 0.176238261\\\\\n",
       "\t12 & 120+   & 4 & 0.9030688 & 0.06911568 & Inf & 0.5 &  2.8265885 & 0.004704674\\\\\n",
       "\t13 & 30-60  & 4 & 0.3827261 & 0.13191746 & Inf & 0.5 & -0.8560230 & 0.391985073\\\\\n",
       "\t14 & 60-90  & 4 & 0.7163005 & 0.12625483 & Inf & 0.5 &  1.4907445 & 0.136028579\\\\\n",
       "\t15 & 90-120 & 4 & 0.7396047 & 0.11054845 & Inf & 0.5 &  1.8186339 & 0.068967303\\\\\n",
       "\t16 & 0-30   & 5 & 0.5715498 & 0.09578256 & Inf & 0.5 &  0.7367625 & 0.461266769\\\\\n",
       "\t17 & 120+   & 5 & 0.6119441 & 0.12909218 & Inf & 0.5 &  0.8378890 & 0.402093027\\\\\n",
       "\t18 & 30-60  & 5 & 0.6514910 & 0.12693493 & Inf & 0.5 &  1.1190194 & 0.263131866\\\\\n",
       "\t19 & 60-90  & 5 & 0.8615603 & 0.09377157 & Inf & 0.5 &  2.3255466 & 0.020042752\\\\\n",
       "\t20 & 90-120 & 5 & 0.9040155 & 0.06805667 & Inf & 0.5 &  2.8593659 & 0.004244889\\\\\n",
       "\\end{tabular}\n"
      ],
      "text/markdown": [
       "\n",
       "A summary_emm: 20 × 8\n",
       "\n",
       "| <!--/--> | TSM_Bin &lt;fct&gt; | Visit &lt;fct&gt; | prob &lt;dbl&gt; | SE &lt;dbl&gt; | df &lt;dbl&gt; | null &lt;dbl&gt; | z.ratio &lt;dbl&gt; | p.value &lt;dbl&gt; |\n",
       "|---|---|---|---|---|---|---|---|---|\n",
       "| 1 | 0-30   | 2 | 0.7687932 | 0.07832191 | Inf | 0.5 |  2.7268049 | 0.006395083 |\n",
       "| 2 | 120+   | 2 | 0.5475854 | 0.13307548 | Inf | 0.5 |  0.3554192 | 0.722275573 |\n",
       "| 3 | 30-60  | 2 | 0.7155639 | 0.11821202 | Inf | 0.5 |  1.5884267 | 0.112189890 |\n",
       "| 4 | 60-90  | 2 | 0.7894833 | 0.11272703 | Inf | 0.5 |  1.9488197 | 0.051316957 |\n",
       "| 5 | 90-120 | 2 | 0.6800513 | 0.11975159 | Inf | 0.5 |  1.3699871 | 0.170690934 |\n",
       "| 6 | 0-30   | 3 | 0.7046280 | 0.08637247 | Inf | 0.5 |  2.0950324 | 0.036168112 |\n",
       "| 7 | 120+   | 3 | 0.7356704 | 0.11293775 | Inf | 0.5 |  1.7624387 | 0.077995210 |\n",
       "| 8 | 30-60  | 3 | 0.6514912 | 0.12693413 | Inf | 0.5 |  1.1190282 | 0.263128123 |\n",
       "| 9 | 60-90  | 3 | 0.7163005 | 0.12625471 | Inf | 0.5 |  1.4907456 | 0.136028286 |\n",
       "| 10 | 90-120 | 3 | 0.5555483 | 0.13072025 | Inf | 0.5 |  0.4214348 | 0.673437628 |\n",
       "| 11 | 0-30   | 4 | 0.3678681 | 0.09308560 | Inf | 0.5 | -1.3524286 | 0.176238261 |\n",
       "| 12 | 120+   | 4 | 0.9030688 | 0.06911568 | Inf | 0.5 |  2.8265885 | 0.004704674 |\n",
       "| 13 | 30-60  | 4 | 0.3827261 | 0.13191746 | Inf | 0.5 | -0.8560230 | 0.391985073 |\n",
       "| 14 | 60-90  | 4 | 0.7163005 | 0.12625483 | Inf | 0.5 |  1.4907445 | 0.136028579 |\n",
       "| 15 | 90-120 | 4 | 0.7396047 | 0.11054845 | Inf | 0.5 |  1.8186339 | 0.068967303 |\n",
       "| 16 | 0-30   | 5 | 0.5715498 | 0.09578256 | Inf | 0.5 |  0.7367625 | 0.461266769 |\n",
       "| 17 | 120+   | 5 | 0.6119441 | 0.12909218 | Inf | 0.5 |  0.8378890 | 0.402093027 |\n",
       "| 18 | 30-60  | 5 | 0.6514910 | 0.12693493 | Inf | 0.5 |  1.1190194 | 0.263131866 |\n",
       "| 19 | 60-90  | 5 | 0.8615603 | 0.09377157 | Inf | 0.5 |  2.3255466 | 0.020042752 |\n",
       "| 20 | 90-120 | 5 | 0.9040155 | 0.06805667 | Inf | 0.5 |  2.8593659 | 0.004244889 |\n",
       "\n"
      ],
      "text/plain": [
       "   TSM_Bin Visit prob      SE         df  null z.ratio    p.value    \n",
       "1  0-30    2     0.7687932 0.07832191 Inf 0.5   2.7268049 0.006395083\n",
       "2  120+    2     0.5475854 0.13307548 Inf 0.5   0.3554192 0.722275573\n",
       "3  30-60   2     0.7155639 0.11821202 Inf 0.5   1.5884267 0.112189890\n",
       "4  60-90   2     0.7894833 0.11272703 Inf 0.5   1.9488197 0.051316957\n",
       "5  90-120  2     0.6800513 0.11975159 Inf 0.5   1.3699871 0.170690934\n",
       "6  0-30    3     0.7046280 0.08637247 Inf 0.5   2.0950324 0.036168112\n",
       "7  120+    3     0.7356704 0.11293775 Inf 0.5   1.7624387 0.077995210\n",
       "8  30-60   3     0.6514912 0.12693413 Inf 0.5   1.1190282 0.263128123\n",
       "9  60-90   3     0.7163005 0.12625471 Inf 0.5   1.4907456 0.136028286\n",
       "10 90-120  3     0.5555483 0.13072025 Inf 0.5   0.4214348 0.673437628\n",
       "11 0-30    4     0.3678681 0.09308560 Inf 0.5  -1.3524286 0.176238261\n",
       "12 120+    4     0.9030688 0.06911568 Inf 0.5   2.8265885 0.004704674\n",
       "13 30-60   4     0.3827261 0.13191746 Inf 0.5  -0.8560230 0.391985073\n",
       "14 60-90   4     0.7163005 0.12625483 Inf 0.5   1.4907445 0.136028579\n",
       "15 90-120  4     0.7396047 0.11054845 Inf 0.5   1.8186339 0.068967303\n",
       "16 0-30    5     0.5715498 0.09578256 Inf 0.5   0.7367625 0.461266769\n",
       "17 120+    5     0.6119441 0.12909218 Inf 0.5   0.8378890 0.402093027\n",
       "18 30-60   5     0.6514910 0.12693493 Inf 0.5   1.1190194 0.263131866\n",
       "19 60-90   5     0.8615603 0.09377157 Inf 0.5   2.3255466 0.020042752\n",
       "20 90-120  5     0.9040155 0.06805667 Inf 0.5   2.8593659 0.004244889"
      ]
     },
     "metadata": {},
     "output_type": "display_data"
    }
   ],
   "source": [
    "meanobj = emmeans(mod6, ~TSM_Bin * Visit, type = \"response\")\n",
    "test(meanobj)"
   ]
  },
  {
   "cell_type": "markdown",
   "id": "fb4a35d1",
   "metadata": {},
   "source": [
    "There is a **strong interaction effect of Time Since Marking and Visit**. Interestingly most combinations of the two appear to steer the ants into random choice. The exceptions to this are:\n",
    "\n",
    "- **Visit 2:** 0-30 & 60-90\n",
    "- **Visit 3:** 0-30\n",
    "- **Visit 4:** 120+\n",
    "- **Visit 5:** 60-90 & 90-120\n",
    "\n",
    "This vaguely suggests that **ants tested soon after training learn better at earlier visits** but not latter ones. This could be due to a loss of interest and exploration once they are sure of the food's location. Additionally, **ants tested long after training appear to have higher success rates at later visits. Curiously, this seems to lead to much higher success rates.**"
   ]
  },
  {
   "cell_type": "code",
   "execution_count": 30,
   "id": "a91e65e8",
   "metadata": {},
   "outputs": [
    {
     "data": {
      "text/html": [
       "<table class=\"dataframe\">\n",
       "<caption>A summary_emm: 2 × 7</caption>\n",
       "<thead>\n",
       "\t<tr><th></th><th scope=col>Solution</th><th scope=col>prob</th><th scope=col>SE</th><th scope=col>df</th><th scope=col>null</th><th scope=col>z.ratio</th><th scope=col>p.value</th></tr>\n",
       "\t<tr><th></th><th scope=col>&lt;fct&gt;</th><th scope=col>&lt;dbl&gt;</th><th scope=col>&lt;dbl&gt;</th><th scope=col>&lt;dbl&gt;</th><th scope=col>&lt;dbl&gt;</th><th scope=col>&lt;dbl&gt;</th><th scope=col>&lt;dbl&gt;</th></tr>\n",
       "</thead>\n",
       "<tbody>\n",
       "\t<tr><th scope=row>1</th><td>Control        </td><td>0.6868443</td><td>0.0486294</td><td>Inf</td><td>0.5</td><td>3.473877</td><td>5.129964e-04</td></tr>\n",
       "\t<tr><th scope=row>2</th><td>250ppm Caffeine</td><td>0.7073903</td><td>0.0467346</td><td>Inf</td><td>0.5</td><td>3.909701</td><td>9.241031e-05</td></tr>\n",
       "</tbody>\n",
       "</table>\n"
      ],
      "text/latex": [
       "A summary\\_emm: 2 × 7\n",
       "\\begin{tabular}{r|lllllll}\n",
       "  & Solution & prob & SE & df & null & z.ratio & p.value\\\\\n",
       "  & <fct> & <dbl> & <dbl> & <dbl> & <dbl> & <dbl> & <dbl>\\\\\n",
       "\\hline\n",
       "\t1 & Control         & 0.6868443 & 0.0486294 & Inf & 0.5 & 3.473877 & 5.129964e-04\\\\\n",
       "\t2 & 250ppm Caffeine & 0.7073903 & 0.0467346 & Inf & 0.5 & 3.909701 & 9.241031e-05\\\\\n",
       "\\end{tabular}\n"
      ],
      "text/markdown": [
       "\n",
       "A summary_emm: 2 × 7\n",
       "\n",
       "| <!--/--> | Solution &lt;fct&gt; | prob &lt;dbl&gt; | SE &lt;dbl&gt; | df &lt;dbl&gt; | null &lt;dbl&gt; | z.ratio &lt;dbl&gt; | p.value &lt;dbl&gt; |\n",
       "|---|---|---|---|---|---|---|---|\n",
       "| 1 | Control         | 0.6868443 | 0.0486294 | Inf | 0.5 | 3.473877 | 5.129964e-04 |\n",
       "| 2 | 250ppm Caffeine | 0.7073903 | 0.0467346 | Inf | 0.5 | 3.909701 | 9.241031e-05 |\n",
       "\n"
      ],
      "text/plain": [
       "  Solution        prob      SE        df  null z.ratio  p.value     \n",
       "1 Control         0.6868443 0.0486294 Inf 0.5  3.473877 5.129964e-04\n",
       "2 250ppm Caffeine 0.7073903 0.0467346 Inf 0.5  3.909701 9.241031e-05"
      ]
     },
     "metadata": {},
     "output_type": "display_data"
    },
    {
     "data": {
      "text/plain": [
       " contrast                  odds.ratio    SE  df null z.ratio p.value\n",
       " Control / 250ppm Caffeine      0.907 0.251 Inf    1  -0.352  0.7245\n",
       "\n",
       "Results are averaged over the levels of: Reward_Side, TSM_Bin, Visit \n",
       "Tests are performed on the log odds ratio scale "
      ]
     },
     "metadata": {},
     "output_type": "display_data"
    }
   ],
   "source": [
    "meanobj = emmeans(mod6, ~Solution, type = \"response\")\n",
    "test(meanobj)\n",
    "pairs(meanobj, adjust = \"bonferroni\")"
   ]
  },
  {
   "cell_type": "markdown",
   "id": "64c68b9a",
   "metadata": {},
   "source": [
    "There was **no significant difference between control and 250ppm caffeine** solutions suggesting caffeine has little to no effect on the ants ability to associate a reward with a side of the Y-maze."
   ]
  },
  {
   "cell_type": "code",
   "execution_count": 31,
   "id": "37948ae7",
   "metadata": {
    "scrolled": true
   },
   "outputs": [
    {
     "data": {
      "text/html": [
       "<table class=\"dataframe\">\n",
       "<caption>A summary_emm: 1 × 7</caption>\n",
       "<thead>\n",
       "\t<tr><th></th><th scope=col>1</th><th scope=col>prob</th><th scope=col>SE</th><th scope=col>df</th><th scope=col>null</th><th scope=col>z.ratio</th><th scope=col>p.value</th></tr>\n",
       "\t<tr><th></th><th scope=col>&lt;fct&gt;</th><th scope=col>&lt;dbl&gt;</th><th scope=col>&lt;dbl&gt;</th><th scope=col>&lt;dbl&gt;</th><th scope=col>&lt;dbl&gt;</th><th scope=col>&lt;dbl&gt;</th><th scope=col>&lt;dbl&gt;</th></tr>\n",
       "</thead>\n",
       "<tbody>\n",
       "\t<tr><th scope=row>1</th><td>overall</td><td>0.6972159</td><td>0.03775186</td><td>Inf</td><td>0.5</td><td>4.664091</td><td>3.099837e-06</td></tr>\n",
       "</tbody>\n",
       "</table>\n"
      ],
      "text/latex": [
       "A summary\\_emm: 1 × 7\n",
       "\\begin{tabular}{r|lllllll}\n",
       "  & 1 & prob & SE & df & null & z.ratio & p.value\\\\\n",
       "  & <fct> & <dbl> & <dbl> & <dbl> & <dbl> & <dbl> & <dbl>\\\\\n",
       "\\hline\n",
       "\t1 & overall & 0.6972159 & 0.03775186 & Inf & 0.5 & 4.664091 & 3.099837e-06\\\\\n",
       "\\end{tabular}\n"
      ],
      "text/markdown": [
       "\n",
       "A summary_emm: 1 × 7\n",
       "\n",
       "| <!--/--> | 1 &lt;fct&gt; | prob &lt;dbl&gt; | SE &lt;dbl&gt; | df &lt;dbl&gt; | null &lt;dbl&gt; | z.ratio &lt;dbl&gt; | p.value &lt;dbl&gt; |\n",
       "|---|---|---|---|---|---|---|---|\n",
       "| 1 | overall | 0.6972159 | 0.03775186 | Inf | 0.5 | 4.664091 | 3.099837e-06 |\n",
       "\n"
      ],
      "text/plain": [
       "  1       prob      SE         df  null z.ratio  p.value     \n",
       "1 overall 0.6972159 0.03775186 Inf 0.5  4.664091 3.099837e-06"
      ]
     },
     "metadata": {},
     "output_type": "display_data"
    }
   ],
   "source": [
    "meanobj = emmeans(mod6, ~1, type = \"response\")\n",
    "test(meanobj)"
   ]
  },
  {
   "cell_type": "markdown",
   "id": "d9f9483a",
   "metadata": {},
   "source": [
    "Overall, the ants successfully associated the presence of a reward with a side of the Y-maze with a **70%** success rate, a percentage significantly different from chance level (50%)."
   ]
  },
  {
   "cell_type": "code",
   "execution_count": 32,
   "id": "23c002cc",
   "metadata": {},
   "outputs": [
    {
     "data": {
      "text/plain": [
       "R version 4.1.0 (2021-05-18)\n",
       "Platform: x86_64-apple-darwin17.0 (64-bit)\n",
       "Running under: macOS Big Sur 10.16\n",
       "\n",
       "Matrix products: default\n",
       "BLAS:   /Library/Frameworks/R.framework/Versions/4.1/Resources/lib/libRblas.dylib\n",
       "LAPACK: /Library/Frameworks/R.framework/Versions/4.1/Resources/lib/libRlapack.dylib\n",
       "\n",
       "locale:\n",
       "[1] C/UTF-8/C/C/C/C\n",
       "\n",
       "attached base packages:\n",
       "[1] stats     graphics  grDevices utils     datasets  methods   base     \n",
       "\n",
       "other attached packages:\n",
       "[1] emmeans_1.7.3  car_3.0-12     carData_3.0-5  DHARMa_0.4.5   lme4_1.1-27.1 \n",
       "[6] Matrix_1.3-3   reshape2_1.4.4\n",
       "\n",
       "loaded via a namespace (and not attached):\n",
       " [1] gap_1.2.3-1         Rcpp_1.0.7          pillar_1.6.3       \n",
       " [4] compiler_4.1.0      nloptr_1.2.2.2      plyr_1.8.7         \n",
       " [7] base64enc_0.1-3     tools_4.1.0         boot_1.3-28        \n",
       "[10] digest_0.6.28       uuid_0.1-4          jsonlite_1.7.2     \n",
       "[13] evaluate_0.14       lifecycle_1.0.1     nlme_3.1-152       \n",
       "[16] lattice_0.20-44     rlang_0.4.11        IRdisplay_1.0      \n",
       "[19] IRkernel_1.2.0.9000 mvtnorm_1.1-3       fastmap_1.1.0      \n",
       "[22] coda_0.19-4         repr_1.1.3          stringr_1.4.0      \n",
       "[25] vctrs_0.3.8         grid_4.1.0          fansi_0.5.0        \n",
       "[28] pbdZMQ_0.3-5        minqa_1.2.4         magrittr_2.0.1     \n",
       "[31] ellipsis_0.3.2      htmltools_0.5.2     splines_4.1.0      \n",
       "[34] MASS_7.3-54         abind_1.4-5         xtable_1.8-4       \n",
       "[37] utf8_1.2.2          estimability_1.3    stringi_1.7.4      \n",
       "[40] crayon_1.4.1       "
      ]
     },
     "metadata": {},
     "output_type": "display_data"
    }
   ],
   "source": [
    "sessionInfo()"
   ]
  }
 ],
 "metadata": {
  "kernelspec": {
   "display_name": "R",
   "language": "R",
   "name": "ir"
  },
  "language_info": {
   "codemirror_mode": "r",
   "file_extension": ".r",
   "mimetype": "text/x-r-source",
   "name": "R",
   "pygments_lexer": "r",
   "version": "4.1.0"
  }
 },
 "nbformat": 4,
 "nbformat_minor": 5
}