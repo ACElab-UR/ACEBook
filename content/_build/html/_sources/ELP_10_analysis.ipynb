{
 "cells": [
  {
   "cell_type": "markdown",
   "id": "65701d60",
   "metadata": {},
   "source": [
    "# ELP.10 - GABA Side Learning Y-Maze\n",
    "<hr style=\"border:2px solid gray\"> </hr>\n",
    "\n",
    "**Author:** Henrique Galante | henrique.galante@ur.de\n",
    "\n",
    "**Last Updated:** April 2022\n",
    "\n",
    "This supplement provides the entire R script and output of the statistical analysis performed and figures produced, in their original form. It is presented in the spirit of open and transparent science, but has not been carefully curated."
   ]
  },
  {
   "cell_type": "markdown",
   "id": "b566d21e",
   "metadata": {},
   "source": [
    "## Data handling\n",
    "<hr style=\"border:0.5px solid gray\"> </hr>\n",
    "\n",
    "### Load packages"
   ]
  },
  {
   "cell_type": "code",
   "execution_count": 1,
   "id": "61940a4e",
   "metadata": {
    "scrolled": false
   },
   "outputs": [
    {
     "name": "stderr",
     "output_type": "stream",
     "text": [
      "Loading required package: reshape2\n",
      "\n",
      "Loading required package: lme4\n",
      "\n",
      "Loading required package: Matrix\n",
      "\n",
      "Loading required package: DHARMa\n",
      "\n",
      "Warning message:\n",
      "“package ‘DHARMa’ was built under R version 4.1.2”\n",
      "This is DHARMa 0.4.5. For overview type '?DHARMa'. For recent changes, type news(package = 'DHARMa')\n",
      "\n",
      "Loading required package: car\n",
      "\n",
      "Loading required package: carData\n",
      "\n",
      "Warning message:\n",
      "“package ‘carData’ was built under R version 4.1.2”\n",
      "Loading required package: emmeans\n",
      "\n",
      "Warning message:\n",
      "“package ‘emmeans’ was built under R version 4.1.2”\n"
     ]
    }
   ],
   "source": [
    "require(reshape2) # For data handling\n",
    "require(lme4) # Linear mixed-effects models\n",
    "require(DHARMa) # Evaluate model fit\n",
    "require(car) # Anova() function [instead of base R anova()]\n",
    "require(emmeans) # Post-hoc analysis on the model"
   ]
  },
  {
   "cell_type": "markdown",
   "id": "d9bd92b9",
   "metadata": {},
   "source": [
    "### Clean-up"
   ]
  },
  {
   "cell_type": "code",
   "execution_count": 9,
   "id": "b8ebda2d",
   "metadata": {},
   "outputs": [],
   "source": [
    "rm(list = ls()) # Remove variables/objects\n",
    "graphics.off() # Close any open graphics"
   ]
  },
  {
   "cell_type": "markdown",
   "id": "c52516d9",
   "metadata": {},
   "source": [
    "### Load data"
   ]
  },
  {
   "cell_type": "code",
   "execution_count": 10,
   "id": "e07d31a0",
   "metadata": {
    "scrolled": false
   },
   "outputs": [
    {
     "data": {
      "text/html": [
       "<table class=\"dataframe\">\n",
       "<caption>A data.frame: 1 × 23</caption>\n",
       "<thead>\n",
       "\t<tr><th></th><th scope=col>Collection_Date</th><th scope=col>Time_Collection</th><th scope=col>Experimentor</th><th scope=col>Temperature</th><th scope=col>Colony_Origin</th><th scope=col>Starvation_Period</th><th scope=col>Donor_Colony</th><th scope=col>Recipient_Colony</th><th scope=col>Ant_ID</th><th scope=col>Visit</th><th scope=col>⋯</th><th scope=col>Initial_Decision</th><th scope=col>Final_Decision</th><th scope=col>Number_Relocations</th><th scope=col>In_Duration</th><th scope=col>Drinking_Duration</th><th scope=col>Out_Duration</th><th scope=col>Bridge_Nest_Duration</th><th scope=col>Total_Duration_Minutes</th><th scope=col>Trophallaxis</th><th scope=col>Full</th></tr>\n",
       "\t<tr><th></th><th scope=col>&lt;chr&gt;</th><th scope=col>&lt;chr&gt;</th><th scope=col>&lt;chr&gt;</th><th scope=col>&lt;chr&gt;</th><th scope=col>&lt;chr&gt;</th><th scope=col>&lt;chr&gt;</th><th scope=col>&lt;int&gt;</th><th scope=col>&lt;int&gt;</th><th scope=col>&lt;int&gt;</th><th scope=col>&lt;int&gt;</th><th scope=col>⋯</th><th scope=col>&lt;chr&gt;</th><th scope=col>&lt;chr&gt;</th><th scope=col>&lt;int&gt;</th><th scope=col>&lt;int&gt;</th><th scope=col>&lt;int&gt;</th><th scope=col>&lt;int&gt;</th><th scope=col>&lt;int&gt;</th><th scope=col>&lt;chr&gt;</th><th scope=col>&lt;chr&gt;</th><th scope=col>&lt;chr&gt;</th></tr>\n",
       "</thead>\n",
       "<tbody>\n",
       "\t<tr><th scope=row>1</th><td>11.04.22</td><td>09:00</td><td>Laura Neubauer</td><td>23,9</td><td>5th November - Spain</td><td>4-days</td><td>32</td><td>29</td><td>1</td><td>2</td><td>⋯</td><td>L</td><td>L</td><td>0</td><td>18</td><td>56</td><td>11</td><td>500</td><td>9,8</td><td>NA</td><td>NA</td></tr>\n",
       "</tbody>\n",
       "</table>\n"
      ],
      "text/latex": [
       "A data.frame: 1 × 23\n",
       "\\begin{tabular}{r|lllllllllllllllllllll}\n",
       "  & Collection\\_Date & Time\\_Collection & Experimentor & Temperature & Colony\\_Origin & Starvation\\_Period & Donor\\_Colony & Recipient\\_Colony & Ant\\_ID & Visit & ⋯ & Initial\\_Decision & Final\\_Decision & Number\\_Relocations & In\\_Duration & Drinking\\_Duration & Out\\_Duration & Bridge\\_Nest\\_Duration & Total\\_Duration\\_Minutes & Trophallaxis & Full\\\\\n",
       "  & <chr> & <chr> & <chr> & <chr> & <chr> & <chr> & <int> & <int> & <int> & <int> & ⋯ & <chr> & <chr> & <int> & <int> & <int> & <int> & <int> & <chr> & <chr> & <chr>\\\\\n",
       "\\hline\n",
       "\t1 & 11.04.22 & 09:00 & Laura Neubauer & 23,9 & 5th November - Spain & 4-days & 32 & 29 & 1 & 2 & ⋯ & L & L & 0 & 18 & 56 & 11 & 500 & 9,8 & NA & NA\\\\\n",
       "\\end{tabular}\n"
      ],
      "text/markdown": [
       "\n",
       "A data.frame: 1 × 23\n",
       "\n",
       "| <!--/--> | Collection_Date &lt;chr&gt; | Time_Collection &lt;chr&gt; | Experimentor &lt;chr&gt; | Temperature &lt;chr&gt; | Colony_Origin &lt;chr&gt; | Starvation_Period &lt;chr&gt; | Donor_Colony &lt;int&gt; | Recipient_Colony &lt;int&gt; | Ant_ID &lt;int&gt; | Visit &lt;int&gt; | ⋯ ⋯ | Initial_Decision &lt;chr&gt; | Final_Decision &lt;chr&gt; | Number_Relocations &lt;int&gt; | In_Duration &lt;int&gt; | Drinking_Duration &lt;int&gt; | Out_Duration &lt;int&gt; | Bridge_Nest_Duration &lt;int&gt; | Total_Duration_Minutes &lt;chr&gt; | Trophallaxis &lt;chr&gt; | Full &lt;chr&gt; |\n",
       "|---|---|---|---|---|---|---|---|---|---|---|---|---|---|---|---|---|---|---|---|---|---|\n",
       "| 1 | 11.04.22 | 09:00 | Laura Neubauer | 23,9 | 5th November - Spain | 4-days | 32 | 29 | 1 | 2 | ⋯ | L | L | 0 | 18 | 56 | 11 | 500 | 9,8 | NA | NA |\n",
       "\n"
      ],
      "text/plain": [
       "  Collection_Date Time_Collection Experimentor   Temperature\n",
       "1 11.04.22        09:00           Laura Neubauer 23,9       \n",
       "  Colony_Origin        Starvation_Period Donor_Colony Recipient_Colony Ant_ID\n",
       "1 5th November - Spain 4-days            32           29               1     \n",
       "  Visit ⋯ Initial_Decision Final_Decision Number_Relocations In_Duration\n",
       "1 2     ⋯ L                L              0                  18         \n",
       "  Drinking_Duration Out_Duration Bridge_Nest_Duration Total_Duration_Minutes\n",
       "1 56                11           500                  9,8                   \n",
       "  Trophallaxis Full\n",
       "1 NA           NA  "
      ]
     },
     "metadata": {},
     "output_type": "display_data"
    }
   ],
   "source": [
    "ELP_10 = read.csv(\"./Data/ELP_10_GABA_side_learning_Y_maze.csv\", header = TRUE, stringsAsFactors = FALSE, sep = \";\")\n",
    "head(ELP_10, n = 1) # Check if data was imported correctly"
   ]
  },
  {
   "cell_type": "markdown",
   "id": "42fc4ac0",
   "metadata": {},
   "source": [
    "### Column descriptions\n",
    "\n",
    "| Column Name            | Description |\n",
    "| ---:                   | :---        |\n",
    "| **Collection_Date**        | Testing date       |\n",
    "| **Time_Collection**        | Starting time of data collection        |\n",
    "| **Experimentor**           | Name of the person collecting the data       |\n",
    "| **Temperature**            | Room temperature at start of data collection        |\n",
    "| **Colony_Origin**          | Country of origin and time of arrival to the lab of the colonies used       |\n",
    "| **Starvation_Period**      | How long were the ants deprived of food for        |\n",
    "| **Donor_Colony**           | ID of the colony where the ant originated from (naive colony)       |\n",
    "| **Recipient_Colony**       | ID of the colony the ant was placed in (non-naive colony)        |\n",
    "| **Ant_ID**                 | ID of the ant used       |\n",
    "| **Visit**                  | Visit number        |\n",
    "| **Solution**               | Which solution was each ant tested with       |\n",
    "| **Reward_Side**            | In which side of the Y-maze was the solution placed        |\n",
    "| **Time_Since_Marking**     | How long was the ant in the nest for between marking (visit 1) and visit 2       |\n",
    "| **Initial_Decision**       | Which side of the Y-maze the ant first crossed a 2cm line        |\n",
    "| **Final_Decision**         | Which side of the Y-maze the ant first touched the solution drop       |\n",
    "| **Number_Relocations**     | How many times was the ant relocated during a visit due to escaping or falling on water        |\n",
    "| **In_Duration**            | How long in seconds did the ant take to reach the drop of solution       |\n",
    "| **Drinking_Duration**      | How long in seconds did the ant take feeding on the drop of solution        |\n",
    "| **Out_Duration**           | How long in seconds did the ant take to return to the bridge       |\n",
    "| **Bridge_Nest_Duration**   | How long in seconds did the ant take to return to the colony       |\n",
    "| **Total_Duration_Minutes** | How long in minutes did the ant take in the whole trip       |\n",
    "| **Trophallaxis**           | Was the ant seen doing trophallaxis after returning to the colony from the visit        |\n",
    "| **Full**                   | Was the ant visibly full (expanded gaster) at the beggining of the visit       | "
   ]
  },
  {
   "cell_type": "markdown",
   "id": "0364d171",
   "metadata": {},
   "source": [
    "### Unblind the solutions"
   ]
  },
  {
   "cell_type": "code",
   "execution_count": 11,
   "id": "156d75a8",
   "metadata": {},
   "outputs": [],
   "source": [
    "ELP_10$Solution = ifelse(ELP_10$Solution == \"G\", \"0.734mM GABA\", \"Control\")"
   ]
  },
  {
   "cell_type": "markdown",
   "id": "3f38e99b",
   "metadata": {},
   "source": [
    "### Get a binary (right/wrong) initial and final decision and check how many ants switched between their initial and final decision"
   ]
  },
  {
   "cell_type": "code",
   "execution_count": 12,
   "id": "d01edaaa",
   "metadata": {},
   "outputs": [
    {
     "data": {
      "text/html": [
       "'Ants switched their final decision in 2% of the visits!'"
      ],
      "text/latex": [
       "'Ants switched their final decision in 2\\% of the visits!'"
      ],
      "text/markdown": [
       "'Ants switched their final decision in 2% of the visits!'"
      ],
      "text/plain": [
       "[1] \"Ants switched their final decision in 2% of the visits!\""
      ]
     },
     "metadata": {},
     "output_type": "display_data"
    }
   ],
   "source": [
    "ELP_10$Initial_Decision_Binary = ifelse(ELP_10$Initial_Decision == ELP_10$Reward_Side, 1, 0)\n",
    "ELP_10$Final_Decision_Binary = ifelse(ELP_10$Final_Decision == ELP_10$Reward_Side, 1, 0)\n",
    "ELP_10$Switched_Decision_Binary = ifelse(ELP_10$Initial_Decision_Binary == ELP_10$Final_Decision_Binary, 0, 1)\n",
    "paste0(\"Ants switched their final decision in \", round(sum(ELP_10$Switched_Decision_Binary) / nrow(ELP_10) * 100, 0), \"% of the visits!\")"
   ]
  },
  {
   "cell_type": "markdown",
   "id": "b482d886",
   "metadata": {},
   "source": [
    "### Sample size per solution per side"
   ]
  },
  {
   "cell_type": "code",
   "execution_count": 13,
   "id": "14bff7dc",
   "metadata": {},
   "outputs": [
    {
     "data": {
      "text/plain": [
       "              \n",
       "                L  R\n",
       "  0.734mM GABA 16 16\n",
       "  Control      16 16"
      ]
     },
     "metadata": {},
     "output_type": "display_data"
    }
   ],
   "source": [
    "table(ELP_10$Solution, ELP_10$Reward_Side) / 4"
   ]
  },
  {
   "cell_type": "markdown",
   "id": "ec6b38ca",
   "metadata": {},
   "source": [
    "### Ensure that the Bridge_Nest_Duration for visit 2 is the same as the time since marking for visit 2"
   ]
  },
  {
   "cell_type": "code",
   "execution_count": 14,
   "id": "de5a8750",
   "metadata": {},
   "outputs": [
    {
     "name": "stdout",
     "output_type": "stream",
     "text": [
      "[1] \"Warning: Row 245 was changed from 2700s to 2580s!\"\n"
     ]
    }
   ],
   "source": [
    "for (i in 1:nrow(ELP_10)) {\n",
    "  if (ELP_10$Visit[i] == \"2\" & !is.na(ELP_10$Bridge_Nest_Duration[i])) {\n",
    "    if (ELP_10$Bridge_Nest_Duration[i] != ELP_10$Time_Since_Marking[i]) {\n",
    "      print(paste0(\"Warning: Row \", i, \" was changed from \", ELP_10$Bridge_Nest_Duration[i], \"s to \", ELP_10$Time_Since_Marking[i], \"s!\"))\n",
    "      ELP_10$Bridge_Nest_Duration[i] = ELP_10$Time_Since_Marking[i]\n",
    "    }\n",
    "  }\n",
    "  else if (ELP_10$Visit[i] == \"2\" & is.na(ELP_10$Bridge_Nest_Duration[i])) {\n",
    "    ELP_10$Bridge_Nest_Duration[i] = ELP_10$Time_Since_Marking[i]\n",
    "    print(paste0(\"Warning: Row \", i, \" was changed and Bridge_Nest_Duration was NA!\"))\n",
    "  }\n",
    "}"
   ]
  },
  {
   "cell_type": "markdown",
   "id": "c47aad3b",
   "metadata": {},
   "source": [
    "### Create time intervals to group replicates based on time since marking"
   ]
  },
  {
   "cell_type": "code",
   "execution_count": 15,
   "id": "e8006437",
   "metadata": {},
   "outputs": [],
   "source": [
    "for (i in 1:nrow(ELP_10)) {\n",
    "  if (ELP_10$Time_Since_Marking[i] <= 1800) {\n",
    "    ELP_10$TSM_Bin[i] = \"0-30\"\n",
    "  }\n",
    "  else if (ELP_10$Time_Since_Marking[i] > 1800 & ELP_10$Time_Since_Marking[i] <= 3600) {\n",
    "    ELP_10$TSM_Bin[i] = \"30-60\"\n",
    "  }\n",
    "  else {\n",
    "    print(\"Warning: Undefined bins!\")\n",
    "  }\n",
    "}"
   ]
  },
  {
   "cell_type": "markdown",
   "id": "239bf7d7",
   "metadata": {},
   "source": [
    "### Sample size per solution per time bin and per side"
   ]
  },
  {
   "cell_type": "code",
   "execution_count": 16,
   "id": "35062160",
   "metadata": {
    "scrolled": true
   },
   "outputs": [
    {
     "data": {
      "text/plain": [
       ", ,  = L\n",
       "\n",
       "              \n",
       "               0-30 30-60\n",
       "  0.734mM GABA    8     8\n",
       "  Control         8     8\n",
       "\n",
       ", ,  = R\n",
       "\n",
       "              \n",
       "               0-30 30-60\n",
       "  0.734mM GABA    8     8\n",
       "  Control         8     8\n"
      ]
     },
     "metadata": {},
     "output_type": "display_data"
    }
   ],
   "source": [
    "table(ELP_10$Solution, ELP_10$TSM_Bin, ELP_10$Reward_Side) / 4"
   ]
  },
  {
   "cell_type": "markdown",
   "id": "7bcfbd99",
   "metadata": {},
   "source": [
    "### Ensure relevant columns are factors"
   ]
  },
  {
   "cell_type": "code",
   "execution_count": 17,
   "id": "1ddb9f84",
   "metadata": {},
   "outputs": [],
   "source": [
    "ELP_10$Collection_Date = as.factor(ELP_10$Collection_Date)\n",
    "ELP_10$Time_Collection = as.factor(ELP_10$Time_Collection)\n",
    "ELP_10$Experimentor = as.factor(ELP_10$Experimentor)\n",
    "ELP_10$Starvation_Period = as.factor(ELP_10$Starvation_Period)\n",
    "ELP_10$Donor_Colony = as.factor(ELP_10$Donor_Colony)\n",
    "ELP_10$Recipient_Colony = as.factor(ELP_10$Recipient_Colony)\n",
    "\n",
    "ELP_10$Visit = as.factor(ELP_10$Visit)\n",
    "ELP_10$Solution = as.factor(ELP_10$Solution)\n",
    "ELP_10$Solution = relevel(ELP_10$Solution, \"Control\")\n",
    "ELP_10$Reward_Side = as.factor(ELP_10$Reward_Side)\n",
    "ELP_10$TSM_Bin = as.factor(ELP_10$TSM_Bin)\n",
    "\n",
    "ELP_10$Initial_Decision_Binary = as.factor(ELP_10$Initial_Decision_Binary)\n",
    "ELP_10$Final_Decision_Binary = as.factor(ELP_10$Final_Decision_Binary)"
   ]
  },
  {
   "cell_type": "markdown",
   "id": "06bf41b2",
   "metadata": {},
   "source": [
    "## Data analysis\n",
    "<hr style=\"border:0.5px solid gray\"> </hr>\n",
    "\n",
    "### Preliminary question\n",
    "#### Do initial and final choices differ significantly?"
   ]
  },
  {
   "cell_type": "code",
   "execution_count": 18,
   "id": "6aca244d",
   "metadata": {
    "scrolled": true
   },
   "outputs": [
    {
     "data": {
      "text/html": [
       "<table class=\"dataframe\">\n",
       "<caption>A data.frame: 1 × 27</caption>\n",
       "<thead>\n",
       "\t<tr><th></th><th scope=col>Collection_Date</th><th scope=col>Time_Collection</th><th scope=col>Experimentor</th><th scope=col>Temperature</th><th scope=col>Colony_Origin</th><th scope=col>Starvation_Period</th><th scope=col>Donor_Colony</th><th scope=col>Recipient_Colony</th><th scope=col>Ant_ID</th><th scope=col>Visit</th><th scope=col>⋯</th><th scope=col>Drinking_Duration</th><th scope=col>Out_Duration</th><th scope=col>Bridge_Nest_Duration</th><th scope=col>Total_Duration_Minutes</th><th scope=col>Trophallaxis</th><th scope=col>Full</th><th scope=col>Switched_Decision_Binary</th><th scope=col>TSM_Bin</th><th scope=col>variable</th><th scope=col>value</th></tr>\n",
       "\t<tr><th></th><th scope=col>&lt;fct&gt;</th><th scope=col>&lt;fct&gt;</th><th scope=col>&lt;fct&gt;</th><th scope=col>&lt;chr&gt;</th><th scope=col>&lt;chr&gt;</th><th scope=col>&lt;fct&gt;</th><th scope=col>&lt;fct&gt;</th><th scope=col>&lt;fct&gt;</th><th scope=col>&lt;int&gt;</th><th scope=col>&lt;fct&gt;</th><th scope=col>⋯</th><th scope=col>&lt;int&gt;</th><th scope=col>&lt;int&gt;</th><th scope=col>&lt;int&gt;</th><th scope=col>&lt;chr&gt;</th><th scope=col>&lt;chr&gt;</th><th scope=col>&lt;chr&gt;</th><th scope=col>&lt;dbl&gt;</th><th scope=col>&lt;fct&gt;</th><th scope=col>&lt;fct&gt;</th><th scope=col>&lt;fct&gt;</th></tr>\n",
       "</thead>\n",
       "<tbody>\n",
       "\t<tr><th scope=row>1</th><td>11.04.22</td><td>09:00</td><td>Laura Neubauer</td><td>23,9</td><td>5th November - Spain</td><td>4-days</td><td>32</td><td>29</td><td>1</td><td>2</td><td>⋯</td><td>56</td><td>11</td><td>500</td><td>9,8</td><td>NA</td><td>NA</td><td>0</td><td>0-30</td><td>Initial_Decision_Binary</td><td>1</td></tr>\n",
       "</tbody>\n",
       "</table>\n"
      ],
      "text/latex": [
       "A data.frame: 1 × 27\n",
       "\\begin{tabular}{r|lllllllllllllllllllll}\n",
       "  & Collection\\_Date & Time\\_Collection & Experimentor & Temperature & Colony\\_Origin & Starvation\\_Period & Donor\\_Colony & Recipient\\_Colony & Ant\\_ID & Visit & ⋯ & Drinking\\_Duration & Out\\_Duration & Bridge\\_Nest\\_Duration & Total\\_Duration\\_Minutes & Trophallaxis & Full & Switched\\_Decision\\_Binary & TSM\\_Bin & variable & value\\\\\n",
       "  & <fct> & <fct> & <fct> & <chr> & <chr> & <fct> & <fct> & <fct> & <int> & <fct> & ⋯ & <int> & <int> & <int> & <chr> & <chr> & <chr> & <dbl> & <fct> & <fct> & <fct>\\\\\n",
       "\\hline\n",
       "\t1 & 11.04.22 & 09:00 & Laura Neubauer & 23,9 & 5th November - Spain & 4-days & 32 & 29 & 1 & 2 & ⋯ & 56 & 11 & 500 & 9,8 & NA & NA & 0 & 0-30 & Initial\\_Decision\\_Binary & 1\\\\\n",
       "\\end{tabular}\n"
      ],
      "text/markdown": [
       "\n",
       "A data.frame: 1 × 27\n",
       "\n",
       "| <!--/--> | Collection_Date &lt;fct&gt; | Time_Collection &lt;fct&gt; | Experimentor &lt;fct&gt; | Temperature &lt;chr&gt; | Colony_Origin &lt;chr&gt; | Starvation_Period &lt;fct&gt; | Donor_Colony &lt;fct&gt; | Recipient_Colony &lt;fct&gt; | Ant_ID &lt;int&gt; | Visit &lt;fct&gt; | ⋯ ⋯ | Drinking_Duration &lt;int&gt; | Out_Duration &lt;int&gt; | Bridge_Nest_Duration &lt;int&gt; | Total_Duration_Minutes &lt;chr&gt; | Trophallaxis &lt;chr&gt; | Full &lt;chr&gt; | Switched_Decision_Binary &lt;dbl&gt; | TSM_Bin &lt;fct&gt; | variable &lt;fct&gt; | value &lt;fct&gt; |\n",
       "|---|---|---|---|---|---|---|---|---|---|---|---|---|---|---|---|---|---|---|---|---|---|\n",
       "| 1 | 11.04.22 | 09:00 | Laura Neubauer | 23,9 | 5th November - Spain | 4-days | 32 | 29 | 1 | 2 | ⋯ | 56 | 11 | 500 | 9,8 | NA | NA | 0 | 0-30 | Initial_Decision_Binary | 1 |\n",
       "\n"
      ],
      "text/plain": [
       "  Collection_Date Time_Collection Experimentor   Temperature\n",
       "1 11.04.22        09:00           Laura Neubauer 23,9       \n",
       "  Colony_Origin        Starvation_Period Donor_Colony Recipient_Colony Ant_ID\n",
       "1 5th November - Spain 4-days            32           29               1     \n",
       "  Visit ⋯ Drinking_Duration Out_Duration Bridge_Nest_Duration\n",
       "1 2     ⋯ 56                11           500                 \n",
       "  Total_Duration_Minutes Trophallaxis Full Switched_Decision_Binary TSM_Bin\n",
       "1 9,8                    NA           NA   0                        0-30   \n",
       "  variable                value\n",
       "1 Initial_Decision_Binary 1    "
      ]
     },
     "metadata": {},
     "output_type": "display_data"
    }
   ],
   "source": [
    "initial_final_diff = melt(ELP_10, measure.vars = c(\"Initial_Decision_Binary\", \"Final_Decision_Binary\"))\n",
    "initial_final_diff$value = as.factor(initial_final_diff$value)\n",
    "head(initial_final_diff, n = 1) # Check if data was imported correctly"
   ]
  },
  {
   "cell_type": "code",
   "execution_count": 20,
   "id": "d58dbbf0",
   "metadata": {
    "scrolled": true
   },
   "outputs": [
    {
     "name": "stderr",
     "output_type": "stream",
     "text": [
      "boundary (singular) fit: see ?isSingular\n",
      "\n"
     ]
    },
    {
     "data": {
      "text/html": [
       "<table class=\"dataframe\">\n",
       "<caption>A anova: 1 × 3</caption>\n",
       "<thead>\n",
       "\t<tr><th></th><th scope=col>Chisq</th><th scope=col>Df</th><th scope=col>Pr(&gt;Chisq)</th></tr>\n",
       "\t<tr><th></th><th scope=col>&lt;dbl&gt;</th><th scope=col>&lt;dbl&gt;</th><th scope=col>&lt;dbl&gt;</th></tr>\n",
       "</thead>\n",
       "<tbody>\n",
       "\t<tr><th scope=row>variable</th><td>0.07752936</td><td>1</td><td>0.7806739</td></tr>\n",
       "</tbody>\n",
       "</table>\n"
      ],
      "text/latex": [
       "A anova: 1 × 3\n",
       "\\begin{tabular}{r|lll}\n",
       "  & Chisq & Df & Pr(>Chisq)\\\\\n",
       "  & <dbl> & <dbl> & <dbl>\\\\\n",
       "\\hline\n",
       "\tvariable & 0.07752936 & 1 & 0.7806739\\\\\n",
       "\\end{tabular}\n"
      ],
      "text/markdown": [
       "\n",
       "A anova: 1 × 3\n",
       "\n",
       "| <!--/--> | Chisq &lt;dbl&gt; | Df &lt;dbl&gt; | Pr(&gt;Chisq) &lt;dbl&gt; |\n",
       "|---|---|---|---|\n",
       "| variable | 0.07752936 | 1 | 0.7806739 |\n",
       "\n"
      ],
      "text/plain": [
       "         Chisq      Df Pr(>Chisq)\n",
       "variable 0.07752936 1  0.7806739 "
      ]
     },
     "metadata": {},
     "output_type": "display_data"
    }
   ],
   "source": [
    "diff_model = glmer(value ~ variable + (1|Starvation_Period) + (1|Collection_Date), data = initial_final_diff, family = binomial, glmerControl(optimizer = \"bobyqa\", optCtrl = list(maxfun = 1000000000)))\n",
    "Anova(diff_model)"
   ]
  },
  {
   "cell_type": "code",
   "execution_count": 21,
   "id": "e60e062e",
   "metadata": {
    "scrolled": true
   },
   "outputs": [
    {
     "data": {
      "text/plain": [
       " contrast                                        odds.ratio    SE  df null\n",
       " Initial_Decision_Binary / Final_Decision_Binary       0.95 0.176 Inf    1\n",
       " z.ratio p.value\n",
       "  -0.278  0.7807\n",
       "\n",
       "Tests are performed on the log odds ratio scale "
      ]
     },
     "metadata": {},
     "output_type": "display_data"
    }
   ],
   "source": [
    "e = emmeans(diff_model, ~variable, type = \"response\")\n",
    "pairs(e)"
   ]
  },
  {
   "cell_type": "markdown",
   "id": "cd43b22b",
   "metadata": {},
   "source": [
    "There is no siginificant difference between inital and final decision, hence we will only use final decision for further analysis as this is a better measure of learning considering it allows the individuals to correct a potentially wrong initial choice (which could be attributed to exploration)\n",
    "### Modelling\n",
    "Instead of building a super complicated model with all possible interactions, we will consider two-way interactions (three-way+ interactions are almost impossible to interpret biologically) exclusively: how do pairs of variables affect each other?\n",
    "\n",
    "y ~ (a + b + c)^2 gets all two way combinations of the variables in the brackets, hence being a faster way of getting this model:\n",
    "\n",
    "y ~ a + b + c + a:b + a:c + b:c\n",
    "\n",
    "We start with the maximal model below and simplify gradually by removing terms that explain little to no variation in this way obtaining a simpler, equally, if not more, meaningful."
   ]
  },
  {
   "cell_type": "code",
   "execution_count": 22,
   "id": "7c0b3886",
   "metadata": {
    "scrolled": true
   },
   "outputs": [
    {
     "name": "stderr",
     "output_type": "stream",
     "text": [
      "boundary (singular) fit: see ?isSingular\n",
      "\n"
     ]
    }
   ],
   "source": [
    "mod1 = glmer(Final_Decision_Binary ~ (Reward_Side + Solution + TSM_Bin + Visit)^2  +\n",
    "               (1|Starvation_Period) + (1|Collection_Date), \n",
    "             data = ELP_10, family = \"binomial\", glmerControl(optimizer = \"bobyqa\", optCtrl = list(maxfun = 1000000000)))"
   ]
  },
  {
   "cell_type": "markdown",
   "id": "082e81a1",
   "metadata": {},
   "source": [
    "#### Is the maximal model a good fit to the data?"
   ]
  },
  {
   "cell_type": "code",
   "execution_count": 23,
   "id": "d4f8a6ba",
   "metadata": {
    "scrolled": true
   },
   "outputs": [
    {
     "data": {
      "image/png": "[encoded data removed]",
      "text/plain": [
       "Plot with title “QQ plot residuals”"
      ]
     },
     "metadata": {
      "image/png": {
       "height": 420,
       "width": 420
      }
     },
     "output_type": "display_data"
    }
   ],
   "source": [
    "simres = simulateResiduals(mod1)\n",
    "plot(simres, asFactor = T)"
   ]
  },
  {
   "cell_type": "markdown",
   "id": "f2c23536",
   "metadata": {},
   "source": [
    "Yes, the diagnostic plots indicate the model is good\n",
    "#### Model simplification"
   ]
  },
  {
   "cell_type": "code",
   "execution_count": 24,
   "id": "c9ffe583",
   "metadata": {
    "scrolled": false
   },
   "outputs": [
    {
     "name": "stderr",
     "output_type": "stream",
     "text": [
      "\n",
      "Correlation matrix not shown by default, as p = 19 > 12.\n",
      "Use print(obj, correlation=TRUE)  or\n",
      "    vcov(obj)        if you need it\n",
      "\n",
      "\n"
     ]
    },
    {
     "data": {
      "text/plain": [
       "Generalized linear mixed model fit by maximum likelihood (Laplace\n",
       "  Approximation) [glmerMod]\n",
       " Family: binomial  ( logit )\n",
       "Formula: \n",
       "Final_Decision_Binary ~ (Reward_Side + Solution + TSM_Bin + Visit)^2 +  \n",
       "    (1 | Starvation_Period) + (1 | Collection_Date)\n",
       "   Data: ELP_10\n",
       "Control: glmerControl(optimizer = \"bobyqa\", optCtrl = list(maxfun = 1e+09))\n",
       "\n",
       "     AIC      BIC   logLik deviance df.resid \n",
       "   351.0    425.5   -154.5    309.0      235 \n",
       "\n",
       "Scaled residuals: \n",
       "    Min      1Q  Median      3Q     Max \n",
       "-2.5117 -1.0267  0.4929  0.7307  1.5404 \n",
       "\n",
       "Random effects:\n",
       " Groups            Name        Variance Std.Dev.\n",
       " Collection_Date   (Intercept) 0.002901 0.05386 \n",
       " Starvation_Period (Intercept) 0.000000 0.00000 \n",
       "Number of obs: 256, groups:  Collection_Date, 8; Starvation_Period, 2\n",
       "\n",
       "Fixed effects:\n",
       "                                   Estimate Std. Error z value Pr(>|z|)  \n",
       "(Intercept)                        0.365297   0.569776   0.641   0.5214  \n",
       "Reward_SideR                      -0.385874   0.649668  -0.594   0.5525  \n",
       "Solution0.734mM GABA              -1.231902   0.650417  -1.894   0.0582 .\n",
       "TSM_Bin30-60                       0.687690   0.663110   1.037   0.2997  \n",
       "Visit3                            -0.003129   0.731022  -0.004   0.9966  \n",
       "Visit4                             0.232107   0.761651   0.305   0.7606  \n",
       "Visit5                             1.048054   0.800852   1.309   0.1906  \n",
       "Reward_SideR:Solution0.734mM GABA  0.714812   0.552827   1.293   0.1960  \n",
       "Reward_SideR:TSM_Bin30-60         -0.469546   0.554660  -0.847   0.3972  \n",
       "Reward_SideR:Visit3                0.124882   0.733412   0.170   0.8648  \n",
       "Reward_SideR:Visit4                0.088524   0.784230   0.113   0.9101  \n",
       "Reward_SideR:Visit5               -0.400596   0.791674  -0.506   0.6128  \n",
       "Solution0.734mM GABA:TSM_Bin30-60  0.168768   0.555387   0.304   0.7612  \n",
       "Solution0.734mM GABA:Visit3        0.918711   0.733639   1.252   0.2105  \n",
       "Solution0.734mM GABA:Visit4        1.295992   0.786281   1.648   0.0993 .\n",
       "Solution0.734mM GABA:Visit5        1.075662   0.786779   1.367   0.1716  \n",
       "TSM_Bin30-60:Visit3               -0.132809   0.733617  -0.181   0.8563  \n",
       "TSM_Bin30-60:Visit4                0.321502   0.790781   0.407   0.6843  \n",
       "TSM_Bin30-60:Visit5               -0.493993   0.785740  -0.629   0.5295  \n",
       "---\n",
       "Signif. codes:  0 ‘***’ 0.001 ‘**’ 0.01 ‘*’ 0.05 ‘.’ 0.1 ‘ ’ 1\n",
       "optimizer (bobyqa) convergence code: 0 (OK)\n",
       "boundary (singular) fit: see ?isSingular\n"
      ]
     },
     "metadata": {},
     "output_type": "display_data"
    },
    {
     "data": {
      "text/html": [
       "<table class=\"dataframe\">\n",
       "<caption>A anova: 10 × 3</caption>\n",
       "<thead>\n",
       "\t<tr><th></th><th scope=col>Chisq</th><th scope=col>Df</th><th scope=col>Pr(&gt;Chisq)</th></tr>\n",
       "\t<tr><th></th><th scope=col>&lt;dbl&gt;</th><th scope=col>&lt;dbl&gt;</th><th scope=col>&lt;dbl&gt;</th></tr>\n",
       "</thead>\n",
       "<tbody>\n",
       "\t<tr><th scope=row>Reward_Side</th><td>1.096179e+00</td><td>1</td><td>0.29510625</td></tr>\n",
       "\t<tr><th scope=row>Solution</th><td>5.188856e-06</td><td>1</td><td>0.99818250</td></tr>\n",
       "\t<tr><th scope=row>TSM_Bin</th><td>2.535365e+00</td><td>1</td><td>0.11132117</td></tr>\n",
       "\t<tr><th scope=row>Visit</th><td>1.054584e+01</td><td>3</td><td>0.01445311</td></tr>\n",
       "\t<tr><th scope=row>Reward_Side:Solution</th><td>1.671884e+00</td><td>1</td><td>0.19600639</td></tr>\n",
       "\t<tr><th scope=row>Reward_Side:TSM_Bin</th><td>7.166420e-01</td><td>1</td><td>0.39724761</td></tr>\n",
       "\t<tr><th scope=row>Reward_Side:Visit</th><td>5.165106e-01</td><td>3</td><td>0.91524941</td></tr>\n",
       "\t<tr><th scope=row>Solution:TSM_Bin</th><td>9.233958e-02</td><td>1</td><td>0.76122367</td></tr>\n",
       "\t<tr><th scope=row>Solution:Visit</th><td>3.343785e+00</td><td>3</td><td>0.34159495</td></tr>\n",
       "\t<tr><th scope=row>TSM_Bin:Visit</th><td>9.792710e-01</td><td>3</td><td>0.80626758</td></tr>\n",
       "</tbody>\n",
       "</table>\n"
      ],
      "text/latex": [
       "A anova: 10 × 3\n",
       "\\begin{tabular}{r|lll}\n",
       "  & Chisq & Df & Pr(>Chisq)\\\\\n",
       "  & <dbl> & <dbl> & <dbl>\\\\\n",
       "\\hline\n",
       "\tReward\\_Side & 1.096179e+00 & 1 & 0.29510625\\\\\n",
       "\tSolution & 5.188856e-06 & 1 & 0.99818250\\\\\n",
       "\tTSM\\_Bin & 2.535365e+00 & 1 & 0.11132117\\\\\n",
       "\tVisit & 1.054584e+01 & 3 & 0.01445311\\\\\n",
       "\tReward\\_Side:Solution & 1.671884e+00 & 1 & 0.19600639\\\\\n",
       "\tReward\\_Side:TSM\\_Bin & 7.166420e-01 & 1 & 0.39724761\\\\\n",
       "\tReward\\_Side:Visit & 5.165106e-01 & 3 & 0.91524941\\\\\n",
       "\tSolution:TSM\\_Bin & 9.233958e-02 & 1 & 0.76122367\\\\\n",
       "\tSolution:Visit & 3.343785e+00 & 3 & 0.34159495\\\\\n",
       "\tTSM\\_Bin:Visit & 9.792710e-01 & 3 & 0.80626758\\\\\n",
       "\\end{tabular}\n"
      ],
      "text/markdown": [
       "\n",
       "A anova: 10 × 3\n",
       "\n",
       "| <!--/--> | Chisq &lt;dbl&gt; | Df &lt;dbl&gt; | Pr(&gt;Chisq) &lt;dbl&gt; |\n",
       "|---|---|---|---|\n",
       "| Reward_Side | 1.096179e+00 | 1 | 0.29510625 |\n",
       "| Solution | 5.188856e-06 | 1 | 0.99818250 |\n",
       "| TSM_Bin | 2.535365e+00 | 1 | 0.11132117 |\n",
       "| Visit | 1.054584e+01 | 3 | 0.01445311 |\n",
       "| Reward_Side:Solution | 1.671884e+00 | 1 | 0.19600639 |\n",
       "| Reward_Side:TSM_Bin | 7.166420e-01 | 1 | 0.39724761 |\n",
       "| Reward_Side:Visit | 5.165106e-01 | 3 | 0.91524941 |\n",
       "| Solution:TSM_Bin | 9.233958e-02 | 1 | 0.76122367 |\n",
       "| Solution:Visit | 3.343785e+00 | 3 | 0.34159495 |\n",
       "| TSM_Bin:Visit | 9.792710e-01 | 3 | 0.80626758 |\n",
       "\n"
      ],
      "text/plain": [
       "                     Chisq        Df Pr(>Chisq)\n",
       "Reward_Side          1.096179e+00 1  0.29510625\n",
       "Solution             5.188856e-06 1  0.99818250\n",
       "TSM_Bin              2.535365e+00 1  0.11132117\n",
       "Visit                1.054584e+01 3  0.01445311\n",
       "Reward_Side:Solution 1.671884e+00 1  0.19600639\n",
       "Reward_Side:TSM_Bin  7.166420e-01 1  0.39724761\n",
       "Reward_Side:Visit    5.165106e-01 3  0.91524941\n",
       "Solution:TSM_Bin     9.233958e-02 1  0.76122367\n",
       "Solution:Visit       3.343785e+00 3  0.34159495\n",
       "TSM_Bin:Visit        9.792710e-01 3  0.80626758"
      ]
     },
     "metadata": {},
     "output_type": "display_data"
    },
    {
     "data": {
      "text/html": [
       "<style>\n",
       ".list-inline {list-style: none; margin:0; padding: 0}\n",
       ".list-inline>li {display: inline-block}\n",
       ".list-inline>li:not(:last-child)::after {content: \"\\00b7\"; padding: 0 .5ex}\n",
       "</style>\n",
       "<ol class=list-inline><li>'Reward_Side:Solution'</li><li>'Reward_Side:TSM_Bin'</li><li>'Reward_Side:Visit'</li><li>'Solution:TSM_Bin'</li><li>'Solution:Visit'</li><li>'TSM_Bin:Visit'</li></ol>\n"
      ],
      "text/latex": [
       "\\begin{enumerate*}\n",
       "\\item 'Reward\\_Side:Solution'\n",
       "\\item 'Reward\\_Side:TSM\\_Bin'\n",
       "\\item 'Reward\\_Side:Visit'\n",
       "\\item 'Solution:TSM\\_Bin'\n",
       "\\item 'Solution:Visit'\n",
       "\\item 'TSM\\_Bin:Visit'\n",
       "\\end{enumerate*}\n"
      ],
      "text/markdown": [
       "1. 'Reward_Side:Solution'\n",
       "2. 'Reward_Side:TSM_Bin'\n",
       "3. 'Reward_Side:Visit'\n",
       "4. 'Solution:TSM_Bin'\n",
       "5. 'Solution:Visit'\n",
       "6. 'TSM_Bin:Visit'\n",
       "\n",
       "\n"
      ],
      "text/plain": [
       "[1] \"Reward_Side:Solution\" \"Reward_Side:TSM_Bin\"  \"Reward_Side:Visit\"   \n",
       "[4] \"Solution:TSM_Bin\"     \"Solution:Visit\"       \"TSM_Bin:Visit\"       "
      ]
     },
     "metadata": {},
     "output_type": "display_data"
    }
   ],
   "source": [
    "summary(mod1)\n",
    "Anova(mod1)\n",
    "drop.scope(mod1)"
   ]
  },
  {
   "cell_type": "code",
   "execution_count": 25,
   "id": "576b0687",
   "metadata": {
    "scrolled": true
   },
   "outputs": [
    {
     "name": "stderr",
     "output_type": "stream",
     "text": [
      "boundary (singular) fit: see ?isSingular\n",
      "\n"
     ]
    },
    {
     "data": {
      "text/html": [
       "<table class=\"dataframe\">\n",
       "<caption>A anova: 2 × 8</caption>\n",
       "<thead>\n",
       "\t<tr><th></th><th scope=col>npar</th><th scope=col>AIC</th><th scope=col>BIC</th><th scope=col>logLik</th><th scope=col>deviance</th><th scope=col>Chisq</th><th scope=col>Df</th><th scope=col>Pr(&gt;Chisq)</th></tr>\n",
       "\t<tr><th></th><th scope=col>&lt;dbl&gt;</th><th scope=col>&lt;dbl&gt;</th><th scope=col>&lt;dbl&gt;</th><th scope=col>&lt;dbl&gt;</th><th scope=col>&lt;dbl&gt;</th><th scope=col>&lt;dbl&gt;</th><th scope=col>&lt;dbl&gt;</th><th scope=col>&lt;dbl&gt;</th></tr>\n",
       "</thead>\n",
       "<tbody>\n",
       "\t<tr><th scope=row>mod2</th><td>18</td><td>345.5646</td><td>409.3778</td><td>-154.7823</td><td>309.5646</td><td>       NA</td><td>NA</td><td>       NA</td></tr>\n",
       "\t<tr><th scope=row>mod1</th><td>21</td><td>351.0427</td><td>425.4914</td><td>-154.5214</td><td>309.0427</td><td>0.5219049</td><td> 3</td><td>0.9140533</td></tr>\n",
       "</tbody>\n",
       "</table>\n"
      ],
      "text/latex": [
       "A anova: 2 × 8\n",
       "\\begin{tabular}{r|llllllll}\n",
       "  & npar & AIC & BIC & logLik & deviance & Chisq & Df & Pr(>Chisq)\\\\\n",
       "  & <dbl> & <dbl> & <dbl> & <dbl> & <dbl> & <dbl> & <dbl> & <dbl>\\\\\n",
       "\\hline\n",
       "\tmod2 & 18 & 345.5646 & 409.3778 & -154.7823 & 309.5646 &        NA & NA &        NA\\\\\n",
       "\tmod1 & 21 & 351.0427 & 425.4914 & -154.5214 & 309.0427 & 0.5219049 &  3 & 0.9140533\\\\\n",
       "\\end{tabular}\n"
      ],
      "text/markdown": [
       "\n",
       "A anova: 2 × 8\n",
       "\n",
       "| <!--/--> | npar &lt;dbl&gt; | AIC &lt;dbl&gt; | BIC &lt;dbl&gt; | logLik &lt;dbl&gt; | deviance &lt;dbl&gt; | Chisq &lt;dbl&gt; | Df &lt;dbl&gt; | Pr(&gt;Chisq) &lt;dbl&gt; |\n",
       "|---|---|---|---|---|---|---|---|---|\n",
       "| mod2 | 18 | 345.5646 | 409.3778 | -154.7823 | 309.5646 |        NA | NA |        NA |\n",
       "| mod1 | 21 | 351.0427 | 425.4914 | -154.5214 | 309.0427 | 0.5219049 |  3 | 0.9140533 |\n",
       "\n"
      ],
      "text/plain": [
       "     npar AIC      BIC      logLik    deviance Chisq     Df Pr(>Chisq)\n",
       "mod2 18   345.5646 409.3778 -154.7823 309.5646        NA NA        NA \n",
       "mod1 21   351.0427 425.4914 -154.5214 309.0427 0.5219049  3 0.9140533 "
      ]
     },
     "metadata": {},
     "output_type": "display_data"
    }
   ],
   "source": [
    "mod2 = update(mod1, . ~ . - Reward_Side:Visit)\n",
    "anova(mod1, mod2)"
   ]
  },
  {
   "cell_type": "markdown",
   "id": "8033a916",
   "metadata": {},
   "source": [
    "mod1 is not significantly better than mod2 so we will keep mod2"
   ]
  },
  {
   "cell_type": "code",
   "execution_count": 26,
   "id": "7b0c9b1d",
   "metadata": {},
   "outputs": [
    {
     "name": "stderr",
     "output_type": "stream",
     "text": [
      "\n",
      "Correlation matrix not shown by default, as p = 16 > 12.\n",
      "Use print(obj, correlation=TRUE)  or\n",
      "    vcov(obj)        if you need it\n",
      "\n",
      "\n"
     ]
    },
    {
     "data": {
      "text/plain": [
       "Generalized linear mixed model fit by maximum likelihood (Laplace\n",
       "  Approximation) [glmerMod]\n",
       " Family: binomial  ( logit )\n",
       "Formula: Final_Decision_Binary ~ Reward_Side + Solution + TSM_Bin + Visit +  \n",
       "    (1 | Starvation_Period) + (1 | Collection_Date) + Reward_Side:Solution +  \n",
       "    Reward_Side:TSM_Bin + Solution:TSM_Bin + Solution:Visit +  \n",
       "    TSM_Bin:Visit\n",
       "   Data: ELP_10\n",
       "Control: glmerControl(optimizer = \"bobyqa\", optCtrl = list(maxfun = 1e+09))\n",
       "\n",
       "     AIC      BIC   logLik deviance df.resid \n",
       "   345.6    409.4   -154.8    309.6      238 \n",
       "\n",
       "Scaled residuals: \n",
       "    Min      1Q  Median      3Q     Max \n",
       "-2.5950 -1.0132  0.5027  0.7134  1.5299 \n",
       "\n",
       "Random effects:\n",
       " Groups            Name        Variance Std.Dev.\n",
       " Collection_Date   (Intercept) 0.00264  0.05138 \n",
       " Starvation_Period (Intercept) 0.00000  0.00000 \n",
       "Number of obs: 256, groups:  Collection_Date, 8; Starvation_Period, 2\n",
       "\n",
       "Fixed effects:\n",
       "                                  Estimate Std. Error z value Pr(>|z|)  \n",
       "(Intercept)                        0.37886    0.51691   0.733   0.4636  \n",
       "Reward_SideR                      -0.41350    0.45984  -0.899   0.3685  \n",
       "Solution0.734mM GABA              -1.23158    0.64935  -1.897   0.0579 .\n",
       "TSM_Bin30-60                       0.69687    0.66311   1.051   0.2933  \n",
       "Visit3                             0.06079    0.62439   0.097   0.9224  \n",
       "Visit4                             0.27887    0.64190   0.434   0.6640  \n",
       "Visit5                             0.82321    0.66271   1.242   0.2142  \n",
       "Reward_SideR:Solution0.734mM GABA  0.71717    0.55102   1.302   0.1931  \n",
       "Reward_SideR:TSM_Bin30-60         -0.48146    0.55165  -0.873   0.3828  \n",
       "Solution0.734mM GABA:TSM_Bin30-60  0.16382    0.55503   0.295   0.7679  \n",
       "Solution0.734mM GABA:Visit3        0.91428    0.73420   1.245   0.2130  \n",
       "Solution0.734mM GABA:Visit4        1.28801    0.78570   1.639   0.1011  \n",
       "Solution0.734mM GABA:Visit5        1.10383    0.78204   1.411   0.1581  \n",
       "TSM_Bin30-60:Visit3               -0.12823    0.73441  -0.175   0.8614  \n",
       "TSM_Bin30-60:Visit4                0.33002    0.79083   0.417   0.6765  \n",
       "TSM_Bin30-60:Visit5               -0.51503    0.78100  -0.659   0.5096  \n",
       "---\n",
       "Signif. codes:  0 ‘***’ 0.001 ‘**’ 0.01 ‘*’ 0.05 ‘.’ 0.1 ‘ ’ 1\n",
       "optimizer (bobyqa) convergence code: 0 (OK)\n",
       "boundary (singular) fit: see ?isSingular\n"
      ]
     },
     "metadata": {},
     "output_type": "display_data"
    },
    {
     "data": {
      "text/html": [
       "<table class=\"dataframe\">\n",
       "<caption>A anova: 9 × 3</caption>\n",
       "<thead>\n",
       "\t<tr><th></th><th scope=col>Chisq</th><th scope=col>Df</th><th scope=col>Pr(&gt;Chisq)</th></tr>\n",
       "\t<tr><th></th><th scope=col>&lt;dbl&gt;</th><th scope=col>&lt;dbl&gt;</th><th scope=col>&lt;dbl&gt;</th></tr>\n",
       "</thead>\n",
       "<tbody>\n",
       "\t<tr><th scope=row>Reward_Side</th><td>1.118935e+00</td><td>1</td><td>0.29014799</td></tr>\n",
       "\t<tr><th scope=row>Solution</th><td>2.315431e-05</td><td>1</td><td>0.99616068</td></tr>\n",
       "\t<tr><th scope=row>TSM_Bin</th><td>2.533223e+00</td><td>1</td><td>0.11147235</td></tr>\n",
       "\t<tr><th scope=row>Visit</th><td>1.066131e+01</td><td>3</td><td>0.01370563</td></tr>\n",
       "\t<tr><th scope=row>Reward_Side:Solution</th><td>1.693966e+00</td><td>1</td><td>0.19307902</td></tr>\n",
       "\t<tr><th scope=row>Reward_Side:TSM_Bin</th><td>7.617143e-01</td><td>1</td><td>0.38279256</td></tr>\n",
       "\t<tr><th scope=row>Solution:TSM_Bin</th><td>8.711271e-02</td><td>1</td><td>0.76788035</td></tr>\n",
       "\t<tr><th scope=row>Solution:Visit</th><td>3.372491e+00</td><td>3</td><td>0.33768000</td></tr>\n",
       "\t<tr><th scope=row>TSM_Bin:Visit</th><td>1.061402e+00</td><td>3</td><td>0.78639900</td></tr>\n",
       "</tbody>\n",
       "</table>\n"
      ],
      "text/latex": [
       "A anova: 9 × 3\n",
       "\\begin{tabular}{r|lll}\n",
       "  & Chisq & Df & Pr(>Chisq)\\\\\n",
       "  & <dbl> & <dbl> & <dbl>\\\\\n",
       "\\hline\n",
       "\tReward\\_Side & 1.118935e+00 & 1 & 0.29014799\\\\\n",
       "\tSolution & 2.315431e-05 & 1 & 0.99616068\\\\\n",
       "\tTSM\\_Bin & 2.533223e+00 & 1 & 0.11147235\\\\\n",
       "\tVisit & 1.066131e+01 & 3 & 0.01370563\\\\\n",
       "\tReward\\_Side:Solution & 1.693966e+00 & 1 & 0.19307902\\\\\n",
       "\tReward\\_Side:TSM\\_Bin & 7.617143e-01 & 1 & 0.38279256\\\\\n",
       "\tSolution:TSM\\_Bin & 8.711271e-02 & 1 & 0.76788035\\\\\n",
       "\tSolution:Visit & 3.372491e+00 & 3 & 0.33768000\\\\\n",
       "\tTSM\\_Bin:Visit & 1.061402e+00 & 3 & 0.78639900\\\\\n",
       "\\end{tabular}\n"
      ],
      "text/markdown": [
       "\n",
       "A anova: 9 × 3\n",
       "\n",
       "| <!--/--> | Chisq &lt;dbl&gt; | Df &lt;dbl&gt; | Pr(&gt;Chisq) &lt;dbl&gt; |\n",
       "|---|---|---|---|\n",
       "| Reward_Side | 1.118935e+00 | 1 | 0.29014799 |\n",
       "| Solution | 2.315431e-05 | 1 | 0.99616068 |\n",
       "| TSM_Bin | 2.533223e+00 | 1 | 0.11147235 |\n",
       "| Visit | 1.066131e+01 | 3 | 0.01370563 |\n",
       "| Reward_Side:Solution | 1.693966e+00 | 1 | 0.19307902 |\n",
       "| Reward_Side:TSM_Bin | 7.617143e-01 | 1 | 0.38279256 |\n",
       "| Solution:TSM_Bin | 8.711271e-02 | 1 | 0.76788035 |\n",
       "| Solution:Visit | 3.372491e+00 | 3 | 0.33768000 |\n",
       "| TSM_Bin:Visit | 1.061402e+00 | 3 | 0.78639900 |\n",
       "\n"
      ],
      "text/plain": [
       "                     Chisq        Df Pr(>Chisq)\n",
       "Reward_Side          1.118935e+00 1  0.29014799\n",
       "Solution             2.315431e-05 1  0.99616068\n",
       "TSM_Bin              2.533223e+00 1  0.11147235\n",
       "Visit                1.066131e+01 3  0.01370563\n",
       "Reward_Side:Solution 1.693966e+00 1  0.19307902\n",
       "Reward_Side:TSM_Bin  7.617143e-01 1  0.38279256\n",
       "Solution:TSM_Bin     8.711271e-02 1  0.76788035\n",
       "Solution:Visit       3.372491e+00 3  0.33768000\n",
       "TSM_Bin:Visit        1.061402e+00 3  0.78639900"
      ]
     },
     "metadata": {},
     "output_type": "display_data"
    },
    {
     "data": {
      "text/html": [
       "<style>\n",
       ".list-inline {list-style: none; margin:0; padding: 0}\n",
       ".list-inline>li {display: inline-block}\n",
       ".list-inline>li:not(:last-child)::after {content: \"\\00b7\"; padding: 0 .5ex}\n",
       "</style>\n",
       "<ol class=list-inline><li>'Reward_Side:Solution'</li><li>'Reward_Side:TSM_Bin'</li><li>'Solution:TSM_Bin'</li><li>'Solution:Visit'</li><li>'TSM_Bin:Visit'</li></ol>\n"
      ],
      "text/latex": [
       "\\begin{enumerate*}\n",
       "\\item 'Reward\\_Side:Solution'\n",
       "\\item 'Reward\\_Side:TSM\\_Bin'\n",
       "\\item 'Solution:TSM\\_Bin'\n",
       "\\item 'Solution:Visit'\n",
       "\\item 'TSM\\_Bin:Visit'\n",
       "\\end{enumerate*}\n"
      ],
      "text/markdown": [
       "1. 'Reward_Side:Solution'\n",
       "2. 'Reward_Side:TSM_Bin'\n",
       "3. 'Solution:TSM_Bin'\n",
       "4. 'Solution:Visit'\n",
       "5. 'TSM_Bin:Visit'\n",
       "\n",
       "\n"
      ],
      "text/plain": [
       "[1] \"Reward_Side:Solution\" \"Reward_Side:TSM_Bin\"  \"Solution:TSM_Bin\"    \n",
       "[4] \"Solution:Visit\"       \"TSM_Bin:Visit\"       "
      ]
     },
     "metadata": {},
     "output_type": "display_data"
    }
   ],
   "source": [
    "summary(mod2)\n",
    "Anova(mod2)\n",
    "drop.scope(mod2)"
   ]
  },
  {
   "cell_type": "code",
   "execution_count": 27,
   "id": "480e8e6d",
   "metadata": {},
   "outputs": [
    {
     "name": "stderr",
     "output_type": "stream",
     "text": [
      "boundary (singular) fit: see ?isSingular\n",
      "\n"
     ]
    },
    {
     "data": {
      "text/html": [
       "<table class=\"dataframe\">\n",
       "<caption>A anova: 2 × 8</caption>\n",
       "<thead>\n",
       "\t<tr><th></th><th scope=col>npar</th><th scope=col>AIC</th><th scope=col>BIC</th><th scope=col>logLik</th><th scope=col>deviance</th><th scope=col>Chisq</th><th scope=col>Df</th><th scope=col>Pr(&gt;Chisq)</th></tr>\n",
       "\t<tr><th></th><th scope=col>&lt;dbl&gt;</th><th scope=col>&lt;dbl&gt;</th><th scope=col>&lt;dbl&gt;</th><th scope=col>&lt;dbl&gt;</th><th scope=col>&lt;dbl&gt;</th><th scope=col>&lt;dbl&gt;</th><th scope=col>&lt;dbl&gt;</th><th scope=col>&lt;dbl&gt;</th></tr>\n",
       "</thead>\n",
       "<tbody>\n",
       "\t<tr><th scope=row>mod3</th><td>15</td><td>340.6342</td><td>393.8119</td><td>-155.3171</td><td>310.6342</td><td>      NA</td><td>NA</td><td>       NA</td></tr>\n",
       "\t<tr><th scope=row>mod2</th><td>18</td><td>345.5646</td><td>409.3778</td><td>-154.7823</td><td>309.5646</td><td>1.069628</td><td> 3</td><td>0.7844107</td></tr>\n",
       "</tbody>\n",
       "</table>\n"
      ],
      "text/latex": [
       "A anova: 2 × 8\n",
       "\\begin{tabular}{r|llllllll}\n",
       "  & npar & AIC & BIC & logLik & deviance & Chisq & Df & Pr(>Chisq)\\\\\n",
       "  & <dbl> & <dbl> & <dbl> & <dbl> & <dbl> & <dbl> & <dbl> & <dbl>\\\\\n",
       "\\hline\n",
       "\tmod3 & 15 & 340.6342 & 393.8119 & -155.3171 & 310.6342 &       NA & NA &        NA\\\\\n",
       "\tmod2 & 18 & 345.5646 & 409.3778 & -154.7823 & 309.5646 & 1.069628 &  3 & 0.7844107\\\\\n",
       "\\end{tabular}\n"
      ],
      "text/markdown": [
       "\n",
       "A anova: 2 × 8\n",
       "\n",
       "| <!--/--> | npar &lt;dbl&gt; | AIC &lt;dbl&gt; | BIC &lt;dbl&gt; | logLik &lt;dbl&gt; | deviance &lt;dbl&gt; | Chisq &lt;dbl&gt; | Df &lt;dbl&gt; | Pr(&gt;Chisq) &lt;dbl&gt; |\n",
       "|---|---|---|---|---|---|---|---|---|\n",
       "| mod3 | 15 | 340.6342 | 393.8119 | -155.3171 | 310.6342 |       NA | NA |        NA |\n",
       "| mod2 | 18 | 345.5646 | 409.3778 | -154.7823 | 309.5646 | 1.069628 |  3 | 0.7844107 |\n",
       "\n"
      ],
      "text/plain": [
       "     npar AIC      BIC      logLik    deviance Chisq    Df Pr(>Chisq)\n",
       "mod3 15   340.6342 393.8119 -155.3171 310.6342       NA NA        NA \n",
       "mod2 18   345.5646 409.3778 -154.7823 309.5646 1.069628  3 0.7844107 "
      ]
     },
     "metadata": {},
     "output_type": "display_data"
    }
   ],
   "source": [
    "mod3 = update(mod2, . ~ . - TSM_Bin:Visit)\n",
    "anova(mod2, mod3)"
   ]
  },
  {
   "cell_type": "markdown",
   "id": "38ad4863",
   "metadata": {},
   "source": [
    "mod2 is not significantly better than mod3 so we will keep mod3"
   ]
  },
  {
   "cell_type": "code",
   "execution_count": 28,
   "id": "63be47f5",
   "metadata": {},
   "outputs": [
    {
     "name": "stderr",
     "output_type": "stream",
     "text": [
      "\n",
      "Correlation matrix not shown by default, as p = 13 > 12.\n",
      "Use print(obj, correlation=TRUE)  or\n",
      "    vcov(obj)        if you need it\n",
      "\n",
      "\n"
     ]
    },
    {
     "data": {
      "text/plain": [
       "Generalized linear mixed model fit by maximum likelihood (Laplace\n",
       "  Approximation) [glmerMod]\n",
       " Family: binomial  ( logit )\n",
       "Formula: Final_Decision_Binary ~ Reward_Side + Solution + TSM_Bin + Visit +  \n",
       "    (1 | Starvation_Period) + (1 | Collection_Date) + Reward_Side:Solution +  \n",
       "    Reward_Side:TSM_Bin + Solution:TSM_Bin + Solution:Visit\n",
       "   Data: ELP_10\n",
       "Control: glmerControl(optimizer = \"bobyqa\", optCtrl = list(maxfun = 1e+09))\n",
       "\n",
       "     AIC      BIC   logLik deviance df.resid \n",
       "   340.6    393.8   -155.3    310.6      241 \n",
       "\n",
       "Scaled residuals: \n",
       "    Min      1Q  Median      3Q     Max \n",
       "-2.2929 -1.0026  0.4820  0.7173  1.4976 \n",
       "\n",
       "Random effects:\n",
       " Groups            Name        Variance Std.Dev.\n",
       " Collection_Date   (Intercept) 0.002029 0.04505 \n",
       " Starvation_Period (Intercept) 0.000000 0.00000 \n",
       "Number of obs: 256, groups:  Collection_Date, 8; Starvation_Period, 2\n",
       "\n",
       "Fixed effects:\n",
       "                                    Estimate Std. Error z value Pr(>|z|)  \n",
       "(Intercept)                        4.126e-01  4.713e-01   0.875   0.3813  \n",
       "Reward_SideR                      -4.114e-01  4.583e-01  -0.898   0.3694  \n",
       "Solution0.734mM GABA              -1.222e+00  6.468e-01  -1.889   0.0588 .\n",
       "TSM_Bin30-60                       6.228e-01  4.888e-01   1.274   0.2026  \n",
       "Visit3                            -2.180e-06  5.181e-01   0.000   1.0000  \n",
       "Visit4                             4.225e-01  5.332e-01   0.792   0.4281  \n",
       "Visit5                             5.767e-01  5.417e-01   1.065   0.2871  \n",
       "Reward_SideR:Solution0.734mM GABA  7.134e-01  5.498e-01   1.298   0.1944  \n",
       "Reward_SideR:TSM_Bin30-60         -4.816e-01  5.506e-01  -0.875   0.3817  \n",
       "Solution0.734mM GABA:TSM_Bin30-60  1.579e-01  5.520e-01   0.286   0.7748  \n",
       "Solution0.734mM GABA:Visit3        9.101e-01  7.334e-01   1.241   0.2146  \n",
       "Solution0.734mM GABA:Visit4        1.264e+00  7.775e-01   1.626   0.1040  \n",
       "Solution0.734mM GABA:Visit5        1.110e+00  7.833e-01   1.417   0.1565  \n",
       "---\n",
       "Signif. codes:  0 ‘***’ 0.001 ‘**’ 0.01 ‘*’ 0.05 ‘.’ 0.1 ‘ ’ 1\n",
       "optimizer (bobyqa) convergence code: 0 (OK)\n",
       "boundary (singular) fit: see ?isSingular\n"
      ]
     },
     "metadata": {},
     "output_type": "display_data"
    },
    {
     "data": {
      "text/html": [
       "<table class=\"dataframe\">\n",
       "<caption>A anova: 8 × 3</caption>\n",
       "<thead>\n",
       "\t<tr><th></th><th scope=col>Chisq</th><th scope=col>Df</th><th scope=col>Pr(&gt;Chisq)</th></tr>\n",
       "\t<tr><th></th><th scope=col>&lt;dbl&gt;</th><th scope=col>&lt;dbl&gt;</th><th scope=col>&lt;dbl&gt;</th></tr>\n",
       "</thead>\n",
       "<tbody>\n",
       "\t<tr><th scope=row>Reward_Side</th><td>1.115180e+00</td><td>1</td><td>0.29095873</td></tr>\n",
       "\t<tr><th scope=row>Solution</th><td>1.486368e-05</td><td>1</td><td>0.99692389</td></tr>\n",
       "\t<tr><th scope=row>TSM_Bin</th><td>2.595625e+00</td><td>1</td><td>0.10715917</td></tr>\n",
       "\t<tr><th scope=row>Visit</th><td>1.095255e+01</td><td>3</td><td>0.01198525</td></tr>\n",
       "\t<tr><th scope=row>Reward_Side:Solution</th><td>1.683768e+00</td><td>1</td><td>0.19442453</td></tr>\n",
       "\t<tr><th scope=row>Reward_Side:TSM_Bin</th><td>7.651973e-01</td><td>1</td><td>0.38170692</td></tr>\n",
       "\t<tr><th scope=row>Solution:TSM_Bin</th><td>8.181823e-02</td><td>1</td><td>0.77484836</td></tr>\n",
       "\t<tr><th scope=row>Solution:Visit</th><td>3.342149e+00</td><td>3</td><td>0.34181930</td></tr>\n",
       "</tbody>\n",
       "</table>\n"
      ],
      "text/latex": [
       "A anova: 8 × 3\n",
       "\\begin{tabular}{r|lll}\n",
       "  & Chisq & Df & Pr(>Chisq)\\\\\n",
       "  & <dbl> & <dbl> & <dbl>\\\\\n",
       "\\hline\n",
       "\tReward\\_Side & 1.115180e+00 & 1 & 0.29095873\\\\\n",
       "\tSolution & 1.486368e-05 & 1 & 0.99692389\\\\\n",
       "\tTSM\\_Bin & 2.595625e+00 & 1 & 0.10715917\\\\\n",
       "\tVisit & 1.095255e+01 & 3 & 0.01198525\\\\\n",
       "\tReward\\_Side:Solution & 1.683768e+00 & 1 & 0.19442453\\\\\n",
       "\tReward\\_Side:TSM\\_Bin & 7.651973e-01 & 1 & 0.38170692\\\\\n",
       "\tSolution:TSM\\_Bin & 8.181823e-02 & 1 & 0.77484836\\\\\n",
       "\tSolution:Visit & 3.342149e+00 & 3 & 0.34181930\\\\\n",
       "\\end{tabular}\n"
      ],
      "text/markdown": [
       "\n",
       "A anova: 8 × 3\n",
       "\n",
       "| <!--/--> | Chisq &lt;dbl&gt; | Df &lt;dbl&gt; | Pr(&gt;Chisq) &lt;dbl&gt; |\n",
       "|---|---|---|---|\n",
       "| Reward_Side | 1.115180e+00 | 1 | 0.29095873 |\n",
       "| Solution | 1.486368e-05 | 1 | 0.99692389 |\n",
       "| TSM_Bin | 2.595625e+00 | 1 | 0.10715917 |\n",
       "| Visit | 1.095255e+01 | 3 | 0.01198525 |\n",
       "| Reward_Side:Solution | 1.683768e+00 | 1 | 0.19442453 |\n",
       "| Reward_Side:TSM_Bin | 7.651973e-01 | 1 | 0.38170692 |\n",
       "| Solution:TSM_Bin | 8.181823e-02 | 1 | 0.77484836 |\n",
       "| Solution:Visit | 3.342149e+00 | 3 | 0.34181930 |\n",
       "\n"
      ],
      "text/plain": [
       "                     Chisq        Df Pr(>Chisq)\n",
       "Reward_Side          1.115180e+00 1  0.29095873\n",
       "Solution             1.486368e-05 1  0.99692389\n",
       "TSM_Bin              2.595625e+00 1  0.10715917\n",
       "Visit                1.095255e+01 3  0.01198525\n",
       "Reward_Side:Solution 1.683768e+00 1  0.19442453\n",
       "Reward_Side:TSM_Bin  7.651973e-01 1  0.38170692\n",
       "Solution:TSM_Bin     8.181823e-02 1  0.77484836\n",
       "Solution:Visit       3.342149e+00 3  0.34181930"
      ]
     },
     "metadata": {},
     "output_type": "display_data"
    },
    {
     "data": {
      "text/html": [
       "<style>\n",
       ".list-inline {list-style: none; margin:0; padding: 0}\n",
       ".list-inline>li {display: inline-block}\n",
       ".list-inline>li:not(:last-child)::after {content: \"\\00b7\"; padding: 0 .5ex}\n",
       "</style>\n",
       "<ol class=list-inline><li>'Reward_Side:Solution'</li><li>'Reward_Side:TSM_Bin'</li><li>'Solution:TSM_Bin'</li><li>'Solution:Visit'</li></ol>\n"
      ],
      "text/latex": [
       "\\begin{enumerate*}\n",
       "\\item 'Reward\\_Side:Solution'\n",
       "\\item 'Reward\\_Side:TSM\\_Bin'\n",
       "\\item 'Solution:TSM\\_Bin'\n",
       "\\item 'Solution:Visit'\n",
       "\\end{enumerate*}\n"
      ],
      "text/markdown": [
       "1. 'Reward_Side:Solution'\n",
       "2. 'Reward_Side:TSM_Bin'\n",
       "3. 'Solution:TSM_Bin'\n",
       "4. 'Solution:Visit'\n",
       "\n",
       "\n"
      ],
      "text/plain": [
       "[1] \"Reward_Side:Solution\" \"Reward_Side:TSM_Bin\"  \"Solution:TSM_Bin\"    \n",
       "[4] \"Solution:Visit\"      "
      ]
     },
     "metadata": {},
     "output_type": "display_data"
    }
   ],
   "source": [
    "summary(mod3)\n",
    "Anova(mod3)\n",
    "drop.scope(mod3)"
   ]
  },
  {
   "cell_type": "code",
   "execution_count": 29,
   "id": "b4d546c0",
   "metadata": {
    "scrolled": true
   },
   "outputs": [
    {
     "name": "stderr",
     "output_type": "stream",
     "text": [
      "boundary (singular) fit: see ?isSingular\n",
      "\n"
     ]
    },
    {
     "data": {
      "text/html": [
       "<table class=\"dataframe\">\n",
       "<caption>A anova: 2 × 8</caption>\n",
       "<thead>\n",
       "\t<tr><th></th><th scope=col>npar</th><th scope=col>AIC</th><th scope=col>BIC</th><th scope=col>logLik</th><th scope=col>deviance</th><th scope=col>Chisq</th><th scope=col>Df</th><th scope=col>Pr(&gt;Chisq)</th></tr>\n",
       "\t<tr><th></th><th scope=col>&lt;dbl&gt;</th><th scope=col>&lt;dbl&gt;</th><th scope=col>&lt;dbl&gt;</th><th scope=col>&lt;dbl&gt;</th><th scope=col>&lt;dbl&gt;</th><th scope=col>&lt;dbl&gt;</th><th scope=col>&lt;dbl&gt;</th><th scope=col>&lt;dbl&gt;</th></tr>\n",
       "</thead>\n",
       "<tbody>\n",
       "\t<tr><th scope=row>mod4</th><td>14</td><td>338.7161</td><td>388.3485</td><td>-155.3580</td><td>310.7161</td><td>       NA</td><td>NA</td><td>       NA</td></tr>\n",
       "\t<tr><th scope=row>mod3</th><td>15</td><td>340.6342</td><td>393.8119</td><td>-155.3171</td><td>310.6342</td><td>0.0818144</td><td> 1</td><td>0.7748535</td></tr>\n",
       "</tbody>\n",
       "</table>\n"
      ],
      "text/latex": [
       "A anova: 2 × 8\n",
       "\\begin{tabular}{r|llllllll}\n",
       "  & npar & AIC & BIC & logLik & deviance & Chisq & Df & Pr(>Chisq)\\\\\n",
       "  & <dbl> & <dbl> & <dbl> & <dbl> & <dbl> & <dbl> & <dbl> & <dbl>\\\\\n",
       "\\hline\n",
       "\tmod4 & 14 & 338.7161 & 388.3485 & -155.3580 & 310.7161 &        NA & NA &        NA\\\\\n",
       "\tmod3 & 15 & 340.6342 & 393.8119 & -155.3171 & 310.6342 & 0.0818144 &  1 & 0.7748535\\\\\n",
       "\\end{tabular}\n"
      ],
      "text/markdown": [
       "\n",
       "A anova: 2 × 8\n",
       "\n",
       "| <!--/--> | npar &lt;dbl&gt; | AIC &lt;dbl&gt; | BIC &lt;dbl&gt; | logLik &lt;dbl&gt; | deviance &lt;dbl&gt; | Chisq &lt;dbl&gt; | Df &lt;dbl&gt; | Pr(&gt;Chisq) &lt;dbl&gt; |\n",
       "|---|---|---|---|---|---|---|---|---|\n",
       "| mod4 | 14 | 338.7161 | 388.3485 | -155.3580 | 310.7161 |        NA | NA |        NA |\n",
       "| mod3 | 15 | 340.6342 | 393.8119 | -155.3171 | 310.6342 | 0.0818144 |  1 | 0.7748535 |\n",
       "\n"
      ],
      "text/plain": [
       "     npar AIC      BIC      logLik    deviance Chisq     Df Pr(>Chisq)\n",
       "mod4 14   338.7161 388.3485 -155.3580 310.7161        NA NA        NA \n",
       "mod3 15   340.6342 393.8119 -155.3171 310.6342 0.0818144  1 0.7748535 "
      ]
     },
     "metadata": {},
     "output_type": "display_data"
    }
   ],
   "source": [
    "mod4 = update(mod3, . ~ . - Solution:TSM_Bin)\n",
    "anova(mod3, mod4)"
   ]
  },
  {
   "cell_type": "markdown",
   "id": "408e1a65",
   "metadata": {},
   "source": [
    "mod3 is not significantly better than mod4 so we will keep mod4"
   ]
  },
  {
   "cell_type": "code",
   "execution_count": 30,
   "id": "ffe18321",
   "metadata": {},
   "outputs": [
    {
     "data": {
      "text/plain": [
       "Generalized linear mixed model fit by maximum likelihood (Laplace\n",
       "  Approximation) [glmerMod]\n",
       " Family: binomial  ( logit )\n",
       "Formula: Final_Decision_Binary ~ Reward_Side + Solution + TSM_Bin + Visit +  \n",
       "    (1 | Starvation_Period) + (1 | Collection_Date) + Reward_Side:Solution +  \n",
       "    Reward_Side:TSM_Bin + Solution:Visit\n",
       "   Data: ELP_10\n",
       "Control: glmerControl(optimizer = \"bobyqa\", optCtrl = list(maxfun = 1e+09))\n",
       "\n",
       "     AIC      BIC   logLik deviance df.resid \n",
       "   338.7    388.3   -155.4    310.7      242 \n",
       "\n",
       "Scaled residuals: \n",
       "    Min      1Q  Median      3Q     Max \n",
       "-2.3059 -0.9862  0.4923  0.7283  1.4674 \n",
       "\n",
       "Random effects:\n",
       " Groups            Name        Variance Std.Dev.\n",
       " Collection_Date   (Intercept) 0.003573 0.05977 \n",
       " Starvation_Period (Intercept) 0.000000 0.00000 \n",
       "Number of obs: 256, groups:  Collection_Date, 8; Starvation_Period, 2\n",
       "\n",
       "Fixed effects:\n",
       "                                    Estimate Std. Error z value Pr(>|z|)  \n",
       "(Intercept)                        3.777e-01  4.551e-01   0.830   0.4066  \n",
       "Reward_SideR                      -4.123e-01  4.573e-01  -0.902   0.3672  \n",
       "Solution0.734mM GABA              -1.148e+00  5.915e-01  -1.940   0.0523 .\n",
       "TSM_Bin30-60                       7.032e-01  4.010e-01   1.753   0.0795 .\n",
       "Visit3                            -4.306e-07  5.191e-01   0.000   1.0000  \n",
       "Visit4                             4.240e-01  5.341e-01   0.794   0.4272  \n",
       "Visit5                             5.787e-01  5.426e-01   1.066   0.2862  \n",
       "Reward_SideR:Solution0.734mM GABA  7.201e-01  5.495e-01   1.311   0.1900  \n",
       "Reward_SideR:TSM_Bin30-60         -4.897e-01  5.501e-01  -0.890   0.3734  \n",
       "Solution0.734mM GABA:Visit3        9.061e-01  7.331e-01   1.236   0.2165  \n",
       "Solution0.734mM GABA:Visit4        1.256e+00  7.766e-01   1.617   0.1059  \n",
       "Solution0.734mM GABA:Visit5        1.101e+00  7.824e-01   1.407   0.1593  \n",
       "---\n",
       "Signif. codes:  0 ‘***’ 0.001 ‘**’ 0.01 ‘*’ 0.05 ‘.’ 0.1 ‘ ’ 1\n",
       "\n",
       "Correlation of Fixed Effects:\n",
       "               (Intr) Rwr_SR Sl0.734MGABA TSM_B3 Visit3 Visit4 Visit5 R_SR:G\n",
       "Reward_SidR    -0.515                                                       \n",
       "Sl0.734MGABA   -0.640  0.274                                                \n",
       "TSM_Bn30-60    -0.379  0.372 -0.045                                         \n",
       "Visit3         -0.570  0.000  0.439        0.000                            \n",
       "Visit4         -0.549 -0.014  0.419        0.010  0.486                     \n",
       "Visit5         -0.538 -0.019  0.410        0.013  0.478  0.466              \n",
       "R_SR:S0.73G     0.302 -0.574 -0.483        0.024  0.000  0.014  0.018       \n",
       "R_SR:TSM_B3     0.275 -0.548  0.027       -0.727  0.000 -0.004 -0.005 -0.016\n",
       "S0.734MGABA:V3  0.396  0.006 -0.618        0.021 -0.708 -0.344 -0.338  0.002\n",
       "S0.734MGABA:V4  0.365  0.019 -0.581        0.028 -0.334 -0.687 -0.319 -0.004\n",
       "S0.734MGABA:V5  0.361  0.022 -0.575        0.026 -0.332 -0.322 -0.692 -0.007\n",
       "               R_SR:T S0.734MGABA:V3 S0.734MGABA:V4\n",
       "Reward_SidR                                        \n",
       "Sl0.734MGABA                                       \n",
       "TSM_Bn30-60                                        \n",
       "Visit3                                             \n",
       "Visit4                                             \n",
       "Visit5                                             \n",
       "R_SR:S0.73G                                        \n",
       "R_SR:TSM_B3                                        \n",
       "S0.734MGABA:V3 -0.010                              \n",
       "S0.734MGABA:V4 -0.014  0.469                       \n",
       "S0.734MGABA:V5 -0.014  0.466          0.440        \n",
       "optimizer (bobyqa) convergence code: 0 (OK)\n",
       "boundary (singular) fit: see ?isSingular\n"
      ]
     },
     "metadata": {},
     "output_type": "display_data"
    },
    {
     "data": {
      "text/html": [
       "<table class=\"dataframe\">\n",
       "<caption>A anova: 7 × 3</caption>\n",
       "<thead>\n",
       "\t<tr><th></th><th scope=col>Chisq</th><th scope=col>Df</th><th scope=col>Pr(&gt;Chisq)</th></tr>\n",
       "\t<tr><th></th><th scope=col>&lt;dbl&gt;</th><th scope=col>&lt;dbl&gt;</th><th scope=col>&lt;dbl&gt;</th></tr>\n",
       "</thead>\n",
       "<tbody>\n",
       "\t<tr><th scope=row>Reward_Side</th><td>1.116197e+00</td><td>1</td><td>0.29073878</td></tr>\n",
       "\t<tr><th scope=row>Solution</th><td>2.918093e-05</td><td>1</td><td>0.99568990</td></tr>\n",
       "\t<tr><th scope=row>TSM_Bin</th><td>2.596981e+00</td><td>1</td><td>0.10706746</td></tr>\n",
       "\t<tr><th scope=row>Visit</th><td>1.098184e+01</td><td>3</td><td>0.01182451</td></tr>\n",
       "\t<tr><th scope=row>Reward_Side:Solution</th><td>1.717631e+00</td><td>1</td><td>0.18999828</td></tr>\n",
       "\t<tr><th scope=row>Reward_Side:TSM_Bin</th><td>7.924731e-01</td><td>1</td><td>0.37335335</td></tr>\n",
       "\t<tr><th scope=row>Solution:Visit</th><td>3.306312e+00</td><td>3</td><td>0.34676515</td></tr>\n",
       "</tbody>\n",
       "</table>\n"
      ],
      "text/latex": [
       "A anova: 7 × 3\n",
       "\\begin{tabular}{r|lll}\n",
       "  & Chisq & Df & Pr(>Chisq)\\\\\n",
       "  & <dbl> & <dbl> & <dbl>\\\\\n",
       "\\hline\n",
       "\tReward\\_Side & 1.116197e+00 & 1 & 0.29073878\\\\\n",
       "\tSolution & 2.918093e-05 & 1 & 0.99568990\\\\\n",
       "\tTSM\\_Bin & 2.596981e+00 & 1 & 0.10706746\\\\\n",
       "\tVisit & 1.098184e+01 & 3 & 0.01182451\\\\\n",
       "\tReward\\_Side:Solution & 1.717631e+00 & 1 & 0.18999828\\\\\n",
       "\tReward\\_Side:TSM\\_Bin & 7.924731e-01 & 1 & 0.37335335\\\\\n",
       "\tSolution:Visit & 3.306312e+00 & 3 & 0.34676515\\\\\n",
       "\\end{tabular}\n"
      ],
      "text/markdown": [
       "\n",
       "A anova: 7 × 3\n",
       "\n",
       "| <!--/--> | Chisq &lt;dbl&gt; | Df &lt;dbl&gt; | Pr(&gt;Chisq) &lt;dbl&gt; |\n",
       "|---|---|---|---|\n",
       "| Reward_Side | 1.116197e+00 | 1 | 0.29073878 |\n",
       "| Solution | 2.918093e-05 | 1 | 0.99568990 |\n",
       "| TSM_Bin | 2.596981e+00 | 1 | 0.10706746 |\n",
       "| Visit | 1.098184e+01 | 3 | 0.01182451 |\n",
       "| Reward_Side:Solution | 1.717631e+00 | 1 | 0.18999828 |\n",
       "| Reward_Side:TSM_Bin | 7.924731e-01 | 1 | 0.37335335 |\n",
       "| Solution:Visit | 3.306312e+00 | 3 | 0.34676515 |\n",
       "\n"
      ],
      "text/plain": [
       "                     Chisq        Df Pr(>Chisq)\n",
       "Reward_Side          1.116197e+00 1  0.29073878\n",
       "Solution             2.918093e-05 1  0.99568990\n",
       "TSM_Bin              2.596981e+00 1  0.10706746\n",
       "Visit                1.098184e+01 3  0.01182451\n",
       "Reward_Side:Solution 1.717631e+00 1  0.18999828\n",
       "Reward_Side:TSM_Bin  7.924731e-01 1  0.37335335\n",
       "Solution:Visit       3.306312e+00 3  0.34676515"
      ]
     },
     "metadata": {},
     "output_type": "display_data"
    },
    {
     "data": {
      "text/html": [
       "<style>\n",
       ".list-inline {list-style: none; margin:0; padding: 0}\n",
       ".list-inline>li {display: inline-block}\n",
       ".list-inline>li:not(:last-child)::after {content: \"\\00b7\"; padding: 0 .5ex}\n",
       "</style>\n",
       "<ol class=list-inline><li>'Reward_Side:Solution'</li><li>'Reward_Side:TSM_Bin'</li><li>'Solution:Visit'</li></ol>\n"
      ],
      "text/latex": [
       "\\begin{enumerate*}\n",
       "\\item 'Reward\\_Side:Solution'\n",
       "\\item 'Reward\\_Side:TSM\\_Bin'\n",
       "\\item 'Solution:Visit'\n",
       "\\end{enumerate*}\n"
      ],
      "text/markdown": [
       "1. 'Reward_Side:Solution'\n",
       "2. 'Reward_Side:TSM_Bin'\n",
       "3. 'Solution:Visit'\n",
       "\n",
       "\n"
      ],
      "text/plain": [
       "[1] \"Reward_Side:Solution\" \"Reward_Side:TSM_Bin\"  \"Solution:Visit\"      "
      ]
     },
     "metadata": {},
     "output_type": "display_data"
    }
   ],
   "source": [
    "summary(mod4)\n",
    "Anova(mod4)\n",
    "drop.scope(mod4)"
   ]
  },
  {
   "cell_type": "code",
   "execution_count": 31,
   "id": "c1131d1f",
   "metadata": {},
   "outputs": [
    {
     "name": "stderr",
     "output_type": "stream",
     "text": [
      "boundary (singular) fit: see ?isSingular\n",
      "\n"
     ]
    },
    {
     "data": {
      "text/html": [
       "<table class=\"dataframe\">\n",
       "<caption>A anova: 2 × 8</caption>\n",
       "<thead>\n",
       "\t<tr><th></th><th scope=col>npar</th><th scope=col>AIC</th><th scope=col>BIC</th><th scope=col>logLik</th><th scope=col>deviance</th><th scope=col>Chisq</th><th scope=col>Df</th><th scope=col>Pr(&gt;Chisq)</th></tr>\n",
       "\t<tr><th></th><th scope=col>&lt;dbl&gt;</th><th scope=col>&lt;dbl&gt;</th><th scope=col>&lt;dbl&gt;</th><th scope=col>&lt;dbl&gt;</th><th scope=col>&lt;dbl&gt;</th><th scope=col>&lt;dbl&gt;</th><th scope=col>&lt;dbl&gt;</th><th scope=col>&lt;dbl&gt;</th></tr>\n",
       "</thead>\n",
       "<tbody>\n",
       "\t<tr><th scope=row>mod5</th><td>13</td><td>337.5111</td><td>383.5984</td><td>-155.7556</td><td>311.5111</td><td>       NA</td><td>NA</td><td>       NA</td></tr>\n",
       "\t<tr><th scope=row>mod4</th><td>14</td><td>338.7161</td><td>388.3485</td><td>-155.3580</td><td>310.7161</td><td>0.7950745</td><td> 1</td><td>0.3725701</td></tr>\n",
       "</tbody>\n",
       "</table>\n"
      ],
      "text/latex": [
       "A anova: 2 × 8\n",
       "\\begin{tabular}{r|llllllll}\n",
       "  & npar & AIC & BIC & logLik & deviance & Chisq & Df & Pr(>Chisq)\\\\\n",
       "  & <dbl> & <dbl> & <dbl> & <dbl> & <dbl> & <dbl> & <dbl> & <dbl>\\\\\n",
       "\\hline\n",
       "\tmod5 & 13 & 337.5111 & 383.5984 & -155.7556 & 311.5111 &        NA & NA &        NA\\\\\n",
       "\tmod4 & 14 & 338.7161 & 388.3485 & -155.3580 & 310.7161 & 0.7950745 &  1 & 0.3725701\\\\\n",
       "\\end{tabular}\n"
      ],
      "text/markdown": [
       "\n",
       "A anova: 2 × 8\n",
       "\n",
       "| <!--/--> | npar &lt;dbl&gt; | AIC &lt;dbl&gt; | BIC &lt;dbl&gt; | logLik &lt;dbl&gt; | deviance &lt;dbl&gt; | Chisq &lt;dbl&gt; | Df &lt;dbl&gt; | Pr(&gt;Chisq) &lt;dbl&gt; |\n",
       "|---|---|---|---|---|---|---|---|---|\n",
       "| mod5 | 13 | 337.5111 | 383.5984 | -155.7556 | 311.5111 |        NA | NA |        NA |\n",
       "| mod4 | 14 | 338.7161 | 388.3485 | -155.3580 | 310.7161 | 0.7950745 |  1 | 0.3725701 |\n",
       "\n"
      ],
      "text/plain": [
       "     npar AIC      BIC      logLik    deviance Chisq     Df Pr(>Chisq)\n",
       "mod5 13   337.5111 383.5984 -155.7556 311.5111        NA NA        NA \n",
       "mod4 14   338.7161 388.3485 -155.3580 310.7161 0.7950745  1 0.3725701 "
      ]
     },
     "metadata": {},
     "output_type": "display_data"
    }
   ],
   "source": [
    "mod5 = update(mod4, . ~ . - Reward_Side:TSM_Bin)\n",
    "anova(mod4, mod5)"
   ]
  },
  {
   "cell_type": "markdown",
   "id": "6294c13b",
   "metadata": {},
   "source": [
    "mod4 is not significantly better than mod5 so we will keep mod5"
   ]
  },
  {
   "cell_type": "code",
   "execution_count": 32,
   "id": "055cfca5",
   "metadata": {},
   "outputs": [
    {
     "data": {
      "text/plain": [
       "Generalized linear mixed model fit by maximum likelihood (Laplace\n",
       "  Approximation) [glmerMod]\n",
       " Family: binomial  ( logit )\n",
       "Formula: Final_Decision_Binary ~ Reward_Side + Solution + TSM_Bin + Visit +  \n",
       "    (1 | Starvation_Period) + (1 | Collection_Date) + Reward_Side:Solution +  \n",
       "    Solution:Visit\n",
       "   Data: ELP_10\n",
       "Control: glmerControl(optimizer = \"bobyqa\", optCtrl = list(maxfun = 1e+09))\n",
       "\n",
       "     AIC      BIC   logLik deviance df.resid \n",
       "   337.5    383.6   -155.8    311.5      243 \n",
       "\n",
       "Scaled residuals: \n",
       "    Min      1Q  Median      3Q     Max \n",
       "-2.1790 -0.9474  0.5054  0.7014  1.3780 \n",
       "\n",
       "Random effects:\n",
       " Groups            Name        Variance  Std.Dev. \n",
       " Collection_Date   (Intercept) 5.728e-03 7.569e-02\n",
       " Starvation_Period (Intercept) 1.211e-14 1.100e-07\n",
       "Number of obs: 256, groups:  Collection_Date, 8; Starvation_Period, 2\n",
       "\n",
       "Fixed effects:\n",
       "                                    Estimate Std. Error z value Pr(>|z|)  \n",
       "(Intercept)                        4.913e-01  4.383e-01   1.121   0.2623  \n",
       "Reward_SideR                      -6.381e-01  3.815e-01  -1.672   0.0945 .\n",
       "Solution0.734mM GABA              -1.138e+00  5.888e-01  -1.933   0.0533 .\n",
       "TSM_Bin30-60                       4.459e-01  2.745e-01   1.624   0.1044  \n",
       "Visit3                            -2.640e-07  5.185e-01   0.000   1.0000  \n",
       "Visit4                             4.235e-01  5.338e-01   0.793   0.4275  \n",
       "Visit5                             5.782e-01  5.424e-01   1.066   0.2864  \n",
       "Reward_SideR:Solution0.734mM GABA  7.147e-01  5.484e-01   1.303   0.1925  \n",
       "Solution0.734mM GABA:Visit3        9.028e-01  7.320e-01   1.233   0.2174  \n",
       "Solution0.734mM GABA:Visit4        1.250e+00  7.757e-01   1.612   0.1070  \n",
       "Solution0.734mM GABA:Visit5        1.096e+00  7.815e-01   1.402   0.1609  \n",
       "---\n",
       "Signif. codes:  0 ‘***’ 0.001 ‘**’ 0.01 ‘*’ 0.05 ‘.’ 0.1 ‘ ’ 1\n",
       "\n",
       "Correlation of Fixed Effects:\n",
       "               (Intr) Rwr_SR Sl0.734MGABA TSM_B3 Visit3 Visit4 Visit5 R_SR:G\n",
       "Reward_SidR    -0.453                                                       \n",
       "Sl0.734MGABA   -0.672  0.342                                                \n",
       "TSM_Bn30-60    -0.288 -0.020 -0.030                                         \n",
       "Visit3         -0.591  0.000  0.440        0.000                            \n",
       "Visit4         -0.568 -0.021  0.420        0.012  0.486                     \n",
       "Visit5         -0.556 -0.027  0.410        0.015  0.478  0.465              \n",
       "R_SR:S0.73G     0.315 -0.696 -0.479        0.015  0.000  0.014  0.019       \n",
       "S0.734MGABA:V3  0.414  0.000 -0.620        0.020 -0.708 -0.343 -0.338  0.002\n",
       "S0.734MGABA:V4  0.383  0.015 -0.581        0.024 -0.334 -0.687 -0.319 -0.006\n",
       "S0.734MGABA:V5  0.378  0.020 -0.575        0.021 -0.332 -0.322 -0.693 -0.009\n",
       "               S0.734MGABA:V3 S0.734MGABA:V4\n",
       "Reward_SidR                                 \n",
       "Sl0.734MGABA                                \n",
       "TSM_Bn30-60                                 \n",
       "Visit3                                      \n",
       "Visit4                                      \n",
       "Visit5                                      \n",
       "R_SR:S0.73G                                 \n",
       "S0.734MGABA:V3                              \n",
       "S0.734MGABA:V4  0.469                       \n",
       "S0.734MGABA:V5  0.466          0.440        \n",
       "optimizer (bobyqa) convergence code: 0 (OK)\n",
       "boundary (singular) fit: see ?isSingular\n"
      ]
     },
     "metadata": {},
     "output_type": "display_data"
    },
    {
     "data": {
      "text/html": [
       "<table class=\"dataframe\">\n",
       "<caption>A anova: 6 × 3</caption>\n",
       "<thead>\n",
       "\t<tr><th></th><th scope=col>Chisq</th><th scope=col>Df</th><th scope=col>Pr(&gt;Chisq)</th></tr>\n",
       "\t<tr><th></th><th scope=col>&lt;dbl&gt;</th><th scope=col>&lt;dbl&gt;</th><th scope=col>&lt;dbl&gt;</th></tr>\n",
       "</thead>\n",
       "<tbody>\n",
       "\t<tr><th scope=row>Reward_Side</th><td>1.135711e+00</td><td>1</td><td>0.28656051</td></tr>\n",
       "\t<tr><th scope=row>Solution</th><td>1.799074e-05</td><td>1</td><td>0.99661574</td></tr>\n",
       "\t<tr><th scope=row>TSM_Bin</th><td>2.637490e+00</td><td>1</td><td>0.10436832</td></tr>\n",
       "\t<tr><th scope=row>Visit</th><td>1.096173e+01</td><td>3</td><td>0.01193462</td></tr>\n",
       "\t<tr><th scope=row>Reward_Side:Solution</th><td>1.698347e+00</td><td>1</td><td>0.19250424</td></tr>\n",
       "\t<tr><th scope=row>Solution:Visit</th><td>3.286086e+00</td><td>3</td><td>0.34958396</td></tr>\n",
       "</tbody>\n",
       "</table>\n"
      ],
      "text/latex": [
       "A anova: 6 × 3\n",
       "\\begin{tabular}{r|lll}\n",
       "  & Chisq & Df & Pr(>Chisq)\\\\\n",
       "  & <dbl> & <dbl> & <dbl>\\\\\n",
       "\\hline\n",
       "\tReward\\_Side & 1.135711e+00 & 1 & 0.28656051\\\\\n",
       "\tSolution & 1.799074e-05 & 1 & 0.99661574\\\\\n",
       "\tTSM\\_Bin & 2.637490e+00 & 1 & 0.10436832\\\\\n",
       "\tVisit & 1.096173e+01 & 3 & 0.01193462\\\\\n",
       "\tReward\\_Side:Solution & 1.698347e+00 & 1 & 0.19250424\\\\\n",
       "\tSolution:Visit & 3.286086e+00 & 3 & 0.34958396\\\\\n",
       "\\end{tabular}\n"
      ],
      "text/markdown": [
       "\n",
       "A anova: 6 × 3\n",
       "\n",
       "| <!--/--> | Chisq &lt;dbl&gt; | Df &lt;dbl&gt; | Pr(&gt;Chisq) &lt;dbl&gt; |\n",
       "|---|---|---|---|\n",
       "| Reward_Side | 1.135711e+00 | 1 | 0.28656051 |\n",
       "| Solution | 1.799074e-05 | 1 | 0.99661574 |\n",
       "| TSM_Bin | 2.637490e+00 | 1 | 0.10436832 |\n",
       "| Visit | 1.096173e+01 | 3 | 0.01193462 |\n",
       "| Reward_Side:Solution | 1.698347e+00 | 1 | 0.19250424 |\n",
       "| Solution:Visit | 3.286086e+00 | 3 | 0.34958396 |\n",
       "\n"
      ],
      "text/plain": [
       "                     Chisq        Df Pr(>Chisq)\n",
       "Reward_Side          1.135711e+00 1  0.28656051\n",
       "Solution             1.799074e-05 1  0.99661574\n",
       "TSM_Bin              2.637490e+00 1  0.10436832\n",
       "Visit                1.096173e+01 3  0.01193462\n",
       "Reward_Side:Solution 1.698347e+00 1  0.19250424\n",
       "Solution:Visit       3.286086e+00 3  0.34958396"
      ]
     },
     "metadata": {},
     "output_type": "display_data"
    },
    {
     "data": {
      "text/html": [
       "<style>\n",
       ".list-inline {list-style: none; margin:0; padding: 0}\n",
       ".list-inline>li {display: inline-block}\n",
       ".list-inline>li:not(:last-child)::after {content: \"\\00b7\"; padding: 0 .5ex}\n",
       "</style>\n",
       "<ol class=list-inline><li>'TSM_Bin'</li><li>'Reward_Side:Solution'</li><li>'Solution:Visit'</li></ol>\n"
      ],
      "text/latex": [
       "\\begin{enumerate*}\n",
       "\\item 'TSM\\_Bin'\n",
       "\\item 'Reward\\_Side:Solution'\n",
       "\\item 'Solution:Visit'\n",
       "\\end{enumerate*}\n"
      ],
      "text/markdown": [
       "1. 'TSM_Bin'\n",
       "2. 'Reward_Side:Solution'\n",
       "3. 'Solution:Visit'\n",
       "\n",
       "\n"
      ],
      "text/plain": [
       "[1] \"TSM_Bin\"              \"Reward_Side:Solution\" \"Solution:Visit\"      "
      ]
     },
     "metadata": {},
     "output_type": "display_data"
    }
   ],
   "source": [
    "summary(mod5)\n",
    "Anova(mod5)\n",
    "drop.scope(mod5)"
   ]
  },
  {
   "cell_type": "code",
   "execution_count": 33,
   "id": "b9a2aa54",
   "metadata": {
    "scrolled": true
   },
   "outputs": [
    {
     "name": "stderr",
     "output_type": "stream",
     "text": [
      "boundary (singular) fit: see ?isSingular\n",
      "\n"
     ]
    },
    {
     "data": {
      "text/html": [
       "<table class=\"dataframe\">\n",
       "<caption>A anova: 2 × 8</caption>\n",
       "<thead>\n",
       "\t<tr><th></th><th scope=col>npar</th><th scope=col>AIC</th><th scope=col>BIC</th><th scope=col>logLik</th><th scope=col>deviance</th><th scope=col>Chisq</th><th scope=col>Df</th><th scope=col>Pr(&gt;Chisq)</th></tr>\n",
       "\t<tr><th></th><th scope=col>&lt;dbl&gt;</th><th scope=col>&lt;dbl&gt;</th><th scope=col>&lt;dbl&gt;</th><th scope=col>&lt;dbl&gt;</th><th scope=col>&lt;dbl&gt;</th><th scope=col>&lt;dbl&gt;</th><th scope=col>&lt;dbl&gt;</th><th scope=col>&lt;dbl&gt;</th></tr>\n",
       "</thead>\n",
       "<tbody>\n",
       "\t<tr><th scope=row>mod6</th><td>10</td><td>334.8483</td><td>370.3001</td><td>-157.4242</td><td>314.8483</td><td>      NA</td><td>NA</td><td>       NA</td></tr>\n",
       "\t<tr><th scope=row>mod5</th><td>13</td><td>337.5111</td><td>383.5984</td><td>-155.7556</td><td>311.5111</td><td>3.337181</td><td> 3</td><td>0.3425011</td></tr>\n",
       "</tbody>\n",
       "</table>\n"
      ],
      "text/latex": [
       "A anova: 2 × 8\n",
       "\\begin{tabular}{r|llllllll}\n",
       "  & npar & AIC & BIC & logLik & deviance & Chisq & Df & Pr(>Chisq)\\\\\n",
       "  & <dbl> & <dbl> & <dbl> & <dbl> & <dbl> & <dbl> & <dbl> & <dbl>\\\\\n",
       "\\hline\n",
       "\tmod6 & 10 & 334.8483 & 370.3001 & -157.4242 & 314.8483 &       NA & NA &        NA\\\\\n",
       "\tmod5 & 13 & 337.5111 & 383.5984 & -155.7556 & 311.5111 & 3.337181 &  3 & 0.3425011\\\\\n",
       "\\end{tabular}\n"
      ],
      "text/markdown": [
       "\n",
       "A anova: 2 × 8\n",
       "\n",
       "| <!--/--> | npar &lt;dbl&gt; | AIC &lt;dbl&gt; | BIC &lt;dbl&gt; | logLik &lt;dbl&gt; | deviance &lt;dbl&gt; | Chisq &lt;dbl&gt; | Df &lt;dbl&gt; | Pr(&gt;Chisq) &lt;dbl&gt; |\n",
       "|---|---|---|---|---|---|---|---|---|\n",
       "| mod6 | 10 | 334.8483 | 370.3001 | -157.4242 | 314.8483 |       NA | NA |        NA |\n",
       "| mod5 | 13 | 337.5111 | 383.5984 | -155.7556 | 311.5111 | 3.337181 |  3 | 0.3425011 |\n",
       "\n"
      ],
      "text/plain": [
       "     npar AIC      BIC      logLik    deviance Chisq    Df Pr(>Chisq)\n",
       "mod6 10   334.8483 370.3001 -157.4242 314.8483       NA NA        NA \n",
       "mod5 13   337.5111 383.5984 -155.7556 311.5111 3.337181  3 0.3425011 "
      ]
     },
     "metadata": {},
     "output_type": "display_data"
    }
   ],
   "source": [
    "mod6 = update(mod5, . ~ . - Solution:Visit)\n",
    "anova(mod5, mod6)"
   ]
  },
  {
   "cell_type": "markdown",
   "id": "41460584",
   "metadata": {},
   "source": [
    "mod5 is not significantly better than mod6 so we will keep mod6"
   ]
  },
  {
   "cell_type": "code",
   "execution_count": 34,
   "id": "2229421f",
   "metadata": {},
   "outputs": [
    {
     "data": {
      "text/plain": [
       "Generalized linear mixed model fit by maximum likelihood (Laplace\n",
       "  Approximation) [glmerMod]\n",
       " Family: binomial  ( logit )\n",
       "Formula: Final_Decision_Binary ~ Reward_Side + Solution + TSM_Bin + Visit +  \n",
       "    (1 | Starvation_Period) + (1 | Collection_Date) + Reward_Side:Solution\n",
       "   Data: ELP_10\n",
       "Control: glmerControl(optimizer = \"bobyqa\", optCtrl = list(maxfun = 1e+09))\n",
       "\n",
       "     AIC      BIC   logLik deviance df.resid \n",
       "   334.8    370.3   -157.4    314.8      246 \n",
       "\n",
       "Scaled residuals: \n",
       "    Min      1Q  Median      3Q     Max \n",
       "-2.3296 -1.0931  0.5382  0.7288  1.3171 \n",
       "\n",
       "Random effects:\n",
       " Groups            Name        Variance Std.Dev.\n",
       " Collection_Date   (Intercept) 0.00299  0.05468 \n",
       " Starvation_Period (Intercept) 0.00000  0.00000 \n",
       "Number of obs: 256, groups:  Collection_Date, 8; Starvation_Period, 2\n",
       "\n",
       "Fixed effects:\n",
       "                                  Estimate Std. Error z value Pr(>|z|)   \n",
       "(Intercept)                         0.1182     0.3764   0.314  0.75349   \n",
       "Reward_SideR                       -0.6595     0.3876  -1.701  0.08889 . \n",
       "Solution0.734mM GABA               -0.3811     0.3921  -0.972  0.33103   \n",
       "TSM_Bin30-60                        0.4388     0.2723   1.612  0.10706   \n",
       "Visit3                              0.4561     0.3627   1.258  0.20856   \n",
       "Visit4                              1.0415     0.3829   2.720  0.00653 **\n",
       "Visit5                              1.1248     0.3872   2.905  0.00367 **\n",
       "Reward_SideR:Solution0.734mM GABA   0.7317     0.5441   1.345  0.17871   \n",
       "---\n",
       "Signif. codes:  0 ‘***’ 0.001 ‘**’ 0.01 ‘*’ 0.05 ‘.’ 0.1 ‘ ’ 1\n",
       "\n",
       "Correlation of Fixed Effects:\n",
       "            (Intr) Rwr_SR S0.73G TSM_B3 Visit3 Visit4 Visit5\n",
       "Reward_SidR -0.530                                          \n",
       "S0.734MGABA -0.536  0.537                                   \n",
       "TSM_Bn30-60 -0.349 -0.020 -0.013                            \n",
       "Visit3      -0.466 -0.018 -0.012  0.019                     \n",
       "Visit4      -0.438 -0.037 -0.023  0.039  0.464              \n",
       "Visit5      -0.433 -0.039 -0.024  0.041  0.459  0.438       \n",
       "R_SR:S0.73G  0.375 -0.713 -0.720  0.015  0.014  0.029  0.030\n",
       "optimizer (bobyqa) convergence code: 0 (OK)\n",
       "boundary (singular) fit: see ?isSingular\n"
      ]
     },
     "metadata": {},
     "output_type": "display_data"
    },
    {
     "data": {
      "text/html": [
       "<table class=\"dataframe\">\n",
       "<caption>A anova: 5 × 3</caption>\n",
       "<thead>\n",
       "\t<tr><th></th><th scope=col>Chisq</th><th scope=col>Df</th><th scope=col>Pr(&gt;Chisq)</th></tr>\n",
       "\t<tr><th></th><th scope=col>&lt;dbl&gt;</th><th scope=col>&lt;dbl&gt;</th><th scope=col>&lt;dbl&gt;</th></tr>\n",
       "</thead>\n",
       "<tbody>\n",
       "\t<tr><th scope=row>Reward_Side</th><td>1.121216e+00</td><td>1</td><td>0.289656756</td></tr>\n",
       "\t<tr><th scope=row>Solution</th><td>3.248667e-05</td><td>1</td><td>0.995452316</td></tr>\n",
       "\t<tr><th scope=row>TSM_Bin</th><td>2.597113e+00</td><td>1</td><td>0.107058586</td></tr>\n",
       "\t<tr><th scope=row>Visit</th><td>1.145989e+01</td><td>3</td><td>0.009482082</td></tr>\n",
       "\t<tr><th scope=row>Reward_Side:Solution</th><td>1.808328e+00</td><td>1</td><td>0.178708963</td></tr>\n",
       "</tbody>\n",
       "</table>\n"
      ],
      "text/latex": [
       "A anova: 5 × 3\n",
       "\\begin{tabular}{r|lll}\n",
       "  & Chisq & Df & Pr(>Chisq)\\\\\n",
       "  & <dbl> & <dbl> & <dbl>\\\\\n",
       "\\hline\n",
       "\tReward\\_Side & 1.121216e+00 & 1 & 0.289656756\\\\\n",
       "\tSolution & 3.248667e-05 & 1 & 0.995452316\\\\\n",
       "\tTSM\\_Bin & 2.597113e+00 & 1 & 0.107058586\\\\\n",
       "\tVisit & 1.145989e+01 & 3 & 0.009482082\\\\\n",
       "\tReward\\_Side:Solution & 1.808328e+00 & 1 & 0.178708963\\\\\n",
       "\\end{tabular}\n"
      ],
      "text/markdown": [
       "\n",
       "A anova: 5 × 3\n",
       "\n",
       "| <!--/--> | Chisq &lt;dbl&gt; | Df &lt;dbl&gt; | Pr(&gt;Chisq) &lt;dbl&gt; |\n",
       "|---|---|---|---|\n",
       "| Reward_Side | 1.121216e+00 | 1 | 0.289656756 |\n",
       "| Solution | 3.248667e-05 | 1 | 0.995452316 |\n",
       "| TSM_Bin | 2.597113e+00 | 1 | 0.107058586 |\n",
       "| Visit | 1.145989e+01 | 3 | 0.009482082 |\n",
       "| Reward_Side:Solution | 1.808328e+00 | 1 | 0.178708963 |\n",
       "\n"
      ],
      "text/plain": [
       "                     Chisq        Df Pr(>Chisq) \n",
       "Reward_Side          1.121216e+00 1  0.289656756\n",
       "Solution             3.248667e-05 1  0.995452316\n",
       "TSM_Bin              2.597113e+00 1  0.107058586\n",
       "Visit                1.145989e+01 3  0.009482082\n",
       "Reward_Side:Solution 1.808328e+00 1  0.178708963"
      ]
     },
     "metadata": {},
     "output_type": "display_data"
    },
    {
     "data": {
      "text/html": [
       "<style>\n",
       ".list-inline {list-style: none; margin:0; padding: 0}\n",
       ".list-inline>li {display: inline-block}\n",
       ".list-inline>li:not(:last-child)::after {content: \"\\00b7\"; padding: 0 .5ex}\n",
       "</style>\n",
       "<ol class=list-inline><li>'TSM_Bin'</li><li>'Visit'</li><li>'Reward_Side:Solution'</li></ol>\n"
      ],
      "text/latex": [
       "\\begin{enumerate*}\n",
       "\\item 'TSM\\_Bin'\n",
       "\\item 'Visit'\n",
       "\\item 'Reward\\_Side:Solution'\n",
       "\\end{enumerate*}\n"
      ],
      "text/markdown": [
       "1. 'TSM_Bin'\n",
       "2. 'Visit'\n",
       "3. 'Reward_Side:Solution'\n",
       "\n",
       "\n"
      ],
      "text/plain": [
       "[1] \"TSM_Bin\"              \"Visit\"                \"Reward_Side:Solution\""
      ]
     },
     "metadata": {},
     "output_type": "display_data"
    }
   ],
   "source": [
    "summary(mod6)\n",
    "Anova(mod6)\n",
    "drop.scope(mod6)"
   ]
  },
  {
   "cell_type": "code",
   "execution_count": 35,
   "id": "7261b7da",
   "metadata": {},
   "outputs": [
    {
     "name": "stderr",
     "output_type": "stream",
     "text": [
      "boundary (singular) fit: see ?isSingular\n",
      "\n"
     ]
    },
    {
     "data": {
      "text/html": [
       "<table class=\"dataframe\">\n",
       "<caption>A anova: 2 × 8</caption>\n",
       "<thead>\n",
       "\t<tr><th></th><th scope=col>npar</th><th scope=col>AIC</th><th scope=col>BIC</th><th scope=col>logLik</th><th scope=col>deviance</th><th scope=col>Chisq</th><th scope=col>Df</th><th scope=col>Pr(&gt;Chisq)</th></tr>\n",
       "\t<tr><th></th><th scope=col>&lt;dbl&gt;</th><th scope=col>&lt;dbl&gt;</th><th scope=col>&lt;dbl&gt;</th><th scope=col>&lt;dbl&gt;</th><th scope=col>&lt;dbl&gt;</th><th scope=col>&lt;dbl&gt;</th><th scope=col>&lt;dbl&gt;</th><th scope=col>&lt;dbl&gt;</th></tr>\n",
       "</thead>\n",
       "<tbody>\n",
       "\t<tr><th scope=row>mod7</th><td> 9</td><td>334.6647</td><td>366.5713</td><td>-158.3324</td><td>316.6647</td><td>     NA</td><td>NA</td><td>     NA</td></tr>\n",
       "\t<tr><th scope=row>mod6</th><td>10</td><td>334.8483</td><td>370.3001</td><td>-157.4242</td><td>314.8483</td><td>1.81642</td><td> 1</td><td>0.17774</td></tr>\n",
       "</tbody>\n",
       "</table>\n"
      ],
      "text/latex": [
       "A anova: 2 × 8\n",
       "\\begin{tabular}{r|llllllll}\n",
       "  & npar & AIC & BIC & logLik & deviance & Chisq & Df & Pr(>Chisq)\\\\\n",
       "  & <dbl> & <dbl> & <dbl> & <dbl> & <dbl> & <dbl> & <dbl> & <dbl>\\\\\n",
       "\\hline\n",
       "\tmod7 &  9 & 334.6647 & 366.5713 & -158.3324 & 316.6647 &      NA & NA &      NA\\\\\n",
       "\tmod6 & 10 & 334.8483 & 370.3001 & -157.4242 & 314.8483 & 1.81642 &  1 & 0.17774\\\\\n",
       "\\end{tabular}\n"
      ],
      "text/markdown": [
       "\n",
       "A anova: 2 × 8\n",
       "\n",
       "| <!--/--> | npar &lt;dbl&gt; | AIC &lt;dbl&gt; | BIC &lt;dbl&gt; | logLik &lt;dbl&gt; | deviance &lt;dbl&gt; | Chisq &lt;dbl&gt; | Df &lt;dbl&gt; | Pr(&gt;Chisq) &lt;dbl&gt; |\n",
       "|---|---|---|---|---|---|---|---|---|\n",
       "| mod7 |  9 | 334.6647 | 366.5713 | -158.3324 | 316.6647 |      NA | NA |      NA |\n",
       "| mod6 | 10 | 334.8483 | 370.3001 | -157.4242 | 314.8483 | 1.81642 |  1 | 0.17774 |\n",
       "\n"
      ],
      "text/plain": [
       "     npar AIC      BIC      logLik    deviance Chisq   Df Pr(>Chisq)\n",
       "mod7  9   334.6647 366.5713 -158.3324 316.6647      NA NA      NA   \n",
       "mod6 10   334.8483 370.3001 -157.4242 314.8483 1.81642  1 0.17774   "
      ]
     },
     "metadata": {},
     "output_type": "display_data"
    }
   ],
   "source": [
    "mod7 = update(mod6, . ~ . - Reward_Side:Solution)\n",
    "anova(mod6, mod7)"
   ]
  },
  {
   "cell_type": "markdown",
   "id": "c2544c67",
   "metadata": {},
   "source": [
    "mod6 is not significantly better than mod7 so we will keep mod7"
   ]
  },
  {
   "cell_type": "code",
   "execution_count": 36,
   "id": "b821278c",
   "metadata": {},
   "outputs": [
    {
     "data": {
      "text/plain": [
       "Generalized linear mixed model fit by maximum likelihood (Laplace\n",
       "  Approximation) [glmerMod]\n",
       " Family: binomial  ( logit )\n",
       "Formula: Final_Decision_Binary ~ Reward_Side + Solution + TSM_Bin + Visit +  \n",
       "    (1 | Starvation_Period) + (1 | Collection_Date)\n",
       "   Data: ELP_10\n",
       "Control: glmerControl(optimizer = \"bobyqa\", optCtrl = list(maxfun = 1e+09))\n",
       "\n",
       "     AIC      BIC   logLik deviance df.resid \n",
       "   334.7    366.6   -158.3    316.7      247 \n",
       "\n",
       "Scaled residuals: \n",
       "    Min      1Q  Median      3Q     Max \n",
       "-2.1270 -1.0423  0.5670  0.7142  1.2232 \n",
       "\n",
       "Random effects:\n",
       " Groups            Name        Variance Std.Dev.\n",
       " Collection_Date   (Intercept) 0.008603 0.09275 \n",
       " Starvation_Period (Intercept) 0.000000 0.00000 \n",
       "Number of obs: 256, groups:  Collection_Date, 8; Starvation_Period, 2\n",
       "\n",
       "Fixed effects:\n",
       "                      Estimate Std. Error z value Pr(>|z|)   \n",
       "(Intercept)          -0.071504   0.345395  -0.207  0.83599   \n",
       "Reward_SideR         -0.290528   0.270637  -1.073  0.28305   \n",
       "Solution0.734mM GABA -0.002284   0.270988  -0.008  0.99328   \n",
       "TSM_Bin30-60          0.436785   0.271490   1.609  0.10765   \n",
       "Visit3                0.453082   0.361485   1.253  0.21006   \n",
       "Visit4                1.034929   0.381583   2.712  0.00668 **\n",
       "Visit5                1.117807   0.385904   2.897  0.00377 **\n",
       "---\n",
       "Signif. codes:  0 ‘***’ 0.001 ‘**’ 0.01 ‘*’ 0.05 ‘.’ 0.1 ‘ ’ 1\n",
       "\n",
       "Correlation of Fixed Effects:\n",
       "            (Intr) Rwr_SR S0.73G TSM_B3 Visit3 Visit4\n",
       "Reward_SidR -0.387                                   \n",
       "S0.734MGABA -0.392  0.000                            \n",
       "TSM_Bn30-60 -0.386 -0.013 -0.004                     \n",
       "Visit3      -0.512 -0.012 -0.002  0.019              \n",
       "Visit4      -0.487 -0.024 -0.003  0.039  0.464       \n",
       "Visit5      -0.482 -0.025 -0.004  0.041  0.459  0.437\n",
       "optimizer (bobyqa) convergence code: 0 (OK)\n",
       "boundary (singular) fit: see ?isSingular\n"
      ]
     },
     "metadata": {},
     "output_type": "display_data"
    },
    {
     "data": {
      "text/html": [
       "<table class=\"dataframe\">\n",
       "<caption>A anova: 4 × 3</caption>\n",
       "<thead>\n",
       "\t<tr><th></th><th scope=col>Chisq</th><th scope=col>Df</th><th scope=col>Pr(&gt;Chisq)</th></tr>\n",
       "\t<tr><th></th><th scope=col>&lt;dbl&gt;</th><th scope=col>&lt;dbl&gt;</th><th scope=col>&lt;dbl&gt;</th></tr>\n",
       "</thead>\n",
       "<tbody>\n",
       "\t<tr><th scope=row>Reward_Side</th><td>1.152392e+00</td><td>1</td><td>0.283049064</td></tr>\n",
       "\t<tr><th scope=row>Solution</th><td>7.104175e-05</td><td>1</td><td>0.993275008</td></tr>\n",
       "\t<tr><th scope=row>TSM_Bin</th><td>2.588365e+00</td><td>1</td><td>0.107651403</td></tr>\n",
       "\t<tr><th scope=row>Visit</th><td>1.140048e+01</td><td>3</td><td>0.009746212</td></tr>\n",
       "</tbody>\n",
       "</table>\n"
      ],
      "text/latex": [
       "A anova: 4 × 3\n",
       "\\begin{tabular}{r|lll}\n",
       "  & Chisq & Df & Pr(>Chisq)\\\\\n",
       "  & <dbl> & <dbl> & <dbl>\\\\\n",
       "\\hline\n",
       "\tReward\\_Side & 1.152392e+00 & 1 & 0.283049064\\\\\n",
       "\tSolution & 7.104175e-05 & 1 & 0.993275008\\\\\n",
       "\tTSM\\_Bin & 2.588365e+00 & 1 & 0.107651403\\\\\n",
       "\tVisit & 1.140048e+01 & 3 & 0.009746212\\\\\n",
       "\\end{tabular}\n"
      ],
      "text/markdown": [
       "\n",
       "A anova: 4 × 3\n",
       "\n",
       "| <!--/--> | Chisq &lt;dbl&gt; | Df &lt;dbl&gt; | Pr(&gt;Chisq) &lt;dbl&gt; |\n",
       "|---|---|---|---|\n",
       "| Reward_Side | 1.152392e+00 | 1 | 0.283049064 |\n",
       "| Solution | 7.104175e-05 | 1 | 0.993275008 |\n",
       "| TSM_Bin | 2.588365e+00 | 1 | 0.107651403 |\n",
       "| Visit | 1.140048e+01 | 3 | 0.009746212 |\n",
       "\n"
      ],
      "text/plain": [
       "            Chisq        Df Pr(>Chisq) \n",
       "Reward_Side 1.152392e+00 1  0.283049064\n",
       "Solution    7.104175e-05 1  0.993275008\n",
       "TSM_Bin     2.588365e+00 1  0.107651403\n",
       "Visit       1.140048e+01 3  0.009746212"
      ]
     },
     "metadata": {},
     "output_type": "display_data"
    },
    {
     "data": {
      "text/html": [
       "<style>\n",
       ".list-inline {list-style: none; margin:0; padding: 0}\n",
       ".list-inline>li {display: inline-block}\n",
       ".list-inline>li:not(:last-child)::after {content: \"\\00b7\"; padding: 0 .5ex}\n",
       "</style>\n",
       "<ol class=list-inline><li>'Reward_Side'</li><li>'Solution'</li><li>'TSM_Bin'</li><li>'Visit'</li></ol>\n"
      ],
      "text/latex": [
       "\\begin{enumerate*}\n",
       "\\item 'Reward\\_Side'\n",
       "\\item 'Solution'\n",
       "\\item 'TSM\\_Bin'\n",
       "\\item 'Visit'\n",
       "\\end{enumerate*}\n"
      ],
      "text/markdown": [
       "1. 'Reward_Side'\n",
       "2. 'Solution'\n",
       "3. 'TSM_Bin'\n",
       "4. 'Visit'\n",
       "\n",
       "\n"
      ],
      "text/plain": [
       "[1] \"Reward_Side\" \"Solution\"    \"TSM_Bin\"     \"Visit\"      "
      ]
     },
     "metadata": {},
     "output_type": "display_data"
    }
   ],
   "source": [
    "summary(mod7)\n",
    "Anova(mod7)\n",
    "drop.scope(mod7)"
   ]
  },
  {
   "cell_type": "markdown",
   "id": "d976acef",
   "metadata": {},
   "source": [
    "Ants seem to do significantly better at visit 4 and even better at visit 5. Other worth to mention results from the model summary include a slight, yet not significant, decrease in learning success under 0.734mM GABA. Collection_Date explains a small amount of variance in the data but not Starvation_Period."
   ]
  },
  {
   "cell_type": "code",
   "execution_count": 37,
   "id": "871dbb60",
   "metadata": {},
   "outputs": [
    {
     "data": {
      "text/html": [
       "<table class=\"dataframe\">\n",
       "<caption>A anova: 2 × 8</caption>\n",
       "<thead>\n",
       "\t<tr><th></th><th scope=col>npar</th><th scope=col>AIC</th><th scope=col>BIC</th><th scope=col>logLik</th><th scope=col>deviance</th><th scope=col>Chisq</th><th scope=col>Df</th><th scope=col>Pr(&gt;Chisq)</th></tr>\n",
       "\t<tr><th></th><th scope=col>&lt;dbl&gt;</th><th scope=col>&lt;dbl&gt;</th><th scope=col>&lt;dbl&gt;</th><th scope=col>&lt;dbl&gt;</th><th scope=col>&lt;dbl&gt;</th><th scope=col>&lt;dbl&gt;</th><th scope=col>&lt;dbl&gt;</th><th scope=col>&lt;dbl&gt;</th></tr>\n",
       "</thead>\n",
       "<tbody>\n",
       "\t<tr><th scope=row>mod7</th><td> 9</td><td>334.6647</td><td>366.5713</td><td>-158.3324</td><td>316.6647</td><td>      NA</td><td>NA</td><td>       NA</td></tr>\n",
       "\t<tr><th scope=row>mod1</th><td>21</td><td>351.0427</td><td>425.4914</td><td>-154.5214</td><td>309.0427</td><td>7.622023</td><td>12</td><td>0.8139269</td></tr>\n",
       "</tbody>\n",
       "</table>\n"
      ],
      "text/latex": [
       "A anova: 2 × 8\n",
       "\\begin{tabular}{r|llllllll}\n",
       "  & npar & AIC & BIC & logLik & deviance & Chisq & Df & Pr(>Chisq)\\\\\n",
       "  & <dbl> & <dbl> & <dbl> & <dbl> & <dbl> & <dbl> & <dbl> & <dbl>\\\\\n",
       "\\hline\n",
       "\tmod7 &  9 & 334.6647 & 366.5713 & -158.3324 & 316.6647 &       NA & NA &        NA\\\\\n",
       "\tmod1 & 21 & 351.0427 & 425.4914 & -154.5214 & 309.0427 & 7.622023 & 12 & 0.8139269\\\\\n",
       "\\end{tabular}\n"
      ],
      "text/markdown": [
       "\n",
       "A anova: 2 × 8\n",
       "\n",
       "| <!--/--> | npar &lt;dbl&gt; | AIC &lt;dbl&gt; | BIC &lt;dbl&gt; | logLik &lt;dbl&gt; | deviance &lt;dbl&gt; | Chisq &lt;dbl&gt; | Df &lt;dbl&gt; | Pr(&gt;Chisq) &lt;dbl&gt; |\n",
       "|---|---|---|---|---|---|---|---|---|\n",
       "| mod7 |  9 | 334.6647 | 366.5713 | -158.3324 | 316.6647 |       NA | NA |        NA |\n",
       "| mod1 | 21 | 351.0427 | 425.4914 | -154.5214 | 309.0427 | 7.622023 | 12 | 0.8139269 |\n",
       "\n"
      ],
      "text/plain": [
       "     npar AIC      BIC      logLik    deviance Chisq    Df Pr(>Chisq)\n",
       "mod7  9   334.6647 366.5713 -158.3324 316.6647       NA NA        NA \n",
       "mod1 21   351.0427 425.4914 -154.5214 309.0427 7.622023 12 0.8139269 "
      ]
     },
     "metadata": {},
     "output_type": "display_data"
    },
    {
     "data": {
      "image/png": "[encoded data removed]",
      "text/plain": [
       "Plot with title “QQ plot residuals”"
      ]
     },
     "metadata": {
      "image/png": {
       "height": 420,
       "width": 420
      }
     },
     "output_type": "display_data"
    }
   ],
   "source": [
    "anova(mod1, mod7)\n",
    "simres = simulateResiduals(mod7)\n",
    "plot(simres, asFactor = T)"
   ]
  },
  {
   "cell_type": "markdown",
   "id": "dd26ece4",
   "metadata": {},
   "source": [
    "mod1 is not significantly better than mod7 so we will keep mod7 - the diagnostic plots suggest mod7 is still a good fit.\n",
    "\n",
    "#### Model interpretation\n",
    "There is an effect of visit:"
   ]
  },
  {
   "cell_type": "code",
   "execution_count": 38,
   "id": "89a4d3a5",
   "metadata": {
    "scrolled": false
   },
   "outputs": [
    {
     "data": {
      "text/plain": [
       " contrast odds.ratio    SE  df null z.ratio p.value\n",
       " 2 / 3         0.636 0.230 Inf    1  -1.253  1.0000\n",
       " 2 / 4         0.355 0.136 Inf    1  -2.712  0.0401\n",
       " 2 / 5         0.327 0.126 Inf    1  -2.897  0.0226\n",
       " 3 / 4         0.559 0.215 Inf    1  -1.511  0.7850\n",
       " 3 / 5         0.514 0.200 Inf    1  -1.707  0.5266\n",
       " 4 / 5         0.920 0.375 Inf    1  -0.204  1.0000\n",
       "\n",
       "Results are averaged over the levels of: Reward_Side, Solution, TSM_Bin \n",
       "P value adjustment: bonferroni method for 6 tests \n",
       "Tests are performed on the log odds ratio scale "
      ]
     },
     "metadata": {},
     "output_type": "display_data"
    }
   ],
   "source": [
    "meanobj = emmeans(mod7, ~Visit, type = \"response\")\n",
    "pairs(meanobj, adjust = \"bonferroni\")"
   ]
  },
  {
   "cell_type": "markdown",
   "id": "246cc2fa",
   "metadata": {},
   "source": [
    "Ants are significantly more successful at learning at visit 4 and 5 when compared to visit 2 but not visit 3."
   ]
  },
  {
   "cell_type": "code",
   "execution_count": 39,
   "id": "5b7f8b40",
   "metadata": {},
   "outputs": [
    {
     "data": {
      "text/html": [
       "<table class=\"dataframe\">\n",
       "<caption>A summary_emm: 8 × 8</caption>\n",
       "<thead>\n",
       "\t<tr><th></th><th scope=col>TSM_Bin</th><th scope=col>Visit</th><th scope=col>prob</th><th scope=col>SE</th><th scope=col>df</th><th scope=col>null</th><th scope=col>z.ratio</th><th scope=col>p.value</th></tr>\n",
       "\t<tr><th></th><th scope=col>&lt;fct&gt;</th><th scope=col>&lt;fct&gt;</th><th scope=col>&lt;dbl&gt;</th><th scope=col>&lt;dbl&gt;</th><th scope=col>&lt;dbl&gt;</th><th scope=col>&lt;dbl&gt;</th><th scope=col>&lt;dbl&gt;</th><th scope=col>&lt;dbl&gt;</th></tr>\n",
       "</thead>\n",
       "<tbody>\n",
       "\t<tr><th scope=row>1</th><td>0-30 </td><td>2</td><td>0.4457372</td><td>0.07124338</td><td>Inf</td><td>0.5</td><td>-0.7556594</td><td>4.498534e-01</td></tr>\n",
       "\t<tr><th scope=row>2</th><td>30-60</td><td>2</td><td>0.5545014</td><td>0.07129924</td><td>Inf</td><td>0.5</td><td> 0.7583338</td><td>4.482512e-01</td></tr>\n",
       "\t<tr><th scope=row>3</th><td>0-30 </td><td>3</td><td>0.5585238</td><td>0.07172530</td><td>Inf</td><td>0.5</td><td> 0.8084703</td><td>4.188199e-01</td></tr>\n",
       "\t<tr><th scope=row>4</th><td>30-60</td><td>3</td><td>0.6619413</td><td>0.06658272</td><td>Inf</td><td>0.5</td><td> 2.2583532</td><td>2.392365e-02</td></tr>\n",
       "\t<tr><th scope=row>5</th><td>0-30 </td><td>4</td><td>0.6936033</td><td>0.06635209</td><td>Inf</td><td>0.5</td><td> 2.6168150</td><td>8.875444e-03</td></tr>\n",
       "\t<tr><th scope=row>6</th><td>30-60</td><td>4</td><td>0.7779577</td><td>0.05615913</td><td>Inf</td><td>0.5</td><td> 3.8565681</td><td>1.149901e-04</td></tr>\n",
       "\t<tr><th scope=row>7</th><td>0-30 </td><td>5</td><td>0.7109284</td><td>0.06516294</td><td>Inf</td><td>0.5</td><td> 2.8380730</td><td>4.538680e-03</td></tr>\n",
       "\t<tr><th scope=row>8</th><td>30-60</td><td>5</td><td>0.7919437</td><td>0.05447121</td><td>Inf</td><td>0.5</td><td> 4.0433014</td><td>5.270381e-05</td></tr>\n",
       "</tbody>\n",
       "</table>\n"
      ],
      "text/latex": [
       "A summary\\_emm: 8 × 8\n",
       "\\begin{tabular}{r|llllllll}\n",
       "  & TSM\\_Bin & Visit & prob & SE & df & null & z.ratio & p.value\\\\\n",
       "  & <fct> & <fct> & <dbl> & <dbl> & <dbl> & <dbl> & <dbl> & <dbl>\\\\\n",
       "\\hline\n",
       "\t1 & 0-30  & 2 & 0.4457372 & 0.07124338 & Inf & 0.5 & -0.7556594 & 4.498534e-01\\\\\n",
       "\t2 & 30-60 & 2 & 0.5545014 & 0.07129924 & Inf & 0.5 &  0.7583338 & 4.482512e-01\\\\\n",
       "\t3 & 0-30  & 3 & 0.5585238 & 0.07172530 & Inf & 0.5 &  0.8084703 & 4.188199e-01\\\\\n",
       "\t4 & 30-60 & 3 & 0.6619413 & 0.06658272 & Inf & 0.5 &  2.2583532 & 2.392365e-02\\\\\n",
       "\t5 & 0-30  & 4 & 0.6936033 & 0.06635209 & Inf & 0.5 &  2.6168150 & 8.875444e-03\\\\\n",
       "\t6 & 30-60 & 4 & 0.7779577 & 0.05615913 & Inf & 0.5 &  3.8565681 & 1.149901e-04\\\\\n",
       "\t7 & 0-30  & 5 & 0.7109284 & 0.06516294 & Inf & 0.5 &  2.8380730 & 4.538680e-03\\\\\n",
       "\t8 & 30-60 & 5 & 0.7919437 & 0.05447121 & Inf & 0.5 &  4.0433014 & 5.270381e-05\\\\\n",
       "\\end{tabular}\n"
      ],
      "text/markdown": [
       "\n",
       "A summary_emm: 8 × 8\n",
       "\n",
       "| <!--/--> | TSM_Bin &lt;fct&gt; | Visit &lt;fct&gt; | prob &lt;dbl&gt; | SE &lt;dbl&gt; | df &lt;dbl&gt; | null &lt;dbl&gt; | z.ratio &lt;dbl&gt; | p.value &lt;dbl&gt; |\n",
       "|---|---|---|---|---|---|---|---|---|\n",
       "| 1 | 0-30  | 2 | 0.4457372 | 0.07124338 | Inf | 0.5 | -0.7556594 | 4.498534e-01 |\n",
       "| 2 | 30-60 | 2 | 0.5545014 | 0.07129924 | Inf | 0.5 |  0.7583338 | 4.482512e-01 |\n",
       "| 3 | 0-30  | 3 | 0.5585238 | 0.07172530 | Inf | 0.5 |  0.8084703 | 4.188199e-01 |\n",
       "| 4 | 30-60 | 3 | 0.6619413 | 0.06658272 | Inf | 0.5 |  2.2583532 | 2.392365e-02 |\n",
       "| 5 | 0-30  | 4 | 0.6936033 | 0.06635209 | Inf | 0.5 |  2.6168150 | 8.875444e-03 |\n",
       "| 6 | 30-60 | 4 | 0.7779577 | 0.05615913 | Inf | 0.5 |  3.8565681 | 1.149901e-04 |\n",
       "| 7 | 0-30  | 5 | 0.7109284 | 0.06516294 | Inf | 0.5 |  2.8380730 | 4.538680e-03 |\n",
       "| 8 | 30-60 | 5 | 0.7919437 | 0.05447121 | Inf | 0.5 |  4.0433014 | 5.270381e-05 |\n",
       "\n"
      ],
      "text/plain": [
       "  TSM_Bin Visit prob      SE         df  null z.ratio    p.value     \n",
       "1 0-30    2     0.4457372 0.07124338 Inf 0.5  -0.7556594 4.498534e-01\n",
       "2 30-60   2     0.5545014 0.07129924 Inf 0.5   0.7583338 4.482512e-01\n",
       "3 0-30    3     0.5585238 0.07172530 Inf 0.5   0.8084703 4.188199e-01\n",
       "4 30-60   3     0.6619413 0.06658272 Inf 0.5   2.2583532 2.392365e-02\n",
       "5 0-30    4     0.6936033 0.06635209 Inf 0.5   2.6168150 8.875444e-03\n",
       "6 30-60   4     0.7779577 0.05615913 Inf 0.5   3.8565681 1.149901e-04\n",
       "7 0-30    5     0.7109284 0.06516294 Inf 0.5   2.8380730 4.538680e-03\n",
       "8 30-60   5     0.7919437 0.05447121 Inf 0.5   4.0433014 5.270381e-05"
      ]
     },
     "metadata": {},
     "output_type": "display_data"
    }
   ],
   "source": [
    "meanobj = emmeans(mod7, ~TSM_Bin * Visit, type = \"response\")\n",
    "test(meanobj)"
   ]
  },
  {
   "cell_type": "markdown",
   "id": "fb4a35d1",
   "metadata": {},
   "source": [
    "All visits/time since marking combinations are significantly different than chance (50%) except for:\n",
    "- Visit 2: 0-30 & 30-60\n",
    "- Visit 3: 0-30\n",
    "\n",
    "It is interesting to note that all probabilities associated with visits at 30-60 minutes after marking are higher than their 0-30 counterparts - though this is likely not significant."
   ]
  },
  {
   "cell_type": "code",
   "execution_count": 40,
   "id": "a91e65e8",
   "metadata": {},
   "outputs": [
    {
     "data": {
      "text/html": [
       "<table class=\"dataframe\">\n",
       "<caption>A summary_emm: 2 × 7</caption>\n",
       "<thead>\n",
       "\t<tr><th></th><th scope=col>Solution</th><th scope=col>prob</th><th scope=col>SE</th><th scope=col>df</th><th scope=col>null</th><th scope=col>z.ratio</th><th scope=col>p.value</th></tr>\n",
       "\t<tr><th></th><th scope=col>&lt;fct&gt;</th><th scope=col>&lt;dbl&gt;</th><th scope=col>&lt;dbl&gt;</th><th scope=col>&lt;dbl&gt;</th><th scope=col>&lt;dbl&gt;</th><th scope=col>&lt;dbl&gt;</th><th scope=col>&lt;dbl&gt;</th></tr>\n",
       "</thead>\n",
       "<tbody>\n",
       "\t<tr><th scope=row>1</th><td>Control     </td><td>0.6577041</td><td>0.04425346</td><td>Inf</td><td>0.5</td><td>3.322393</td><td>0.0008924898</td></tr>\n",
       "\t<tr><th scope=row>2</th><td>0.734mM GABA</td><td>0.6571897</td><td>0.04392449</td><td>Inf</td><td>0.5</td><td>3.337969</td><td>0.0008439313</td></tr>\n",
       "</tbody>\n",
       "</table>\n"
      ],
      "text/latex": [
       "A summary\\_emm: 2 × 7\n",
       "\\begin{tabular}{r|lllllll}\n",
       "  & Solution & prob & SE & df & null & z.ratio & p.value\\\\\n",
       "  & <fct> & <dbl> & <dbl> & <dbl> & <dbl> & <dbl> & <dbl>\\\\\n",
       "\\hline\n",
       "\t1 & Control      & 0.6577041 & 0.04425346 & Inf & 0.5 & 3.322393 & 0.0008924898\\\\\n",
       "\t2 & 0.734mM GABA & 0.6571897 & 0.04392449 & Inf & 0.5 & 3.337969 & 0.0008439313\\\\\n",
       "\\end{tabular}\n"
      ],
      "text/markdown": [
       "\n",
       "A summary_emm: 2 × 7\n",
       "\n",
       "| <!--/--> | Solution &lt;fct&gt; | prob &lt;dbl&gt; | SE &lt;dbl&gt; | df &lt;dbl&gt; | null &lt;dbl&gt; | z.ratio &lt;dbl&gt; | p.value &lt;dbl&gt; |\n",
       "|---|---|---|---|---|---|---|---|\n",
       "| 1 | Control      | 0.6577041 | 0.04425346 | Inf | 0.5 | 3.322393 | 0.0008924898 |\n",
       "| 2 | 0.734mM GABA | 0.6571897 | 0.04392449 | Inf | 0.5 | 3.337969 | 0.0008439313 |\n",
       "\n"
      ],
      "text/plain": [
       "  Solution     prob      SE         df  null z.ratio  p.value     \n",
       "1 Control      0.6577041 0.04425346 Inf 0.5  3.322393 0.0008924898\n",
       "2 0.734mM GABA 0.6571897 0.04392449 Inf 0.5  3.337969 0.0008439313"
      ]
     },
     "metadata": {},
     "output_type": "display_data"
    },
    {
     "data": {
      "text/plain": [
       " contrast               odds.ratio    SE  df null z.ratio p.value\n",
       " Control / 0.734mM GABA          1 0.272 Inf    1   0.008  0.9933\n",
       "\n",
       "Results are averaged over the levels of: Reward_Side, TSM_Bin, Visit \n",
       "Tests are performed on the log odds ratio scale "
      ]
     },
     "metadata": {},
     "output_type": "display_data"
    }
   ],
   "source": [
    "meanobj = emmeans(mod7, ~Solution, type = \"response\")\n",
    "test(meanobj)\n",
    "pairs(meanobj, adjust = \"bonferroni\")"
   ]
  },
  {
   "cell_type": "markdown",
   "id": "64c68b9a",
   "metadata": {},
   "source": [
    "There was **no significant difference between control and 0.734mM GABA** solutions suggesting GABA has little to no effect on the ants ability to associate a reward with a side of the Y-maze."
   ]
  },
  {
   "cell_type": "code",
   "execution_count": 41,
   "id": "37948ae7",
   "metadata": {
    "scrolled": true
   },
   "outputs": [
    {
     "data": {
      "text/html": [
       "<table class=\"dataframe\">\n",
       "<caption>A summary_emm: 1 × 7</caption>\n",
       "<thead>\n",
       "\t<tr><th></th><th scope=col>1</th><th scope=col>prob</th><th scope=col>SE</th><th scope=col>df</th><th scope=col>null</th><th scope=col>z.ratio</th><th scope=col>p.value</th></tr>\n",
       "\t<tr><th></th><th scope=col>&lt;fct&gt;</th><th scope=col>&lt;dbl&gt;</th><th scope=col>&lt;dbl&gt;</th><th scope=col>&lt;dbl&gt;</th><th scope=col>&lt;dbl&gt;</th><th scope=col>&lt;dbl&gt;</th><th scope=col>&lt;dbl&gt;</th></tr>\n",
       "</thead>\n",
       "<tbody>\n",
       "\t<tr><th scope=row>1</th><td>overall</td><td>0.6574469</td><td>0.0318234</td><td>Inf</td><td>0.5</td><td>4.613684</td><td>3.955943e-06</td></tr>\n",
       "</tbody>\n",
       "</table>\n"
      ],
      "text/latex": [
       "A summary\\_emm: 1 × 7\n",
       "\\begin{tabular}{r|lllllll}\n",
       "  & 1 & prob & SE & df & null & z.ratio & p.value\\\\\n",
       "  & <fct> & <dbl> & <dbl> & <dbl> & <dbl> & <dbl> & <dbl>\\\\\n",
       "\\hline\n",
       "\t1 & overall & 0.6574469 & 0.0318234 & Inf & 0.5 & 4.613684 & 3.955943e-06\\\\\n",
       "\\end{tabular}\n"
      ],
      "text/markdown": [
       "\n",
       "A summary_emm: 1 × 7\n",
       "\n",
       "| <!--/--> | 1 &lt;fct&gt; | prob &lt;dbl&gt; | SE &lt;dbl&gt; | df &lt;dbl&gt; | null &lt;dbl&gt; | z.ratio &lt;dbl&gt; | p.value &lt;dbl&gt; |\n",
       "|---|---|---|---|---|---|---|---|\n",
       "| 1 | overall | 0.6574469 | 0.0318234 | Inf | 0.5 | 4.613684 | 3.955943e-06 |\n",
       "\n"
      ],
      "text/plain": [
       "  1       prob      SE        df  null z.ratio  p.value     \n",
       "1 overall 0.6574469 0.0318234 Inf 0.5  4.613684 3.955943e-06"
      ]
     },
     "metadata": {},
     "output_type": "display_data"
    }
   ],
   "source": [
    "meanobj = emmeans(mod7, ~1, type = \"response\")\n",
    "test(meanobj)"
   ]
  },
  {
   "cell_type": "markdown",
   "id": "d9f9483a",
   "metadata": {},
   "source": [
    "Overall, the ants successfully associated the presence of a reward with a side of the Y-maze with a **66%** success rate, a percentage significantly different from chance level (50%)."
   ]
  },
  {
   "cell_type": "code",
   "execution_count": 42,
   "id": "23c002cc",
   "metadata": {},
   "outputs": [
    {
     "data": {
      "text/plain": [
       "R version 4.1.0 (2021-05-18)\n",
       "Platform: x86_64-apple-darwin17.0 (64-bit)\n",
       "Running under: macOS Big Sur 10.16\n",
       "\n",
       "Matrix products: default\n",
       "BLAS:   /Library/Frameworks/R.framework/Versions/4.1/Resources/lib/libRblas.dylib\n",
       "LAPACK: /Library/Frameworks/R.framework/Versions/4.1/Resources/lib/libRlapack.dylib\n",
       "\n",
       "locale:\n",
       "[1] C/UTF-8/C/C/C/C\n",
       "\n",
       "attached base packages:\n",
       "[1] stats     graphics  grDevices utils     datasets  methods   base     \n",
       "\n",
       "other attached packages:\n",
       "[1] emmeans_1.7.3  car_3.0-12     carData_3.0-5  DHARMa_0.4.5   lme4_1.1-27.1 \n",
       "[6] Matrix_1.3-3   reshape2_1.4.4\n",
       "\n",
       "loaded via a namespace (and not attached):\n",
       " [1] gap_1.2.3-1         Rcpp_1.0.7          pillar_1.6.3       \n",
       " [4] compiler_4.1.0      nloptr_1.2.2.2      plyr_1.8.7         \n",
       " [7] base64enc_0.1-3     tools_4.1.0         boot_1.3-28        \n",
       "[10] digest_0.6.28       uuid_0.1-4          jsonlite_1.7.2     \n",
       "[13] evaluate_0.14       lifecycle_1.0.1     nlme_3.1-152       \n",
       "[16] lattice_0.20-44     rlang_0.4.11        IRdisplay_1.0      \n",
       "[19] IRkernel_1.2.0.9000 mvtnorm_1.1-3       fastmap_1.1.0      \n",
       "[22] coda_0.19-4         repr_1.1.3          stringr_1.4.0      \n",
       "[25] vctrs_0.3.8         grid_4.1.0          fansi_0.5.0        \n",
       "[28] pbdZMQ_0.3-5        minqa_1.2.4         magrittr_2.0.1     \n",
       "[31] ellipsis_0.3.2      htmltools_0.5.2     splines_4.1.0      \n",
       "[34] MASS_7.3-54         abind_1.4-5         xtable_1.8-4       \n",
       "[37] utf8_1.2.2          estimability_1.3    stringi_1.7.4      \n",
       "[40] crayon_1.4.1       "
      ]
     },
     "metadata": {},
     "output_type": "display_data"
    }
   ],
   "source": [
    "sessionInfo()"
   ]
  }
 ],
 "metadata": {
  "kernelspec": {
   "display_name": "R",
   "language": "R",
   "name": "ir"
  },
  "language_info": {
   "codemirror_mode": "r",
   "file_extension": ".r",
   "mimetype": "text/x-r-source",
   "name": "R",
   "pygments_lexer": "r",
   "version": "4.1.0"
  }
 },
 "nbformat": 4,
 "nbformat_minor": 5
}
