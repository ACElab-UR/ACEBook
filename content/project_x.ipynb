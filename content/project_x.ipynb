{
 "cells": [
  {
   "cell_type": "markdown",
   "id": "782fd1e5",
   "metadata": {},
   "source": [
    "# Project X\n",
    "<hr style=\"border:2px solid gray\"> </hr>\n",
    "\n",
    "**Author:** X | x@ur.de\n",
    "\n",
    "**Last Updated:** X XXXX"
   ]
  },
  {
   "cell_type": "markdown",
   "id": "a008668c",
   "metadata": {},
   "source": [
    "```{admonition} Questions\n",
    ":class: tip\n",
    "> **Does X?**\n",
    ">> Do?\n",
    ">>> Do?\n",
    "```"
   ]
  },
  {
   "cell_type": "markdown",
   "id": "bfe4740a",
   "metadata": {},
   "source": [
    "## Load Packages & Data"
   ]
  },
  {
   "cell_type": "code",
   "execution_count": 1,
   "id": "1af409eb",
   "metadata": {
    "scrolled": false
   },
   "outputs": [
    {
     "name": "stderr",
     "output_type": "stream",
     "text": [
      "Loading required package: lme4\n",
      "\n",
      "Loading required package: Matrix\n",
      "\n"
     ]
    },
    {
     "data": {
      "text/html": [
       "<table>\n",
       "<caption>A data.frame: 3 × 14</caption>\n",
       "<thead>\n",
       "\t<tr><th></th><th scope=col>Collection_Date</th><th scope=col>Time_Collection</th><th scope=col>Experimentor</th><th scope=col>Colony_Origin</th><th scope=col>Starvation_Period</th><th scope=col>Scent_Box</th><th scope=col>Donor_Colony</th><th scope=col>Recipient_Colony</th><th scope=col>First_Visit_Solution</th><th scope=col>First_Visit_Odour_Flavour</th><th scope=col>N_Visits</th><th scope=col>Side_First_Visit_Solution</th><th scope=col>Initial_Decision</th><th scope=col>Final_Decision</th></tr>\n",
       "\t<tr><th></th><th scope=col>&lt;fct&gt;</th><th scope=col>&lt;fct&gt;</th><th scope=col>&lt;fct&gt;</th><th scope=col>&lt;fct&gt;</th><th scope=col>&lt;fct&gt;</th><th scope=col>&lt;fct&gt;</th><th scope=col>&lt;int&gt;</th><th scope=col>&lt;int&gt;</th><th scope=col>&lt;fct&gt;</th><th scope=col>&lt;fct&gt;</th><th scope=col>&lt;int&gt;</th><th scope=col>&lt;fct&gt;</th><th scope=col>&lt;fct&gt;</th><th scope=col>&lt;fct&gt;</th></tr>\n",
       "</thead>\n",
       "<tbody>\n",
       "\t<tr><th scope=row>1</th><td>09/06/2021</td><td>09:00-12:00</td><td>Henrique</td><td>11th May - Portugal</td><td>4-days</td><td>A3+S4</td><td>16</td><td>13</td><td>1M sucrose + 2000ppm caffeine</td><td>Strawberry</td><td>4</td><td>R</td><td>R</td><td>R</td></tr>\n",
       "\t<tr><th scope=row>2</th><td>14/06/2021</td><td>10:15-12:00</td><td>Henrique</td><td>9th April - Spain  </td><td>4-days</td><td>A2+S2</td><td> 2</td><td> 7</td><td>1M sucrose                   </td><td>Apple     </td><td>4</td><td>L</td><td>L</td><td>L</td></tr>\n",
       "\t<tr><th scope=row>3</th><td>14/06/2021</td><td>10:15-12:00</td><td>Henrique</td><td>9th April - Spain  </td><td>4-days</td><td>A2+S2</td><td> 2</td><td> 7</td><td>1M sucrose                   </td><td>Apple     </td><td>4</td><td>R</td><td>R</td><td>R</td></tr>\n",
       "</tbody>\n",
       "</table>\n"
      ],
      "text/latex": [
       "A data.frame: 3 × 14\n",
       "\\begin{tabular}{r|llllllllllllll}\n",
       "  & Collection\\_Date & Time\\_Collection & Experimentor & Colony\\_Origin & Starvation\\_Period & Scent\\_Box & Donor\\_Colony & Recipient\\_Colony & First\\_Visit\\_Solution & First\\_Visit\\_Odour\\_Flavour & N\\_Visits & Side\\_First\\_Visit\\_Solution & Initial\\_Decision & Final\\_Decision\\\\\n",
       "  & <fct> & <fct> & <fct> & <fct> & <fct> & <fct> & <int> & <int> & <fct> & <fct> & <int> & <fct> & <fct> & <fct>\\\\\n",
       "\\hline\n",
       "\t1 & 09/06/2021 & 09:00-12:00 & Henrique & 11th May - Portugal & 4-days & A3+S4 & 16 & 13 & 1M sucrose + 2000ppm caffeine & Strawberry & 4 & R & R & R\\\\\n",
       "\t2 & 14/06/2021 & 10:15-12:00 & Henrique & 9th April - Spain   & 4-days & A2+S2 &  2 &  7 & 1M sucrose                    & Apple      & 4 & L & L & L\\\\\n",
       "\t3 & 14/06/2021 & 10:15-12:00 & Henrique & 9th April - Spain   & 4-days & A2+S2 &  2 &  7 & 1M sucrose                    & Apple      & 4 & R & R & R\\\\\n",
       "\\end{tabular}\n"
      ],
      "text/markdown": [
       "\n",
       "A data.frame: 3 × 14\n",
       "\n",
       "| <!--/--> | Collection_Date &lt;fct&gt; | Time_Collection &lt;fct&gt; | Experimentor &lt;fct&gt; | Colony_Origin &lt;fct&gt; | Starvation_Period &lt;fct&gt; | Scent_Box &lt;fct&gt; | Donor_Colony &lt;int&gt; | Recipient_Colony &lt;int&gt; | First_Visit_Solution &lt;fct&gt; | First_Visit_Odour_Flavour &lt;fct&gt; | N_Visits &lt;int&gt; | Side_First_Visit_Solution &lt;fct&gt; | Initial_Decision &lt;fct&gt; | Final_Decision &lt;fct&gt; |\n",
       "|---|---|---|---|---|---|---|---|---|---|---|---|---|---|---|\n",
       "| 1 | 09/06/2021 | 09:00-12:00 | Henrique | 11th May - Portugal | 4-days | A3+S4 | 16 | 13 | 1M sucrose + 2000ppm caffeine | Strawberry | 4 | R | R | R |\n",
       "| 2 | 14/06/2021 | 10:15-12:00 | Henrique | 9th April - Spain   | 4-days | A2+S2 |  2 |  7 | 1M sucrose                    | Apple      | 4 | L | L | L |\n",
       "| 3 | 14/06/2021 | 10:15-12:00 | Henrique | 9th April - Spain   | 4-days | A2+S2 |  2 |  7 | 1M sucrose                    | Apple      | 4 | R | R | R |\n",
       "\n"
      ],
      "text/plain": [
       "  Collection_Date Time_Collection Experimentor Colony_Origin      \n",
       "1 09/06/2021      09:00-12:00     Henrique     11th May - Portugal\n",
       "2 14/06/2021      10:15-12:00     Henrique     9th April - Spain  \n",
       "3 14/06/2021      10:15-12:00     Henrique     9th April - Spain  \n",
       "  Starvation_Period Scent_Box Donor_Colony Recipient_Colony\n",
       "1 4-days            A3+S4     16           13              \n",
       "2 4-days            A2+S2      2            7              \n",
       "3 4-days            A2+S2      2            7              \n",
       "  First_Visit_Solution          First_Visit_Odour_Flavour N_Visits\n",
       "1 1M sucrose + 2000ppm caffeine Strawberry                4       \n",
       "2 1M sucrose                    Apple                     4       \n",
       "3 1M sucrose                    Apple                     4       \n",
       "  Side_First_Visit_Solution Initial_Decision Final_Decision\n",
       "1 R                         R                R             \n",
       "2 L                         L                L             \n",
       "3 R                         R                R             "
      ]
     },
     "metadata": {},
     "output_type": "display_data"
    }
   ],
   "source": [
    "#require(package)\n",
    "\n",
    "data = read.csv(\"./Data/Project_X/sample.csv\", header = TRUE, stringsAsFactors = TRUE)\n",
    "head(data, n = 3) # Check the data was correctly loaded"
   ]
  }
 ],
 "metadata": {
  "kernelspec": {
   "display_name": "R",
   "language": "R",
   "name": "ir"
  },
  "language_info": {
   "codemirror_mode": "r",
   "file_extension": ".r",
   "mimetype": "text/x-r-source",
   "name": "R",
   "pygments_lexer": "r",
   "version": "4.0.0"
  }
 },
 "nbformat": 4,
 "nbformat_minor": 5
}
